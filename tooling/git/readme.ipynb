{
 "cells": [
  {
   "cell_type": "markdown",
   "id": "dd75ad40",
   "metadata": {},
   "source": [
    "# Git related things"
   ]
  },
  {
   "cell_type": "markdown",
   "id": "21e9ae1e",
   "metadata": {},
   "source": [
    "## Git Ugly"
   ]
  },
  {
   "cell_type": "markdown",
   "id": "a6e599a5",
   "metadata": {},
   "source": [
    "![gitpretty.png](gitpretty.png)"
   ]
  },
  {
   "cell_type": "markdown",
   "id": "e4bf423c",
   "metadata": {},
   "source": [
    "## Reading List"
   ]
  },
  {
   "cell_type": "markdown",
   "id": "55578f14",
   "metadata": {},
   "source": [
    "* [Start Using Git on the Command Line Like a Pro in Five Minutes](https://medium.com/better-programming/start-using-git-on-the-command-line-like-a-pro-in-5-minutes-36a6e0007e9f)\n",
    "* [Git CLI tips and tricks to be more productive](https://www.codementor.io/@kpunith8/git-cli-tips-and-tricks-to-be-more-productive-1a3pb4fyvn)\n",
    "* https://github.com/tj/git-extras\n",
    "* https://ndpsoftware.com/git-cheatsheet.html"
   ]
  },
  {
   "cell_type": "markdown",
   "id": "748f3605",
   "metadata": {},
   "source": [
    "## How To's"
   ]
  },
  {
   "cell_type": "markdown",
   "id": "71f8d5cb",
   "metadata": {},
   "source": [
    "### [Creating Orphaned branches](https://stackoverflow.com/questions/1384325)"
   ]
  },
  {
   "cell_type": "markdown",
   "id": "82b03d84",
   "metadata": {},
   "source": [
    "```bash\n",
    "git checkout --orphan gh-pages\n",
    "git rm -rf .\n",
    "<do work>\n",
    "git add your files\n",
    "git commit -m 'Initial commit'\n",
    "```"
   ]
  },
  {
   "cell_type": "markdown",
   "id": "9346fc16",
   "metadata": {},
   "source": [
    "### [How do I update a GitHub forked repository?](https://stackoverflow.com/q/7244321/)  "
   ]
  },
  {
   "cell_type": "markdown",
   "id": "01cf7c75",
   "metadata": {},
   "source": [
    "#### fork https://github.com/kubernetes/website\n",
    "\n",
    "```\n",
    "git clone https://github.com/butuzov/kubernetes-website .\n",
    "# Add the remote, call it \"upstream\":\n",
    "git remote add upstream https://github.com/kubernetes/website.git\n",
    "# get updates\n",
    "git fetch upstream\n",
    "# merge updaes\n",
    "git merge upstream/master master\n",
    "# push\n",
    "git push -f origin master\n",
    "```"
   ]
  },
  {
   "cell_type": "markdown",
   "id": "d94f9839",
   "metadata": {},
   "source": [
    "#### How to see what happened to the file in path of the repo?\n",
    "\n",
    "```bash\n",
    "git log --full-history -- content/docs/examples/\n",
    "```"
   ]
  },
  {
   "cell_type": "markdown",
   "id": "f9c80d60",
   "metadata": {},
   "source": [
    "### Rabase"
   ]
  },
  {
   "cell_type": "markdown",
   "id": "ff8f6df2",
   "metadata": {},
   "source": [
    "[How to use git rebase effectively](https://www.codementor.io/@kpunith8/how-to-use-git-rebase-effectively-1a8f0o39hf)"
   ]
  },
  {
   "cell_type": "markdown",
   "id": "c37b3849",
   "metadata": {},
   "source": [
    "#### Rebase Changes from upstream into your branch"
   ]
  },
  {
   "cell_type": "markdown",
   "id": "bfa0382a",
   "metadata": {},
   "source": [
    "```\n",
    "git checkout target\n",
    "git rebase master\n",
    "```"
   ]
  },
  {
   "cell_type": "markdown",
   "id": "c8d48ea2",
   "metadata": {},
   "source": [
    "#### [Edit Old Commits](https://stackoverflow.com/questions/1186535/how-to-modify-a-specified-commit)"
   ]
  },
  {
   "cell_type": "markdown",
   "id": "aa2d0d6c",
   "metadata": {},
   "source": [
    "```bash\n",
    "git rebase --interactive 'bbc643cd^'\n",
    "# edit to commit\n",
    "git commit --all --amend\n",
    "git rebase --continue\n",
    "```"
   ]
  },
  {
   "cell_type": "markdown",
   "id": "604fa882",
   "metadata": {},
   "source": [
    "### Squash branch \n",
    "\n",
    "```bash\n",
    "git log --oneline\n",
    "git rebase -i HEAD~4\n",
    "> pick to squash\n",
    "```"
   ]
  },
  {
   "cell_type": "code",
   "execution_count": null,
   "id": "5d19a960",
   "metadata": {},
   "outputs": [],
   "source": []
  }
 ],
 "metadata": {
  "hide_input": false,
  "kernelspec": {
   "display_name": "Python 3 (ipykernel)",
   "language": "python",
   "name": "python3"
  },
  "language_info": {
   "codemirror_mode": {
    "name": "ipython",
    "version": 3
   },
   "file_extension": ".py",
   "mimetype": "text/x-python",
   "name": "python",
   "nbconvert_exporter": "python",
   "pygments_lexer": "ipython3",
   "version": "3.8.8"
  },
  "toc": {
   "base_numbering": 1,
   "nav_menu": {},
   "number_sections": true,
   "sideBar": true,
   "skip_h1_title": true,
   "title_cell": "Table of Contents",
   "title_sidebar": "Contents",
   "toc_cell": false,
   "toc_position": {},
   "toc_section_display": true,
   "toc_window_display": true
  }
 },
 "nbformat": 4,
 "nbformat_minor": 5
}
