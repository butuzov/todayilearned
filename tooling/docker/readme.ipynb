{
 "cells": [
  {
   "cell_type": "markdown",
   "id": "3307e9ba",
   "metadata": {},
   "source": [
    "# Docker"
   ]
  },
  {
   "cell_type": "markdown",
   "id": "f7fc6e22",
   "metadata": {
    "ExecuteTime": {
     "end_time": "2021-06-16T06:40:15.330279Z",
     "start_time": "2021-06-16T06:40:15.325890Z"
    }
   },
   "source": [
    "## Mac"
   ]
  },
  {
   "cell_type": "markdown",
   "id": "f434124f",
   "metadata": {},
   "source": [
    "You can download any build by placing its number in this url \n",
    "\n",
    "```shell\n",
    "(arm64) https://desktop-stage.docker.com/mac/stable/arm64/$BUILD/Docker.dmg\n",
    "(amd64) https://desktop-stage.docker.com/mac/stable/amd64/$BUILD/Docker.dmg\n",
    "```\n",
    "\n",
    "So you can download any stable build (really stable) viwth correct build id"
   ]
  },
  {
   "cell_type": "markdown",
   "id": "d3cb4a08",
   "metadata": {},
   "source": [
    "### Builds IDs:\n",
    "\n",
    "  * `v3.3.1` - `63345`\n",
    "  * `v3.3.3` - `64133`"
   ]
  },
  {
   "cell_type": "code",
   "execution_count": null,
   "id": "ecda695b",
   "metadata": {},
   "outputs": [],
   "source": []
  }
 ],
 "metadata": {
  "hide_input": false,
  "kernelspec": {
   "display_name": "Python 3",
   "language": "python",
   "name": "python3"
  },
  "language_info": {
   "codemirror_mode": {
    "name": "ipython",
    "version": 3
   },
   "file_extension": ".py",
   "mimetype": "text/x-python",
   "name": "python",
   "nbconvert_exporter": "python",
   "pygments_lexer": "ipython3",
   "version": "3.8.8"
  },
  "toc": {
   "base_numbering": 1,
   "nav_menu": {},
   "number_sections": false,
   "sideBar": true,
   "skip_h1_title": true,
   "title_cell": "Table of Contents",
   "title_sidebar": "Contents",
   "toc_cell": false,
   "toc_position": {},
   "toc_section_display": true,
   "toc_window_display": false
  }
 },
 "nbformat": 4,
 "nbformat_minor": 5
}
