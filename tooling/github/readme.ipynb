{
 "cells": [
  {
   "cell_type": "markdown",
   "id": "bc40f431",
   "metadata": {},
   "source": [
    "# GitHub "
   ]
  },
  {
   "cell_type": "markdown",
   "id": "4dc05624",
   "metadata": {},
   "source": [
    "## Usage of `GITHUB_TOKEN` "
   ]
  },
  {
   "cell_type": "markdown",
   "id": "8a878157",
   "metadata": {},
   "source": [
    "```shell\n",
    "git pull https://${{ secrets.GIT_TOKEN }}:x-oauth-basic@github.com/susomejias/portfolio.git master\n",
    "\n",
    "# more actuall usage....\n",
    "\n",
    "git init\n",
    "git remote add origin https://${{ secrets.GIT_TOKEN }}:x-oauth-basic@github.com/$user/$repo.git\n",
    "git pull \n",
    "...\n",
    "git add -A\n",
    "git commit --allow-empty -m \"${DEST_MESSAGE}\"\n",
    "git push -q origin master\n",
    "```"
   ]
  },
  {
   "cell_type": "markdown",
   "id": "f1eefa67",
   "metadata": {},
   "source": [
    "## 3rd Party Tools"
   ]
  },
  {
   "cell_type": "markdown",
   "id": "cf61047d",
   "metadata": {},
   "source": [
    "* [Compare Stars of different proejcts](https://star-history.t9t.io/#lib/pq&jackc/pgx)\n",
    "* https://gitstar-ranking.com/"
   ]
  },
  {
   "cell_type": "markdown",
   "id": "921dd4f7",
   "metadata": {},
   "source": [
    "## Code Reviews"
   ]
  },
  {
   "cell_type": "markdown",
   "id": "ff32cfd8",
   "metadata": {},
   "source": [
    "1. [Embeding code snippets](https://github.blog/2017-08-15-introducing-embedded-code-snippets/)\n",
    "3. butuzov/deadlinks#76 to issue\n",
    "4. @butuzov user itself \n",
    "5. suggestions\n",
    "\n",
    "   \n",
    "      ```suggestion\n",
    "      code goes here.\n",
    "      ```\n",
    " "
   ]
  },
  {
   "cell_type": "markdown",
   "id": "a9f51014",
   "metadata": {},
   "source": [
    "## Search\n",
    "\n",
    "https://github.com/search\n",
    "\n",
    "Most of tips can be found on [official page](https://help.github.com/articles/searching-code/).\n",
    "\n",
    " Keyword        | Description           | Example\n",
    "----------------|-----------------------|----------------------------\n",
    "`filename`      | Search by Filename    | `filename:serverless.yml`\n",
    "`in:file`       | Search in Files       | `in:file func main`\n",
    "`in:path`       | Search in Path        | `in:path tips.pdf`\n",
    "`extension:pdf` | Search by Extension   | `in:path extension:pdf tips`\n"
   ]
  },
  {
   "cell_type": "markdown",
   "id": "726220d7",
   "metadata": {},
   "source": [
    "### Humans Search\n"
   ]
  },
  {
   "cell_type": "markdown",
   "id": "f7cefbc1",
   "metadata": {
    "ExecuteTime": {
     "end_time": "2021-06-10T08:47:05.487289Z",
     "start_time": "2021-06-10T08:47:05.481109Z"
    }
   },
   "source": [
    "Original Code posted by Denis Dinkevich in telegram sourcing comunity.\n",
    "\n",
    "[github.bookmarkelet.js](github.bookmarkelet.js)\n"
   ]
  },
  {
   "cell_type": "code",
   "execution_count": null,
   "id": "00f9c4ac",
   "metadata": {},
   "outputs": [],
   "source": []
  }
 ],
 "metadata": {
  "hide_input": false,
  "kernelspec": {
   "display_name": "Python 3",
   "language": "python",
   "name": "python3"
  },
  "language_info": {
   "codemirror_mode": {
    "name": "ipython",
    "version": 3
   },
   "file_extension": ".py",
   "mimetype": "text/x-python",
   "name": "python",
   "nbconvert_exporter": "python",
   "pygments_lexer": "ipython3",
   "version": "3.8.8"
  },
  "toc": {
   "base_numbering": 1,
   "nav_menu": {},
   "number_sections": false,
   "sideBar": true,
   "skip_h1_title": true,
   "title_cell": "Table of Contents",
   "title_sidebar": "Contents",
   "toc_cell": false,
   "toc_position": {},
   "toc_section_display": true,
   "toc_window_display": true
  }
 },
 "nbformat": 4,
 "nbformat_minor": 5
}
