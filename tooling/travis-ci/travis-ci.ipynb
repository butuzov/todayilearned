{
 "cells": [
  {
   "cell_type": "markdown",
   "metadata": {},
   "source": [
    "![](travis-ci.svg)"
   ]
  },
  {
   "cell_type": "markdown",
   "metadata": {},
   "source": [
    "# Travis_CI"
   ]
  },
  {
   "cell_type": "markdown",
   "metadata": {},
   "source": [
    "Free for OpenSource CI/CD platform"
   ]
  },
  {
   "cell_type": "markdown",
   "metadata": {},
   "source": [
    "## Branches\n",
    "\n",
    "Its possible to limit travis ci only for specific branches:\n",
    "\n",
    "```yaml\n",
    "branches:\n",
    "  only:\n",
    "    - 'master'             # Master Branch\n",
    "    - '/^5\\.[0-9]+$/'      # Number based 5.0\n",
    "```"
   ]
  },
  {
   "cell_type": "markdown",
   "metadata": {},
   "source": [
    "## Environment\n",
    "\n",
    "  VARIABLE            | Values\n",
    "----------------------|-------------\n",
    " `TRAVIS_BUILD_NUMBER`| number\n",
    " `TRAVIS_OS_NAME`     | string (os name)\n",
    " `TRAVIS_COMMIT`      | sha hash\n",
    " `TRAVIS_BRANCH`      | string (branch)\n",
    " `TRAVIS_BUILD_DIR`   | string (directory)\n",
    " `TRAVIS_REPO_SLUG`   | string (repo)\n",
    " `TRAVIS_PULL_REQUEST`| string (\"true\" or \"false\")\n"
   ]
  },
  {
   "cell_type": "markdown",
   "metadata": {},
   "source": [
    "## TODO - Build Matrixes"
   ]
  },
  {
   "cell_type": "markdown",
   "metadata": {},
   "source": [
    "```yaml\n",
    "matrix:\n",
    "  include:\n",
    "  - os: linux\n",
    "    language: c\n",
    "    dist: trusty\n",
    "    sudo: required\n",
    "  - os: osx\n",
    "    language: objective-c\n",
    "    osx_image: xcode8.3\n",
    "    env:\n",
    "    - SIMULATOR=true\n",
    "\n",
    "```"
   ]
  },
  {
   "cell_type": "markdown",
   "metadata": {},
   "source": [
    "## TODO - Jobs and Stages"
   ]
  },
  {
   "cell_type": "markdown",
   "metadata": {},
   "source": [
    "## TODO - Continues Deployment"
   ]
  },
  {
   "cell_type": "markdown",
   "metadata": {},
   "source": [
    "## Notifications\n",
    "\n",
    "-  https://docs.travis-ci.com/user/notifications/"
   ]
  },
  {
   "cell_type": "markdown",
   "metadata": {},
   "source": [
    "### Email:\n",
    "\n",
    "Disable Any Email Messages:\n",
    "\n",
    "```yaml\n",
    "notifications:\n",
    "  email: false\n",
    "```\n",
    "\n",
    "Other Possible Settings\n",
    "\n",
    "```yaml\n",
    "notifications:\n",
    "  email:\n",
    "    recipients:\n",
    "    - one@example.com \n",
    "    on_success: change # default: always\n",
    "    on_failure: always # default: always\n",
    "    on_start: change   # default: never\n",
    "    on_cancel: always  # default: always\n",
    "    on_error: always   # default: always\n",
    "```"
   ]
  },
  {
   "cell_type": "markdown",
   "metadata": {},
   "source": [
    "### Telegram\n",
    "\n",
    "* bot: `@travisci_build_bot`\n",
    "\n",
    "```yaml\n",
    "notifications:\n",
    "  webhooks: https://fathomless-fjord-24024.herokuapp.com/notify\n",
    "```"
   ]
  },
  {
   "cell_type": "markdown",
   "metadata": {},
   "source": [
    "### Slack\n",
    "\n",
    "* Formating: https://api.slack.com/docs/message-formatting\n",
    "* Settings: https://docs.travis-ci.com/user/notifications/#configuring-slack-notifications\n",
    "\n",
    "```yaml\n",
    "notifications:\n",
    "  slack:\n",
    "    rooms:\n",
    "      - made-ua:XGUkOpb0PsEuqmm0CvHaNfPk#builds\n",
    "    template:\n",
    "      - '*%{repository_slug}@%{branch}*<%{compare_url}|#%{commit}> (_%{author}_) - <%{build_url}|Travis CI: Build #%{build_number}>'\n",
    "      - '*Title:* %{commit_message}'\n",
    "      - '----------------------------------------------------------------------- '\n",
    "      - '(`%{build_id}` is `%{result}`) _%{message}_ in `%{elapsed_time}`'\n",
    "\n",
    "```"
   ]
  },
  {
   "cell_type": "markdown",
   "metadata": {},
   "source": [
    "## Encryption (PyPi API Keys)"
   ]
  },
  {
   "cell_type": "markdown",
   "metadata": {
    "ExecuteTime": {
     "end_time": "2019-10-06T11:08:27.149415Z",
     "start_time": "2019-10-06T11:08:27.143366Z"
    }
   },
   "source": [
    "```bash\n",
    "# first login to github (using token)\n",
    "> travis login --org --github-token 07cc694b9b3fc636710fa08b6922c42b7abd6ff0\n",
    "Successfully logged in as butuzov!\n",
    "\n",
    "> travis encrypt --org pypi-auth-key/pass\n",
    "\n",
    "Please add the following to your .travis.yml file:\n",
    "\n",
    "  secure: \"0JPQvtGA0ZbQu9CwINGB0L7RgdC90LAsINC/0LDQu9Cw0LvQsCwK0J/RltC0INC90LXRjiDQtNGW0LLQutCwINGB0YLQvtGP0LvQsC4KCtCf0ZbQtCDQvdC10Y4g0LTRltCy0LrQsCDRgdGC0L7Rj9C70LAsCtCg0YPRgdGP0LLRgyDQutC+0YHRgyDRh9C10YHQsNC70LAuCgrigJMg0J7QuSDQutC+0YHQuCwg0LrQvtGB0Lgg0LLQuCDQvNC+0ZcsCtCU0L7QstCz0L4g0YHQu9GD0LbQuNC70Lgg0LLQuCDQvNC10L3Rli4KCtCR0ZbQu9GM0YjQtSDRgdC70YPQttC40YLRjCDQvdC1INCx0YPQtNC10YLQtSwK0J/RltC0INCx0ZbQu9C40Lkg0LLQtdC70YzQvtC9INC/0ZbQtNC10YLQtS4KCtCf0ZbQtCDQsdGW0LvQuNC5INCy0LXQu9GM0L7QvSwg0L/RltC0INGF0YPRgdGC0LrRgywK0JHRltC70YzRiCDQvdC1INC/0ZbQtNC10YLQtSDQt9CwINC00YDRg9C20LrRgy4KCtCf0ZbQtCDQsdGW0LvQuNC5INCy0LXQu9GM0L7QvSDQtyDQutGW0L3RhtGP0LzQuCwK0JHRltC70YzRiCDQvdC1INC/0ZbQtNC10YLQtSDQtyDRhdC70L7Qv9GG0Y/QvNC4LgoK0JPQvtGA0ZbQu9CwINGB0L7RgdC90LAsINGB0LzQtdGA0LXQutCwLArQodC/0L7QtNC+0LHQsNCy0YHRjCDRhdC70L7Qv9C10YbRjCDQt9C00LDQu9C10LrQsC4KCtCh0L/QvtC00L7QsdCw0LLRgdGMINGF0LvQvtC/0LXRhtGMINGC0LAg0Lkg0L3QsNCy0ZbQuiwK0KLQtdC/0LXRgCDQstC20LUg0LLRltC9INC80ZbQuSDRh9C+0LvQvtCy0ZbQui4=\"\n",
    "  \n",
    "```\n",
    "\n",
    "and `.travis.yml` will look like this...\n",
    "\n",
    "```yaml\n",
    "...\n",
    "jobs:\n",
    "  include:\n",
    "    - stage: deploy\n",
    "      name: \"Deploy to PyPi\"\n",
    "      python: \"3.7\"\n",
    "      script: skip\n",
    "      provider: pypi\n",
    "        user: butuzov\n",
    "        password:\n",
    "          secure: \"0JPQvtGA0ZbQu9CwINGB0L7RgdC90LAsINC/0LDQu9Cw0LvQsCwK0J/RltC0\\\n",
    "                   INC90LXRjiDQtNGW0LLQutCwINGB0YLQvtGP0LvQsC4KCtCf0ZbQtCDQvdC1\\\n",
    "                   0Y4g0LTRltCy0LrQsCDRgdGC0L7Rj9C70LAsCtCg0YPRgdGP0LLRgyDQutC+\\\n",
    "                   0YHRgyDRh9C10YHQsNC70LAuCgrigJMg0J7QuSDQutC+0YHQuCwg0LrQvtGB\\\n",
    "                   0Lgg0LLQuCDQvNC+0ZcsCtCU0L7QstCz0L4g0YHQu9GD0LbQuNC70Lgg0LLQ\\\n",
    "                   uCDQvNC10L3Rli4KCtCR0ZbQu9GM0YjQtSDRgdC70YPQttC40YLRjCDQvdC1\\\n",
    "                   INCx0YPQtNC10YLQtSwK0J/RltC0INCx0ZbQu9C40Lkg0LLQtdC70YzQvtC9\\\n",
    "                   INC/0ZbQtNC10YLQtS4KCtCf0ZbQtCDQsdGW0LvQuNC5INCy0LXQu9GM0L7Q\\\n",
    "                   vSwg0L/RltC0INGF0YPRgdGC0LrRgywK0JHRltC70YzRiCDQvdC1INC/0ZbQ\\\n",
    "                   tNC10YLQtSDQt9CwINC00YDRg9C20LrRgy4KCtCf0ZbQtCDQsdGW0LvQuNC5\\\n",
    "                   INCy0LXQu9GM0L7QvSDQtyDQutGW0L3RhtGP0LzQuCwK0JHRltC70YzRiCDQ\\\n",
    "                   vdC1INC/0ZbQtNC10YLQtSDQtyDRhdC70L7Qv9GG0Y/QvNC4LgoK0JPQvtGA\\\n",
    "                   0ZbQu9CwINGB0L7RgdC90LAsINGB0LzQtdGA0LXQutCwLArQodC/0L7QtNC+\\\n",
    "                   0LHQsNCy0YHRjCDRhdC70L7Qv9C10YbRjCDQt9C00LDQu9C10LrQsC4KCtCh\\\n",
    "                   0L/QvtC00L7QsdCw0LLRgdGMINGF0LvQvtC/0LXRhtGMINGC0LAg0Lkg0L3Q\\\n",
    "                   sNCy0ZbQuiwK0KLQtdC/0LXRgCDQstC20LUg0LLRltC9INC80ZbQuSDRh9C+\\\n",
    "                   0LvQvtCy0ZbQui4=\"\n",
    "      on:\n",
    "        branch: master\n",
    "        tags: true\n",
    "```"
   ]
  },
  {
   "cell_type": "code",
   "execution_count": null,
   "metadata": {},
   "outputs": [],
   "source": []
  }
 ],
 "metadata": {
  "hide_input": false,
  "kernelspec": {
   "display_name": "Python 3",
   "language": "python",
   "name": "python3"
  },
  "language_info": {
   "codemirror_mode": {
    "name": "ipython",
    "version": 3
   },
   "file_extension": ".py",
   "mimetype": "text/x-python",
   "name": "python",
   "nbconvert_exporter": "python",
   "pygments_lexer": "ipython3",
   "version": "3.7.4"
  },
  "toc": {
   "base_numbering": 1,
   "nav_menu": {},
   "number_sections": true,
   "sideBar": true,
   "skip_h1_title": true,
   "title_cell": "Table of Contents",
   "title_sidebar": "Contents",
   "toc_cell": false,
   "toc_position": {},
   "toc_section_display": true,
   "toc_window_display": true
  }
 },
 "nbformat": 4,
 "nbformat_minor": 2
}
