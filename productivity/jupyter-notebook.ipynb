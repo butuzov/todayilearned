{
 "cells": [
  {
   "cell_type": "markdown",
   "metadata": {},
   "source": [
    "# Jupyter Notebook\n",
    "\n",
    "Jupyter notebook, formerly known as the IPython notebook, is a flexible tool that helps you create readable analyses, as you can keep code, images, comments, formulae and plots together.\n",
    "\n",
    "* https://www.dataquest.io/blog/jupyter-notebook-tips-tricks-shortcuts/\n",
    "* https://ipython.readthedocs.io/en/stable/interactive/magics.html\n",
    "* https://www.cloudera.com/documentation/data-science-workbench/latest/topics/cdsw_jupyter.html\n",
    "* https://towardsdatascience.com/the-top-5-magic-commands-for-jupyter-notebooks-2bf0c5ae4bb8"
   ]
  },
  {
   "cell_type": "markdown",
   "metadata": {},
   "source": [
    "## Kernels"
   ]
  },
  {
   "cell_type": "markdown",
   "metadata": {},
   "source": [
    "### Clojure"
   ]
  },
  {
   "cell_type": "markdown",
   "metadata": {
    "ExecuteTime": {
     "end_time": "2019-03-12T09:25:56.106199Z",
     "start_time": "2019-03-12T09:25:56.101310Z"
    }
   },
   "source": [
    "https://github.com/clojupyter/clojupyter\n",
    "\n",
    "```bash\n",
    "brew install clojure\n",
    "```"
   ]
  },
  {
   "cell_type": "markdown",
   "metadata": {
    "ExecuteTime": {
     "end_time": "2019-03-10T11:04:08.758528Z",
     "start_time": "2019-03-10T11:04:08.632124Z"
    }
   },
   "source": [
    "### Go"
   ]
  },
  {
   "cell_type": "markdown",
   "metadata": {},
   "source": [
    "```bash\n",
    "# https://github.com/gopherdata/gophernotes\n",
    "brew install zeromq\n",
    "brew install pkg-config\n",
    "go get -u github.com/gopherdata/gophernotes\n",
    "\n",
    "# default jupyter location.\n",
    "mkdir -p ~/Library/Jupyter/kernels/gophernotes\n",
    "cp $GOPATH/src/github.com/gopherdata/gophernotes/kernel/* ~/Library/Jupyter/kernels/gophernotes\n",
    "\n",
    "# in case if it's a virtualenv\n",
    "mkdir -p $VIRTUAL_ENV/share/jupyter/kernels/gophernotes\n",
    "cp $GOPATH/src/github.com/gopherdata/gophernotes/kernel/* $VIRTUAL_ENV/share/jupyter/kernels/gophernotes\n",
    "```"
   ]
  },
  {
   "cell_type": "markdown",
   "metadata": {
    "ExecuteTime": {
     "end_time": "2019-03-10T11:14:50.601599Z",
     "start_time": "2019-03-10T11:14:50.594730Z"
    }
   },
   "source": [
    "## Extensions"
   ]
  },
  {
   "cell_type": "markdown",
   "metadata": {
    "ExecuteTime": {
     "end_time": "2019-03-10T11:44:17.811004Z",
     "start_time": "2019-03-10T11:44:17.805047Z"
    }
   },
   "source": [
    "```bash\n",
    "(venv) > pip install jupyter jupyter_contrib_nbextensions\n",
    "# autotime extension\n",
    "(venv) > jupyter contrib nbextension install --sys-prefix\n",
    "(venv) > jupyter nbextension enable codefolding/main\n",
    "(venv) > jupyter nbextension disable codefolding/main\n",
    "```"
   ]
  },
  {
   "cell_type": "markdown",
   "metadata": {},
   "source": [
    "### Autotime "
   ]
  },
  {
   "cell_type": "markdown",
   "metadata": {
    "ExecuteTime": {
     "end_time": "2019-03-10T11:16:05.129546Z",
     "start_time": "2019-03-10T11:16:05.123804Z"
    }
   },
   "source": [
    "```bash\n",
    "# Loading extension\n",
    "# pip install git+git://github.com/cpcloud/ipython-autotime\n",
    "```\n",
    "\n",
    "---\n",
    "\n",
    "```jupyter\n",
    "%load_ext autotime\n",
    "```"
   ]
  },
  {
   "cell_type": "code",
   "execution_count": 1,
   "metadata": {
    "ExecuteTime": {
     "end_time": "2019-03-17T08:52:50.945339Z",
     "start_time": "2019-03-17T08:52:50.815979Z"
    }
   },
   "outputs": [
    {
     "name": "stdout",
     "output_type": "stream",
     "text": [
      "development/  jupyter-notebook.ipynb\r\n"
     ]
    }
   ],
   "source": [
    "ls"
   ]
  },
  {
   "cell_type": "code",
   "execution_count": 2,
   "metadata": {
    "ExecuteTime": {
     "end_time": "2019-03-17T08:52:51.077328Z",
     "start_time": "2019-03-17T08:52:50.948966Z"
    }
   },
   "outputs": [
    {
     "name": "stdout",
     "output_type": "stream",
     "text": [
      "development  jupyter-notebook.ipynb\r\n"
     ]
    }
   ],
   "source": [
    "# comment\n",
    "!ls"
   ]
  },
  {
   "cell_type": "markdown",
   "metadata": {
    "ExecuteTime": {
     "end_time": "2019-03-10T11:56:07.306899Z",
     "start_time": "2019-03-10T11:56:07.301202Z"
    }
   },
   "source": [
    "\n",
    "```cell\n",
    "%load t.py\n",
    "```"
   ]
  },
  {
   "cell_type": "markdown",
   "metadata": {},
   "source": [
    "## Customizations"
   ]
  },
  {
   "cell_type": "markdown",
   "metadata": {},
   "source": [
    "### Config Directory"
   ]
  },
  {
   "cell_type": "markdown",
   "metadata": {},
   "source": [
    "Using custom directory intead `~/.jupyter/`\n",
    "\n",
    "```bash\n",
    "export JUPYTER_CONFIG_DIR=\"/location/of/the/jupyter/home\"\n",
    "```"
   ]
  },
  {
   "cell_type": "markdown",
   "metadata": {
    "ExecuteTime": {
     "end_time": "2019-03-10T11:58:57.801367Z",
     "start_time": "2019-03-10T11:58:57.794707Z"
    }
   },
   "source": [
    "### Custom CSS"
   ]
  },
  {
   "cell_type": "markdown",
   "metadata": {
    "ExecuteTime": {
     "end_time": "2019-03-10T11:59:30.232997Z",
     "start_time": "2019-03-10T11:59:30.026591Z"
    }
   },
   "source": [
    "```css\n",
    "@import url('https://fonts.googleapis.com/css?family=PT+Serif:700');\n",
    "\n",
    "/* Change code font */\n",
    ".CodeMirror pre {\n",
    "    font-family: Mensch, 'Fira Code', Monaco;\n",
    "    font-size: 10pt;\n",
    "}\n",
    "\n",
    "div.output pre{\n",
    "    font-family: Mensch, 'Fira Code', Monaco;\n",
    "    font-size: 10pt;\n",
    "}\n",
    "\n",
    "div.output_html td{\n",
    "    font-family: Mensch, 'Fira Code', Monaco;\n",
    "    font-size: 9pt;\n",
    "}\n",
    "\n",
    "div.prompt{\n",
    "    font-family: Mensch, 'Fira Code', Monaco;\n",
    "    font-size: 9pt;\n",
    "}\n",
    "\n",
    "div.completions select{\n",
    "    font-family: Mensch, 'Fira Code', Monaco;\n",
    "    font-size: 10pt;\n",
    "}\n",
    "\n",
    "div.container pre{\n",
    "    font-family: Mensch, 'Fira Code', Monaco;\n",
    "    font-size: 10pt;\n",
    "}\n",
    "\n",
    "div.tooltiptext pre{\n",
    "    font-family: Mensch, 'Fira Code', Monaco;\n",
    "    font-size: 9pt;\n",
    "}\n",
    "\n",
    "div.input_area {\n",
    "    border-color: rgba(0,0,0,0.10);\n",
    "    background: rbga(0,0,0,0.5);\n",
    "}\n",
    "\n",
    "div.text_cell_render {\n",
    "    font-family: Georgia, serif;\n",
    "    font-size: 12pt;\n",
    "    line-height: 160%;\n",
    "}\n",
    "\n",
    "div.text_cell_render code{\n",
    "    font-family: Mensch, 'Fira Code', Monaco;\n",
    "    font-size: 10pt;\n",
    "}\n",
    "\n",
    "div.text_cell_render h1,\n",
    "div.text_cell_render h2,\n",
    "div.text_cell_render h3,\n",
    "div.text_cell_render h4,\n",
    "div.text_cell_render h5,\n",
    "div.text_cell_render h6 {\n",
    "    font-family: 'PT Serif', serif;\n",
    "    font-weight: 700;\n",
    "}\n",
    "\n",
    "div.text_cell_render > h1:first-child,\n",
    "div.text_cell_render > h2:first-child,\n",
    "div.text_cell_render > h3:first-child,\n",
    "div.text_cell_render > h4:first-child,\n",
    "div.text_cell_render > h5:first-child,\n",
    "div.text_cell_render > h6:first-child {\n",
    "\theight:24pt;\n",
    "\tline-height: 24pt;\n",
    "\tmargin-top:0;\n",
    "}\n",
    "\n",
    "\n",
    ".rendered_html pre,\n",
    ".rendered_html code {\n",
    "    font-size: medium;\n",
    "}\n",
    "\n",
    ".rendered_html ol {\n",
    "    list-style:decimal;\n",
    "    margin: 1em 2em;\n",
    "}\n",
    "\n",
    ".prompt.input_prompt {\n",
    "    color: rgba(0,0,0,0.5);\n",
    "}\n",
    "\n",
    ".cell.command_mode.selected {\n",
    "    border-color: rgba(0,0,0,0.1);\n",
    "}\n",
    "\n",
    ".cell.edit_mode.selected {\n",
    "    border-color: rgba(0,0,0,0.15);\n",
    "    box-shadow: 0px 0px 5px #f0f0f0;\n",
    "    -webkit-box-shadow: 0px 0px 5px #f0f0f0;\n",
    "}\n",
    "\n",
    "div.output_scroll {\n",
    "    -webkit-box-shadow: inset 0 2px 8px rgba(0,0,0,0.1);\n",
    "    box-shadow: inset 0 2px 8px rgba(0,0,0,0.1);\n",
    "    border-radius: 2px;\n",
    "}\n",
    "\n",
    "#menubar .navbar-inner {\n",
    "    background: #fff;\n",
    "    -webkit-box-shadow: none;\n",
    "    box-shadow: none;\n",
    "    border-radius: 0;\n",
    "    border: none;\n",
    "    font-family: lato;\n",
    "    font-weight: 400;\n",
    "}\n",
    "\n",
    ".navbar-fixed-top .navbar-inner,\n",
    ".navbar-static-top .navbar-inner {\n",
    "    box-shadow: none;\n",
    "    -webkit-box-shadow: none;\n",
    "    border: none;\n",
    "}\n",
    "\n",
    "div#notebook_panel {\n",
    "    box-shadow: none;\n",
    "    -webkit-box-shadow: none;\n",
    "    border-top: none;\n",
    "}\n",
    "\n",
    "div#notebook {\n",
    "    border-top: 1px solid rgba(0,0,0,0.15);\n",
    "}\n",
    "\n",
    "#menubar .navbar .navbar-inner,\n",
    ".toolbar-inner {\n",
    "    padding-left: 0;\n",
    "    padding-right: 0;\n",
    "}\n",
    "\n",
    "#checkpoint_status,\n",
    "#autosave_status {\n",
    "    color: rgba(0,0,0,0.5);\n",
    "}\n",
    "\n",
    "\n",
    "/*\n",
    "\tMarkdown\n",
    "*/\n",
    "\n",
    ".text_cell_render.rendered_html pre {\n",
    "\tmargin:0;\n",
    "\tbackground-color: #f6f8fa;\n",
    "    border-radius: 3px;\n",
    "    font-size: 85%;\n",
    "    line-height: 1.45;\n",
    "    overflow: auto;\n",
    "\tpadding: 16px 8px;\n",
    "}\n",
    "\n",
    ".text_cell_render.rendered_html p + pre {\n",
    "\tmargin-top:16px;\n",
    "}\n",
    "\n",
    ".text_cell_render.rendered_html pre code {\n",
    "\tbackground-color: #f6f8fa;\n",
    "}\n",
    "```"
   ]
  },
  {
   "cell_type": "markdown",
   "metadata": {},
   "source": [
    "## Using Jupyter"
   ]
  },
  {
   "cell_type": "markdown",
   "metadata": {},
   "source": [
    "### Bash"
   ]
  },
  {
   "cell_type": "markdown",
   "metadata": {},
   "source": [
    "Its usefull sometimes to run pip directly from jupyter, but its generate a lot of output, so we can pipe it to `/dev/null`\n",
    "\n",
    "```bash\n",
    "# silent runs\n",
    "!pip3 install youtube-dl 2>&1 1>/dev/null\n",
    "```"
   ]
  },
  {
   "cell_type": "code",
   "execution_count": 3,
   "metadata": {
    "ExecuteTime": {
     "end_time": "2019-03-17T08:52:51.215889Z",
     "start_time": "2019-03-17T08:52:51.080717Z"
    }
   },
   "outputs": [
    {
     "name": "stdout",
     "output_type": "stream",
     "text": [
      "total 24\r\n",
      "8751403 drwxr-xr-x  5 butuzov staff   170 Mar 17 10:52 .\r\n",
      "8666048 drwxr-xr-x 16 butuzov staff   544 Mar 17 09:43 ..\r\n",
      "9025975 drwxr-xr-x  3 butuzov staff   102 Mar 17 10:48 .ipynb_checkpoints\r\n",
      "8752539 drwxr-xr-x  3 butuzov staff   102 Mar  8 10:25 development\r\n",
      "9026036 -rw-r--r--  1 butuzov staff 24566 Mar 17 10:52 jupyter-notebook.ipynb\r\n"
     ]
    }
   ],
   "source": [
    "!ls -lai"
   ]
  },
  {
   "cell_type": "code",
   "execution_count": 4,
   "metadata": {
    "ExecuteTime": {
     "end_time": "2019-03-17T08:52:51.235707Z",
     "start_time": "2019-03-17T08:52:51.219848Z"
    }
   },
   "outputs": [],
   "source": [
    "# getting output of the bash\n",
    "files = !ls -1"
   ]
  },
  {
   "cell_type": "code",
   "execution_count": 5,
   "metadata": {
    "ExecuteTime": {
     "end_time": "2019-03-17T08:52:51.253111Z",
     "start_time": "2019-03-17T08:52:51.238804Z"
    }
   },
   "outputs": [
    {
     "data": {
      "text/plain": [
       "['development', 'jupyter-notebook.ipynb']"
      ]
     },
     "execution_count": 5,
     "metadata": {},
     "output_type": "execute_result"
    }
   ],
   "source": [
    "# using it\n",
    "files"
   ]
  },
  {
   "cell_type": "markdown",
   "metadata": {},
   "source": [
    "### Autocomple Commands"
   ]
  },
  {
   "cell_type": "code",
   "execution_count": 6,
   "metadata": {
    "ExecuteTime": {
     "end_time": "2019-03-17T08:52:51.296636Z",
     "start_time": "2019-03-17T08:52:51.255927Z"
    }
   },
   "outputs": [],
   "source": [
    "# You can get a help about command by adding ? to the end of comman\n",
    "len?"
   ]
  },
  {
   "cell_type": "code",
   "execution_count": 7,
   "metadata": {
    "ExecuteTime": {
     "end_time": "2019-03-17T08:52:51.302571Z",
     "start_time": "2019-03-17T08:52:51.299191Z"
    }
   },
   "outputs": [],
   "source": [
    "def demo():\n",
    "    return 1"
   ]
  },
  {
   "cell_type": "code",
   "execution_count": 8,
   "metadata": {
    "ExecuteTime": {
     "end_time": "2019-03-17T08:52:51.313512Z",
     "start_time": "2019-03-17T08:52:51.306593Z"
    }
   },
   "outputs": [],
   "source": [
    "# source code\n",
    "demo??"
   ]
  },
  {
   "cell_type": "code",
   "execution_count": 9,
   "metadata": {
    "ExecuteTime": {
     "end_time": "2019-03-17T08:52:51.319799Z",
     "start_time": "2019-03-17T08:52:51.316900Z"
    }
   },
   "outputs": [],
   "source": [
    "# autocomplese commands\n",
    "# list().<tab>\n",
    "# list().c<tab>\n",
    "# private methods\n",
    "# list().__<tab>"
   ]
  },
  {
   "cell_type": "code",
   "execution_count": 10,
   "metadata": {
    "ExecuteTime": {
     "end_time": "2019-03-17T08:52:51.324867Z",
     "start_time": "2019-03-17T08:52:51.322089Z"
    }
   },
   "outputs": [],
   "source": [
    "# will work two\n",
    "# import <tab>"
   ]
  },
  {
   "cell_type": "code",
   "execution_count": 11,
   "metadata": {
    "ExecuteTime": {
     "end_time": "2019-03-17T08:52:51.331648Z",
     "start_time": "2019-03-17T08:52:51.327394Z"
    }
   },
   "outputs": [],
   "source": [
    "# show all objects in namespace \"warnings\"\n",
    "*Warning?"
   ]
  },
  {
   "cell_type": "code",
   "execution_count": 12,
   "metadata": {
    "ExecuteTime": {
     "end_time": "2019-03-17T08:52:51.338759Z",
     "start_time": "2019-03-17T08:52:51.333974Z"
    }
   },
   "outputs": [],
   "source": [
    "# list methods\n",
    "str.*find*?"
   ]
  },
  {
   "cell_type": "code",
   "execution_count": 13,
   "metadata": {
    "ExecuteTime": {
     "end_time": "2019-03-17T08:52:51.346145Z",
     "start_time": "2019-03-17T08:52:51.341214Z"
    }
   },
   "outputs": [],
   "source": [
    "list()._*?"
   ]
  },
  {
   "cell_type": "code",
   "execution_count": null,
   "metadata": {},
   "outputs": [],
   "source": [
    "list()._*"
   ]
  },
  {
   "cell_type": "markdown",
   "metadata": {},
   "source": [
    "### Magic Commands"
   ]
  },
  {
   "cell_type": "markdown",
   "metadata": {
    "ExecuteTime": {
     "end_time": "2019-03-12T09:41:58.348539Z",
     "start_time": "2019-03-12T09:41:58.344120Z"
    }
   },
   "source": [
    "`%` short lines, `%%` cells.\n",
    "\n",
    "----\n",
    "\n",
    "* `%paste` paste (dowsn't work on mac)\n",
    "* `%cpaste`\n",
    "* `%run` runs script.\n",
    "* `%time` time exceution\n",
    "* `%timeit` time exceution\n",
    "* `%prun` profiler run\n",
    "* `%mrun` memory run \n",
    "* `%memit` memory reports.\n"
   ]
  },
  {
   "cell_type": "code",
   "execution_count": 14,
   "metadata": {
    "ExecuteTime": {
     "end_time": "2019-03-17T08:52:51.363800Z",
     "start_time": "2019-03-17T08:52:51.348715Z"
    }
   },
   "outputs": [],
   "source": [
    "# IPython's 'magic' functions\n",
    "%magic"
   ]
  },
  {
   "cell_type": "markdown",
   "metadata": {
    "ExecuteTime": {
     "end_time": "2019-03-12T09:46:15.187740Z",
     "start_time": "2019-03-12T09:46:15.184526Z"
    }
   },
   "source": [
    "### In & Out"
   ]
  },
  {
   "cell_type": "code",
   "execution_count": 15,
   "metadata": {
    "ExecuteTime": {
     "end_time": "2019-03-17T08:52:51.371034Z",
     "start_time": "2019-03-17T08:52:51.367961Z"
    }
   },
   "outputs": [],
   "source": [
    "import math"
   ]
  },
  {
   "cell_type": "code",
   "execution_count": 16,
   "metadata": {
    "ExecuteTime": {
     "end_time": "2019-03-17T08:52:51.378290Z",
     "start_time": "2019-03-17T08:52:51.373396Z"
    }
   },
   "outputs": [
    {
     "data": {
      "text/plain": [
       "0.9092974268256817"
      ]
     },
     "execution_count": 16,
     "metadata": {},
     "output_type": "execute_result"
    }
   ],
   "source": [
    "math.sin(2)"
   ]
  },
  {
   "cell_type": "code",
   "execution_count": 17,
   "metadata": {
    "ExecuteTime": {
     "end_time": "2019-03-17T08:52:51.385627Z",
     "start_time": "2019-03-17T08:52:51.380601Z"
    }
   },
   "outputs": [
    {
     "data": {
      "text/plain": [
       "-0.4161468365471424"
      ]
     },
     "execution_count": 17,
     "metadata": {},
     "output_type": "execute_result"
    }
   ],
   "source": [
    "math.cos(-2)"
   ]
  },
  {
   "cell_type": "code",
   "execution_count": 18,
   "metadata": {
    "ExecuteTime": {
     "end_time": "2019-03-17T08:52:51.393051Z",
     "start_time": "2019-03-17T08:52:51.388462Z"
    }
   },
   "outputs": [
    {
     "data": {
      "text/plain": [
       "0.5838531634528576"
      ]
     },
     "execution_count": 18,
     "metadata": {},
     "output_type": "execute_result"
    }
   ],
   "source": [
    "# last cell\n",
    "_+1"
   ]
  },
  {
   "cell_type": "code",
   "execution_count": 19,
   "metadata": {
    "ExecuteTime": {
     "end_time": "2019-03-17T08:52:51.399647Z",
     "start_time": "2019-03-17T08:52:51.395241Z"
    }
   },
   "outputs": [
    {
     "data": {
      "text/plain": [
       "1.5838531634528576"
      ]
     },
     "execution_count": 19,
     "metadata": {},
     "output_type": "execute_result"
    }
   ],
   "source": [
    "# one more back\n",
    "__+2"
   ]
  },
  {
   "cell_type": "code",
   "execution_count": 20,
   "metadata": {
    "ExecuteTime": {
     "end_time": "2019-03-17T08:52:51.407113Z",
     "start_time": "2019-03-17T08:52:51.402185Z"
    }
   },
   "outputs": [
    {
     "data": {
      "text/plain": [
       "2.5838531634528574"
      ]
     },
     "execution_count": 20,
     "metadata": {},
     "output_type": "execute_result"
    }
   ],
   "source": [
    "# last one\n",
    "___+3"
   ]
  },
  {
   "cell_type": "code",
   "execution_count": 21,
   "metadata": {
    "ExecuteTime": {
     "end_time": "2019-03-17T08:52:51.414465Z",
     "start_time": "2019-03-17T08:52:51.409469Z"
    }
   },
   "outputs": [
    {
     "data": {
      "text/plain": [
       "['',\n",
       " \"get_ipython().run_line_magic('ls', '')\",\n",
       " \"# comment\\nget_ipython().system('ls')\",\n",
       " \"get_ipython().system('ls -lai')\",\n",
       " \"# getting output of the bash\\nfiles = get_ipython().getoutput('ls -1')\",\n",
       " '# using it\\nfiles',\n",
       " \"# You can get a help about command by adding ? to the end of comman\\nget_ipython().run_line_magic('pinfo', 'len')\",\n",
       " 'def demo():\\n    return 1',\n",
       " \"# source code\\nget_ipython().run_line_magic('pinfo2', 'demo')\",\n",
       " '# autocomplese commands\\n# list().<tab>\\n# list().c<tab>\\n# private methods\\n# list().__<tab>',\n",
       " '# will work two\\n# import <tab>',\n",
       " '# show all objects in namespace \"warnings\"\\nget_ipython().run_line_magic(\\'psearch\\', \\'*Warning\\')',\n",
       " \"# list methods\\nget_ipython().run_line_magic('psearch', 'str.*find*')\",\n",
       " \"get_ipython().set_next_input('list()._*');get_ipython().run_line_magic('psearch', '_*')\",\n",
       " \"# IPython's 'magic' functions\\nget_ipython().run_line_magic('magic', '')\",\n",
       " 'import math',\n",
       " 'math.sin(2)',\n",
       " 'math.cos(-2)',\n",
       " '# last cell\\n_+1',\n",
       " '# one more back\\n__+2',\n",
       " '# last one\\n___+3',\n",
       " 'In']"
      ]
     },
     "execution_count": 21,
     "metadata": {},
     "output_type": "execute_result"
    }
   ],
   "source": [
    "In"
   ]
  },
  {
   "cell_type": "code",
   "execution_count": 22,
   "metadata": {
    "ExecuteTime": {
     "end_time": "2019-03-17T08:52:51.421595Z",
     "start_time": "2019-03-17T08:52:51.416631Z"
    }
   },
   "outputs": [
    {
     "data": {
      "text/plain": [
       "{5: ['development', 'jupyter-notebook.ipynb'],\n",
       " 16: 0.9092974268256817,\n",
       " 17: -0.4161468365471424,\n",
       " 18: 0.5838531634528576,\n",
       " 19: 1.5838531634528576,\n",
       " 20: 2.5838531634528574,\n",
       " 21: ['',\n",
       "  \"get_ipython().run_line_magic('ls', '')\",\n",
       "  \"# comment\\nget_ipython().system('ls')\",\n",
       "  \"get_ipython().system('ls -lai')\",\n",
       "  \"# getting output of the bash\\nfiles = get_ipython().getoutput('ls -1')\",\n",
       "  '# using it\\nfiles',\n",
       "  \"# You can get a help about command by adding ? to the end of comman\\nget_ipython().run_line_magic('pinfo', 'len')\",\n",
       "  'def demo():\\n    return 1',\n",
       "  \"# source code\\nget_ipython().run_line_magic('pinfo2', 'demo')\",\n",
       "  '# autocomplese commands\\n# list().<tab>\\n# list().c<tab>\\n# private methods\\n# list().__<tab>',\n",
       "  '# will work two\\n# import <tab>',\n",
       "  '# show all objects in namespace \"warnings\"\\nget_ipython().run_line_magic(\\'psearch\\', \\'*Warning\\')',\n",
       "  \"# list methods\\nget_ipython().run_line_magic('psearch', 'str.*find*')\",\n",
       "  \"get_ipython().set_next_input('list()._*');get_ipython().run_line_magic('psearch', '_*')\",\n",
       "  \"# IPython's 'magic' functions\\nget_ipython().run_line_magic('magic', '')\",\n",
       "  'import math',\n",
       "  'math.sin(2)',\n",
       "  'math.cos(-2)',\n",
       "  '# last cell\\n_+1',\n",
       "  '# one more back\\n__+2',\n",
       "  '# last one\\n___+3',\n",
       "  'In',\n",
       "  '# dictionary\\nOut']}"
      ]
     },
     "execution_count": 22,
     "metadata": {},
     "output_type": "execute_result"
    }
   ],
   "source": [
    "# dictionary\n",
    "Out"
   ]
  },
  {
   "cell_type": "code",
   "execution_count": 23,
   "metadata": {
    "ExecuteTime": {
     "end_time": "2019-03-17T08:52:51.433712Z",
     "start_time": "2019-03-17T08:52:51.428182Z"
    }
   },
   "outputs": [
    {
     "data": {
      "text/plain": [
       "['',\n",
       " \"get_ipython().run_line_magic('ls', '')\",\n",
       " \"# comment\\nget_ipython().system('ls')\",\n",
       " \"get_ipython().system('ls -lai')\",\n",
       " \"# getting output of the bash\\nfiles = get_ipython().getoutput('ls -1')\",\n",
       " '# using it\\nfiles',\n",
       " \"# You can get a help about command by adding ? to the end of comman\\nget_ipython().run_line_magic('pinfo', 'len')\",\n",
       " 'def demo():\\n    return 1',\n",
       " \"# source code\\nget_ipython().run_line_magic('pinfo2', 'demo')\",\n",
       " '# autocomplese commands\\n# list().<tab>\\n# list().c<tab>\\n# private methods\\n# list().__<tab>',\n",
       " '# will work two\\n# import <tab>',\n",
       " '# show all objects in namespace \"warnings\"\\nget_ipython().run_line_magic(\\'psearch\\', \\'*Warning\\')',\n",
       " \"# list methods\\nget_ipython().run_line_magic('psearch', 'str.*find*')\",\n",
       " \"get_ipython().set_next_input('list()._*');get_ipython().run_line_magic('psearch', '_*')\",\n",
       " \"# IPython's 'magic' functions\\nget_ipython().run_line_magic('magic', '')\",\n",
       " 'import math',\n",
       " 'math.sin(2)',\n",
       " 'math.cos(-2)',\n",
       " '# last cell\\n_+1',\n",
       " '# one more back\\n__+2',\n",
       " '# last one\\n___+3',\n",
       " 'In',\n",
       " '# dictionary\\nOut',\n",
       " '_']"
      ]
     },
     "execution_count": 23,
     "metadata": {},
     "output_type": "execute_result"
    }
   ],
   "source": [
    "_"
   ]
  }
 ],
 "metadata": {
  "kernelspec": {
   "display_name": "Python 3",
   "language": "python",
   "name": "python3"
  },
  "language_info": {
   "codemirror_mode": {
    "name": "ipython",
    "version": 3
   },
   "file_extension": ".py",
   "mimetype": "text/x-python",
   "name": "python",
   "nbconvert_exporter": "python",
   "pygments_lexer": "ipython3",
   "version": "3.7.2"
  },
  "toc": {
   "base_numbering": 1,
   "nav_menu": {},
   "number_sections": false,
   "sideBar": true,
   "skip_h1_title": true,
   "title_cell": "Table of Contents",
   "title_sidebar": "Contents",
   "toc_cell": false,
   "toc_position": {},
   "toc_section_display": true,
   "toc_window_display": true
  }
 },
 "nbformat": 4,
 "nbformat_minor": 2
}
