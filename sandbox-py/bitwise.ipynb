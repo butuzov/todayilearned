{
 "cells": [
  {
   "cell_type": "markdown",
   "metadata": {},
   "source": [
    "### Bitwise algorithmes and hacks\n",
    "\n",
    "* http://bitwisecmd.com/\n",
    "* https://graphics.stanford.edu/~seander/bithacks.html\n",
    "* https://www.hyfr.life/bitwise-operators-tricks/\n",
    "* https://catonmat.net/low-level-bit-hacks\n",
    "* https://github.com/knoxknox/bit-hacks"
   ]
  },
  {
   "cell_type": "markdown",
   "metadata": {},
   "source": [
    "## Python\n",
    "\n",
    "* https://wiki.python.org/moin/BitwiseOperators"
   ]
  },
  {
   "cell_type": "code",
   "execution_count": 64,
   "metadata": {
    "ExecuteTime": {
     "end_time": "2019-07-13T15:00:50.151041Z",
     "start_time": "2019-07-13T15:00:50.147355Z"
    }
   },
   "outputs": [],
   "source": [
    "def b(n: int) -> str:\n",
    "    return \"Binary 0x{0:08b} / Decimal {0:d}\".format(n)"
   ]
  },
  {
   "cell_type": "code",
   "execution_count": 3,
   "metadata": {
    "ExecuteTime": {
     "end_time": "2019-07-10T16:54:15.814808Z",
     "start_time": "2019-07-10T16:54:15.802126Z"
    }
   },
   "outputs": [
    {
     "data": {
      "text/plain": [
       "'Binary 0x00001010 / Decimal 10'"
      ]
     },
     "execution_count": 3,
     "metadata": {},
     "output_type": "execute_result"
    }
   ],
   "source": [
    "# display int in binary format\n",
    "b(10)"
   ]
  },
  {
   "cell_type": "markdown",
   "metadata": {
    "ExecuteTime": {
     "end_time": "2019-07-08T08:32:57.664496Z",
     "start_time": "2019-07-08T08:32:57.661153Z"
    }
   },
   "source": [
    "### `x << y`"
   ]
  },
  {
   "cell_type": "code",
   "execution_count": 6,
   "metadata": {
    "ExecuteTime": {
     "end_time": "2019-07-10T16:54:48.986932Z",
     "start_time": "2019-07-10T16:54:48.978229Z"
    }
   },
   "outputs": [
    {
     "name": "stdout",
     "output_type": "stream",
     "text": [
      "1) in=> Binary 0x00000001 / Decimal 1 out=> Binary 0x00000010 / Decimal 2\n",
      "2) in=> Binary 0x00000011 / Decimal 3 out=> Binary 0x00000110 / Decimal 6\n",
      "3) in=> Binary 0x00000101 / Decimal 5 out=> Binary 0x00001010 / Decimal 10\n"
     ]
    }
   ],
   "source": [
    "for i,v in enumerate([1, 3, 5]):\n",
    "    print(f\"{i+1})\", \"in=>\", b(v), \"out=>\" , b(v << 1))"
   ]
  },
  {
   "cell_type": "markdown",
   "metadata": {
    "ExecuteTime": {
     "end_time": "2019-07-08T08:33:02.760507Z",
     "start_time": "2019-07-08T08:33:02.757228Z"
    }
   },
   "source": [
    "### `x >> y`"
   ]
  },
  {
   "cell_type": "code",
   "execution_count": 8,
   "metadata": {
    "ExecuteTime": {
     "end_time": "2019-07-10T16:55:15.908702Z",
     "start_time": "2019-07-10T16:55:15.899470Z"
    }
   },
   "outputs": [
    {
     "name": "stdout",
     "output_type": "stream",
     "text": [
      "1) in=> Binary 0x01000000 / Decimal 64 out=> Binary 0x00100000 / Decimal 32\n",
      "2) in=> Binary 0x00100000 / Decimal 32 out=> Binary 0x00010000 / Decimal 16\n",
      "3) in=> Binary 0x00010000 / Decimal 16 out=> Binary 0x00001000 / Decimal 8\n",
      "4) in=> Binary 0x00001000 / Decimal 8 out=> Binary 0x00000100 / Decimal 4\n",
      "5) in=> Binary 0x00000100 / Decimal 4 out=> Binary 0x00000010 / Decimal 2\n",
      "6) in=> Binary 0x00000010 / Decimal 2 out=> Binary 0x00000001 / Decimal 1\n",
      "7) in=> Binary 0x00000001 / Decimal 1 out=> Binary 0x00000000 / Decimal 0\n"
     ]
    }
   ],
   "source": [
    "for i,v in enumerate([64, 32, 16, 8, 4, 2, 1]):\n",
    "    print(f\"{i+1})\", \"in=>\", b(v), \"out=>\" , b(v >> 1))"
   ]
  },
  {
   "cell_type": "markdown",
   "metadata": {},
   "source": [
    "### `x & y`"
   ]
  },
  {
   "cell_type": "markdown",
   "metadata": {},
   "source": [
    "### `x | y`"
   ]
  },
  {
   "cell_type": "markdown",
   "metadata": {
    "ExecuteTime": {
     "end_time": "2019-07-08T08:33:20.478920Z",
     "start_time": "2019-07-08T08:33:20.475612Z"
    }
   },
   "source": [
    "### `~x`\n",
    "\n",
    "Returns the complement of `x` - the number you get by switching each \n",
    "* `1` for a `0`.\n",
    "* `0` for a `1`.\n",
    "\n",
    "This is the same as `-x - 1`."
   ]
  },
  {
   "cell_type": "code",
   "execution_count": 37,
   "metadata": {
    "ExecuteTime": {
     "end_time": "2019-07-08T08:43:40.768693Z",
     "start_time": "2019-07-08T08:43:40.762469Z"
    }
   },
   "outputs": [
    {
     "name": "stdout",
     "output_type": "stream",
     "text": [
      "   1: Binary 0x00000001 / Decimal 1\n",
      "  ~1: Binary 0x-0000010 / Decimal -2\n"
     ]
    }
   ],
   "source": [
    "for i in [('1', 1), ('~1', ~1)]: print(f\"{i[0]:>4s}:\", b(int(i[1])))"
   ]
  },
  {
   "cell_type": "markdown",
   "metadata": {},
   "source": [
    "### `x ^ y`"
   ]
  },
  {
   "cell_type": "code",
   "execution_count": null,
   "metadata": {},
   "outputs": [],
   "source": []
  },
  {
   "cell_type": "markdown",
   "metadata": {},
   "source": [
    "### Examples"
   ]
  },
  {
   "cell_type": "markdown",
   "metadata": {},
   "source": [
    "`add_bitwise_operator.py`"
   ]
  },
  {
   "cell_type": "markdown",
   "metadata": {
    "ExecuteTime": {
     "end_time": "2019-07-08T08:41:53.282632Z",
     "start_time": "2019-07-08T08:41:53.277905Z"
    }
   },
   "source": [
    "Adding two positive integers without `+` operator"
   ]
  },
  {
   "cell_type": "code",
   "execution_count": 59,
   "metadata": {
    "ExecuteTime": {
     "end_time": "2019-07-08T09:06:06.825122Z",
     "start_time": "2019-07-08T09:06:06.810688Z"
    }
   },
   "outputs": [
    {
     "name": "stdout",
     "output_type": "stream",
     "text": [
      "       carry: Binary 0x00000100 / Decimal 4\n",
      "           x: Binary 0x00001001 / Decimal 9\n",
      "           y: Binary 0x00001000 / Decimal 8\n",
      "=============================================\n",
      "       carry: Binary 0x00001000 / Decimal 8\n",
      "           x: Binary 0x00000001 / Decimal 1\n",
      "           y: Binary 0x00010000 / Decimal 16\n",
      "=============================================\n",
      "       carry: Binary 0x00000000 / Decimal 0\n",
      "           x: Binary 0x00010001 / Decimal 17\n",
      "           y: Binary 0x00000000 / Decimal 0\n",
      "=============================================\n"
     ]
    },
    {
     "data": {
      "text/plain": [
       "17"
      ]
     },
     "execution_count": 59,
     "metadata": {},
     "output_type": "execute_result"
    }
   ],
   "source": [
    "def add_bitwise_operator(x, y):\n",
    "    while y:\n",
    "        carry = x & y\n",
    "        print(\"{:>12s}:\".format('carry'), b(carry))\n",
    "        \n",
    "        x = x ^ y\n",
    "        print(\"{:>12s}:\".format('x'), b(x))\n",
    "        \n",
    "        y = carry << 1\n",
    "        print(\"{:>12s}:\".format('y'), b(y))\n",
    "\n",
    "        print(\"=\"*45)\n",
    "    return x\n",
    "\n",
    "add_bitwise_operator(12, 5)"
   ]
  },
  {
   "cell_type": "markdown",
   "metadata": {},
   "source": [
    "`swap_pair.py`"
   ]
  },
  {
   "cell_type": "markdown",
   "metadata": {},
   "source": [
    "**Swap_pair**\n",
    "\n",
    "A function swap odd and even bits in an integer with as few instructions as possible (Ex bit and bit 1 are swapped, bit 2 and bit 3 are swapped)\n",
    "\n",
    "For example:\n",
    "* 22: `0x010110`  --> 41: `0x101001`\n",
    "* 10: `0x1010`    --> 5 : `0x0101`\n",
    "\n",
    "Workflow \n",
    "\n",
    "* We can approach this as operating on the odds bit first, and then the even bits.\n",
    "* We can mask all odd bits with `10101010` in binary ('AA') then shift them right by 1\n",
    "* Similarly, we mask all even bit with `01010101` in binary ('55') then shift them left\n",
    "by 1. \n",
    "* Finally, we merge these two values by OR operation."
   ]
  },
  {
   "cell_type": "code",
   "execution_count": 75,
   "metadata": {
    "ExecuteTime": {
     "end_time": "2019-07-08T09:20:28.554728Z",
     "start_time": "2019-07-08T09:20:28.533107Z"
    }
   },
   "outputs": [
    {
     "name": "stdout",
     "output_type": "stream",
     "text": [
      "Swap Pair of 3\n",
      "\n",
      "Odd Bits\n",
      "      10(AA): Binary 0x10101010101010101010101010101010 / Decimal 2863311530\n",
      "      n & AA: Binary 0x00000010 / Decimal 2\n",
      " n & AA >> 1: Binary 0x00000001 / Decimal 1\n",
      "\n",
      "Even Bits\n",
      "      01(55): Binary 0x1010101010101010101010101010101 / Decimal 1431655765\n",
      "      n & 55: Binary 0x00000001 / Decimal 1\n",
      " n & 55 << 1: Binary 0x00000010 / Decimal 2\n",
      "\n",
      "  odd | even: 3\n"
     ]
    },
    {
     "data": {
      "text/plain": [
       "3"
      ]
     },
     "execution_count": 75,
     "metadata": {},
     "output_type": "execute_result"
    }
   ],
   "source": [
    "def swap_pair(num):\n",
    "    print(\"Swap Pair of {}\".format(num))\n",
    "    print()\n",
    "    # odd bit arithmetic right shift 1 bit\n",
    "    print(\"Odd Bits\")\n",
    "    print(\"{:>12s}:\".format(\"10(AA)\"), b(int('AAAAAAAA', 16)))\n",
    "    print(\"{:>12s}:\".format(\"n & AA\"),  b(num & int('AAAAAAAA', 16)))\n",
    "    print(\"{:>12s}:\".format(\"n & AA >> 1\"),  b((num & int('AAAAAAAA', 16)) >> 1))\n",
    "    odd = (num & int('AAAAAAAA', 16)) >> 1\n",
    "    print()\n",
    "    # even bit left shift 1 bit\n",
    "    print(\"Even Bits\")\n",
    "    print(\"{:>12s}:\".format(\"01(55)\"), b(int('55555555', 16)))\n",
    "    print(\"{:>12s}:\".format(\"n & 55\"),  b(num & int('55555555', 16)))\n",
    "    print(\"{:>12s}:\".format(\"n & 55 << 1\"),  b((num & int('55555555', 16)) << 1))\n",
    "    even = (num & int('55555555', 16)) << 1\n",
    "    \n",
    "    print()\n",
    "    print(\"{:>12s}:\".format(\"odd | even\"),  odd | even)\n",
    "    return odd | even\n",
    "\n",
    "swap_pair(3)"
   ]
  },
  {
   "cell_type": "markdown",
   "metadata": {
    "ExecuteTime": {
     "end_time": "2019-07-08T09:01:55.050815Z",
     "start_time": "2019-07-08T09:01:55.045594Z"
    }
   },
   "source": [
    "## Square Root"
   ]
  },
  {
   "cell_type": "code",
   "execution_count": 27,
   "metadata": {
    "ExecuteTime": {
     "end_time": "2019-07-10T20:11:05.960580Z",
     "start_time": "2019-07-10T20:11:05.938158Z"
    }
   },
   "outputs": [
    {
     "name": "stdout",
     "output_type": "stream",
     "text": [
      "Bit Binary 0x1000000000000000000000000000000 / Decimal 1073741824\n",
      "Decrising bit  Binary 0x10000000000000000000000000000 / Decimal 268435456\n",
      "Decrising bit  Binary 0x100000000000000000000000000 / Decimal 67108864\n",
      "Decrising bit  Binary 0x1000000000000000000000000 / Decimal 16777216\n",
      "Decrising bit  Binary 0x10000000000000000000000 / Decimal 4194304\n",
      "Decrising bit  Binary 0x100000000000000000000 / Decimal 1048576\n",
      "Decrising bit  Binary 0x1000000000000000000 / Decimal 262144\n",
      "Decrising bit  Binary 0x10000000000000000 / Decimal 65536\n",
      "Decrising bit  Binary 0x100000000000000 / Decimal 16384\n",
      "Decrising bit  Binary 0x1000000000000 / Decimal 4096\n",
      "Decrising bit  Binary 0x10000000000 / Decimal 1024\n",
      "Decrising bit  Binary 0x100000000 / Decimal 256\n",
      "Decrising bit  Binary 0x01000000 / Decimal 64\n",
      "Decrising bit  Binary 0x00010000 / Decimal 16\n",
      "n  Binary 0x00001001 / Decimal 9\n",
      "result_in  Binary 0x00010000 / Decimal 16\n",
      "result_out  Binary 0x00001000 / Decimal 8\n",
      "n  Binary 0x00000000 / Decimal 0\n",
      "result_in  Binary 0x00000101 / Decimal 5\n"
     ]
    },
    {
     "data": {
      "text/plain": [
       "5"
      ]
     },
     "execution_count": 27,
     "metadata": {},
     "output_type": "execute_result"
    }
   ],
   "source": [
    "def sqrt(n: float) -> float:\n",
    "    result: float = 0\n",
    "        \n",
    "    # The second-to-top bit is set: 1 << 30 for 32 bits\n",
    "    bit = 1 << 30\n",
    "    print(\"Bit\", b(bit))\n",
    "    \n",
    "    while bit > n :\n",
    "        bit = bit >> 2\n",
    "        print(\"Decrising bit \", b(bit))\n",
    "    \n",
    "    while bit != 0:\n",
    "        \n",
    "        if n >= result + bit :\n",
    "            n -= result + bit\n",
    "            print(\"n \", b(n))\n",
    "            result = bit + (result >> 1)\n",
    "            print(\"result_in \", b(result))\n",
    "        else:\n",
    "            result >>= 1\n",
    "            print(\"result_out \", b(result))\n",
    "            \n",
    "        bit >>= 2\n",
    "    \n",
    "    return result\n",
    "\n",
    "sqrt(25)"
   ]
  },
  {
   "cell_type": "code",
   "execution_count": 7,
   "metadata": {
    "ExecuteTime": {
     "end_time": "2019-07-13T13:43:36.085844Z",
     "start_time": "2019-07-13T13:43:36.080260Z"
    }
   },
   "outputs": [
    {
     "data": {
      "text/plain": [
       "('Binary 0x00000011 / Decimal 3', 'Binary 0x-0000100 / Decimal -4')"
      ]
     },
     "execution_count": 7,
     "metadata": {},
     "output_type": "execute_result"
    }
   ],
   "source": [
    "b(3), b(~3)"
   ]
  },
  {
   "cell_type": "code",
   "execution_count": 75,
   "metadata": {
    "ExecuteTime": {
     "end_time": "2019-07-13T15:02:46.300859Z",
     "start_time": "2019-07-13T15:02:46.293696Z"
    }
   },
   "outputs": [
    {
     "name": "stdout",
     "output_type": "stream",
     "text": [
      "16 Binary 0x00010000 / Decimal 16\n",
      "15 Binary 0x00001111 / Decimal 15\n"
     ]
    }
   ],
   "source": [
    "def inverse(n):\n",
    "    for i in range(0,8):\n",
    "        if n < 1<<i: \n",
    "            s = 1<<i\n",
    "            print(s, b(s))\n",
    "            print(s-1, b(s-1))\n",
    "            break\n",
    "inverse(8)"
   ]
  },
  {
   "cell_type": "code",
   "execution_count": 60,
   "metadata": {
    "ExecuteTime": {
     "end_time": "2019-07-13T14:21:51.133310Z",
     "start_time": "2019-07-13T14:21:51.128319Z"
    }
   },
   "outputs": [
    {
     "data": {
      "text/plain": [
       "'Binary 0x00000001 / Decimal 1'"
      ]
     },
     "execution_count": 60,
     "metadata": {},
     "output_type": "execute_result"
    }
   ],
   "source": [
    "b(1)"
   ]
  },
  {
   "cell_type": "code",
   "execution_count": 77,
   "metadata": {
    "ExecuteTime": {
     "end_time": "2019-07-13T20:59:28.259008Z",
     "start_time": "2019-07-13T20:59:28.252877Z"
    }
   },
   "outputs": [],
   "source": [
    "from typing import List"
   ]
  }
 ],
 "metadata": {
  "hide_input": false,
  "kernelspec": {
   "display_name": "Python 3",
   "language": "python",
   "name": "python3"
  },
  "language_info": {
   "codemirror_mode": {
    "name": "ipython",
    "version": 3
   },
   "file_extension": ".py",
   "mimetype": "text/x-python",
   "name": "python",
   "nbconvert_exporter": "python",
   "pygments_lexer": "ipython3",
   "version": "3.8.8"
  },
  "toc": {
   "base_numbering": 1,
   "nav_menu": {},
   "number_sections": false,
   "sideBar": true,
   "skip_h1_title": true,
   "title_cell": "Table of Contents",
   "title_sidebar": "Contents",
   "toc_cell": false,
   "toc_position": {},
   "toc_section_display": true,
   "toc_window_display": false
  }
 },
 "nbformat": 4,
 "nbformat_minor": 2
}
