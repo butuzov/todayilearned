{
 "cells": [
  {
   "cell_type": "markdown",
   "id": "e3a6bde4-b8f2-4fce-8296-5bb038d26a2a",
   "metadata": {},
   "source": [
    "# MySQL"
   ]
  },
  {
   "cell_type": "markdown",
   "id": "86ee5d29-3aa3-43c1-aa83-2083f921529a",
   "metadata": {},
   "source": [
    "## Tooling\n",
    "\n",
    "- [Sequel Ace](https://sequel-ace.com/)\n",
    "- DataGrip\n",
    "- PhpMyAdmin"
   ]
  },
  {
   "cell_type": "code",
   "execution_count": null,
   "id": "0dd202d9-13da-49a1-b734-7458751d6950",
   "metadata": {},
   "outputs": [],
   "source": []
  }
 ],
 "metadata": {
  "hide_input": false,
  "kernelspec": {
   "display_name": "Python 3 (ipykernel)",
   "language": "python",
   "name": "python3"
  },
  "language_info": {
   "codemirror_mode": {
    "name": "ipython",
    "version": 3
   },
   "file_extension": ".py",
   "mimetype": "text/x-python",
   "name": "python",
   "nbconvert_exporter": "python",
   "pygments_lexer": "ipython3",
   "version": "3.12.3"
  },
  "toc": {
   "base_numbering": 1,
   "nav_menu": {},
   "number_sections": true,
   "sideBar": true,
   "skip_h1_title": true,
   "title_cell": "Table of Contents",
   "title_sidebar": "Contents",
   "toc_cell": true,
   "toc_position": {
    "height": "calc(100% - 180px)",
    "left": "10px",
    "top": "150px",
    "width": "307.388px"
   },
   "toc_section_display": true,
   "toc_window_display": false
  }
 },
 "nbformat": 4,
 "nbformat_minor": 5
}
