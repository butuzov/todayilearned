{
 "cells": [
  {
   "cell_type": "markdown",
   "metadata": {},
   "source": [
    "# `reflect`"
   ]
  },
  {
   "cell_type": "code",
   "execution_count": 1,
   "id": "1ad04af7",
   "metadata": {
    "ExecuteTime": {
     "end_time": "2021-07-26T09:39:37Z",
     "start_time": "2021-07-26T09:39:21.539Z"
    }
   },
   "outputs": [
    {
     "name": "stderr",
     "output_type": "stream",
     "text": [
      "go: downloading github.com/davecgh/go-spew v1.1.1\n"
     ]
    }
   ],
   "source": [
    "$go get github.com/davecgh/go-spew/spew\n",
    "\n",
    "import \"github.com/davecgh/go-spew/spew\""
   ]
  },
  {
   "cell_type": "code",
   "execution_count": 2,
   "id": "f16c9fcf",
   "metadata": {
    "ExecuteTime": {
     "end_time": "2021-07-26T09:39:37Z",
     "start_time": "2021-07-26T09:39:25.026Z"
    }
   },
   "outputs": [],
   "source": [
    "import \"reflect\"\n",
    "import \"fmt\"\n",
    "import \"strings\""
   ]
  },
  {
   "cell_type": "code",
   "execution_count": 10,
   "id": "ac92dfe8",
   "metadata": {
    "ExecuteTime": {
     "end_time": "2021-07-02T02:46:09Z",
     "start_time": "2021-07-02T02:46:09.604Z"
    }
   },
   "outputs": [],
   "source": [
    "// tiny formating objects\n",
    "func f(s interface{}) string {\n",
    "    d := fmt.Sprintf(\"%#+v\", s)\n",
    "    d = strings.Replace(d, \"{\", \"{\\n  \", -1) \n",
    "    d = strings.Replace(d, \"}\", \"\\n}\\n\", -1) \n",
    "    d = strings.Replace(d, \", \", \",\\n  \", -1)  \n",
    "    return d\n",
    "}"
   ]
  },
  {
   "cell_type": "markdown",
   "id": "e2f1d72b",
   "metadata": {},
   "source": [
    "Our test objects"
   ]
  },
  {
   "cell_type": "code",
   "execution_count": 3,
   "id": "31a0c874",
   "metadata": {
    "ExecuteTime": {
     "end_time": "2021-07-26T09:43:27Z",
     "start_time": "2021-07-26T09:43:27.275Z"
    }
   },
   "outputs": [],
   "source": [
    "type Test struct {\n",
    "    Hi string `json:\"hi,omitempty\"`\n",
    "    hi string \n",
    "}"
   ]
  },
  {
   "cell_type": "code",
   "execution_count": 6,
   "id": "7ef7a6cf",
   "metadata": {
    "ExecuteTime": {
     "end_time": "2021-07-26T09:43:57Z",
     "start_time": "2021-07-26T09:43:57.626Z"
    }
   },
   "outputs": [],
   "source": [
    "h := Test{Hi:\"Ola!\", hi:\"privit\"}"
   ]
  },
  {
   "cell_type": "markdown",
   "id": "c3d484a9",
   "metadata": {},
   "source": [
    "```go\n",
    "package main\n",
    "\n",
    "import (\n",
    "\t\"fmt\"\n",
    "\t\"reflect\"\n",
    ")\n",
    "\n",
    "type Test struct {\n",
    "\tHi string `json:\"hi,omitempty\"`\n",
    "\thi string\n",
    "}\n",
    "\n",
    "func main() {\n",
    "\th := Test{Hi: \"Ola!\", hi: \"privit\"}\n",
    "\tfmt.Println(reflect.ValueOf(h).FieldByName(\"hi\").String())\n",
    "}\n",
    "```"
   ]
  },
  {
   "cell_type": "code",
   "execution_count": 10,
   "id": "3a9036e5",
   "metadata": {
    "ExecuteTime": {
     "end_time": "2021-07-26T09:44:53Z",
     "start_time": "2021-07-26T09:44:53.242Z"
    }
   },
   "outputs": [
    {
     "ename": "ERROR",
     "evalue": "reflect: call of reflect.Value.Elem on zero Value",
     "output_type": "error",
     "traceback": [
      "reflect: call of reflect.Value.Elem on zero Value"
     ]
    }
   ],
   "source": [
    "reflect.ValueOf(h).FieldByName(\"hi\").String()"
   ]
  },
  {
   "cell_type": "code",
   "execution_count": 6,
   "id": "f3b7e661",
   "metadata": {
    "ExecuteTime": {
     "end_time": "2021-07-02T02:45:41Z",
     "start_time": "2021-07-02T02:45:41.867Z"
    }
   },
   "outputs": [],
   "source": [
    "func (t *Test) SayHello(name string, age int) (ok bool) {\n",
    "    return true\n",
    "}"
   ]
  },
  {
   "cell_type": "markdown",
   "id": "bae299a3",
   "metadata": {},
   "source": [
    "Let's play!"
   ]
  },
  {
   "cell_type": "code",
   "execution_count": 7,
   "id": "45f1f30f",
   "metadata": {
    "ExecuteTime": {
     "end_time": "2021-07-02T02:45:44Z",
     "start_time": "2021-07-02T02:45:44.882Z"
    }
   },
   "outputs": [],
   "source": [
    "var t = Test{\n",
    "    Hi: \"!HOLA!\",\n",
    "    hi: \"Say my name %s\",\n",
    "}"
   ]
  },
  {
   "cell_type": "code",
   "execution_count": 8,
   "id": "32c142c8",
   "metadata": {
    "ExecuteTime": {
     "end_time": "2021-07-02T02:45:45Z",
     "start_time": "2021-07-02T02:45:45.525Z"
    }
   },
   "outputs": [
    {
     "name": "stdout",
     "output_type": "stream",
     "text": [
      "(struct { Hi string \"json:\\\"hi,omitempty\\\"\"; 𒀸hi string }) {\n",
      " Hi: (string) (len=6) \"!HOLA!\",\n",
      " 𒀸hi: (string) (len=14) \"Say my name %s\"\n",
      "}\n"
     ]
    }
   ],
   "source": [
    "spew.Dump(t)"
   ]
  },
  {
   "cell_type": "code",
   "execution_count": 11,
   "id": "5f6e6a41",
   "metadata": {
    "ExecuteTime": {
     "end_time": "2021-07-02T02:46:15Z",
     "start_time": "2021-07-02T02:46:15.787Z"
    }
   },
   "outputs": [
    {
     "data": {
      "text/plain": [
       "struct {\n",
       "   Hi string \"json:\\\"hi,omitempty\\\"\"; 𒀸hi string \n",
       "}\n",
       "{\n",
       "  Hi:\"!HOLA!\",\n",
       "  𒀸hi:\"Say my name %s\"\n",
       "}\n"
      ]
     },
     "execution_count": 11,
     "metadata": {},
     "output_type": "execute_result"
    }
   ],
   "source": [
    "f(t)"
   ]
  },
  {
   "cell_type": "code",
   "execution_count": 9,
   "id": "0d66db65",
   "metadata": {
    "ExecuteTime": {
     "end_time": "2021-07-02T02:45:56Z",
     "start_time": "2021-07-02T02:45:56.076Z"
    }
   },
   "outputs": [
    {
     "name": "stdout",
     "output_type": "stream",
     "text": [
      "(*reflect.rtype)(0xc00058a780)(struct { Hi string \"json:\\\"hi,omitempty\\\"\"; 𒀸hi string })\n"
     ]
    }
   ],
   "source": [
    "spew.Dump(reflect.TypeOf(t))"
   ]
  },
  {
   "cell_type": "code",
   "execution_count": 9,
   "id": "fb49f0bf",
   "metadata": {
    "ExecuteTime": {
     "end_time": "2021-06-21T02:53:04Z",
     "start_time": "2021-06-21T02:53:04.683Z"
    }
   },
   "outputs": [
    {
     "data": {
      "text/plain": [
       "struct {\n",
       "   Hi string \"json:\\\"hi,omitempty\\\"\"; 𒀸hi string \n",
       "}\n",
       "{\n",
       "  Hi:\"!HOLA!\",\n",
       "  𒀸hi:\"Say my name %s\"\n",
       "}\n"
      ]
     },
     "execution_count": 9,
     "metadata": {},
     "output_type": "execute_result"
    }
   ],
   "source": [
    "f(reflect.ValueOf(t))"
   ]
  },
  {
   "cell_type": "code",
   "execution_count": 10,
   "id": "8b1edb27",
   "metadata": {
    "ExecuteTime": {
     "end_time": "2021-06-21T02:53:24Z",
     "start_time": "2021-06-21T02:53:24.163Z"
    }
   },
   "outputs": [
    {
     "ename": "ERROR",
     "evalue": "repl.go:1:3: not a type: reflect.KindOf <*ast.SelectorExpr>",
     "output_type": "error",
     "traceback": [
      "repl.go:1:3: not a type: reflect.KindOf <*ast.SelectorExpr>"
     ]
    }
   ],
   "source": [
    "f(reflect.KindOf(t))"
   ]
  },
  {
   "cell_type": "markdown",
   "id": "e34c9d8d",
   "metadata": {},
   "source": [
    "### `Type`"
   ]
  },
  {
   "cell_type": "code",
   "execution_count": 11,
   "id": "1200924b",
   "metadata": {
    "ExecuteTime": {
     "end_time": "2021-06-21T02:53:57Z",
     "start_time": "2021-06-21T02:53:56.994Z"
    }
   },
   "outputs": [
    {
     "data": {
      "text/plain": [
       "int64"
      ]
     },
     "execution_count": 11,
     "metadata": {},
     "output_type": "execute_result"
    }
   ],
   "source": [
    "reflect.TypeOf(int64(1)).Kind()"
   ]
  },
  {
   "cell_type": "code",
   "execution_count": 12,
   "id": "774ddd37",
   "metadata": {
    "ExecuteTime": {
     "end_time": "2021-06-21T02:53:58Z",
     "start_time": "2021-06-21T02:53:58.020Z"
    }
   },
   "outputs": [],
   "source": [
    "value := int64(1)"
   ]
  },
  {
   "cell_type": "code",
   "execution_count": 13,
   "id": "aa170ff5",
   "metadata": {
    "ExecuteTime": {
     "end_time": "2021-06-21T02:53:59Z",
     "start_time": "2021-06-21T02:53:59.505Z"
    }
   },
   "outputs": [
    {
     "data": {
      "text/plain": [
       "int64"
      ]
     },
     "execution_count": 13,
     "metadata": {},
     "output_type": "execute_result"
    }
   ],
   "source": [
    "reflect.TypeOf(value).Name()"
   ]
  },
  {
   "cell_type": "code",
   "execution_count": 14,
   "id": "43e9f87d",
   "metadata": {
    "ExecuteTime": {
     "end_time": "2021-06-21T02:54:01Z",
     "start_time": "2021-06-21T02:54:01.098Z"
    }
   },
   "outputs": [
    {
     "data": {
      "text/plain": [
       "false"
      ]
     },
     "execution_count": 14,
     "metadata": {},
     "output_type": "execute_result"
    }
   ],
   "source": [
    "reflect.String == reflect.TypeOf(value).Kind()"
   ]
  },
  {
   "cell_type": "code",
   "execution_count": 15,
   "id": "a0c72aa4",
   "metadata": {
    "ExecuteTime": {
     "end_time": "2021-06-21T02:54:02Z",
     "start_time": "2021-06-21T02:54:02.434Z"
    }
   },
   "outputs": [
    {
     "data": {
      "text/plain": [
       "true"
      ]
     },
     "execution_count": 15,
     "metadata": {},
     "output_type": "execute_result"
    }
   ],
   "source": [
    "reflect.Int64 == reflect.TypeOf(value).Kind()"
   ]
  },
  {
   "cell_type": "code",
   "execution_count": 16,
   "id": "8a16098a",
   "metadata": {
    "ExecuteTime": {
     "end_time": "2021-06-21T02:54:04Z",
     "start_time": "2021-06-21T02:54:04.073Z"
    }
   },
   "outputs": [
    {
     "data": {
      "text/plain": [
       "true"
      ]
     },
     "execution_count": 16,
     "metadata": {},
     "output_type": "execute_result"
    }
   ],
   "source": [
    "reflect.TypeOf(reflect.String).Kind() == reflect.TypeOf(reflect.Uint8).Kind()"
   ]
  },
  {
   "cell_type": "markdown",
   "id": "c032e620",
   "metadata": {},
   "source": [
    "### `Setting Value`"
   ]
  },
  {
   "cell_type": "code",
   "execution_count": 17,
   "id": "17b626f0",
   "metadata": {
    "ExecuteTime": {
     "end_time": "2021-06-21T02:54:07Z",
     "start_time": "2021-06-21T02:54:07.608Z"
    }
   },
   "outputs": [
    {
     "name": "stdout",
     "output_type": "stream",
     "text": [
      "*float64 - false"
     ]
    }
   ],
   "source": [
    "var x float64 = 1.1\n",
    "s := reflect.ValueOf(&x)\n",
    "_, _ = fmt.Printf(\"%s - %t\", s.Type(), s.CanSet())\n",
    "\n",
    "// s.SetFloat(2.3)"
   ]
  },
  {
   "cell_type": "code",
   "execution_count": 18,
   "id": "95345c73",
   "metadata": {
    "ExecuteTime": {
     "end_time": "2021-06-21T02:54:09Z",
     "start_time": "2021-06-21T02:54:09.018Z"
    }
   },
   "outputs": [
    {
     "name": "stdout",
     "output_type": "stream",
     "text": [
      "float64 - true"
     ]
    },
    {
     "data": {
      "text/plain": [
       "2.3"
      ]
     },
     "execution_count": 18,
     "metadata": {},
     "output_type": "execute_result"
    }
   ],
   "source": [
    "// moving by pointer to value\n",
    "v := s.Elem()\n",
    "v.SetFloat(2.3)\n",
    "_, _ = fmt.Printf(\"%s - %t\", v.Type(), v.CanSet())\n",
    "x"
   ]
  },
  {
   "cell_type": "markdown",
   "id": "c76d5e1d",
   "metadata": {},
   "source": [
    "### `Structs`"
   ]
  },
  {
   "cell_type": "code",
   "execution_count": 19,
   "id": "fce239be",
   "metadata": {
    "ExecuteTime": {
     "end_time": "2021-06-21T02:54:12Z",
     "start_time": "2021-06-21T02:54:11.976Z"
    }
   },
   "outputs": [],
   "source": [
    "t := Test{\n",
    "    Hi: \"!HOLA!\",\n",
    "    hi: \"Say my name %s\",\n",
    "}\n",
    "x := reflect.ValueOf(t)"
   ]
  },
  {
   "cell_type": "code",
   "execution_count": 20,
   "id": "6e8b0827",
   "metadata": {
    "ExecuteTime": {
     "end_time": "2021-06-21T02:54:14Z",
     "start_time": "2021-06-21T02:54:14.218Z"
    }
   },
   "outputs": [
    {
     "data": {
      "text/plain": [
       "struct {\n",
       "   Hi string \"json:\\\"hi,omitempty\\\"\"; 𒀸hi string \n",
       "}\n",
       "{\n",
       "  Hi:\"!HOLA!\",\n",
       "  𒀸hi:\"Say my name %s\"\n",
       "}\n"
      ]
     },
     "execution_count": 20,
     "metadata": {},
     "output_type": "execute_result"
    }
   ],
   "source": [
    "f(t)"
   ]
  },
  {
   "cell_type": "code",
   "execution_count": 21,
   "id": "83824252",
   "metadata": {
    "ExecuteTime": {
     "end_time": "2021-06-21T02:54:16Z",
     "start_time": "2021-06-21T02:54:16.185Z"
    }
   },
   "outputs": [
    {
     "data": {
      "text/plain": [
       "2"
      ]
     },
     "execution_count": 21,
     "metadata": {},
     "output_type": "execute_result"
    }
   ],
   "source": [
    "x.NumField()"
   ]
  },
  {
   "cell_type": "code",
   "execution_count": 22,
   "id": "45c644f9",
   "metadata": {
    "ExecuteTime": {
     "end_time": "2021-06-21T02:54:17Z",
     "start_time": "2021-06-21T02:54:17.107Z"
    }
   },
   "outputs": [
    {
     "data": {
      "text/plain": [
       "\"Say my name %s\""
      ]
     },
     "execution_count": 22,
     "metadata": {},
     "output_type": "execute_result"
    }
   ],
   "source": [
    "// filed by index\n",
    "f(x.Field(1))"
   ]
  },
  {
   "cell_type": "code",
   "execution_count": 23,
   "id": "a8352324",
   "metadata": {
    "ExecuteTime": {
     "end_time": "2021-06-21T02:54:18Z",
     "start_time": "2021-06-21T02:54:18.154Z"
    }
   },
   "outputs": [
    {
     "data": {
      "text/plain": [
       "<invalid reflect.Value>"
      ]
     },
     "execution_count": 23,
     "metadata": {},
     "output_type": "execute_result"
    }
   ],
   "source": [
    "// private field will fail\n",
    "x.FieldByName(\"hi\")"
   ]
  },
  {
   "cell_type": "code",
   "execution_count": 24,
   "id": "73dd73ea",
   "metadata": {
    "ExecuteTime": {
     "end_time": "2021-06-21T02:54:19Z",
     "start_time": "2021-06-21T02:54:19.090Z"
    }
   },
   "outputs": [
    {
     "data": {
      "text/plain": [
       "\"!HOLA!\""
      ]
     },
     "execution_count": 24,
     "metadata": {},
     "output_type": "execute_result"
    }
   ],
   "source": [
    "// filed by index\n",
    "f(x.Field(0))"
   ]
  },
  {
   "cell_type": "code",
   "execution_count": 25,
   "id": "e99b1f9f",
   "metadata": {
    "ExecuteTime": {
     "end_time": "2021-06-21T02:54:21Z",
     "start_time": "2021-06-21T02:54:21.697Z"
    }
   },
   "outputs": [
    {
     "data": {
      "text/plain": [
       "!HOLA!"
      ]
     },
     "execution_count": 25,
     "metadata": {},
     "output_type": "execute_result"
    }
   ],
   "source": [
    "// private field will fail\n",
    "x.FieldByName(\"Hi\")"
   ]
  },
  {
   "cell_type": "code",
   "execution_count": 26,
   "id": "9473ba6a",
   "metadata": {
    "ExecuteTime": {
     "end_time": "2021-06-21T02:54:22Z",
     "start_time": "2021-06-21T02:54:22.480Z"
    }
   },
   "outputs": [
    {
     "data": {
      "text/plain": [
       "&reflect.rtype{\n",
       "  size:0x20,\n",
       "  ptrdata:0x18,\n",
       "  hash:0xcc19137c,\n",
       "  tflag:0x0,\n",
       "  align:0x8,\n",
       "  fieldAlign:0x8,\n",
       "  kind:0x19,\n",
       "  equal:(func(unsafe.Pointer,\n",
       "  unsafe.Pointer) bool)(0x8d6780),\n",
       "  gcdata:(*uint8)(0xc00020cc30),\n",
       "  str:-190,\n",
       "  ptrToThis:0\n",
       "}\n"
      ]
     },
     "execution_count": 26,
     "metadata": {},
     "output_type": "execute_result"
    }
   ],
   "source": [
    "tf := reflect.TypeOf(t)\n",
    "f(tf)"
   ]
  },
  {
   "cell_type": "code",
   "execution_count": 27,
   "id": "67ffcdc9",
   "metadata": {
    "ExecuteTime": {
     "end_time": "2021-06-21T02:54:25Z",
     "start_time": "2021-06-21T02:54:25.570Z"
    }
   },
   "outputs": [
    {
     "data": {
      "text/plain": [
       "2"
      ]
     },
     "execution_count": 27,
     "metadata": {},
     "output_type": "execute_result"
    }
   ],
   "source": [
    "tf.NumField()"
   ]
  },
  {
   "cell_type": "code",
   "execution_count": 28,
   "id": "99f95e87",
   "metadata": {
    "ExecuteTime": {
     "end_time": "2021-06-21T02:54:26Z",
     "start_time": "2021-06-21T02:54:26.280Z"
    }
   },
   "outputs": [
    {
     "data": {
      "text/plain": [
       "{Hi  string json:\"hi,omitempty\" 0 [0] false}"
      ]
     },
     "execution_count": 28,
     "metadata": {},
     "output_type": "execute_result"
    }
   ],
   "source": [
    "tf.Field(0)"
   ]
  },
  {
   "cell_type": "code",
   "execution_count": 29,
   "id": "1714408b",
   "metadata": {
    "ExecuteTime": {
     "end_time": "2021-06-21T02:54:28Z",
     "start_time": "2021-06-21T02:54:28.080Z"
    }
   },
   "outputs": [
    {
     "data": {
      "text/plain": [
       "{𒀸hi  string  16 [1] false}"
      ]
     },
     "execution_count": 29,
     "metadata": {},
     "output_type": "execute_result"
    }
   ],
   "source": [
    "tf.Field(1)"
   ]
  },
  {
   "cell_type": "code",
   "execution_count": 30,
   "id": "1db5028c",
   "metadata": {
    "ExecuteTime": {
     "end_time": "2021-06-21T02:54:28Z",
     "start_time": "2021-06-21T02:54:28.690Z"
    }
   },
   "outputs": [
    {
     "data": {
      "text/plain": [
       "{  <nil>  0 [] false} false"
      ]
     },
     "execution_count": 30,
     "metadata": {},
     "output_type": "execute_result"
    }
   ],
   "source": [
    "tf.FieldByName(\"hi\")"
   ]
  },
  {
   "cell_type": "code",
   "execution_count": 31,
   "id": "17c78a93",
   "metadata": {
    "ExecuteTime": {
     "end_time": "2021-06-21T02:54:29Z",
     "start_time": "2021-06-21T02:54:29.328Z"
    }
   },
   "outputs": [
    {
     "data": {
      "text/plain": [
       "{Hi  string json:\"hi,omitempty\" 0 [0] false} true"
      ]
     },
     "execution_count": 31,
     "metadata": {},
     "output_type": "execute_result"
    }
   ],
   "source": [
    "tf.FieldByName(\"Hi\")"
   ]
  },
  {
   "cell_type": "code",
   "execution_count": 32,
   "id": "724ac090",
   "metadata": {
    "ExecuteTime": {
     "end_time": "2021-06-21T02:54:30Z",
     "start_time": "2021-06-21T02:54:30.026Z"
    }
   },
   "outputs": [
    {
     "name": "stdout",
     "output_type": "stream",
     "text": [
      "// warning: expression returns 2 values, using only the first one: [reflect.StructField bool]\n"
     ]
    },
    {
     "data": {
      "text/plain": [
       "reflect.StructField{\n",
       "  Name:\"Hi\",\n",
       "  PkgPath:\"\",\n",
       "  Type:(*reflect.rtype)(0x1634720),\n",
       "  Tag:\"json:\\\"hi,omitempty\\\"\",\n",
       "  Offset:0x0,\n",
       "  Index:[]int{\n",
       "  0\n",
       "}\n",
       ",\n",
       "  Anonymous:false\n",
       "}\n"
      ]
     },
     "execution_count": 32,
     "metadata": {},
     "output_type": "execute_result"
    }
   ],
   "source": [
    "v1 := tf.FieldByName(\"Hi\")\n",
    "f(v1)"
   ]
  },
  {
   "cell_type": "code",
   "execution_count": 33,
   "id": "15c3e0fb",
   "metadata": {
    "ExecuteTime": {
     "end_time": "2021-06-21T02:54:34Z",
     "start_time": "2021-06-21T02:54:34.626Z"
    }
   },
   "outputs": [],
   "source": [
    "tag := v1.Tag"
   ]
  },
  {
   "cell_type": "code",
   "execution_count": 34,
   "id": "7c20ed65",
   "metadata": {
    "ExecuteTime": {
     "end_time": "2021-06-21T02:54:35Z",
     "start_time": "2021-06-21T02:54:35.505Z"
    }
   },
   "outputs": [
    {
     "data": {
      "text/plain": [
       "hi,omitempty"
      ]
     },
     "execution_count": 34,
     "metadata": {},
     "output_type": "execute_result"
    }
   ],
   "source": [
    "tag.Get(\"json\")"
   ]
  },
  {
   "cell_type": "code",
   "execution_count": 35,
   "id": "6311b8b7",
   "metadata": {
    "ExecuteTime": {
     "end_time": "2021-06-21T02:54:36Z",
     "start_time": "2021-06-21T02:54:36.273Z"
    }
   },
   "outputs": [
    {
     "data": {
      "text/plain": []
     },
     "execution_count": 35,
     "metadata": {},
     "output_type": "execute_result"
    }
   ],
   "source": [
    "tag.Get(\"yaml\")"
   ]
  },
  {
   "cell_type": "code",
   "execution_count": 36,
   "id": "8859bcff",
   "metadata": {
    "ExecuteTime": {
     "end_time": "2021-06-21T02:54:36Z",
     "start_time": "2021-06-21T02:54:36.897Z"
    }
   },
   "outputs": [
    {
     "data": {
      "text/plain": [
       "[hi,omitempty] - true"
      ]
     },
     "execution_count": 36,
     "metadata": {},
     "output_type": "execute_result"
    }
   ],
   "source": [
    "v1,e1 := tag.Lookup(\"json\")\n",
    "fmt.Sprintf(\"[%+v] - %t\", v1, e1)   "
   ]
  },
  {
   "cell_type": "markdown",
   "id": "7e3982b8",
   "metadata": {},
   "source": [
    "### `Functions`"
   ]
  },
  {
   "cell_type": "code",
   "execution_count": 37,
   "id": "cc9bc500",
   "metadata": {
    "ExecuteTime": {
     "end_time": "2021-06-21T02:54:38Z",
     "start_time": "2021-06-21T02:54:38.178Z"
    }
   },
   "outputs": [],
   "source": [
    "x2 := reflect.TypeOf(t.SayHello)"
   ]
  },
  {
   "cell_type": "code",
   "execution_count": 38,
   "id": "f821782d",
   "metadata": {
    "ExecuteTime": {
     "end_time": "2021-06-21T02:54:38Z",
     "start_time": "2021-06-21T02:54:38.847Z"
    }
   },
   "outputs": [
    {
     "name": "stdout",
     "output_type": "stream",
     "text": [
      "reflect.StructField{\n",
      "  Name:\"Hi\",\n",
      "  PkgPath:\"\",\n",
      "  Type:(*reflect.rtype)(0x1634720),\n",
      "  Tag:\"json:\\\"hi,omitempty\\\"\",\n",
      "  Offset:0x0,\n",
      "  Index:[]int{\n",
      "  0\n",
      "}\n",
      ",\n",
      "  Anonymous:false\n",
      "}\n",
      "\n",
      "reflect.StructField{\n",
      "  Name:\"𒀸hi\",\n",
      "  PkgPath:\"\",\n",
      "  Type:(*reflect.rtype)(0x1634720),\n",
      "  Tag:\"\",\n",
      "  Offset:0x10,\n",
      "  Index:[]int{\n",
      "  1\n",
      "}\n",
      ",\n",
      "  Anonymous:false\n",
      "}\n",
      "\n"
     ]
    }
   ],
   "source": [
    "x1 := reflect.TypeOf(t)\n",
    "for i := 0; i < x1.NumField(); i++ {\n",
    "    fmt.Printf(\"%s\\n\", f(x1.Field(i)))  \n",
    "}"
   ]
  },
  {
   "cell_type": "code",
   "execution_count": 39,
   "id": "023efe73",
   "metadata": {
    "ExecuteTime": {
     "end_time": "2021-06-21T02:54:39Z",
     "start_time": "2021-06-21T02:54:39.564Z"
    }
   },
   "outputs": [
    {
     "data": {
      "text/plain": [
       "2"
      ]
     },
     "execution_count": 39,
     "metadata": {},
     "output_type": "execute_result"
    }
   ],
   "source": [
    "//Count inbound parameters\n",
    "x2.NumIn()"
   ]
  },
  {
   "cell_type": "code",
   "execution_count": 40,
   "id": "5f5cacd5",
   "metadata": {
    "ExecuteTime": {
     "end_time": "2021-06-21T02:54:40Z",
     "start_time": "2021-06-21T02:54:40.224Z"
    }
   },
   "outputs": [
    {
     "data": {
      "text/plain": [
       "1"
      ]
     },
     "execution_count": 40,
     "metadata": {},
     "output_type": "execute_result"
    }
   ],
   "source": [
    "//Count outbound parameters\n",
    "x2.NumOut()"
   ]
  },
  {
   "cell_type": "code",
   "execution_count": 41,
   "id": "aa50bf4a",
   "metadata": {
    "ExecuteTime": {
     "end_time": "2021-06-21T02:54:40Z",
     "start_time": "2021-06-21T02:54:40.747Z"
    }
   },
   "outputs": [
    {
     "data": {
      "text/plain": [
       "func(string, int) bool"
      ]
     },
     "execution_count": 41,
     "metadata": {},
     "output_type": "execute_result"
    }
   ],
   "source": [
    "// Method\n",
    "x2.String()"
   ]
  },
  {
   "cell_type": "code",
   "execution_count": 42,
   "id": "1ab1d4ef",
   "metadata": {
    "ExecuteTime": {
     "end_time": "2021-06-21T02:54:41Z",
     "start_time": "2021-06-21T02:54:41.330Z"
    }
   },
   "outputs": [
    {
     "data": {
      "text/plain": [
       "false"
      ]
     },
     "execution_count": 42,
     "metadata": {},
     "output_type": "execute_result"
    }
   ],
   "source": [
    "x2.IsVariadic()"
   ]
  },
  {
   "cell_type": "code",
   "execution_count": 43,
   "id": "baac9992",
   "metadata": {
    "ExecuteTime": {
     "end_time": "2021-06-21T02:54:41Z",
     "start_time": "2021-06-21T02:54:41.880Z"
    }
   },
   "outputs": [
    {
     "data": {
      "text/plain": []
     },
     "execution_count": 43,
     "metadata": {},
     "output_type": "execute_result"
    }
   ],
   "source": [
    "x2.PkgPath()"
   ]
  },
  {
   "cell_type": "code",
   "execution_count": 44,
   "id": "278874c2",
   "metadata": {
    "ExecuteTime": {
     "end_time": "2021-06-21T02:54:42Z",
     "start_time": "2021-06-21T02:54:42.466Z"
    }
   },
   "outputs": [
    {
     "data": {
      "text/plain": [
       "[]string{\n",
       "  \"param[0]  = kind: (string) name: (string)\",\n",
       "  \"param[1]  = kind: (int) name: (int)\"\n",
       "}\n"
      ]
     },
     "execution_count": 44,
     "metadata": {},
     "output_type": "execute_result"
    }
   ],
   "source": [
    "var out []string\n",
    "for i := 0; i < x2.NumIn(); i++ {\n",
    "    inV := x2.In(i)\n",
    "    res := fmt.Sprintf(\"param[%d]  = kind: (%v) name: (%v)\",i, inV.Kind(), inV.Name()) \n",
    "    out = append(out, res)\n",
    "}\n",
    "\n",
    "f(out)"
   ]
  },
  {
   "cell_type": "code",
   "execution_count": 45,
   "id": "576f1f73",
   "metadata": {
    "ExecuteTime": {
     "end_time": "2021-06-21T02:54:43Z",
     "start_time": "2021-06-21T02:54:43.169Z"
    }
   },
   "outputs": [
    {
     "name": "stdout",
     "output_type": "stream",
     "text": [
      "&reflect.rtype{\n",
      "  size:0x10,\n",
      "  ptrdata:0x8,\n",
      "  hash:0xe0ff5cb4,\n",
      "  tflag:0x7,\n",
      "  align:0x8,\n",
      "  fieldAlign:0x8,\n",
      "  kind:0x18,\n",
      "  equal:(func(unsafe.Pointer,\n",
      "  unsafe.Pointer) bool)(0x8169c0),\n",
      "  gcdata:(*uint8)(0x18368b0),\n",
      "  str:23238,\n",
      "  ptrToThis:434144\n",
      "}\n"
     ]
    },
    {
     "data": {
      "text/plain": [
       "[]string{\n",
       "  \"param[0]  = kind: (string) name: (string)\"\n",
       "}\n"
      ]
     },
     "execution_count": 45,
     "metadata": {},
     "output_type": "execute_result"
    }
   ],
   "source": [
    "var out []string\n",
    "for i := 0; i < x2.NumOut(); i++ {\n",
    "    inV := x2.In(i)\n",
    "    res := fmt.Sprintf(\"param[%d]  = kind: (%v) name: (%v)\",i, inV.Kind(), inV.Name()) \n",
    "    out = append(out, res)\n",
    "    fmt.Printf(\"%s\", f(inV))\n",
    "}\n",
    "\n",
    "f(out)"
   ]
  }
 ],
 "metadata": {
  "hide_input": false,
  "kernelspec": {
   "display_name": "Go",
   "language": "go",
   "name": "gophernotes"
  },
  "language_info": {
   "codemirror_mode": "",
   "file_extension": ".go",
   "mimetype": "",
   "name": "go",
   "nbconvert_exporter": "",
   "pygments_lexer": "",
   "version": "go1.16.5"
  },
  "toc": {
   "base_numbering": 1,
   "nav_menu": {},
   "number_sections": false,
   "sideBar": true,
   "skip_h1_title": true,
   "title_cell": "Table of Contents",
   "title_sidebar": "Contents",
   "toc_cell": false,
   "toc_position": {},
   "toc_section_display": true,
   "toc_window_display": false
  }
 },
 "nbformat": 4,
 "nbformat_minor": 5
}
