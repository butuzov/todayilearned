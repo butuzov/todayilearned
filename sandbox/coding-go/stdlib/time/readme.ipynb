{
 "cells": [
  {
   "cell_type": "markdown",
   "id": "bd9220cc",
   "metadata": {},
   "source": [
    "# `time`"
   ]
  },
  {
   "cell_type": "code",
   "execution_count": 5,
   "id": "a76c3ea6",
   "metadata": {
    "ExecuteTime": {
     "end_time": "2021-06-25T15:25:38Z",
     "start_time": "2021-06-25T15:25:38.356Z"
    }
   },
   "outputs": [],
   "source": [
    "import (\n",
    "    \"time\"\n",
    "    \"fmt\"\n",
    "    \"os\"\n",
    ")"
   ]
  },
  {
   "cell_type": "markdown",
   "id": "aecf033d",
   "metadata": {},
   "source": [
    "## Methods"
   ]
  },
  {
   "cell_type": "code",
   "execution_count": 2,
   "id": "65ab14e0",
   "metadata": {
    "ExecuteTime": {
     "end_time": "2021-06-21T03:00:48Z",
     "start_time": "2021-06-21T03:00:48.763Z"
    }
   },
   "outputs": [
    {
     "data": {
      "text/plain": [
       "2021-06-21 03:00:48.7992596 +0000 UTC m=+13.928864001"
      ]
     },
     "execution_count": 2,
     "metadata": {},
     "output_type": "execute_result"
    }
   ],
   "source": [
    "time.Now()"
   ]
  },
  {
   "cell_type": "code",
   "execution_count": 3,
   "id": "b36dce0a",
   "metadata": {
    "ExecuteTime": {
     "end_time": "2021-06-21T03:00:50Z",
     "start_time": "2021-06-21T03:00:50.515Z"
    }
   },
   "outputs": [
    {
     "data": {
      "text/plain": [
       "2021-06-21 03:00:50.5526857 +0000 UTC"
      ]
     },
     "execution_count": 3,
     "metadata": {},
     "output_type": "execute_result"
    }
   ],
   "source": [
    "// UTC\n",
    "time.Now().UTC()"
   ]
  },
  {
   "cell_type": "code",
   "execution_count": 4,
   "id": "05ae4443",
   "metadata": {
    "ExecuteTime": {
     "end_time": "2021-06-21T03:00:51Z",
     "start_time": "2021-06-21T03:00:51.988Z"
    }
   },
   "outputs": [
    {
     "data": {
      "text/plain": [
       "1624244451"
      ]
     },
     "execution_count": 4,
     "metadata": {},
     "output_type": "execute_result"
    }
   ],
   "source": [
    "// unixtimestamp\n",
    "time.Now().Unix()"
   ]
  },
  {
   "cell_type": "code",
   "execution_count": null,
   "id": "00c2513f",
   "metadata": {},
   "outputs": [],
   "source": []
  },
  {
   "cell_type": "markdown",
   "id": "ab2835f5",
   "metadata": {},
   "source": [
    "## Layouts"
   ]
  },
  {
   "cell_type": "code",
   "execution_count": 14,
   "id": "0604598d",
   "metadata": {
    "ExecuteTime": {
     "end_time": "2021-06-21T03:15:09Z",
     "start_time": "2021-06-21T03:15:09.233Z"
    }
   },
   "outputs": [],
   "source": [
    "// Monday, January 2nd 2006\n",
    "// at 15.04.05 in Rocky MOuntimtes (-07 timezone)"
   ]
  },
  {
   "cell_type": "code",
   "execution_count": 13,
   "id": "c44e33d3",
   "metadata": {
    "ExecuteTime": {
     "end_time": "2021-06-14T13:33:17Z",
     "start_time": "2021-06-14T13:33:17.783Z"
    }
   },
   "outputs": [
    {
     "data": {
      "text/plain": [
       "2021-06-14T13:33:17Z"
      ]
     },
     "execution_count": 13,
     "metadata": {},
     "output_type": "execute_result"
    }
   ],
   "source": [
    "// Go Provides different predefined layouts\n",
    "const (\n",
    "    ANSIC       = \"Mon Jan _2 15:04:05 2006\"\n",
    "    UnixDate    = \"Mon Jan _2 15:04:05 MST 2006\"\n",
    "    RubyDate    = \"Mon Jan 02 15:04:05 -0700 2006\"\n",
    "    RFC822      = \"02 Jan 06 15:04 MST\"\n",
    "    RFC822Z     = \"02 Jan 06 15:04 -0700\"\n",
    "    RFC850      = \"Monday, 02-Jan-06 15:04:05 MST\"\n",
    "    RFC1123     = \"Mon, 02 Jan 2006 15:04:05 MST\"\n",
    "    RFC1123Z    = \"Mon, 02 Jan 2006 15:04:05 -0700\"\n",
    "    RFC3339     = \"2006-01-02T15:04:05Z07:00\"\n",
    "    RFC3339Nano = \"2006-01-02T15:04:05.999999999Z07:00\"\n",
    "    Kitchen     = \"3:04PM\"\n",
    "    // Handy time stamps.\n",
    "    Stamp      = \"Jan _2 15:04:05\"\n",
    "    StampMilli = \"Jan _2 15:04:05.000\"\n",
    "    StampMicro = \"Jan _2 15:04:05.000000\"\n",
    "    StampNano  = \"Jan _2 15:04:05.000000000\"\n",
    "    )\n",
    "\n",
    "// RFC3339 for example!\n",
    "time.Now().Format(time.RFC3339)"
   ]
  },
  {
   "cell_type": "code",
   "execution_count": 12,
   "id": "a2f87cad",
   "metadata": {
    "ExecuteTime": {
     "end_time": "2021-06-14T13:33:02Z",
     "start_time": "2021-06-14T13:33:02.618Z"
    }
   },
   "outputs": [
    {
     "data": {
      "text/plain": [
       "2019-11-07 20:34:58.651387237 +0000 UTC"
      ]
     },
     "execution_count": 12,
     "metadata": {},
     "output_type": "execute_result"
    }
   ],
   "source": [
    "time.Date(2019, 11, 7, 20, 34, 58, 651387237, time.UTC)"
   ]
  },
  {
   "cell_type": "code",
   "execution_count": 5,
   "id": "d0afca10",
   "metadata": {
    "ExecuteTime": {
     "end_time": "2021-06-21T03:04:37Z",
     "start_time": "2021-06-21T03:04:37.683Z"
    }
   },
   "outputs": [],
   "source": [
    "t1 := time.Now()"
   ]
  },
  {
   "cell_type": "code",
   "execution_count": 6,
   "id": "49e3b06c",
   "metadata": {
    "ExecuteTime": {
     "end_time": "2021-06-21T03:04:48Z",
     "start_time": "2021-06-21T03:04:48.097Z"
    }
   },
   "outputs": [
    {
     "data": {
      "text/plain": [
       "2021 June 21"
      ]
     },
     "execution_count": 6,
     "metadata": {},
     "output_type": "execute_result"
    }
   ],
   "source": [
    "// tuple yar, month, date\n",
    "t1.UTC().Date()"
   ]
  },
  {
   "cell_type": "code",
   "execution_count": 12,
   "id": "715ce1af",
   "metadata": {
    "ExecuteTime": {
     "end_time": "2021-06-21T03:06:42Z",
     "start_time": "2021-06-21T03:06:42.426Z"
    }
   },
   "outputs": [
    {
     "data": {
      "text/plain": [
       "3:4:37"
      ]
     },
     "execution_count": 12,
     "metadata": {},
     "output_type": "execute_result"
    }
   ],
   "source": [
    "hour, min, sec := t1.Clock()\n",
    "fmt.Sprintf(\"%d:%d:%d\", hour, min, sec)"
   ]
  },
  {
   "cell_type": "code",
   "execution_count": 34,
   "id": "6bdb882c",
   "metadata": {
    "ExecuteTime": {
     "end_time": "2021-06-23T02:37:07Z",
     "start_time": "2021-06-23T02:37:07.673Z"
    }
   },
   "outputs": [
    {
     "data": {
      "text/plain": [
       "21 37"
      ]
     },
     "execution_count": 34,
     "metadata": {},
     "output_type": "execute_result"
    }
   ],
   "source": [
    "// calling day, month year, minute directly...\n",
    "fmt.Sprintf(\"%d %d\", t1.Day(), t1.Second())"
   ]
  },
  {
   "cell_type": "code",
   "execution_count": 7,
   "id": "5c272644",
   "metadata": {
    "ExecuteTime": {
     "end_time": "2021-06-21T03:04:53Z",
     "start_time": "2021-06-21T03:04:53.748Z"
    }
   },
   "outputs": [
    {
     "data": {
      "text/plain": [
       "2021-06-01 00:00:00 +0000 UTC"
      ]
     },
     "execution_count": 7,
     "metadata": {},
     "output_type": "execute_result"
    }
   ],
   "source": [
    "year, month, date := t1.UTC().Date()\n",
    "time.Date(year, month, 1, 0, 0, 0, 0, time.UTC)"
   ]
  },
  {
   "cell_type": "code",
   "execution_count": 35,
   "id": "9da030ee",
   "metadata": {
    "ExecuteTime": {
     "end_time": "2021-06-14T13:42:02Z",
     "start_time": "2021-06-14T13:42:00.342Z"
    }
   },
   "outputs": [
    {
     "name": "stderr",
     "output_type": "stream",
     "text": [
      "Took me 2.0014513s to execute\n"
     ]
    }
   ],
   "source": [
    "r := func(){\n",
    "    start := time.Now()\n",
    "    defer func(){println( \"Took me\", time.Since(start) , \"to execute\")}()\n",
    "\n",
    "    time.Sleep(2 * time.Second) \n",
    "}\n",
    "r()"
   ]
  },
  {
   "cell_type": "markdown",
   "id": "c4f64b45",
   "metadata": {},
   "source": [
    "### Subtraction "
   ]
  },
  {
   "cell_type": "code",
   "execution_count": 40,
   "id": "0a9ef60e",
   "metadata": {
    "ExecuteTime": {
     "end_time": "2021-06-23T02:44:36Z",
     "start_time": "2021-06-23T02:44:36.921Z"
    }
   },
   "outputs": [
    {
     "name": "stdout",
     "output_type": "stream",
     "text": [
      "year3000.After(year2000) = true\n",
      "year2000.After(year3000) = false\n"
     ]
    },
    {
     "data": {
      "text/plain": [
       "33 <nil>"
      ]
     },
     "execution_count": 40,
     "metadata": {},
     "output_type": "execute_result"
    }
   ],
   "source": [
    "year2000 := time.Date(2000, 1, 1, 0, 0, 0, 0, time.UTC)\n",
    "year3000 := time.Date(3000, 1, 1, 0, 0, 0, 0, time.UTC)\n",
    "\n",
    "isYear3000AfterYear2000 := year3000.After(year2000) // True\n",
    "isYear2000AfterYear3000 := year2000.After(year3000) // False\n",
    "\n",
    "fmt.Printf(\"year3000.After(year2000) = %v\\n\", isYear3000AfterYear2000)\n",
    "fmt.Printf(\"year2000.After(year3000) = %v\\n\", isYear2000AfterYear3000)\n"
   ]
  },
  {
   "cell_type": "markdown",
   "id": "187dfb12",
   "metadata": {},
   "source": [
    "## TimeZones"
   ]
  },
  {
   "cell_type": "code",
   "execution_count": 21,
   "id": "13ad9180",
   "metadata": {
    "ExecuteTime": {
     "end_time": "2021-06-21T03:19:24Z",
     "start_time": "2021-06-21T03:19:24.399Z"
    }
   },
   "outputs": [
    {
     "data": {
      "text/plain": [
       "America/New_York <nil>"
      ]
     },
     "execution_count": 21,
     "metadata": {},
     "output_type": "execute_result"
    }
   ],
   "source": [
    "newYork, err := time.LoadLocation(\"America/New_York\")\n",
    "fmt.Sprintf(\"%s %v\", newYork, err)"
   ]
  },
  {
   "cell_type": "code",
   "execution_count": 23,
   "id": "6125263c",
   "metadata": {
    "ExecuteTime": {
     "end_time": "2021-06-21T03:19:43Z",
     "start_time": "2021-06-21T03:19:43.109Z"
    }
   },
   "outputs": [
    {
     "data": {
      "text/plain": [
       "America/New_York"
      ]
     },
     "execution_count": 23,
     "metadata": {},
     "output_type": "execute_result"
    }
   ],
   "source": [
    "t2 := time.Date(2019, 11, 7, 20, 34, 58, 651387237, newYork)\n",
    "t2.Location()"
   ]
  },
  {
   "cell_type": "code",
   "execution_count": 25,
   "id": "428f1747",
   "metadata": {
    "ExecuteTime": {
     "end_time": "2021-06-21T03:19:59Z",
     "start_time": "2021-06-21T03:19:59.788Z"
    }
   },
   "outputs": [
    {
     "data": {
      "text/plain": [
       "2019-11-07 20:34:58.651387237 -0500 EST"
      ]
     },
     "execution_count": 25,
     "metadata": {},
     "output_type": "execute_result"
    }
   ],
   "source": [
    "t2"
   ]
  },
  {
   "cell_type": "code",
   "execution_count": 24,
   "id": "cb83cdc9",
   "metadata": {
    "ExecuteTime": {
     "end_time": "2021-06-21T03:19:54Z",
     "start_time": "2021-06-21T03:19:54.165Z"
    }
   },
   "outputs": [
    {
     "data": {
      "text/plain": [
       "2019-11-08 01:34:58.651387237 +0000 UTC"
      ]
     },
     "execution_count": 24,
     "metadata": {},
     "output_type": "execute_result"
    }
   ],
   "source": [
    "t2.UTC()"
   ]
  },
  {
   "cell_type": "code",
   "execution_count": 26,
   "id": "c2df0dea",
   "metadata": {
    "ExecuteTime": {
     "end_time": "2021-06-21T03:20:21Z",
     "start_time": "2021-06-21T03:20:21.620Z"
    }
   },
   "outputs": [
    {
     "data": {
      "text/plain": [
       "false"
      ]
     },
     "execution_count": 26,
     "metadata": {},
     "output_type": "execute_result"
    }
   ],
   "source": [
    "t2.Equal(time.Now())"
   ]
  },
  {
   "cell_type": "code",
   "execution_count": 28,
   "id": "f65aaa57",
   "metadata": {
    "ExecuteTime": {
     "end_time": "2021-06-21T03:21:35Z",
     "start_time": "2021-06-21T03:21:35.843Z"
    }
   },
   "outputs": [],
   "source": [
    "loc := time.FixedZone(\"Beijing Time\", -60)"
   ]
  },
  {
   "cell_type": "code",
   "execution_count": 30,
   "id": "97af70f0",
   "metadata": {
    "ExecuteTime": {
     "end_time": "2021-06-23T02:35:08Z",
     "start_time": "2021-06-23T02:35:08.393Z"
    }
   },
   "outputs": [
    {
     "data": {
      "text/plain": [
       "2019-11-08 01:33:58.651387237 -0001 Beijing Time"
      ]
     },
     "execution_count": 30,
     "metadata": {},
     "output_type": "execute_result"
    }
   ],
   "source": [
    "t2.In(loc)"
   ]
  },
  {
   "cell_type": "markdown",
   "id": "755e6eb5",
   "metadata": {},
   "source": [
    "### Gotchas"
   ]
  },
  {
   "cell_type": "code",
   "execution_count": 8,
   "id": "7d057aac",
   "metadata": {
    "ExecuteTime": {
     "end_time": "2021-06-25T15:25:52Z",
     "start_time": "2021-06-25T15:25:52.046Z"
    }
   },
   "outputs": [
    {
     "data": {
      "text/plain": [
       "Fri Jun 25 15:25:52 UTC 2021"
      ]
     },
     "execution_count": 8,
     "metadata": {},
     "output_type": "execute_result"
    }
   ],
   "source": [
    "time.Now().Format(time.UnixDate)"
   ]
  },
  {
   "cell_type": "code",
   "execution_count": 9,
   "id": "ed2744ec",
   "metadata": {
    "ExecuteTime": {
     "end_time": "2021-06-25T15:25:55Z",
     "start_time": "2021-06-25T15:25:55.185Z"
    }
   },
   "outputs": [
    {
     "data": {
      "text/plain": [
       "Fri Jun 25 15:25:55 UTC 2021"
      ]
     },
     "execution_count": 9,
     "metadata": {},
     "output_type": "execute_result"
    }
   ],
   "source": [
    "os.Setenv(\"TZ\", \"Africa/Cairo\")\n",
    "\n",
    "time.Now().Format(time.UnixDate)"
   ]
  },
  {
   "cell_type": "markdown",
   "id": "3e53f380",
   "metadata": {},
   "source": [
    "## Timeouts, Timers and Tickers"
   ]
  },
  {
   "cell_type": "code",
   "execution_count": 35,
   "id": "2665a5e1",
   "metadata": {
    "ExecuteTime": {
     "end_time": "2021-06-23T02:39:31Z",
     "start_time": "2021-06-23T02:39:28.085Z"
    }
   },
   "outputs": [
    {
     "data": {
      "text/plain": [
       "2021-06-23 02:39:31.1250852 +0000 UTC m=+37379.619555901 true"
      ]
     },
     "execution_count": 35,
     "metadata": {},
     "output_type": "execute_result"
    }
   ],
   "source": [
    "// read from channel in 3 seconds\n",
    "<-time.After(3 * time.Second)"
   ]
  },
  {
   "cell_type": "code",
   "execution_count": 39,
   "id": "cccbffca",
   "metadata": {
    "ExecuteTime": {
     "end_time": "2021-06-23T02:42:46Z",
     "start_time": "2021-06-23T02:42:45.891Z"
    }
   },
   "outputs": [
    {
     "data": {
      "text/plain": [
       "foobartrue"
      ]
     },
     "execution_count": 39,
     "metadata": {},
     "output_type": "execute_result"
    }
   ],
   "source": [
    "ch := make(chan string)\n",
    "time.AfterFunc(time.Second, func(){\n",
    "    ch <- \"foobar\"\n",
    "})\n",
    "\n",
    "<-ch"
   ]
  },
  {
   "cell_type": "code",
   "execution_count": 45,
   "id": "2d132f20",
   "metadata": {
    "ExecuteTime": {
     "end_time": "2021-06-23T02:47:16Z",
     "start_time": "2021-06-23T02:47:15.151Z"
    }
   },
   "outputs": [
    {
     "name": "stdout",
     "output_type": "stream",
     "text": [
      "ping @ 02:47:15.6769849\n",
      "ping @ 02:47:16.1734136\n",
      "ping @ 02:47:16.673634\n"
     ]
    },
    {
     "data": {
      "text/plain": [
       "ticker stoped\n"
      ]
     },
     "execution_count": 45,
     "metadata": {},
     "output_type": "execute_result"
    }
   ],
   "source": [
    "ticker := time.NewTicker(500 * time.Millisecond)\n",
    "go func() {\n",
    "   var f = \"15:04:05.999999999\"\n",
    "   for t := range ticker.C {\n",
    "      fmt.Println(\"ping @\", t.Format(f))\n",
    "   }\n",
    "}()\n",
    "\n",
    "time.Sleep(1600 * time.Millisecond)\n",
    "ticker.Stop()\n",
    "fmt.Sprintln(\"ticker stoped\")"
   ]
  },
  {
   "cell_type": "code",
   "execution_count": null,
   "id": "724eab8c",
   "metadata": {},
   "outputs": [],
   "source": []
  }
 ],
 "metadata": {
  "hide_input": false,
  "kernelspec": {
   "display_name": "Go",
   "language": "go",
   "name": "gophernotes"
  },
  "language_info": {
   "codemirror_mode": "",
   "file_extension": ".go",
   "mimetype": "",
   "name": "go",
   "nbconvert_exporter": "",
   "pygments_lexer": "",
   "version": "go1.16.4"
  },
  "toc": {
   "base_numbering": 1,
   "nav_menu": {},
   "number_sections": false,
   "sideBar": true,
   "skip_h1_title": true,
   "title_cell": "Table of Contents",
   "title_sidebar": "Contents",
   "toc_cell": false,
   "toc_position": {},
   "toc_section_display": true,
   "toc_window_display": false
  }
 },
 "nbformat": 4,
 "nbformat_minor": 5
}
