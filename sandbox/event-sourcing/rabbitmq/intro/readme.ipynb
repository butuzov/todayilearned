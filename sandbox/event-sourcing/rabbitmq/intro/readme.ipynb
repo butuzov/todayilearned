{
 "cells": [
  {
   "cell_type": "markdown",
   "id": "0fd5160b",
   "metadata": {},
   "source": [
    "<!-- menu: Introduction -->\n",
    "<!-- weight: 10 -->\n",
    "# Introduction to RabbitMQ"
   ]
  },
  {
   "cell_type": "markdown",
   "id": "b452e613",
   "metadata": {},
   "source": [
    "![](../images/exchanges-topic-fanout-direct.png)"
   ]
  },
  {
   "cell_type": "markdown",
   "id": "9a0b680a",
   "metadata": {},
   "source": [
    "## Queues & Exchanges"
   ]
  },
  {
   "cell_type": "markdown",
   "id": "3cbcd825",
   "metadata": {},
   "source": [
    "### Queues"
   ]
  },
  {
   "cell_type": "markdown",
   "id": "7f44869b",
   "metadata": {},
   "source": [
    "Every queue declared gets a default binding to the empty exchange \"\" which has\n",
    "the type \"direct\" with the routing key matching the queue's name.  With this\n",
    "default binding, it is possible to publish messages that route directly to\n",
    "this queue by publishing to \"\" with the routing key of the queue name.\n",
    "\n",
    "```\n",
    "  QueueDeclare(\"alerts\", true, false, false, false, nil)\n",
    "  Publish(\"\", \"alerts\", false, false, Publishing{Body: []byte(\"...\")})\n",
    "\n",
    "  Delivery       Exchange  Key       Queue\n",
    "  -----------------------------------------------\n",
    "  key: alerts -> \"\"     -> alerts -> alerts\n",
    "```\n",
    "\n",
    "The queue name may be empty, in which case the server will generate a unique name\n",
    "which will be returned in the Name field of Queue struct.\n",
    "\n",
    "__Durable__ and __Non-Auto-Deleted__ queues will survive server restarts and remain\n",
    "when there are no remaining consumers or bindings.  Persistent publishings will\n",
    "be restored in this queue on server restart.  These queues are only able to be\n",
    "bound to durable exchanges.\n",
    "\n",
    "__Non-Durable__ and __Auto-Deleted__ queues will not be redeclared on server restart\n",
    "and will be deleted by the server after a short time when the last consumer is\n",
    "canceled or the last consumer's channel is closed.  Queues with this lifetime\n",
    "can also be deleted normally with QueueDelete.  These durable queues can only\n",
    "be bound to non-durable exchanges.\n",
    "\n",
    "__Non-Durable__ and __Non-Auto-Deleted__ queues will remain declared as long as the\n",
    "server is running regardless of how many consumers.  This lifetime is useful\n",
    "for temporary topologies that may have long delays between consumer activity.\n",
    "These queues can only be bound to non-durable exchanges.\n",
    "\n",
    "__Durable__ and __Auto-Deleted__ queues will be restored on server restart, but without\n",
    "active consumers will not survive and be removed.  This Lifetime is unlikely\n",
    "to be useful.\n",
    "\n",
    "__Exclusive__ queues are only accessible by the connection that declares them and\n",
    "will be deleted when the connection closes.  Channels on other connections\n",
    "will receive an error when attempting  to declare, bind, consume, purge or\n",
    "delete a queue with the same name.\n",
    "\n",
    "When __noWait__ is true, the queue will assume to be declared on the server.  A\n",
    "channel exception will arrive if the conditions are met for existing queues\n",
    "or attempting to modify an existing queue from a different connection.\n",
    "\n",
    "When the error return value is not nil, you can assume the queue could not be\n",
    "declared with these parameters, and the channel will be closed."
   ]
  },
  {
   "cell_type": "markdown",
   "id": "cfaebdcd",
   "metadata": {},
   "source": [
    "### Exchanges "
   ]
  },
  {
   "cell_type": "markdown",
   "id": "5890063f",
   "metadata": {},
   "source": [
    "Exchange names starting with \"amq.\" are reserved for pre-declared and\n",
    "standardized exchanges. The client MAY declare an exchange starting with\n",
    "\"amq.\" if the passive option is set, or the exchange already exists.  Names can\n",
    "consist of a non-empty sequence of letters, digits, hyphen, underscore,\n",
    "period, or colon.\n",
    "\n",
    "Each exchange belongs to one of a set of exchange kinds/types implemented by\n",
    "the server. The exchange types define the functionality of the exchange - i.e.\n",
    "how messages are routed through it. Once an exchange is declared, its type\n",
    "cannot be changed.  The common types are \"direct\", \"fanout\", \"topic\" and\n",
    "\"headers\".\n",
    "\n",
    "__Durable__ and __Non-Auto-Deleted__ exchanges will survive server restarts and remain\n",
    "declared when there are no remaining bindings.  This is the best lifetime for\n",
    "long-lived exchange configurations like stable routes and default exchanges.\n",
    "\n",
    "__Non-Durable__ and __Auto-Deleted__ exchanges will be deleted when there are no\n",
    "remaining bindings and not restored on server restart.  This lifetime is\n",
    "useful for temporary topologies that should not pollute the virtual host on\n",
    "failure or after the consumers have completed.\n",
    "\n",
    "__Non-Durable__ and __Non-Auto-deleted__ exchanges will remain as long as the server is\n",
    "running including when there are no remaining bindings.  This is useful for\n",
    "temporary topologies that may have long delays between bindings.\n",
    "\n",
    "__Durable__ and __Auto-Deleted__ exchanges will survive server restarts and will be\n",
    "removed before and after server restarts when there are no remaining bindings.\n",
    "These exchanges are useful for robust temporary topologies or when you require\n",
    "binding durable queues to auto-deleted exchanges.\n",
    "\n",
    "Note: RabbitMQ declares the default exchange types like 'amq.fanout' as\n",
    "durable, so queues that bind to these pre-declared exchanges must also be\n",
    "durable.\n",
    "\n",
    "Exchanges declared as `internal` do not accept accept publishings. Internal\n",
    "exchanges are useful when you wish to implement inter-exchange topologies\n",
    "that should not be exposed to users of the broker.\n",
    "\n",
    "When __noWait__ is true, declare without waiting for a confirmation from the server.\n",
    "The channel may be closed as a result of an error.  Add a NotifyClose listener\n",
    "to respond to any exceptions.\n",
    "\n",
    "Optional amqp.Table of arguments that are specific to the server's implementation of\n",
    "the exchange can be sent for exchange types that require extra parameters."
   ]
  },
  {
   "cell_type": "markdown",
   "id": "7291e2db",
   "metadata": {},
   "source": [
    "### Queues Binding"
   ]
  },
  {
   "cell_type": "markdown",
   "id": "be5a7347",
   "metadata": {
    "ExecuteTime": {
     "end_time": "2021-07-07T10:35:22Z",
     "start_time": "2021-07-07T10:35:22.316Z"
    }
   },
   "source": [
    "QueueBind binds an exchange to a queue so that publishings to the exchange will\n",
    "be routed to the queue when the publishing routing key matches the binding\n",
    "routing key.\n",
    "\n",
    "```\n",
    "  QueueBind(\"pagers\", \"alert\", \"log\", false, nil)\n",
    "  QueueBind(\"emails\", \"info\", \"log\", false, nil)\n",
    "\n",
    "  Delivery       Exchange  Key       Queue\n",
    "  -----------------------------------------------\n",
    "  key: alert --> log ----> alert --> pagers\n",
    "  key: info ---> log ----> info ---> emails\n",
    "  key: debug --> log       (none)    (dropped)\n",
    "```\n",
    "\n",
    "If a binding with the same key and arguments already exists between the\n",
    "exchange and queue, the attempt to rebind will be ignored and the existing\n",
    "binding will be retained.\n",
    "\n",
    "In the case that multiple bindings may cause the message to be routed to the\n",
    "same queue, the server will only route the publishing once.  This is possible\n",
    "with topic exchanges.\n",
    "\n",
    "```\n",
    "  QueueBind(\"pagers\", \"alert\", \"amq.topic\", false, nil)\n",
    "  QueueBind(\"emails\", \"info\", \"amq.topic\", false, nil)\n",
    "  QueueBind(\"emails\", \"#\", \"amq.topic\", false, nil) // match everything\n",
    "\n",
    "  Delivery       Exchange        Key       Queue\n",
    "  -----------------------------------------------\n",
    "  key: alert --> amq.topic ----> alert --> pagers\n",
    "  key: info ---> amq.topic ----> # ------> emails\n",
    "                           \\---> info ---/\n",
    "  key: debug --> amq.topic ----> # ------> emails\n",
    "```\n",
    "\n",
    "It is only possible to bind a durable queue to a durable exchange regardless of\n",
    "whether the queue or exchange is auto-deleted.  Bindings between durable queues\n",
    "and exchanges will also be restored on server restart.\n",
    "\n",
    "If the binding could not complete, an error will be returned and the channel\n",
    "will be closed.\n",
    "\n",
    "When noWait is false and the queue could not be bound, the channel will be\n",
    "closed with an error.\n"
   ]
  },
  {
   "cell_type": "markdown",
   "id": "8577efdb",
   "metadata": {
    "ExecuteTime": {
     "end_time": "2021-07-05T01:27:53Z",
     "start_time": "2021-07-05T01:27:53.030Z"
    }
   },
   "source": [
    "### `property[type]`\n",
    "\n",
    "* direct\n",
    "* fanout \n",
    "* topic\n",
    "* headers\n"
   ]
  },
  {
   "cell_type": "markdown",
   "id": "c153502b",
   "metadata": {},
   "source": [
    "## Publising & Consuming"
   ]
  },
  {
   "cell_type": "markdown",
   "id": "5e135548",
   "metadata": {},
   "source": [
    "### Publishing"
   ]
  },
  {
   "cell_type": "markdown",
   "id": "ee917e09",
   "metadata": {},
   "source": [
    "Publish sends a Publishing from the client to an exchange on the server.\n",
    "\n",
    "* Publishings can be undeliverable when the _mandatory_ flag is true and _no queue is bound that matches_ the routing key, or when the immediate flag is true and no consumer on the matched queue is ready to accept the delivery."
   ]
  }
 ],
 "metadata": {
  "hide_input": false,
  "kernelspec": {
   "display_name": "Go",
   "language": "go",
   "name": "golang"
  },
  "language_info": {
   "codemirror_mode": "",
   "file_extension": ".go",
   "mimetype": "",
   "name": "go",
   "nbconvert_exporter": "",
   "pygments_lexer": "",
   "version": "go1.20.5"
  },
  "toc": {
   "base_numbering": 1,
   "nav_menu": {},
   "number_sections": false,
   "sideBar": true,
   "skip_h1_title": true,
   "title_cell": "Table of Contents",
   "title_sidebar": "Contents",
   "toc_cell": false,
   "toc_position": {},
   "toc_section_display": true,
   "toc_window_display": true
  }
 },
 "nbformat": 4,
 "nbformat_minor": 5
}
