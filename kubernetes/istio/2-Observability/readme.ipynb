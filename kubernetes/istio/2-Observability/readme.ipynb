{
 "cells": [
  {
   "cell_type": "markdown",
   "id": "ccd2342d",
   "metadata": {
    "toc": true
   },
   "source": [
    "<h1>Logging, Monitoring &amp; Traicing<span class=\"tocSkip\"></span></h1>\n",
    "<div class=\"toc\"><ul class=\"toc-item\"><li><span><a href=\"#Demo-Deployment\" data-toc-modified-id=\"Demo-Deployment-1\"><span class=\"toc-item-num\">1&nbsp;&nbsp;</span>Demo Deployment</a></span><ul class=\"toc-item\"><li><span><a href=\"#v1---TypeScript\" data-toc-modified-id=\"v1---TypeScript-1.1\"><span class=\"toc-item-num\">1.1&nbsp;&nbsp;</span><code>v1</code> - TypeScript</a></span></li><li><span><a href=\"#v2---Go\" data-toc-modified-id=\"v2---Go-1.2\"><span class=\"toc-item-num\">1.2&nbsp;&nbsp;</span><code>v2</code> - Go</a></span></li><li><span><a href=\"#docker-compose.yaml\" data-toc-modified-id=\"docker-compose.yaml-1.3\"><span class=\"toc-item-num\">1.3&nbsp;&nbsp;</span><code>docker-compose.yaml</code></a></span></li></ul></li><li><span><a href=\"#Deploying-Application-to-the-local-kubernetes-cluster\" data-toc-modified-id=\"Deploying-Application-to-the-local-kubernetes-cluster-2\"><span class=\"toc-item-num\">2&nbsp;&nbsp;</span>Deploying Application to the local kubernetes cluster</a></span></li><li><span><a href=\"#Observability-with-Istio\" data-toc-modified-id=\"Observability-with-Istio-3\"><span class=\"toc-item-num\">3&nbsp;&nbsp;</span>Observability with Istio</a></span><ul class=\"toc-item\"><li><span><a href=\"#Kiali\" data-toc-modified-id=\"Kiali-3.1\"><span class=\"toc-item-num\">3.1&nbsp;&nbsp;</span><a href=\"https://istio.io/latest/docs/ops/integrations/kiali/\" target=\"_blank\">Kiali</a></a></span></li><li><span><a href=\"#Jaeger\" data-toc-modified-id=\"Jaeger-3.2\"><span class=\"toc-item-num\">3.2&nbsp;&nbsp;</span><a href=\"https://istio.io/latest/docs/ops/integrations/jaeger/\" target=\"_blank\">Jaeger</a></a></span></li><li><span><a href=\"#Grafana\" data-toc-modified-id=\"Grafana-3.3\"><span class=\"toc-item-num\">3.3&nbsp;&nbsp;</span><a href=\"https://istio.io/latest/docs/ops/integrations/grafana/\" target=\"_blank\">Grafana</a></a></span></li></ul></li><li><span><a href=\"#Reading\" data-toc-modified-id=\"Reading-4\"><span class=\"toc-item-num\">4&nbsp;&nbsp;</span>Reading</a></span></li></ul></div>"
   ]
  },
  {
   "cell_type": "markdown",
   "id": "935622bd",
   "metadata": {},
   "source": [
    "## Demo Deployment"
   ]
  },
  {
   "cell_type": "markdown",
   "id": "71bca743",
   "metadata": {},
   "source": [
    "We are working with a microservice basd application written in **typescript** with next architecture, with a goal in mind to improve it (we will switch to **go** based microservices while learnig istio).\n",
    "\n",
    "![](./architecture.png)"
   ]
  },
  {
   "cell_type": "markdown",
   "id": "7a99ca5b",
   "metadata": {},
   "source": [
    "### `v1` - TypeScript\n",
    "\n",
    "\n",
    "We going to use legacy microservices written in typescript on first itteration of our start up, but we can't deploy it, so we will change it a bit so our developers can start working, now!"
   ]
  },
  {
   "cell_type": "markdown",
   "id": "e5c4dff5",
   "metadata": {
    "ExecuteTime": {
     "end_time": "2021-10-31T11:09:54.352634Z",
     "start_time": "2021-10-31T11:09:54.343490Z"
    }
   },
   "source": [
    "**`Docekrfile`**\n",
    "\n",
    "Changing existing Dockerfiles so build env can be self containd.\n",
    "\n",
    "```diff\n",
    "- ENV NODE_ENV production\n",
    "...\n",
    "\n",
    "- ADD package*.json /home/node/\n",
    "- Add dist/ /home/node/dist/\n",
    "+ ADD . /home/node/\n",
    "+ RUN npm install && npm run build\n",
    "+ ENV NODE_ENV production\n",
    "```"
   ]
  },
  {
   "cell_type": "markdown",
   "id": "81a32f72",
   "metadata": {},
   "source": [
    "Also: all microservice applciations are now supports custom to be run on custom port."
   ]
  },
  {
   "cell_type": "markdown",
   "id": "c51a7322",
   "metadata": {},
   "source": [
    "**`frontend`** service\n",
    "\n",
    "minor tweaks to frontend service so we can can customize URL of dependand services later if needed.\n",
    "\n",
    "```diff\n",
    "- export const authorsBaseUrl = 'http://authors:3000/api/v1';\n",
    "- export const booksBaseUrl ='http://books:3000/api/v1';\n",
    "+ export const authorsBaseUrl = process.env.URL_BASE_AUTHORS || 'http://authors:3000/api/v1';\n",
    "+ export const booksBaseUrl = process.env.URL_BASE_BOOKS || 'http://books:3000/api/v1';\n",
    "\n",
    "```"
   ]
  },
  {
   "cell_type": "markdown",
   "id": "d7a3a582",
   "metadata": {},
   "source": [
    "**Pros**: \n",
    "- build proccess self containd\n",
    "- can be easily demoed with docker-compse for a local style development.\n",
    "\n",
    "**Cons**:\n",
    "- Bigger image with additional artifacts"
   ]
  },
  {
   "cell_type": "markdown",
   "id": "c8bcbb9c",
   "metadata": {},
   "source": [
    "### `v2` - Go"
   ]
  },
  {
   "cell_type": "markdown",
   "id": "8aac8ffd",
   "metadata": {},
   "source": [
    "We have rewrite out microservices with Go(lang)?, this help our team (me /s) to move faster, and make changes with more confidience.\n",
    "\n",
    "**Pros**:\n",
    "- smaller images\n",
    "- fast on track development\n",
    "\n",
    "**Cons**:\n",
    "- none"
   ]
  },
  {
   "cell_type": "markdown",
   "id": "3de9b564",
   "metadata": {},
   "source": [
    "###  `docker-compose.yaml`\n",
    "\n",
    "```yaml\n",
    "version: '3.7'\n",
    "\n",
    "services:\n",
    "\n",
    "  authors:\n",
    "    image: butuzov/authors:v1\n",
    "    build:\n",
    "      context: ./services/authors/v1\n",
    "      dockerfile: Dockerfile\n",
    "    ports: [ 8082:3000 ]\n",
    "    environment:\n",
    "      PORT: 3000\n",
    "\n",
    "  books:\n",
    "    image: butuzov/books:v1\n",
    "    build:\n",
    "      context: ./services/books/v1\n",
    "      dockerfile: Dockerfile\n",
    "    ports: [ 8081:3000 ]\n",
    "    environment:\n",
    "      PORT: 3000\n",
    "\n",
    "  front-end:\n",
    "    image: butuzov/frontend:v1\n",
    "    build:\n",
    "      context: ./services/frontend/v1\n",
    "      dockerfile: Dockerfile\n",
    "    ports: [ 8080:3000 ]\n",
    "    environment:\n",
    "      PORT: 3000\n",
    "      URL_BASE_AUTHORS: http://authors:3000/api/v1\n",
    "      URL_BASE_BOOKS: http://books:3000/api/v1\n",
    "    restart: on-failure\n",
    "    depends_on:\n",
    "    - \"books\"\n",
    "    - \"authors\"\n",
    "\n",
    "```\n"
   ]
  },
  {
   "cell_type": "markdown",
   "id": "a985108d",
   "metadata": {},
   "source": [
    "**Testing local artifacts**\n",
    "\n",
    "In order to provide fast feedback loop to our developers (me) we going to use `docker-compose.yaml` for a images testing."
   ]
  },
  {
   "cell_type": "markdown",
   "id": "8dfc4869",
   "metadata": {},
   "source": [
    "```shell\n",
    "docker-compose up -d\n",
    "docker-compose ps\n",
    "curl -s http://localhost:8082/api/v1/authors | jq  '.[].lastName'\n",
    "curl -s http://localhost:8081/api/v1/books | jq  '.[].title'\n",
    "curl -s http://localhost:8080/api/v1/dashboard/ | jq '.authors[].firstName'\n",
    "curl -s http://localhost:8080/api/v1/dashboard/ | jq '.books[].title'\n",
    "```\n",
    "\n",
    "![](local-test.png)"
   ]
  },
  {
   "cell_type": "markdown",
   "id": "4887a256",
   "metadata": {},
   "source": [
    "Having docker-compose will laso allow up to shortcut local images created using `docker-compose build...` command"
   ]
  },
  {
   "cell_type": "markdown",
   "id": "8fd75e3e",
   "metadata": {},
   "source": [
    "## Deploying Application to the local kubernetes cluster"
   ]
  },
  {
   "cell_type": "markdown",
   "id": "5e979d71",
   "metadata": {},
   "source": [
    "```shell\n",
    "./build-and-publish-images.sh\n",
    "# as result 6 images published to docker hub.\n",
    "# (typescript) butuzov/demoapp-authors:v1\n",
    "# (go)         butuzov/demoapp-authors:v2\n",
    "# (typescript) butuzov/demoapp-books:v1\n",
    "# (go)         butuzov/demoapp-books:v2\n",
    "# (typescript) butuzov/emoapp-frontend:v1\n",
    "# (go)         butuzov/emoapp-frontend:v2\n",
    "```"
   ]
  },
  {
   "cell_type": "markdown",
   "id": "1b339053",
   "metadata": {
    "ExecuteTime": {
     "end_time": "2021-11-02T14:26:26.261912Z",
     "start_time": "2021-11-02T14:26:26.004173Z"
    }
   },
   "source": [
    "Deploying resources to Kubernetes\n",
    "\n",
    "```shell\n",
    "> k apply -f k8s/namespace.yaml\n",
    "namespace/istio-course created\n",
    "> k label namespace istio-course istio-injection=enabled\n",
    "namespace/istio-course labeled\n",
    "> k apply -f k8s/deployments/ \n",
    "service/authors created\n",
    "serviceaccount/servicemesh-authors created\n",
    "deployment.apps/authors-v1 created\n",
    "deployment.apps/authors-v2 created\n",
    "service/books created\n",
    "serviceaccount/servicemesh-books created\n",
    "deployment.apps/books-v1 created\n",
    "deployment.apps/books-v2 created\n",
    "service/frontend created\n",
    "serviceaccount/servicemesh-frontend created\n",
    "deployment.apps/frontend-v1 created\n",
    "deployment.apps/frontend-v2 created\n",
    "> k get pods,deployments,svc\n",
    "NAME                               READY   STATUS    RESTARTS   AGE\n",
    "pod/authors-v1-6c87dd847-wzkd2     2/2     Running   0          3m54s\n",
    "pod/authors-v2-b95b8fc4f-llvh4     2/2     Running   0          3m53s\n",
    "pod/books-v1-586bff9c8f-kzksd      2/2     Running   0          3m52s\n",
    "pod/books-v2-69d6c56c99-bgkxx      2/2     Running   0          3m53s\n",
    "pod/frontend-v1-598f55fdd7-8pz6p   2/2     Running   0          3m52s\n",
    "pod/frontend-v2-b97dcd96f-l8cth    2/2     Running   0          3m52s\n",
    "\n",
    "NAME                          READY   UP-TO-DATE   AVAILABLE   AGE\n",
    "deployment.apps/authors-v1    1/1     1            1           3m54s\n",
    "deployment.apps/authors-v2    1/1     1            1           3m54s\n",
    "deployment.apps/books-v1      1/1     1            1           3m53s\n",
    "deployment.apps/books-v2      1/1     1            1           3m53s\n",
    "deployment.apps/frontend-v1   1/1     1            1           3m53s\n",
    "deployment.apps/frontend-v2   1/1     1            1           3m53s\n",
    "\n",
    "NAME               TYPE           CLUSTER-IP      EXTERNAL-IP   PORT(S)          AGE\n",
    "service/authors    LoadBalancer   10.110.18.98    <pending>     3000:30051/TCP   3m54s\n",
    "service/books      LoadBalancer   10.111.195.13   <pending>     3000:30667/TCP   3m54s\n",
    "service/frontend   LoadBalancer   10.108.74.203   <pending>     3000:30791/TCP   3m53s\n",
    "```"
   ]
  },
  {
   "cell_type": "markdown",
   "id": "adad48a8",
   "metadata": {
    "ExecuteTime": {
     "end_time": "2021-11-02T14:28:23.899256Z",
     "start_time": "2021-11-02T14:28:23.891090Z"
    }
   },
   "source": [
    "Adding Gateway\n",
    "\n",
    "```bash\n",
    " > k apply -f k8s/gateway/course-ingress-controller.yml\n",
    "Warning: networking.k8s.io/v1beta1 Ingress is deprecated in v1.19+, unavailable in v1.22+; use networking.k8s.io/v1 Ingress\n",
    "ingress.networking.k8s.io/course-istio-gateway created\n",
    "\n",
    " > kubectl get ingress\n",
    "NAME                   CLASS    HOSTS   ADDRESS   PORTS   AGE\n",
    "course-istio-gateway   <none>   *                 80      29s\n",
    " > k apply -f k8s/gateway/course-gateway-controller.yml\n",
    "gateway.networking.istio.io/course-frontend-gateway created\n",
    "virtualservice.networking.istio.io/course-istio created\n",
    " > k get gateway\n",
    "NAME                      AGE\n",
    "course-frontend-gateway   6s\n",
    "```"
   ]
  },
  {
   "cell_type": "markdown",
   "id": "45b81146",
   "metadata": {
    "ExecuteTime": {
     "end_time": "2021-11-02T14:54:25.780606Z",
     "start_time": "2021-11-02T14:54:25.752967Z"
    }
   },
   "source": [
    "```shell\n",
    "> export INGRESS_PORT=$(kubectl -n istio-system get service istio-ingressgateway -o jsonpath='{.spec.ports[?(@.name==\"http2\")].nodePort}')\n",
    "> export INGRESS_HOST=$(minikube ip)\n",
    "```"
   ]
  },
  {
   "cell_type": "markdown",
   "id": "327773e6",
   "metadata": {},
   "source": [
    "command\n",
    "\n",
    "```\n",
    "curl -s http://192.168.99.101:30080/frontend-catalog/api/v1/dashboard/\n",
    "```\n",
    "\n",
    "output \n",
    "\n",
    "```json\n",
    "{\"authors\":[{\"Id\":\"1\",\"FirstName\":\"Loreth Anne\",\"LastName\":\"White\",\"Born\":\"South Africa\"},{\"Id\":\"2\",\"FirstName\":\"Lisa\",\"LastName\":\"Regan\",\"Born\":\"USA\"},{\"Id\":\"3\",\"FirstName\":\"Ty\",\"LastName\":\"Patterson\",\"Born\":\"USA\"},{\"Id\":\"4\",\"FirstName\":\"Sue\",\"LastName\":\"Burke\",\"Born\":\"USA\"},{\"Id\":\"5\",\"FirstName\":\"Aliya\",\"LastName\":\"Whiteley\",\"Born\":\"UK\"},{\"Id\":\"6\",\"FirstName\":\"Yoon Ha\",\"LastName\":\"Lee\",\"Born\":\"USA\"}],\"books\":[{\"title\":\"Ninefox Gambit\",\"authorId\":\"6\",\"genres\":[\"Novel\",\"Science Fiction\"]},{\"title\":\"Raven Stratagem\",\"authorId\":\"6\",\"genres\":[\"Science Fiction\",\"Fantasy Fiction\"]},{\"title\":\"Revenant Gun\",\"authorId\":\"6\",\"genres\":[\"Science Fiction\",\"Adventure fiction\"]},{\"title\":\"Semiosis: A Novel\",\"authorId\":\"South Africa\",\"genres\":[\"Novel\",\"Science Fiction\",\"Space opera\",\"Hard science fiction\"]},{\"title\":\"The Loosening Skin\",\"authorId\":\"5\",\"genres\":[\"Science Fiction\"]}]}\n",
    "```"
   ]
  },
  {
   "cell_type": "markdown",
   "id": "91a89f61",
   "metadata": {},
   "source": [
    "## Observability with Istio"
   ]
  },
  {
   "cell_type": "markdown",
   "id": "4416ee69",
   "metadata": {
    "ExecuteTime": {
     "end_time": "2021-11-03T08:23:09.271169Z",
     "start_time": "2021-11-03T08:23:09.241100Z"
    }
   },
   "source": [
    "### [Kiali](https://istio.io/latest/docs/ops/integrations/kiali/)"
   ]
  },
  {
   "cell_type": "markdown",
   "id": "f29f4a7e",
   "metadata": {},
   "source": [
    "```\n",
    "k apply -f https://raw.githubusercontent.com/istio/istio/release-1.11/samples/addons/kiali.yaml\n",
    "istioctl dashboard kiali &\n",
    "hey http://192.168.99.101:30080/frontend-catalog/api/v1/dashboard/  \n",
    "```\n",
    "\n",
    "![](kiali.png)"
   ]
  },
  {
   "cell_type": "markdown",
   "id": "669f466b",
   "metadata": {},
   "source": [
    "### [Jaeger](https://istio.io/latest/docs/ops/integrations/jaeger/)"
   ]
  },
  {
   "cell_type": "markdown",
   "id": "f0380739",
   "metadata": {
    "ExecuteTime": {
     "end_time": "2021-11-03T08:30:14.085120Z",
     "start_time": "2021-11-03T08:30:14.077560Z"
    }
   },
   "source": [
    "```\n",
    "k apply -f https://raw.githubusercontent.com/istio/istio/release-1.11/samples/addons/jaeger.yaml\n",
    "istioctl dashboard jaeger &\n",
    "http://localhost:16686\n",
    "```\n",
    "\n",
    "![](jaeger1.png)\n",
    "\n",
    "![](jaeger2.png)"
   ]
  },
  {
   "cell_type": "markdown",
   "id": "fe5bf6f9",
   "metadata": {},
   "source": [
    "### [Grafana](https://istio.io/latest/docs/ops/integrations/grafana/)"
   ]
  },
  {
   "cell_type": "markdown",
   "id": "c70839a7",
   "metadata": {
    "ExecuteTime": {
     "end_time": "2021-11-03T08:35:52.098503Z",
     "start_time": "2021-11-03T08:35:52.090309Z"
    }
   },
   "source": [
    "```\n",
    "k apply -f https://raw.githubusercontent.com/istio/istio/release-1.11/samples/addons/grafana.yaml\n",
    "istioctl dashboard grafana &\n",
    "http://localhost:3000\n",
    "```\n",
    "\n",
    "![](grafana1.png)\n",
    "\n",
    "![](grafana2.png)\n",
    "\n",
    "![](grafana3.png)"
   ]
  },
  {
   "cell_type": "markdown",
   "id": "26f2396f",
   "metadata": {
    "ExecuteTime": {
     "end_time": "2021-11-03T08:48:18.492234Z",
     "start_time": "2021-11-03T08:48:18.192270Z"
    }
   },
   "source": [
    "![](frontend.png)"
   ]
  },
  {
   "cell_type": "markdown",
   "id": "1bf9f620",
   "metadata": {},
   "source": [
    "## Reading\n",
    "\n",
    "1.\t[Istio telemetry](https://istio.io/docs/tasks/observability/) \n",
    "2.\t[Istio monitoring](https://istio.io/docs/tasks/observability/metrics/using-istio-dashboard/)\n",
    "3.\t[Kiali](https://kiali.io/docs/architecture/architecture/)\n",
    "4.\t[OpenTracing](https://opentracing.io/docs/overview/)"
   ]
  },
  {
   "cell_type": "code",
   "execution_count": null,
   "id": "7c0d1256",
   "metadata": {},
   "outputs": [],
   "source": []
  }
 ],
 "metadata": {
  "hide_input": false,
  "kernelspec": {
   "display_name": "Python 3 (ipykernel)",
   "language": "python",
   "name": "python3"
  },
  "language_info": {
   "codemirror_mode": {
    "name": "ipython",
    "version": 3
   },
   "file_extension": ".py",
   "mimetype": "text/x-python",
   "name": "python",
   "nbconvert_exporter": "python",
   "pygments_lexer": "ipython3",
   "version": "3.8.8"
  },
  "toc": {
   "base_numbering": 1,
   "nav_menu": {},
   "number_sections": true,
   "sideBar": true,
   "skip_h1_title": true,
   "title_cell": "Logging, Monitoring & Traicing",
   "title_sidebar": "Contents",
   "toc_cell": true,
   "toc_position": {},
   "toc_section_display": true,
   "toc_window_display": true
  }
 },
 "nbformat": 4,
 "nbformat_minor": 5
}
