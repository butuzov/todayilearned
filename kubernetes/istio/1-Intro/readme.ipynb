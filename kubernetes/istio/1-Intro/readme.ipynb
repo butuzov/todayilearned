{
 "cells": [
  {
   "cell_type": "markdown",
   "id": "1910d40c",
   "metadata": {},
   "source": [
    "# Setting up environment"
   ]
  },
  {
   "cell_type": "markdown",
   "id": "3352cfb2",
   "metadata": {
    "toc": true
   },
   "source": [
    "<h1>Table of Contents<span class=\"tocSkip\"></span></h1>\n",
    "<div class=\"toc\"><ul class=\"toc-item\"><li><span><a href=\"#Setup-local-Kubernetes-instance\" data-toc-modified-id=\"Setup-local-Kubernetes-instance-1\"><span class=\"toc-item-num\">1&nbsp;&nbsp;</span>Setup local Kubernetes instance</a></span></li><li><span><a href=\"#Install-k8S-Client-k9s\" data-toc-modified-id=\"Install-k8S-Client-k9s-2\"><span class=\"toc-item-num\">2&nbsp;&nbsp;</span>Install <code>k8S</code> Client <code>k9s</code></a></span></li><li><span><a href=\"#Install-Kubernetes-Dashboard\" data-toc-modified-id=\"Install-Kubernetes-Dashboard-3\"><span class=\"toc-item-num\">3&nbsp;&nbsp;</span>Install Kubernetes Dashboard</a></span></li><li><span><a href=\"#Install-Istio\" data-toc-modified-id=\"Install-Istio-4\"><span class=\"toc-item-num\">4&nbsp;&nbsp;</span>Install Istio</a></span><ul class=\"toc-item\"><li><span><a href=\"#Deploy-Bookinfo\" data-toc-modified-id=\"Deploy-Bookinfo-4.1\"><span class=\"toc-item-num\">4.1&nbsp;&nbsp;</span>Deploy <a href=\"https://istio.io/latest/docs/examples/bookinfo/\" target=\"_blank\">Bookinfo</a></a></span></li><li><span><a href=\"#Enable-Kiali\" data-toc-modified-id=\"Enable-Kiali-4.2\"><span class=\"toc-item-num\">4.2&nbsp;&nbsp;</span>Enable <a href=\"https://istio.io/latest/docs/ops/integrations/kiali/\" target=\"_blank\"><code>Kiali</code></a></a></span></li><li><span><a href=\"#Configure-Jaegar-tracing\" data-toc-modified-id=\"Configure-Jaegar-tracing-4.3\"><span class=\"toc-item-num\">4.3&nbsp;&nbsp;</span>Configure <a href=\"https://istio.io/docs/tasks/observability/distributed-tracing/jaeger/\" target=\"_blank\">Jaegar</a> tracing</a></span></li></ul></li><li><span><a href=\"#Reading\" data-toc-modified-id=\"Reading-5\"><span class=\"toc-item-num\">5&nbsp;&nbsp;</span>Reading</a></span></li></ul></div>"
   ]
  },
  {
   "cell_type": "markdown",
   "id": "9cf09d36",
   "metadata": {},
   "source": [
    "## Setup local Kubernetes instance "
   ]
  },
  {
   "cell_type": "markdown",
   "id": "788fc073",
   "metadata": {},
   "source": [
    "```\n",
    "> minikube start\n",
    "😄  minikube v1.22.0 on Darwin 10.15.7\n",
    "❗  Kubernetes 1.21.0 has a known performance issue on cluster startup. It might take 2 to 3 minutes for a cluster to start.\n",
    "❗  For more information, see: https://github.com/kubernetes/kubeadm/issues/2395\n",
    "🆕  Kubernetes 1.21.2 is now available. If you would like to upgrade, specify: --kubernetes-version=v1.21.2\n",
    "🎉  minikube 1.23.2 is available! Download it: https://github.com/kubernetes/minikube/releases/tag/v1.23.2\n",
    "💡  To disable this notice, run: 'minikube config set WantUpdateNotification false'\n",
    "\n",
    "✨  Using the virtualbox driver based on existing profile\n",
    "👍  Starting control plane node minikube in cluster minikube\n",
    "🔄  Restarting existing virtualbox VM for \"minikube\" ...\n",
    "🐳  Preparing Kubernetes v1.21.0 on Docker 20.10.6 ...\n",
    "🔎  Verifying Kubernetes components...\n",
    "    ▪ Using image gcr.io/k8s-minikube/storage-provisioner:v5\n",
    "    ▪ Using image kubernetesui/dashboard:v2.1.0\n",
    "    ▪ Using image kubernetesui/metrics-scraper:v1.0.4\n",
    "🌟  Enabled addons: storage-provisioner, default-storageclass, dashboard\n",
    "🏄  Done! kubectl is now configured to use \"minikube\" cluster and \"default\" namespace by default\n",
    "```"
   ]
  },
  {
   "cell_type": "markdown",
   "id": "30ce8573",
   "metadata": {},
   "source": [
    "## Install `k8S` Client `k9s`"
   ]
  },
  {
   "cell_type": "markdown",
   "id": "34408700",
   "metadata": {},
   "source": [
    "```shell\n",
    "> brew install k9s\n",
    "==> Downloading https://ghcr.io/v2/homebrew/core/k9s/manifests/0.24.15_1\n",
    "######################################################################## 100.0%\n",
    "==> Downloading https://ghcr.io/v2/homebrew/core/k9s/blobs/sha256:19e1a184b7f609\n",
    "==> Downloading from https://pkg-containers.githubusercontent.com/ghcr1/blobs/sh\n",
    "######################################################################## 100.0%\n",
    "==> Pouring k9s--0.24.15_1.catalina.bottle.tar.gz\n",
    "==> Caveats\n",
    "Bash completion has been installed to:\n",
    "  /usr/local/etc/bash_completion.d\n",
    "==> Summary\n",
    "🍺  /usr/local/Cellar/k9s/0.24.15_1: 9 files, 64.9MB\n",
    "```\n",
    "\n",
    "![](k9s.png)"
   ]
  },
  {
   "cell_type": "markdown",
   "id": "bba67cad",
   "metadata": {},
   "source": [
    "## Install Kubernetes Dashboard"
   ]
  },
  {
   "cell_type": "markdown",
   "id": "07b31986",
   "metadata": {},
   "source": [
    "```\n",
    "minikube dashboard\n",
    "```\n",
    "\n",
    "![](dashboard.png)"
   ]
  },
  {
   "cell_type": "markdown",
   "id": "51e74e0a",
   "metadata": {},
   "source": [
    "## Install Istio"
   ]
  },
  {
   "cell_type": "markdown",
   "id": "2b834eee",
   "metadata": {},
   "source": [
    "```\n",
    "> brew isntall instioctl\n",
    "...\n",
    "> istioctl install --set profile=demo\n",
    "This will install the Istio 1.11.3 demo profile with [\"Istio core\" \"Istiod\" \"Ingress gateways\" \"Egress gateways\"] components into the cluster. Proceed? (y/N) y\n",
    "✔ Istio core installed\n",
    "✔ Istiod installed\n",
    "✔ Ingress gateways installed\n",
    "✔ Egress gateways installed\n",
    "✔ Installation complete\n",
    "Thank you for installing Istio 1.11.  Please take a few minutes to tell us about your install/upgrade experience!  https://forms.gle/kWULBRjUv7hHci7T6\n",
    "\n",
    "\n",
    " > kubectl get pods -n istio-system\n",
    "NAME                                   READY   STATUS    RESTARTS   AGE\n",
    "istio-egressgateway-7ddb45fcdf-2l7qz   1/1     Running   0          2m14s\n",
    "istio-ingressgateway-f7cdcd7dc-s8m6w   1/1     Running   0          2m14s\n",
    "istiod-788ff675dd-mgwpg                1/1     Running   0          1m14s\n",
    "\n",
    "```"
   ]
  },
  {
   "cell_type": "markdown",
   "id": "cb92f9cf",
   "metadata": {},
   "source": [
    "### Deploy [Bookinfo](https://istio.io/latest/docs/examples/bookinfo/)\n",
    "\n",
    "\n",
    "1. `kubectl create namespace bookinfo`\n",
    "1. `kuse ns bookinfo` (switch to bookinfo namespace) \n",
    "1. `kubectl label namespace bookinfo istio-injection=enabled`\n",
    "1. `kubectl apply -f https://raw.githubusercontent.com/istio/istio/release-1.11/samples/bookinfo/platform/kube/bookinfo.yaml -n bookinfo`\n",
    "\n",
    "![](bookinfo.png)\n",
    "\n",
    "\n",
    "5. [expose gateway](https://istio.io/latest/docs/tasks/traffic-management/ingress/ingress-control/#determining-the-ingress-ip-and-ports)\n",
    "   - 5.0. `kubectl apply -f https://raw.githubusercontent.com/istio/istio/release-1.11/samples/bookinfo/networking/bookinfo-gateway.yaml`\n",
    "   - 5.1. `kubectl get gateway`\n",
    "   - 5.2. `kubectl get svc istio-ingressgateway -n istio-system`\n"
   ]
  },
  {
   "cell_type": "markdown",
   "id": "1b1977d0",
   "metadata": {},
   "source": [
    "\n",
    "\n",
    "```shell\n",
    "> export INGRESS_PORT=$(kubectl -n istio-system get service istio-ingressgateway -o jsonpath='{.spec.ports[?(@.name==\"http2\")].nodePort}')\n",
    "> export SECURE_INGRESS_PORT=$(kubectl -n istio-system get service istio-ingressgateway -o jsonpath='{.spec.ports[?(@.name==\"https\")].nodePort}')\n",
    "> export TCP_INGRESS_PORT=$(kubectl -n istio-system get service istio-ingressgateway -o jsonpath='{.spec.ports[?(@.name==\"tcp\")].nodePort}')\n",
    "> export INGRESS_HOST=$(minikube ip)\n",
    "```"
   ]
  },
  {
   "cell_type": "markdown",
   "id": "97869900",
   "metadata": {},
   "source": [
    "![](bookinfo-deployed.png)"
   ]
  },
  {
   "cell_type": "markdown",
   "id": "20fcb703",
   "metadata": {},
   "source": [
    "### Enable [`Kiali`](https://istio.io/latest/docs/ops/integrations/kiali/) "
   ]
  },
  {
   "cell_type": "markdown",
   "id": "85fe648f",
   "metadata": {
    "ExecuteTime": {
     "end_time": "2021-10-22T09:25:56.587760Z",
     "start_time": "2021-10-22T09:25:56.551690Z"
    }
   },
   "source": [
    "```shell\n",
    "> k apply -f https://raw.githubusercontent.com/istio/istio/release-1.11/samples/addons/kiali.yaml\n",
    "serviceaccount/kiali created\n",
    "configmap/kiali created\n",
    "clusterrole.rbac.authorization.k8s.io/kiali-viewer created\n",
    "clusterrole.rbac.authorization.k8s.io/kiali created\n",
    "clusterrolebinding.rbac.authorization.k8s.io/kiali created\n",
    "role.rbac.authorization.k8s.io/kiali-controlplane created\n",
    "rolebinding.rbac.authorization.k8s.io/kiali-controlplane created\n",
    "service/kiali created\n",
    "deployment.apps/kiali created\n",
    "\n",
    "> k apply -f https://raw.githubusercontent.com/istio/istio/release-1.11/samples/addons/prometheus.yaml\n",
    "serviceaccount/prometheus created\n",
    "configmap/prometheus created\n",
    "clusterrole.rbac.authorization.k8s.io/prometheus created\n",
    "clusterrolebinding.rbac.authorization.k8s.io/prometheus created\n",
    "service/prometheus created\n",
    "deployment.apps/prometheus created\n",
    "\n",
    "> k get pods -n istio-system\n",
    "NAME                                   READY   STATUS    RESTARTS   AGE\n",
    "istio-egressgateway-7ddb45fcdf-2l7qz   1/1     Running   6          9m34s\n",
    "istio-ingressgateway-f7cdcd7dc-s8m6w   1/1     Running   6          9m34s\n",
    "istiod-788ff675dd-mgwpg                1/1     Running   6          9m34s\n",
    "kiali-fd9f88575-gdhvj                  1/1     Running   0          4m16s\n",
    "prometheus-77b49cb997-bwwnc            2/2     Running   0          63s\n",
    "\n",
    "```"
   ]
  },
  {
   "cell_type": "markdown",
   "id": "6d7d9df1",
   "metadata": {},
   "source": [
    "![](kiali.png)"
   ]
  },
  {
   "cell_type": "markdown",
   "id": "229be570",
   "metadata": {},
   "source": [
    "https://istio.io/latest/docs/tasks/observability/kiali/"
   ]
  },
  {
   "cell_type": "markdown",
   "id": "7335208c",
   "metadata": {},
   "source": [
    "```\n",
    "istioctl dashboard kiali\n",
    "```\n",
    "\n",
    "![](kiali-bookinfo.png)"
   ]
  },
  {
   "cell_type": "markdown",
   "id": "90e5f641",
   "metadata": {
    "ExecuteTime": {
     "end_time": "2021-10-22T09:55:55.210587Z",
     "start_time": "2021-10-22T09:55:55.191618Z"
    }
   },
   "source": [
    "### Configure [Jaegar](https://istio.io/docs/tasks/observability/distributed-tracing/jaeger/) tracing"
   ]
  },
  {
   "cell_type": "markdown",
   "id": "fa10a160",
   "metadata": {},
   "source": [
    "```shell\n",
    "# install  https://istio.io/latest/docs/ops/integrations/jaeger/\n",
    "> kubectl apply -f https://raw.githubusercontent.com/istio/istio/release-1.11/samples/addons/jaeger.yaml\n",
    "deployment.apps/jaeger created\n",
    "service/tracing created\n",
    "service/zipkin created\n",
    "service/jaeger-collector created\n",
    "# guide at https://istio.io/latest/docs/tasks/observability/distributed-tracing/jaeger/\n",
    "> for i in $(seq 1 100); do curl -s -o /dev/null \"http://$GATEWAY_URL/productpage\"; done\n",
    "> istioctl dashboard jaeger\n",
    "```"
   ]
  },
  {
   "cell_type": "markdown",
   "id": "76fdb214",
   "metadata": {},
   "source": [
    "![](jaegar.png)"
   ]
  },
  {
   "cell_type": "markdown",
   "id": "e53e8308",
   "metadata": {},
   "source": [
    "## Reading \n",
    "\n",
    "- https://istio.io/latest/about/service-mesh/\n",
    "- https://docs.microsoft.com/en-us/azure/architecture/patterns/sidecar\n",
    "- https://docs.microsoft.com/en-us/azure/architecture/patterns/ambassador"
   ]
  },
  {
   "cell_type": "code",
   "execution_count": null,
   "id": "17b74221",
   "metadata": {},
   "outputs": [],
   "source": []
  }
 ],
 "metadata": {
  "hide_input": false,
  "kernelspec": {
   "display_name": "Python 3 (ipykernel)",
   "language": "python",
   "name": "python3"
  },
  "language_info": {
   "codemirror_mode": {
    "name": "ipython",
    "version": 3
   },
   "file_extension": ".py",
   "mimetype": "text/x-python",
   "name": "python",
   "nbconvert_exporter": "python",
   "pygments_lexer": "ipython3",
   "version": "3.8.8"
  },
  "toc": {
   "base_numbering": 1,
   "nav_menu": {},
   "number_sections": true,
   "sideBar": true,
   "skip_h1_title": true,
   "title_cell": "Table of Contents",
   "title_sidebar": "Contents",
   "toc_cell": true,
   "toc_position": {},
   "toc_section_display": true,
   "toc_window_display": true
  }
 },
 "nbformat": 4,
 "nbformat_minor": 5
}
