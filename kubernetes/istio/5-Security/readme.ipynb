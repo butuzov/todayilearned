{
 "cells": [
  {
   "cell_type": "markdown",
   "id": "fe48ab3d",
   "metadata": {},
   "source": [
    "# Security"
   ]
  },
  {
   "cell_type": "markdown",
   "id": "8b1f1c6c",
   "metadata": {},
   "source": [
    "### Enable `service-to-service` communication inside cluster by using `mTLS`"
   ]
  },
  {
   "cell_type": "markdown",
   "id": "5e170be2",
   "metadata": {},
   "source": [
    "```bash\n",
    "# We deploying curl container so we can run `curl` commands within cluster\n",
    "> k apply -f deploy/curl.yaml\n",
    "# and exec into pod\n",
    "> k exec -it curl sh\n",
    "```"
   ]
  },
  {
   "cell_type": "markdown",
   "id": "a4b58ee6",
   "metadata": {},
   "source": [
    "We also deploying httpbin as our test client\n",
    "\n",
    "```bash\n",
    "> k create deployment httpbin --image kennethreitz/httpbin  \n",
    "> k expose deployment httpbin --port 80 --type=NodePort\n",
    "```"
   ]
  },
  {
   "cell_type": "markdown",
   "id": "0ab1071c",
   "metadata": {},
   "source": [
    "Lets run command to ensure envoy injects sertificate information\n",
    "\n",
    "```bash\n",
    "/ $ curl -s httpbin/headers | grep -I X-Forwarded-Client-Cert\n",
    "    \"X-Forwarded-Client-Cert\": \"By=spiffe://cluster.local/ns/istio-course/sa/default;Hash=f89c461aa7d2d4d5c3295fb2a7efebffee2f21c991c235810db5937a67cd878e;Subject=\\\"\\\";URI=spiffe://cluster.local/ns/istio-course/sa/default\"\n",
    "```\n"
   ]
  },
  {
   "cell_type": "markdown",
   "id": "286ac68c",
   "metadata": {},
   "source": [
    "This is because by default mutual TLS defined by `PeerAuthentication` CRD"
   ]
  },
  {
   "cell_type": "markdown",
   "id": "9aca5785",
   "metadata": {},
   "source": [
    "```\n",
    "apiVersion: security.istio.io/v1beta1\n",
    "kind: PeerAuthentication\n",
    "metadata:\n",
    "  name: default\n",
    "  namespace: istio-system \n",
    "spec:\n",
    "  mtls:\n",
    "    mode: STRICT  \n",
    "```"
   ]
  },
  {
   "cell_type": "markdown",
   "id": "77f68ddf",
   "metadata": {},
   "source": [
    "#### Reading:\n",
    "\n",
    "* https://banzaicloud.com/blog/istio-mtls/"
   ]
  },
  {
   "cell_type": "markdown",
   "id": "99e26953",
   "metadata": {},
   "source": [
    "### Integrate istio cluster with `Auth0` system"
   ]
  },
  {
   "cell_type": "markdown",
   "id": "7d2be021",
   "metadata": {
    "ExecuteTime": {
     "end_time": "2021-12-10T12:16:52.676023Z",
     "start_time": "2021-12-10T12:16:52.629331Z"
    }
   },
   "source": [
    "We going to create `RequestAuthentication` and `AuthorizationPolicy` that require JWT for any service with label `app: httpbin`"
   ]
  },
  {
   "cell_type": "markdown",
   "id": "cbfda04b",
   "metadata": {},
   "source": [
    "```yaml\n",
    "apiVersion: security.istio.io/v1beta1\n",
    "kind: RequestAuthentication\n",
    "metadata:\n",
    "  name: jwt-example\n",
    "  namespace: istio-course\n",
    "spec:\n",
    "  selector:\n",
    "    matchLabels:\n",
    "      app: httpbin\n",
    "  jwtRules:\n",
    "  - issuer: test-issuer-1@istio.io\n",
    "    jwksUri: https://example.com/demo.json\n",
    "\n",
    "---\n",
    "\n",
    "apiVersion: security.istio.io/v1beta1\n",
    "kind: AuthorizationPolicy\n",
    "metadata:\n",
    "  name: httpbin\n",
    "  namespace: istio-course\n",
    "spec:\n",
    "  selector:\n",
    "    matchLabels:\n",
    "      app: httpbin\n",
    "  action: DENY\n",
    "  rules:\n",
    "  - from:\n",
    "    - source:\n",
    "        notRequestPrincipals: [ \"*\" ]\n",
    "\n",
    "```"
   ]
  },
  {
   "cell_type": "markdown",
   "id": "23c21fa9",
   "metadata": {},
   "source": [
    "```shell\n",
    "> curl -s $HTTPBIN_URL/headers\n",
    "{\n",
    "  \"headers\": {\n",
    "    \"Accept\": \"*/*\",\n",
    "    \"Host\": \"192.168.99.101:31220\",\n",
    "    \"User-Agent\": \"curl/7.64.1\",\n",
    "    \"X-B3-Sampled\": \"1\",\n",
    "    \"X-B3-Spanid\": \"a2239db6fe012a88\",\n",
    "    \"X-B3-Traceid\": \"7d0630250efacee0a2239db6fe012a88\"\n",
    "  }\n",
    "}\n",
    "```\n",
    "\n",
    "Applying `RequestAuthentication` and `AuthorizationPolicy`\n",
    "\n",
    "```shell\n",
    "k apply -f deploy/auth.yaml\n",
    "```"
   ]
  },
  {
   "cell_type": "markdown",
   "id": "7b1eba79",
   "metadata": {
    "ExecuteTime": {
     "end_time": "2021-12-10T12:59:29.543267Z",
     "start_time": "2021-12-10T12:59:29.534817Z"
    }
   },
   "source": [
    "```shell\n",
    "> k apply -f deploy/auth.yaml\n",
    "requestauthentication.security.istio.io/jwt-example configured\n",
    "authorizationpolicy.security.istio.io/httpbin configured\n",
    "```"
   ]
  },
  {
   "cell_type": "markdown",
   "id": "22ab7d16",
   "metadata": {},
   "source": [
    "### No Token Test"
   ]
  },
  {
   "cell_type": "markdown",
   "id": "a99938be",
   "metadata": {
    "ExecuteTime": {
     "end_time": "2021-12-10T13:03:51.797259Z",
     "start_time": "2021-12-10T13:03:51.785784Z"
    }
   },
   "source": [
    "```shell\n",
    "> curl http://192.168.99.101:31220/headers -v\n",
    "\n",
    "RBAC: access denied\n",
    "```"
   ]
  },
  {
   "cell_type": "markdown",
   "id": "8e0b0c31",
   "metadata": {},
   "source": [
    "### Bad Token Test"
   ]
  },
  {
   "cell_type": "markdown",
   "id": "9dd97ff0",
   "metadata": {
    "ExecuteTime": {
     "end_time": "2021-12-10T13:04:37.829924Z",
     "start_time": "2021-12-10T13:04:37.819834Z"
    }
   },
   "source": [
    "```shell\n",
    " > curl --header \"Authorization: Bearer foobar\"  http://192.168.99.101:31220/headers -v\n",
    "\n",
    "Jwt is not in the form of Header.Payload.Signature with two dots and 3 sections \n",
    "```"
   ]
  },
  {
   "cell_type": "markdown",
   "id": "529ccebd",
   "metadata": {},
   "source": [
    "### Valid Token"
   ]
  },
  {
   "cell_type": "markdown",
   "id": "210982ba",
   "metadata": {
    "ExecuteTime": {
     "end_time": "2021-12-10T13:41:14.479715Z",
     "start_time": "2021-12-10T13:41:14.461933Z"
    }
   },
   "source": [
    "```shell\n",
    "TOKEN=$(curl https://example.com/data.jwt -s)\n",
    "> curl --header \"Authorization: Bearer $TOKEN\"  http://192.168.99.101:31220/headers -v\n",
    "{\n",
    "  \"headers\": {\n",
    "    \"Accept\": \"*/*\",\n",
    "    \"Host\": \"192.168.99.101:31220\",\n",
    "    \"User-Agent\": \"curl/7.64.1\",\n",
    "    \"X-B3-Sampled\": \"1\",\n",
    "    \"X-B3-Spanid\": \"a2239db6fe012a88\",\n",
    "    \"X-B3-Traceid\": \"7d0630250efacee0a2239db6fe012a88\"\n",
    "  }\n",
    "}\n",
    "```"
   ]
  },
  {
   "cell_type": "markdown",
   "id": "5a7acc0f",
   "metadata": {},
   "source": [
    "#### Reading:\n",
    "\n",
    "- https://github.com/istio/istio/blob/6a101c8939f841e8e3833a6d5e62d643c0be9185/security/tools/jwt/samples/README.md\n",
    "- https://auth0.com/blog/securing-kubernetes-clusters-with-istio-and-auth0/\n",
    "- https://rinormaloku.com/authorization-in-istio/\n",
    "- https://medium.com/google-cloud/back-to-microservices-with-istio-part-2-authentication-authorization-b079f77358ac\n"
   ]
  },
  {
   "cell_type": "code",
   "execution_count": null,
   "id": "f2e690e0",
   "metadata": {},
   "outputs": [],
   "source": []
  }
 ],
 "metadata": {
  "hide_input": false,
  "kernelspec": {
   "display_name": "Python 3 (ipykernel)",
   "language": "python",
   "name": "python3"
  },
  "language_info": {
   "codemirror_mode": {
    "name": "ipython",
    "version": 3
   },
   "file_extension": ".py",
   "mimetype": "text/x-python",
   "name": "python",
   "nbconvert_exporter": "python",
   "pygments_lexer": "ipython3",
   "version": "3.8.8"
  },
  "toc": {
   "base_numbering": 1,
   "nav_menu": {},
   "number_sections": false,
   "sideBar": true,
   "skip_h1_title": true,
   "title_cell": "Table of Contents",
   "title_sidebar": "Contents",
   "toc_cell": false,
   "toc_position": {},
   "toc_section_display": true,
   "toc_window_display": false
  }
 },
 "nbformat": 4,
 "nbformat_minor": 5
}
