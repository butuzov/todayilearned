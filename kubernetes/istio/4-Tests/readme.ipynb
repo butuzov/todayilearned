{
 "cells": [
  {
   "cell_type": "markdown",
   "id": "749ed247",
   "metadata": {
    "toc": true
   },
   "source": [
    "<h1>Testing<span class=\"tocSkip\"></span></h1>\n",
    "<div class=\"toc\"><ul class=\"toc-item\"><li><span><a href=\"#Introduction\" data-toc-modified-id=\"Introduction-1\"><span class=\"toc-item-num\">1&nbsp;&nbsp;</span>Introduction</a></span></li><li><span><a href=\"#Tasks:\" data-toc-modified-id=\"Tasks:-2\"><span class=\"toc-item-num\">2&nbsp;&nbsp;</span>Tasks:</a></span></li><li><span><a href=\"#Injections\" data-toc-modified-id=\"Injections-3\"><span class=\"toc-item-num\">3&nbsp;&nbsp;</span>Injections</a></span><ul class=\"toc-item\"><li><span><a href=\"#Before\" data-toc-modified-id=\"Before-3.1\"><span class=\"toc-item-num\">3.1&nbsp;&nbsp;</span>Before</a></span></li><li><span><a href=\"#After\" data-toc-modified-id=\"After-3.2\"><span class=\"toc-item-num\">3.2&nbsp;&nbsp;</span>After</a></span></li></ul></li><li><span><a href=\"#Feature-flags--(optional/not-finished)\" data-toc-modified-id=\"Feature-flags--(optional/not-finished)-4\"><span class=\"toc-item-num\">4&nbsp;&nbsp;</span>Feature flags  (<code>optional</code>/<code>not finished</code>)</a></span><ul class=\"toc-item\"><li><span><a href=\"#The-Plan\" data-toc-modified-id=\"The-Plan-4.1\"><span class=\"toc-item-num\">4.1&nbsp;&nbsp;</span>The Plan</a></span></li><li><span><a href=\"#envoy-proxy\" data-toc-modified-id=\"envoy-proxy-4.2\"><span class=\"toc-item-num\">4.2&nbsp;&nbsp;</span><code>envoy</code> proxy</a></span></li></ul></li></ul></div>"
   ]
  },
  {
   "cell_type": "markdown",
   "id": "f3065b38",
   "metadata": {},
   "source": [
    "## Introduction"
   ]
  },
  {
   "cell_type": "markdown",
   "id": "cd6f58a2",
   "metadata": {},
   "source": [
    "In order to perform all tasks, we have updated the next changes in the production environment.\n",
    "\n",
    "1. `frontend` will be updated to use `v2.2`\n",
    "    - client agnostic `json` passing.\n",
    "    - added timeout to connect to the upstream  services\n",
    "2. `authors` and `books` are both updated to `v2.2`\n",
    "    - feature flags (`ff`) support\n",
    "    - feature flag `sort` will output values in order (by default `go` (hash)maps shown in random order)\n",
    "1. `frontend` will be updated to use `v2.3`\n",
    "    - debug field that returns a request headers.\n",
    "1. `headers` (books double) will be updated to use `v1.1`\n",
    "    - debug field that returns a request headers."
   ]
  },
  {
   "cell_type": "markdown",
   "id": "aae0eddb",
   "metadata": {
    "ExecuteTime": {
     "end_time": "2021-11-19T09:13:28.545353Z",
     "start_time": "2021-11-19T09:13:28.333339Z"
    }
   },
   "source": [
    "```bash\n",
    " > k apply -f namespace.yaml\n",
    "namespace/istio-course created\n",
    "> k label namespace istio-course istio-injection=enabled\n",
    "namespace/istio-course labeled\n",
    "> k apply -f before\n",
    "service/authors created\n",
    "serviceaccount/servicemesh-authors created\n",
    "deployment.apps/authors-v2-2 created\n",
    "service/books created\n",
    "serviceaccount/servicemesh-books created\n",
    "deployment.apps/books-v2-2 created\n",
    "gateway.networking.istio.io/course-frontend-gateway created\n",
    "Warning: networking.k8s.io/v1beta1 Ingress is deprecated in v1.19+, unavailable in v1.22+; use networking.k8s.io/v1 Ingress\n",
    "ingress.networking.k8s.io/course-istio-gateway created\n",
    "service/frontend created\n",
    "serviceaccount/servicemesh-frontend created\n",
    "deployment.apps/frontend-v2.2 created\n",
    "destinationrule.networking.istio.io/frontend created\n",
    "virtualservice.networking.istio.io/course-istio created\n",
    "> k get pods,deployments,svc\n",
    "NAME                                 READY   STATUS    RESTARTS   AGE\n",
    "pod/authors-v2-2-87b59b5f9-5v5s8     1/2     Running   0          9s\n",
    "pod/books-v2-2-668d7d68d5-x47c2      1/2     Running   0          9s\n",
    "pod/frontend-v2.2-7c476c958b-8vdtn   1/2     Running   0          9s\n",
    "\n",
    "NAME                            READY   UP-TO-DATE   AVAILABLE   AGE\n",
    "deployment.apps/authors-v2-2    0/1     1            0           9s\n",
    "deployment.apps/books-v2-2      0/1     1            0           9s\n",
    "deployment.apps/frontend-v2.2   0/1     1            0           9s\n",
    "\n",
    "NAME               TYPE           CLUSTER-IP       EXTERNAL-IP   PORT(S)          AGE\n",
    "service/authors    LoadBalancer   10.110.55.87     <pending>     3000:30866/TCP   10s\n",
    "service/books      LoadBalancer   10.109.174.215   <pending>     3000:30969/TCP   9s\n",
    "service/frontend   LoadBalancer   10.105.196.151   <pending>     3000:31250/TCP   9s\n",
    "```"
   ]
  },
  {
   "cell_type": "markdown",
   "id": "b4fe0bfc",
   "metadata": {},
   "source": [
    "```bash\n",
    "> curl -s http://192.168.99.101:30080/frontend-catalog/api/v1/dashboard/ | jq '{total_authros: .authors | length, total_books: .books | length}'\n",
    "{\n",
    "  \"total_authros\": 6,\n",
    "  \"total_books\": 5\n",
    "}\n",
    "```"
   ]
  },
  {
   "cell_type": "markdown",
   "id": "ea4a6568",
   "metadata": {},
   "source": [
    "## Tasks: \n",
    "\n",
    "- Build two test experiments for the Author service with fault injection and delay injection. \n",
    "- Add virtual services to pass a feature flag between services \n",
    "- Create two virtual services for the Author service with \n",
    "    - Fault injection 500 status \n",
    "    - Delay injection 40 sec \n"
   ]
  },
  {
   "cell_type": "markdown",
   "id": "426a1e22",
   "metadata": {},
   "source": [
    "## Injections\n",
    "\n",
    "`fault` injection and `delay injection`"
   ]
  },
  {
   "cell_type": "markdown",
   "id": "b2557994",
   "metadata": {},
   "source": [
    "```yaml\n",
    "\n",
    "apiVersion: networking.istio.io/v1alpha3\n",
    "kind: VirtualService\n",
    "metadata:\n",
    "  name: authors\n",
    "spec:\n",
    "  hosts:\n",
    "  - authors\n",
    "  gateways:\n",
    "  http:\n",
    "  - name: \"fault injection\"\n",
    "    fault:\n",
    "      delay:\n",
    "        percentage:\n",
    "          value: 20.0\n",
    "        fixedDelay: 1s\n",
    "    route:\n",
    "    - destination:\n",
    "        host: authors\n",
    "        subset: v2\n",
    "---\n",
    "apiVersion: networking.istio.io/v1alpha3\n",
    "kind: VirtualService\n",
    "metadata:\n",
    "  name: books\n",
    "spec:\n",
    "  hosts:\n",
    "  - books\n",
    "  gateways:\n",
    "  - course-frontend-gateway\n",
    "  - mesh\n",
    "  http:\n",
    "    - name: \"fault injection\"\n",
    "      fault:\n",
    "        abort:\n",
    "          percentage:\n",
    "            value: 100.0\n",
    "          httpStatus: 500\n",
    "      route:\n",
    "      - destination:\n",
    "          host: books\n",
    "          subset: v2\n",
    "\n",
    "```"
   ]
  },
  {
   "cell_type": "markdown",
   "id": "ac22393f",
   "metadata": {},
   "source": [
    "### Before "
   ]
  },
  {
   "cell_type": "markdown",
   "id": "9d24a603",
   "metadata": {},
   "source": [
    "```\n",
    "Summary:\n",
    "  Total:        10.0971 secs\n",
    "  Slowest:      0.4273 secs\n",
    "  Fastest:      0.0263 secs\n",
    "  Average:      0.1653 secs\n",
    "  Requests/sec: 301.4740\n",
    "\n",
    "  Total data:   3820220 bytes\n",
    "  Size/request: 1255 bytes\n",
    "\n",
    "Response time histogram:\n",
    "  0.026 [1]     |\n",
    "  0.066 [69]    |■■■\n",
    "  0.107 [411]   |■■■■■■■■■■■■■■■■■■■■\n",
    "  0.147 [738]   |■■■■■■■■■■■■■■■■■■■■■■■■■■■■■■■■■■■■\n",
    "  0.187 [827]   |■■■■■■■■■■■■■■■■■■■■■■■■■■■■■■■■■■■■■■■■\n",
    "  0.227 [546]   |■■■■■■■■■■■■■■■■■■■■■■■■■■\n",
    "  0.267 [270]   |■■■■■■■■■■■■■\n",
    "  0.307 [124]   |■■■■■■\n",
    "  0.347 [39]    |■■\n",
    "  0.387 [5]     |\n",
    "  0.427 [14]    |■\n",
    "\n",
    "\n",
    "Latency distribution:\n",
    "  10% in 0.0948 secs\n",
    "  25% in 0.1235 secs\n",
    "  50% in 0.1601 secs\n",
    "  75% in 0.1992 secs\n",
    "  90% in 0.2429 secs\n",
    "  95% in 0.2754 secs\n",
    "  99% in 0.3204 secs\n",
    "\n",
    "Details (average, fastest, slowest):\n",
    "  DNS+dialup:       0.0001 secs, 0.0263 secs, 0.4273 secs\n",
    "  DNS-lookup:       0.0000 secs, 0.0000 secs, 0.0000 secs\n",
    "  req write:        0.0000 secs, 0.0000 secs, 0.0019 secs\n",
    "  resp wait:        0.1652 secs, 0.0263 secs, 0.4272 secs\n",
    "  resp read:        0.0000 secs, 0.0000 secs, 0.0008 secs\n",
    "\n",
    "Status code distribution:\n",
    "  [200]\t3044 responses\n",
    "```"
   ]
  },
  {
   "cell_type": "markdown",
   "id": "a7f1c180",
   "metadata": {},
   "source": [
    "### After\n",
    "\n",
    "![](faults.png)\n",
    "\n",
    "```\n",
    "> hey -z 10s http://192.168.99.101:30080/frontend-catalog/api/v1/dashboard/\n",
    "\n",
    "Summary:\n",
    "  Total:           11.0012 secs\n",
    "  Slowest:         1.1031 secs\n",
    "  Fastest:         0.0023 secs\n",
    "  Average:         0.2145 secs\n",
    "  Requests/sec:\t   220.6114\n",
    "\n",
    "  Total data:      1064989 bytes\n",
    "  Size/request:    438 bytes\n",
    "\n",
    "Response time histogram:\n",
    "  0.002 [1]      |\n",
    "  0.112 [1924]   |■■■■■■■■■■■■■■■■■■■■■■■■■■■■■■■■■■■■■■■■\n",
    "  0.222 [36]     |■\n",
    "  0.333 [0]      |\n",
    "  0.443 [0]      |\n",
    "  0.553 [0]      |\n",
    "  0.663 [0]      |\n",
    "  0.773 [0]      |\n",
    "  0.883 [0]      |\n",
    "  0.993 [0]      |\n",
    "  1.103 [466]    |■■■■■■■■■■\n",
    "\n",
    "\n",
    "Latency distribution:\n",
    "  10% in 0.0066 secs\n",
    "  25% in 0.0106 secs\n",
    "  50% in 0.0205 secs\n",
    "  75% in 0.0641 secs\n",
    "  90% in 1.0087 secs\n",
    "  95% in 1.0150 secs\n",
    "  99% in 1.0416 secs\n",
    "\n",
    "Details (average, fastest, slowest):\n",
    "  DNS+dialup:     0.0001 secs, 0.0023 secs, 1.1031 secs\n",
    "  DNS-lookup:     0.0000 secs, 0.0000 secs, 0.0000 secs\n",
    "  req write:      0.0000 secs, 0.0000 secs, 0.0005 secs\n",
    "  resp wait:      0.2143 secs, 0.0022 secs, 1.1030 secs\n",
    "  resp read:      0.0000 secs, 0.0000 secs, 0.0009 secs\n",
    "\n",
    "Status code distribution:\n",
    "  [200]\t2427 responses\n",
    "\n",
    "```"
   ]
  },
  {
   "cell_type": "markdown",
   "id": "37f70e3a",
   "metadata": {},
   "source": [
    "## Feature flags  (`optional`/`not finished`)\n",
    "\n",
    "`authors:v2.2` & `books:v2.2` has defined feature flag (`ff`) with a value of `sort`, so the results is given in sorted order. `frontend` does know nothing about feature flags and going to route its requests to the `authors` and `books` as it always did.\n",
    "\n",
    "\n",
    "### The Plan\n",
    "\n",
    "![](scheme.png)\n",
    "\n",
    "\n"
   ]
  },
  {
   "cell_type": "markdown",
   "id": "129c954a",
   "metadata": {
    "ExecuteTime": {
     "end_time": "2021-11-19T14:03:00.212008Z",
     "start_time": "2021-11-19T14:02:59.973178Z"
    }
   },
   "source": [
    "ATM: it looks like it's impossible to implement ith information I have now.\n",
    "\n",
    "I am currently researching it with the next options:\n",
    "\n",
    "- https://istio.io/latest/docs/reference/config/networking/envoy-filter/\n",
    "- https://stackoverflow.com/questions/70036056/headers-propagation-to-upstream-services-in-istio\n",
    "- https://discuss.istio.io/t/forward-headers-with-envoyfilters/5661"
   ]
  },
  {
   "cell_type": "markdown",
   "id": "914e5942",
   "metadata": {},
   "source": [
    "### `envoy` proxy"
   ]
  },
  {
   "cell_type": "markdown",
   "id": "9829c5a3",
   "metadata": {},
   "source": [
    "keywords to serarch `request_handle:headers`, `SIDECAR_INBOUND` or `SIDECAR_OUTBOUND`"
   ]
  }
 ],
 "metadata": {
  "hide_input": false,
  "kernelspec": {
   "display_name": "Python 3 (ipykernel)",
   "language": "python",
   "name": "python3"
  },
  "language_info": {
   "codemirror_mode": {
    "name": "ipython",
    "version": 3
   },
   "file_extension": ".py",
   "mimetype": "text/x-python",
   "name": "python",
   "nbconvert_exporter": "python",
   "pygments_lexer": "ipython3",
   "version": "3.8.8"
  },
  "toc": {
   "base_numbering": 1,
   "nav_menu": {},
   "number_sections": true,
   "sideBar": true,
   "skip_h1_title": true,
   "title_cell": "Testing",
   "title_sidebar": "Contents",
   "toc_cell": true,
   "toc_position": {},
   "toc_section_display": true,
   "toc_window_display": true
  }
 },
 "nbformat": 4,
 "nbformat_minor": 5
}
