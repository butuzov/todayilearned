{
 "cells": [
  {
   "cell_type": "markdown",
   "metadata": {},
   "source": [
    "<!-- menu: Networking -->\n",
    "# Network Shell Commands"
   ]
  },
  {
   "cell_type": "markdown",
   "metadata": {},
   "source": [
    "* [arpwatch](https://linux.die.net/man/8/arpwatch) - Ethernet Activity Monitor.\n",
    "* [bmon](https://github.com/tgraf/bmon) - bandwidth monitor and rate estimator.\n",
    "* [bwm-ng](https://www.gropp.org/?id=projects&amp;sub=bwm-ng) - live network bandwidth monitor.\n",
    "* [curl](./#curl) - transferring data with URLs.\n",
    "* [httpie.org](https://httpie.org/)\n",
    "* [darkstat](https://unix4lyfe.org/darkstat/) – captures network traffic, usage statistics.\n",
    "* [dhclient](https://linux.die.net/man/8/dhclient) -  – Dynamic Hostµ Configuration Protocol Client\n",
    "* [dig](https://linux.die.net/man/1/dig) - query DNS servers for information.\n",
    "* [dstat](https://github.com/dagwieers/dstat) - replacement for vmstat, iostat, mpstat, netstat and ifstat.\n",
    "* [ethtool](https://mirrors.edge.kernel.org/pub/software/network/ethtool/) - utility for controlling network drivers and hardware.\n",
    "* [gated](https://www.oreilly.com/library/view/linux-in-a/0596000251/re101.html) -  – gateway routing daemon.\n",
    "* [host](https://linux.die.net/man/1/host) -  – DNS lookup utility.\n",
    "* [hping](http://www.hping.org/) -  – TCP/IP packet assembler/analyzer.\n",
    "* [ibmonitor](http://ibmonitor.sourceforge.net/) - shows bandwidth and total data transferred.\n",
    "* [ifstat](http://gael.roualland.free.fr/ifstat/) - &nbsp;report network interfaces bandwidth.\n",
    "* [iftop](http://www.ex-parrot.com/pdw/iftop/) - &nbsp;– display bandwidth usage.\n",
    "* [ip](https://access.redhat.com/sites/default/files/attachments/rh_ip_command_cheatsheet_1214_jcs_print.pdf) - &nbsp;(PDF file) –&nbsp;a&nbsp;command&nbsp;with more features that ifconfig (net-tools).\n",
    "* [ipcalc] - ipnetwork calculator.\n",
    "* [iperf3](https://github.com/esnet/iperf) -  – network bandwidth measurement tool. (above screenshot <a href=\"https://stacklinux.com/\" target=\"_blank\" rel=\"noopener\">Stacklinux VPS</a>)\n",
    "* [iproute2](https://wiki.linuxfoundation.org/networking/iproute2) - collection of utilities for controlling&nbsp;TCP/IP.\n",
    "* [iptables](https://netfilter.org/) -  – take control of network traffic.\n",
    "* [IPTraf](http://iptraf.seul.org/) - &nbsp;– An IP Network Monitor.\n",
    "* [iputils](https://wiki.linuxfoundation.org/networking/iputils) - set of small useful utilities for Linux networking.\n",
    "* [iw](https://wireless.wiki.kernel.org/en/users/documentation/iw) - nl80211&nbsp;based CLI configuration utility for wireless devices.\n",
    "* [jwhois](https://www.gnu.org/software/jwhois/) - &nbsp;(whois) –&nbsp;client for the whois service.\n",
    "* [“lsof -i”](https://www.novell.com/coolsolutions/tip/18078.html) -  – reveal information about your network sockets.\n",
    "* [mtr](http://www.bitwizard.nl/mtr/) - network diagnostic tool.\n",
    "* [mosh](https://mosh.org/)\n",
    "* [net-tools](http://net-tools.sourceforge.net/) - tool, iptunnel and ipmaddr.\n",
    "* [ncat](https://nmap.org/ncat/) - improved re-implementation of the venerable netcat.\n",
    "* [netcat](http://nc110.sourceforge.net/) -  – networking utility for reading/writing network connections.\n",
    "* [nethogs](https://github.com/raboof/nethogs) - a small ‘net top’ tool.\n",
    "* [Netperf](https://github.com/HewlettPackard/netperf) - &nbsp;– Network bandwidth Testing.\n",
    "* [netsniff-ng](http://netsniff-ng.org/) -  – Swiss army knife for daily Linux network plumbing.\n",
    "* [netstat](http://net-tools.sourceforge.net/man/netstat.8.html) -  – Print network connections, routing tables, statistics, etc.\n",
    "* [netwatch](http://www.slctech.org/~mackay/NETWATCH/netwatch.html) - monitoring Network Connections.\n",
    "* [ngrep](https://github.com/jpr5/ngrep/) - grep applied to the network layer.\n",
    "* [nload](https://linux.die.net/man/1/nload) -  – display network usage.\n",
    "* [nmap](https://nmap.org/) - network discovery and security auditing.\n",
    "* [nmcli](https://developer.gnome.org/NetworkManager/stable/nmcli.html) - a command-line tool for controlling NetworkManager and reporting network status.\n",
    "* [nmtui](https://access.redhat.com/documentation/en-US/Red_Hat_Enterprise_Linux/7/html/Networking_Guide/sec-Networking_Config_Using_nmtui.html) - provides a text interface to configure networking by controlling NetworkManager.\n",
    "* [nslookup](https://en.wikipedia.org/wiki/Nslookup) - query Internet name servers interactively.\n",
    "* [ping](https://en.wikipedia.org/wiki/Ping_(networking_utility)) - send icmp echo_request to network hosts.\n",
    "* [route](https://en.wikipedia.org/wiki/Route_(command)) - show / manipulate the IP routing table.\n",
    "* [slurm](https://github.com/mattthias/slurm) -  – network load monitor.\n",
    "* [snort](https://www.snort.org/) -  – Network Intrusion Detection and Prevention System.\n",
    "* [smokeping](https://oss.oetiker.ch/smokeping/) - &nbsp;keeps track of your network latency.\n",
    "* [socat](http://www.dest-unreach.org/socat/) - establishes two bidirectional byte streams and transfers data between them.\n",
    "* [speedometer](http://excess.org/speedometer/) - Measure and display the rate of data across a network.\n",
    "* [speedtest-cli](https://github.com/sivel/speedtest-cli) -  – test internet bandwidth using speedtest.net\n",
    "* [ss](http://linux-ip.net/gl/ss/) - utility to investigate sockets.\n",
    "* [ssh](https://www.ssh.com/ssh/) - &nbsp;secure system administration and file transfers over insecure networks.\n",
    "* [tcpdump](https://www.tcpdump.org/) - command-line packet analyzer.\n",
    "* [tcptrack](https://github.com/bchretien/tcptrack) -  – Displays information about tcp connections on a network interface.\n",
    "* [telnet](https://www.unix.com/man-page/linux/1/telnet/) - user interface to the TELNET protocol.\n",
    "* [tracepath](https://linux.die.net/man/8/tracepath) - very similar function to traceroute.\n",
    "* [traceroute](http://traceroute.sourceforge.net/) - print the route packets trace to network host.\n",
    "* [vnStat](https://humdi.net/vnstat/) - &nbsp;– network traffic monitor.\n",
    "* [websocat](https://github.com/vi/websocat) - &nbsp;– Connection forwarder from/to web sockets to/from usual sockets, in style of socat.\n",
    "* [wget](../other/wget/) - &nbsp;retrieving files using HTTP, HTTPS, FTP and FTPS.\n",
    "* [Wireless Tools for Linux](https://hewlettpackard.github.io/wireless-tools/Tools.html) - iwconfig,&nbsp;iwlist,&nbsp;iwspy,&nbsp;iwpriv and&nbsp;ifrename.\n",
    "* [Wireshark](https://www.wireshark.org/) - network protocol analyzer.\n",
    " "
   ]
  },
  {
   "cell_type": "markdown",
   "metadata": {},
   "source": [
    "![](network.jpg)"
   ]
  },
  {
   "cell_type": "markdown",
   "metadata": {},
   "source": [
    "## `TODO`: `conntrack`"
   ]
  },
  {
   "cell_type": "markdown",
   "metadata": {},
   "source": [
    "![](conntrack.jpg)"
   ]
  },
  {
   "cell_type": "markdown",
   "metadata": {},
   "source": [
    "## `curl`\n",
    "\n",
    "Transfer a URL.\n",
    "\n",
    "- `go` https://mholt.github.io/curl-to-go/\n",
    "- `python` https://pypi.org/project/requests-to-curl/"
   ]
  },
  {
   "cell_type": "markdown",
   "metadata": {},
   "source": [
    "`curl`  is  a  tool  to  transfer  data from or to a server, using one of the supported protocols (DICT, FILE, FTP, FTPS, GOPHER, HTTP, HTTPS, IMAP, IMAPS, LDAP, LDAPS, POP3, POP3S, RTMP, RTSP, SCP, SFTP, SMB, SMBS, SMTP, SMTPS,  TELNET  and TFTP). The command is designed to work without user interaction.\n",
    " \n",
    "![julia evans](curl.jpg)\n",
    "\n",
    "```bash\n",
    "# aliased curl download\n",
    "dl=\"curl -LO $URL\"\n",
    "\n",
    "# save files as\n",
    "curl -L $URL -o $FILE\n",
    "\n",
    "# keep it silent\n",
    "curl -Ls $URL -o $FILE\n",
    "```"
   ]
  },
  {
   "cell_type": "markdown",
   "metadata": {
    "ExecuteTime": {
     "end_time": "2019-02-25T07:30:59.986674Z",
     "start_time": "2019-02-25T07:30:59.977531Z"
    }
   },
   "source": [
    "## `iptables`\n",
    "\n",
    "![](iptables.jpg)"
   ]
  },
  {
   "cell_type": "markdown",
   "metadata": {},
   "source": [
    "## `mrt`\n",
    "\n",
    "A network diagnostic tool"
   ]
  },
  {
   "cell_type": "markdown",
   "metadata": {},
   "source": [
    "```bash\n",
    "mrt\n",
    "mrt --udp\n",
    "mrt --tcp\n",
    "mrt --sctp\n",
    "```"
   ]
  },
  {
   "cell_type": "markdown",
   "metadata": {},
   "source": [
    "## `TODO`: `nc`"
   ]
  },
  {
   "cell_type": "markdown",
   "metadata": {},
   "source": [
    "![](nc.jpg)"
   ]
  },
  {
   "cell_type": "markdown",
   "metadata": {},
   "source": [
    "## `TODO`: `traceroute`"
   ]
  },
  {
   "cell_type": "markdown",
   "metadata": {},
   "source": [
    "## `TODO`: `tshark`\n",
    "\n",
    "Wireshark CLI"
   ]
  },
  {
   "cell_type": "markdown",
   "metadata": {},
   "source": [
    "![](tshark.jpg)"
   ]
  },
  {
   "cell_type": "markdown",
   "metadata": {},
   "source": [
    "## `TODO`: `tc`"
   ]
  },
  {
   "cell_type": "markdown",
   "metadata": {},
   "source": [
    "![](tc.jpg)"
   ]
  },
  {
   "cell_type": "markdown",
   "metadata": {},
   "source": [
    "## `TODO`: `socat`"
   ]
  },
  {
   "cell_type": "markdown",
   "metadata": {},
   "source": [
    "Proxy any two things \n",
    "\n",
    "![](socat.jpg)"
   ]
  },
  {
   "cell_type": "markdown",
   "metadata": {},
   "source": [
    "## `ss`"
   ]
  },
  {
   "cell_type": "markdown",
   "metadata": {},
   "source": [
    "![](ss.jpg)"
   ]
  },
  {
   "cell_type": "markdown",
   "metadata": {},
   "source": [
    "## `ssh` Secure Shell\n",
    "\n",
    "SSH, also known as Secure Shell or Secure Socket Shell, is a network protocol that gives users, particularly system administrators, a secure way to access a computer over an unsecured network."
   ]
  },
  {
   "cell_type": "markdown",
   "metadata": {},
   "source": [
    "### `ssh`\n",
    "\n",
    "```bash\n",
    "# ssh into <hostname> using <user> and its private key (-i)\n",
    "ssh <user>@<hostname> -i ~/.ssh/id_rsa\n",
    "# ssh and run command & exit!\n",
    "ssh <user>@<hostname>  uname -a\n",
    "# ssh and run command (with quotes) & exit!\n",
    "ssh <user>@<hostname>  'echo \"This is cool\"'\n",
    "# opens secret tunnel!\n",
    "ssh <user>@<hostname> -Nfl 3000:localhost:8080\n",
    "# bastion ssh\n",
    "ssh <user>@<hostname> \"ssh <user>@<internal.hostname> 'echo 1'\"\n",
    "```"
   ]
  },
  {
   "cell_type": "markdown",
   "metadata": {},
   "source": [
    "### `ssh-keygen`\n",
    "\n",
    "Authentication key generation, management and conversion\n",
    "\n",
    "```bash\n",
    "# Removes keys from hostname\n",
    "ssh-keygen -R <hostname>\n",
    "# Generates Keys\n",
    "ssh-keygen -t ed25519 -C \"example@example.com\" -f ./infra/ssh_key\n",
    "```"
   ]
  },
  {
   "cell_type": "markdown",
   "metadata": {},
   "source": [
    "### `ssh-copy-id`\n",
    "\n",
    "Copy public key onto host.\n",
    "\n",
    "```bash\n",
    "ssh-copy-id -i ~/.ssh/id_rsa.pub <user>@<hostname>\n",
    "# if no ssh-copy-id - we can use this shortcut.\n",
    "cat ~/.ssh/id_rsa.pub | ssh <user>@<hostname> 'cat >> ~/.ssh/authorized_keys'\n",
    "```\n"
   ]
  },
  {
   "cell_type": "markdown",
   "metadata": {},
   "source": [
    "### `ssh-agent`\n",
    "\n",
    "The ssh-agent is a helper program that keeps track of users' identity keys and their passphrases.\n",
    "\n",
    "```shell\n",
    "# If ssh-agent is not automatically started at login, it can be started manually with the command\n",
    "eval `ssh-agent`\n",
    "#The easiest way to check is to check the value of the SSH_AGENT_SOCK environment variable.\n",
    "# If it is set, then the agent is presumably running. It can be checked by\n",
    "echo $SSH_AGENT_SOCK\n",
    "```"
   ]
  },
  {
   "cell_type": "markdown",
   "metadata": {},
   "source": [
    "### `ssh-add`\n",
    "\n",
    "To add an arbitrary private key, give the path of the key file as an argument to `ssh-add`\n",
    "\n",
    "```shell\n",
    "ssh-add ~/.ssh/id_rsa\n",
    "```"
   ]
  },
  {
   "cell_type": "markdown",
   "metadata": {},
   "source": [
    "### `scp`\n",
    "\n",
    "`scp` is a program for copying files between computers.\n",
    "\n",
    "```shell\n",
    "# scp [options] <user>@<src-host>:dir/file <user>@<dst-host>:dir/file\n",
    "ssh <user>@<hostname> \"scp <user>@<internal.hostname>:~/src.tar.gz ~/dst.tar.gz\"\n",
    "# The bandwidth is specified in Kbit/sec - so this is 1mb per sec (its 20 mb persec by default)\n",
    "scp -l 8000 <user>@<hostname>:/home/user/* .\n",
    "# copy todo.txt into /home/user\n",
    "scp ~/todo.txt <user>@<hostname>:/home/user/\n",
    "# recursive copy\n",
    "scp -r ~/dir <user>@<hostname>:~/dir\n",
    "\n",
    "```"
   ]
  },
  {
   "cell_type": "markdown",
   "metadata": {},
   "source": [
    "### `pscp` (windows)\n",
    "\n",
    "`pscp` is a shell command that works almost on Windows Shell the same way that scp works on Linux or Mac OS X"
   ]
  },
  {
   "cell_type": "markdown",
   "metadata": {},
   "source": [
    "\n",
    "### `sshd_config`\n",
    "\n",
    "The `sshd_config` file is an ASCII text based file where the different configuration options of the SSH server are indicated and configured with keyword/argument pairs. Arguments that contain spaces are to be enclosed in double quotes (\").\n",
    "\n",
    "```conf\n",
    "Port                   2278                    # port\n",
    "PermitRootLogin        no                      # no root login\n",
    "PasswordAuthentication no                      # turn off - passwords\n",
    "PubkeyAuthentication   yes                     # turn on  - ssh keys only\n",
    "AuthorizedKeysFile     %h/.ssh/authorized_keys # Public Keys location\n",
    "```\n",
    "\n",
    "\n",
    "- [ssh.com: What is SSH (Secure Shell)](https://www.ssh.com/academy/ssh)\n",
    "- [ssh.com: How to Configure the OpenSSH Server?](https://www.ssh.com/academy/ssh/sshd_config)\n"
   ]
  },
  {
   "cell_type": "code",
   "execution_count": null,
   "metadata": {},
   "outputs": [],
   "source": []
  }
 ],
 "metadata": {
  "hide_input": false,
  "kernelspec": {
   "display_name": "Python 3 (ipykernel)",
   "language": "python",
   "name": "python3"
  },
  "language_info": {
   "codemirror_mode": {
    "name": "ipython",
    "version": 3
   },
   "file_extension": ".py",
   "mimetype": "text/x-python",
   "name": "python",
   "nbconvert_exporter": "python",
   "pygments_lexer": "ipython3",
   "version": "3.12.3"
  },
  "toc": {
   "base_numbering": 1,
   "nav_menu": {},
   "number_sections": true,
   "sideBar": true,
   "skip_h1_title": true,
   "title_cell": "Table of Contents",
   "title_sidebar": "Contents",
   "toc_cell": false,
   "toc_position": {},
   "toc_section_display": true,
   "toc_window_display": true
  }
 },
 "nbformat": 4,
 "nbformat_minor": 4
}
