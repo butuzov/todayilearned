{
 "cells": [
  {
   "cell_type": "markdown",
   "id": "e236f6c1",
   "metadata": {},
   "source": [
    "## Problem Solving Techniques"
   ]
  },
  {
   "cell_type": "code",
   "execution_count": null,
   "id": "df7d614a",
   "metadata": {},
   "outputs": [],
   "source": []
  },
  {
   "cell_type": "markdown",
   "id": "109e794a",
   "metadata": {},
   "source": [
    "### Summary \n",
    "\n",
    "  * Never just straight go to the solution.\n",
    "  * Involve other people in generating ideas.\n",
    "  * Separate the generation of ideas from the judging of them\n",
    "  * Use both logic and intuition.\n",
    "  * Don't settle for the option if it's still not good enough."
   ]
  },
  {
   "cell_type": "markdown",
   "id": "b851b275",
   "metadata": {},
   "source": [
    "### What's causing the problem?\n",
    "\n",
    "  * Search for Causes of the problem.\n",
    "  * Make a list of possible causes\n",
    "  * Narrow it down to possible causes."
   ]
  },
  {
   "cell_type": "markdown",
   "id": "8e616d1b",
   "metadata": {},
   "source": [
    "## The Kepner-Tregoe process\n",
    "\n",
    "![](images/problem-solving-kepner-tregoe.jpg)\n",
    "\n",
    "  1. Analyze **Situation**.\n",
    "  2. Look at **Problem**\n",
    "  3. Causes\n",
    "  4. Identify **Solution**.\n",
    "  5. **Select** best slution\n",
    "  5. Consider Possible Risks."
   ]
  },
  {
   "cell_type": "markdown",
   "id": "41cdeadd",
   "metadata": {},
   "source": [
    "## Pareto analysis\n",
    "\n",
    "* Pareto principle - 20%/80%.\n",
    "* Fix 20% problems causeing 80% of issues."
   ]
  },
  {
   "cell_type": "markdown",
   "id": "0d2892b3",
   "metadata": {},
   "source": [
    "## Look at the whole system\n",
    "\n",
    "  * Look around how change can be abused or used.\n",
    "  * `Why Things Bite Back` - https://www.amazon.com/Why-Things-Bite-Back-Consequences/dp/0679747567\n",
    "  * `The Fifth Dicipline` - humans a bad on thinking ahead."
   ]
  },
  {
   "cell_type": "markdown",
   "id": "9574b31a",
   "metadata": {},
   "source": [
    "## Fast and slow thinking\n",
    "\n",
    " * Focused and Diffused mode"
   ]
  },
  {
   "cell_type": "markdown",
   "id": "21de8e4a",
   "metadata": {},
   "source": [
    "## Brainstorming\n",
    "\n",
    "  * Get and ideas first.\n",
    "  * Judge later."
   ]
  },
  {
   "cell_type": "markdown",
   "id": "304b0922",
   "metadata": {},
   "source": [
    "\n",
    "## Mind maps\n",
    "  * Use midly or any other mind map applcaition."
   ]
  },
  {
   "cell_type": "markdown",
   "id": "b3566de1",
   "metadata": {},
   "source": [
    "## Decision trees\n",
    "  * `subj`\n",
    "    * if this 1 then that 1 ->\n",
    "    * if this 2 then that 2 ->\n",
    "    * if this 3 then that 3 ->\n",
    "\n",
    "\n"
   ]
  },
  {
   "cell_type": "markdown",
   "id": "3bfaef9b",
   "metadata": {},
   "source": [
    "## Intuition and logic\n",
    "* equalize logick and fun while malking decision.\n"
   ]
  },
  {
   "cell_type": "markdown",
   "id": "237744cb",
   "metadata": {},
   "source": [
    "## How to view the options\n",
    "  * Waged factors/options.\n",
    "  * See also `decision making with fuzzing advantages on alternatives set` [[1]](https://github.com/butuzov/CS122-KPI/tree/master/Decision-Theory/Control_Work_2), [[2]](https://github.com/butuzov/CS122-KPI/blob/master/Analytic-Ierarchy-Process/iararchy-analysys-methods)\n"
   ]
  },
  {
   "cell_type": "markdown",
   "id": "b1dd4e93",
   "metadata": {},
   "source": [
    "\n",
    "## Rating charts\n",
    "\n",
    "Similar to previous on `Options`. Simple charts for decision making.\n",
    "\n",
    "| FACTOR |    | CAR vs Bike | Total: CAR vs Bike |\n",
    "|--------|----|-------------|--------------------|\n",
    "| Safety | 10 | 10  vs   1  |         10 vs 1    |\n",
    "| Park   | 2  | 4   vs   6  |          8 vs 12   |\n",
    "| Cool   | 10 | 5   vs   8  |         50 vs 40   |\n",
    "|        |    |             |         68 vs 53   |\n",
    "\n",
    "`Car won`\n"
   ]
  },
  {
   "cell_type": "markdown",
   "id": "2cfa5611",
   "metadata": {},
   "source": [
    "## Don't settle for second best\n",
    "  Check all **Must have** and **Nice to have**."
   ]
  },
  {
   "cell_type": "markdown",
   "id": "afc95b7f",
   "metadata": {},
   "source": [
    "## Risk analysis\n",
    "  Try to calc a best possible option for you."
   ]
  },
  {
   "cell_type": "markdown",
   "id": "b3571f51",
   "metadata": {},
   "source": [
    "## Team decisions\n",
    "  * Team decision tends to be risky.\n",
    "  * Designated \"black hat wearer\""
   ]
  },
  {
   "cell_type": "markdown",
   "id": "f1fad0c3",
   "metadata": {},
   "source": [
    "## Sensitivity\n",
    "  How sensitive solution to change? Is small change eq big impact?"
   ]
  },
  {
   "cell_type": "markdown",
   "id": "8dee913a",
   "metadata": {},
   "source": [
    "## The sunk cost paradox\n",
    "  You need to know when **to stop** wasting resources (time and money).\n",
    " "
   ]
  },
  {
   "cell_type": "markdown",
   "id": "fdf340d9",
   "metadata": {},
   "source": [
    "## Framing – subconscious and deliberate\n",
    "  * Ask question with different angles?\n",
    "  * With bias and without it."
   ]
  },
  {
   "cell_type": "markdown",
   "id": "b3ba8329",
   "metadata": {},
   "source": [
    "## Four simple rules for decision making\n",
    "\n",
    "  * I decision is very close - option does not matter.\n",
    "  * Toss a coin with option in mind.\n",
    "  * Simplest solution.\n",
    "  * Delegate decision."
   ]
  },
  {
   "cell_type": "markdown",
   "id": "c94853a6",
   "metadata": {},
   "source": [
    "### Consider implementation\n",
    "\n",
    "  * Are you ready to implement solution? To use it? To learn it? TO fiddle with it?"
   ]
  },
  {
   "cell_type": "code",
   "execution_count": null,
   "id": "85608921",
   "metadata": {},
   "outputs": [],
   "source": []
  }
 ],
 "metadata": {
  "hide_input": false,
  "kernelspec": {
   "display_name": "Python 3",
   "language": "python",
   "name": "python3"
  },
  "language_info": {
   "codemirror_mode": {
    "name": "ipython",
    "version": 3
   },
   "file_extension": ".py",
   "mimetype": "text/x-python",
   "name": "python",
   "nbconvert_exporter": "python",
   "pygments_lexer": "ipython3",
   "version": "3.8.8"
  },
  "toc": {
   "base_numbering": 1,
   "nav_menu": {},
   "number_sections": false,
   "sideBar": true,
   "skip_h1_title": true,
   "title_cell": "Table of Contents",
   "title_sidebar": "Contents",
   "toc_cell": false,
   "toc_position": {},
   "toc_section_display": true,
   "toc_window_display": false
  }
 },
 "nbformat": 4,
 "nbformat_minor": 5
}
