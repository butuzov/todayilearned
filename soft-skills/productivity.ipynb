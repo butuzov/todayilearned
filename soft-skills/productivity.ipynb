{
 "cells": [
  {
   "cell_type": "markdown",
   "id": "0e1bf5b1",
   "metadata": {},
   "source": [
    "### HOWTO: Be more productive [by Aaron Swartz](http://www.aaronsw.com/weblog/productivity)\n",
    "\n",
    "\n",
    "* Spend time efficiently\n",
    "  * Choose good problems\n",
    "  * Have a moer than one problem\n",
    "\n",
    "* Make a list\n",
    "  * Integrate the list with your life\n",
    "\n",
    "* Make your time higher quality\n",
    "\n",
    "* Ease physical constraints\n",
    "  * Carry pen and paper\n",
    "  * Avoid being interrupted\n",
    "\n",
    "* Ease mental constraints\n",
    "  * Eat, sleep, exercise\n",
    "  * Talk to cheerful people\n",
    "  * Share the load\n",
    "\n",
    "* Procrastination and the mental force field\n",
    "\n",
    "* Hard problems\n",
    "  * Break it down\n",
    "  * Simplify it\n",
    "  * Think about it\n",
    "  * Assigned problems\n",
    "  * Create a false assignment\n",
    "  * Don’t assign problems to yourself\n",
    "\n",
    "\n",
    "#### Conclusion\n",
    "There are a lot of myths about productivity — that time is fungible, that focusing is good, that bribing yourself is effective, that hard work is unpleasant, that procrastinating is unnatural — but they all have a common theme: a conception of real work as something that goes against your natural inclinations.\n"
   ]
  },
  {
   "cell_type": "code",
   "execution_count": null,
   "id": "80975d35",
   "metadata": {},
   "outputs": [],
   "source": []
  }
 ],
 "metadata": {
  "hide_input": false,
  "kernelspec": {
   "display_name": "Python 3",
   "language": "python",
   "name": "python3"
  },
  "language_info": {
   "codemirror_mode": {
    "name": "ipython",
    "version": 3
   },
   "file_extension": ".py",
   "mimetype": "text/x-python",
   "name": "python",
   "nbconvert_exporter": "python",
   "pygments_lexer": "ipython3",
   "version": "3.8.8"
  },
  "toc": {
   "base_numbering": 1,
   "nav_menu": {},
   "number_sections": false,
   "sideBar": true,
   "skip_h1_title": true,
   "title_cell": "Table of Contents",
   "title_sidebar": "Contents",
   "toc_cell": false,
   "toc_position": {},
   "toc_section_display": true,
   "toc_window_display": false
  }
 },
 "nbformat": 4,
 "nbformat_minor": 5
}
