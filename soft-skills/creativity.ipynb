{
 "cells": [
  {
   "cell_type": "markdown",
   "id": "d6a7aae4",
   "metadata": {},
   "source": [
    "# Creativity"
   ]
  },
  {
   "cell_type": "markdown",
   "id": "7ce38bc2",
   "metadata": {},
   "source": [
    "## Boost your creativity\n",
    "\n",
    "  * Think on how to make situation - worse. Than do otherwise.\n",
    "  * Consider Alternative Scenarios - \"What if?\"\n",
    "  * Sleep on it.\n",
    "  * Combine variables.\n",
    "  * Rubber duck debugging.\n",
    "  * Develop silly and fun solutions\n",
    "  * Examine the problem\n",
    "  * Chunk up or down\n",
    "  * Commit Yourself to Creativity\n",
    "  * Become an Expert\n",
    "  * Reward Your Curiosity\n",
    "  * Take Risks\n",
    "  * Build Your Confidence\n",
    "  * Make Time for Creativity\n",
    "  * Overcome a Negative Attitude\n",
    "  * Fight Fear of Failure\n",
    "  * Brainstorm New Ideas\n",
    "  * Explore Multiple Solutions\n",
    "  * Keep a Creativity Journal\n",
    "  * Use Mind Maps and Flow Charts\n",
    "  * Challenge Yourself and Create Opportunities\n",
    "  * Try the Six Hats Technique\n",
    "    * Black Hat: Use a negative perspective. Which elements of the solution won’t work?\n",
    "    * Blue Hat: Think broadly. What is the best overall solution?\n",
    "    * Green Hat: Think creatively. What are some alternative ideas?\n",
    "    * Red Hat: Look at the situation emotionally. What do your feelings tell you?\n",
    "    * White Hat: Look at the situation objectively. What are the facts?\n",
    "    * Yellow Hat: Use a positive perspective. Which elements of the solution will work?\n",
    "  * Look for Inspiration\n",
    "  * Try the Snowball Technique"
   ]
  },
  {
   "cell_type": "code",
   "execution_count": null,
   "id": "dae52825",
   "metadata": {},
   "outputs": [],
   "source": []
  }
 ],
 "metadata": {
  "hide_input": false,
  "kernelspec": {
   "display_name": "Python 3",
   "language": "python",
   "name": "python3"
  },
  "language_info": {
   "codemirror_mode": {
    "name": "ipython",
    "version": 3
   },
   "file_extension": ".py",
   "mimetype": "text/x-python",
   "name": "python",
   "nbconvert_exporter": "python",
   "pygments_lexer": "ipython3",
   "version": "3.8.8"
  },
  "toc": {
   "base_numbering": 1,
   "nav_menu": {},
   "number_sections": false,
   "sideBar": true,
   "skip_h1_title": true,
   "title_cell": "Table of Contents",
   "title_sidebar": "Contents",
   "toc_cell": false,
   "toc_position": {},
   "toc_section_display": true,
   "toc_window_display": false
  }
 },
 "nbformat": 4,
 "nbformat_minor": 5
}
