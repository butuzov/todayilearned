{
 "cells": [
  {
   "cell_type": "markdown",
   "id": "043af5ac",
   "metadata": {},
   "source": [
    "# Negotioations & "
   ]
  },
  {
   "cell_type": "markdown",
   "id": "621b5e04",
   "metadata": {},
   "source": [
    "## Sallary Negotiations\n",
    "\n",
    "* [Ten Rules for Negotiating a Job Offer](https://haseebq.com/my-ten-rules-for-negotiating-a-job-offer/)\n",
    "* [How Not to Bomb Your Offer Negotiation](https://haseebq.com/how-not-to-bomb-your-offer-negotiation/)\n",
    "* [Employees Who Stay In Companies Longer Than Two Years Get Paid 50% Less](https://www.forbes.com/sites/cameronkeng/2014/06/22/employees-that-stay-in-companies-longer-than-2-years-get-paid-50-less/#4c4086fce07f)\n",
    "* [You're Not Getting Paid What You're Worth](https://fearlesssalarynegotiation.com/)"
   ]
  },
  {
   "cell_type": "markdown",
   "id": "d9ebcc84",
   "metadata": {},
   "source": [
    "### Sallary Sources\n",
    "\n",
    "  * https://quanticdev.com/articles/software-engineer-compensation-guide\n",
    "  * https://www.linkedin.com/salary/\n",
    "  * https://www.glassdoor.com/Salaries/\n",
    "  * https://www.levels.fyi/"
   ]
  },
  {
   "cell_type": "code",
   "execution_count": null,
   "id": "34dd9167",
   "metadata": {},
   "outputs": [],
   "source": []
  }
 ],
 "metadata": {
  "hide_input": false,
  "kernelspec": {
   "display_name": "Python 3",
   "language": "python",
   "name": "python3"
  },
  "language_info": {
   "codemirror_mode": {
    "name": "ipython",
    "version": 3
   },
   "file_extension": ".py",
   "mimetype": "text/x-python",
   "name": "python",
   "nbconvert_exporter": "python",
   "pygments_lexer": "ipython3",
   "version": "3.8.8"
  },
  "toc": {
   "base_numbering": 1,
   "nav_menu": {},
   "number_sections": false,
   "sideBar": true,
   "skip_h1_title": true,
   "title_cell": "Table of Contents",
   "title_sidebar": "Contents",
   "toc_cell": false,
   "toc_position": {},
   "toc_section_display": true,
   "toc_window_display": false
  }
 },
 "nbformat": 4,
 "nbformat_minor": 5
}
