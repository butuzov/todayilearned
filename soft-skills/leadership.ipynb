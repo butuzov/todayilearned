{
 "cells": [
  {
   "cell_type": "markdown",
   "id": "135efd3b",
   "metadata": {},
   "source": [
    "# Leadership"
   ]
  },
  {
   "cell_type": "markdown",
   "id": "843c7bf2",
   "metadata": {},
   "source": [
    "##### Becoming a 10x Developer\n",
    "\n",
    "  Short summary of \"[Becoming a 10x Developer](https://www.kateheddleston.com/blog/becoming-a-10x-developer)\" article:\n",
    "\n",
    "  1. Create an environment of psychological safety\n",
    "  1. Encourage everyone to participate equally\n",
    "  1. Assign credit accurately and generously\n",
    "  1. Amplify unheard voices in meetings\n",
    "  1. Give constructive, actionable feedback and avoid personal criticism\n",
    "  1. Hold yourself and others accountable\n",
    "  1. Cultivate excellence in an area that is valuable to the team\n",
    "  1. Educate yourself about diversity, inclusivity, and equality in the workplace\n",
    "  1. Maintain a growth mindset\n",
    "  1. Advocate for company policies that increase workplace equality"
   ]
  }
 ],
 "metadata": {
  "hide_input": false,
  "kernelspec": {
   "display_name": "Python 3",
   "language": "python",
   "name": "python3"
  },
  "language_info": {
   "codemirror_mode": {
    "name": "ipython",
    "version": 3
   },
   "file_extension": ".py",
   "mimetype": "text/x-python",
   "name": "python",
   "nbconvert_exporter": "python",
   "pygments_lexer": "ipython3",
   "version": "3.8.8"
  },
  "toc": {
   "base_numbering": 1,
   "nav_menu": {},
   "number_sections": false,
   "sideBar": true,
   "skip_h1_title": true,
   "title_cell": "Table of Contents",
   "title_sidebar": "Contents",
   "toc_cell": false,
   "toc_position": {},
   "toc_section_display": true,
   "toc_window_display": false
  }
 },
 "nbformat": 4,
 "nbformat_minor": 5
}
