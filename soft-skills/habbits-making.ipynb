{
 "cells": [
  {
   "cell_type": "markdown",
   "id": "148d5073",
   "metadata": {},
   "source": [
    "# Good Habits"
   ]
  },
  {
   "cell_type": "markdown",
   "id": "d81fe5cb",
   "metadata": {
    "ExecuteTime": {
     "end_time": "2021-06-03T13:07:58.219152Z",
     "start_time": "2021-06-03T13:07:58.215388Z"
    }
   },
   "source": [
    "## Short Summary of `Atmic Habits`"
   ]
  },
  {
   "cell_type": "markdown",
   "id": "0009b07c",
   "metadata": {},
   "source": [
    "### The Book in Three Sentences\n",
    "\n",
    "* An atomic habit is a regular practice or routine that is not only small and easy to do but is also the source of incredible power; a component of the system of compound growth.\n",
    "* Bad habits repeat themselves again and again not because you don’t want to change, but because you have the wrong system for change.\n",
    "* Changes that seem small and unimportant at first will compound into remarkable results if you’re willing to stick with them for years.\n",
    "\n",
    "### The Five Big Ideas\n",
    "\n",
    "* Habits are the compound interest of self-improvement.\n",
    "* If you want better results, then forget about setting goals. Focus on your system instead.\n",
    "* The most effective way to change your habits is to focus not on what you want to achieve, but on who you wish to become.\n",
    "* The Four Laws of Behavior Change are a simple set of rules we can use to build better habits. They are (1) **make it obvious**, (2) **make it attractive**, (3) **make it easy**, and (4) **make it satisfying**.\n",
    "* Environment is the invisible hand that shapes human behavior.               \n",
    "\n",
    "### Quotes\n",
    "\n",
    "* `GOALS` Ask yourself, “Who is the type of person that could get the outcome I want?”\n",
    "* `GOALS` The most effective way to change your habits is to focus not on what you want to achieve, but on who you wish to become.\n",
    "* `HABITS STACKING` The habit stacking formula is: `After [CURRENT HABIT], I will [NEW HABIT].`\n",
    "* `HABITS STACKING` The two most common cues are time and location.\n",
    "* `HABITS STACKING` The implementation intention formula is: `I will [BEHAVIOR] at [TIME] in [LOCATION]`.\n",
    "* `ENVIRONMENT` Make the cues of good habits obvious in your environment\n",
    "* `HABITS CARWING` One of the most practical ways to eliminate a bad habit is to reduce exposure to the cue that causes it.\n",
    "* `HABITS CARWING` Create an environment where doing the right thing is as easy as possible.\n",
    "* `ROUTINE` Walk Slowly, But Never Backward\n",
    "* `ROUTINE` Focus on taking action, not being in motion.\n",
    "* `ROUTINE` The amount of time you have been performing a habit is not as important as the number of times you have performed it.\n",
    "* `NOTE` Habits can be completed in a few seconds but continue to impact your behavior for minutes or hours afterward.\n",
    "* `NOTE` The Two-Minute Rule states, ‘When you start a new habit, it should take less than two minutes to do.’\n",
    "* `NOTE` Standardize before you optimize. You can’t improve a habit that doesn’t exist.\n",
    "* `ROUTINE` We are more likely to repeat a behavior when the experience is satisfying.\n",
    "* `ROUTINE` The Cardinal Rule of Behavior Change: What is immediately rewarded is repeated. What is immediately punished is avoided.”\n",
    "* `NOTE` One of the most satisfying feelings is the feeling of making progress.\n",
    "* `ROUTINE` Don’t break the chain. Try to keep your habit streak alive.\n",
    "* `ROUTINE` Never miss twice. If you miss one day, try to get back on track as quickly as possible.\n",
    "* `NOTE` **The Goldilocks Rule** states that humans experience peak motivation when working on tasks that are right on the edge of their current abilities.\n",
    "* `NOTE` Reflection and review is a process that allows you to remain conscious of your performance over time."
   ]
  },
  {
   "cell_type": "code",
   "execution_count": null,
   "id": "974d51a0",
   "metadata": {},
   "outputs": [],
   "source": []
  }
 ],
 "metadata": {
  "hide_input": false,
  "kernelspec": {
   "display_name": "Python 3",
   "language": "python",
   "name": "python3"
  },
  "language_info": {
   "codemirror_mode": {
    "name": "ipython",
    "version": 3
   },
   "file_extension": ".py",
   "mimetype": "text/x-python",
   "name": "python",
   "nbconvert_exporter": "python",
   "pygments_lexer": "ipython3",
   "version": "3.8.8"
  },
  "toc": {
   "base_numbering": 1,
   "nav_menu": {},
   "number_sections": false,
   "sideBar": true,
   "skip_h1_title": true,
   "title_cell": "Table of Contents",
   "title_sidebar": "Contents",
   "toc_cell": false,
   "toc_position": {},
   "toc_section_display": true,
   "toc_window_display": false
  }
 },
 "nbformat": 4,
 "nbformat_minor": 5
}
