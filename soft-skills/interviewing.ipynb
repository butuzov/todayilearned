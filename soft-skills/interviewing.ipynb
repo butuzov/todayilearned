{
 "cells": [
  {
   "cell_type": "markdown",
   "id": "8b8836fc",
   "metadata": {},
   "source": [
    "# Interviews\n",
    "\n",
    "\n",
    "## `todo/checkout`\n",
    "\n",
    "* [ ] https://dev.to/ice_lenor/11-mistakes-to-avoid-on-a-technical-interview-4o40"
   ]
  },
  {
   "cell_type": "markdown",
   "id": "3024e9f6",
   "metadata": {
    "heading_collapsed": true
   },
   "source": [
    "## Intervieing People"
   ]
  },
  {
   "cell_type": "markdown",
   "id": "05e19042",
   "metadata": {
    "ExecuteTime": {
     "end_time": "2021-06-09T06:13:55.765211Z",
     "start_time": "2021-06-09T06:13:55.752771Z"
    },
    "heading_collapsed": true,
    "hidden": true
   },
   "source": [
    "### Assess the candidate"
   ]
  },
  {
   "cell_type": "markdown",
   "id": "7dd248a6",
   "metadata": {
    "hidden": true
   },
   "source": [
    "- Your Questions\n",
    "- The conversation\n",
    "- Their experiences (stories)\n",
    "- Your observation"
   ]
  },
  {
   "cell_type": "markdown",
   "id": "4eebf2c8",
   "metadata": {
    "ExecuteTime": {
     "end_time": "2021-07-07T11:31:50.506499Z",
     "start_time": "2021-07-07T11:31:50.492140Z"
    },
    "hidden": true
   },
   "source": [
    "### Selling the opportunity"
   ]
  },
  {
   "cell_type": "markdown",
   "id": "4e749ef7",
   "metadata": {
    "ExecuteTime": {
     "end_time": "2021-07-07T11:49:36.102195Z",
     "start_time": "2021-07-07T11:49:36.094914Z"
    },
    "hidden": true
   },
   "source": [
    "- The projects\n",
    "- The team\n",
    "- The company\n",
    "- The perks\n",
    "- Their contribution/impact \n",
    "- Preparation\n",
    "- Attitude and vibe\n",
    "- Promptless \"I care\""
   ]
  },
  {
   "cell_type": "markdown",
   "id": "1de182d6",
   "metadata": {
    "hidden": true
   },
   "source": [
    "### The Interviewee's Role "
   ]
  },
  {
   "cell_type": "markdown",
   "id": "cdf0623f",
   "metadata": {
    "hidden": true
   },
   "source": [
    "- To Sell their skills\n",
    "- To Sell cultural fit\n",
    "- To Learn more about the role\n",
    "- TO show drive, ambition, leadership"
   ]
  },
  {
   "cell_type": "markdown",
   "id": "28e9e318",
   "metadata": {
    "hidden": true
   },
   "source": [
    "### Owning interview"
   ]
  },
  {
   "cell_type": "markdown",
   "id": "f54b0915",
   "metadata": {
    "ExecuteTime": {
     "end_time": "2021-07-07T11:50:27.158124Z",
     "start_time": "2021-07-07T11:50:27.150903Z"
    },
    "hidden": true
   },
   "source": [
    "- Who has \"the cookie\"?\n",
    "- Conversation vs interrogation?\n",
    "- Trained to ask questions? You need to ask interwee questions!\n",
    "- Train before interview"
   ]
  },
  {
   "cell_type": "markdown",
   "id": "abbe872b",
   "metadata": {
    "hidden": true
   },
   "source": [
    "### Asking questions?"
   ]
  },
  {
   "cell_type": "markdown",
   "id": "101939e0",
   "metadata": {
    "hidden": true
   },
   "source": [
    "- Don't ask \"yes\" or \"no\" questions?\n",
    "- Open ended questisons\n",
    "- Conversations rule?\n",
    "- FOllow-up problems?\n",
    "- Checklist of questions?\n",
    "- __Purpose__ of each questions?\n",
    "- TIM ein limited\n",
    "- Asking right __question__ to the right __person__ for the right __role__"
   ]
  },
  {
   "cell_type": "markdown",
   "id": "42d2157f",
   "metadata": {
    "heading_collapsed": true
   },
   "source": [
    "## Interview is a Sells Meeting"
   ]
  },
  {
   "cell_type": "code",
   "execution_count": null,
   "id": "6bea3bf8",
   "metadata": {
    "hidden": true
   },
   "outputs": [],
   "source": []
  },
  {
   "cell_type": "markdown",
   "id": "19049021",
   "metadata": {
    "heading_collapsed": true
   },
   "source": [
    "## Reverse Interview"
   ]
  },
  {
   "cell_type": "markdown",
   "id": "a4cc31b1",
   "metadata": {
    "hidden": true
   },
   "source": [
    "###  Working Process and Product"
   ]
  },
  {
   "cell_type": "markdown",
   "id": "b8467715",
   "metadata": {
    "hidden": true
   },
   "source": [
    "* What's the general working process? Can you describe one day or one week of the team's work?\n",
    "* What does a team look like? How many people, which positions?\n",
    "* What technology stack do you use? Why did you pick this one over similar ones? (In case they say \"we only use latest technology\" - what are \"latest technologies\" and what are their advantages?)\n",
    "* How would you describe code quality of your product?\n",
    "* How do you have your code reviews?\n",
    "* How so you take care of technical debt?\n",
    "* Do you value speed of development over quality of the product or the other way around?\n",
    "* How do you make sure your product works as expected?\n",
    "* How does your release process look like?\n",
    "* What product am I going to work on?"
   ]
  },
  {
   "cell_type": "markdown",
   "id": "adb2e892",
   "metadata": {
    "hidden": true
   },
   "source": [
    "### Working with customers"
   ]
  },
  {
   "cell_type": "markdown",
   "id": "74486a63",
   "metadata": {
    "hidden": true
   },
   "source": [
    "* Who are your customers?\n",
    "* How do you communicate with them? Who does that? How do you collect customer requirements?\n",
    "* How do you prioritize tasks?\n",
    "* How do you work with customer feedback?"
   ]
  },
  {
   "cell_type": "markdown",
   "id": "95932aa2",
   "metadata": {
    "hidden": true
   },
   "source": [
    "### Company-level"
   ]
  },
  {
   "cell_type": "markdown",
   "id": "004df0fa",
   "metadata": {
    "hidden": true
   },
   "source": [
    "* What are company values?\n",
    "* How do you define and measure success?\n",
    "* What are your long-term plans?\n",
    "* Looking backwards, what mistakes did you make as a company/department/team, and what did you learn from them?\n",
    "* How do you, as a company/team, make sure you're working on the right things?\n",
    "* Who makes business decisions?\n",
    "* Who makes technical decisions?  Also possible to rephrase to: if I and another developer disagree on an implementation, what is going to happen?"
   ]
  },
  {
   "cell_type": "markdown",
   "id": "d8fddf4f",
   "metadata": {
    "hidden": true
   },
   "source": [
    "### People"
   ]
  },
  {
   "cell_type": "markdown",
   "id": "e6a3facb",
   "metadata": {
    "hidden": true
   },
   "source": [
    "* How diverse is your team? Do you have a diversity commitment?\n",
    "* How is the work-life balance?\n",
    "* How do people collaborate? On the same position (e.g. several developers), or on different positions (e.g. developers and QA's).\n",
    "* How does the company help junior people to grow?\n",
    "* If I and someone else disagree on something, or if they pick on me, or bully me, what am I going to do?\n",
    "* Is it a challenging environment?\n",
    "* How do you handle critical feedback?"
   ]
  },
  {
   "cell_type": "markdown",
   "id": "d01f9af6",
   "metadata": {
    "hidden": true
   },
   "source": [
    "### About the interviewer"
   ]
  },
  {
   "cell_type": "markdown",
   "id": "7fa1e42c",
   "metadata": {
    "hidden": true
   },
   "source": [
    "* What team and product are you working on?\n",
    "* How do you like working here?\n",
    "* What is the most interesting or challenging task you've done in the last 3 months?\n",
    "* What would you like the company to invest more time in?"
   ]
  },
  {
   "cell_type": "markdown",
   "id": "414e9f3a",
   "metadata": {
    "hidden": true
   },
   "source": [
    "### About me"
   ]
  },
  {
   "cell_type": "markdown",
   "id": "f6b7c828",
   "metadata": {
    "hidden": true
   },
   "source": [
    "* What am I going to work on?\n",
    "* What level of autonomy am I going to have? What decisions am I allowed to make?\n",
    "* What are your expectations of me in 3 months? In a year?\n",
    "* How do you assess people's performance? My performance?\n",
    "* Who is going to be my manager?\n",
    "* What are my professional perspectives? Career and compensation ones?\n",
    "* What is the salary range for this position? Bonuses, stock options, relocation packages, signing bonuses, vacation days, etc."
   ]
  },
  {
   "cell_type": "code",
   "execution_count": null,
   "id": "50789d1c",
   "metadata": {
    "hidden": true
   },
   "outputs": [],
   "source": []
  }
 ],
 "metadata": {
  "hide_input": false,
  "kernelspec": {
   "display_name": "Python 3 (ipykernel)",
   "language": "python",
   "name": "python3"
  },
  "language_info": {
   "codemirror_mode": {
    "name": "ipython",
    "version": 3
   },
   "file_extension": ".py",
   "mimetype": "text/x-python",
   "name": "python",
   "nbconvert_exporter": "python",
   "pygments_lexer": "ipython3",
   "version": "3.8.8"
  },
  "toc": {
   "base_numbering": 1,
   "nav_menu": {},
   "number_sections": false,
   "sideBar": true,
   "skip_h1_title": true,
   "title_cell": "Table of Contents",
   "title_sidebar": "Contents",
   "toc_cell": false,
   "toc_position": {},
   "toc_section_display": true,
   "toc_window_display": true
  }
 },
 "nbformat": 4,
 "nbformat_minor": 5
}
