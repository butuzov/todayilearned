{
 "cells": [
  {
   "cell_type": "markdown",
   "id": "0d416b08",
   "metadata": {},
   "source": [
    "* https://medium.com/swlh/looking-into-classical-concurrency-patterns-as-a-gopher-be32be3b2690\n",
    "* mills talk https://drive.google.com/file/d/1nPdvhB0PutEJzdCq5ms6UI58dp50fcAN/view\n",
    "https://tqdev.com/2018-gophercon-2018-videos-online"
   ]
  },
  {
   "cell_type": "markdown",
   "id": "89e2e957",
   "metadata": {},
   "source": [
    "* fanin\n",
    "* fanout\n",
    "* futures\n",
    "* pubsub"
   ]
  },
  {
   "cell_type": "markdown",
   "id": "5ac40dfe",
   "metadata": {},
   "source": [
    "## Future"
   ]
  },
  {
   "cell_type": "markdown",
   "id": "913aaa71",
   "metadata": {},
   "source": [
    "* https://play.golang.org/p/v_IGf8tU3UT"
   ]
  },
  {
   "cell_type": "code",
   "execution_count": null,
   "id": "aa166f6c",
   "metadata": {},
   "outputs": [],
   "source": []
  }
 ],
 "metadata": {
  "hide_input": false,
  "kernelspec": {
   "display_name": "Go",
   "language": "go",
   "name": "gophernotes"
  },
  "language_info": {
   "codemirror_mode": "",
   "file_extension": ".go",
   "mimetype": "",
   "name": "go",
   "nbconvert_exporter": "",
   "pygments_lexer": "",
   "version": "go1.16.5"
  },
  "toc": {
   "base_numbering": 1,
   "nav_menu": {},
   "number_sections": false,
   "sideBar": true,
   "skip_h1_title": true,
   "title_cell": "Table of Contents",
   "title_sidebar": "Contents",
   "toc_cell": false,
   "toc_position": {},
   "toc_section_display": true,
   "toc_window_display": false
  }
 },
 "nbformat": 4,
 "nbformat_minor": 5
}
