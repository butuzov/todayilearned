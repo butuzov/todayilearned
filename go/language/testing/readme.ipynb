{
 "cells": [
  {
   "cell_type": "markdown",
   "id": "bea315a3",
   "metadata": {},
   "source": [
    "# Testing"
   ]
  },
  {
   "cell_type": "markdown",
   "id": "9d6b7f79",
   "metadata": {},
   "source": [
    "## Advanced Testing with Go by Mitchell Hashimoto"
   ]
  },
  {
   "cell_type": "markdown",
   "id": "22baa895",
   "metadata": {
    "ExecuteTime": {
     "end_time": "2021-06-16T13:32:57Z",
     "start_time": "2021-06-16T13:32:56.990Z"
    }
   },
   "source": [
    "[`video`](https://www.youtube.com/watch?v=yszygk1cpEc) & [`slides`](https://speakerdeck.com/mitchellh/advanced-testing-with-go)\n",
    "\n",
    "\n",
    "* `golden_test.go` Testing with golden files and updating them (while using `testdata`).\n",
    "    ```shell\n",
    "    # udpate\n",
    "    > go test -update\n",
    "    ```\n",
    "\n",
    "* `testing.go` Having `testing.go` or `testing_.go` (or `file_testing.go`) to provide Testing API.\n",
    "* `network_testing.go` server listner fixture (see [hashicorp/go-plugin](hashicorp/go-plugin) ).\n",
    "* `subprocessing_test.go` testing subprocesses with Entrypoint"
   ]
  },
  {
   "cell_type": "markdown",
   "id": "d503ec07",
   "metadata": {},
   "source": [
    "## Testing Patterns\n",
    "\n",
    "\n",
    "> A test is not a unit test if:\n",
    "> * It talks to the database\n",
    "> * It communicates across the network\n",
    "> * It touches the file system\n",
    "> * It can't run at the same time as any of your other unit tests\n",
    "> * You have to do special things to your environment to run it."
   ]
  },
  {
   "cell_type": "markdown",
   "id": "04008a63",
   "metadata": {},
   "source": [
    "## Videos:"
   ]
  },
  {
   "cell_type": "markdown",
   "id": "3cebccc9",
   "metadata": {},
   "source": [
    "* Andrew Gerrand's [Testing Techniques](https://www.youtube.com/watch?v=ndmB0bj7eyw) talk from 2014 [`slides`](https://talks.golang.org/2014/testing.slide)"
   ]
  },
  {
   "cell_type": "markdown",
   "id": "3eac903c",
   "metadata": {},
   "source": [
    " ## Standard Library `testing`"
   ]
  },
  {
   "cell_type": "markdown",
   "id": "03817760",
   "metadata": {},
   "source": [
    "* `Examples` and generating documentations [ipynb](docs.ipynb), [markdown](docs.md)\n",
    "* `Benchmarks` [ipynb](benchmarking.ipynb), [markdown](benchmarking.md)\n",
    "* Testing\n",
    "  * `testing/quick` "
   ]
  },
  {
   "cell_type": "markdown",
   "id": "33dce079",
   "metadata": {},
   "source": [
    "## Reading"
   ]
  },
  {
   "cell_type": "markdown",
   "id": "d3795b6f",
   "metadata": {},
   "source": [
    "* [Writing Table Driven Tests in Go](https://dave.cheney.net/2013/06/09/writing-table-driven-tests-in-go) by Dave Cheney\n",
    "* [5 advanced testing techniques in Go](https://segment.com/blog/5-advanced-testing-techniques-in-go/) [ru](https://habr.com/ru/company/otus/blog/452772/)\n",
    "* [ru] [httptest](https://dou.ua/lenta/articles/golang-httptest/)\n",
    "* [Testing Web Apps in Go](http://markjberger.com/testing-web-apps-in-golang/)\n",
    "* https://golang.org/pkg/cmd/go/internal/test/"
   ]
  },
  {
   "cell_type": "markdown",
   "id": "e186c6e6",
   "metadata": {},
   "source": [
    "### Third Party Libraries\n",
    "\n",
    "* `testify` - [ipynb](testify.ipynb), [markdown](testify.md)\n",
    "* `ginkgo` & `gomega`"
   ]
  },
  {
   "cell_type": "markdown",
   "id": "6017aa9b",
   "metadata": {},
   "source": [
    "### Tools\n",
    "\n",
    "* [`gotests`](https://github.com/cweill/gotests) generator\n",
    "* [`gotestsum`](https://github.com/gotestyourself/gotestsum) parser\n",
    "* [`tparse`](https://github.com/mfridman/tparse) parser"
   ]
  },
  {
   "cell_type": "markdown",
   "id": "2622d11b",
   "metadata": {},
   "source": [
    "### Editors Integration"
   ]
  },
  {
   "cell_type": "markdown",
   "id": "624e2092",
   "metadata": {},
   "source": [
    "**Visual Studio Code** \n",
    "\n",
    "```json\n",
    "    // gotests wraper, allow to pass own options to gotests\n",
    "    // the next options will generate parallel tests as maps using testify template\n",
    "    \"go.generateTestsFlags\" : [ \"-template=testify\", \"-named\", \"-parallel\" ],\n",
    "    // run tests in verbose with count=1 (cleans cache)\n",
    "    \"go.testFlags\" : [\"-v\", \"-count=1\"],\n",
    "```"
   ]
  }
 ],
 "metadata": {
  "hide_input": false,
  "kernelspec": {
   "display_name": "Go",
   "language": "go",
   "name": "gophernotes"
  },
  "language_info": {
   "codemirror_mode": "",
   "file_extension": ".go",
   "mimetype": "",
   "name": "go",
   "nbconvert_exporter": "",
   "pygments_lexer": "",
   "version": "go1.16.4"
  },
  "toc": {
   "base_numbering": 1,
   "nav_menu": {},
   "number_sections": false,
   "sideBar": true,
   "skip_h1_title": true,
   "title_cell": "Table of Contents",
   "title_sidebar": "Contents",
   "toc_cell": false,
   "toc_position": {},
   "toc_section_display": true,
   "toc_window_display": true
  }
 },
 "nbformat": 4,
 "nbformat_minor": 5
}
