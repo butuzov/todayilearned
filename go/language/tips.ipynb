{
 "cells": [
  {
   "cell_type": "markdown",
   "id": "light-amber",
   "metadata": {},
   "source": [
    "# Go General Tips & Tricks"
   ]
  },
  {
   "cell_type": "markdown",
   "id": "incorporated-andrew",
   "metadata": {},
   "source": [
    "## Compiler"
   ]
  },
  {
   "cell_type": "markdown",
   "id": "overhead-attempt",
   "metadata": {},
   "source": [
    "###  Inlining Loop Function and & `-m`\n",
    "\n",
    "https://github.com/golang/go/wiki/CompilerOptimizations\n",
    "\n",
    "_Code_ \n",
    "\n",
    "```go\n",
    "// inline-tests.go\n",
    "package inlinetests\n",
    "\n",
    "func plus(a, b int) int {\n",
    "    return a + b\n",
    "}\n",
    "\n",
    "func plus_plus(a, b, c int) int {\n",
    "    return plus(plus(a, b), plus(b, c))\n",
    "}\n",
    "\n",
    "func plus_iter(l ...int) (res int) {\n",
    "    for _, v := range l {\n",
    "        res += v\n",
    "    }\n",
    "    return\n",
    "}\n",
    "```\n",
    "\n",
    "_Running_\n",
    "\n",
    "```bash\n",
    "go build -gcflags=-m inline-tests.go\n",
    "```\n",
    "\n",
    "_Result_ \n",
    "\n",
    "```\n",
    "go build -gcflags=-m inline-tests.go\n",
    "# command-line-arguments\n",
    "./inline-tests.go:4: can inline plus\n",
    "./inline-tests.go:8: can inline plus_plus\n",
    "./inline-tests.go:9: inlining call to plus\n",
    "./inline-tests.go:9: inlining call to plus\n",
    "./inline-tests.go:9: inlining call to plus\n",
    "./inline-tests.go:12: plus_iter l does not escape\n",
    "```"
   ]
  },
  {
   "cell_type": "markdown",
   "id": "compact-number",
   "metadata": {},
   "source": [
    "## Coding"
   ]
  },
  {
   "cell_type": "markdown",
   "id": "relative-thermal",
   "metadata": {},
   "source": [
    "### Conditional (ternary) operator in Go\n",
    "\n",
    "* https://stackoverflow.com/questions/19979178/"
   ]
  },
  {
   "cell_type": "code",
   "execution_count": 3,
   "id": "damaged-neutral",
   "metadata": {
    "ExecuteTime": {
     "end_time": "2021-02-15T14:06:36Z",
     "start_time": "2021-02-15T14:06:36.145Z"
    }
   },
   "outputs": [],
   "source": [
    "type If bool\n",
    "\n",
    "func (cond If) ThenElse(expr1, expr2 interface{}) interface{} {\n",
    "    if cond {\n",
    "        return expr1\n",
    "    } \n",
    "    return expr2\n",
    "}  "
   ]
  },
  {
   "cell_type": "code",
   "execution_count": 18,
   "id": "equal-probe",
   "metadata": {
    "ExecuteTime": {
     "end_time": "2021-02-15T14:10:45Z",
     "start_time": "2021-02-15T14:10:45.305Z"
    }
   },
   "outputs": [
    {
     "name": "stdout",
     "output_type": "stream",
     "text": [
      "Min: Value 100 / Type int\n",
      "Max: Value 101 / Type int\n"
     ]
    }
   ],
   "source": [
    "import \"fmt\"\n",
    "\n",
    "var a, b = 100, 101\n",
    "\n",
    "max := If(a>b).ThenElse(a, b)\n",
    "min := If(a<=b).ThenElse(a, b)\n",
    "\n",
    "_,_ = fmt.Printf(\"Min: Value %[1]d / Type %[1]T\\n\", min)\n",
    "_,_ = fmt.Printf(\"Max: Value %[1]d / Type %[1]T\\n\", max)"
   ]
  },
  {
   "cell_type": "markdown",
   "id": "framed-fifth",
   "metadata": {},
   "source": [
    "### Packing Structs to Bytes\n",
    "\n",
    "the code below not works, but why? "
   ]
  },
  {
   "cell_type": "code",
   "execution_count": 7,
   "id": "expanded-distance",
   "metadata": {
    "ExecuteTime": {
     "end_time": "2021-02-16T03:54:55Z",
     "start_time": "2021-02-16T03:54:55.493Z"
    }
   },
   "outputs": [
    {
     "ename": "ERROR",
     "evalue": "repl.go:9:56: unimplemented conversion from <*[]uint64> to <unsafe.Pointer> with reflect.Type <*[]uint64> to <unsafe.Pointer>",
     "output_type": "error",
     "traceback": [
      "repl.go:9:56: unimplemented conversion from <*[]uint64> to <unsafe.Pointer> with reflect.Type <*[]uint64> to <unsafe.Pointer>"
     ]
    }
   ],
   "source": [
    "import \"unsafe\"\n",
    "import \"reflect\"\n",
    "\n",
    "var in = []uint64{1,2,3,4,10,20}\n",
    "var out []byte \n",
    "\n",
    "\n",
    "var (\n",
    "    inHeader  = (*reflect.SliceHeader)(unsafe.Pointer(&in))\n",
    "    outHeader = (*reflect.SliceHeader)(unsafe.Pointer(&out))\n",
    ")\n",
    "\n",
    "outHeader.Data = inHeader.Data\n",
    "outHeader.Len = inHeader.Len * 8\n",
    "outHeader.Cap = inHeader.Cap * 8"
   ]
  },
  {
   "cell_type": "markdown",
   "id": "advance-coordinate",
   "metadata": {},
   "source": [
    "## Profiling"
   ]
  },
  {
   "cell_type": "markdown",
   "id": "chemical-musician",
   "metadata": {},
   "source": [
    "## Tips & Tricks"
   ]
  },
  {
   "cell_type": "markdown",
   "id": "convenient-confidence",
   "metadata": {},
   "source": [
    "### Mutable & Immutable\n",
    "\n",
    "Implement for a same data Mutable for unsorted (so it can be sorted), and Immutable for a sorted."
   ]
  },
  {
   "cell_type": "markdown",
   "id": "a7049e75",
   "metadata": {
    "ExecuteTime": {
     "end_time": "2021-12-12T02:47:14Z",
     "start_time": "2021-12-12T02:47:14.404Z"
    }
   },
   "source": [
    "## Interfaces"
   ]
  },
  {
   "cell_type": "markdown",
   "id": "91dd7f22",
   "metadata": {},
   "source": [
    "Dynamic Interface\n",
    "\n",
    "```go\n",
    "// interface checking \n",
    "import \"bytes\"\n",
    "\n",
    "// doesn't work in jupyter\n",
    "buf := bytes.Buffer{}\n",
    "if f, ok := &buf.(interface { \n",
    "    Write(p []byte) (n int, err error)\n",
    "}); ok {\n",
    "    f.Write([]byte(\"foobar\"))\n",
    "}\n",
    "```"
   ]
  },
  {
   "cell_type": "markdown",
   "id": "4547c331",
   "metadata": {},
   "source": [
    "## Testing & Benching"
   ]
  },
  {
   "cell_type": "markdown",
   "id": "de9c802a",
   "metadata": {},
   "source": [
    "`#golang perf` tip: use `benchcmd` along with `benchstat` to benchmark and compare the performance of a standalone program or script.\n",
    "\n",
    "For example, I'm using it now to benchmark the speed of a Go code generator!\n",
    "\n",
    "- https://github.com/golang/tools/tree/master/cmd/benchcmp\n",
    "- https://github.com/aclements/go-misc/blob/master/benchcmd/main.go"
   ]
  },
  {
   "cell_type": "markdown",
   "id": "classical-certificate",
   "metadata": {},
   "source": [
    "## Continues Integration"
   ]
  },
  {
   "cell_type": "markdown",
   "id": "d398c2af",
   "metadata": {},
   "source": [
    "### `github actions`"
   ]
  },
  {
   "cell_type": "markdown",
   "id": "9f83255f",
   "metadata": {},
   "source": [
    "#### Using local builders with [`act`](https://github.com/nektos/act)\n",
    "\n",
    "1. `butuzov/dots` -> `butuzov/act-go`\n",
    "2. `.actrc`\n",
    "\n",
    "   ```\n",
    "   --platform ubuntu-latest=butuzov/act-go:latest --env DRY_RUN=1\n",
    "   ```"
   ]
  },
  {
   "cell_type": "markdown",
   "id": "053742eb",
   "metadata": {},
   "source": [
    "#### Using TIP version in Github actions\n",
    "\n",
    "_(GitHub Search Terms: `go build tip matrix`)_\n",
    "\n",
    "```yaml\n",
    "---\n",
    "name: Clean\n",
    "on:\n",
    "  schedule:\n",
    "    # run every day\n",
    "    - cron: \"0 0 * * *\"\n",
    "\n",
    "jobs:\n",
    "  clean-caches:\n",
    "    name: Clean caches\n",
    "    timeout-minutes: 5\n",
    "\n",
    "    strategy:\n",
    "      fail-fast: false\n",
    "      matrix:\n",
    "        go-version:\n",
    "          - 1.15.x\n",
    "        os: [ubuntu-latest]\n",
    "        may-fail: [false]\n",
    "        include:\n",
    "          - go-version: tip\n",
    "            os: ubuntu-latest\n",
    "            may-fail: true\n",
    "\n",
    "    continue-on-error: ${{ matrix.may-fail }}\n",
    "    runs-on: ${{ matrix.os }}\n",
    "\n",
    "    env:\n",
    "      GOFLAGS: -v -mod=readonly\n",
    "\n",
    "    steps:\n",
    "      - name: Set up Go release\n",
    "        if: matrix.go-version != 'tip'\n",
    "        env:\n",
    "          # to avoid error due to `go version` accepting -v flag with an argument since 1.15\n",
    "          GOFLAGS: \"\"\n",
    "        uses: percona-platform/setup-go@v2\n",
    "        with:\n",
    "          go-version: ${{ matrix.go-version }}\n",
    "\n",
    "      - name: Set up Go tip\n",
    "        if: matrix.go-version == 'tip'\n",
    "        run: |\n",
    "          git clone --depth=1 https://go.googlesource.com/go $HOME/gotip\n",
    "          cd $HOME/gotip/src\n",
    "          ./make.bash\n",
    "          echo \"GOROOT=$HOME/gotip\" >> $GITHUB_ENV\n",
    "          echo \"$HOME/gotip/bin\" >> $GITHUB_PATH\n",
    "\n",
    "      - name: Check out code into the Go module directory\n",
    "        uses: percona-platform/checkout@v2\n",
    "        with:\n",
    "          lfs: true\n",
    "\n",
    "      - name: Enable Go modules cache\n",
    "        uses: percona-platform/cache@v2\n",
    "        with:\n",
    "          path: ~/go/pkg/mod\n",
    "          key: ${{ matrix.os }}-go-${{ matrix.go-version }}-modules-${{ hashFiles('**/go.sum') }}\n",
    "          restore-keys: |\n",
    "            ${{ matrix.os }}-go-${{ matrix.go-version }}-modules-\n",
    "\n",
    "      - name: Enable Go build cache\n",
    "        uses: percona-platform/cache@v2\n",
    "        with:\n",
    "          path: ~/.cache/go-build\n",
    "          key: ${{ matrix.os }}-go-${{ matrix.go-version }}-build-${{ github.ref }}-${{ hashFiles('**') }}\n",
    "          restore-keys: |\n",
    "            ${{ matrix.os }}-go-${{ matrix.go-version }}-build-${{ github.ref }}-\n",
    "            ${{ matrix.os }}-go-${{ matrix.go-version }}-build-\n",
    "\n",
    "      - name: Clean Go modules cache\n",
    "        run: go clean -modcache\n",
    "```\n"
   ]
  },
  {
   "cell_type": "code",
   "execution_count": null,
   "id": "62374328",
   "metadata": {},
   "outputs": [],
   "source": []
  }
 ],
 "metadata": {
  "hide_input": false,
  "kernelspec": {
   "display_name": "Go",
   "language": "go",
   "name": "gophernotes"
  },
  "language_info": {
   "codemirror_mode": "",
   "file_extension": ".go",
   "mimetype": "",
   "name": "go",
   "nbconvert_exporter": "",
   "pygments_lexer": "",
   "version": "go1.17"
  },
  "toc": {
   "base_numbering": 1,
   "nav_menu": {},
   "number_sections": true,
   "sideBar": true,
   "skip_h1_title": true,
   "title_cell": "Table of Contents",
   "title_sidebar": "Contents",
   "toc_cell": false,
   "toc_position": {
    "height": "calc(100% - 180px)",
    "left": "10px",
    "top": "150px",
    "width": "384px"
   },
   "toc_section_display": true,
   "toc_window_display": true
  }
 },
 "nbformat": 4,
 "nbformat_minor": 5
}
