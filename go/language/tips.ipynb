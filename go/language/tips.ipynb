{
 "cells": [
  {
   "cell_type": "markdown",
   "id": "light-amber",
   "metadata": {},
   "source": [
    "# Go Tips & Tricks\n",
    "\n",
    "Check on weekly basics in twitter"
   ]
  },
  {
   "cell_type": "markdown",
   "id": "incorporated-andrew",
   "metadata": {},
   "source": [
    "## Compiler"
   ]
  },
  {
   "cell_type": "markdown",
   "id": "overhead-attempt",
   "metadata": {},
   "source": [
    "###  Inlining Loop Function and & `-m`\n",
    "\n",
    "https://github.com/golang/go/wiki/CompilerOptimizations\n",
    "\n",
    "_Code_ \n",
    "\n",
    "```go\n",
    "// inline-tests.go\n",
    "package inlinetests\n",
    "\n",
    "func plus(a, b int) int {\n",
    "    return a + b\n",
    "}\n",
    "\n",
    "func plus_plus(a, b, c int) int {\n",
    "    return plus(plus(a, b), plus(b, c))\n",
    "}\n",
    "\n",
    "func plus_iter(l ...int) (res int) {\n",
    "    for _, v := range l {\n",
    "        res += v\n",
    "    }\n",
    "    return\n",
    "}\n",
    "```\n",
    "\n",
    "_Running_\n",
    "\n",
    "```bash\n",
    "go build -gcflags=-m inline-tests.go\n",
    "```\n",
    "\n",
    "_Result_ \n",
    "\n",
    "```\n",
    "go build -gcflags=-m inline-tests.go\n",
    "# command-line-arguments\n",
    "./inline-tests.go:4: can inline plus\n",
    "./inline-tests.go:8: can inline plus_plus\n",
    "./inline-tests.go:9: inlining call to plus\n",
    "./inline-tests.go:9: inlining call to plus\n",
    "./inline-tests.go:9: inlining call to plus\n",
    "./inline-tests.go:12: plus_iter l does not escape\n",
    "```"
   ]
  },
  {
   "cell_type": "markdown",
   "id": "compact-number",
   "metadata": {},
   "source": [
    "## Coding"
   ]
  },
  {
   "cell_type": "markdown",
   "id": "relative-thermal",
   "metadata": {},
   "source": [
    "### Conditional (ternary) operator in Go\n",
    "\n",
    "* https://stackoverflow.com/questions/19979178/"
   ]
  },
  {
   "cell_type": "code",
   "execution_count": 3,
   "id": "damaged-neutral",
   "metadata": {
    "ExecuteTime": {
     "end_time": "2021-02-15T14:06:36Z",
     "start_time": "2021-02-15T14:06:36.145Z"
    }
   },
   "outputs": [],
   "source": [
    "type If bool\n",
    "\n",
    "func (cond If) ThenElse(expr1, expr2 interface{}) interface{} {\n",
    "    if cond {\n",
    "        return expr1\n",
    "    } \n",
    "    return expr2\n",
    "}  "
   ]
  },
  {
   "cell_type": "code",
   "execution_count": 18,
   "id": "equal-probe",
   "metadata": {
    "ExecuteTime": {
     "end_time": "2021-02-15T14:10:45Z",
     "start_time": "2021-02-15T14:10:45.305Z"
    }
   },
   "outputs": [
    {
     "name": "stdout",
     "output_type": "stream",
     "text": [
      "Min: Value 100 / Type int\n",
      "Max: Value 101 / Type int\n"
     ]
    }
   ],
   "source": [
    "import \"fmt\"\n",
    "\n",
    "var a, b = 100, 101\n",
    "\n",
    "max := If(a>b).ThenElse(a, b)\n",
    "min := If(a<=b).ThenElse(a, b)\n",
    "\n",
    "_,_ = fmt.Printf(\"Min: Value %[1]d / Type %[1]T\\n\", min)\n",
    "_,_ = fmt.Printf(\"Max: Value %[1]d / Type %[1]T\\n\", max)"
   ]
  },
  {
   "cell_type": "markdown",
   "id": "framed-fifth",
   "metadata": {},
   "source": [
    "### Packing Structs to Bytes\n",
    "\n",
    "the code below not works, but why? "
   ]
  },
  {
   "cell_type": "code",
   "execution_count": 7,
   "id": "expanded-distance",
   "metadata": {
    "ExecuteTime": {
     "end_time": "2021-02-16T03:54:55Z",
     "start_time": "2021-02-16T03:54:55.493Z"
    }
   },
   "outputs": [
    {
     "ename": "ERROR",
     "evalue": "repl.go:9:56: unimplemented conversion from <*[]uint64> to <unsafe.Pointer> with reflect.Type <*[]uint64> to <unsafe.Pointer>",
     "output_type": "error",
     "traceback": [
      "repl.go:9:56: unimplemented conversion from <*[]uint64> to <unsafe.Pointer> with reflect.Type <*[]uint64> to <unsafe.Pointer>"
     ]
    }
   ],
   "source": [
    "import \"unsafe\"\n",
    "import \"reflect\"\n",
    "\n",
    "var in = []uint64{1,2,3,4,10,20}\n",
    "var out []byte \n",
    "\n",
    "\n",
    "var (\n",
    "    inHeader  = (*reflect.SliceHeader)(unsafe.Pointer(&in))\n",
    "    outHeader = (*reflect.SliceHeader)(unsafe.Pointer(&out))\n",
    ")\n",
    "\n",
    "outHeader.Data = inHeader.Data\n",
    "outHeader.Len = inHeader.Len * 8\n",
    "outHeader.Cap = inHeader.Cap * 8"
   ]
  },
  {
   "cell_type": "markdown",
   "id": "advance-coordinate",
   "metadata": {},
   "source": [
    "## Profiling"
   ]
  },
  {
   "cell_type": "markdown",
   "id": "chemical-musician",
   "metadata": {},
   "source": [
    "## Tips & Tricks"
   ]
  },
  {
   "cell_type": "markdown",
   "id": "convenient-confidence",
   "metadata": {},
   "source": [
    "### Mutable & Immutable\n",
    "\n",
    "Implement for a same data Mutable for unsorted (so it can be sorted), and Immutable for a sorted."
   ]
  },
  {
   "cell_type": "markdown",
   "id": "dried-contamination",
   "metadata": {},
   "source": [
    "## unsorted\n",
    "\n",
    "#golang perf tip: use benchcmd along with benchstat to benchmark and compare the performance of a standalone program or script.\n",
    "\n",
    "For example, I'm using it now to benchmark the speed of a Go code generator!\n",
    "\n",
    "https://github.com/golang/tools/tree/master/cmd/benchcmp\n",
    "https://github.com/aclements/go-misc/blob/master/benchcmd/main.go"
   ]
  },
  {
   "cell_type": "markdown",
   "id": "classical-certificate",
   "metadata": {},
   "source": [
    "ci at tip\n",
    "https://github.com/go-reform/reform/blob/2342d78b8a0dc22240fe5649b9293cfc71c02535/.github/workflows/ci.yaml"
   ]
  },
  {
   "cell_type": "code",
   "execution_count": null,
   "id": "purple-compromise",
   "metadata": {},
   "outputs": [],
   "source": []
  }
 ],
 "metadata": {
  "hide_input": false,
  "kernelspec": {
   "display_name": "Go",
   "language": "go",
   "name": "gophernotes"
  },
  "language_info": {
   "codemirror_mode": "",
   "file_extension": ".go",
   "mimetype": "",
   "name": "go",
   "nbconvert_exporter": "",
   "pygments_lexer": "",
   "version": "go1.16.4"
  },
  "toc": {
   "base_numbering": 1,
   "nav_menu": {},
   "number_sections": true,
   "sideBar": true,
   "skip_h1_title": true,
   "title_cell": "Table of Contents",
   "title_sidebar": "Contents",
   "toc_cell": false,
   "toc_position": {},
   "toc_section_display": true,
   "toc_window_display": true
  }
 },
 "nbformat": 4,
 "nbformat_minor": 5
}
