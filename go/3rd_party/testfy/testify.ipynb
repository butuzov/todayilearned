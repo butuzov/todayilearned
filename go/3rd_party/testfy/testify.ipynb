{
 "cells": [
  {
   "cell_type": "code",
   "execution_count": 1,
   "metadata": {
    "ExecuteTime": {
     "end_time": "2021-07-04T01:16:11Z",
     "start_time": "2021-07-04T01:16:10.439Z"
    }
   },
   "outputs": [],
   "source": [
    "$go get github.com/butuzov/errorf@v0.1.0"
   ]
  },
  {
   "cell_type": "code",
   "execution_count": 1,
   "metadata": {
    "ExecuteTime": {
     "end_time": "2021-07-05T10:43:56Z",
     "start_time": "2021-07-05T10:43:09.387Z"
    }
   },
   "outputs": [],
   "source": [
    "import \"github.com/stretchr/testify/assert\"\n",
    "import \"github.com/butuzov/errorf\""
   ]
  },
  {
   "cell_type": "code",
   "execution_count": 2,
   "metadata": {
    "ExecuteTime": {
     "end_time": "2021-07-05T10:43:56Z",
     "start_time": "2021-07-05T10:43:13.627Z"
    }
   },
   "outputs": [],
   "source": [
    "// testing.T replacement\n",
    "t := &errorf.T{}"
   ]
  },
  {
   "cell_type": "markdown",
   "metadata": {},
   "source": [
    "# `assert` of the `testify`"
   ]
  },
  {
   "cell_type": "markdown",
   "metadata": {},
   "source": [
    "## Formatted Printing"
   ]
  },
  {
   "cell_type": "markdown",
   "metadata": {},
   "source": [
    "It doesn't matter which you gonna use, but with formated you can have nice messafe if you need to."
   ]
  },
  {
   "cell_type": "markdown",
   "metadata": {},
   "source": [
    "## Helpers\n",
    "\n",
    "* `FailNow` - fail\n",
    "* `Fail` - fail\n",
    "* `CallerInfo` - stack trace"
   ]
  },
  {
   "cell_type": "code",
   "execution_count": 4,
   "metadata": {
    "ExecuteTime": {
     "end_time": "2021-07-04T01:16:14Z",
     "start_time": "2021-07-04T01:16:10.448Z"
    }
   },
   "outputs": [
    {
     "name": "stderr",
     "output_type": "stream",
     "text": [
      "Failing Fast and Furious"
     ]
    },
    {
     "data": {
      "text/plain": [
       "false"
      ]
     },
     "execution_count": 4,
     "metadata": {},
     "output_type": "execute_result"
    }
   ],
   "source": [
    "assert.Fail(t, \"Failing Fast and Furious\")"
   ]
  },
  {
   "cell_type": "code",
   "execution_count": 5,
   "metadata": {
    "ExecuteTime": {
     "end_time": "2021-07-04T01:16:14Z",
     "start_time": "2021-07-04T01:16:10.451Z"
    }
   },
   "outputs": [
    {
     "name": "stderr",
     "output_type": "stream",
     "text": [
      "Failing Fast and Furious"
     ]
    },
    {
     "ename": "ERROR",
     "evalue": "test failed and t is missing `FailNow()`",
     "output_type": "error",
     "traceback": [
      "test failed and t is missing `FailNow()`"
     ]
    }
   ],
   "source": [
    "assert.FailNow(t, \"Failing Fast and Furious\")"
   ]
  },
  {
   "cell_type": "code",
   "execution_count": 6,
   "metadata": {
    "ExecuteTime": {
     "end_time": "2021-07-04T01:16:14Z",
     "start_time": "2021-07-04T01:16:10.455Z"
    }
   },
   "outputs": [
    {
     "data": {
      "text/plain": [
       "[]string{\"value.go:476\", \"value.go:337\", \"value.go:127\", \"call.go:453\", \"callnret1.go:246\", \"literal.go:296\", \"call_variadic.go:423\", \"util.go:999\", \"repl.go:132\", \"kernel.go:587\", \"kernel.go:492\", \"kernel.go:346\", \"kernel.go:226\", \"main.go:26\", \"proc.go:225\", \"asm_amd64.s:1371\"}"
      ]
     },
     "execution_count": 6,
     "metadata": {},
     "output_type": "execute_result"
    }
   ],
   "source": [
    "import \"fmt\"\n",
    "\n",
    "fmt.Sprintf(\"%#v\", assert.CallerInfo())"
   ]
  },
  {
   "cell_type": "code",
   "execution_count": 7,
   "metadata": {
    "ExecuteTime": {
     "end_time": "2021-07-04T01:16:14Z",
     "start_time": "2021-07-04T01:16:10.458Z"
    }
   },
   "outputs": [
    {
     "data": {
      "text/plain": [
       "true"
      ]
     },
     "execution_count": 7,
     "metadata": {},
     "output_type": "execute_result"
    }
   ],
   "source": [
    "t := &errorf.T{}\n",
    "var i int\n",
    "\n",
    "assert.Equal(t, map[int]int{1: 1, 2: 2, 3: 3}, map[int]int{1: 1, 3: 3, 2: 2})"
   ]
  },
  {
   "cell_type": "markdown",
   "metadata": {},
   "source": [
    "## available `assert`'s "
   ]
  },
  {
   "cell_type": "markdown",
   "metadata": {},
   "source": [
    "### Bools"
   ]
  },
  {
   "cell_type": "code",
   "execution_count": 8,
   "metadata": {
    "ExecuteTime": {
     "end_time": "2021-07-04T01:16:14Z",
     "start_time": "2021-07-04T01:16:10.461Z"
    }
   },
   "outputs": [
    {
     "name": "stderr",
     "output_type": "stream",
     "text": [
      "Should be true"
     ]
    }
   ],
   "source": [
    "_ = assert.True(t, false)"
   ]
  },
  {
   "cell_type": "code",
   "execution_count": 9,
   "metadata": {
    "ExecuteTime": {
     "end_time": "2021-07-04T01:16:14Z",
     "start_time": "2021-07-04T01:16:10.463Z"
    }
   },
   "outputs": [
    {
     "name": "stderr",
     "output_type": "stream",
     "text": [
      "Should be false\n",
      "Messages:   \twrong"
     ]
    }
   ],
   "source": [
    "_ = assert.Falsef(t, true, \"wrong\")"
   ]
  },
  {
   "cell_type": "markdown",
   "metadata": {},
   "source": [
    "### Zeros and Empty"
   ]
  },
  {
   "cell_type": "code",
   "execution_count": 10,
   "metadata": {
    "ExecuteTime": {
     "end_time": "2021-07-04T01:16:14Z",
     "start_time": "2021-07-04T01:16:10.466Z"
    }
   },
   "outputs": [
    {
     "name": "stderr",
     "output_type": "stream",
     "text": [
      "Should not be zero, but was 0"
     ]
    }
   ],
   "source": [
    "var value int\n",
    "_ = assert.NotZero(t, value)"
   ]
  },
  {
   "cell_type": "code",
   "execution_count": 11,
   "metadata": {
    "ExecuteTime": {
     "end_time": "2021-07-04T01:16:14Z",
     "start_time": "2021-07-04T01:16:10.470Z"
    }
   },
   "outputs": [
    {
     "name": "stderr",
     "output_type": "stream",
     "text": [
      "Should be zero, but was 1"
     ]
    }
   ],
   "source": [
    "var value = 1\n",
    "_ = assert.Zero(t, value)"
   ]
  },
  {
   "cell_type": "code",
   "execution_count": 12,
   "metadata": {
    "ExecuteTime": {
     "end_time": "2021-07-04T01:16:14Z",
     "start_time": "2021-07-04T01:16:10.472Z"
    }
   },
   "outputs": [
    {
     "name": "stderr",
     "output_type": "stream",
     "text": [
      "Should NOT be empty, but was false"
     ]
    }
   ],
   "source": [
    "// emptines (zero value or len=0) of value\n",
    "var value bool\n",
    "_ = assert.NotEmpty(t, value)"
   ]
  },
  {
   "cell_type": "code",
   "execution_count": 13,
   "metadata": {
    "ExecuteTime": {
     "end_time": "2021-07-04T01:16:14Z",
     "start_time": "2021-07-04T01:16:10.477Z"
    }
   },
   "outputs": [
    {
     "name": "stderr",
     "output_type": "stream",
     "text": [
      "Should be empty, but was [1]"
     ]
    }
   ],
   "source": [
    "var value = []int{1}\n",
    "_ = assert.Empty(t, value)"
   ]
  },
  {
   "cell_type": "markdown",
   "metadata": {},
   "source": [
    "### `nil` values"
   ]
  },
  {
   "cell_type": "code",
   "execution_count": 14,
   "metadata": {
    "ExecuteTime": {
     "end_time": "2021-07-04T01:16:14Z",
     "start_time": "2021-07-04T01:16:10.480Z"
    }
   },
   "outputs": [
    {
     "name": "stderr",
     "output_type": "stream",
     "text": [
      "Expected nil, but got: 1"
     ]
    }
   ],
   "source": [
    "_ = assert.Nil(t, 1)"
   ]
  },
  {
   "cell_type": "code",
   "execution_count": 15,
   "metadata": {
    "ExecuteTime": {
     "end_time": "2021-07-04T01:16:14Z",
     "start_time": "2021-07-04T01:16:10.482Z"
    }
   },
   "outputs": [
    {
     "name": "stderr",
     "output_type": "stream",
     "text": [
      "Expected value not to be nil."
     ]
    }
   ],
   "source": [
    "_ = assert.NotNil(t, nil)"
   ]
  },
  {
   "cell_type": "markdown",
   "metadata": {},
   "source": [
    "### Comparing Values"
   ]
  },
  {
   "cell_type": "code",
   "execution_count": 16,
   "metadata": {
    "ExecuteTime": {
     "end_time": "2021-07-04T01:16:14Z",
     "start_time": "2021-07-04T01:16:10.485Z"
    }
   },
   "outputs": [
    {
     "name": "stderr",
     "output_type": "stream",
     "text": [
      "\"1\" is not greater than \"2\"\n",
      "Messages:   \t[]"
     ]
    }
   ],
   "source": [
    "_ = assert.Greater(t, 1, 2)"
   ]
  },
  {
   "cell_type": "code",
   "execution_count": 17,
   "metadata": {
    "ExecuteTime": {
     "end_time": "2021-07-04T01:16:14Z",
     "start_time": "2021-07-04T01:16:10.487Z"
    }
   },
   "outputs": [
    {
     "name": "stderr",
     "output_type": "stream",
     "text": [
      "\"1\" is not greater than or equal to \"2\"\n",
      "Messages:   \t[]"
     ]
    }
   ],
   "source": [
    "_ = assert.GreaterOrEqual(t, 1, 2)"
   ]
  },
  {
   "cell_type": "code",
   "execution_count": 18,
   "metadata": {
    "ExecuteTime": {
     "end_time": "2021-07-04T01:16:14Z",
     "start_time": "2021-07-04T01:16:10.489Z"
    }
   },
   "outputs": [
    {
     "name": "stderr",
     "output_type": "stream",
     "text": [
      "\"2\" is not less than or equal to \"1\"\n",
      "Messages:   \t[]"
     ]
    }
   ],
   "source": [
    "_ = assert.LessOrEqual(t, 2, 1)"
   ]
  },
  {
   "cell_type": "code",
   "execution_count": 19,
   "metadata": {
    "ExecuteTime": {
     "end_time": "2021-07-04T01:16:14Z",
     "start_time": "2021-07-04T01:16:10.491Z"
    }
   },
   "outputs": [
    {
     "name": "stderr",
     "output_type": "stream",
     "text": [
      "\"2\" is not less than \"1\"\n",
      "Messages:   \t[]"
     ]
    }
   ],
   "source": [
    "_ = assert.Less(t, 2, 1)"
   ]
  },
  {
   "cell_type": "code",
   "execution_count": 20,
   "metadata": {
    "ExecuteTime": {
     "end_time": "2021-07-04T01:16:14Z",
     "start_time": "2021-07-04T01:16:10.493Z"
    }
   },
   "outputs": [],
   "source": [
    "// type matters =)\n",
    "_ = assert.EqualValues(t, int32(100), int64(100))"
   ]
  },
  {
   "cell_type": "code",
   "execution_count": 21,
   "metadata": {
    "ExecuteTime": {
     "end_time": "2021-07-04T01:16:14Z",
     "start_time": "2021-07-04T01:16:10.495Z"
    }
   },
   "outputs": [
    {
     "name": "stderr",
     "output_type": "stream",
     "text": [
      "Types expected to match exactly\n",
      "int32 != int64"
     ]
    }
   ],
   "source": [
    "// not as same as equal\n",
    "_ = assert.Exactly(t, int32(123), int64(123))"
   ]
  },
  {
   "cell_type": "code",
   "execution_count": 22,
   "metadata": {
    "ExecuteTime": {
     "end_time": "2021-07-04T01:16:14Z",
     "start_time": "2021-07-04T01:16:10.497Z"
    }
   },
   "outputs": [
    {
     "name": "stderr",
     "output_type": "stream",
     "text": [
      "Not equal: \n",
      "expected: int32(100)\n",
      "actual  : int64(100)"
     ]
    }
   ],
   "source": [
    "_ = assert.Equal(t, int32(100), int64(100))"
   ]
  },
  {
   "cell_type": "code",
   "execution_count": 23,
   "metadata": {
    "ExecuteTime": {
     "end_time": "2021-07-04T01:16:14Z",
     "start_time": "2021-07-04T01:16:10.499Z"
    }
   },
   "outputs": [
    {
     "name": "stderr",
     "output_type": "stream",
     "text": [
      "Not equal: \n",
      "expected: []int{1, 2, 4}\n",
      "actual  : []int{1, 2, 3}\n",
      "\n",
      "Diff:\n",
      "--- Expected\n",
      "+++ Actual\n",
      "@@ -3,3 +3,3 @@\n",
      "(int) 2,\n",
      "- (int) 4\n",
      "+ (int) 3\n",
      "}"
     ]
    },
    {
     "data": {
      "text/plain": [
       "false"
      ]
     },
     "execution_count": 23,
     "metadata": {},
     "output_type": "execute_result"
    }
   ],
   "source": [
    "// can be checked with containers\n",
    "assert.Equal(t, []int{1, 2, 4}, []int{1, 2, 3})"
   ]
  },
  {
   "cell_type": "code",
   "execution_count": 24,
   "metadata": {
    "ExecuteTime": {
     "end_time": "2021-07-04T01:16:14Z",
     "start_time": "2021-07-04T01:16:10.501Z"
    }
   },
   "outputs": [
    {
     "name": "stderr",
     "output_type": "stream",
     "text": [
      "Not equal: \n",
      "expected: map[int]int{1:1, 2:2, 3:1}\n",
      "actual  : map[int]int{1:1, 2:2, 3:3}\n",
      "\n",
      "Diff:\n",
      "--- Expected\n",
      "+++ Actual\n",
      "@@ -3,3 +3,3 @@\n",
      "(int) 2: (int) 2,\n",
      "- (int) 3: (int) 1\n",
      "+ (int) 3: (int) 3\n",
      "}"
     ]
    }
   ],
   "source": [
    "_ = assert.Equal(t, map[int]int{1: 1, 2: 2, 3: 1}, map[int]int{1: 1, 3: 3, 2: 2})"
   ]
  },
  {
   "cell_type": "code",
   "execution_count": 25,
   "metadata": {
    "ExecuteTime": {
     "end_time": "2021-07-04T01:16:14Z",
     "start_time": "2021-07-04T01:16:10.503Z"
    }
   },
   "outputs": [
    {
     "name": "stderr",
     "output_type": "stream",
     "text": [
      "Should not be: 100"
     ]
    }
   ],
   "source": [
    "_ = assert.NotEqual(t, 100, 100)"
   ]
  },
  {
   "cell_type": "markdown",
   "metadata": {},
   "source": [
    "### Containers"
   ]
  },
  {
   "cell_type": "code",
   "execution_count": 26,
   "metadata": {
    "ExecuteTime": {
     "end_time": "2021-07-04T01:16:14Z",
     "start_time": "2021-07-04T01:16:10.506Z"
    }
   },
   "outputs": [],
   "source": [
    "_ = assert.ElementsMatch(t, []int{1, 2}, []int{2, 1})"
   ]
  },
  {
   "cell_type": "code",
   "execution_count": 27,
   "metadata": {
    "ExecuteTime": {
     "end_time": "2021-07-04T01:16:14Z",
     "start_time": "2021-07-04T01:16:10.508Z"
    }
   },
   "outputs": [
    {
     "name": "stderr",
     "output_type": "stream",
     "text": [
      "elements differ\n",
      "\n",
      "extra elements in list A:\n",
      "([]interface {}) (len=2) {\n",
      "(int) 2,\n",
      "(int) 2\n",
      "}\n",
      "\n",
      "\n",
      "extra elements in list B:\n",
      "([]interface {}) (len=2) {\n",
      "(int) 1,\n",
      "(int) 1\n",
      "}\n",
      "\n",
      "\n",
      "listA:\n",
      "([]int) (len=2) {\n",
      "(int) 2,\n",
      "(int) 2\n",
      "}\n",
      "\n",
      "\n",
      "listB:\n",
      "([]int) (len=2) {\n",
      "(int) 1,\n",
      "(int) 1\n",
      "}"
     ]
    }
   ],
   "source": [
    "_ = assert.ElementsMatch(t, []int{2, 2}, []int{1, 1})"
   ]
  },
  {
   "cell_type": "markdown",
   "metadata": {},
   "source": [
    "### Approximate values"
   ]
  },
  {
   "cell_type": "code",
   "execution_count": 28,
   "metadata": {
    "ExecuteTime": {
     "end_time": "2021-07-04T01:16:14Z",
     "start_time": "2021-07-04T01:16:10.510Z"
    }
   },
   "outputs": [],
   "source": [
    "import \"math\"\n",
    "\n",
    "// approximate values\n",
    "var (\n",
    "    valuesA = map[string]float64{\"pi\": math.Pi}\n",
    "    valuesB = map[string]float64{\"pi\": 22 / 7.0}\n",
    ")"
   ]
  },
  {
   "cell_type": "code",
   "execution_count": 29,
   "metadata": {
    "ExecuteTime": {
     "end_time": "2021-07-04T01:16:14Z",
     "start_time": "2021-07-04T01:16:10.512Z"
    }
   },
   "outputs": [
    {
     "name": "stderr",
     "output_type": "stream",
     "text": [
      "Max difference between 3.141592653589793 and 3.142857142857143 allowed is 0.001, but difference was -0.0012644892673496777"
     ]
    }
   ],
   "source": [
    "// approximal values with in delta\n",
    "_ = assert.InDelta(t, valuesA[\"pi\"], valuesB[\"pi\"], 0.001)"
   ]
  },
  {
   "cell_type": "code",
   "execution_count": 30,
   "metadata": {
    "ExecuteTime": {
     "end_time": "2021-07-04T01:16:14Z",
     "start_time": "2021-07-04T01:16:10.514Z"
    }
   },
   "outputs": [
    {
     "name": "stderr",
     "output_type": "stream",
     "text": [
      "Max difference between 3.141592653589793 and 3.142857142857143 allowed is 0.001, but difference was -0.0012644892673496777"
     ]
    }
   ],
   "source": [
    "_ = assert.InDeltaMapValues(t, valuesA, valuesB, 0.001)"
   ]
  },
  {
   "cell_type": "code",
   "execution_count": 31,
   "metadata": {
    "ExecuteTime": {
     "end_time": "2021-07-04T01:16:14Z",
     "start_time": "2021-07-04T01:16:10.515Z"
    }
   },
   "outputs": [
    {
     "name": "stderr",
     "output_type": "stream",
     "text": [
      "Max difference between 3.142857142857143 and 3.141592653589793 allowed is 0.001, but difference was 0.0012644892673496777"
     ]
    }
   ],
   "source": [
    "_ = assert.InDeltaSlice(t, []float64{valuesA[\"pi\"]}, []float64{valuesB[\"pi\"]}, 0.001)"
   ]
  },
  {
   "cell_type": "markdown",
   "metadata": {},
   "source": [
    "### Centains"
   ]
  },
  {
   "cell_type": "code",
   "execution_count": 7,
   "metadata": {
    "ExecuteTime": {
     "end_time": "2021-07-05T10:46:00Z",
     "start_time": "2021-07-05T10:46:00.241Z"
    }
   },
   "outputs": [
    {
     "name": "stderr",
     "output_type": "stream",
     "text": [
      "[]string{\"\\x01\", \"\\x02\"} does not contain 2"
     ]
    },
    {
     "data": {
      "text/plain": [
       "false"
      ]
     },
     "execution_count": 7,
     "metadata": {},
     "output_type": "execute_result"
    }
   ],
   "source": [
    "assert.Contains(t, []string{1,2}, 2)"
   ]
  },
  {
   "cell_type": "code",
   "execution_count": 6,
   "metadata": {
    "ExecuteTime": {
     "end_time": "2021-07-05T10:45:47Z",
     "start_time": "2021-07-05T10:45:47.451Z"
    }
   },
   "outputs": [
    {
     "data": {
      "text/plain": [
       "true"
      ]
     },
     "execution_count": 6,
     "metadata": {},
     "output_type": "execute_result"
    }
   ],
   "source": [
    "assert.Contains(t, []string{\"foobar\", \"foo\"}, \"foobar\")"
   ]
  },
  {
   "cell_type": "code",
   "execution_count": 32,
   "metadata": {
    "ExecuteTime": {
     "end_time": "2021-07-04T01:16:14Z",
     "start_time": "2021-07-04T01:16:10.517Z"
    }
   },
   "outputs": [
    {
     "name": "stderr",
     "output_type": "stream",
     "text": [
      "[]int{2, 1} does not contain \"foobar\""
     ]
    }
   ],
   "source": [
    "_ = assert.Contains(t, []int{2, 1}, \"foobar\")"
   ]
  },
  {
   "cell_type": "code",
   "execution_count": 33,
   "metadata": {
    "ExecuteTime": {
     "end_time": "2021-07-04T01:16:14Z",
     "start_time": "2021-07-04T01:16:10.520Z"
    }
   },
   "outputs": [
    {
     "name": "stderr",
     "output_type": "stream",
     "text": [
      "\"[foo bar]\" should not contain \"bar\""
     ]
    }
   ],
   "source": [
    "_ = assert.NotContains(t, []string{\"foo\", \"bar\"}, \"bar\")"
   ]
  },
  {
   "cell_type": "code",
   "execution_count": 8,
   "metadata": {
    "ExecuteTime": {
     "end_time": "2021-07-05T10:46:27Z",
     "start_time": "2021-07-05T10:46:27.379Z"
    }
   },
   "outputs": [
    {
     "data": {
      "text/plain": [
       "true"
      ]
     },
     "execution_count": 8,
     "metadata": {},
     "output_type": "execute_result"
    }
   ],
   "source": [
    "assert.Contains(t, []string{\"Hello\", \"World\"}, \"World\")"
   ]
  },
  {
   "cell_type": "code",
   "execution_count": 34,
   "metadata": {
    "ExecuteTime": {
     "end_time": "2021-07-04T01:16:14Z",
     "start_time": "2021-07-04T01:16:10.522Z"
    }
   },
   "outputs": [
    {
     "data": {
      "text/plain": [
       "true"
      ]
     },
     "execution_count": 34,
     "metadata": {},
     "output_type": "execute_result"
    }
   ],
   "source": [
    "// works well with containers\n",
    "assert.Contains(t, \"Hello World\", \"World\")\n",
    "assert.Contains(t, []string{\"Hello\", \"World\"}, \"World\")\n",
    "assert.Contains(t, map[string]string{\"Hello\": \"World\"}, \"Hello\")"
   ]
  },
  {
   "cell_type": "code",
   "execution_count": 35,
   "metadata": {
    "ExecuteTime": {
     "end_time": "2021-07-04T01:16:14Z",
     "start_time": "2021-07-04T01:16:10.524Z"
    }
   },
   "outputs": [
    {
     "data": {
      "text/plain": [
       "true"
      ]
     },
     "execution_count": 35,
     "metadata": {},
     "output_type": "execute_result"
    }
   ],
   "source": [
    "//but, uses keys in map for checking\n",
    "assert.NotContains(t, map[string]string{\"Hello\": \"World\"}, \"World\")"
   ]
  },
  {
   "cell_type": "code",
   "execution_count": 36,
   "metadata": {
    "ExecuteTime": {
     "end_time": "2021-07-04T01:16:14Z",
     "start_time": "2021-07-04T01:16:10.525Z"
    }
   },
   "outputs": [
    {
     "name": "stderr",
     "output_type": "stream",
     "text": [
      "\"[%!s(int=1) %!s(int=2) %!s(int=3)]\" does not contain \"%!s(int=4)\""
     ]
    }
   ],
   "source": [
    "_ = assert.Subset(t, []int{1, 2, 3}, []int{4, 5})"
   ]
  },
  {
   "cell_type": "code",
   "execution_count": 37,
   "metadata": {
    "ExecuteTime": {
     "end_time": "2021-07-04T01:16:14Z",
     "start_time": "2021-07-04T01:16:10.527Z"
    }
   },
   "outputs": [],
   "source": [
    "_ = assert.Subset(t, []int{1, 2, 3}, []int{1, 2})"
   ]
  },
  {
   "cell_type": "code",
   "execution_count": 38,
   "metadata": {
    "ExecuteTime": {
     "end_time": "2021-07-04T01:16:14Z",
     "start_time": "2021-07-04T01:16:10.529Z"
    }
   },
   "outputs": [
    {
     "name": "stderr",
     "output_type": "stream",
     "text": [
      "['\\x02'] is a subset of ['\\x01' '\\x02' '\\x03']"
     ]
    }
   ],
   "source": [
    "_ = assert.NotSubset(t, []int{1, 2, 3}, []int{2})"
   ]
  },
  {
   "cell_type": "code",
   "execution_count": 39,
   "metadata": {
    "ExecuteTime": {
     "end_time": "2021-07-04T01:16:14Z",
     "start_time": "2021-07-04T01:16:10.533Z"
    }
   },
   "outputs": [
    {
     "name": "stderr",
     "output_type": "stream",
     "text": [
      "\"[%!s(int=1) %!s(int=2) %!s(int=3)]\" should have 4 item(s), but has 3"
     ]
    }
   ],
   "source": [
    "// length of the container\n",
    "_ = assert.Len(t, []int{1, 2, 3}, 4)"
   ]
  },
  {
   "cell_type": "markdown",
   "metadata": {
    "ExecuteTime": {
     "end_time": "2021-07-03T09:40:23Z",
     "start_time": "2021-07-03T09:40:23.287Z"
    }
   },
   "source": [
    "### FileSystem"
   ]
  },
  {
   "cell_type": "code",
   "execution_count": 40,
   "metadata": {
    "ExecuteTime": {
     "end_time": "2021-07-04T01:16:14Z",
     "start_time": "2021-07-04T01:16:10.535Z"
    }
   },
   "outputs": [
    {
     "name": "stdout",
     "output_type": "stream",
     "text": [
      "advanced-testing\n",
      "benchmarking.ipynb\n",
      "benchmarking.md\n",
      "containers\n",
      "docs.ipynb\n",
      "docs.md\n",
      "fuzzing\n",
      "httptesting\n",
      "readme.ipynb\n",
      "readme.md\n",
      "simplest-test\n",
      "testify.ipynb\n",
      "testify.md\n"
     ]
    }
   ],
   "source": [
    "$ls"
   ]
  },
  {
   "cell_type": "code",
   "execution_count": 41,
   "metadata": {
    "ExecuteTime": {
     "end_time": "2021-07-04T01:16:14Z",
     "start_time": "2021-07-04T01:16:10.537Z"
    }
   },
   "outputs": [
    {
     "name": "stderr",
     "output_type": "stream",
     "text": [
      "unable to find file \"containers-go\""
     ]
    }
   ],
   "source": [
    "_ = assert.DirExists(t, \"containers-go\")"
   ]
  },
  {
   "cell_type": "code",
   "execution_count": 42,
   "metadata": {
    "ExecuteTime": {
     "end_time": "2021-07-04T01:16:14Z",
     "start_time": "2021-07-04T01:16:10.539Z"
    }
   },
   "outputs": [
    {
     "name": "stderr",
     "output_type": "stream",
     "text": [
      "unable to find file \"testify.rtf\""
     ]
    }
   ],
   "source": [
    "_ = assert.FileExists(t, \"testify.rtf\")"
   ]
  },
  {
   "cell_type": "code",
   "execution_count": 43,
   "metadata": {
    "ExecuteTime": {
     "end_time": "2021-07-04T01:16:14Z",
     "start_time": "2021-07-04T01:16:10.542Z"
    }
   },
   "outputs": [
    {
     "name": "stderr",
     "output_type": "stream",
     "text": [
      "file \"testify.ipynb\" exists"
     ]
    }
   ],
   "source": [
    "_ = assert.NoFileExists(t, \"testify.ipynb\")"
   ]
  },
  {
   "cell_type": "markdown",
   "metadata": {},
   "source": [
    "### `JSON`"
   ]
  },
  {
   "cell_type": "code",
   "execution_count": 44,
   "metadata": {
    "ExecuteTime": {
     "end_time": "2021-07-04T01:16:14Z",
     "start_time": "2021-07-04T01:16:10.545Z"
    }
   },
   "outputs": [],
   "source": [
    "_ = assert.JSONEq(t, `{\"hello\": \"world\", \"foo\": \"bar\"}`, `{\"foo\": \"bar\", \"hello\": \"world\"}`)"
   ]
  },
  {
   "cell_type": "code",
   "execution_count": 45,
   "metadata": {
    "ExecuteTime": {
     "end_time": "2021-07-04T01:16:14Z",
     "start_time": "2021-07-04T01:16:10.547Z"
    }
   },
   "outputs": [
    {
     "name": "stderr",
     "output_type": "stream",
     "text": [
      "Not equal: \n",
      "expected: map[string]interface {}{\"foo\":\"baz\", \"hello\":\"world\"}\n",
      "actual  : map[string]interface {}{\"foo\":\"bar\", \"hello\":\"world\"}\n",
      "\n",
      "Diff:\n",
      "--- Expected\n",
      "+++ Actual\n",
      "@@ -1,3 +1,3 @@\n",
      "(map[string]interface {}) (len=2) {\n",
      "- (string) (len=3) \"foo\": (string) (len=3) \"baz\",\n",
      "+ (string) (len=3) \"foo\": (string) (len=3) \"bar\",\n",
      "(string) (len=5) \"hello\": (string) (len=5) \"world\""
     ]
    }
   ],
   "source": [
    "_ = assert.JSONEq(t, `{\"hello\": \"world\", \"foo\": \"baz\"}`, `{\"foo\": \"bar\", \"hello\": \"world\"}`)"
   ]
  },
  {
   "cell_type": "markdown",
   "metadata": {},
   "source": [
    "### `YAML`"
   ]
  },
  {
   "cell_type": "code",
   "execution_count": 46,
   "metadata": {
    "ExecuteTime": {
     "end_time": "2021-07-04T01:16:14Z",
     "start_time": "2021-07-04T01:16:10.549Z"
    }
   },
   "outputs": [
    {
     "name": "stderr",
     "output_type": "stream",
     "text": [
      "Not equal: \n",
      "expected: []interface {}{1, 2, 3}\n",
      "actual  : []interface {}{3, 2, 3}\n",
      "\n",
      "Diff:\n",
      "--- Expected\n",
      "+++ Actual\n",
      "@@ -1,3 +1,3 @@\n",
      "([]interface {}) (len=3) {\n",
      "- (int) 1,\n",
      "+ (int) 3,\n",
      "(int) 2,"
     ]
    }
   ],
   "source": [
    "_ = assert.YAMLEq(t, \"[1,2,3]\", \"[3,2,3]\")"
   ]
  },
  {
   "cell_type": "markdown",
   "metadata": {},
   "source": [
    "### objects"
   ]
  },
  {
   "cell_type": "code",
   "execution_count": 47,
   "metadata": {
    "ExecuteTime": {
     "end_time": "2021-07-04T01:16:14Z",
     "start_time": "2021-07-04T01:16:10.552Z"
    }
   },
   "outputs": [],
   "source": [
    "type Var struct {\n",
    "    num int\n",
    "} "
   ]
  },
  {
   "cell_type": "code",
   "execution_count": 48,
   "metadata": {
    "ExecuteTime": {
     "end_time": "2021-07-04T01:16:14Z",
     "start_time": "2021-07-04T01:16:10.554Z"
    }
   },
   "outputs": [
    {
     "data": {
      "text/plain": [
       "false"
      ]
     },
     "execution_count": 48,
     "metadata": {},
     "output_type": "execute_result"
    }
   ],
   "source": [
    "assert.ObjectsAreEqualValues(Var{10}, Var{11})"
   ]
  },
  {
   "cell_type": "code",
   "execution_count": 49,
   "metadata": {
    "ExecuteTime": {
     "end_time": "2021-07-04T01:16:14Z",
     "start_time": "2021-07-04T01:16:10.556Z"
    }
   },
   "outputs": [
    {
     "name": "stderr",
     "output_type": "stream",
     "text": [
      "Should be true"
     ]
    }
   ],
   "source": [
    "_ = assert.True(t, assert.ObjectsAreEqualValues(Var{10}, Var{11}))"
   ]
  },
  {
   "cell_type": "code",
   "execution_count": 50,
   "metadata": {
    "ExecuteTime": {
     "end_time": "2021-07-04T01:16:14Z",
     "start_time": "2021-07-04T01:16:10.558Z"
    }
   },
   "outputs": [
    {
     "name": "stderr",
     "output_type": "stream",
     "text": [
      "Not same: \n",
      "expected: 0xc000671418 &struct { 𒀸num int }{𒀸num:1}\n",
      "actual  : 0xc000671420 &struct { 𒀸num int }{𒀸num:1}"
     ]
    }
   ],
   "source": [
    "_ = assert.Same(t, &Var{1}, &Var{1})"
   ]
  },
  {
   "cell_type": "code",
   "execution_count": 51,
   "metadata": {
    "ExecuteTime": {
     "end_time": "2021-07-04T01:16:14Z",
     "start_time": "2021-07-04T01:16:10.560Z"
    }
   },
   "outputs": [],
   "source": [
    "_ = assert.NotSame(t, &Var{1}, &Var{1})"
   ]
  },
  {
   "cell_type": "code",
   "execution_count": 52,
   "metadata": {
    "ExecuteTime": {
     "end_time": "2021-07-04T01:16:14Z",
     "start_time": "2021-07-04T01:16:10.562Z"
    }
   },
   "outputs": [
    {
     "name": "stderr",
     "output_type": "stream",
     "text": [
      "Object expected to be of type int32, but was int64"
     ]
    }
   ],
   "source": [
    "_ = assert.IsType(t, int32(10), int64(10)) "
   ]
  },
  {
   "cell_type": "markdown",
   "metadata": {},
   "source": [
    "### Interfaces"
   ]
  },
  {
   "cell_type": "code",
   "execution_count": 53,
   "metadata": {
    "ExecuteTime": {
     "end_time": "2021-07-04T01:16:14Z",
     "start_time": "2021-07-04T01:16:10.565Z"
    }
   },
   "outputs": [],
   "source": [
    "type Var struct {\n",
    "    value int\n",
    "}\n",
    "\n",
    "func (v Var) String() string {\n",
    "    return string(v.value)\n",
    "}"
   ]
  },
  {
   "cell_type": "code",
   "execution_count": 54,
   "metadata": {
    "ExecuteTime": {
     "end_time": "2021-07-04T01:16:14Z",
     "start_time": "2021-07-04T01:16:10.568Z"
    }
   },
   "outputs": [
    {
     "name": "stderr",
     "output_type": "stream",
     "text": [
      "struct { 𒀸value int } must implement fmt.Stringer"
     ]
    }
   ],
   "source": [
    "// jupyter itself has issues with interface casting.\n",
    "_ = assert.Implements(t, (*fmt.Stringer)(nil), Var{})"
   ]
  },
  {
   "cell_type": "code",
   "execution_count": 55,
   "metadata": {
    "ExecuteTime": {
     "end_time": "2021-07-04T01:16:14Z",
     "start_time": "2021-07-04T01:16:10.570Z"
    }
   },
   "outputs": [
    {
     "name": "stderr",
     "output_type": "stream",
     "text": [
      "errorf.T must implement assert.TestingT"
     ]
    }
   ],
   "source": [
    "_ = assert.Implements(t, (*assert.TestingT)(nil), errorf.T{})"
   ]
  },
  {
   "cell_type": "markdown",
   "metadata": {},
   "source": [
    "### `time`"
   ]
  },
  {
   "cell_type": "code",
   "execution_count": 56,
   "metadata": {
    "ExecuteTime": {
     "end_time": "2021-07-04T01:16:14Z",
     "start_time": "2021-07-04T01:16:10.572Z"
    }
   },
   "outputs": [],
   "source": [
    "import \"time\""
   ]
  },
  {
   "cell_type": "code",
   "execution_count": 57,
   "metadata": {
    "ExecuteTime": {
     "end_time": "2021-07-04T01:16:14Z",
     "start_time": "2021-07-04T01:16:10.574Z"
    }
   },
   "outputs": [
    {
     "name": "stderr",
     "output_type": "stream",
     "text": [
      "Max difference between 2000-01-01 00:00:00 +0000 UTC and 2000-01-01 02:00:00 +0000 UTC allowed is 1h0m0s, but difference was -2h0m0s"
     ]
    }
   ],
   "source": [
    "t1 := time.Date(2000, 1, 1, 0, 0, 0, 0, time.UTC)\n",
    "t2 := time.Date(2000, 1, 1, 2, 0, 0, 0, time.UTC)\n",
    "_ = assert.WithinDuration(t, t1, t2, time.Hour)"
   ]
  },
  {
   "cell_type": "markdown",
   "metadata": {},
   "source": [
    "### regular expressions"
   ]
  },
  {
   "cell_type": "code",
   "execution_count": 58,
   "metadata": {
    "ExecuteTime": {
     "end_time": "2021-07-04T01:16:14Z",
     "start_time": "2021-07-04T01:16:10.577Z"
    }
   },
   "outputs": [],
   "source": [
    "import \"regexp\""
   ]
  },
  {
   "cell_type": "code",
   "execution_count": 59,
   "metadata": {
    "ExecuteTime": {
     "end_time": "2021-07-04T01:16:14Z",
     "start_time": "2021-07-04T01:16:10.579Z"
    }
   },
   "outputs": [
    {
     "name": "stderr",
     "output_type": "stream",
     "text": [
      "Expect \"darkoduck\" to match \"dark(wing)? duck\""
     ]
    }
   ],
   "source": [
    "_ = assert.Regexp(t, regexp.MustCompile(\"dark(wing)? duck\"), \"darkoduck\")"
   ]
  },
  {
   "cell_type": "code",
   "execution_count": 60,
   "metadata": {
    "ExecuteTime": {
     "end_time": "2021-07-04T01:16:14Z",
     "start_time": "2021-07-04T01:16:10.581Z"
    }
   },
   "outputs": [
    {
     "name": "stderr",
     "output_type": "stream",
     "text": [
      "Expect \"darkwing duck\" to NOT match \"dark(wing)? duck\""
     ]
    }
   ],
   "source": [
    "_ = assert.NotRegexp(t, regexp.MustCompile(\"dark(wing)? duck\"), \"darkwing duck\")"
   ]
  },
  {
   "cell_type": "markdown",
   "metadata": {},
   "source": [
    "### Errors & Panics"
   ]
  },
  {
   "cell_type": "code",
   "execution_count": 61,
   "metadata": {
    "ExecuteTime": {
     "end_time": "2021-07-04T01:16:14Z",
     "start_time": "2021-07-04T01:16:10.583Z"
    }
   },
   "outputs": [],
   "source": [
    "import \"errors\""
   ]
  },
  {
   "cell_type": "code",
   "execution_count": 62,
   "metadata": {
    "ExecuteTime": {
     "end_time": "2021-07-04T01:16:14Z",
     "start_time": "2021-07-04T01:16:10.585Z"
    }
   },
   "outputs": [
    {
     "name": "stderr",
     "output_type": "stream",
     "text": [
      "Received unexpected error:\n",
      "we are all gonna die"
     ]
    }
   ],
   "source": [
    "_ = assert.NoError(t, errors.New(\"we are all gonna die\"))"
   ]
  },
  {
   "cell_type": "code",
   "execution_count": 63,
   "metadata": {
    "ExecuteTime": {
     "end_time": "2021-07-04T01:16:14Z",
     "start_time": "2021-07-04T01:16:10.587Z"
    }
   },
   "outputs": [
    {
     "name": "stderr",
     "output_type": "stream",
     "text": [
      "An error is expected but got nil."
     ]
    }
   ],
   "source": [
    "_ = assert.Error(t, nil)"
   ]
  },
  {
   "cell_type": "code",
   "execution_count": 64,
   "metadata": {
    "ExecuteTime": {
     "end_time": "2021-07-04T01:16:14Z",
     "start_time": "2021-07-04T01:16:10.589Z"
    }
   },
   "outputs": [],
   "source": [
    "// Todo\n",
    "// import \"context\"\n",
    "// \n",
    "// var ErrUno = errors.New(\"one\")\n",
    "// \n",
    "// _ = assert.ErrorAs(t, context.DeadlineExceeded, fmt.Errorf(\"%w: foobar\", ErrUno))"
   ]
  },
  {
   "cell_type": "code",
   "execution_count": 65,
   "metadata": {
    "ExecuteTime": {
     "end_time": "2021-07-04T01:16:14Z",
     "start_time": "2021-07-04T01:16:10.591Z"
    }
   },
   "outputs": [],
   "source": [
    "var ErrUno = errors.New(\"one\")\n",
    "\n",
    "_ = assert.ErrorIs(t, fmt.Errorf(\"%w: foobar\", ErrUno), ErrUno)"
   ]
  },
  {
   "cell_type": "code",
   "execution_count": 66,
   "metadata": {
    "ExecuteTime": {
     "end_time": "2021-07-04T01:16:14Z",
     "start_time": "2021-07-04T01:16:10.593Z"
    }
   },
   "outputs": [
    {
     "name": "stderr",
     "output_type": "stream",
     "text": [
      "Target error should not be in err chain:\n",
      "found: \"one\"\n",
      "in chain: \"one: foobar\"\n",
      "\"one\""
     ]
    }
   ],
   "source": [
    "_ = assert.NotErrorIs(t, fmt.Errorf(\"%w: foobar\", ErrUno), ErrUno)"
   ]
  },
  {
   "cell_type": "code",
   "execution_count": null,
   "metadata": {},
   "outputs": [],
   "source": []
  },
  {
   "cell_type": "code",
   "execution_count": 67,
   "metadata": {
    "ExecuteTime": {
     "end_time": "2021-07-04T01:16:14Z",
     "start_time": "2021-07-04T01:16:10.596Z"
    }
   },
   "outputs": [],
   "source": [
    "_ = assert.EqualError(t, errors.New(\"Dosn't work\"), \"Dosn't work\")"
   ]
  },
  {
   "cell_type": "code",
   "execution_count": 68,
   "metadata": {
    "ExecuteTime": {
     "end_time": "2021-07-04T01:16:14Z",
     "start_time": "2021-07-04T01:16:10.598Z"
    }
   },
   "outputs": [
    {
     "name": "stderr",
     "output_type": "stream",
     "text": [
      "func (assert.PanicTestFunc)(0x1404060) should not panic\n",
      "Panic value:\toops!\n",
      "Panic stack:\tgoroutine 1 [running]:\n",
      "runtime/debug.Stack(0xc0006cc648, 0x1645f60, 0xc000738da0)\n",
      "/usr/local/go/src/runtime/debug/stack.go:24 +0x9f\n",
      "github.com/stretchr/testify/assert.didPanic.func1.1(0xc0006cc9a8, 0xc0006cc997, 0xc0006cc998)\n",
      "/home/butuzov/go/pkg/mod/github.com/stretchr/testify@v1.7.0/assert/assertions.go:1013 +0x71\n",
      "panic(0x1645f60, 0xc000738da0)\n",
      "/usr/local/go/src/runtime/panic.go:965 +0x1b9\n",
      "github.com/cosmos72/gomacro/fast.(*Comp).call_builtin.func19(0xc0001d72c0)\n",
      "/go/pkg/mod/github.com/cosmos72/gomacro@v0.0.0-20210624153544-b4935e406a41/fast/builtin.go:1034 +0x69\n",
      "github.com/cosmos72/gomacro/fast.funAsStmt.func1(0xc0001d72c0, 0xc0006cc888, 0x827a78)\n",
      "/go/pkg/mod/github.com/cosmos72/gomacro@v0.0.0-20210624153544-b4935e406a41/fast/util.go:1284 +0x2f\n",
      "github.com/cosmos72/gomacro/fast.exec.func1(0xc0001d72c0)\n",
      "/go/pkg/mod/github.com/cosmos72/gomacro@v0.0.0-20210624153544-b4935e406a41/fast/code.go:170 +0x15b\n",
      "github.com/cosmos72/gomacro/fast.(*Comp).func0ret0.func2.1()\n",
      "/go/pkg/mod/github.com/cosmos72/gomacro@v0.0.0-20210624153544-b4935e406a41/fast/func0ret0.go:44 +0x66\n",
      "github.com/stretchr/testify/assert.didPanic.func1(0xc0006cc9a8, 0xc0006cc997, 0xc0006cc998, 0xc000eb8420)\n",
      "/home/butuzov/go/pkg/mod/github.com/stretchr/testify@v1.7.0/assert/assertions.go:1018 +0x6e\n",
      "github.com/stretchr/testify/assert.didPanic(0xc000eb8420, 0x7f85cc340348, 0x2143818, 0x0, 0x0, 0x1634f00)\n",
      "/home/butuzov/go/pkg/mod/github.com/stretchr/testify@v1.7.0/assert/assertions.go:1020 +0x65\n",
      "github.com/stretchr/testify/assert.NotPanics(0x7f85cc340348, 0x2143818, 0xc000eb8420, 0x2143818, 0x0, 0x0, 0x0)\n",
      "/home/butuzov/go/pkg/mod/github.com/stretchr/testify@v1.7.0/assert/assertions.go:1091 +0x77\n",
      "reflect.Value.call(0x7f85b7de5040, 0x7f85b7e29ed0, 0x13, 0x17fd3ba, 0x4, 0xc00054b9f0, 0x3, 0x2, 0x7f85b7ddb500, 0xc000eb8420, ...)\n",
      "/usr/local/go/src/reflect/value.go:476 +0x8e7\n",
      "reflect.Value.Call(0x7f85b7de5040, 0x7f85b7e29ed0, 0x13, 0xc000eb8540, 0x2, 0x2, 0x13, 0x13, 0xc00063a588)\n",
      "/usr/local/go/src/reflect/value.go:337 +0xb9\n",
      "github.com/cosmos72/gomacro/xreflect.Value.Call(0x7f85b7de5040, 0x7f85b7e29ed0, 0x13, 0xc0006cce18, 0x2, 0x2, 0x10, 0x10, 0x16ea5a0)\n",
      "/go/pkg/mod/github.com/cosmos72/gomacro@v0.0.0-20210624153544-b4935e406a41/xreflect/value.go:127 +0xcf\n",
      "github.com/cosmos72/gomacro/fast.call_variadic_ret1.func19(0xc0001d60a0, 0xc0006cced0)\n",
      "/go/pkg/mod/github.com/cosmos72/gomacro@v0.0.0-20210624153544-b4935e406a41/fast/call_variadic.go:265 +0x165\n",
      "github.com/cosmos72/gomacro/fast.funAsStmt.func4(0xc0001d60a0, 0x1, 0x1)\n",
      "/go/pkg/mod/github.com/cosmos72/gomacro@v0.0.0-20210624153544-b4935e406a41/fast/util.go:1302 +0x2f\n",
      "github.com/cosmos72/gomacro/fast.exec.func1(0xc0001d60a0)\n",
      "/go/pkg/mod/github.com/cosmos72/gomacro@v0.0.0-20210624153544-b4935e406a41/fast/code.go:170 +0x15b\n",
      "github.com/cosmos72/gomacro/fast.funAsXV.func1(0xc0001d60a0, 0x1, 0xc000738ed0, 0xc0001d6000, 0xc00054b9a0, 0x823e3f, 0xc000020000)\n",
      "/go/pkg/mod/github.com/cosmos72/gomacro@v0.0.0-20210624153544-b4935e406a41/fast/util.go:827 +0x2f\n",
      "github.com/cosmos72/gomacro/fast.(*Interp).RunExpr(0xc000062aa0, 0xc00054b9a0, 0x0, 0x0, 0x0, 0x0, 0x0, 0x0)\n",
      "/go/pkg/mod/github.com/cosmos72/gomacro@v0.0.0-20210624153544-b4935e406a41/fast/repl.go:132 +0x1a4\n",
      "main.doEval(0xc000062aa0, 0x19c0760, 0xc00063a438, 0x19c0760, 0xc00063a450, 0xc000829400, 0x32, 0x0, 0x0, 0x0, ...)\n",
      "/go/pkg/mod/github.com/gopherdata/gophernotes@v0.7.3/kernel.go:587 +0x250\n",
      "main.(*Kernel).handleExecuteRequest(0xc0006cd6c0, 0xc000f9a6e0, 0x20, 0xc000221b98, 0x8, 0xc000f9a700, 0x20, 0xc000221ba0, 0xf, 0xc000221bb0, ...)\n",
      "/go/pkg/mod/github.com/gopherdata/gophernotes@v0.7.3/kernel.go:492 +0x69f\n",
      "main.(*Kernel).handleShellMsg(0xc0006cd6c0, 0xc000f9a6e0, 0x20, 0xc000221b98, 0x8, 0xc000f9a700, 0x20, 0xc000221ba0, 0xf, 0xc000221bb0, ...)\n",
      "/go/pkg/mod/github.com/gopherdata/gophernotes@v0.7.3/kernel.go:346 +0x25e\n",
      "main.runKernel(0x7ffcd1cd0dd9, 0x5b)\n",
      "/go/pkg/mod/github.com/gopherdata/gophernotes@v0.7.3/kernel.go:226 +0xa25\n",
      "main.main()\n",
      "/go/pkg/mod/github.com/gopherdata/gophernotes@v0.7.3/main.go:26 +0xb7"
     ]
    }
   ],
   "source": [
    "_ = assert.NotPanics(t, func() { panic(\"oops!\") })"
   ]
  },
  {
   "cell_type": "code",
   "execution_count": 69,
   "metadata": {
    "ExecuteTime": {
     "end_time": "2021-07-04T01:16:14Z",
     "start_time": "2021-07-04T01:16:10.600Z"
    }
   },
   "outputs": [
    {
     "name": "stderr",
     "output_type": "stream",
     "text": [
      "func (assert.PanicTestFunc)(0x1321e40) should panic\n",
      "Panic value:\t<nil>"
     ]
    }
   ],
   "source": [
    "_ = assert.Panics(t, func() { })"
   ]
  },
  {
   "cell_type": "code",
   "execution_count": 70,
   "metadata": {
    "ExecuteTime": {
     "end_time": "2021-07-04T01:16:14Z",
     "start_time": "2021-07-04T01:16:10.602Z"
    }
   },
   "outputs": [
    {
     "name": "stderr",
     "output_type": "stream",
     "text": [
      "func (assert.PanicTestFunc)(0x1321e40) should panic\n",
      "Panic value:\t<nil>"
     ]
    }
   ],
   "source": [
    "_ = assert.PanicsWithError(t, \"damn!\", func(){ })"
   ]
  },
  {
   "cell_type": "code",
   "execution_count": 71,
   "metadata": {
    "ExecuteTime": {
     "end_time": "2021-07-04T01:16:14Z",
     "start_time": "2021-07-04T01:16:10.604Z"
    }
   },
   "outputs": [
    {
     "name": "stderr",
     "output_type": "stream",
     "text": [
      "func (assert.PanicTestFunc)(0x1321e40) should panic\n",
      "Panic value:\t<nil>"
     ]
    }
   ],
   "source": [
    "_ = assert.PanicsWithValue(t, \"damn!\", func() { })"
   ]
  },
  {
   "cell_type": "markdown",
   "metadata": {},
   "source": [
    "### Sequences"
   ]
  },
  {
   "cell_type": "code",
   "execution_count": 72,
   "metadata": {
    "ExecuteTime": {
     "end_time": "2021-07-04T01:16:14Z",
     "start_time": "2021-07-04T01:16:10.606Z"
    }
   },
   "outputs": [
    {
     "name": "stderr",
     "output_type": "stream",
     "text": [
      "\"1\" is not greater than \"2\"\n",
      "Messages:   \t[]"
     ]
    }
   ],
   "source": [
    "_ = assert.IsDecreasing(t, []int{1, 2, 0})"
   ]
  },
  {
   "cell_type": "code",
   "execution_count": 73,
   "metadata": {
    "ExecuteTime": {
     "end_time": "2021-07-04T01:16:14Z",
     "start_time": "2021-07-04T01:16:10.609Z"
    }
   },
   "outputs": [
    {
     "name": "stderr",
     "output_type": "stream",
     "text": [
      "\"2\" is not less than \"0\"\n",
      "Messages:   \t[]"
     ]
    }
   ],
   "source": [
    "_ = assert.IsIncreasing(t, []int{1, 2, 0})"
   ]
  },
  {
   "cell_type": "code",
   "execution_count": 74,
   "metadata": {
    "ExecuteTime": {
     "end_time": "2021-07-04T01:16:14Z",
     "start_time": "2021-07-04T01:16:10.610Z"
    }
   },
   "outputs": [
    {
     "name": "stderr",
     "output_type": "stream",
     "text": [
      "\"3\" is not less than or equal to \"2\"\n",
      "Messages:   \t[]"
     ]
    }
   ],
   "source": [
    "_ = assert.IsNonDecreasing(t, []int{3, 2, 1})"
   ]
  },
  {
   "cell_type": "code",
   "execution_count": 75,
   "metadata": {
    "ExecuteTime": {
     "end_time": "2021-07-04T01:16:14Z",
     "start_time": "2021-07-04T01:16:10.612Z"
    }
   },
   "outputs": [
    {
     "name": "stderr",
     "output_type": "stream",
     "text": [
      "\"1\" is not greater than or equal to \"2\"\n",
      "Messages:   \t[]"
     ]
    }
   ],
   "source": [
    "_ = assert.IsNonIncreasing(t, []int{1, 2, 1})"
   ]
  },
  {
   "cell_type": "markdown",
   "metadata": {},
   "source": [
    "### Conditions"
   ]
  },
  {
   "cell_type": "code",
   "execution_count": 76,
   "metadata": {
    "ExecuteTime": {
     "end_time": "2021-07-04T01:16:14Z",
     "start_time": "2021-07-04T01:16:10.614Z"
    }
   },
   "outputs": [
    {
     "name": "stderr",
     "output_type": "stream",
     "text": [
      "Condition failed!"
     ]
    }
   ],
   "source": [
    "_ = assert.Condition(t, func() bool { return false })"
   ]
  },
  {
   "cell_type": "code",
   "execution_count": 77,
   "metadata": {
    "ExecuteTime": {
     "end_time": "2021-07-04T01:16:15Z",
     "start_time": "2021-07-04T01:16:10.616Z"
    }
   },
   "outputs": [
    {
     "name": "stderr",
     "output_type": "stream",
     "text": [
      "Condition never satisfied"
     ]
    }
   ],
   "source": [
    "var n = 10\n",
    "_ = assert.Eventually(t, func() bool { return false }, time.Second, 20 * time.Millisecond)"
   ]
  },
  {
   "cell_type": "code",
   "execution_count": 78,
   "metadata": {
    "ExecuteTime": {
     "end_time": "2021-07-04T01:16:16Z",
     "start_time": "2021-07-04T01:16:10.618Z"
    }
   },
   "outputs": [
    {
     "name": "stderr",
     "output_type": "stream",
     "text": [
      "Condition satisfied"
     ]
    }
   ],
   "source": [
    "import \"math/rand\" \n",
    "\n",
    "_ = assert.Never(t, func() bool { return rand.Int31n(10) == 4 }, time.Second, 20 * time.Millisecond)"
   ]
  },
  {
   "cell_type": "markdown",
   "metadata": {},
   "source": [
    "### Positivity/Negativity"
   ]
  },
  {
   "cell_type": "code",
   "execution_count": 79,
   "metadata": {
    "ExecuteTime": {
     "end_time": "2021-07-04T01:16:16Z",
     "start_time": "2021-07-04T01:16:10.621Z"
    }
   },
   "outputs": [
    {
     "name": "stderr",
     "output_type": "stream",
     "text": [
      "\"1\" is not negative%!(EXTRA int=0)\n",
      "Messages:   \t[1]"
     ]
    }
   ],
   "source": [
    "_ = assert.Negative(t, 1, 1)"
   ]
  },
  {
   "cell_type": "code",
   "execution_count": 80,
   "metadata": {
    "ExecuteTime": {
     "end_time": "2021-07-04T01:16:16Z",
     "start_time": "2021-07-04T01:16:10.623Z"
    }
   },
   "outputs": [
    {
     "name": "stderr",
     "output_type": "stream",
     "text": [
      "\"-1\" is not positive%!(EXTRA int=0)\n",
      "Messages:   \t[]"
     ]
    }
   ],
   "source": [
    "_ = assert.Positive(t, -1)"
   ]
  },
  {
   "cell_type": "markdown",
   "metadata": {},
   "source": [
    "### `net/http`"
   ]
  },
  {
   "cell_type": "code",
   "execution_count": 81,
   "metadata": {
    "ExecuteTime": {
     "end_time": "2021-07-04T01:16:16Z",
     "start_time": "2021-07-04T01:16:10.625Z"
    }
   },
   "outputs": [],
   "source": [
    "import \"net/http\""
   ]
  },
  {
   "cell_type": "code",
   "execution_count": 82,
   "metadata": {
    "ExecuteTime": {
     "end_time": "2021-07-04T01:16:16Z",
     "start_time": "2021-07-04T01:16:10.628Z"
    }
   },
   "outputs": [],
   "source": [
    "handler := http.HandlerFunc(func(w http.ResponseWriter, req *http.Request) {\n",
    "    w.WriteHeader(http.StatusNotFound)\n",
    "    w.Write([]byte(\"ok\"))\n",
    "})"
   ]
  },
  {
   "cell_type": "code",
   "execution_count": 83,
   "metadata": {
    "ExecuteTime": {
     "end_time": "2021-07-04T01:16:16Z",
     "start_time": "2021-07-04T01:16:10.630Z"
    }
   },
   "outputs": [
    {
     "data": {
      "text/plain": [
       "ok"
      ]
     },
     "execution_count": 83,
     "metadata": {},
     "output_type": "execute_result"
    }
   ],
   "source": [
    "assert.HTTPBody(handler, \"GET\", \"/\", nil)"
   ]
  },
  {
   "cell_type": "code",
   "execution_count": 84,
   "metadata": {
    "ExecuteTime": {
     "end_time": "2021-07-04T01:16:16Z",
     "start_time": "2021-07-04T01:16:10.632Z"
    }
   },
   "outputs": [
    {
     "name": "stderr",
     "output_type": "stream",
     "text": [
      "Expected response body for \"/?\" to contain \"okey\" but found \"ok\""
     ]
    },
    {
     "data": {
      "text/plain": [
       "false"
      ]
     },
     "execution_count": 84,
     "metadata": {},
     "output_type": "execute_result"
    }
   ],
   "source": [
    "assert.HTTPBodyContains(t, handler, \"GET\", \"/\", nil, \"okey\")"
   ]
  },
  {
   "cell_type": "code",
   "execution_count": 85,
   "metadata": {
    "ExecuteTime": {
     "end_time": "2021-07-04T01:16:16Z",
     "start_time": "2021-07-04T01:16:10.634Z"
    }
   },
   "outputs": [
    {
     "name": "stderr",
     "output_type": "stream",
     "text": [
      "Expected response body for \"/?\" to NOT contain \"ok\" but found \"ok\""
     ]
    }
   ],
   "source": [
    "_ = assert.HTTPBodyNotContains(t, handler, \"GET\", \"/\", nil, \"ok\")"
   ]
  },
  {
   "cell_type": "code",
   "execution_count": 86,
   "metadata": {
    "ExecuteTime": {
     "end_time": "2021-07-04T01:16:16Z",
     "start_time": "2021-07-04T01:16:10.636Z"
    }
   },
   "outputs": [
    {
     "ename": "ERROR",
     "evalue": "repl.go:1:26: missing ',' in argument list",
     "output_type": "error",
     "traceback": [
      "repl.go:1:26: missing ',' in argument list"
     ]
    }
   ],
   "source": [
    "assert.HTTPSuccess(t,`b` handler, \"GET\", \"/\", nil, \"ok\")"
   ]
  },
  {
   "cell_type": "code",
   "execution_count": 87,
   "metadata": {
    "ExecuteTime": {
     "end_time": "2021-07-04T01:16:16Z",
     "start_time": "2021-07-04T01:16:10.638Z"
    }
   },
   "outputs": [
    {
     "name": "stderr",
     "output_type": "stream",
     "text": [
      "Expected HTTP error status code for \"/?\" but received 200"
     ]
    }
   ],
   "source": [
    "handler := http.HandlerFunc(func(w http.ResponseWriter, req *http.Request) {\n",
    "    w.WriteHeader(http.StatusOK)\n",
    "    w.Write([]byte(\"ok\"))\n",
    "})\n",
    "_ = assert.HTTPError(t, handler, \"GET\", \"/\", nil, \"okey\")"
   ]
  },
  {
   "cell_type": "code",
   "execution_count": 88,
   "metadata": {
    "ExecuteTime": {
     "end_time": "2021-07-04T01:16:16Z",
     "start_time": "2021-07-04T01:16:10.640Z"
    }
   },
   "outputs": [
    {
     "name": "stderr",
     "output_type": "stream",
     "text": [
      "Expected HTTP status code 301 for \"/?\" but received 200"
     ]
    }
   ],
   "source": [
    "_ = assert.HTTPStatusCode(t, handler, \"GET\", \"/\", nil, 301)"
   ]
  },
  {
   "cell_type": "code",
   "execution_count": 89,
   "metadata": {
    "ExecuteTime": {
     "end_time": "2021-07-04T01:16:16Z",
     "start_time": "2021-07-04T01:16:10.642Z"
    }
   },
   "outputs": [
    {
     "name": "stderr",
     "output_type": "stream",
     "text": [
      "Expected HTTP redirect status code for \"/?\" but received 200"
     ]
    }
   ],
   "source": [
    "_ = assert.HTTPRedirect(t, handler, \"GET\", \"/\", nil)"
   ]
  }
 ],
 "metadata": {
  "hide_input": false,
  "kernelspec": {
   "display_name": "Go",
   "language": "go",
   "name": "gophernotes"
  },
  "language_info": {
   "codemirror_mode": "",
   "file_extension": ".go",
   "mimetype": "",
   "name": "go",
   "nbconvert_exporter": "",
   "pygments_lexer": "",
   "version": "go1.16.5"
  },
  "toc": {
   "base_numbering": 1,
   "nav_menu": {},
   "number_sections": false,
   "sideBar": true,
   "skip_h1_title": true,
   "title_cell": "Table of Contents",
   "title_sidebar": "Contents",
   "toc_cell": false,
   "toc_position": {},
   "toc_section_display": true,
   "toc_window_display": true
  }
 },
 "nbformat": 4,
 "nbformat_minor": 2
}
