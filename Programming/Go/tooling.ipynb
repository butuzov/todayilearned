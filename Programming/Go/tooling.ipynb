{
 "cells": [
  {
   "cell_type": "markdown",
   "metadata": {},
   "source": [
    "# Go Tools"
   ]
  },
  {
   "cell_type": "markdown",
   "metadata": {},
   "source": [
    "## `go tool compile` \n",
    "\n",
    "https://golang.org/cmd/compile/\n",
    "\n",
    "### $GOOS\n",
    "The list of valid GOOS values includes android, darwin, dragonfly, freebsd, linux, nacl, netbsd, openbsd, plan9, solaris, windows, and zos. \n",
    "\n",
    "### $GOARCH\n",
    "\n",
    "On the other hand, the list of valid GOARCH values includes 386, amd64, amd64p32, arm, armbe, arm64, arm64be, ppc64, ppc64le, mips, mipsle, mips64, mips64le, mips64p32, mips64p32le, ppc, s390, s390x, sparc, and sparc64.\n",
    "\n",
    "```bash\n",
    "# Print assembly listing to standard output\n",
    "GOOS=darwin GOARCH=amd64 go tool compile -S main.go\n",
    "\n",
    "# Debug parse tree after type checking.\n",
    "go tool compile -W main.go\n",
    "\n",
    "# Compline only package \n",
    "go tool compile package.go && ls -la\n",
    "> package.o\n",
    "```\n",
    "\n"
   ]
  },
  {
   "cell_type": "markdown",
   "metadata": {},
   "source": [
    "## `go build`\n",
    "\n",
    "https://golang.org/cmd/buildid/\n",
    "\n",
    "```bash\n",
    "\n",
    "# Verbose output of the build process\n",
    "go build -x main.go\n",
    "\n",
    "```"
   ]
  },
  {
   "cell_type": "markdown",
   "metadata": {},
   "source": [
    "## `go mod`\n",
    "\n",
    "Go Modules"
   ]
  },
  {
   "cell_type": "markdown",
   "metadata": {},
   "source": [
    "The commands are:\n",
    "\n",
    "* `download` - download modules to local cache\n",
    "* `edit` - edit go.mod from tools or scripts\n",
    "* `graph`  - print module requirement graph\n",
    "* `init` - initialize new module in current directory\n",
    "* `tidy` - add missing and remove unused modules\n",
    "* `vendor` - make vendored copy of dependencies\n",
    "* `verify` - verify dependencies have expected content\n",
    "* `why` - explain why packages or modules are needed\n",
    "\n",
    "\n",
    "```bash\n",
    "# go mod <command> [arguments]\n",
    "go mod init <name>\n",
    "go get -u ./...\n",
    "\n",
    "# vendore deps\n",
    "go mod vendor\n",
    "\n",
    "# update dependency\n",
    "go get -u <url>\n",
    "go mod vendor\n",
    "```"
   ]
  },
  {
   "cell_type": "markdown",
   "metadata": {},
   "source": [
    "## `godoc` Documentation\n",
    "\n",
    "Go Documentation + Package Documentation \n",
    "\n",
    "```bash\n",
    "# running local documentation\n",
    "godoc -http :8000\n",
    "```"
   ]
  },
  {
   "cell_type": "markdown",
   "metadata": {},
   "source": [
    "## `go doc` \n",
    "\n",
    "**Documentation**"
   ]
  },
  {
   "cell_type": "markdown",
   "metadata": {},
   "source": [
    "Doc prints the documentation comments associated with the item identified by its arguments (a package, const, func, type, var, method, or struct field) followed by a one-line summary of each of the first-level items \"under\" that item (package-level declarations for a package, methods for a type, etc.).\n",
    "\n",
    "\n",
    "```bash\n",
    "# show short info about json package\n",
    "go doc json\n",
    "```"
   ]
  },
  {
   "cell_type": "markdown",
   "metadata": {},
   "source": [
    "## `go env` \n",
    "\n",
    "**Env prints Go environment information**"
   ]
  },
  {
   "cell_type": "markdown",
   "metadata": {},
   "source": [
    "```bash\n",
    "go env\n",
    "# or\n",
    "go env -json\n",
    "```"
   ]
  },
  {
   "cell_type": "markdown",
   "metadata": {},
   "source": [
    "## `go list` \n",
    "\n",
    "**List lists the named packages.**"
   ]
  },
  {
   "cell_type": "markdown",
   "metadata": {},
   "source": [
    "```bash\n",
    "# std\n",
    "go list std\n",
    "\n",
    "# The -json flag tells you everything the go tool knows about a package:\n",
    "# checkout\n",
    "#     go help list\n",
    "# to see info about Package struct\n",
    "go list -json std\n",
    "\n",
    "# Custom formated output\n",
    "go list -f '{{.Doc}}' std\n",
    "\n",
    "# Show Package Files\n",
    "go list -f '{{join .GoFiles \" \"}}' bytes\n",
    "\n",
    "# No Docs\n",
    "go list -f '{{if not .Doc}}{{.ImportPath}}{{end}}' std\n",
    "\n",
    "# Find Packages that depands of golang.org/x/oauth2 package\n",
    "go list -f '{{range .Deps}}{{if eq . \"golang.org/x/oauth2\"}}{{$.ImportPath}}{{end}}{{end}}' all\n",
    "\n",
    "# Broken\n",
    "go list -e -f '{{with .Error}}{{.}}{{end}}' all\n",
    "\n",
    "# go list printing line counts\n",
    "for pkg in $(go list golang.org/x/oauth2/...); do\n",
    "    wc -l $(go list -f '{{range .GoFiles}}{{$.Dir}}/{{.}} {{end}}' $pkg) | \\\n",
    "        tail -1 | awk '{ print $1 \" '$pkg'\" }'\n",
    "done | sort -nr\n",
    "\n",
    "> 617 golang.org/x/oauth2/google\n",
    "> 600 golang.org/x/oauth2\n",
    "> 357 golang.org/x/oauth2/internal\n",
    "> 160 golang.org/x/oauth2/jws\n",
    "> 147 golang.org/x/oauth2/jwt\n",
    "> 112 golang.org/x/oauth2/clientcredentials\n",
    "> 22 golang.org/x/oauth2/paypal\n",
    "> 16 golang.org/x/oauth2/vk\n",
    "> 16 golang.org/x/oauth2/odnoklassniki\n",
    "> 16 golang.org/x/oauth2/linkedin\n",
    "> 16 golang.org/x/oauth2/github\n",
    "> 16 golang.org/x/oauth2/facebook\n",
    "\n",
    "\n",
    "# Dependency Graph\n",
    "(   echo \"digraph G {\"\n",
    "    go list -f '{{range .Imports}}{{printf \"\\t%q -> %q;\\n\" $.ImportPath .}}{{end}}' \\\n",
    "        $(go list -f '{{join .Deps \" \"}}' time) time\n",
    "    echo \"}\"\n",
    ") | dot -Tsvg -o time-deps.svg\n",
    "\n",
    "```\n"
   ]
  },
  {
   "cell_type": "markdown",
   "metadata": {},
   "source": [
    "## `go test`\n",
    "\n",
    "[Go testing Package](testing)"
   ]
  }
 ],
 "metadata": {
  "hide_input": false,
  "kernelspec": {
   "display_name": "Go",
   "language": "go",
   "name": "gophernotes"
  },
  "language_info": {
   "codemirror_mode": "",
   "file_extension": ".go",
   "mimetype": "",
   "name": "go",
   "nbconvert_exporter": "",
   "pygments_lexer": "",
   "version": "go1.12.6"
  },
  "toc": {
   "base_numbering": 1,
   "nav_menu": {},
   "number_sections": false,
   "sideBar": true,
   "skip_h1_title": true,
   "title_cell": "Table of Contents",
   "title_sidebar": "Contents",
   "toc_cell": false,
   "toc_position": {},
   "toc_section_display": true,
   "toc_window_display": false
  }
 },
 "nbformat": 4,
 "nbformat_minor": 2
}
