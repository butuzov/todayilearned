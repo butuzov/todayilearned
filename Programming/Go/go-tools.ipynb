{
 "cells": [
  {
   "cell_type": "markdown",
   "metadata": {},
   "source": [
    "# Go Tools"
   ]
  },
  {
   "cell_type": "markdown",
   "metadata": {},
   "source": [
    "## `go tool compile` \n",
    "\n",
    "https://golang.org/cmd/compile/\n",
    "\n",
    "### $GOOS\n",
    "The list of valid GOOS values includes android, darwin, dragonfly, freebsd, linux, nacl, netbsd, openbsd, plan9, solaris, windows, and zos. \n",
    "\n",
    "### $GOARCH\n",
    "\n",
    "On the other hand, the list of valid GOARCH values includes 386, amd64, amd64p32, arm, armbe, arm64, arm64be, ppc64, ppc64le, mips, mipsle, mips64, mips64le, mips64p32, mips64p32le, ppc, s390, s390x, sparc, and sparc64.\n",
    "\n",
    "```bash\n",
    "# Print assembly listing to standard output\n",
    "GOOS=darwin GOARCH=amd64 go tool compile -S main.go\n",
    "\n",
    "# Debug parse tree after type checking.\n",
    "go tool compile -W main.go\n",
    "\n",
    "# Compline only package \n",
    "go tool compile package.go && ls -la\n",
    "> package.o\n",
    "```\n",
    "\n"
   ]
  },
  {
   "cell_type": "markdown",
   "metadata": {},
   "source": [
    "## `go build`\n",
    "\n",
    "https://golang.org/cmd/buildid/\n",
    "\n",
    "```bash\n",
    "\n",
    "# Verbose output of the build process\n",
    "go build -x main.go\n",
    "\n",
    "```"
   ]
  },
  {
   "cell_type": "markdown",
   "metadata": {},
   "source": [
    "## `go mod`\n",
    "\n",
    "Go Modules"
   ]
  },
  {
   "cell_type": "markdown",
   "metadata": {},
   "source": [
    "The commands are:\n",
    "\n",
    "* `download` - download modules to local cache\n",
    "* `edit` - edit go.mod from tools or scripts\n",
    "* `graph`  - print module requirement graph\n",
    "* `init` - initialize new module in current directory\n",
    "* `tidy` - add missing and remove unused modules\n",
    "* `vendor` - make vendored copy of dependencies\n",
    "* `verify` - verify dependencies have expected content\n",
    "* `why` - explain why packages or modules are needed\n",
    "\n",
    "\n",
    "```bash\n",
    "# go mod <command> [arguments]\n",
    "go mod init <name>\n",
    "go get -u ./...\n",
    "\n",
    "# vendore deps\n",
    "go mod vendor\n",
    "\n",
    "# update dependency\n",
    "go get -u <url>\n",
    "go mod vendor\n",
    "```"
   ]
  }
 ],
 "metadata": {
  "hide_input": false,
  "kernelspec": {
   "display_name": "Go",
   "language": "go",
   "name": "gophernotes"
  },
  "language_info": {
   "codemirror_mode": "",
   "file_extension": ".go",
   "mimetype": "",
   "name": "go",
   "nbconvert_exporter": "",
   "pygments_lexer": "",
   "version": "go1.12.6"
  },
  "toc": {
   "base_numbering": 1,
   "nav_menu": {},
   "number_sections": false,
   "sideBar": true,
   "skip_h1_title": true,
   "title_cell": "Table of Contents",
   "title_sidebar": "Contents",
   "toc_cell": false,
   "toc_position": {},
   "toc_section_display": true,
   "toc_window_display": false
  }
 },
 "nbformat": 4,
 "nbformat_minor": 2
}
