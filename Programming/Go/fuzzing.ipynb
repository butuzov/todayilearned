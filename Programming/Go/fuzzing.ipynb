{
 "cells": [
  {
   "cell_type": "markdown",
   "metadata": {},
   "source": [
    "# Fuzzing\n",
    "\n",
    "* Fuzzing the new unit testing - [`video`](https://www.youtube.com/watch?v=EJVp13f_aIs), [`slides`](https://go-talks.appspot.com/github.com/dvyukov/go-fuzz/slides/fuzzing.slide#1). [`git`](https://github.com/dvyukov/go-fuzz)\n",
    "* [go-fuzz github.com/arolek/ase](https://medium.com/@dgryski/3c74d5a3150c) by Damian Gryski\n",
    "* https://mijailovic.net/2017/07/29/go-fuzz/\n",
    "* [DNS parser, meet Go fuzzer](https://blog.cloudflare.com/dns-parser-meet-go-fuzzer/)\n",
    "\n",
    "* parsiya go-fuzz articles [iprange (part 1)](https://parsiya.net/blog/2018-04-29-learning-go-fuzz-1-iprange/), [goexif (part 2)](https://parsiya.net/blog/2018-05-05-learning-go-fuzz-2-goexif2/)\n"
   ]
  },
  {
   "cell_type": "markdown",
   "metadata": {},
   "source": [
    "## Quick Start"
   ]
  },
  {
   "cell_type": "markdown",
   "metadata": {},
   "source": [
    "```bash\n",
    "# install go-fuzz and go-fuzz-build\n",
    "go get -u github.com/dvyukov/go-fuzz/go-fuzz github.com/dvyukov/go-fuzz/go-fuzz-build\n",
    "\n",
    "# donload samples\n",
    "git clone https://github.com/dvyukov/go-fuzz-corpus\n",
    "cd go-fuzz-corpus/png\n",
    "\n",
    "# fuzzing time\n",
    "go-fuzz-build\n",
    "go-fuzz\n",
    "```"
   ]
  },
  {
   "cell_type": "markdown",
   "metadata": {},
   "source": [
    "## Continuous Fuzzing"
   ]
  },
  {
   "cell_type": "markdown",
   "metadata": {},
   "source": [
    "Just as unit-testing, fuzzing is better done continuously.\n",
    "\n",
    "Currently there are 2 services that offer continuous fuzzing based on go-fuzz:\n",
    "\n",
    "- [fuzzit.dev](https://fuzzit.dev/) ([tutorial](https://github.com/fuzzitdev/example-go))\n",
    "- [fuzzbuzz.io](https://fuzzbuzz.io/) ([tutorial](https://docs.fuzzbuzz.io/getting-started/find-your-first-bug-in-go))"
   ]
  },
  {
   "cell_type": "markdown",
   "metadata": {},
   "source": [
    "## How to..."
   ]
  },
  {
   "cell_type": "markdown",
   "metadata": {},
   "source": [
    "1. `fuzz.go` with `func Fuzz([]byte) int` in package directory.\n",
    "2. Write a case in `func Fuzz`\n",
    "\n",
    "```go\n",
    "package main\n",
    "\n",
    "import \"github.com/butuzov/somepkg\"\n",
    "\n",
    "func Fuzz(data []byte) int {\n",
    "    r, err := Functionality(data)\n",
    "    if err != 0 {\n",
    "        return 0\n",
    "    }\n",
    "    return 1\n",
    "}\n",
    "```\n",
    "3. Create a sample corpus file (in `corpus` directory) (1 per example)\n",
    "4. Run `go-fuzz-build`\n",
    "5. Run `go-fuzz` "
   ]
  },
  {
   "cell_type": "markdown",
   "metadata": {},
   "source": [
    "## Analyzing the Crash"
   ]
  },
  {
   "cell_type": "markdown",
   "metadata": {},
   "source": [
    "* `suppressions` - crash logs\n",
    "* `crashers` - found __bad__ input\n",
    "  * `hash` - input\n",
    "  * `hash.quoted` - input as string\n",
    "  * `hash.output` - crash dump"
   ]
  },
  {
   "cell_type": "markdown",
   "metadata": {},
   "source": [
    "## Reproducing crash"
   ]
  },
  {
   "cell_type": "markdown",
   "metadata": {},
   "source": [
    "```go\n",
    "// Sample app to test crash a5 for xor-gate/goexif2.\n",
    "package main\n",
    "\n",
    "import (\n",
    "\t\"fmt\"\n",
    "\t\"os\"\n",
    "\n",
    "\t\"github.com/butuzov/somepkg\"\n",
    ")\n",
    "\n",
    "func main() {\n",
    "\tf, err := os.Open(\"crashers/HASH\")\n",
    "\tif err != nil {\n",
    "\t\tpanic(err)\n",
    "\t}\n",
    "\tdefer f.Close()\n",
    "\n",
    "\t_ = Fuzz(f)\n",
    "}\n",
    "```"
   ]
  }
 ],
 "metadata": {
  "hide_input": false,
  "kernelspec": {
   "display_name": "Go",
   "language": "go",
   "name": "gophernotes"
  },
  "toc": {
   "base_numbering": 1,
   "nav_menu": {},
   "number_sections": false,
   "sideBar": true,
   "skip_h1_title": true,
   "title_cell": "Table of Contents",
   "title_sidebar": "Contents",
   "toc_cell": false,
   "toc_position": {},
   "toc_section_display": true,
   "toc_window_display": false
  }
 },
 "nbformat": 4,
 "nbformat_minor": 2
}
