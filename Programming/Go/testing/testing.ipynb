{
 "cells": [
  {
   "cell_type": "markdown",
   "metadata": {
    "ExecuteTime": {
     "end_time": "2019-07-03T18:18:52Z",
     "start_time": "2019-07-03T18:18:52.270Z"
    }
   },
   "source": [
    "# CLI Tips for Go Testing"
   ]
  },
  {
   "cell_type": "markdown",
   "metadata": {},
   "source": [
    "```bash\n",
    "# Find what tests were skipped\n",
    "go test -v . | grep SKIP\n",
    "\n",
    "# run tests 10 times + verbose output\n",
    "go test -v -test.count 10 .\n",
    "\n",
    "# run on 2 cores\n",
    "go test -v -test.count 10 -test.cpu 2 .\n",
    "\n",
    "# run tests (filter by name)\n",
    "go test -v -run S .\n",
    "\n",
    "# json \n",
    "go test -v --json .\n",
    "\n",
    "# Using jq to filter output of json based export.\n",
    "go test -json | jq -s 'map(select(.Test != null)) | sort_by(.Elapsed)'\n",
    "\n",
    "# benchmarks (+ memory)\n",
    "go test -json -benchmem -run=^$ -bench .\n",
    "```"
   ]
  }
 ],
 "metadata": {
  "hide_input": false,
  "kernelspec": {
   "display_name": "Go",
   "language": "go",
   "name": "gophernotes"
  },
  "language_info": {
   "codemirror_mode": "",
   "file_extension": ".go",
   "mimetype": "",
   "name": "go",
   "nbconvert_exporter": "",
   "pygments_lexer": "",
   "version": "go1.12.6"
  },
  "toc": {
   "base_numbering": 1,
   "nav_menu": {},
   "number_sections": false,
   "sideBar": true,
   "skip_h1_title": true,
   "title_cell": "Table of Contents",
   "title_sidebar": "Contents",
   "toc_cell": false,
   "toc_position": {},
   "toc_section_display": true,
   "toc_window_display": false
  }
 },
 "nbformat": 4,
 "nbformat_minor": 2
}
