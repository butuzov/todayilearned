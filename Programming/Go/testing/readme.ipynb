{
 "cells": [
  {
   "cell_type": "markdown",
   "metadata": {},
   "source": [
    "# README"
   ]
  },
  {
   "cell_type": "markdown",
   "metadata": {},
   "source": [
    "## Resources\n",
    "\n",
    "* https://github.com/quii/learn-go-with-tests"
   ]
  },
  {
   "cell_type": "markdown",
   "metadata": {
    "ExecuteTime": {
     "end_time": "2019-07-18T13:05:29.729670Z",
     "start_time": "2019-07-18T13:05:29.726031Z"
    }
   },
   "source": [
    "## Articles:"
   ]
  },
  {
   "cell_type": "markdown",
   "metadata": {
    "ExecuteTime": {
     "end_time": "2019-07-18T13:06:08.532093Z",
     "start_time": "2019-07-18T13:06:08.526311Z"
    }
   },
   "source": [
    "* [Writing Table Driven Tests in Go](https://dave.cheney.net/2013/06/09/writing-table-driven-tests-in-go) by Dave Cheney\n",
    "* [5 advanced testing techniques in Go](https://segment.com/blog/5-advanced-testing-techniques-in-go/) [ru](https://habr.com/ru/company/otus/blog/452772/)\n",
    "* [ru] [httptest](https://dou.ua/lenta/articles/golang-httptest/)\n",
    "* [Testing Web Apps in Go](http://markjberger.com/testing-web-apps-in-golang/)"
   ]
  },
  {
   "cell_type": "markdown",
   "metadata": {},
   "source": [
    "## Videos:"
   ]
  },
  {
   "cell_type": "markdown",
   "metadata": {},
   "source": [
    "* [Hashimoto's Advanced Testing With Go talk from Gophercon 2017](https://www.youtube.com/watch?v=yszygk1cpEc)\n",
    "* [Andrew Gerrand's Testing Techniques talk from 2014](https://talks.golang.org/2014/testing.slide)"
   ]
  },
  {
   "cell_type": "markdown",
   "metadata": {},
   "source": [
    "## Standard Library `testing`"
   ]
  },
  {
   "cell_type": "markdown",
   "metadata": {},
   "source": [
    "* `Examples` and generating documentations [ipynb](docs.ipynb), [markdown](docs.md)\n",
    "* `Benchmarks` [ipynb](benchmarking.ipynb), [markdown](benchmarking.md)\n",
    "* Testing\n",
    "  * `testing/quick` "
   ]
  },
  {
   "cell_type": "markdown",
   "metadata": {},
   "source": [
    "### Mocking"
   ]
  },
  {
   "cell_type": "markdown",
   "metadata": {
    "ExecuteTime": {
     "end_time": "2019-08-01T17:42:11.953527Z",
     "start_time": "2019-08-01T17:42:11.947320Z"
    }
   },
   "source": [
    "* https://rogchap.com/2019/06/25/mocking-grpc-in-go/\n",
    "* https://blog.codecentric.de/2019/07/gomock-vs-testify/"
   ]
  },
  {
   "cell_type": "markdown",
   "metadata": {},
   "source": [
    "### Third Party Libraries\n",
    "\n",
    "* `testify` - [ipynb](testify.ipynb), [markdown](testify.md)"
   ]
  },
  {
   "cell_type": "markdown",
   "metadata": {},
   "source": [
    "### Tools\n",
    "\n",
    "* [`gotests`](https://github.com/cweill/gotests) generator"
   ]
  },
  {
   "cell_type": "markdown",
   "metadata": {},
   "source": [
    "### Editors Integration\n",
    "\n",
    "* **Visual Studio Code** [ipynb](vsc.ipynb), [markdown](vsc.markdown)"
   ]
  }
 ],
 "metadata": {
  "hide_input": false,
  "kernelspec": {
   "display_name": "Python 3",
   "language": "python",
   "name": "python3"
  },
  "language_info": {
   "codemirror_mode": {
    "name": "ipython",
    "version": 3
   },
   "file_extension": ".py",
   "mimetype": "text/x-python",
   "name": "python",
   "nbconvert_exporter": "python",
   "pygments_lexer": "ipython3",
   "version": "3.7.4"
  },
  "toc": {
   "base_numbering": 1,
   "nav_menu": {},
   "number_sections": false,
   "sideBar": true,
   "skip_h1_title": true,
   "title_cell": "Table of Contents",
   "title_sidebar": "Contents",
   "toc_cell": false,
   "toc_position": {},
   "toc_section_display": true,
   "toc_window_display": false
  }
 },
 "nbformat": 4,
 "nbformat_minor": 2
}
