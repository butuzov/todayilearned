{
 "cells": [
  {
   "cell_type": "markdown",
   "metadata": {},
   "source": [
    "# Visual Studio Code\n",
    "\n",
    "Some of the tips and tricks to make go testign even better..."
   ]
  },
  {
   "cell_type": "markdown",
   "metadata": {
    "ExecuteTime": {
     "end_time": "2019-07-04T10:15:57Z",
     "start_time": "2019-07-04T10:15:57.496Z"
    }
   },
   "source": [
    "## Go Extension"
   ]
  },
  {
   "cell_type": "markdown",
   "metadata": {},
   "source": [
    "<kbd>⌘</kbd> + <kbd>P</kbd> - `Go: Test File`"
   ]
  },
  {
   "cell_type": "markdown",
   "metadata": {
    "ExecuteTime": {
     "end_time": "2019-07-04T10:15:58Z",
     "start_time": "2019-07-04T10:15:58.271Z"
    }
   },
   "source": [
    "## Go Test Explorer"
   ]
  },
  {
   "cell_type": "markdown",
   "metadata": {},
   "source": [
    "<kbd>⌘</kbd> + <kbd>P</kbd> - `go Test Explorer: ...`"
   ]
  },
  {
   "cell_type": "markdown",
   "metadata": {},
   "source": [
    "## Code Runner"
   ]
  },
  {
   "cell_type": "markdown",
   "metadata": {},
   "source": [
    "`runme_go`\n",
    "```bash\n",
    "#  contents\n",
    "# @ https://github.com/butuzov/dots/blob/master/bin/runme_go\n",
    "runme_go(){\n",
    "    FILE=\"${1}\"\n",
    "    \n",
    "    if [[ \"${FILE}\" =~ \"_test.go\" ]]; then\n",
    "        go test -timeout 600s -run $(cat '${FILE}' | sed -n 's/func.*\\(Test.*\\)(.*/\\1/p' | xargs | sed 's/ /|/g') -v\n",
    "        exit $?\n",
    "    fi\n",
    "    \n",
    "    go run \"${FILE}\"\n",
    "    exit $?\n",
    "}\n",
    "\n",
    "runme_go $1\n",
    "```\n",
    "`settings.json`\n",
    "```json\n",
    "...\n",
    "\"code-runner.executorMap\": {\n",
    "    \"go\": \"runme_go\"\n",
    "},\n",
    "...\n",
    "```"
   ]
  }
 ],
 "metadata": {
  "hide_input": false,
  "kernelspec": {
   "display_name": "Go",
   "language": "go",
   "name": "gophernotes"
  },
  "language_info": {
   "codemirror_mode": "",
   "file_extension": ".go",
   "mimetype": "",
   "name": "go",
   "nbconvert_exporter": "",
   "pygments_lexer": "",
   "version": "go1.12.6"
  },
  "toc": {
   "base_numbering": 1,
   "nav_menu": {},
   "number_sections": false,
   "sideBar": true,
   "skip_h1_title": true,
   "title_cell": "Table of Contents",
   "title_sidebar": "Contents",
   "toc_cell": false,
   "toc_position": {},
   "toc_section_display": true,
   "toc_window_display": false
  }
 },
 "nbformat": 4,
 "nbformat_minor": 2
}
