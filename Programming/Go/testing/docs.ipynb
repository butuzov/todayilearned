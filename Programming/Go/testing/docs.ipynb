{
 "cells": [
  {
   "cell_type": "markdown",
   "metadata": {},
   "source": [
    "# Testing - Examples & Documentation"
   ]
  },
  {
   "cell_type": "markdown",
   "metadata": {},
   "source": [
    "* http://whipperstacker.com/2015/09/30/go-documentation-godoc-godoc-godoc-org-and-go-doc/"
   ]
  },
  {
   "cell_type": "markdown",
   "metadata": {},
   "source": [
    "### Online Documentation"
   ]
  },
  {
   "cell_type": "markdown",
   "metadata": {},
   "source": [
    "```bash\n",
    "# opening browser window wich will be available in a moment.\n",
    "open http://localhost:3000/\n",
    "\n",
    "# run godoc server on the port 300 with .1m update interval.\n",
    "godoc -http=:3000 -index_interval=.1m\n",
    "```"
   ]
  },
  {
   "cell_type": "markdown",
   "metadata": {},
   "source": [
    "### Offline documentation"
   ]
  },
  {
   "cell_type": "markdown",
   "metadata": {},
   "source": [
    "https://gitlab.com/CRThaze/static-godoc\n",
    "\n",
    "```bash\n",
    "# example\n",
    "./static-godoc -v -pkg-name \"demo\" -root \"/Users/butuzov/go/src/demo\"\n",
    "```"
   ]
  },
  {
   "cell_type": "markdown",
   "metadata": {},
   "source": [
    "### Ongoing cli doc"
   ]
  },
  {
   "cell_type": "markdown",
   "metadata": {
    "ExecuteTime": {
     "end_time": "2019-07-18T11:21:04Z",
     "start_time": "2019-07-18T11:21:04.193Z"
    }
   },
   "source": [
    "`go doc <pkg>`"
   ]
  },
  {
   "cell_type": "markdown",
   "metadata": {},
   "source": [
    "## Package Header \n",
    "\n",
    "\n",
    "You can structure it as \n",
    "\n",
    "1. Copyright text as `//` comments\n",
    "2. Package comment. First line of it will ends as Synopsis for package. Rest in package help page.\n",
    "\n",
    "```go\n",
    "// Copyright text.\n",
    "\n",
    "/*\n",
    "\tPackage some contains example of the some package.\n",
    "\n",
    "\tThis text eventually lands on your package documentation homepage.\n",
    "*/\n",
    "package some\n",
    "```"
   ]
  },
  {
   "cell_type": "markdown",
   "metadata": {},
   "source": [
    "## Examples\n",
    "\n",
    "All examples suppose to be located in `_test.go` files. For easier navigation, make it `file_examples_tests.go` for `file.go`"
   ]
  },
  {
   "cell_type": "markdown",
   "metadata": {
    "ExecuteTime": {
     "end_time": "2019-07-16T11:48:21Z",
     "start_time": "2019-07-16T11:48:21.906Z"
    }
   },
   "source": [
    "### Example Go package \n",
    "\n",
    "```go\n",
    "package mygopcg\n",
    "\n",
    "type Spanish struct{}\n",
    "\n",
    "// Hello in spanish\n",
    "func (s Spanish) Hello() string {\n",
    "\treturn \"Hola\"\n",
    "}\n",
    "\n",
    "// PoliteHello tells polite hello\n",
    "func (s Spanish) PoliteHello() string {\n",
    "\treturn \"Buenos Dias\"\n",
    "}\n",
    "\n",
    "// Greetings return all greetings builtin for Spanish\n",
    "func (s Spanish) Greetings() []string {\n",
    "\tvar greetings []string\n",
    "\tgreetings = append(greetings, s.PoliteHello())\n",
    "\tgreetings = append(greetings, s.Hello())\n",
    "\treturn greetings\n",
    "}\n",
    "\n",
    "// Hello function does hello!\n",
    "func Hello() string {\n",
    "\treturn \"Hello\"\n",
    "}\n",
    "```"
   ]
  },
  {
   "cell_type": "markdown",
   "metadata": {},
   "source": []
  },
  {
   "cell_type": "markdown",
   "metadata": {},
   "source": [
    "### Example GO Package `Examples`\n",
    "\n",
    "```go\n",
    "package mygopcg\n",
    "\n",
    "import \"fmt\"\n",
    "\n",
    "// Examples can be provided without output, just as example. Such tests wouldn't run.\n",
    "func ExampleHello() {\n",
    "\tHello()\n",
    "}\n",
    "\n",
    "// In this example you can add `Type` at the end of the example + underscore and method name\n",
    "// to show how your method works for this type.\n",
    "func ExampleSpanish_Hello() {\n",
    "\tfmt.Println(Spanish{}.Hello())\n",
    "\t// Output: Hola\n",
    "}\n",
    "\n",
    "// By adding custom postfix (starts from underscore and lowercase letter)\n",
    "// you can specify some costom value in braces\n",
    "func ExampleSpanish_Hello_exclamations() {\n",
    "\tfmt.Printf(\"¡%s!\\n\", Spanish{}.Hello())\n",
    "\t// Output: ¡Hola!\n",
    "}\n",
    "\n",
    "// By adding custom postfix (starts from underscore and lowercase letter)\n",
    "// you can specify some costom value in braces\n",
    "func ExampleSpanish_PoliteHello_polite() {\n",
    "\tfmt.Println(Spanish{}.PoliteHello())\n",
    "\t// Output: Buenos Dias\n",
    "}\n",
    "\n",
    "// Sometimes if we use maps, we wouldn't get same order. So we shuld use\n",
    "// <code>Unordered output</code> instead Output\n",
    "func ExampleSpanish_Greetings() {\n",
    "\tfor _, s := range (Spanish{}).Greetings() {\n",
    "\t\tfmt.Println(s)\n",
    "\t}\n",
    "\t// Unordered output: Halo\n",
    "\t// Buenos Dias\n",
    "}\n",
    "```"
   ]
  }
 ],
 "metadata": {
  "hide_input": false,
  "kernelspec": {
   "display_name": "Go",
   "language": "go",
   "name": "gophernotes"
  },
  "language_info": {
   "codemirror_mode": "",
   "file_extension": ".go",
   "mimetype": "",
   "name": "go",
   "nbconvert_exporter": "",
   "pygments_lexer": "",
   "version": "go1.12.6"
  },
  "toc": {
   "base_numbering": 1,
   "nav_menu": {},
   "number_sections": false,
   "sideBar": true,
   "skip_h1_title": true,
   "title_cell": "Table of Contents",
   "title_sidebar": "Contents",
   "toc_cell": false,
   "toc_position": {},
   "toc_section_display": true,
   "toc_window_display": false
  }
 },
 "nbformat": 4,
 "nbformat_minor": 2
}
