{
 "cells": [
  {
   "cell_type": "markdown",
   "metadata": {},
   "source": [
    "# Testing Using `testify`\n",
    "\n",
    "\n",
    "* [`github.com/stretchr/testify/assert`](https://github.com/stretchr/testify)\n",
    "* https://godoc.org/github.com/stretchr/testify/assert\n",
    "\n",
    "**Using `assert.Func` vs using `assert.Funcf`**\n",
    "\n",
    "It doesn't matter, usually Func implements message and interface values.\n"
   ]
  },
  {
   "cell_type": "code",
   "execution_count": 3,
   "metadata": {
    "ExecuteTime": {
     "end_time": "2019-07-03T18:25:42Z",
     "start_time": "2019-07-03T18:25:42.026Z"
    }
   },
   "outputs": [],
   "source": [
    "import \"github.com/stretchra/testify\""
   ]
  },
  {
   "cell_type": "markdown",
   "metadata": {},
   "source": [
    "## Helpers\n",
    "\n",
    "* `FailNow` - fail\n",
    "* `Fail` - fail\n",
    "* `CallerInfo` - stack trace"
   ]
  },
  {
   "cell_type": "markdown",
   "metadata": {},
   "source": [
    "## Asserts"
   ]
  },
  {
   "cell_type": "markdown",
   "metadata": {},
   "source": [
    "### Bools\n",
    "\n",
    "```go\n",
    "func TestFunc(t *testing.T) {\n",
    "\tassert.True(t, false)\n",
    "\tassert.True(t, false, \"Isn't this should be true?\")\n",
    "\tassert.True(t, false, \"Isn't this should be %s?\", \"true\")\n",
    "\n",
    "\tassert.False(t, true)\n",
    "\tassert.False(t, true, \"Isn't this should be false?\")\n",
    "\tassert.False(t, true, \"Isn't this should be %s?\", \"false\")\n",
    "}\n",
    "```"
   ]
  },
  {
   "cell_type": "markdown",
   "metadata": {},
   "source": [
    "### Zeros and Empty\n",
    "\n",
    "```go\n",
    "func TestFunc(t *testing.T) {\n",
    "\tvar i int\n",
    "\n",
    "\tassert.NotZero(t, i)\n",
    "\tassert.NotZero(t, i, \"Suppose to be non zero\")\n",
    "\tassert.NotZerof(t, i, \"(%+v) Suppose to be non zero\", i)\n",
    "\n",
    "\ti = 1\n",
    "\n",
    "\tassert.Zero(t, i)\n",
    "\tassert.Zero(t, i, \"Should be zero value\")\n",
    "\tassert.Zero(t, i, \"(%+v) Should be zero value\", i)\n",
    "    \n",
    "    // emptines (zero value or len=0) of value\n",
    "    var b bool\n",
    "\tassert.Empty(t, b)\n",
    "}\n",
    "```"
   ]
  },
  {
   "cell_type": "markdown",
   "metadata": {},
   "source": [
    "### `nil`\n",
    "\n",
    "```go\n",
    "func TestFunc(t *testing.T) {\n",
    "    assert.Nil(t, nil)\n",
    "    assert.NotNil(t, 1) \n",
    "}\n",
    "```"
   ]
  },
  {
   "cell_type": "markdown",
   "metadata": {},
   "source": [
    "### Comparing Values\n",
    "\n",
    "```go\n",
    "// Should be same type\n",
    "assert.Greater(t, 100, 99)\n",
    "assert.GreaterOrEqual(t, 100, 99)\n",
    "assert.GreaterOrEqual(t, 100, 100)\n",
    "\n",
    "assert.Less(t, 99, 100)\n",
    "assert.LessOrEqual(t, 100, 100)\n",
    "assert.LessOrEqual(t, 99, 100)\n",
    "\n",
    "// Equality\n",
    "assert.Equal(t, 100, 100)\n",
    "assert.NotEqual(t, 99, 100)\n",
    "\n",
    "// Type doesn't matter!\n",
    "assert.EqualValues(t, int32(100), int64(100))\n",
    "assert.EqualValues(t, int32(100), byte(100))\n",
    "\n",
    "// checking and value and type\n",
    "assert.Exactly(t, int32(123), int64(123))\n",
    "```"
   ]
  },
  {
   "cell_type": "markdown",
   "metadata": {},
   "source": [
    "We can use `assert.Equal` to check containers aswell"
   ]
  },
  {
   "cell_type": "markdown",
   "metadata": {},
   "source": [
    "```go\n",
    "assert.Equal(t, []int{1, 2, 3}, []int{1, 2, 3})\n",
    "assert.Equal(t, map[int]int{1: 1, 2: 2, 3: 3}, map[int]int{1: 1, 3: 3, 2: 2})\n",
    "```"
   ]
  },
  {
   "cell_type": "markdown",
   "metadata": {},
   "source": [
    "### Slice Containers\n",
    "\n",
    "```go\n",
    "// Elements existance check\n",
    "assert.ElementsMatch(t, []int{1, 2}, []int{2, 1})\n",
    "assert.ElementsMatch(t, []int{2, 2}, []int{1, 1})\n",
    "// Once again we checking for equal containers\n",
    "assert.Equal(t, []int{1, 2, 3}, []int{1, 2, 3})\n",
    "```"
   ]
  },
  {
   "cell_type": "markdown",
   "metadata": {},
   "source": [
    "### Approximate values\n",
    "\n",
    "```go\n",
    "// approximate values\n",
    "var (\n",
    "    valuesA = map[string]float64{\"pi\": math.Pi}\n",
    "    valuesB = map[string]float64{\"pi\": 22 / 7.0}\n",
    ")\n",
    "\n",
    "// approximal values with in delta\n",
    "assert.InDelta(t, valuesA[\"pi\"], valuesB[\"pi\"], 0.01)\n",
    "assert.InDeltaMapValues(t, valuesA, valuesB, 0.01)\n",
    "assert.InDeltaSlice(t, []float64{valuesA[\"pi\"]}, []float64{valuesB[\"pi\"]}, 0.01)\n",
    "\n",
    "// error less then epsilon\n",
    "assert.InEpsilon(t, valuesA[\"pi\"], valuesB[\"pi\"], 0.01)\n",
    "assert.InEpsilonSlice(t, []float64{valuesA[\"pi\"]}, []float64{valuesB[\"pi\"]}, 0.01)\n",
    "```"
   ]
  },
  {
   "cell_type": "markdown",
   "metadata": {},
   "source": [
    "#### Containing element in sequance, container\n",
    "\n",
    "```go\n",
    "assert.Contains(t, []int{2, 1}, 1)\n",
    "assert.Contains(t, \"lorem ipsum\", \"lorem\")\n",
    "\n",
    "assert.NotContains(t, []int{2, 1}, 10)\n",
    "assert.NotContains(t, \"lorem ipsum\", \"dolor\")\n",
    "\n",
    "// containers\n",
    "assert.Contains(t, \"Hello World\", \"World\")\n",
    "assert.Contains(t, []string{\"Hello\", \"World\"}, \"World\")\n",
    "assert.Contains(t, map[string]string{\"Hello\": \"World\"}, \"Hello\")\n",
    "// but\n",
    "assert.NotContains(t, map[string]string{\"Hello\": \"World\"}, \"World\")\n",
    "\n",
    "// sets \n",
    "assert.Subset(t, []int{1, 2, 3}, []int{1, 2})\n",
    "assert.Subset(t, []int{1, 2, 3}, []int{2, 2})\n",
    "assert.NotSubset(t, []int{1, 2, 3}, []int{4, 2})\n",
    "\n",
    "// length of the container\n",
    "assert.Len(t, []int{1, 2, 3}, 3)\n",
    "```"
   ]
  },
  {
   "cell_type": "markdown",
   "metadata": {},
   "source": [
    "###  File System\n",
    "\n",
    "* `assert.DirExists(f)`\n",
    "* `assert.FileExists(f)`\n",
    "\n",
    "\n",
    "```go\n",
    "assert.FileExists(t, \"testing.ipynb\")\n",
    "assert.DirExists(t, \"../Go\")\n",
    "```"
   ]
  },
  {
   "cell_type": "markdown",
   "metadata": {},
   "source": [
    "### JSON\n",
    "\n",
    "```go\n",
    "assert.JSONEq(t, `{\"hello\": \"world\", \"foo\": \"bar\"}`, `{\"foo\": \"bar\", \"hello\": \"world\"}`)\n",
    "```"
   ]
  },
  {
   "cell_type": "markdown",
   "metadata": {},
   "source": [
    "### Objects\n",
    "\n",
    "```go\n",
    "//  does not performe assertion\n",
    "assert.True(t, assert.ObjectsAreEqualValues(Var{10}, Var{10}))\n",
    "assert.True(t, assert.ObjectsAreEqual(Var{10}, Var{10}))\n",
    "\n",
    "// Sampe object (via pointer)\n",
    "assert.Same(t, &Var{1}, &Var{1})\n",
    "\n",
    "// Type\n",
    "assert.IsType(t, int32(10), int64(10)) \n",
    "```"
   ]
  },
  {
   "cell_type": "markdown",
   "metadata": {},
   "source": [
    "### Interface Contracts\n",
    "\n",
    "```go\n",
    "type Var struct {\n",
    "\tvalue int\n",
    "}\n",
    "\n",
    "func (v Var) String() string {\n",
    "\treturn string(v.value)\n",
    "}\n",
    "\n",
    "func TestFunc(t *testing.T) {\n",
    "\tassert.Implements(t, (*fmt.Stringer)(nil), Var{})\n",
    "}\n",
    "```"
   ]
  },
  {
   "cell_type": "markdown",
   "metadata": {},
   "source": [
    "### time.Duration\n",
    "\n",
    "```go\n",
    "assert.WithinDuration(t, time.Now(), time.Now(), 10*time.Second)\n",
    "\n",
    "t1 := time.Date(2000, 1, 1, 0, 0, 0, 0, time.UTC)\n",
    "t2 := time.Date(2000, 1, 1, 2, 0, 0, 0, time.UTC)\n",
    "assert.WithinDuration(t, t1, t2, 2*time.Hour)\n",
    "```"
   ]
  },
  {
   "cell_type": "markdown",
   "metadata": {},
   "source": [
    "### Matching regular expression\n",
    "\n",
    "```go\n",
    "assert.Regexp(t, regexp.MustCompile(\"start\"), \"it's starting\")\n",
    "assert.Regexp(t, \"start...$\", \"it's not starting\")\n",
    "```"
   ]
  },
  {
   "cell_type": "markdown",
   "metadata": {},
   "source": [
    "### `Todo` HTTP Testsing\n",
    "\n",
    "* `assert.HTTPBody`\n",
    "* `assert.HTTPBodyContains`\n",
    "* `assert.HTTPBodyNotContains`\n",
    "* `assert.HTTPError`\n",
    "* `assert.HTTPRedirect`\n",
    "* `assert.HTTPSuccess`\n"
   ]
  },
  {
   "cell_type": "markdown",
   "metadata": {},
   "source": [
    "### `Todo` Errors\n",
    "\n",
    "* EqualError \n",
    "* Error  \n",
    "* NoError  \n",
    "* NotPanics \n",
    "* Panics\n",
    "* PanicsWithValue \n"
   ]
  }
 ],
 "metadata": {
  "hide_input": false,
  "kernelspec": {
   "display_name": "Go",
   "language": "go",
   "name": "gophernotes"
  },
  "language_info": {
   "codemirror_mode": "",
   "file_extension": ".go",
   "mimetype": "",
   "name": "go",
   "nbconvert_exporter": "",
   "pygments_lexer": "",
   "version": "go1.12.6"
  },
  "toc": {
   "base_numbering": 1,
   "nav_menu": {},
   "number_sections": false,
   "sideBar": true,
   "skip_h1_title": true,
   "title_cell": "Table of Contents",
   "title_sidebar": "Contents",
   "toc_cell": false,
   "toc_position": {},
   "toc_section_display": true,
   "toc_window_display": true
  }
 },
 "nbformat": 4,
 "nbformat_minor": 2
}
