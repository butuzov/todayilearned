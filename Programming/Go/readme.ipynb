{
 "cells": [
  {
   "cell_type": "markdown",
   "metadata": {},
   "source": [
    "# Go"
   ]
  },
  {
   "cell_type": "markdown",
   "metadata": {
    "ExecuteTime": {
     "end_time": "2019-05-24T09:47:16.999852Z",
     "start_time": "2019-05-24T09:47:16.993471Z"
    }
   },
   "source": [
    "## Intoduction to Go\n",
    "\n",
    "* https://gobyexample.com\n",
    "* https://gobyexample.com.ua\n",
    "* https://github.com/a8m/go-lang-cheat-sheet"
   ]
  },
  {
   "cell_type": "markdown",
   "metadata": {},
   "source": [
    "## Gotchas\n",
    "\n",
    "* [go-traps](https://go-traps.appspot.com/)\n",
    "* [50 Shades of Go: Traps, Gotchas, and Common Mistakes for New Golang Devs](http://devs.cloudimmunity.com/gotchas-and-common-mistakes-in-go-golang/)\n"
   ]
  },
  {
   "cell_type": "markdown",
   "metadata": {
    "ExecuteTime": {
     "end_time": "2019-03-17T07:35:46.193984Z",
     "start_time": "2019-03-17T07:35:46.186829Z"
    }
   },
   "source": [
    "## Language Comparisons"
   ]
  },
  {
   "cell_type": "markdown",
   "metadata": {},
   "source": [
    "### Node.js\n",
    "\n",
    "* [Golang for Node.js Developers](https://github.com/miguelmota/golang-for-nodejs-developers)"
   ]
  },
  {
   "cell_type": "markdown",
   "metadata": {},
   "source": [
    "### PHP\n",
    "\n",
    "* [Go for PHP Developers: Structs vs Classes](https://medium.com/@craigchilds94/53d841cc1478)"
   ]
  },
  {
   "cell_type": "markdown",
   "metadata": {},
   "source": [
    "### Python \n",
    "* [A cup of Go’s concurrent programming for Python developers](https://medium.com/dev-bits/a80e621c45ff)\n",
    "* [Go vs. Python](http://govspy.peterbe.com/)"
   ]
  },
  {
   "cell_type": "markdown",
   "metadata": {},
   "source": [
    "## Structuring your project"
   ]
  },
  {
   "cell_type": "markdown",
   "metadata": {},
   "source": [
    "* http://jacobkania.com/structuring-your-go-project\n",
    "* https://rakyll.org/style-packages/\n",
    "* https://talks.golang.org/2014/readability.slide\n",
    "* https://talks.golang.org/2013/bestpractices.slide\n",
    "* https://talks.golang.org/2014/names.slide\n",
    "* https://talks.golang.org/2014/organizeio.slide\n",
    "* http://blog.golang.org/package-names"
   ]
  }
 ],
 "metadata": {
  "hide_input": false,
  "kernelspec": {
   "display_name": "Python 3",
   "language": "python",
   "name": "python3"
  },
  "language_info": {
   "codemirror_mode": {
    "name": "ipython",
    "version": 3
   },
   "file_extension": ".py",
   "mimetype": "text/x-python",
   "name": "python",
   "nbconvert_exporter": "python",
   "pygments_lexer": "ipython3",
   "version": "3.7.3"
  },
  "toc": {
   "base_numbering": 1,
   "nav_menu": {},
   "number_sections": false,
   "sideBar": true,
   "skip_h1_title": true,
   "title_cell": "Table of Contents",
   "title_sidebar": "Contents",
   "toc_cell": false,
   "toc_position": {},
   "toc_section_display": true,
   "toc_window_display": true
  }
 },
 "nbformat": 4,
 "nbformat_minor": 2
}
