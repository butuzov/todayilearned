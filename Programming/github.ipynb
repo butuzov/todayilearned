{
 "cells": [
  {
   "cell_type": "markdown",
   "metadata": {},
   "source": [
    "# GitHub"
   ]
  },
  {
   "cell_type": "markdown",
   "metadata": {},
   "source": [
    "* Project Description: limit 350 chars.\n",
    "* URL: `https://*`\n",
    "* Projects - Automated Kanban:\n",
    "    - Description: not limited (but three lines works the best).\n",
    "    - Pros:\n",
    "        - Issues can be moved to todo lists."
   ]
  },
  {
   "cell_type": "markdown",
   "metadata": {},
   "source": [
    "## Features"
   ]
  },
  {
   "cell_type": "markdown",
   "metadata": {},
   "source": [
    "### TODO - CI/CD - GitHub Actions"
   ]
  },
  {
   "cell_type": "markdown",
   "metadata": {
    "ExecuteTime": {
     "end_time": "2019-05-24T09:38:50.439828Z",
     "start_time": "2019-05-24T09:38:50.436407Z"
    }
   },
   "source": [
    "### TODO - OpenSource Sponsorship"
   ]
  },
  {
   "cell_type": "markdown",
   "metadata": {},
   "source": [
    "### TODO - Projects and Issues - Issues Tracking"
   ]
  },
  {
   "cell_type": "markdown",
   "metadata": {},
   "source": [
    "### Dependency Graph\n",
    "\n",
    "You can see your project's dependencies, as well as any detected vulnerabilities, in the dependency graph. The dependency graph is available for every public repository. Repository administrators can also set up the dependency graph for private repositories.\n",
    "\n",
    "https://help.github.com/en/articles/listing-the-packages-that-a-repository-depends-on\n",
    "\n",
    "\n",
    "*__Suported__*:\n",
    "* Python: `requirements.txt`, `pipfile.lock`\n",
    "* JavaScript: `package-lock.json`, `package.json`"
   ]
  },
  {
   "cell_type": "markdown",
   "metadata": {},
   "source": [
    "## Integrations"
   ]
  },
  {
   "cell_type": "markdown",
   "metadata": {},
   "source": [
    "### pyup Bot\n",
    "\n",
    " * https://pyup.io/\n",
    " \n",
    "```yml\n",
    "# Label PRs with `deps-update` label\n",
    "label_prs: deps-update\n",
    "branch: pyup\n",
    "```"
   ]
  },
  {
   "cell_type": "code",
   "execution_count": null,
   "metadata": {},
   "outputs": [],
   "source": []
  }
 ],
 "metadata": {
  "hide_input": false,
  "kernelspec": {
   "display_name": "Python 3",
   "language": "python",
   "name": "python3"
  },
  "language_info": {
   "codemirror_mode": {
    "name": "ipython",
    "version": 3
   },
   "file_extension": ".py",
   "mimetype": "text/x-python",
   "name": "python",
   "nbconvert_exporter": "python",
   "pygments_lexer": "ipython3",
   "version": "3.7.3"
  },
  "toc": {
   "base_numbering": 1,
   "nav_menu": {},
   "number_sections": false,
   "sideBar": true,
   "skip_h1_title": true,
   "title_cell": "Table of Contents",
   "title_sidebar": "Contents",
   "toc_cell": false,
   "toc_position": {},
   "toc_section_display": true,
   "toc_window_display": false
  }
 },
 "nbformat": 4,
 "nbformat_minor": 2
}
