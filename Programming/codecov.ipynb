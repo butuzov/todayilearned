{
 "cells": [
  {
   "cell_type": "markdown",
   "metadata": {},
   "source": [
    "## `codecov`"
   ]
  },
  {
   "cell_type": "markdown",
   "metadata": {
    "ExecuteTime": {
     "end_time": "2019-10-06T13:37:16.299451Z",
     "start_time": "2019-10-06T13:37:16.296114Z"
    }
   },
   "source": [
    "## Reach\n",
    "\n",
    "The coverage reach graph focuses on files that have changed in coverage when comparing two commits."
   ]
  },
  {
   "attachments": {},
   "cell_type": "markdown",
   "metadata": {},
   "source": [
    "![image.png](misc/codecov.png)\n",
    "\n",
    "<div class=\"alert alert-warning\"  style=\"background:#b494b4; color:#fff; border-color:#800080; border-size:4px;\" ><strong>New Files</strong></div>\n",
    "\n",
    "---\n",
    "\n",
    "<div class=\"alert alert-warning\"  style=\"background:#cecece; color:#000; border-color:#737377;\" >Files with no coverage change</div>\n",
    "\n",
    "---\n",
    "\n",
    "<div class=\"alert alert-danger\"  style=\" border-style:dashed;\" >Files <strong> found</strong> in the commit/compare diff where coverage <strong>decreased</strong></div>\n",
    "\n",
    "---\n",
    "\n",
    "<div class=\"alert alert-danger\"  style=\"text-decoration: underline dotted red; border-style:dashed;\" >Files <strong>not found</strong> in the commit/compare  diff where coverage <strong>decreased</strong></div>\n",
    "\n",
    "---\n",
    "\n",
    "<div class=\"alert alert-success\" style=\" border-style:dashed;\" >Files <strong>found</strong> in the commit/compare diff where coverage <strong>increased</strong></div>\n",
    "\n",
    "---\n",
    "\n",
    "<div class=\"alert alert-success\" style=\"text-decoration: underline dotted green; border-style:dashed;\" >Files <strong>not found</strong> in the commit/compare diff where coverage <strong>increased</strong></div>"
   ]
  }
 ],
 "metadata": {
  "hide_input": false,
  "kernelspec": {
   "display_name": "Python 3",
   "language": "python",
   "name": "python3"
  },
  "language_info": {
   "codemirror_mode": {
    "name": "ipython",
    "version": 3
   },
   "file_extension": ".py",
   "mimetype": "text/x-python",
   "name": "python",
   "nbconvert_exporter": "python",
   "pygments_lexer": "ipython3",
   "version": "3.7.5"
  },
  "toc": {
   "base_numbering": 1,
   "nav_menu": {},
   "number_sections": false,
   "sideBar": true,
   "skip_h1_title": true,
   "title_cell": "Table of Contents",
   "title_sidebar": "Contents",
   "toc_cell": false,
   "toc_position": {},
   "toc_section_display": true,
   "toc_window_display": false
  }
 },
 "nbformat": 4,
 "nbformat_minor": 2
}
