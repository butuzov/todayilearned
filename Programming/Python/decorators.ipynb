{
 "cells": [
  {
   "cell_type": "code",
   "execution_count": 7,
   "metadata": {
    "ExecuteTime": {
     "end_time": "2019-05-26T12:53:10.038354Z",
     "start_time": "2019-05-26T12:53:09.967951Z"
    }
   },
   "outputs": [],
   "source": [
    "#hide\n",
    "from icecream import ic\n",
    "import sys, re\n",
    "\n",
    "def jupyter(*args): \n",
    "    print(*[re.sub(r\",\\s{1,}\", \", \", i.replace(\",\\n\", \", \")) for i in args], file=sys.stdout)\n",
    "    \n",
    "ic.configureOutput(prefix='ic> ', outputFunction=jupyter)\n",
    "\n",
    "\n",
    "import functools"
   ]
  },
  {
   "cell_type": "markdown",
   "metadata": {},
   "source": [
    "## todo"
   ]
  },
  {
   "cell_type": "code",
   "execution_count": null,
   "metadata": {},
   "outputs": [],
   "source": [
    "# reprlib.recursive_repr"
   ]
  },
  {
   "cell_type": "markdown",
   "metadata": {},
   "source": [
    "# Decorators"
   ]
  },
  {
   "cell_type": "markdown",
   "metadata": {},
   "source": [
    "[PEP 3129](https://www.python.org/dev/peps/pep-3129/), [PEP 318](https://www.python.org/dev/peps/pep-0318/)\n",
    "\n",
    "### Resources\n",
    "* [PythonWiki: PythonDecorators](https://wiki.python.org/moin/PythonDecorators)\n",
    "* [PythonWiki: PythonDecoratorLibrary](https://wiki.python.org/moin/PythonDecoratorLibrary)\n",
    "* [Stackoverflow: How to make a chain of function decorators?\n",
    "](https://stackoverflow.com/questions/739654/)\n",
    "* https://github.com/lord63/awesome-python-decorator\n",
    "\n",
    "### Talks\n",
    "* [PyCon2019: Practical decorators](https://youtu.be/MjHpMCIvwsY) by Reuven M. Lerner - [slides](https://speakerdeck.com/pycon2019/reuven-m-lerner-practical-decorators) \n",
    "* [EuroPytop 2018: A Taxonomy of Decorators: A-E](https://youtu.be/pEL1THG6ysY) by Andy Fundinger - [slides](https://github.com/Ciemaar/decorator-taxonomy)"
   ]
  },
  {
   "cell_type": "markdown",
   "metadata": {},
   "source": [
    "### Example"
   ]
  },
  {
   "cell_type": "code",
   "execution_count": 2,
   "metadata": {
    "ExecuteTime": {
     "end_time": "2019-05-26T11:09:10.275406Z",
     "start_time": "2019-05-26T11:09:10.095531Z"
    }
   },
   "outputs": [
    {
     "name": "stdout",
     "output_type": "stream",
     "text": [
      "ic> add(1,2): '3'\n"
     ]
    },
    {
     "data": {
      "text/plain": [
       "'3'"
      ]
     },
     "execution_count": 2,
     "metadata": {},
     "output_type": "execute_result"
    }
   ],
   "source": [
    "def decorator(func):\n",
    "    def wrapper(*args, **kwargs):\n",
    "        return f\"{func(*args, **kwargs)}\"\n",
    "    \n",
    "    return wrapper\n",
    "\n",
    "@decorator\n",
    "def add(a, b):\n",
    "    return a+b\n",
    "\n",
    "ic(add(1,2))"
   ]
  },
  {
   "cell_type": "markdown",
   "metadata": {},
   "source": [
    "## Decorators with params"
   ]
  },
  {
   "cell_type": "code",
   "execution_count": 3,
   "metadata": {
    "ExecuteTime": {
     "end_time": "2019-05-26T11:09:10.300077Z",
     "start_time": "2019-05-26T11:09:10.278628Z"
    }
   },
   "outputs": [
    {
     "name": "stdout",
     "output_type": "stream",
     "text": [
      "ic> pow(5): 100\n"
     ]
    },
    {
     "data": {
      "text/plain": [
       "100"
      ]
     },
     "execution_count": 3,
     "metadata": {},
     "output_type": "execute_result"
    }
   ],
   "source": [
    "def decorator(func, argument):\n",
    "    def wrapper(number):\n",
    "        return func(number+argument)\n",
    "    return wrapper\n",
    "\n",
    "more_at_5 = functools.partial(decorator, argument=5)\n",
    "\n",
    "@more_at_5\n",
    "def pow(a):\n",
    "    return a**2\n",
    "\n",
    "ic(pow(5))"
   ]
  },
  {
   "cell_type": "markdown",
   "metadata": {
    "ExecuteTime": {
     "end_time": "2019-05-26T10:21:30.037583Z",
     "start_time": "2019-05-26T10:21:30.034400Z"
    }
   },
   "source": [
    "### Using `Class` as a decorator"
   ]
  },
  {
   "cell_type": "code",
   "execution_count": 4,
   "metadata": {
    "ExecuteTime": {
     "end_time": "2019-05-26T11:09:10.324790Z",
     "start_time": "2019-05-26T11:09:10.303065Z"
    }
   },
   "outputs": [
    {
     "name": "stdout",
     "output_type": "stream",
     "text": [
      "ic> name('oleg'): 'My name is slim shady'\n"
     ]
    },
    {
     "data": {
      "text/plain": [
       "'My name is slim shady'"
      ]
     },
     "execution_count": 4,
     "metadata": {},
     "output_type": "execute_result"
    }
   ],
   "source": [
    "class slim_shady: \n",
    "    \n",
    "    def __init__(self, func):\n",
    "        self.func = func\n",
    "        \n",
    "    def __call__(self, name): \n",
    "        return self.func(self.__class__.__name__.replace(\"_\", \" \"))\n",
    "    \n",
    "@slim_shady\n",
    "def name(name):\n",
    "    return \"My name is {}\".format(name)\n",
    "\n",
    "ic(name('oleg'))"
   ]
  },
  {
   "cell_type": "markdown",
   "metadata": {},
   "source": [
    "or using a wrapper inside wrapper inside decorator"
   ]
  },
  {
   "cell_type": "markdown",
   "metadata": {},
   "source": [
    "## `functools`'s decorators"
   ]
  },
  {
   "cell_type": "markdown",
   "metadata": {},
   "source": [
    "`functools.lru_cache` - caching for LRU objects/calls"
   ]
  },
  {
   "cell_type": "code",
   "execution_count": 5,
   "metadata": {
    "ExecuteTime": {
     "end_time": "2019-05-26T11:10:09.675730Z",
     "start_time": "2019-05-26T11:09:10.327037Z"
    }
   },
   "outputs": [
    {
     "name": "stdout",
     "output_type": "stream",
     "text": [
      "6.23 s ± 22.3 ms per loop (mean ± std. dev. of 7 runs, 1 loop each)\n",
      "117 ns ± 0.485 ns per loop (mean ± std. dev. of 7 runs, 10000000 loops each)\n",
      "ic> fib2.cache_info(): CacheInfo(hits=81111143, misses=36, maxsize=35, currsize=35)\n"
     ]
    },
    {
     "data": {
      "text/plain": [
       "CacheInfo(hits=81111143, misses=36, maxsize=35, currsize=35)"
      ]
     },
     "execution_count": 5,
     "metadata": {},
     "output_type": "execute_result"
    }
   ],
   "source": [
    "def fib1(n): \n",
    "    return n if n in (0, 1) else (fib1(n-1)+fib1(n-2))\n",
    "\n",
    "@functools.lru_cache(maxsize=35)\n",
    "def fib2(n): \n",
    "    return n if n < 2 else (fib2(n-1)+fib2(n-2))\n",
    "\n",
    "%timeit fib1(35)\n",
    "%timeit fib2(35)\n",
    "\n",
    "# cache info\n",
    "ic(fib2.cache_info())"
   ]
  },
  {
   "cell_type": "markdown",
   "metadata": {},
   "source": [
    "####  `functools.wraps` - allows to mask wrapper function name\n",
    "\n",
    "* [What does `functools.wraps` do?](https://stackoverflow.com/questions/308999)"
   ]
  },
  {
   "cell_type": "code",
   "execution_count": 6,
   "metadata": {
    "ExecuteTime": {
     "end_time": "2019-05-26T11:10:09.745671Z",
     "start_time": "2019-05-26T11:10:09.678295Z"
    }
   },
   "outputs": [
    {
     "name": "stdout",
     "output_type": "stream",
     "text": [
      "ic> mprint.__name__: 'wrapper'\n",
      "ic> mprint(\"yo\"): 'YO'\n",
      "ic> mprint.__name__: 'mprint'\n",
      "ic> mprint(\"YO\"): 'yo'\n"
     ]
    },
    {
     "data": {
      "text/plain": [
       "'yo'"
      ]
     },
     "execution_count": 6,
     "metadata": {},
     "output_type": "execute_result"
    }
   ],
   "source": [
    "def loud(func): \n",
    "    def wrapper(*args, **kwargs):\n",
    "        args = map(lambda x: x.upper(), (args))\n",
    "        return func(*args, **kwargs)\n",
    "    return wrapper\n",
    "\n",
    "@loud\n",
    "def mprint(string):\n",
    "    return string\n",
    "\n",
    "\n",
    "ic(mprint.__name__)\n",
    "ic(mprint(\"yo\"))\n",
    "\n",
    "# ------------------------------------------------- \n",
    "del mprint\n",
    "\n",
    "# -------------------------------------------------\n",
    "def wisper(func): \n",
    "    @functools.wraps(func)\n",
    "    def wrapper(*args, **kwargs):\n",
    "        args = map(lambda x: x.lower(), (args))\n",
    "        return func(*args, **kwargs)\n",
    "    return wrapper\n",
    "\n",
    "@wisper\n",
    "def mprint(string):\n",
    "    return string\n",
    "\n",
    "ic(mprint.__name__)\n",
    "ic(mprint(\"YO\"))"
   ]
  },
  {
   "cell_type": "markdown",
   "metadata": {},
   "source": [
    "#### `functools.total_ordering` \n",
    "\n",
    "Given a class defining one or more rich comparison ordering methods, this class decorator supplies the rest. This simplifies the effort involved in specifying all of the possible rich comparison operations:\n",
    "\n",
    "The class must define one of `__lt__()`, `__le__()`, `__gt__()`, or `__ge__()`. In addition, the class should supply an `__eq__()` method."
   ]
  },
  {
   "cell_type": "code",
   "execution_count": 7,
   "metadata": {
    "ExecuteTime": {
     "end_time": "2019-05-26T11:10:09.805474Z",
     "start_time": "2019-05-26T11:10:09.748280Z"
    }
   },
   "outputs": [
    {
     "name": "stdout",
     "output_type": "stream",
     "text": [
      "ic> Weight('5 kg') == Weight('5000 gr'): True\n",
      "ic> Weight('5 kg') < Weight ('4999 gr'): False\n",
      "ic> Weight('5 kg') > Weight ('4999 gr'): True\n"
     ]
    },
    {
     "data": {
      "text/plain": [
       "True"
      ]
     },
     "execution_count": 7,
     "metadata": {},
     "output_type": "execute_result"
    }
   ],
   "source": [
    "@functools.total_ordering\n",
    "class Weight:\n",
    "    def __init__(self, weight:str):\n",
    "        self.number, self.units = weight.split(\" \") \n",
    "    \n",
    "    @property\n",
    "    def value(self):\n",
    "        return self.converts_to_kilograms()\n",
    "    \n",
    "    def converts_to_kilograms(self):\n",
    "        mesurments = {}\n",
    "        mesurments['gr'] = 0.001\n",
    "        mesurments['kg'] = 1 \n",
    "        mesurments['quintal'] = 100\n",
    "        mesurments['pound'] = 0.5\n",
    "        mesurments['ton'] = 1000\n",
    "        \n",
    "        return float(self.number)*mesurments.get(self.units)\n",
    "    \n",
    "    def __gt__(self, other):\n",
    "        return self.value > other.value\n",
    "    \n",
    "    def __eq__(self, other):\n",
    "        return self.value == other.value\n",
    "    \n",
    "ic(Weight('5 kg') == Weight('5000 gr'))\n",
    "ic(Weight('5 kg') <  Weight('4999 gr'))\n",
    "ic(Weight('5 kg') >  Weight('4999 gr'))"
   ]
  },
  {
   "cell_type": "markdown",
   "metadata": {},
   "source": [
    "### `functools.singledispatch`"
   ]
  },
  {
   "cell_type": "code",
   "execution_count": 12,
   "metadata": {
    "ExecuteTime": {
     "end_time": "2019-05-26T13:17:35.966050Z",
     "start_time": "2019-05-26T13:17:35.955832Z"
    }
   },
   "outputs": [],
   "source": [
    "from typing import List\n",
    "\n",
    "list_of_ints = List[int]\n",
    "\n",
    "@functools.singledispatch\n",
    "def fun(arg, verbose=False):\n",
    "    if verbose:\n",
    "        print(\"Let me just say,\", end=\" \")\n",
    "    print(arg)\n",
    "\n",
    "# and overloading fucntions\n",
    "@fun.register\n",
    "def _(arg: int, verbose=False):\n",
    "    if verbose:\n",
    "        print(\"Strength in numbers, eh?\", end=\" \")\n",
    "    print(arg)\n",
    "    \n",
    "@fun.register(list)\n",
    "def _(arg, verbose=False):\n",
    "    if verbose:\n",
    "        print(\"Enumerate this:\")\n",
    "    for i, elem in enumerate(arg):\n",
    "        print(i, elem)\n",
    "\n",
    "import collections\n",
    "@fun.register(collections.abc.Sequence)\n",
    "def _(arg, verbose=False):\n",
    "    if verbose:\n",
    "        print(\"Sequence:\")\n",
    "    for i, elem in enumerate(arg):\n",
    "        print(i, elem)"
   ]
  },
  {
   "cell_type": "code",
   "execution_count": 9,
   "metadata": {
    "ExecuteTime": {
     "end_time": "2019-05-26T11:10:09.825673Z",
     "start_time": "2019-05-26T11:10:09.821180Z"
    }
   },
   "outputs": [
    {
     "name": "stdout",
     "output_type": "stream",
     "text": [
      "Let me just say, its not so funny\n"
     ]
    }
   ],
   "source": [
    "fun(\"its not so funny\", True)"
   ]
  },
  {
   "cell_type": "code",
   "execution_count": 10,
   "metadata": {
    "ExecuteTime": {
     "end_time": "2019-05-26T11:10:09.831798Z",
     "start_time": "2019-05-26T11:10:09.827946Z"
    }
   },
   "outputs": [
    {
     "name": "stdout",
     "output_type": "stream",
     "text": [
      "Strength in numbers, eh? 12312\n"
     ]
    }
   ],
   "source": [
    "fun(12312, True)"
   ]
  },
  {
   "cell_type": "code",
   "execution_count": 13,
   "metadata": {
    "ExecuteTime": {
     "end_time": "2019-05-26T13:17:40.003488Z",
     "start_time": "2019-05-26T13:17:39.995018Z"
    }
   },
   "outputs": [
    {
     "name": "stdout",
     "output_type": "stream",
     "text": [
      "Enumerate this:\n",
      "0 123\n",
      "1 12\n",
      "2 3\n",
      "3 123\n",
      "4 12\n",
      "5 3\n",
      "6 12\n",
      "7 3\n"
     ]
    }
   ],
   "source": [
    "fun([123,12,3,123,12,3,12,3], True)"
   ]
  },
  {
   "cell_type": "code",
   "execution_count": 14,
   "metadata": {
    "ExecuteTime": {
     "end_time": "2019-05-26T13:17:43.779278Z",
     "start_time": "2019-05-26T13:17:43.718869Z"
    }
   },
   "outputs": [
    {
     "name": "stdout",
     "output_type": "stream",
     "text": [
      "ic> fun.registry.keys(): dict_keys([<class 'object'>, <class 'int'>, <class 'list'>, <class 'collections.abc.Sequence'>])\n",
      "ic> fun.dispatch(str): <function _ at 0x10d648ae8>\n",
      "ic> fun.dispatch(float): <function fun at 0x10d648ea0>\n",
      "ic> fun.dispatch(int): <function _ at 0x10d6481e0>\n"
     ]
    },
    {
     "data": {
      "text/plain": [
       "<function __main__._(arg: int, verbose=False)>"
      ]
     },
     "execution_count": 14,
     "metadata": {},
     "output_type": "execute_result"
    }
   ],
   "source": [
    "# list available implementations\n",
    "ic(fun.registry.keys())\n",
    "\n",
    "# --- checking implementations....\n",
    "\n",
    "# default implementation\n",
    "ic(fun.dispatch(str))\n",
    "ic(fun.dispatch(float))\n",
    "# existing implementation\n",
    "ic(fun.dispatch(int))"
   ]
  },
  {
   "cell_type": "markdown",
   "metadata": {},
   "source": [
    "### `@decorators` used in Object-Oriented Programming\n",
    "\n",
    "* `@statickmethod` - static methods\n",
    "* `@classmethod` - class creation\n",
    "* `@abstractmethod` - static methods \n",
    "\n",
    "\n",
    "Note about `@abstractmethod`, in most cases you will use method that raises `NotImplemented` exception **only**^ which is not `abstract method`!"
   ]
  },
  {
   "cell_type": "code",
   "execution_count": 13,
   "metadata": {
    "ExecuteTime": {
     "end_time": "2019-05-26T11:10:09.978273Z",
     "start_time": "2019-05-26T11:10:09.905349Z"
    }
   },
   "outputs": [
    {
     "name": "stdout",
     "output_type": "stream",
     "text": [
      "ic> Power(2, 2): Power(2^2) is 4\n",
      "ic> Power.cube(2): Power(2^4) is 16\n",
      "ic> Power.root(4): Power(4^0.5) is 2.0\n",
      "ic> Power.cube(2): Power(2^4) is 16\n"
     ]
    },
    {
     "data": {
      "text/plain": [
       "Power(2^4) is 16"
      ]
     },
     "execution_count": 13,
     "metadata": {},
     "output_type": "execute_result"
    }
   ],
   "source": [
    "from abc import abstractmethod\n",
    "\n",
    "class AbstractPower:\n",
    "    @abstractmethod\n",
    "    def power(number, power): \n",
    "        raise NotImplementedError(\"ddd\")\n",
    "\n",
    "class Power(AbstractPower):\n",
    "    \n",
    "    def __init__(self, number, power):\n",
    "        self.number = number\n",
    "        self.power = power\n",
    "        \n",
    "    @classmethod\n",
    "    def cube(cls, number):\n",
    "        return cls(number, 4)\n",
    "    \n",
    "    @classmethod\n",
    "    def root(cls, number):\n",
    "        return cls(number, 0.5)\n",
    "\n",
    "    @staticmethod\n",
    "    def power(x, power):\n",
    "        return x**power\n",
    "    \n",
    "    def __repr__(self):\n",
    "        return \"{}({}^{}) is {}\".format(\n",
    "            self.__class__.__name__, \n",
    "            self.number,\n",
    "            self.power,\n",
    "            self.__class__.power(self.number, self.power)\n",
    "        )\n",
    "    \n",
    "ic(Power(2, 2))\n",
    "ic(Power.cube(2))\n",
    "ic(Power.root(4)) \n",
    "ic(Power.cube(2))"
   ]
  },
  {
   "cell_type": "markdown",
   "metadata": {},
   "source": [
    "### Getters and Setters"
   ]
  },
  {
   "cell_type": "code",
   "execution_count": 14,
   "metadata": {
    "ExecuteTime": {
     "end_time": "2019-05-26T11:10:10.060300Z",
     "start_time": "2019-05-26T11:10:09.980436Z"
    }
   },
   "outputs": [
    {
     "name": "stdout",
     "output_type": "stream",
     "text": [
      "ic> root: <__main__.Root object at 0x10f1ef630>\n",
      "ic> root.n: 4\n",
      "ic> root.root: 2.0\n",
      "ic> root.n: 16\n",
      "ic> root.root: 8.0\n"
     ]
    },
    {
     "data": {
      "text/plain": [
       "8.0"
      ]
     },
     "execution_count": 14,
     "metadata": {},
     "output_type": "execute_result"
    }
   ],
   "source": [
    "class Root:\n",
    "    def __init__(self, number):\n",
    "        self._n = number\n",
    "    \n",
    "    @property\n",
    "    def n(self):\n",
    "        return self._n\n",
    "    \n",
    "    @n.setter\n",
    "    def n(self, n):\n",
    "        self._n = n\n",
    "        \n",
    "    @property\n",
    "    def root(self):\n",
    "        return self._n * .5\n",
    "\n",
    "root = Root(4)\n",
    "ic(root)\n",
    "ic(root.n)\n",
    "ic(root.root)\n",
    "root.n=16\n",
    "ic(root.n)\n",
    "ic(root.root)"
   ]
  },
  {
   "cell_type": "markdown",
   "metadata": {
    "ExecuteTime": {
     "end_time": "2019-05-26T12:50:50.234683Z",
     "start_time": "2019-05-26T12:50:50.231077Z"
    }
   },
   "source": [
    "### `@dataclass`"
   ]
  },
  {
   "cell_type": "code",
   "execution_count": 8,
   "metadata": {
    "ExecuteTime": {
     "end_time": "2019-05-26T12:53:17.369068Z",
     "start_time": "2019-05-26T12:53:17.336567Z"
    }
   },
   "outputs": [
    {
     "name": "stdout",
     "output_type": "stream",
     "text": [
      "ic> Point(1.5, 2.5): Point(x=1.5, y=2.5, z=0.0)\n"
     ]
    },
    {
     "data": {
      "text/plain": [
       "Point(x=1.5, y=2.5, z=0.0)"
      ]
     },
     "execution_count": 8,
     "metadata": {},
     "output_type": "execute_result"
    }
   ],
   "source": [
    "import dataclasses\n",
    "\n",
    "@dataclasses.dataclass\n",
    "class Point:\n",
    "    x: float\n",
    "    y: float\n",
    "    z: float = 0.0\n",
    " \n",
    "ic(Point(1.5, 2.5))"
   ]
  },
  {
   "cell_type": "markdown",
   "metadata": {},
   "source": [
    "### Context Managers and `@contextmanager`\n",
    "\n",
    "You can make your own context manager without `__enter__` and `__exit__`"
   ]
  },
  {
   "cell_type": "code",
   "execution_count": 15,
   "metadata": {
    "ExecuteTime": {
     "end_time": "2019-05-26T11:10:10.069131Z",
     "start_time": "2019-05-26T11:10:10.063101Z"
    }
   },
   "outputs": [],
   "source": [
    "from contextlib import contextmanager\n",
    "\n",
    "@contextmanager\n",
    "def managed_file(name):\n",
    "    try:\n",
    "        f = open(name, 'w')\n",
    "        yield f\n",
    "    finally:\n",
    "        f.close()\n",
    "\n",
    "with managed_file('hello.txt') as f:\n",
    "    f.write('¡hola!')"
   ]
  },
  {
   "cell_type": "markdown",
   "metadata": {},
   "source": [
    "### Exit function"
   ]
  },
  {
   "cell_type": "code",
   "execution_count": 16,
   "metadata": {
    "ExecuteTime": {
     "end_time": "2019-05-26T11:10:26.974420Z",
     "start_time": "2019-05-26T11:10:26.970110Z"
    }
   },
   "outputs": [
    {
     "name": "stderr",
     "output_type": "stream",
     "text": [
      "ERROR:root:Invalid alias: The name clear can't be aliased because it is another magic command.\n",
      "ERROR:root:Invalid alias: The name more can't be aliased because it is another magic command.\n",
      "ERROR:root:Invalid alias: The name less can't be aliased because it is another magic command.\n",
      "ERROR:root:Invalid alias: The name man can't be aliased because it is another magic command.\n"
     ]
    },
    {
     "name": "stdout",
     "output_type": "stream",
     "text": [
      "Ciao...\n"
     ]
    }
   ],
   "source": [
    "import atexit\n",
    "\n",
    "@atexit.register\n",
    "def goodbye():\n",
    "    print(\"Ciao...\")\n",
    "    \n",
    "exit(0)"
   ]
  },
  {
   "cell_type": "code",
   "execution_count": 3,
   "metadata": {
    "ExecuteTime": {
     "end_time": "2019-05-26T12:52:31.486496Z",
     "start_time": "2019-05-26T12:52:31.482053Z"
    }
   },
   "outputs": [
    {
     "name": "stdout",
     "output_type": "stream",
     "text": [
      "3.7.3 (default, Mar 27 2019, 09:23:39) \n",
      "[Clang 10.0.0 (clang-1000.11.45.5)]\n"
     ]
    }
   ],
   "source": [
    "import sys\n",
    "\n",
    "print(sys.version)"
   ]
  },
  {
   "cell_type": "code",
   "execution_count": null,
   "metadata": {},
   "outputs": [],
   "source": []
  }
 ],
 "metadata": {
  "hide_input": false,
  "kernelspec": {
   "display_name": "Python 3",
   "language": "python",
   "name": "python3"
  },
  "language_info": {
   "codemirror_mode": {
    "name": "ipython",
    "version": 3
   },
   "file_extension": ".py",
   "mimetype": "text/x-python",
   "name": "python",
   "nbconvert_exporter": "python",
   "pygments_lexer": "ipython3",
   "version": "3.7.3"
  },
  "toc": {
   "base_numbering": 1,
   "nav_menu": {},
   "number_sections": false,
   "sideBar": true,
   "skip_h1_title": true,
   "title_cell": "Table of Contents",
   "title_sidebar": "Contents",
   "toc_cell": false,
   "toc_position": {},
   "toc_section_display": true,
   "toc_window_display": false
  }
 },
 "nbformat": 4,
 "nbformat_minor": 2
}
