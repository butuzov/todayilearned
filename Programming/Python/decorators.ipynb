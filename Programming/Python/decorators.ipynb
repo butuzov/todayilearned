{
 "cells": [
  {
   "cell_type": "code",
   "execution_count": 24,
   "metadata": {
    "ExecuteTime": {
     "end_time": "2019-05-24T11:00:45.925866Z",
     "start_time": "2019-05-24T11:00:45.919539Z"
    }
   },
   "outputs": [],
   "source": [
    "#hide\n",
    "from icecream import ic\n",
    "import sys, re\n",
    "\n",
    "def jupyter(*args): \n",
    "    print(*[re.sub(r\",\\s{1,}\", \", \", i.replace(\",\\n\", \", \")) for i in args], file=sys.stdout)\n",
    "    \n",
    "ic.configureOutput(prefix='ic> ', outputFunction=jupyter)"
   ]
  },
  {
   "cell_type": "markdown",
   "metadata": {},
   "source": [
    "# Decorators"
   ]
  },
  {
   "cell_type": "markdown",
   "metadata": {},
   "source": [
    "* [PyCon2019: Practical decorators](https://www.youtube.com/watch?v=MjHpMCIvwsY) by Reuven M. Lerner - [slides](https://speakerdeck.com/pycon2019/reuven-m-lerner-practical-decorators)  "
   ]
  },
  {
   "cell_type": "markdown",
   "metadata": {},
   "source": [
    "### `@decorators` used in Object-Oriented Programming\n",
    "\n",
    "* `@statickmethod` - static methods\n",
    "* `@classmethod` - class creation\n",
    "* `@abstractmethod` - static methods\n",
    "\n",
    "\n",
    "Note about `@abstractmethod`, in most cases you will use method that raises `NotImplemented` exception **only**^ which is not `abstract method`!"
   ]
  },
  {
   "cell_type": "code",
   "execution_count": 29,
   "metadata": {
    "ExecuteTime": {
     "end_time": "2019-05-24T11:05:44.956167Z",
     "start_time": "2019-05-24T11:05:44.895487Z"
    }
   },
   "outputs": [
    {
     "name": "stdout",
     "output_type": "stream",
     "text": [
      "ic> Power(2, 2): Power(2^2) is 4\n",
      "ic> Power.cube(2): Power(2^4) is 16\n",
      "ic> Power.root(4): Power(4^0.5) is 2.0\n"
     ]
    },
    {
     "data": {
      "text/plain": [
       "Power(4^0.5) is 2.0"
      ]
     },
     "execution_count": 29,
     "metadata": {},
     "output_type": "execute_result"
    }
   ],
   "source": [
    "from abc import abstractmethod\n",
    "\n",
    "class AbstractPower:\n",
    "    @abstractmethod\n",
    "    def power(number, power): \n",
    "        raise NotImplementedError(\"ddd\")\n",
    "\n",
    "class Power(AbstractPower):\n",
    "    \n",
    "    def __init__(self, number, power):\n",
    "        self.number = number\n",
    "        self.power = power\n",
    "        \n",
    "    @classmethod\n",
    "    def cube(cls, number):\n",
    "        return cls(number, 4)\n",
    "    \n",
    "    @classmethod\n",
    "    def root(cls, number):\n",
    "        return cls(number, 0.5)\n",
    "\n",
    "    @staticmethod\n",
    "    def power(x, power):\n",
    "        return x**power\n",
    "    \n",
    "    def __repr__(self):\n",
    "        return \"{}({}^{}) is {}\".format(\n",
    "            self.__class__.__name__, \n",
    "            self.number,\n",
    "            self.power,\n",
    "            self.__class__.power(self.number, self.power)\n",
    "        )\n",
    "    \n",
    "ic(Power(2, 2))\n",
    "ic(Power.cube(2))\n",
    "ic(Power.root(4))"
   ]
  },
  {
   "cell_type": "markdown",
   "metadata": {},
   "source": [
    "### Context Managers and `@contextmanager`\n",
    "\n",
    "You can make your own context manager without `__enter__` and `__exit__`"
   ]
  },
  {
   "cell_type": "code",
   "execution_count": 9,
   "metadata": {
    "ExecuteTime": {
     "end_time": "2019-05-24T11:36:46.012246Z",
     "start_time": "2019-05-24T11:36:46.006103Z"
    }
   },
   "outputs": [],
   "source": [
    "from contextlib import contextmanager\n",
    "\n",
    "@contextmanager\n",
    "def managed_file(name):\n",
    "    try:\n",
    "        f = open(name, 'w')\n",
    "        yield f\n",
    "    finally:\n",
    "        f.close()\n",
    "\n",
    "with managed_file('hello.txt') as f:\n",
    "    f.write('¡hola!')"
   ]
  }
 ],
 "metadata": {
  "hide_input": false,
  "kernelspec": {
   "display_name": "Python 3",
   "language": "python",
   "name": "python3"
  },
  "language_info": {
   "codemirror_mode": {
    "name": "ipython",
    "version": 3
   },
   "file_extension": ".py",
   "mimetype": "text/x-python",
   "name": "python",
   "nbconvert_exporter": "python",
   "pygments_lexer": "ipython3",
   "version": "3.7.3"
  },
  "toc": {
   "base_numbering": 1,
   "nav_menu": {},
   "number_sections": false,
   "sideBar": true,
   "skip_h1_title": true,
   "title_cell": "Table of Contents",
   "title_sidebar": "Contents",
   "toc_cell": false,
   "toc_position": {},
   "toc_section_display": true,
   "toc_window_display": false
  }
 },
 "nbformat": 4,
 "nbformat_minor": 2
}
