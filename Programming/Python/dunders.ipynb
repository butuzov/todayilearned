{
 "cells": [
  {
   "cell_type": "code",
   "execution_count": 2,
   "metadata": {
    "ExecuteTime": {
     "end_time": "2019-05-24T11:40:05.922258Z",
     "start_time": "2019-05-24T11:40:05.852649Z"
    }
   },
   "outputs": [],
   "source": [
    "# code \n",
    "#hide\n",
    "from icecream import ic\n",
    "import sys, re\n",
    "\n",
    "def jupyter(*args): \n",
    "    print(*[re.sub(r\",\\s{1,}\", \", \", i.replace(\",\\n\", \", \")) for i in args], file=sys.stdout)\n",
    "    \n",
    "ic.configureOutput(prefix='ic> ', outputFunction=jupyter)"
   ]
  },
  {
   "cell_type": "markdown",
   "metadata": {},
   "source": [
    "# Dunders In Python"
   ]
  },
  {
   "cell_type": "markdown",
   "metadata": {
    "ExecuteTime": {
     "end_time": "2019-05-24T07:56:53.055372Z",
     "start_time": "2019-05-24T07:56:53.052258Z"
    }
   },
   "source": [
    "## Object Oriented Programming `__init__` & `__del__`\n",
    "\n",
    "Object constors and descructors."
   ]
  },
  {
   "cell_type": "code",
   "execution_count": 3,
   "metadata": {
    "ExecuteTime": {
     "end_time": "2019-05-24T11:40:06.949406Z",
     "start_time": "2019-05-24T11:40:06.943283Z"
    }
   },
   "outputs": [
    {
     "name": "stdout",
     "output_type": "stream",
     "text": [
      "i am alive\n",
      "i am dead\n"
     ]
    }
   ],
   "source": [
    "class constr_destr:\n",
    "    def __init__(self): \n",
    "        print(\"i am alive\") \n",
    "    def __del__(self): \n",
    "        print(\"i am dead\")\n",
    "    \n",
    "c = constr_destr()\n",
    "del c"
   ]
  },
  {
   "cell_type": "markdown",
   "metadata": {},
   "source": [
    "### Representation methods `__repr__` & `__str__`"
   ]
  },
  {
   "cell_type": "code",
   "execution_count": 4,
   "metadata": {
    "ExecuteTime": {
     "end_time": "2019-05-24T11:40:07.761637Z",
     "start_time": "2019-05-24T11:40:07.697195Z"
    }
   },
   "outputs": [
    {
     "name": "stdout",
     "output_type": "stream",
     "text": [
      "ic> ExampleRepr(2)\n",
      "ExampleRepr(2)\n",
      "ic> ExampleStr(2)\n",
      "2\n",
      "ic> ExampleHTML(2)\n",
      "2\n"
     ]
    },
    {
     "data": {
      "text/html": [
       "Value of x is <em>2<em>"
      ],
      "text/plain": [
       "ExampleHTML(2)"
      ]
     },
     "execution_count": 4,
     "metadata": {},
     "output_type": "execute_result"
    }
   ],
   "source": [
    "class ExampleRepr:\n",
    "    \"represents x number \"\n",
    "    def __init__(self, x = int):\n",
    "        self.x = x\n",
    "        \n",
    "    def __repr__(self) -> str:\n",
    "        return \"{}({})\".format(self.__class__.__name__, self.x)\n",
    "\n",
    "class ExampleStr(ExampleRepr):\n",
    "    def __str__(self):\n",
    "        return \"{}\".format(self.x)\n",
    "    \n",
    "class ExampleHTML(ExampleStr):\n",
    "    \" method for classes to be used in jupyter to prepresent html \"\n",
    "    def _repr_html_(self):\n",
    "        return \"Value of x is <em>{}<em>\".format(self.x)\n",
    "        \n",
    "\n",
    "ic(ExampleRepr(2))\n",
    "print(ExampleRepr(2))\n",
    "\n",
    "ic(ExampleStr(2))\n",
    "print(ExampleStr(2))\n",
    "\n",
    "ic(ExampleHTML(2))\n",
    "print(ExampleHTML(2))\n",
    "ExampleHTML(2)"
   ]
  },
  {
   "cell_type": "markdown",
   "metadata": {},
   "source": [
    "## Context Managers with `__enter__` and `__exit__`"
   ]
  },
  {
   "cell_type": "code",
   "execution_count": 5,
   "metadata": {
    "ExecuteTime": {
     "end_time": "2019-05-24T11:40:08.795201Z",
     "start_time": "2019-05-24T11:40:08.788158Z"
    }
   },
   "outputs": [],
   "source": [
    "class ManagedFile:\n",
    "    def __init__(self, name):\n",
    "        self.name = name\n",
    "    def __enter__(self):\n",
    "        self.file = open(self.name, 'w')\n",
    "        return self.file\n",
    "    def __exit__(self, exc_type, exc_val, exc_tb):\n",
    "        if self.file:\n",
    "            self.file.close()\n",
    "\n",
    "# So we can do something like implementing custom write or read\n",
    "# or any other functionality.\n",
    "with ManagedFile('hello.txt') as f:\n",
    "    f.write('¡holla!')"
   ]
  }
 ],
 "metadata": {
  "hide_input": false,
  "kernelspec": {
   "display_name": "Python 3",
   "language": "python",
   "name": "python3"
  },
  "language_info": {
   "codemirror_mode": {
    "name": "ipython",
    "version": 3
   },
   "file_extension": ".py",
   "mimetype": "text/x-python",
   "name": "python",
   "nbconvert_exporter": "python",
   "pygments_lexer": "ipython3",
   "version": "3.7.3"
  },
  "toc": {
   "base_numbering": 1,
   "nav_menu": {},
   "number_sections": false,
   "sideBar": true,
   "skip_h1_title": true,
   "title_cell": "Table of Contents",
   "title_sidebar": "Contents",
   "toc_cell": false,
   "toc_position": {},
   "toc_section_display": true,
   "toc_window_display": false
  }
 },
 "nbformat": 4,
 "nbformat_minor": 2
}
