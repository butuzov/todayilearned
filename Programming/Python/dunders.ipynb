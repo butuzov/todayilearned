{
 "cells": [
  {
   "cell_type": "code",
   "execution_count": 1,
   "metadata": {
    "ExecuteTime": {
     "end_time": "2019-05-26T18:54:07.060933Z",
     "start_time": "2019-05-26T18:54:06.989131Z"
    }
   },
   "outputs": [],
   "source": [
    "# code \n",
    "#hide\n",
    "from icecream import ic\n",
    "import sys, re\n",
    "\n",
    "def jupyter(*args): \n",
    "    print(*[re.sub(r\",\\s{1,}\", \", \", i.replace(\",\\n\", \", \")) for i in args], file=sys.stdout)\n",
    "    \n",
    "ic.configureOutput(prefix='ic> ', outputFunction=jupyter)"
   ]
  },
  {
   "cell_type": "markdown",
   "metadata": {},
   "source": [
    "# Dunders In Python"
   ]
  },
  {
   "cell_type": "markdown",
   "metadata": {},
   "source": [
    "## PEP 560: Core Support for typing module and Generic Types\n",
    "\n",
    "The PEP introduces two special methods `__class_getitem__()` and `__mro_entries__`, these methods are now used by most classes and special constructs in typing. As a result, the speed of various operations with types increased up to 7 times, the generic types can be used without metaclass conflicts, and several long standing bugs in typing module are fixed."
   ]
  },
  {
   "cell_type": "markdown",
   "metadata": {},
   "source": [
    "## Callables with `__call__`\n",
    "\n",
    "There is a way to make instance callable."
   ]
  },
  {
   "cell_type": "code",
   "execution_count": 2,
   "metadata": {
    "ExecuteTime": {
     "end_time": "2019-05-26T18:54:08.638497Z",
     "start_time": "2019-05-26T18:54:08.631669Z"
    }
   },
   "outputs": [
    {
     "name": "stdout",
     "output_type": "stream",
     "text": [
      "we all gona die!\n",
      "no prophecy for you\n"
     ]
    }
   ],
   "source": [
    "class prophecy:\n",
    "    \n",
    "    def __call__(self, type_of_prefecy):\n",
    "        return self.grim() if type_of_prefecy == 'grim' else \"no prophecy for you\"\n",
    "    \n",
    "    def grim(self):\n",
    "        return \"we all gona die!\"\n",
    "    \n",
    "p = prophecy()\n",
    "print(p('grim'))\n",
    "print(p(\"other_type_prophecy\"))"
   ]
  },
  {
   "cell_type": "markdown",
   "metadata": {
    "ExecuteTime": {
     "end_time": "2019-05-24T07:56:53.055372Z",
     "start_time": "2019-05-24T07:56:53.052258Z"
    }
   },
   "source": [
    "## Object Oriented Programming `__init__` & `__del__`\n",
    "\n",
    "Object constors and descructors."
   ]
  },
  {
   "cell_type": "code",
   "execution_count": 3,
   "metadata": {
    "ExecuteTime": {
     "end_time": "2019-05-26T18:54:09.358094Z",
     "start_time": "2019-05-26T18:54:09.352020Z"
    }
   },
   "outputs": [
    {
     "name": "stdout",
     "output_type": "stream",
     "text": [
      "i am alive\n",
      "i am dead\n"
     ]
    }
   ],
   "source": [
    "class constr_destr:\n",
    "    def __init__(self): \n",
    "        print(\"i am alive\") \n",
    "    def __del__(self): \n",
    "        print(\"i am dead\")\n",
    "    \n",
    "c = constr_destr()\n",
    "del c"
   ]
  },
  {
   "cell_type": "markdown",
   "metadata": {},
   "source": [
    "### Ordering and Comparing \n",
    "\n",
    "Ordering and Comparing things with `__lt__`, `__le__`, `__gt__`, `__ge__` and `__eq__`. `functools.total_ordering` decorator. Implementations any of this methods allows to compare objects. Usage of `functools.total_ordering` allows to skipp full implmentation and limit only to two methods `__eq__` and anyone of the list `__lt__`, `__le__`, `__gt__`, `__ge__`.\n",
    "\n"
   ]
  },
  {
   "cell_type": "code",
   "execution_count": 4,
   "metadata": {
    "ExecuteTime": {
     "end_time": "2019-05-26T18:54:10.342498Z",
     "start_time": "2019-05-26T18:54:10.118339Z"
    }
   },
   "outputs": [
    {
     "name": "stdout",
     "output_type": "stream",
     "text": [
      "ic> Weight('5 kg') == Weight('5000 gr'): True\n",
      "ic> Weight('5 kg') < Weight ('4999 gr'): False\n",
      "ic> Weight('5 kg') > Weight ('4999 gr'): True\n"
     ]
    },
    {
     "data": {
      "text/plain": [
       "True"
      ]
     },
     "execution_count": 4,
     "metadata": {},
     "output_type": "execute_result"
    }
   ],
   "source": [
    "from functools import total_ordering\n",
    "\n",
    "@total_ordering\n",
    "class Weight:\n",
    "    def __init__(self, weight:str):\n",
    "        self.number, self.units = weight.split(\" \") \n",
    "    \n",
    "    @property\n",
    "    def value(self):\n",
    "        return self.converts_to_kilograms()\n",
    "    \n",
    "    def converts_to_kilograms(self):\n",
    "        mesurments = {}\n",
    "        mesurments['gr'] = 0.001\n",
    "        mesurments['kg'] = 1 \n",
    "        mesurments['quintal'] = 100\n",
    "        mesurments['pound'] = 0.5\n",
    "        mesurments['ton'] = 1000\n",
    "        \n",
    "        return float(self.number)*mesurments.get(self.units)\n",
    "    \n",
    "    def __gt__(self, other):\n",
    "        return self.value > other.value\n",
    "    \n",
    "    def __eq__(self, other):\n",
    "        return self.value == other.value\n",
    "    \n",
    "ic(Weight('5 kg') == Weight('5000 gr'))\n",
    "ic(Weight('5 kg') <  Weight('4999 gr'))\n",
    "ic(Weight('5 kg') >  Weight('4999 gr'))"
   ]
  },
  {
   "cell_type": "markdown",
   "metadata": {},
   "source": [
    "### Representation methods `__repr__` & `__str__`"
   ]
  },
  {
   "cell_type": "code",
   "execution_count": 5,
   "metadata": {
    "ExecuteTime": {
     "end_time": "2019-05-26T18:54:10.754084Z",
     "start_time": "2019-05-26T18:54:10.711816Z"
    }
   },
   "outputs": [
    {
     "name": "stdout",
     "output_type": "stream",
     "text": [
      "ic> ExampleRepr(2)\n",
      "ExampleRepr(2)\n",
      "ic> ExampleStr(2)\n",
      "2\n"
     ]
    },
    {
     "data": {
      "text/html": [
       "Value of x is <em>2<em>"
      ],
      "text/plain": [
       "ExampleHTML(2)"
      ]
     },
     "execution_count": 5,
     "metadata": {},
     "output_type": "execute_result"
    }
   ],
   "source": [
    "class ExampleRepr:\n",
    "    \"represents x number \"\n",
    "    def __init__(self, x = int):\n",
    "        self.x = x\n",
    "        \n",
    "    def __repr__(self) -> str:\n",
    "        return \"{}({})\".format(self.__class__.__name__, self.x)\n",
    "\n",
    "class ExampleStr(ExampleRepr):\n",
    "    def __str__(self):\n",
    "        return \"{}\".format(self.x)\n",
    "    \n",
    "class ExampleHTML(ExampleStr):\n",
    "    \" method for classes to be used in jupyter to prepresent html \"\n",
    "    def _repr_html_(self):\n",
    "        return \"Value of x is <em>{}<em>\".format(self.x)\n",
    "        \n",
    "\n",
    "ic(ExampleRepr(2))\n",
    "print(ExampleRepr(2))\n",
    "\n",
    "ic(ExampleStr(2))\n",
    "print(ExampleStr(2))\n",
    "\n",
    "ExampleHTML(2)"
   ]
  },
  {
   "cell_type": "markdown",
   "metadata": {},
   "source": [
    "## Context Managers with `__enter__` and `__exit__`"
   ]
  },
  {
   "cell_type": "code",
   "execution_count": 6,
   "metadata": {
    "ExecuteTime": {
     "end_time": "2019-05-26T18:54:11.576344Z",
     "start_time": "2019-05-26T18:54:11.568845Z"
    }
   },
   "outputs": [],
   "source": [
    "class ManagedFile:\n",
    "    def __init__(self, name):\n",
    "        self.name = name\n",
    "    def __enter__(self):\n",
    "        self.file = open(self.name, 'w')\n",
    "        return self.file\n",
    "    def __exit__(self, exc_type, exc_val, exc_tb):\n",
    "        if self.file:\n",
    "            self.file.close()\n",
    "\n",
    "# So we can do something like implementing custom write or read\n",
    "# or any other functionality.\n",
    "with ManagedFile('hello.txt') as f:\n",
    "    f.write('¡holla!')"
   ]
  },
  {
   "cell_type": "markdown",
   "metadata": {
    "ExecuteTime": {
     "end_time": "2019-05-26T17:38:31.352867Z",
     "start_time": "2019-05-26T17:38:30.957783Z"
    }
   },
   "source": [
    "## Math Operations (regular ones) - overloading"
   ]
  },
  {
   "cell_type": "code",
   "execution_count": 7,
   "metadata": {
    "ExecuteTime": {
     "end_time": "2019-05-26T18:54:12.541670Z",
     "start_time": "2019-05-26T18:54:12.366273Z"
    }
   },
   "outputs": [
    {
     "name": "stdout",
     "output_type": "stream",
     "text": [
      "ic> Math(1)+Math(2): 3\n",
      "ic> Math(1)-Math(2): -1\n",
      "ic> Math(1)*Math(2): 2\n",
      "ic> Math(1)/Math(2): 0.5\n",
      "ic> Math(1)//Math(2): 0\n",
      "ic> Math(1)**Math(2): 1\n",
      "ic> Math(1)%Math(2): 1\n",
      "ic> Math(1) @ Math(2): 2\n",
      "ic> divmod(Math(1), Math(2)): (0, 1)\n"
     ]
    },
    {
     "data": {
      "text/plain": [
       "(0, 1)"
      ]
     },
     "execution_count": 7,
     "metadata": {},
     "output_type": "execute_result"
    }
   ],
   "source": [
    "class Math:\n",
    "    \n",
    "    def __init__(self, a):\n",
    "        self._a = a\n",
    "    \n",
    "    # --- regular math operators overloading     \n",
    "    def __add__(self, b):\n",
    "        \"\"\" Addition with - \"\"\"\n",
    "        return self.__class__(self.value + b.value)\n",
    "        \n",
    "    def __sub__(self, b):\n",
    "        \"\"\" Subtraction with - \"\"\"\n",
    "        return self.__class__(self.value - b.value)\n",
    "    \n",
    "    def __mul__(self, b):\n",
    "        \"\"\" Multiplication with * \"\"\"\n",
    "        return self.__class__(self.value * b.value)\n",
    "    \n",
    "    def __mod__(self, b):\n",
    "        \"\"\" Modulus operation % \"\"\"\n",
    "        return self.__class__(self.value % b.value)\n",
    "    def __rpow__(self, b):\n",
    "        print(\"not affected\")\n",
    "        \n",
    "    def __pow__(self, b):\n",
    "        \"\"\" powering value with ** \"\"\"\n",
    "        return self.__class__(self.value ** b.value)\n",
    "    \n",
    "    def __floordiv__(self, b):\n",
    "        \"\"\" Division with // \"\"\"\n",
    "        return self.__class__(self.value // b.value)\n",
    "    \n",
    "    def __truediv__(self, b):\n",
    "        \"\"\" Division with / \"\"\"\n",
    "        return self.__class__(self.value / b.value)\n",
    "\n",
    "    def __divmod__(self, b):\n",
    "        return self.__floordiv__(b), self.__mod__(b)\n",
    "\n",
    "    def __matmul__(self, b):\n",
    "        \"\"\" matrix multiplication @ \"\"\" \n",
    "        return self.__class__(self.value * b.value)\n",
    "    \n",
    "    def __repr__(self):\n",
    "        return f\"{self._a}\"\n",
    "    \n",
    "    @property\n",
    "    def value(self):\n",
    "        return self._a\n",
    "    \n",
    "    \n",
    "ic(Math(1)+Math(2))\n",
    "ic(Math(1)-Math(2))\n",
    "ic(Math(1)*Math(2))\n",
    "ic(Math(1)/Math(2))\n",
    "ic(Math(1)//Math(2))\n",
    "ic(Math(1)**Math(2))\n",
    "ic(Math(1)%Math(2))\n",
    "ic(Math(1) @ Math(2))\n",
    "ic(divmod(Math(1), Math(2)))"
   ]
  },
  {
   "cell_type": "markdown",
   "metadata": {},
   "source": [
    "## Math Operation (inplace and right-operated)"
   ]
  },
  {
   "cell_type": "code",
   "execution_count": 8,
   "metadata": {
    "ExecuteTime": {
     "end_time": "2019-05-26T18:54:13.067853Z",
     "start_time": "2019-05-26T18:54:13.064802Z"
    }
   },
   "outputs": [],
   "source": [
    "#todo"
   ]
  },
  {
   "cell_type": "markdown",
   "metadata": {},
   "source": [
    "## TypeCasting"
   ]
  },
  {
   "cell_type": "code",
   "execution_count": 9,
   "metadata": {
    "ExecuteTime": {
     "end_time": "2019-05-26T18:54:14.166739Z",
     "start_time": "2019-05-26T18:54:14.098067Z"
    }
   },
   "outputs": [
    {
     "name": "stdout",
     "output_type": "stream",
     "text": [
      "ic> int(TypeInt(1)): 1\n",
      "ic> str(TypeInt(1)): 'one'\n",
      "ic> float(TypeInt(1)): 1.0\n",
      "ic> bool(TypeInt(0)): True\n"
     ]
    },
    {
     "data": {
      "text/plain": [
       "True"
      ]
     },
     "execution_count": 9,
     "metadata": {},
     "output_type": "execute_result"
    }
   ],
   "source": [
    "class TypeInt:\n",
    "    def __init__(self, n):\n",
    "        self.n = n\n",
    "        \n",
    "    def __int__(self):\n",
    "        return self.n\n",
    "    \n",
    "    def __str__(self):\n",
    "        return \"one\" if self.n == 1 else \"I dont know, its complicated number\".format(self.n)\n",
    "    \n",
    "    def __float__(self):\n",
    "        return float(self.n)\n",
    "    \n",
    "    def __bool__(self):\n",
    "        return True\n",
    "    \n",
    "ic(int(TypeInt(1)))\n",
    "ic(str(TypeInt(1)))\n",
    "ic(float(TypeInt(1)))\n",
    "ic(bool(TypeInt(0)))"
   ]
  }
 ],
 "metadata": {
  "hide_input": false,
  "kernelspec": {
   "display_name": "Python 3",
   "language": "python",
   "name": "python3"
  },
  "language_info": {
   "codemirror_mode": {
    "name": "ipython",
    "version": 3
   },
   "file_extension": ".py",
   "mimetype": "text/x-python",
   "name": "python",
   "nbconvert_exporter": "python",
   "pygments_lexer": "ipython3",
   "version": "3.7.3"
  },
  "toc": {
   "base_numbering": 1,
   "nav_menu": {},
   "number_sections": false,
   "sideBar": true,
   "skip_h1_title": true,
   "title_cell": "Table of Contents",
   "title_sidebar": "Contents",
   "toc_cell": false,
   "toc_position": {},
   "toc_section_display": true,
   "toc_window_display": false
  }
 },
 "nbformat": 4,
 "nbformat_minor": 2
}
