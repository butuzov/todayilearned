{
 "cells": [
  {
   "cell_type": "code",
   "execution_count": 1,
   "metadata": {
    "ExecuteTime": {
     "end_time": "2019-05-26T11:50:51.346451Z",
     "start_time": "2019-05-26T11:50:51.274289Z"
    }
   },
   "outputs": [],
   "source": [
    "#hide\n",
    "from icecream import ic\n",
    "import sys, re\n",
    "\n",
    "def jupyter(*args): \n",
    "    print(*[re.sub(r\",\\s{1,}\", \", \", i.replace(\",\\n\", \", \")) for i in args], file=sys.stdout)\n",
    "    \n",
    "ic.configureOutput(prefix='ic> ', outputFunction=jupyter)"
   ]
  },
  {
   "cell_type": "markdown",
   "metadata": {},
   "source": [
    "# Typings\n",
    "\n",
    "\n",
    "* [PEP 484](https://www.python.org/dev/peps/pep-0484), \n",
    "  [PEP 526](https://www.python.org/dev/peps/pep-0526), \n",
    "  [PEP 544](https://www.python.org/dev/peps/pep-0544), \n",
    "  [PEP 563](https://www.python.org/dev/peps/pep-0563),\n",
    "  [PEP 560](https://www.python.org/dev/peps/pep-0560),\n",
    "  \n",
    "* https://docs.python.org/3/library/typing.html\n",
    "\n",
    "---\n",
    "```python\n",
    "def hello(world: str) -> str:\n",
    "    return 'Hello {}'.format(world)\n",
    "```\n",
    "---\n"
   ]
  },
  {
   "cell_type": "markdown",
   "metadata": {},
   "source": [
    "### Talks\n",
    "\n",
    "* [PyCon2019: Type hinting (and mypy)](https://www.youtube.com/watch?v=hTrjTAPnA_k) by Bernat Gabor (`mypy`) - [slides](https://gaborbernat.github.io/pycon-us-2019/)\n",
    "* [PyCon2019: Getting to Three Million Lines of Type-Annotated Python](https://www.youtube.com/watch?v=mh9jQSxzv0c) by Michael Sullivan (`mypy`)\n",
    "* [PyCon2019: Leveraging the Type System to Write Secure Applications](https://www.youtube.com/watch?v=ZplZ8ZBwu0Q) by Shannon Zhu (`pyre`)"
   ]
  },
  {
   "cell_type": "code",
   "execution_count": 2,
   "metadata": {
    "ExecuteTime": {
     "end_time": "2019-05-26T13:33:33.362596Z",
     "start_time": "2019-05-26T13:33:33.359219Z"
    }
   },
   "outputs": [],
   "source": [
    "import typing"
   ]
  },
  {
   "cell_type": "markdown",
   "metadata": {
    "ExecuteTime": {
     "end_time": "2019-05-26T12:20:24.076489Z",
     "start_time": "2019-05-26T12:20:24.071470Z"
    }
   },
   "source": [
    "## Typing Generator\n",
    "\n",
    "* [MonkeyType](https://github.com/instagram/MonkeyType)"
   ]
  },
  {
   "cell_type": "markdown",
   "metadata": {},
   "source": [
    "## Static Checkers\n",
    "\n",
    "* `mypy`     [github](https://github.com/python/mypy), [docs](http://mypy-lang.org/)\n",
    "* `pyre`     [github](https://github.com/facebook/pyre-check), [docs](https://pyre-check.org/docs/overview.html)\n",
    "* `pyright`  [github](https://github.com/Microsoft/pyright)\n",
    "* `pytype`   [github](https://github.com/google/pytype)"
   ]
  },
  {
   "cell_type": "markdown",
   "metadata": {},
   "source": [
    "## `mypy` - optional typechecker\n",
    "\n",
    "\n",
    "\n",
    "```ini\n",
    "# setup.cfg contents\n",
    "# MyPy\n",
    "# https://mypy.readthedocs.io/en/stable/config_file.html\n",
    "[mypy]\n",
    "# Import discovery\n",
    "ignore_missing_imports                            = True\n",
    "follow_imports                                    = silent\n",
    "follow_imports_for_stubs                          = True\n",
    "\n",
    "# Disallow dynamic typing\n",
    "# - There are bug in mypy at the moment so we cant really\n",
    "#   disallow Any for a moment.\n",
    "disallow_any_unimported                           = False\n",
    "disallow_any_expr                                 = False\n",
    "disallow_any_decorated                            = False\n",
    "disallow_any_explicit                             = False\n",
    "disallow_any_generics                             = False\n",
    "disallow_subclassing_any                          = False\n",
    "\n",
    "# Untyped definitions and calls\n",
    "disallow_untyped_calls                            = True\n",
    "disallow_untyped_defs                             = True\n",
    "check_untyped_defs                                = True\n",
    "disallow_incomplete_defs                          = True\n",
    "disallow_untyped_decorators                       = True\n",
    "\n",
    "# None and optional handling\n",
    "no_implicit_optional                              = True\n",
    "strict_optional                                   = True\n",
    "\n",
    "# Configuring warnings\n",
    "warn_unused_ignores                               = True\n",
    "warn_no_return                                    = True\n",
    "warn_return_any                                   = True\n",
    "\n",
    "# Suppressing errors\n",
    "show_none_errors                                  = True\n",
    "\n",
    "# Miscellaneous strictness flags\n",
    "allow_redefinition                                = True\n",
    "strict_equality                                   = True\n",
    "\n",
    "# Import discovery\n",
    "namespace_packages                                = True\n",
    "\n",
    "# Incremental mode\n",
    "incremental                                       = True\n",
    "skip_version_check                                = True\n",
    "cache_dir                                         = .cache/mypy\n",
    "\n",
    "# Configuring error messages\n",
    "show_error_context                                = True\n",
    "show_column_numbers                               = True\n",
    "\n",
    "# Advanced options\n",
    "pdb                                               = True\n",
    "show_traceback                                    = True\n",
    "warn_incomplete_stub                              = True\n",
    "\n",
    "# Miscellaneous\n",
    "verbosity                                         = 0\n",
    "warn_redundant_casts                              = True\n",
    "warn_unused_configs                               = True\n",
    "```"
   ]
  },
  {
   "cell_type": "markdown",
   "metadata": {},
   "source": [
    "## Generic Functions"
   ]
  },
  {
   "cell_type": "code",
   "execution_count": 3,
   "metadata": {
    "ExecuteTime": {
     "end_time": "2019-05-26T11:51:57.563426Z",
     "start_time": "2019-05-26T11:51:57.501008Z"
    }
   },
   "outputs": [
    {
     "name": "stdout",
     "output_type": "stream",
     "text": [
      "ic> add(1, 2) : 3\n",
      "ic> add(1., 2): 3.0\n",
      "ic> add(1, 2.) : 3.0\n",
      "ic> add(1., 2.): 3.0\n"
     ]
    },
    {
     "data": {
      "text/plain": [
       "3.0"
      ]
     },
     "execution_count": 3,
     "metadata": {},
     "output_type": "execute_result"
    }
   ],
   "source": [
    "from typing import TypeVar, Union\n",
    "\n",
    "# T represents generic parameter \n",
    "T = TypeVar('T', int, float)\n",
    "def add(a: T, b:T) -> T:\n",
    "    return a+b\n",
    "\n",
    "ic(add(1 , 2))\n",
    "ic(add(1., 2))\n",
    "ic(add(1 , 2.))\n",
    "ic(add(1., 2.))"
   ]
  },
  {
   "cell_type": "markdown",
   "metadata": {},
   "source": [
    "## Generators"
   ]
  },
  {
   "cell_type": "code",
   "execution_count": 6,
   "metadata": {
    "ExecuteTime": {
     "end_time": "2019-06-11T13:25:37.765338Z",
     "start_time": "2019-06-11T13:25:37.758650Z"
    }
   },
   "outputs": [
    {
     "name": "stdout",
     "output_type": "stream",
     "text": [
      "[0, 1, 1, 2, 3, 5]\n"
     ]
    }
   ],
   "source": [
    "from typing import Generator\n",
    "\n",
    "def fib(n: int) -> Generator[int, None, None]:\n",
    "    a, b = 0, 1\n",
    "    while a < n:\n",
    "        yield a\n",
    "        a, b = b, a+b\n",
    "\n",
    "print([x for x in fib(6)])"
   ]
  },
  {
   "cell_type": "markdown",
   "metadata": {},
   "source": [
    "## Iterators"
   ]
  },
  {
   "cell_type": "code",
   "execution_count": 7,
   "metadata": {
    "ExecuteTime": {
     "end_time": "2019-06-11T13:25:42.265291Z",
     "start_time": "2019-06-11T13:25:42.259161Z"
    }
   },
   "outputs": [
    {
     "name": "stdout",
     "output_type": "stream",
     "text": [
      "[0, 1, 1, 2, 3, 5]\n"
     ]
    }
   ],
   "source": [
    "from typing import Iterator\n",
    "\n",
    "def fib(n: int) -> Iterator[int]:\n",
    "    a, b = 0, 1\n",
    "    while a < n:\n",
    "        yield a\n",
    "        a, b = b, a+b\n",
    "\n",
    "print([x for x in fib(6)])"
   ]
  },
  {
   "cell_type": "markdown",
   "metadata": {},
   "source": [
    "## Cheating"
   ]
  },
  {
   "cell_type": "code",
   "execution_count": 6,
   "metadata": {
    "ExecuteTime": {
     "end_time": "2019-05-26T12:16:22.632163Z",
     "start_time": "2019-05-26T12:16:22.611127Z"
    }
   },
   "outputs": [
    {
     "name": "stdout",
     "output_type": "stream",
     "text": [
      "ic> add(1, 2) : 3\n"
     ]
    },
    {
     "data": {
      "text/plain": [
       "3"
      ]
     },
     "execution_count": 6,
     "metadata": {},
     "output_type": "execute_result"
    }
   ],
   "source": [
    "from typing import Any\n",
    "\n",
    "def add(a: Any, b: Any) -> Any:\n",
    "    return a+b\n",
    "\n",
    "ic(add(1 , 2))"
   ]
  }
 ],
 "metadata": {
  "hide_input": false,
  "kernelspec": {
   "display_name": "Python 3",
   "language": "python",
   "name": "python3"
  },
  "language_info": {
   "codemirror_mode": {
    "name": "ipython",
    "version": 3
   },
   "file_extension": ".py",
   "mimetype": "text/x-python",
   "name": "python",
   "nbconvert_exporter": "python",
   "pygments_lexer": "ipython3",
   "version": "3.7.3"
  },
  "toc": {
   "base_numbering": 1,
   "nav_menu": {},
   "number_sections": false,
   "sideBar": true,
   "skip_h1_title": true,
   "title_cell": "Table of Contents",
   "title_sidebar": "Contents",
   "toc_cell": false,
   "toc_position": {},
   "toc_section_display": true,
   "toc_window_display": false
  }
 },
 "nbformat": 4,
 "nbformat_minor": 2
}
