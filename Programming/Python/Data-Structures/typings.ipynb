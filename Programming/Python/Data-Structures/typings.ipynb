{
 "cells": [
  {
   "cell_type": "markdown",
   "metadata": {},
   "source": [
    "# Typings\n",
    "\n",
    "\n",
    "* [PEP 484](https://www.python.org/dev/peps/pep-0484), [PEP 526](https://www.python.org/dev/peps/pep-0526), [PEP 544](https://www.python.org/dev/peps/pep-0544/)\n",
    "* https://docs.python.org/3/library/typing.html\n",
    "\n",
    "---\n",
    "```python\n",
    "def hello(world: str) -> str:\n",
    "    return 'Hello {}'.format(world)\n",
    "```\n",
    "---\n"
   ]
  },
  {
   "cell_type": "markdown",
   "metadata": {},
   "source": [
    "### Talks\n",
    "\n",
    "* [PyCon2019: Type hinting (and mypy)](https://www.youtube.com/watch?v=hTrjTAPnA_k) by Bernat Gabor (`mypy`)\n",
    "* [PyCon2019: Getting to Three Million Lines of Type-Annotated Python](https://www.youtube.com/watch?v=mh9jQSxzv0c) by Michael Sullivan (`mypy`)\n",
    "* [PyCon2019: Leveraging the Type System to Write Secure Applications](https://www.youtube.com/watch?v=ZplZ8ZBwu0Q) by Shannon Zhu (`pyre`)"
   ]
  },
  {
   "cell_type": "code",
   "execution_count": 5,
   "metadata": {
    "ExecuteTime": {
     "end_time": "2019-05-24T10:19:57.580161Z",
     "start_time": "2019-05-24T10:19:57.576995Z"
    }
   },
   "outputs": [],
   "source": [
    "import typing"
   ]
  },
  {
   "cell_type": "markdown",
   "metadata": {},
   "source": [
    "## Static Checkers\n",
    "\n",
    "* `mypy`     [github](https://github.com/python/mypy), [docs](http://mypy-lang.org/)\n",
    "* `pyre`     [github](https://github.com/facebook/pyre-check), [docs](https://pyre-check.org/docs/overview.html)\n",
    "* `pyright`  [github](https://github.com/Microsoft/pyright)\n",
    "* `pytype`   [github](https://github.com/google/pytype)"
   ]
  },
  {
   "cell_type": "code",
   "execution_count": null,
   "metadata": {},
   "outputs": [],
   "source": []
  }
 ],
 "metadata": {
  "hide_input": false,
  "kernelspec": {
   "display_name": "Python 3",
   "language": "python",
   "name": "python3"
  },
  "language_info": {
   "codemirror_mode": {
    "name": "ipython",
    "version": 3
   },
   "file_extension": ".py",
   "mimetype": "text/x-python",
   "name": "python",
   "nbconvert_exporter": "python",
   "pygments_lexer": "ipython3",
   "version": "3.7.3"
  },
  "toc": {
   "base_numbering": 1,
   "nav_menu": {},
   "number_sections": false,
   "sideBar": true,
   "skip_h1_title": true,
   "title_cell": "Table of Contents",
   "title_sidebar": "Contents",
   "toc_cell": false,
   "toc_position": {},
   "toc_section_display": true,
   "toc_window_display": false
  }
 },
 "nbformat": 4,
 "nbformat_minor": 2
}
