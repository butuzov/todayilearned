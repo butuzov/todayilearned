{
 "cells": [
  {
   "cell_type": "markdown",
   "metadata": {
    "toc": true
   },
   "source": [
    "<h1>Table of Contents<span class=\"tocSkip\"></span></h1>\n",
    "<div class=\"toc\"><ul class=\"toc-item\"><li><ul class=\"toc-item\"><li><span><a href=\"#iptables\" data-toc-modified-id=\"iptables-0.1\"><span class=\"toc-item-num\">0.1&nbsp;&nbsp;</span><code>iptables</code></a></span></li></ul></li><li><span><a href=\"#Monitoring\" data-toc-modified-id=\"Monitoring-1\"><span class=\"toc-item-num\">1&nbsp;&nbsp;</span>Monitoring</a></span><ul class=\"toc-item\"><li><span><a href=\"#last\" data-toc-modified-id=\"last-1.1\"><span class=\"toc-item-num\">1.1&nbsp;&nbsp;</span><code>last</code></a></span></li><li><span><a href=\"#top\" data-toc-modified-id=\"top-1.2\"><span class=\"toc-item-num\">1.2&nbsp;&nbsp;</span><code>top</code></a></span></li></ul></li><li><span><a href=\"#System-Information\" data-toc-modified-id=\"System-Information-2\"><span class=\"toc-item-num\">2&nbsp;&nbsp;</span>System Information</a></span><ul class=\"toc-item\"><li><span><a href=\"#uname\" data-toc-modified-id=\"uname-2.1\"><span class=\"toc-item-num\">2.1&nbsp;&nbsp;</span><code>uname</code></a></span></li></ul></li><li><span><a href=\"#Files-(Operations)\" data-toc-modified-id=\"Files-(Operations)-3\"><span class=\"toc-item-num\">3&nbsp;&nbsp;</span>Files (Operations)</a></span><ul class=\"toc-item\"><li><span><a href=\"#less\" data-toc-modified-id=\"less-3.1\"><span class=\"toc-item-num\">3.1&nbsp;&nbsp;</span><code>less</code></a></span><ul class=\"toc-item\"><li><span><a href=\"#Keyboard-shortcuts\" data-toc-modified-id=\"Keyboard-shortcuts-3.1.1\"><span class=\"toc-item-num\">3.1.1&nbsp;&nbsp;</span>Keyboard shortcuts</a></span></li><li><span><a href=\"#Forward-Search-Navigation\" data-toc-modified-id=\"Forward-Search-Navigation-3.1.2\"><span class=\"toc-item-num\">3.1.2&nbsp;&nbsp;</span>Forward Search Navigation</a></span></li><li><span><a href=\"#Backward-Search-Navigation\" data-toc-modified-id=\"Backward-Search-Navigation-3.1.3\"><span class=\"toc-item-num\">3.1.3&nbsp;&nbsp;</span>Backward Search Navigation</a></span></li><li><span><a href=\"#Line-Navigation\" data-toc-modified-id=\"Line-Navigation-3.1.4\"><span class=\"toc-item-num\">3.1.4&nbsp;&nbsp;</span>Line Navigation</a></span></li><li><span><a href=\"#Screen-Navigation\" data-toc-modified-id=\"Screen-Navigation-3.1.5\"><span class=\"toc-item-num\">3.1.5&nbsp;&nbsp;</span>Screen Navigation</a></span></li><li><span><a href=\"#Count-numbers-as-options\" data-toc-modified-id=\"Count-numbers-as-options-3.1.6\"><span class=\"toc-item-num\">3.1.6&nbsp;&nbsp;</span>Count numbers as options</a></span></li><li><span><a href=\"#Some-more-less-options\" data-toc-modified-id=\"Some-more-less-options-3.1.7\"><span class=\"toc-item-num\">3.1.7&nbsp;&nbsp;</span>Some more less options</a></span></li></ul></li><li><span><a href=\"#more\" data-toc-modified-id=\"more-3.2\"><span class=\"toc-item-num\">3.2&nbsp;&nbsp;</span><code>more</code></a></span></li></ul></li><li><span><a href=\"#Text-Tools\" data-toc-modified-id=\"Text-Tools-4\"><span class=\"toc-item-num\">4&nbsp;&nbsp;</span>Text Tools</a></span><ul class=\"toc-item\"><li><span><a href=\"#awk\" data-toc-modified-id=\"awk-4.1\"><span class=\"toc-item-num\">4.1&nbsp;&nbsp;</span><code>awk</code></a></span><ul class=\"toc-item\"><li><span><a href=\"#Resources:\" data-toc-modified-id=\"Resources:-4.1.1\"><span class=\"toc-item-num\">4.1.1&nbsp;&nbsp;</span>Resources:</a></span></li><li><span><a href=\"#Vars\" data-toc-modified-id=\"Vars-4.1.2\"><span class=\"toc-item-num\">4.1.2&nbsp;&nbsp;</span>Vars</a></span></li><li><span><a href=\"#Examples\" data-toc-modified-id=\"Examples-4.1.3\"><span class=\"toc-item-num\">4.1.3&nbsp;&nbsp;</span>Examples</a></span></li></ul></li><li><span><a href=\"#grep\" data-toc-modified-id=\"grep-4.2\"><span class=\"toc-item-num\">4.2&nbsp;&nbsp;</span><code>grep</code></a></span></li><li><span><a href=\"#printf\" data-toc-modified-id=\"printf-4.3\"><span class=\"toc-item-num\">4.3&nbsp;&nbsp;</span><code>printf</code></a></span></li><li><span><a href=\"#sed\" data-toc-modified-id=\"sed-4.4\"><span class=\"toc-item-num\">4.4&nbsp;&nbsp;</span><code>sed</code></a></span></li><li><span><a href=\"#tr\" data-toc-modified-id=\"tr-4.5\"><span class=\"toc-item-num\">4.5&nbsp;&nbsp;</span><code>tr</code></a></span></li><li><span><a href=\"#wc\" data-toc-modified-id=\"wc-4.6\"><span class=\"toc-item-num\">4.6&nbsp;&nbsp;</span><code>wc</code></a></span></li></ul></li></ul></div>"
   ]
  },
  {
   "cell_type": "markdown",
   "metadata": {},
   "source": [
    "# Commands\n",
    "\n",
    "<!-- @import \"[TOC]\" {cmd=\"toc\" depthFrom=2 depthTo=6 orderedList=false} -->\n",
    "\n",
    "<!-- code_chunk_output -->\n",
    "<!-- /code_chunk_output -->"
   ]
  },
  {
   "cell_type": "code",
   "execution_count": null,
   "metadata": {},
   "outputs": [],
   "source": []
  },
  {
   "cell_type": "code",
   "execution_count": null,
   "metadata": {},
   "outputs": [],
   "source": []
  },
  {
   "cell_type": "code",
   "execution_count": null,
   "metadata": {},
   "outputs": [],
   "source": [
    "## Network"
   ]
  },
  {
   "cell_type": "code",
   "execution_count": null,
   "metadata": {},
   "outputs": [],
   "source": []
  },
  {
   "cell_type": "markdown",
   "metadata": {
    "ExecuteTime": {
     "end_time": "2019-02-25T07:30:59.986674Z",
     "start_time": "2019-02-25T07:30:59.977531Z"
    }
   },
   "source": [
    "### `iptables`\n",
    "\n",
    "```bash\n",
    "echo 123\n",
    "```"
   ]
  },
  {
   "cell_type": "code",
   "execution_count": null,
   "metadata": {},
   "outputs": [],
   "source": []
  },
  {
   "cell_type": "code",
   "execution_count": null,
   "metadata": {},
   "outputs": [],
   "source": []
  },
  {
   "cell_type": "code",
   "execution_count": null,
   "metadata": {},
   "outputs": [],
   "source": []
  },
  {
   "cell_type": "code",
   "execution_count": null,
   "metadata": {},
   "outputs": [],
   "source": []
  },
  {
   "cell_type": "code",
   "execution_count": null,
   "metadata": {},
   "outputs": [],
   "source": []
  },
  {
   "cell_type": "code",
   "execution_count": null,
   "metadata": {},
   "outputs": [],
   "source": []
  },
  {
   "cell_type": "markdown",
   "metadata": {},
   "source": [
    "## Monitoring"
   ]
  },
  {
   "cell_type": "markdown",
   "metadata": {},
   "source": [
    "### `last`\n",
    "\n",
    "Last will list the sessions of specified u`ser`s, `tty`s, and `host`s, in reverse time order.\n",
    "\n",
    "```bash\n",
    "# Shows last reboot (ther is pseudo \"reboot\" user)\n",
    "last reboot\n",
    "\n",
    "# Show last user interactions\n",
    "last butuzov\n",
    "```"
   ]
  },
  {
   "cell_type": "markdown",
   "metadata": {},
   "source": [
    "### `top`\n",
    "\n",
    "![`top` by Julia Evans](images/top.jpg)"
   ]
  },
  {
   "cell_type": "markdown",
   "metadata": {},
   "source": [
    "## System Information"
   ]
  },
  {
   "cell_type": "markdown",
   "metadata": {},
   "source": [
    "### `uname`\n",
    "\n",
    "Print (Linux) operating system name. More @ [How to check OS and version using a Linux command](https://unix.stackexchange.com/questions/88644/how-to-check-os-and-version-using-a-linux-command)\n",
    "\n",
    " * `-a` Behave as though all of the options -mnrsv were specified.\n",
    " * `-m` print the machine hardware name.\n",
    " * `-n` print the nodename (the nodename may be a name that the system is known by to a communications network).\n",
    " * `-p` print the machine processor architecture name.\n",
    " * `-r` print the operating system release.\n",
    " * `-s` print the operating system name.\n",
    " * `-v` print the operating system version.\n"
   ]
  },
  {
   "cell_type": "markdown",
   "metadata": {},
   "source": []
  },
  {
   "cell_type": "markdown",
   "metadata": {},
   "source": [
    "## Files (Operations)"
   ]
  },
  {
   "cell_type": "markdown",
   "metadata": {},
   "source": [
    "### `less`\n",
    "\n",
    "![less by Julia Evans](images/less.jpg)\n",
    "\n",
    "```bash\n",
    "# view file via less\n",
    "less And_Then_There_Were_None.txt\n",
    "\n",
    "# same but strting from 6th line.\n",
    "less +6 And_Then_There_Were_None.txt\n",
    "```\n",
    "\n",
    "#### Keyboard shortcuts\n",
    "\n",
    "*   [Arrows]/[Page Up]/[Page Down]/[Home]/[End]: Navigation.\n",
    "*   [Space bar]: Next page.\n",
    "*   b: Previous page.\n",
    "*   ng: Jump to line number n. Default is the start of the file.\n",
    "*   nG: Jump to line number n. Default is the end of the file.\n",
    "*   /pattern: Search for pattern. Regular expressions can be used.\n",
    "*   n: Go to next match (after a successful search).\n",
    "*   N: Go to previous match.\n",
    "*   ‘^ or g: Go to start of file.\n",
    "*   ‘$ or G: Go to end of file.\n",
    "*   s: Save current content (got from another program like grep) in a file.\n",
    "*   =: File information.\n",
    "*   F: continually read information from file and follow its end. Useful for logs watching. Use Ctrl+C to exit this mode.\n",
    "*   -option: Toggle command-line option -option.\n",
    "*   h: Help.\n",
    "*   q or zz: Quit.\n",
    "\n",
    "#### Forward Search Navigation\n",
    "*  / – search for a pattern which will take you to the next occurrence.\n",
    "*  n – for next match in forward\n",
    "*  N – for previous match in backward\n",
    "\n",
    "#### Backward Search Navigation\n",
    "*  ? – search for a pattern which will take you to the previous occurrence.\n",
    "*  n – for next match in forward\n",
    "*  N – for previous match in backward\n",
    "\n",
    "#### Line Navigation\n",
    "\n",
    "*  j – navigate forward by one line\n",
    "*  k – navigate backward by one line\n",
    "\n",
    "\n",
    "#### Screen Navigation\n",
    "\n",
    "*  CTRL+D – forward half window\n",
    "*  CTRL+U – backward half window\n",
    "*  CTRL+F – forward one window\n",
    "*  CTRL+B – backward one window\n",
    "\n",
    "#### Count numbers as options\n",
    "\n",
    "*  5j – 5 lines forward.\n",
    "*  10k – 10 lines backward.\n",
    "\n",
    "####  Some more less options\n",
    "\n",
    "*  :p - Examine the previous file in the command line list.\n",
    "*  :d - Remove the current file from the list of files.\n",
    "*  v – using the configured editor edit the current file.\n",
    "*  &pattern – display only the matching lines, not all.\n",
    "*  CTRL+G – show the current file name along with line, byte and percentage statistics.\n",
    "*  mx – mark the current position with the letter `x`.\n",
    "*  ‘x – go to the marked position `x`.\n",
    "\n"
   ]
  },
  {
   "cell_type": "markdown",
   "metadata": {},
   "source": [
    "### `more`\n"
   ]
  },
  {
   "cell_type": "code",
   "execution_count": null,
   "metadata": {},
   "outputs": [],
   "source": []
  },
  {
   "cell_type": "code",
   "execution_count": null,
   "metadata": {},
   "outputs": [],
   "source": []
  },
  {
   "cell_type": "markdown",
   "metadata": {
    "ExecuteTime": {
     "end_time": "2019-02-25T07:41:16.383252Z",
     "start_time": "2019-02-25T07:41:16.379662Z"
    }
   },
   "source": [
    "## Text Tools"
   ]
  },
  {
   "cell_type": "markdown",
   "metadata": {},
   "source": [
    "### `awk`\n",
    " \n",
    "`awk` Pattern-directed scanning and processing language\n",
    "\n",
    "![awk by Julia Evans](images/awk.jpg)\n",
    "\n",
    "\n",
    "#### Resources:\n",
    "[awk-tutorial]: http://www.grymoire.com/Unix/Awk.html\n",
    "\n",
    "\n",
    "#### Vars\n",
    "\n",
    "   Keyword | Meaning\n",
    "-----------|---------\n",
    "  FS       | The Input Field Separator Variable\n",
    "  OFS      | The Output Field Separator Variable\n",
    "  NF       | The Number of Fields Variable\n",
    "  NR       | The Number of Records Variable\n",
    "  RS       | The Record Separator Variable\n",
    "  ORS      | The Output Record Separator Variable\n",
    "  FILENAME | The Current Filename Variable\n",
    "\n",
    "#### Examples\n",
    "\n",
    "```bash\n",
    "# 10 Little Soldiers - Causes of Deathes\n",
    "cat And_Then_There_Were_None.txt | awk '(NR-2)%3 == 0 {print $0}'\n",
    "> One choked his little self, and then there were nine.\n",
    "> One overslept himself, and then there were eight.\n",
    "> One said he'd stay there, and then there were seven.\n",
    "> One chopped himself in half, and then there were six.\n",
    "> A bumble-bee stung one, and then there were five.\n",
    "> One got in chancery, and then there were four.\n",
    "> A red herring swallowed one, and then there were three.\n",
    "> A big bear hugged one, and then there were two.\n",
    "> One got frizzled up, and then there was one.\n",
    "> He went and hanged himself and then there were none.\n",
    "```\n",
    "\n",
    "Simple `ansible` inventory generator\n",
    "\n",
    "```bash\n",
    "#!/usr/bin/env bash\n",
    "DIR=$(pwd | sed \"s/\\//\\\\\\\\\\//g\")\n",
    "\n",
    "echo \"[all:vars]\"\n",
    "echo \"ansible_connection=ssh\"\n",
    "echo \"ansible_user=vagrant\"\n",
    "echo \"ansible_host=127.0.0.1\"\n",
    "echo \"ansible_ssh_common_args='-o StrictHostKeyChecking=no'\"\n",
    "echo \"\"\n",
    "\n",
    "vagrant ssh-config| \\\n",
    "    grep -iE \"key|host|port\" | \\\n",
    "    grep -ivE \"strict|hosts\" | \\\n",
    "    sed \"s/^  //\" | \\\n",
    "    sed \"s/$DIR\\///\" | \\\n",
    "    awk '{\n",
    "        row= ( NR/4 == int(NR/4)) ? NR/4 : int(NR/4)+1;\n",
    "        if ( array[row] == \"\" ) {\n",
    "            array[row] = $2\n",
    "        } else {\n",
    "            array[row]= array[row] \" \" $2\n",
    "        }\n",
    "    }\n",
    "    END {\n",
    "        for( i=1; i<= row; i++){\n",
    "            print(  array[i] )\n",
    "        }\n",
    "    }\n",
    "    ' | \\\n",
    "    sed \"s/\\\"//g\" | \\\n",
    "    awk '{print $1, \"ansible_port=\"$3, \"ansible_private_key_file=\"$4}' | \\\n",
    "    awk '{\n",
    "        split( $1, a, /-/)\n",
    "        if ( groups[a[1]] == \"\" ){\n",
    "            groups[a[1]] = a[1]\n",
    "            printf(\"\\n[%s]\\n\", a[1])\n",
    "        }\n",
    "        print $1, $2, $3\n",
    "    }'\n",
    "```\n"
   ]
  },
  {
   "cell_type": "markdown",
   "metadata": {
    "ExecuteTime": {
     "end_time": "2019-02-25T07:44:06.606794Z",
     "start_time": "2019-02-25T07:44:06.586545Z"
    }
   },
   "source": [
    "### `grep`\n",
    "\n",
    "File pattern searcher\n",
    "\n",
    "![grep by Julia Evans](images/grep.jpg)\n",
    "\n",
    "```bash\n",
    "# search for \"HEY\" in text.txt and show lines that has it\n",
    "grep HEY text.txt\n",
    "\n",
    "# same as above AND highlight searched term\n",
    "grep --color=auto HEY text.txt\n",
    "\n",
    "# same as above AND lines surrounding match\n",
    "grep -C 1 -color=auto HEY text.txt\n",
    "\n",
    "# same as above AND case insensetive search\n",
    "grep -C 1 -color=auto -i HEY text.txt\n",
    "\n",
    "# almost same as above but inverted. shows everything that not match term\n",
    "grep -i -v HEY text.txt\n",
    "\n",
    "# Find the character 's' followed by 'pring'\n",
    "grep \"[s]pring\" text.txt\n",
    "\n",
    "# we can search in directories as well.\n",
    "grep -i password password-dn\n",
    "\n",
    "# we can search in directories as well (recursive search)\n",
    "grep -R password password-dn\n",
    "\n",
    "# treat binary as text\n",
    "grep -a password pass.bin\n",
    "\n",
    "# safe cleanup local pip folder\n",
    "python3 -m pip list | awk 'NR>2 {print $1}' | grep -Ev \"pip|setuptools|wheel\" | xargs -I {} sh -c \"python3 -m pip uninstall {} -y\"\n",
    "\n",
    "# getting local ip addresses info\n",
    "ifconfig | grep inet | grep -v inet6 | awk '{print $2}'\n",
    "```"
   ]
  },
  {
   "cell_type": "markdown",
   "metadata": {
    "ExecuteTime": {
     "end_time": "2019-02-25T07:54:42.125045Z",
     "start_time": "2019-02-25T07:54:42.111077Z"
    }
   },
   "source": [
    "### `printf`\n",
    "\n",
    "```bash\n",
    "# floats\n",
    "printf \"%.6f\" 0.65\n",
    "\n",
    "# repeated formating\n",
    "printf \"%4s;\" {1..4}\n",
    "```"
   ]
  },
  {
   "cell_type": "markdown",
   "metadata": {},
   "source": [
    "### `sed`\n",
    "\n",
    "![Stream Editor sed by Julia Evans](images/sed.jpg)"
   ]
  },
  {
   "cell_type": "markdown",
   "metadata": {
    "ExecuteTime": {
     "end_time": "2019-02-25T07:47:56.123762Z",
     "start_time": "2019-02-25T07:47:56.118324Z"
    }
   },
   "source": [
    "### `tr`\n",
    "\n",
    "Translate Characters\n",
    "\n",
    "```bash\n",
    "# Convert to uppercase\n",
    "cat filename.csv | tr '[A-Z]' '[a-z]'\n",
    "```"
   ]
  },
  {
   "cell_type": "markdown",
   "metadata": {},
   "source": [
    "### `wc`\n",
    "\n",
    "Word, Line, Character and Byte count\n",
    "\n",
    "```bash\n",
    "# count\n",
    "#   - characters\n",
    "wc -c file.txt\n",
    "\n",
    "#   - words\n",
    "wc -w file.txt\n",
    "\n",
    "#   - lines\n",
    "wc -l file.txt\n",
    "\n",
    "# like... all!\n",
    "wc -cmlw And_Then_There_Were_None.txt\n",
    "> 29 173 953 953 And_Then_There_Were_None.txt\n",
    "```"
   ]
  }
 ],
 "metadata": {
  "kernelspec": {
   "display_name": "Python 3",
   "language": "python",
   "name": "python3"
  },
  "language_info": {
   "codemirror_mode": {
    "name": "ipython",
    "version": 3
   },
   "file_extension": ".py",
   "mimetype": "text/x-python",
   "name": "python",
   "nbconvert_exporter": "python",
   "pygments_lexer": "ipython3",
   "version": "3.7.2"
  },
  "toc": {
   "base_numbering": 1,
   "nav_menu": {},
   "number_sections": true,
   "sideBar": true,
   "skip_h1_title": true,
   "title_cell": "Table of Contents",
   "title_sidebar": "Contents",
   "toc_cell": true,
   "toc_position": {},
   "toc_section_display": true,
   "toc_window_display": false
  }
 },
 "nbformat": 4,
 "nbformat_minor": 2
}
