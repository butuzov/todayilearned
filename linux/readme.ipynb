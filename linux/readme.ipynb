{
 "cells": [
  {
   "cell_type": "markdown",
   "metadata": {},
   "source": [
    "# Linux/Unix/macOS Shell Commands\n",
    "\n",
    "* https://en.wikipedia.org/wiki/List_of_Unix_commands\n",
    "* https://uk.wikipedia.org/wiki/Категорія:Стандартні_програми_для_Unix"
   ]
  },
  {
   "cell_type": "markdown",
   "metadata": {},
   "source": [
    "## Archives"
   ]
  },
  {
   "cell_type": "markdown",
   "metadata": {
    "heading_collapsed": true
   },
   "source": [
    "### `ar`\n",
    "\n",
    "Create and maintain library archives"
   ]
  },
  {
   "cell_type": "markdown",
   "metadata": {
    "hidden": true
   },
   "source": [
    "```bash\n",
    "# Compile c to object file.\n",
    "gcc -c libClib/*.c\n",
    "# check what we have\n",
    "file libC.o\n",
    "> libC.o: Mach-O 64-bit object x86_64\n",
    "ar rs libC.a *.o\n",
    "file libC.a\n",
    "libC.a: current ar archive random library\n",
    "```"
   ]
  },
  {
   "cell_type": "markdown",
   "metadata": {},
   "source": [
    "###  `tar`\n",
    "\n",
    "`tar` saves many files together into a single tape or disk archive, and can restore individual files from the archive"
   ]
  },
  {
   "cell_type": "markdown",
   "metadata": {},
   "source": [
    "\n",
    "![`tar` by Julia Evans](images/tar.jpg)\n",
    "\n",
    "```bash\n",
    "\n",
    "# zip folder `media` at /mnt into file `media.tar.gz`\n",
    "# and pipe output to /dev/null\n",
    "tar -zcvf ~/media.tar.gz -C /mnt media &> /dev/null\n",
    "\n",
    "# Let tar to find out which algorith to use for compression.\n",
    "tar acvf ~/media.tar.gz -C /mnt media &> /dev/null\n",
    "\n",
    "# Same, but tar\n",
    "tar -cvf ~/media.tar -C /mnt media &> /dev/null\n",
    "\n",
    "# Excluding files from archiving\n",
    "tar -cf notes.tar * --exclude \"*.md\"\n",
    "\n",
    "# Or using a list of patterns from file\n",
    "tar -cf notes.tar * --X list.file\n",
    "\n",
    "# Adding extra (folder) to existing tar\n",
    "tar -rvf ~/media.tar -C /mnt extra\n",
    "\n",
    "# Show tar contents\n",
    "tar -tf ~/media.tar\n",
    "\n",
    "# Untar into current directory\n",
    "tar -vxf ~/media.tar\n",
    "\n",
    "# merge to archivers\n",
    "tar -Af one.tar two.tar\n",
    "\n",
    "# add file if modified\n",
    "tar -uf notes.tar test.txt\n",
    "tar -uvvf notes.tar test.txt\n",
    "\n",
    "# delete \n",
    "tar -f notes.tar --delete test.txt\n",
    "```"
   ]
  },
  {
   "cell_type": "markdown",
   "metadata": {},
   "source": [
    "### `gunzip`\n",
    "\n",
    "Tool for Compression/decompression using Lempel-Ziv coding"
   ]
  },
  {
   "cell_type": "markdown",
   "metadata": {},
   "source": [
    "```bash\n",
    "# k - for keep file \n",
    "gunzip -k hello.gz\n",
    "```"
   ]
  },
  {
   "cell_type": "markdown",
   "metadata": {
    "ExecuteTime": {
     "end_time": "2019-03-01T10:08:01.193146Z",
     "start_time": "2019-03-01T10:08:01.187566Z"
    }
   },
   "source": [
    "### `zcat`\n",
    "\n",
    "Tool for Compression/decompression using Lempel-Ziv coding\n",
    "\n",
    "* linux  - `exec gzip -cd \"$@\"`\n",
    "* (don't use) macosx - binary "
   ]
  },
  {
   "cell_type": "markdown",
   "metadata": {},
   "source": [
    "## Network"
   ]
  },
  {
   "cell_type": "markdown",
   "metadata": {},
   "source": [
    "![](images/network.jpg)"
   ]
  },
  {
   "cell_type": "markdown",
   "metadata": {},
   "source": [
    "### `@traceroute`"
   ]
  },
  {
   "cell_type": "code",
   "execution_count": null,
   "metadata": {},
   "outputs": [],
   "source": []
  },
  {
   "cell_type": "code",
   "execution_count": null,
   "metadata": {},
   "outputs": [],
   "source": []
  },
  {
   "cell_type": "code",
   "execution_count": null,
   "metadata": {},
   "outputs": [],
   "source": []
  },
  {
   "cell_type": "markdown",
   "metadata": {
    "heading_collapsed": true
   },
   "source": [
    "### `curl`\n",
    "\n",
    "Transfer a URL."
   ]
  },
  {
   "cell_type": "markdown",
   "metadata": {
    "hidden": true
   },
   "source": [
    "`curl`  is  a  tool  to  transfer  data from or to a server, using one of the supported protocols (DICT, FILE, FTP, FTPS, GOPHER, HTTP, HTTPS, IMAP, IMAPS, LDAP, LDAPS, POP3, POP3S, RTMP, RTSP, SCP, SFTP, SMB, SMBS, SMTP, SMTPS,  TELNET  and TFTP). The command is designed to work without user interaction.\n",
    " \n",
    "![julia evans](images/curl.jpg)\n",
    "\n",
    "```bash\n",
    "# aliased curl download\n",
    "dl=\"curl -LO $URL\"\n",
    "\n",
    "# save files as\n",
    "curl -L $URL -o $FILE\n",
    "\n",
    "# keep it silent\n",
    "curl -Ls $URL -o $FILE\n",
    "```"
   ]
  },
  {
   "cell_type": "markdown",
   "metadata": {
    "ExecuteTime": {
     "end_time": "2019-02-25T07:30:59.986674Z",
     "start_time": "2019-02-25T07:30:59.977531Z"
    }
   },
   "source": [
    "### `iptables`\n",
    "\n",
    "```bash\n",
    "echo 123\n",
    "```"
   ]
  },
  {
   "cell_type": "markdown",
   "metadata": {
    "heading_collapsed": true
   },
   "source": [
    "### `mrt`\n",
    "\n",
    "A network diagnostic tool"
   ]
  },
  {
   "cell_type": "markdown",
   "metadata": {
    "hidden": true
   },
   "source": [
    "```bash\n",
    "mrt\n",
    "mrt --udp\n",
    "mrt --tcp\n",
    "mrt --sctp\n",
    "```"
   ]
  },
  {
   "cell_type": "markdown",
   "metadata": {},
   "source": [
    "### `ssh`\n",
    "\n",
    "`ssh`q (SSH client) is a program for logging into a remote machine and for executing commands on a remote machine"
   ]
  },
  {
   "cell_type": "markdown",
   "metadata": {},
   "source": [
    "![OpenSSH SSH client](images/ssh.jpg)\n",
    "\n",
    "```bash\n",
    "\n",
    "# Proxy Jump\n",
    "ssh -J user@example.com me@internal-host.lan\n",
    "\n",
    "# Running Command on remote host\n",
    "ssh made.ua \"echo 1\"\n",
    "\n",
    "# Bastion\n",
    "ssh made.ua \"ssh internal.made.ua \\\"echo 1\\\"\"\n",
    "\n",
    "# Create ~/media.tag.gz on hqweb3\n",
    "ssh made.ua \"ssh internal.made.ua \\\"tar -zcvf ~/media.tar.gz -C /mnt media &> /dev/null\\\"\"\n",
    "\n",
    "# Copy Over remote hosts\n",
    "ssh made.ua \"scp oleg@internal.made.ua:~/media.tar.gz ~/media.tar.gz\"\n",
    "```"
   ]
  },
  {
   "cell_type": "markdown",
   "metadata": {},
   "source": [
    "### `ssh-keygen`\n",
    "\n",
    "Authentication key generation, management and conversion"
   ]
  },
  {
   "cell_type": "markdown",
   "metadata": {},
   "source": [
    "```bash\n",
    "# Removes keys from hostname\n",
    "ssh-keygen -R <hostname>\n",
    "```"
   ]
  },
  {
   "cell_type": "markdown",
   "metadata": {},
   "source": [
    "### `@ssh-copy-id`\n",
    "\n",
    "Use locally available keys to authorise logins on a remote machine"
   ]
  },
  {
   "cell_type": "code",
   "execution_count": null,
   "metadata": {},
   "outputs": [],
   "source": []
  },
  {
   "cell_type": "markdown",
   "metadata": {},
   "source": [
    "## File System "
   ]
  },
  {
   "cell_type": "markdown",
   "metadata": {},
   "source": [
    " * https://www.thegeekstuff.com/2008/10/6-awesome-linux-cd-command-hacks-productivity-tip3-for-geeks/"
   ]
  },
  {
   "cell_type": "markdown",
   "metadata": {},
   "source": [
    "### `mdfind`\n",
    "\n",
    "macOS Spotfline Search"
   ]
  },
  {
   "cell_type": "markdown",
   "metadata": {
    "ExecuteTime": {
     "end_time": "2019-02-28T12:34:56.601813Z",
     "start_time": "2019-02-28T12:34:56.596087Z"
    }
   },
   "source": [
    "```bash\n",
    "mdfind search phraze -onlyin \"/Volumes/SharedDocuments\" | less\n",
    "```"
   ]
  },
  {
   "cell_type": "markdown",
   "metadata": {
    "heading_collapsed": true
   },
   "source": [
    "### `find`\n",
    "\n",
    "Walk a file hierarchy"
   ]
  },
  {
   "cell_type": "markdown",
   "metadata": {
    "hidden": true
   },
   "source": [
    "![find by Julia Evans](images/find.jpg)\n",
    "\n",
    "\n",
    "```bash\n",
    "# Searching for pattern *torrent* exceprt in ./Volumes\n",
    "find * -path ./Volumes -prune -o -name \"*torrent*\"\n",
    "\n",
    "# Searching and Executing Command ( -exec )\n",
    "find * -path ./Volumes -prune -o -name \"*torrent*\" -exec file -i '{}' \\;\n",
    "\n",
    "\n",
    "# basic 'find file' commands\n",
    "#--------------------------\n",
    "find / -name foo.txt -type f -print             # full command\n",
    "find / -name foo.txt -type f                    # -print isn't necessary\n",
    "find / -name foo.txt                            # don't have to specify \"type==file\"\n",
    "find . -name foo.txt                            # search under the current dir\n",
    "find . -name \"foo.*\"                            # wildcard\n",
    "find . -name \"*.txt\"                            # wildcard\n",
    "find /users/al -name Cookbook -type d           # search '/users/al' dir\n",
    "\n",
    "#search multiple dirs\n",
    "#--------------------\n",
    "find /opt /usr /var -name foo.scala -type f     # search multiple dirs\n",
    "\n",
    "# search by user\n",
    "#--------------------------\n",
    "find . -user butuzov\n",
    "\n",
    "# case-insensitive searching\n",
    "#--------------------------\n",
    "find . -iname foo                               # find foo, Foo, FOo, FOO, etc.\n",
    "find . -iname foo -type d                       # same thing, but only dirs\n",
    "find . -iname foo -type f                       # same thing, but only files\n",
    "\n",
    "# find files with different extensions\n",
    "#------------------------------------\n",
    "find . -type f \\( -name \"*.c\" -o -name \"*.sh\" \\)                       # *.c and *.sh files\n",
    "find . -type f \\( -name \"*cache\" -o -name \"*xml\" -o -name \"*html\" \\)   # three patterns\n",
    "\n",
    "# find files that don't match a pattern (-not)\n",
    "# --------------------------------------------\n",
    "find . -type f -not -name \"*.html\"                                # find all files not ending in \".html\"\n",
    "\n",
    "# find files by text in the file (find + grep)\n",
    "#--------------------------------------------\n",
    "find . -type f -name \"*.java\" -exec grep -l StringBuffer {} \\;    # find StringBuffer in all *.java files\n",
    "find . -type f -name \"*.java\" -exec grep -il string {} \\;         # ignore case with -i option\n",
    "find . -type f -name \"*.gz\" -exec zgrep 'GET /foo' {} \\;          # search for a string in gzip'd files\n",
    "\n",
    "# 5 lines before, 10 lines after grep matches\n",
    "-------------------------------------------\n",
    "find . -type f -name \"*.scala\" -exec grep -B5 -A10 'null' {} \\;\n",
    "# http://alvinalexander.com/linux-unix/find-grep-print-lines-before-after-search-term\n",
    "\n",
    "# find files and act on them (find + exec)\n",
    "#----------------------------------------\n",
    "find /usr/local -name \"*.html\" -type f -exec chmod 644 {} \\;      # change html files to mode 644\n",
    "find htdocs cgi-bin -name \"*.cgi\" -type f -exec chmod 755 {} \\;   # change cgi files to mode 755\n",
    "find . -name \"*.pl\" -exec ls -ld {} \\;                            # run ls command on files found\n",
    "\n",
    "# find and copy\n",
    "#-------------\n",
    "find . -type f -name \"*.mp3\" -exec cp {} /tmp/MusicFiles \\;       # cp *.mp3 files to /tmp/MusicFiles\n",
    "\n",
    "# copy one file to many dirs\n",
    "#--------------------------\n",
    "find dir1 dir2 dir3 dir4 -type d -exec cp header.shtml {} \\;      # copy the file header.shtml to those dirs\n",
    "\n",
    "# find and delete\n",
    "#---------------\n",
    "find . -type f -name \"Foo*\" -exec rm {} \\;                        # remove all \"Foo*\" files under current dir\n",
    "find . -type d -name CVS -exec rm -r {} \\;                        # remove all subdirectories named \"CVS\" under current dir\n",
    "\n",
    "# find files by modification time\n",
    "#-------------------------------\n",
    "find . -mtime 1               # 24 hours\n",
    "find . -mtime -7              # last 7 days\n",
    "find . -mtime -7 -type f      # just files\n",
    "find . -mtime -7 -type d      # just dirs\n",
    "\n",
    "# find files by modification time using a temp file\n",
    "#-------------------------------------------------\n",
    "touch 09301330 poop           # 1) create a temp file with a specific timestamp\n",
    "find . -mnewer poop           # 2) returns a list of new files\n",
    "rm poop                       # 3) rm the temp file\n",
    "\n",
    "# find with time: this works on mac os x\n",
    "#--------------------------------------\n",
    "find / -newerct '1 minute ago' -print\n",
    "\n",
    "# find and tar\n",
    "#------------\n",
    "find . -type f -name \"*.java\" | xargs tar cvf myfile.tar\n",
    "find . -type f -name \"*.java\" | xargs tar rvf myfile.tar\n",
    "\n",
    "# http://alvinalexander.com/blog/post/linux-unix/using-find-xargs-tar-create-huge-archive-cygwin-linux-unix\n",
    "\n",
    "# find, tar, and xargs\n",
    "#--------------------\n",
    "find . -name -type f '*.mp3' -mtime -180 -print0 | xargs -0 tar rvf music.tar\n",
    "# (-print0 helps handle spaces in filenames)\n",
    "# http://alvinalexander.com/mac-os-x/mac-backup-filename-directories-spaces-find-tar-xargs\n",
    "\n",
    "# find and pax (instead of xargs and tar)\n",
    "#---------------------------------------\n",
    "find . -type f -name \"*html\" | xargs tar cvf jw-htmlfiles.tar -\n",
    "find . -type f -name \"*html\" | pax -w -f jw-htmlfiles.tar\n",
    "# http://alvinalexander.com/blog/post/linux-unix/using-pax-instead-of-tar\n",
    "```\n"
   ]
  },
  {
   "cell_type": "markdown",
   "metadata": {
    "heading_collapsed": true
   },
   "source": [
    "### `ls`\n",
    "\n",
    "List directory contents"
   ]
  },
  {
   "cell_type": "markdown",
   "metadata": {
    "hidden": true
   },
   "source": [
    "```bash\n",
    "# One file/directory per line\n",
    "ls -1\n",
    "\n",
    "# human size\n",
    "ls -lah\n",
    "\n",
    "# time based order\n",
    "ls -lt\n",
    "\n",
    "# time based reverse order\n",
    "ls -ltr\n",
    "\n",
    "# Hidden withou . and ..\n",
    "ls -A\n",
    "\n",
    "# Hidden with\n",
    "ls -a\n",
    "\n",
    "# Inodes numbers\n",
    "ls -i\n",
    "\n",
    "# UID/GID\n",
    "ls -ln\n",
    "```\n",
    "\n",
    " inode  | Type-Permissions | Number of Links | Owner   | Group | Size | Last-Modified | Name\n",
    "--------|------------------|-----------------|---------|-------|------|---------------|-----------\n",
    "5649755 | drwxr-xr-x       | 70              | butuzov | staff | 2380 | Jan 23 23:45  | KubeCon-2018\n",
    "3990493 | drwxr-xr-x       | 56              | butuzov | staff | 1904 | Jan  2 13:13  | GopherCon-2017\n"
   ]
  },
  {
   "cell_type": "markdown",
   "metadata": {
    "heading_collapsed": true
   },
   "source": [
    "### `ln`\n",
    "\n",
    "Make links between files"
   ]
  },
  {
   "cell_type": "markdown",
   "metadata": {
    "ExecuteTime": {
     "end_time": "2019-02-27T15:24:11.320158Z",
     "start_time": "2019-02-27T15:24:11.305847Z"
    },
    "hidden": true
   },
   "source": [
    "```bash\n",
    "ln -s Original/File_Location Target/File_Location\n",
    "\n",
    "# Correct way\n",
    "ln -s ../../../../WP_Plugins_Dev/Yojimbo  Yojimbo && ls -la\n",
    "\n",
    "> drwxr-xr-x@  7 butuzov  admin   238 Mar 13 18:14 .\n",
    "> drwxr-xr-x@ 11 butuzov  admin   374 Mar 13 18:00 ..\n",
    "> lrwxr-xr-x   1 butuzov  admin    34 Mar 13 18:14 Yojimbo -> ../../../../WP_Plugins_Dev/Yojimbo\n",
    "\n",
    "# Incorrect way\n",
    "ln -s Yojimbo ../www.made.ua/www-main/wp-content/plugins \\\n",
    "  && cd ../www.made.ua/www-main/wp-content/plugins \\\n",
    "  && ls -la\n",
    "\n",
    "> drwxr-xr-x@  7 butuzov  admin   238 Mar 13 18:09 .\n",
    "> drwxr-xr-x@ 11 butuzov  admin   374 Mar 13 18:00 ..\n",
    "> lrwxr-xr-x   1 butuzov  admin    10 Mar 13 18:09 Yojimbo -> Yojimbo\n",
    "\n",
    "\n",
    "# creates links for cuda libraries\n",
    "CUDA_LOCATION=/Developer/NVIDIA/CUDA-9.1/lib/\n",
    "ls -l $CUDA_LOCATION \\\n",
    "    | awk '{print $9}' \\\n",
    "    | xargs  -I {} sh -c \"ln -s $CUDA_LOCATION{} /usr/local/lib/{}\"\n",
    "```"
   ]
  },
  {
   "cell_type": "markdown",
   "metadata": {
    "heading_collapsed": true
   },
   "source": [
    "### `lsof`\n",
    "\n",
    "List open files"
   ]
  },
  {
   "cell_type": "markdown",
   "metadata": {
    "hidden": true
   },
   "source": [
    "![lsof by Julia Evans](images/lsof.jpg)\n",
    "\n",
    "\n",
    "cmd | explaintion\n",
    "----|------------\n",
    "`lsof` | List open files.\n",
    "`lsof -i :PORT` | Shows networking related port\n",
    "`lsof -i@IP` | Shows connections to a specific host\n",
    "`lsof -i -sTCP:LISTEN` | Shows listening ports\n",
    "`lsof -i -sTCP:ESTABLISHED` | Shows established connections\n",
    "`lsof -u USER` | What user opens\n",
    "`lsof DIR` | Shows everything interacting with a given DIR\n",
    "`lsof -i :PORT` | Shows which process uses the port\n",
    "\n",
    "```bash\n",
    "# What lisning port 80 ?\n",
    "lsof -i :80\n",
    "\n",
    "# Opened by process (ID)\n",
    "lsof -p 17426\n",
    "\n",
    "# Opened ports\n",
    "lsof | grep LISTEN\n",
    "\n",
    "# List all Network File System(NFS) files\n",
    "lsof -N\n",
    "\n",
    "# List all TCP or UDP connections\n",
    "lsof -i tcp\n",
    "lsof -i udp\n",
    "\n",
    "# Kill all process that belongs to what you find out (-t returns process id list)\n",
    "kill -9 `lsof -t options`\n",
    "\n",
    "# Execute lsof in repeat mode (-r will continue to list, delay, list until a interrupt is given. +r will end when no open files are found.)\n",
    "lsof /path-of-a-file -r5\n",
    "\n",
    "# List opened files under a directory (+D will recurse the sub directories also)\n",
    "lsof +D /path-of-a-directory\n",
    "\n",
    "# List opened files based on process names starting with (You can give multiple -c switch on a single command line)\n",
    "lsof -c ssh -c init\n",
    "\n",
    "# List files opened by a specific user\n",
    "lsof -u username\n",
    "```"
   ]
  },
  {
   "cell_type": "markdown",
   "metadata": {
    "heading_collapsed": true
   },
   "source": [
    "### `file`\n",
    "\n",
    "Determine file type"
   ]
  },
  {
   "cell_type": "markdown",
   "metadata": {
    "ExecuteTime": {
     "end_time": "2019-02-27T15:50:07.676579Z",
     "start_time": "2019-02-27T15:50:07.671402Z"
    },
    "hidden": true
   },
   "source": [
    "```bash\n",
    "# usage \n",
    "file text.txt \n",
    "```"
   ]
  },
  {
   "cell_type": "markdown",
   "metadata": {},
   "source": [
    "## Monitoring & Processes"
   ]
  },
  {
   "cell_type": "markdown",
   "metadata": {
    "heading_collapsed": true
   },
   "source": [
    "### `kill`\n",
    "\n",
    "Send signals to processes, or list signals"
   ]
  },
  {
   "cell_type": "markdown",
   "metadata": {
    "hidden": true
   },
   "source": [
    "```bash\n",
    "# kill it with a fire (no safety)\n",
    "kill -9 ${PROC_ID}\n",
    "kill -KILL ${PROC_ID}\n",
    "\n",
    "# kill it gracefuly\n",
    "kill - TERM ${PROC_ID}\n",
    "\n",
    "# kill it gracefuly\n",
    "kill - TERM ${PROC_ID}\n",
    "```"
   ]
  },
  {
   "cell_type": "markdown",
   "metadata": {
    "heading_collapsed": true
   },
   "source": [
    "### `last`\n",
    "\n",
    "Last will list the sessions of specified u`ser`s, `tty`s, and `host`s, in reverse time order."
   ]
  },
  {
   "cell_type": "markdown",
   "metadata": {
    "hidden": true
   },
   "source": [
    "```bash\n",
    "# Shows last reboot (ther is pseudo \"reboot\" user)\n",
    "last reboot\n",
    "\n",
    "# Show last user interactions\n",
    "last butuzov\n",
    "```"
   ]
  },
  {
   "cell_type": "markdown",
   "metadata": {
    "heading_collapsed": true
   },
   "source": [
    "### `pidof`\n",
    "\n",
    "Find the process ID of a running program.  "
   ]
  },
  {
   "cell_type": "markdown",
   "metadata": {
    "hidden": true
   },
   "source": [
    "\n",
    "```bash\n",
    "pidof bash\n",
    "> 4014\n",
    "```"
   ]
  },
  {
   "cell_type": "markdown",
   "metadata": {
    "heading_collapsed": true
   },
   "source": [
    "### `ps`\n",
    "\n",
    "Report a snapshot of the current processes"
   ]
  },
  {
   "cell_type": "markdown",
   "metadata": {
    "hidden": true
   },
   "source": [
    "```bash\n",
    "# getting info about bash comand\n",
    "ps -C bash\n",
    "\n",
    "# show... well everything.\n",
    "ps -eafw\n",
    "\n",
    "# list of options\n",
    "ps -L\n",
    "\n",
    "# @TEST show procs ids as tree\n",
    "ps -e -o pid,args --forest\n",
    "```"
   ]
  },
  {
   "cell_type": "markdown",
   "metadata": {
    "heading_collapsed": true
   },
   "source": [
    "### `top`\n",
    " \n",
    "Display Linux processes"
   ]
  },
  {
   "cell_type": "markdown",
   "metadata": {
    "hidden": true
   },
   "source": [
    "![`top` by Julia Evans](images/top.jpg)"
   ]
  },
  {
   "cell_type": "markdown",
   "metadata": {},
   "source": [
    "## System Information"
   ]
  },
  {
   "cell_type": "markdown",
   "metadata": {},
   "source": [
    "### `uname`\n",
    "\n",
    "Print (Linux) operating system name."
   ]
  },
  {
   "cell_type": "markdown",
   "metadata": {},
   "source": [
    " * `-a` Behave as though all of the options -mnrsv were specified.\n",
    " * `-m` print the machine hardware name.\n",
    " * `-n` print the nodename (the nodename may be a name that the system is known by to a communications network).\n",
    " * `-p` print the machine processor architecture name.\n",
    " * `-r` print the operating system release.\n",
    " * `-s` print the operating system name.\n",
    " * `-v` print the operating system version.\n",
    " \n",
    "**example**\n",
    "\n",
    "```bash\n",
    "uname -a\n",
    "```\n",
    "\n",
    "**Alternatives**\n",
    "\n",
    "* [How to check OS and version using a Linux command](https://unix.stackexchange.com/questions/88644)\n",
    "* [How do I identify which Linux distro is running?](https://unix.stackexchange.com/questions/35183)\n",
    " \n",
    " "
   ]
  },
  {
   "cell_type": "code",
   "execution_count": null,
   "metadata": {},
   "outputs": [],
   "source": []
  },
  {
   "cell_type": "code",
   "execution_count": null,
   "metadata": {},
   "outputs": [],
   "source": []
  },
  {
   "cell_type": "markdown",
   "metadata": {
    "ExecuteTime": {
     "end_time": "2019-02-27T05:59:16.584195Z",
     "start_time": "2019-02-27T05:59:16.579999Z"
    }
   },
   "source": [
    "## Development, Testing & Debug"
   ]
  },
  {
   "cell_type": "markdown",
   "metadata": {},
   "source": [
    "### `@mmap`\n",
    "\n",
    "Allocate memory, or map files or devices into memory"
   ]
  },
  {
   "cell_type": "markdown",
   "metadata": {
    "ExecuteTime": {
     "end_time": "2019-03-01T14:08:56.975283Z",
     "start_time": "2019-03-01T14:08:56.835662Z"
    }
   },
   "source": [
    "![](images/mmap.jpg)"
   ]
  },
  {
   "cell_type": "code",
   "execution_count": null,
   "metadata": {},
   "outputs": [],
   "source": []
  },
  {
   "cell_type": "markdown",
   "metadata": {
    "heading_collapsed": true
   },
   "source": [
    "### `@strace`"
   ]
  },
  {
   "cell_type": "markdown",
   "metadata": {
    "hidden": true
   },
   "source": [
    "* https://zipizap.wordpress.com/tag/strace/\n",
    "\n",
    "```bash\n",
    "# Trace the Execution of an Executable\n",
    "strace ls\n",
    "# -----\n",
    "# Trace a Specific System Calls in an Executable Using Option -e\n",
    "strace -e open ls\n",
    "# If you want to trace multiple system calls use the “-e trace=” option. \n",
    "# The following example displays both open and read system calls.\n",
    "strace -e trace=open,read ls /home\n",
    "# -----\n",
    "# Save the Trace Execution to a File Using Option -o\n",
    "strace -o output.txt ls\n",
    "# -----\n",
    "# Execute Strace on a Running Linux Process Using Option -p\n",
    "# first, we need to get PID of running process.\n",
    "ps -C firefox-bin\n",
    "# second use it to capture execution\n",
    "sudo strace -p ${PID} -o firefox_trace.txt\n",
    "# and looking live on it\n",
    "tail -f firefox_trace.txt\n",
    "# -----\n",
    "# Print Timestamp for Each Trace Output Line Using Option -t\n",
    "strace -t -e open ls /home\n",
    "# -----\n",
    "# Print Relative Time for System Calls Using Option -r\n",
    "strace -r ls \n",
    "# Generate Statistics Report of System Calls Using Option -c\n",
    "strace -c ls /home\n",
    "#------\n",
    "# get ioctl \n",
    "strace find /usr 2>&1 | grep ioctl\n",
    "```"
   ]
  },
  {
   "cell_type": "markdown",
   "metadata": {
    "heading_collapsed": true
   },
   "source": [
    "### `dtrace`"
   ]
  },
  {
   "cell_type": "markdown",
   "metadata": {
    "hidden": true
   },
   "source": [
    "```bash\n",
    "# http://dtrace.org/blogs/\n",
    "\n",
    "```"
   ]
  },
  {
   "cell_type": "markdown",
   "metadata": {
    "ExecuteTime": {
     "end_time": "2019-02-27T05:59:41.328881Z",
     "start_time": "2019-02-27T05:59:41.324913Z"
    },
    "heading_collapsed": true
   },
   "source": [
    "### `dtruss`\n",
    "\n",
    "Available on `macOS` intead `dtrace`."
   ]
  },
  {
   "cell_type": "markdown",
   "metadata": {
    "hidden": true
   },
   "source": [
    "```bash\n",
    "sudo dtrace cat romeo-and-juliet.txt\n",
    "> get your syscalls back\n",
    "```"
   ]
  },
  {
   "cell_type": "markdown",
   "metadata": {},
   "source": [
    "### `@ldd` "
   ]
  },
  {
   "cell_type": "markdown",
   "metadata": {
    "ExecuteTime": {
     "end_time": "2019-02-27T15:40:10.192706Z",
     "start_time": "2019-02-27T15:40:10.176817Z"
    },
    "heading_collapsed": true
   },
   "source": [
    "### `time`\n",
    "\n",
    "Time command execution"
   ]
  },
  {
   "cell_type": "markdown",
   "metadata": {
    "ExecuteTime": {
     "end_time": "2019-02-27T15:40:23.376038Z",
     "start_time": "2019-02-27T15:40:23.369499Z"
    },
    "hidden": true
   },
   "source": [
    "```bash\n",
    "time ./slowslowslow.sh\n",
    "\n",
    "real\t0m0.000s\n",
    "user\t0m0.000s\n",
    "sys\t0m0.000s\n",
    "```"
   ]
  },
  {
   "cell_type": "markdown",
   "metadata": {
    "heading_collapsed": true
   },
   "source": [
    "###  `expr`\n",
    "\n",
    "Evaluate expressions"
   ]
  },
  {
   "cell_type": "markdown",
   "metadata": {
    "hidden": true
   },
   "source": [
    "```bash\n",
    "> expr 4 '<=' 6\n",
    "1\n",
    "```\n",
    "\n",
    "\n",
    "|  Expression                 | Description                \n",
    "|-----------------------------|-------------------------------------------------------\n",
    "  <code>A &#124; B</code>     | A if it is neither null nor 0, otherwise B\n",
    "  `A & B`                     | A if neither argument is null or 0, otherwise 0\n",
    "  `A < B`                     | A is less than B\n",
    "  `A <= B`                    | A is less than or equal to B\n",
    "  `A = B`                     | A is equal to B\n",
    "  `A != B`                    | A is unequal to B\n",
    "  `A >= B`                    | A is greater than or equal to B\n",
    "  `A > B`                     | A is greater than B\n",
    "  `A + B`                     | arithmetic sum of A and B\n",
    "  `A - B`                     | arithmetic difference of A and B\n",
    "  `A * B`                     | arithmetic product of A and B\n",
    "  `A / B`                     | arithmetic quotient of A divided by B\n",
    "  `A % B`                     | arithmetic remainder of A divided by B\n",
    "  `STRING : REGEXP`           | anchored pattern match of REGEXP in STRING\n",
    "  `match STRING REGEXP`       | same as STRING : REGEXP\n",
    "  `substr STRING POS LENGTH`  | substring of STRING, POS counted from 1\n",
    "  `index STRING CHARS`        | index in STRING where any CHARS is found, or 0\n",
    "  `length STRING`             | length of STRING\n",
    "  `+ TOKEN`                   | interpret TOKEN as a string, even if it is a<br> keyword like 'match' or an operator like '/'\n",
    " `( EXPRESSION )`             | value of EXPRESSION"
   ]
  },
  {
   "cell_type": "markdown",
   "metadata": {
    "heading_collapsed": true
   },
   "source": [
    "### `test`\n",
    "\n",
    "Check file types and compare values"
   ]
  },
  {
   "cell_type": "markdown",
   "metadata": {
    "hidden": true
   },
   "source": [
    "```bash\n",
    "> test 4 -lt 6\n",
    "# Info about result in the exitcode\n",
    "> echo $?\n",
    "0\n",
    "\n",
    "> test 4 -gt `> echo $?\n",
    "1\n",
    "\n",
    "# or\n",
    "echo $(test 4 -lt 6) $?\n",
    "\n",
    "# or\n",
    "test 4 -lt 6 && echo 1 || echo 0\n",
    "```\n",
    "\n",
    "  Example | Description\n",
    "----------|--------------\n",
    "`-b file`            | True if file exists and is a block special file.\n",
    "`-c file`            | True if file exists and is a character special file.\n",
    "`-d file`            | True if file exists and is a directory.\n",
    "`-e file`            | True if file exists (regardless of type).\n",
    "`-f file`            | True if file exists and is a regular file.\n",
    "`-g file`            | True if file exists and its set group ID flag is set.\n",
    "`-h file`            | True if file exists and is a symbolic link.\n",
    "`-k file`            | True if file exists and its sticky bit is set.\n",
    "`-n string`          | True if the length of string is nonzero.\n",
    "`-p file`            | True if file is a named pipe (FIFO).\n",
    "`-r file`            | True if file exists and is readable.\n",
    "`-s file`            | True if file exists and has a size greater than zero.\n",
    "`-t file_descriptor` | True if the file whose file descriptor number is file_descriptor is open and is associated with a terminal.\n",
    "`-u file`            | True if file exists and its set user ID flag is set.\n",
    "`-w file`            | True if file exists and is writable.  True indicates only that the write flag is on.  The file is not writable on a read-only file system even if this test indicates true.\n",
    "`-x file`            | True if file exists and is executable.  True indicates only that the execute flag is on.  If file is a directory, true indicates that file can be searched.\n",
    "`-z string`          | True if the length of string is zero.\n",
    "`-L file`            | True if file exists and is a symbolic link.\n",
    "`-O file`            | True if file exists and its owner matches the effective user id of this process.\n",
    "`-G file`            | True if file exists and its group matches the effective group id of this process.\n",
    "`-S file`            | True if file exists and is a socket.\n",
    "`file1 -nt file2`    | True if file1 exists and is newer than file2.\n",
    "`file1 -ot file2`    | True if file1 exists and is older than file2.\n",
    "`file1 -ef file2`    | True if file1 and file2 exist and refer to the same file.\n",
    "`string`             | True if string is not the null string.\n",
    "`s1 = s2`            | True if the strings s1 and s2 are identical.\n",
    "`s1 != s2`           | True if the strings s1 and s2 are not identical.\n",
    "`s1 < s2`            | True if string s1 comes before s2 based on the binary value of their characters.\n",
    "`s1 > s2`            | True if string s1 comes after s2 based on the binary value of their characters.\n",
    "`n1 -eq n2`          | True if the integers n1 and n2 are algebraically equal.\n",
    "`n1 -ne n2`          | True if the integers n1 and n2 are not algebraically equal.\n",
    "`n1 -gt n2`          | True if the integer n1 is algebraically greater than the integer n2.\n",
    "`n1 -ge n2`          | True if the integer n1 is algebraically greater than or equal to the integer n2.\n",
    "`n1 -lt n2`          | True if the integer n1 is algebraically less than the integer n2.\n",
    "`n1 -le n2`          | True if the integer n1 is algebraically less than or equal to the integer n2.\n"
   ]
  },
  {
   "cell_type": "code",
   "execution_count": null,
   "metadata": {
    "hidden": true
   },
   "outputs": [],
   "source": []
  },
  {
   "cell_type": "markdown",
   "metadata": {
    "hidden": true
   },
   "source": []
  },
  {
   "cell_type": "markdown",
   "metadata": {
    "heading_collapsed": true
   },
   "source": [
    "## Files (Operations)"
   ]
  },
  {
   "cell_type": "markdown",
   "metadata": {
    "heading_collapsed": true,
    "hidden": true
   },
   "source": [
    "### `less`\n",
    "\n",
    "Opposite of more\n"
   ]
  },
  {
   "cell_type": "markdown",
   "metadata": {
    "hidden": true
   },
   "source": [
    "\n",
    "![less by Julia Evans](images/less.jpg)\n",
    "\n",
    "```bash\n",
    "# view file via less\n",
    "less And_Then_There_Were_None.txt\n",
    "\n",
    "# same but strting from 6th line.\n",
    "less +6 And_Then_There_Were_None.txt\n",
    "```\n",
    "\n",
    "*Keyboard shortcuts*\n",
    "\n",
    "*   [Arrows]/[Page Up]/[Page Down]/[Home]/[End]: Navigation.\n",
    "*   [Space bar]: Next page.\n",
    "*   b: Previous page.\n",
    "*   ng: Jump to line number n. Default is the start of the file.\n",
    "*   nG: Jump to line number n. Default is the end of the file.\n",
    "*   /pattern: Search for pattern. Regular expressions can be used.\n",
    "*   n: Go to next match (after a successful search).\n",
    "*   N: Go to previous match.\n",
    "*   ‘^ or g: Go to start of file.\n",
    "*   ‘$ or G: Go to end of file.\n",
    "*   s: Save current content (got from another program like grep) in a file.\n",
    "*   =: File information.\n",
    "*   F: continually read information from file and follow its end. Useful for logs watching. Use Ctrl+C to exit this mode.\n",
    "*   -option: Toggle command-line option -option.\n",
    "*   h: Help.\n",
    "*   q or zz: Quit.\n",
    "\n",
    "*Forward Search Navigation*\n",
    "\n",
    "*  / – search for a pattern which will take you to the next occurrence.\n",
    "*  n – for next match in forward\n",
    "*  N – for previous match in backward\n",
    "\n",
    "*Backward Search Navigation*\n",
    "\n",
    "*  ? – search for a pattern which will take you to the previous occurrence.\n",
    "*  n – for next match in forward\n",
    "*  N – for previous match in backward\n",
    "\n",
    "*Line Navigation*\n",
    "\n",
    "*  j – navigate forward by one line\n",
    "*  k – navigate backward by one line\n",
    "\n",
    "\n",
    "*Screen Navigation*\n",
    "\n",
    "*  CTRL+D – forward half window\n",
    "*  CTRL+U – backward half window\n",
    "*  CTRL+F – forward one window\n",
    "*  CTRL+B – backward one window\n",
    "\n",
    "*Count numbers as options*\n",
    "\n",
    "*  5j – 5 lines forward.\n",
    "*  10k – 10 lines backward.\n",
    "\n",
    "*Some more less options*\n",
    "\n",
    "*  :p - Examine the previous file in the command line list.\n",
    "*  :d - Remove the current file from the list of files.\n",
    "*  v – using the configured editor edit the current file.\n",
    "*  &pattern – display only the matching lines, not all.\n",
    "*  CTRL+G – show the current file name along with line, byte and percentage statistics.\n",
    "*  mx – mark the current position with the letter `x`.\n",
    "*  ‘x – go to the marked position `x`.\n",
    "\n"
   ]
  },
  {
   "cell_type": "markdown",
   "metadata": {
    "hidden": true
   },
   "source": [
    "### `more`\n"
   ]
  },
  {
   "cell_type": "code",
   "execution_count": null,
   "metadata": {
    "hidden": true
   },
   "outputs": [],
   "source": []
  },
  {
   "cell_type": "code",
   "execution_count": null,
   "metadata": {
    "hidden": true
   },
   "outputs": [],
   "source": []
  },
  {
   "cell_type": "markdown",
   "metadata": {
    "ExecuteTime": {
     "end_time": "2019-02-25T07:41:16.383252Z",
     "start_time": "2019-02-25T07:41:16.379662Z"
    }
   },
   "source": [
    "## Text Tools"
   ]
  },
  {
   "cell_type": "markdown",
   "metadata": {},
   "source": [
    "### TODO\n",
    "\n",
    "* http://www.theunixschool.com/2012/07/10-examples-of-paste-command-usage-in.html    "
   ]
  },
  {
   "cell_type": "markdown",
   "metadata": {
    "heading_collapsed": true
   },
   "source": [
    "### `awk`\n",
    " \n",
    "Pattern-directed scanning and processing language"
   ]
  },
  {
   "cell_type": "markdown",
   "metadata": {
    "hidden": true
   },
   "source": [
    "\n",
    "![awk by Julia Evans](images/awk.jpg)\n",
    "\n",
    "\n",
    "**Resources**\n",
    " * http://www.grymoire.com/Unix/Awk.html\n",
    "\n",
    "\n",
    "**Vars**\n",
    "\n",
    "   Keyword | Meaning\n",
    "-----------|---------\n",
    "  FS       | The Input Field Separator Variable\n",
    "  OFS      | The Output Field Separator Variable\n",
    "  NF       | The Number of Fields Variable\n",
    "  NR       | The Number of Records Variable\n",
    "  RS       | The Record Separator Variable\n",
    "  ORS      | The Output Record Separator Variable\n",
    "  FILENAME | The Current Filename Variable\n",
    "\n",
    "**Examples**\n",
    "\n",
    "```bash\n",
    "# 10 Little Soldiers - Causes of Deathes\n",
    "cat And_Then_There_Were_None.txt | awk '(NR-2)%3 == 0 {print $0}'\n",
    "> One choked his little self, and then there were nine.\n",
    "> One overslept himself, and then there were eight.\n",
    "> One said he'd stay there, and then there were seven.\n",
    "> One chopped himself in half, and then there were six.\n",
    "> A bumble-bee stung one, and then there were five.\n",
    "> One got in chancery, and then there were four.\n",
    "> A red herring swallowed one, and then there were three.\n",
    "> A big bear hugged one, and then there were two.\n",
    "> One got frizzled up, and then there was one.\n",
    "> He went and hanged himself and then there were none.\n",
    "```\n",
    "\n",
    "Simple `ansible` inventory generator\n",
    "\n",
    "```bash\n",
    "#!/usr/bin/env bash\n",
    "DIR=$(pwd | sed \"s/\\//\\\\\\\\\\//g\")\n",
    "\n",
    "echo \"[all:vars]\"\n",
    "echo \"ansible_connection=ssh\"\n",
    "echo \"ansible_user=vagrant\"\n",
    "echo \"ansible_host=127.0.0.1\"\n",
    "echo \"ansible_ssh_common_args='-o StrictHostKeyChecking=no'\"\n",
    "echo \"\"\n",
    "\n",
    "vagrant ssh-config| \\\n",
    "    grep -iE \"key|host|port\" | \\\n",
    "    grep -ivE \"strict|hosts\" | \\\n",
    "    sed \"s/^  //\" | \\\n",
    "    sed \"s/$DIR\\///\" | \\\n",
    "    awk '{\n",
    "        row= ( NR/4 == int(NR/4)) ? NR/4 : int(NR/4)+1;\n",
    "        if ( array[row] == \"\" ) {\n",
    "            array[row] = $2\n",
    "        } else {\n",
    "            array[row]= array[row] \" \" $2\n",
    "        }\n",
    "    }\n",
    "    END {\n",
    "        for( i=1; i<= row; i++){\n",
    "            print(  array[i] )\n",
    "        }\n",
    "    }\n",
    "    ' | \\\n",
    "    sed \"s/\\\"//g\" | \\\n",
    "    awk '{print $1, \"ansible_port=\"$3, \"ansible_private_key_file=\"$4}' | \\\n",
    "    awk '{\n",
    "        split( $1, a, /-/)\n",
    "        if ( groups[a[1]] == \"\" ){\n",
    "            groups[a[1]] = a[1]\n",
    "            printf(\"\\n[%s]\\n\", a[1])\n",
    "        }\n",
    "        print $1, $2, $3\n",
    "    }'\n",
    "```\n"
   ]
  },
  {
   "cell_type": "markdown",
   "metadata": {
    "ExecuteTime": {
     "end_time": "2019-02-25T07:44:06.606794Z",
     "start_time": "2019-02-25T07:44:06.586545Z"
    },
    "heading_collapsed": true
   },
   "source": [
    "### `grep`\n",
    "\n",
    "File pattern searcher"
   ]
  },
  {
   "cell_type": "markdown",
   "metadata": {
    "hidden": true
   },
   "source": [
    "\n",
    "![grep by Julia Evans](images/grep.jpg)\n",
    "\n",
    "```bash\n",
    "# search for \"HEY\" in text.txt and show lines that has it\n",
    "grep HEY text.txt\n",
    "\n",
    "# same as above AND highlight searched term\n",
    "grep --color=auto HEY text.txt\n",
    "\n",
    "# same as above AND lines surrounding match\n",
    "grep -C 1 -color=auto HEY text.txt\n",
    "\n",
    "# same as above AND case insensetive search\n",
    "grep -C 1 -color=auto -i HEY text.txt\n",
    "\n",
    "# almost same as above but inverted. shows everything that not match term\n",
    "grep -i -v HEY text.txt\n",
    "\n",
    "# Find the character 's' followed by 'pring'\n",
    "grep \"[s]pring\" text.txt\n",
    "\n",
    "# we can search in directories as well.\n",
    "grep -i password password-dn\n",
    "\n",
    "# we can search in directories as well (recursive search)\n",
    "grep -R password password-dn\n",
    "\n",
    "# treat binary as text\n",
    "grep -a password pass.bin\n",
    "\n",
    "# show line numbers\n",
    "grep -n const syslog.go\n",
    "\n",
    "# safe cleanup local pip folder\n",
    "python3 -m pip list | awk 'NR>2 {print $1}' | grep -Ev \"pip|setuptools|wheel\" | xargs -I {} sh -c \"python3 -m pip uninstall {} -y\"\n",
    "\n",
    "# getting local ip addresses info\n",
    "ifconfig | grep inet | grep -v inet6 | awk '{print $2}'\n",
    "```"
   ]
  },
  {
   "cell_type": "markdown",
   "metadata": {
    "ExecuteTime": {
     "end_time": "2019-02-25T07:54:42.125045Z",
     "start_time": "2019-02-25T07:54:42.111077Z"
    },
    "heading_collapsed": true
   },
   "source": [
    "### `printf`\n",
    "\n",
    "Format and print data"
   ]
  },
  {
   "cell_type": "markdown",
   "metadata": {
    "hidden": true
   },
   "source": [
    "```bash\n",
    "# floats\n",
    "printf \"%.6f\" 0.65\n",
    "\n",
    "# repeated formating\n",
    "printf \"%4s;\" {1..4}\n",
    "```"
   ]
  },
  {
   "cell_type": "markdown",
   "metadata": {
    "heading_collapsed": true
   },
   "source": [
    "### `sed`"
   ]
  },
  {
   "cell_type": "markdown",
   "metadata": {
    "hidden": true
   },
   "source": [
    "![Stream Editor sed by Julia Evans](images/sed.jpg)"
   ]
  },
  {
   "cell_type": "markdown",
   "metadata": {
    "ExecuteTime": {
     "end_time": "2019-02-25T07:47:56.123762Z",
     "start_time": "2019-02-25T07:47:56.118324Z"
    },
    "heading_collapsed": true
   },
   "source": [
    "### `tr`\n",
    "\n",
    "Translate Characters"
   ]
  },
  {
   "cell_type": "markdown",
   "metadata": {
    "hidden": true
   },
   "source": [
    "```bash\n",
    "# Convert to uppercase\n",
    "cat filename.csv | tr '[A-Z]' '[a-z]'\n",
    "```"
   ]
  },
  {
   "cell_type": "markdown",
   "metadata": {
    "heading_collapsed": true
   },
   "source": [
    "### `wc`\n",
    "\n",
    "Word, Line, Character and Byte count"
   ]
  },
  {
   "cell_type": "markdown",
   "metadata": {
    "hidden": true
   },
   "source": [
    "```bash\n",
    "# count\n",
    "#   - characters\n",
    "wc -c file.txt\n",
    "\n",
    "#   - words\n",
    "wc -w file.txt\n",
    "\n",
    "#   - lines\n",
    "wc -l file.txt\n",
    "\n",
    "# like... all!\n",
    "wc -cmlw And_Then_There_Were_None.txt\n",
    "> 29 173 953 953 And_Then_There_Were_None.txt\n",
    "```"
   ]
  },
  {
   "cell_type": "markdown",
   "metadata": {
    "heading_collapsed": true
   },
   "source": [
    "### `split`\n",
    "\n",
    "Split a file into pieces"
   ]
  },
  {
   "cell_type": "markdown",
   "metadata": {
    "hidden": true
   },
   "source": [
    "```bash\n",
    "# We will split our CSV into new_filename every 500 lines\n",
    "split -l 500 file.csv file_\n",
    "ls\n",
    "# file_aaa\n",
    "# file_aab\n",
    "# file_aac\n",
    "\n",
    "# and rename to csv\n",
    "find . -type f -exec mv '{}' '{}'.csv \\;\n",
    "```"
   ]
  },
  {
   "cell_type": "markdown",
   "metadata": {
    "ExecuteTime": {
     "end_time": "2019-02-27T15:31:07.992051Z",
     "start_time": "2019-02-27T15:31:07.988913Z"
    },
    "heading_collapsed": true
   },
   "source": [
    "### `cut`\n",
    "\n",
    "Remove sections from each line of files"
   ]
  },
  {
   "cell_type": "markdown",
   "metadata": {
    "hidden": true
   },
   "source": [
    "```bash\n",
    "# Cut is for removing columns. To illustrate, if we only wanted the\n",
    "# first and third columns.\n",
    "cut -d, -f 1,3 filename.csv\n",
    "\n",
    "# To select every column other than the first.\n",
    "cut -d, -f 2- filename.csv\n",
    "\n",
    "# >>> >>> >>> >>> In combination with other commands, cut serves as a filter.\n",
    "\n",
    "# Print first 10 lines of column 1 and 3, where \"some_string_value\" is present\n",
    "head filename.csv | grep \"some_string_value\" | cut -d, -f 1,3\n",
    "\n",
    "#Finding out the number of unique values within the second column.\n",
    "cat filename.csv | cut -d, -f 2 | sort | uniq | wc -l\n",
    "\n",
    "# Count occurences of unique values, limiting to first 10 results\n",
    "cat filename.csv | cut -d, -f 2 | sort | uniq -c | head\n",
    "```\n"
   ]
  },
  {
   "cell_type": "markdown",
   "metadata": {
    "heading_collapsed": true
   },
   "source": [
    "### `head`\n",
    "\n",
    "Output the first part of files"
   ]
  },
  {
   "cell_type": "markdown",
   "metadata": {
    "hidden": true
   },
   "source": [
    "![](images/head-tail.jpg)\n",
    "\n",
    "```bash\n",
    "# will print 10 lines of rome and juliete beginig\n",
    "head romeo-and-juliet.txt\n",
    "\n",
    "# will print first line\n",
    "head -n 1 romeo-and-juliet.txt\n",
    "```"
   ]
  },
  {
   "cell_type": "markdown",
   "metadata": {
    "heading_collapsed": true
   },
   "source": [
    "### `tail`\n",
    "\n",
    "Output the last part of files"
   ]
  },
  {
   "cell_type": "markdown",
   "metadata": {
    "hidden": true
   },
   "source": [
    "```bash\n",
    "\n",
    "# Show Last Lines of file.txt\n",
    "tail file.txt\n",
    "\n",
    "# Show Last 15 Lines of file.txt\n",
    "tail -n 15 file.txt\n",
    "\n",
    "# Show Last 8 Bytes of file.txt\n",
    "tail --bytes 8 file.txt\n",
    "\n",
    "# Updated output of updated file (monitoring)\n",
    "tail -f error-log.txt\n",
    "```"
   ]
  },
  {
   "cell_type": "markdown",
   "metadata": {
    "ExecuteTime": {
     "end_time": "2019-02-27T15:54:15.305103Z",
     "start_time": "2019-02-27T15:54:15.300489Z"
    }
   },
   "source": [
    "### @next"
   ]
  },
  {
   "cell_type": "code",
   "execution_count": null,
   "metadata": {},
   "outputs": [],
   "source": []
  },
  {
   "cell_type": "markdown",
   "metadata": {
    "heading_collapsed": true
   },
   "source": [
    "## `systemd`"
   ]
  },
  {
   "cell_type": "markdown",
   "metadata": {
    "heading_collapsed": true,
    "hidden": true
   },
   "source": [
    "### `chkconfig`\n",
    "\n",
    "Updates and queries runlevel information for system services"
   ]
  },
  {
   "cell_type": "markdown",
   "metadata": {
    "ExecuteTime": {
     "end_time": "2019-03-01T10:53:31.640772Z",
     "start_time": "2019-03-01T10:53:31.627198Z"
    },
    "hidden": true
   },
   "source": [
    "```bash\n",
    "# show what commands will run on particular run-level\n",
    "chkconfig --list | less\n",
    "\n",
    "# disable network to work on runLevel 3\n",
    "chkconfig --level 3 network off\n",
    "\n",
    "# or on\n",
    "chkconfig network on\n",
    "\n",
    "# show particular serice\n",
    "chkconfig --list network\n",
    "```"
   ]
  },
  {
   "cell_type": "markdown",
   "metadata": {
    "heading_collapsed": true,
    "hidden": true
   },
   "source": [
    "### `service`\n",
    "\n",
    "Run a System V init script"
   ]
  },
  {
   "cell_type": "markdown",
   "metadata": {
    "hidden": true
   },
   "source": [
    "```bash\n",
    "service --status-all\n",
    "service network status\n",
    "```"
   ]
  },
  {
   "cell_type": "markdown",
   "metadata": {
    "heading_collapsed": true,
    "hidden": true
   },
   "source": [
    "### `runlevel`\n",
    "\n",
    "Print previous and current System V runlevel"
   ]
  },
  {
   "cell_type": "markdown",
   "metadata": {
    "hidden": true
   },
   "source": [
    "```bash\n",
    "runlevel\n",
    "> N 3\n",
    "```"
   ]
  },
  {
   "cell_type": "markdown",
   "metadata": {
    "heading_collapsed": true,
    "hidden": true
   },
   "source": [
    "### `systemd-cgls`\n",
    "\n",
    "Recursively show control group contents"
   ]
  },
  {
   "cell_type": "markdown",
   "metadata": {
    "hidden": true
   },
   "source": [
    "```bash\n",
    "> systemd-cgls\n",
    "\n",
    "├─1 /usr/lib/systemd/systemd --switched-root --system --deserialize 21\n",
    "├─user.slice\n",
    "│ └─user-1000.slice\n",
    "│   └─session-4.scope\n",
    "│     ├─ 4226 sshd: vagrant [priv]\n",
    "│     ├─ 4229 sshd: vagrant@pts/0\n",
    "│     ├─ 4230 -bash\n",
    "│     ├─22447 systemd-cgls\n",
    "│     └─22448 systemd-cgls\n",
    "└─system.slice\n",
    "  ├─sshd.service\n",
    "  │ └─2453 /usr/sbin/sshd -D -u0\n",
    "  ├─tuned.service\n",
    "  │ └─2451 /usr/bin/python2 -Es /usr/sbin/tuned -l -P\n",
    "  ├─rsyslog.service\n",
    "  │ └─2449 /usr/sbin/rsyslogd -n\n",
    "  ├─postfix.service\n",
    "  │ ├─ 2698 /usr/libexec/postfix/master -w\n",
    "  │ ├─ 2703 qmgr -l -t unix -u\n",
    "  │ └─22427 pickup -l -t unix -u\n",
    "  ├─crond.service\n",
    "  │ └─1614 /usr/sbin/crond -n\n",
    "  ├─systemd-logind.service\n",
    "  │ └─1430 /usr/lib/systemd/systemd-logind\n",
    "  ├─NetworkManager.service\n",
    "  │ ├─1429 /usr/sbin/NetworkManager --no-daemon\n",
    "  │ └─2385 /sbin/dhclient -d -q -sf /usr/libexec/nm-dhcp-helper -pf /var/run/dhclient-eth0.pid -lf /var/lib/NetworkManager/dhclient-5fb06bd0-0bb0-7ffb-45f1-d6edd65f3e03-eth0.lea\n",
    "  ├─gssproxy.service\n",
    "  │ └─1502 /usr/sbin/gssproxy -D\n",
    "  ├─polkit.service\n",
    "  │ └─1425 /usr/lib/polkit-1/polkitd --no-debug\n",
    "  ├─dbus.service\n",
    "  │ └─1262 /usr/bin/dbus-daemon --system --address=systemd: --nofork --nopidfile --systemd-activation\n",
    "  ├─chronyd.service\n",
    "  │ └─1316 /usr/sbin/chronyd\n",
    "  ├─rpcbind.service\n",
    "  │ └─1307 /sbin/rpcbind -w\n",
    "  ├─auditd.service\n",
    "  │ └─1092 /sbin/auditd\n",
    "  ├─systemd-udevd.service\n",
    "  │ └─1069 /usr/lib/systemd/systemd-udevd\n",
    "  ├─system-getty.slice\n",
    "  │ └─getty@tty1.service\n",
    "  │   └─1613 /sbin/agetty --noclear tty1 linux\n",
    "  └─systemd-journald.service\n",
    "    └─1036 /usr/lib/systemd/systemd-journald\n",
    "```"
   ]
  },
  {
   "cell_type": "markdown",
   "metadata": {
    "heading_collapsed": true,
    "hidden": true
   },
   "source": [
    "### `systemctl`"
   ]
  },
  {
   "cell_type": "markdown",
   "metadata": {
    "hidden": true
   },
   "source": [
    "`systemctl action service.name` sample of command\n",
    "\n",
    "* `status <target>`\n",
    "* `enable <target>`\n",
    "* `disable <target>`\n",
    "* `start <target>`\n",
    "* `restart <target>`\n",
    "* `is-enabled <target>`\n",
    "* `daemon-reload`\n",
    "* `stop <target>`\n",
    "* `isolate <target>`\n",
    "* `mask <target>`\n",
    "* `is-active <target>`\n",
    "* `unmask <target>`\n",
    "\n",
    "```bash\n",
    "# remote  execution command\n",
    "systemctl -H 192.168.0.10 status\n",
    "\n",
    "# show all unit files\n",
    "systemctl list-unit-files\n",
    "\n",
    "# cat unitfile\n",
    "systemctl cat <unit>\n",
    "\n",
    "# create full copy of unitfile for modification\n",
    "systemctl edit --full <unit>\n",
    "\n",
    "# unitfiles deltra\n",
    "systemd-delta\n",
    "```"
   ]
  },
  {
   "cell_type": "markdown",
   "metadata": {
    "heading_collapsed": true,
    "hidden": true
   },
   "source": [
    "### `journalctl`"
   ]
  },
  {
   "cell_type": "markdown",
   "metadata": {
    "hidden": true
   },
   "source": [
    "**persistant logs**\n",
    "\n",
    "```bash\n",
    "# permanent loging (keep logs after reboot)\n",
    "mkdir -p /var/log/journal\n",
    "systemd-tmpfiles --create --prefix /var/log/journal\n",
    "```\n",
    "\n",
    "`/etc/systemd/journald.conf`\n",
    "\n",
    "* `Storage=`\n",
    "  * `auto` - default (and memory, and disk)\n",
    "  * `persistent` stored in `/var/log/journal` heirarchicaly\n",
    "  * `volatile` - memory\n",
    "  * `none` - /dev/null or balckhole.\n",
    "* `Compress=`\n",
    "  * `yes` - default option, above certain trashhold to compress items before they written to dick.\n",
    "  * `no` - no compressing\n",
    "  \n",
    "**examples**\n",
    "\n",
    "```bash\n",
    "# show newest first\n",
    "journalctl -r\n",
    "\n",
    "# end of page\n",
    "journalctl -e\n",
    "\n",
    "# 1- recent entries\n",
    "journalctl -n 10\n",
    "\n",
    "# tail -f /var/logs/messages\n",
    "journalctl -f\n",
    "\n",
    "# specific unit\n",
    "journalctl -u -f httpd.service\n",
    "\n",
    "# format: for the detailes\n",
    "journalctl -o  verbose\n",
    "\n",
    "# format: get json back\n",
    "journalctl -o json-pretty\n",
    "\n",
    "# debuging journalctl\n",
    "echo \"Yo, systemadministrator\" | systemd-cat\n",
    "journalctl -f -n 10\n",
    "\n",
    "\n",
    "# messages with text in service catalogue\n",
    "journalctl -x\n",
    "\n",
    "# kernel messags\n",
    "journalctl -k\n",
    "\n",
    "# since recent boot\n",
    "journalctl -b\n",
    "\n",
    "# recorded boot sessions (rutn on persistant storage before)\n",
    "journalctl --list-boots\n",
    "\n",
    "# date based queries (ok with today, now, yesterday, etc...)\n",
    "# 2018-01-01 12:12:12 by default\n",
    "journalctl --since,--until\n",
    "\n",
    "# disakusage\n",
    "journalctl --disk-usage\n",
    "\n",
    "# rotates the journal\n",
    "journalctl --rotate\n",
    "``` "
   ]
  },
  {
   "cell_type": "markdown",
   "metadata": {
    "heading_collapsed": true,
    "hidden": true
   },
   "source": [
    "### `timedatectl`"
   ]
  },
  {
   "cell_type": "markdown",
   "metadata": {
    "ExecuteTime": {
     "end_time": "2019-03-01T10:57:44.393041Z",
     "start_time": "2019-03-01T10:57:44.384833Z"
    },
    "hidden": true
   },
   "source": [
    "```bash\n",
    "timedatectl\n",
    ">       Local time: Sat 2018-12-29 12:31:59 UTC\n",
    ">   Universal time: Sat 2018-12-29 12:31:59 UTC\n",
    ">         RTC time: Sat 2018-12-29 12:31:56\n",
    ">        Time zone: UTC (UTC, +0000)\n",
    ">      NTP enabled: yes\n",
    "> NTP synchronized: yes\n",
    ">  RTC in local TZ: no\n",
    ">       DST active: n/a\n",
    "\n",
    "timedatectl list-timezones\n",
    "> some timezones listed\n",
    "\n",
    "timedatectl set-timezone \"Europe/Kyiv\"\n",
    "```"
   ]
  },
  {
   "cell_type": "markdown",
   "metadata": {
    "ExecuteTime": {
     "end_time": "2019-03-01T10:57:36.637061Z",
     "start_time": "2019-03-01T10:57:36.633370Z"
    },
    "heading_collapsed": true,
    "hidden": true
   },
   "source": [
    "### `localectl`"
   ]
  },
  {
   "cell_type": "markdown",
   "metadata": {
    "hidden": true
   },
   "source": [
    "```bash\n",
    "localectl\n",
    ">    System Locale: LANG=en_US.UTF-8\n",
    ">        VC Keymap: us\n",
    ">       X11 Layout: n/a\n",
    "```"
   ]
  },
  {
   "cell_type": "markdown",
   "metadata": {
    "heading_collapsed": true,
    "hidden": true
   },
   "source": [
    "### `systemd-analyze`"
   ]
  },
  {
   "cell_type": "markdown",
   "metadata": {
    "hidden": true
   },
   "source": [
    "```bash\n",
    "systemd-analyze\n",
    "> Startup finished in 1.171s (kernel) + 2.134s (initrd) + 17.895s (userspace) = 21.201s\n",
    "```"
   ]
  },
  {
   "cell_type": "markdown",
   "metadata": {
    "heading_collapsed": true,
    "hidden": true
   },
   "source": [
    "### `hostnamectl`\n",
    "\n",
    "Set Hostname permanently"
   ]
  },
  {
   "cell_type": "markdown",
   "metadata": {
    "hidden": true
   },
   "source": [
    "```bash\n",
    "# set location\n",
    "hostnamectl set-location \"ukrtelecom, kyiv\"\n",
    "```"
   ]
  },
  {
   "cell_type": "markdown",
   "metadata": {
    "heading_collapsed": true,
    "hidden": true
   },
   "source": [
    "### `systemd-resolve`"
   ]
  },
  {
   "cell_type": "markdown",
   "metadata": {
    "hidden": true
   },
   "source": [
    "```bash\n",
    "systemd-resolve google.com\n",
    "```"
   ]
  },
  {
   "cell_type": "markdown",
   "metadata": {
    "heading_collapsed": true,
    "hidden": true
   },
   "source": [
    "### `systemd-inhibit`\n",
    "\n",
    "Run untill task completed"
   ]
  },
  {
   "cell_type": "markdown",
   "metadata": {
    "hidden": true
   },
   "source": [
    "```bash\n",
    "systemd-inhibit wget google.com\n",
    "```"
   ]
  },
  {
   "cell_type": "code",
   "execution_count": null,
   "metadata": {
    "hidden": true
   },
   "outputs": [],
   "source": []
  },
  {
   "cell_type": "code",
   "execution_count": null,
   "metadata": {
    "hidden": true
   },
   "outputs": [],
   "source": []
  }
 ],
 "metadata": {
  "kernelspec": {
   "display_name": "Python 3",
   "language": "python",
   "name": "python3"
  },
  "language_info": {
   "codemirror_mode": {
    "name": "ipython",
    "version": 3
   },
   "file_extension": ".py",
   "mimetype": "text/x-python",
   "name": "python",
   "nbconvert_exporter": "python",
   "pygments_lexer": "ipython3",
   "version": "3.7.2"
  },
  "toc": {
   "base_numbering": 1,
   "nav_menu": {},
   "number_sections": true,
   "sideBar": true,
   "skip_h1_title": true,
   "title_cell": "Table of Contents",
   "title_sidebar": "Contents",
   "toc_cell": false,
   "toc_position": {},
   "toc_section_display": true,
   "toc_window_display": true
  }
 },
 "nbformat": 4,
 "nbformat_minor": 2
}
