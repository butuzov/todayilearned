{
 "cells": [
  {
   "cell_type": "markdown",
   "id": "7b0177a9-2fe0-4354-88e9-a515e114b637",
   "metadata": {},
   "source": [
    "# Jupyter"
   ]
  },
  {
   "cell_type": "markdown",
   "id": "71d722ce-4f24-464a-8e46-faadeefcc131",
   "metadata": {},
   "source": [
    "Short start is ...\n",
    "\n",
    "```shell\n",
    "brew install jupyter\n",
    "\n",
    "# show main pathes\n",
    "jupyter --paths\n",
    "\n",
    "# installed (jupyterlab) extensions\n",
    "jupyter labextension list\n",
    "# enabling one\n",
    "jupyter labextension enable @jupyterlab/completer-extension:base-service\n",
    "@jupyterlab/completer-extension:base-service\n",
    "```\n",
    "\n",
    "Jupyter notebook, formerly known as the IPython notebook, is a flexible tool that helps you create readable analyses, as you can keep code, images, comments, formulae and plots together.\n",
    "\n",
    "- https://www.dataquest.io/blog/jupyter-notebook-tips-tricks-shortcuts/\n",
    "- https://ipython.readthedocs.io/en/stable/interactive/magics.html "
   ]
  },
  {
   "cell_type": "markdown",
   "id": "8061d249-6045-47ec-8026-982382ef452c",
   "metadata": {},
   "source": [
    "## Kernels"
   ]
  },
  {
   "cell_type": "markdown",
   "id": "dcd2f315-c1f0-4288-adfb-3013d92c0a59",
   "metadata": {},
   "source": [
    "> Important: Select default env (` ~/Library/jupyterlab-desktop/jlab_server`) or create new one (`Manage Python Environments` -> `Environments` -> `Add New One`)\n",
    "\n",
    "[`kernels`](https://docs.jupyter.org/en/latest/projects/kernels.html) allows to use multiple programming languages while working with notebook. Here is how to isntall kernel to [your notebook](https://github.com/jupyterlab/jupyterlab-desktop/issues/304#issuecomment-1574791938) (this example is about `Jupyter Desktop`)\n",
    "\n",
    "\n",
    "- open `~/Library/jupyterlab-desktop/jlab_server`, find under it ‎⁨`share⁩/jupyter/⁩kernels/`\n",
    "- install kernel\n",
    "- copied installed files into kernel directory\n",
    "\n",
    "```shell\n",
    " $ butuzov  ~/Library/jupyterlab-desktop/jlab_server/share/jupyter/kernels\n",
    " > tree\n",
    ".\n",
    "├── python3\n",
    "│   ├── kernel.json\n",
    "│   ├── logo-32x32.png\n",
    "│   ├── logo-64x64.png\n",
    "│   └── logo-svg.svg\n",
    "└── rust\n",
    "    ├── kernel.js\n",
    "    ├── kernel.json\n",
    "    ├── lint-LICENSE\n",
    "    ├── lint.css\n",
    "    ├── lint.js\n",
    "    ├── logo-32x32.png\n",
    "    ├── logo-64x64.png\n",
    "    ├── logo-LICENSE.md\n",
    "    └── version.txt\n",
    "\n",
    "2 directories, 13 files\n",
    "```\n",
    "\n",
    "\n",
    "[list of kernels](https://github.com/jupyter/jupyter/wiki/Jupyter-kernels)"
   ]
  },
  {
   "cell_type": "markdown",
   "id": "2b801859-19a2-47d6-970c-7767c6f4020a",
   "metadata": {
    "jp-MarkdownHeadingCollapsed": true
   },
   "source": [
    "### `closure`"
   ]
  },
  {
   "cell_type": "code",
   "execution_count": 1,
   "id": "544782ed-f44b-4a34-b74c-cb45c7d620d5",
   "metadata": {},
   "outputs": [
    {
     "name": "stdout",
     "output_type": "stream",
     "text": [
      "\"Hello World\"\n"
     ]
    },
    {
     "data": {
      "text/plain": [
       "nil"
      ]
     },
     "execution_count": 1,
     "metadata": {},
     "output_type": "execute_result"
    }
   ],
   "source": [
    "(prn \"Hello World\")"
   ]
  },
  {
   "cell_type": "markdown",
   "id": "dd93f5a7-ffc5-4b1a-920b-aac51548e5fb",
   "metadata": {},
   "source": [
    "- https://clojure.org/\n",
    "- https://s01blog.wordpress.com/2017/12/10/how-to-create-clojure-notebooks-in-jupyter/\n",
    "- https://github.com/clojupyter/clojupyter\n",
    "\n",
    "\n",
    "```shell\n",
    "brew install clojure\n",
    "brew install leiningen\n",
    "\n",
    "git clone https://github.com/roryk/clojupyter\n",
    "cd clojupyter\n",
    "make\n",
    "make install\n",
    ">> ...\n",
    ">> Created /Users/butuzov/Desktop/Projects/todayilearned/kaizen/writing/jupyter/clojupyter/target/clojupyter-0.3.7-SNAPSHOT.jar\n",
    ">> Created /Users/butuzov/Desktop/Projects/todayilearned/kaizen/writing/jupyter/clojupyter/target/clojupyter-0.3.7-SNAPSHOT-standalone.jar\n",
    ">> lein clojupyter install\n",
    ">> If there are a lot of uncached dependencies this might take a while ...\n",
    ">> WARNING: parse-boolean already refers to: #'clojure.core/parse-boolean in namespace: omniconf.core, being replaced by: #'omniconf.core/parse-boolean\n",
    ">> Clojupyter v0.3.7-SNAPSHOT@v0.2.2-86-ge968 - Install local\n",
    ">>\n",
    ">>    Installed jar:\t    ../clojupyter/target/clojupyter-0.3.7-SNAPSHOT-standalone.jar\n",
    ">>    Install directory:\t~/Library/Jupyter/kernels/clojupyter-0.3.7-snapshotv0.2.2-86-ge968\n",
    ">>    Kernel identifier:\tclojupyter-0.3.7-snapshotv0.2.2-86-ge968\n",
    ">>\n",
    ">>    Installation successful.\n",
    ">>\n",
    ">> exit(0)\n",
    "# If required move into different location \n",
    "\n",
    "mv ~/Library/Jupyter/kernels/clojupyter-0.3.7-snapshotv0.2.2-86-ge968  ~/Library/jupyterlab-desktop/jlab_server/share/jupyter/kernels/clj\n",
    "code ~/Library/jupyterlab-desktop/jlab_server/share/jupyter/kernels/clj/kernel.json\n",
    "```"
   ]
  },
  {
   "cell_type": "markdown",
   "id": "d42869dc-8a92-4bf8-a5ba-5822e4476028",
   "metadata": {
    "jp-MarkdownHeadingCollapsed": true
   },
   "source": [
    "### Rust"
   ]
  },
  {
   "cell_type": "code",
   "execution_count": 4,
   "id": "63ca9ed9-1bae-4f2d-84c9-134a383b9dea",
   "metadata": {},
   "outputs": [
    {
     "name": "stdout",
     "output_type": "stream",
     "text": [
      "Hello World\n"
     ]
    },
    {
     "data": {
      "text/plain": [
       "()"
      ]
     },
     "execution_count": 4,
     "metadata": {},
     "output_type": "execute_result"
    }
   ],
   "source": [
    "println!(\"Hello World\")"
   ]
  },
  {
   "cell_type": "markdown",
   "id": "4e12e01e-c404-43fb-bdf2-37b2e9de68e4",
   "metadata": {},
   "source": [
    "- [evcxr](https://github.com/evcxr/evcxr)\n",
    "\n",
    "```shell\n",
    "cargo install --locked evcxr_jupyter\n",
    "evcxr_jupyter --install\n",
    ">> ...\n",
    ">> Writing ~/Library/Jupyter/kernels/rust/kernel.json\n",
    ">> ...\n",
    "mv ~/Library/Jupyter/kernels/rust ~/Library/jupyterlab-desktop/jlab_server/share/jupyter/kernels/rust\n",
    "```"
   ]
  },
  {
   "cell_type": "markdown",
   "id": "3cf59a53-82df-4d0d-94a4-650a93179d7d",
   "metadata": {},
   "source": [
    "### `Go`"
   ]
  },
  {
   "cell_type": "code",
   "execution_count": 1,
   "id": "d5eb79e1",
   "metadata": {},
   "outputs": [
    {
     "data": {
      "text/plain": [
       "hi\n"
      ]
     },
     "execution_count": 1,
     "metadata": {},
     "output_type": "execute_result"
    }
   ],
   "source": [
    "import  \"fmt\"\n",
    "\n",
    "fmt.Sprintln(\"hi\")"
   ]
  },
  {
   "cell_type": "markdown",
   "id": "88806afe",
   "metadata": {},
   "source": [
    "- (current) https://github.com/janpfeifer/gonb\n",
    "- https://github.com/gopherdata/gophernotes"
   ]
  },
  {
   "cell_type": "markdown",
   "id": "cd7b7eed-d441-4328-8839-a13724e884cc",
   "metadata": {},
   "source": [
    "```shell\n",
    "# https://github.com/gopherdata/gophernotes/issues/147\n",
    "go install github.com/gopherdata/gophernotes@5514204\n",
    "\n",
    "# default jupyter location.\n",
    "mkdir -p ~/Library/Jupyter/kernels/gophernotes\n",
    "cd ~/Library/Jupyter/kernels/gophernotes\n",
    "cp \"$(go env GOPATH)\"/pkg/mod/github.com/gopherdata/gophernotes@v0.7.5/kernel/*  \".\"\n",
    "chmod +w ./kernel.json # in case copied kernel.json has no write permission\n",
    "mv ~/Library/Jupyter/kernels/gophernotes ~/Library/jupyterlab-desktop/jlab_server/share/jupyter/kernels/go\n",
    "```"
   ]
  },
  {
   "cell_type": "markdown",
   "id": "4bffebae-9658-4e8f-b786-6ac843b73916",
   "metadata": {},
   "source": [
    "## Typescript"
   ]
  },
  {
   "cell_type": "markdown",
   "id": "0a5f7412-1611-4cd3-b5c4-6af366405e8a",
   "metadata": {},
   "source": [
    "https://github.com/yunabe/tslab\n",
    "\n",
    "```shell\n",
    "npm install -g tslab\n",
    "tslab install --version\n",
    "tslab install [--python=python3]\n",
    "# or tslab install \n",
    "jupyter kernelspec list\n",
    "```"
   ]
  },
  {
   "cell_type": "code",
   "execution_count": 1,
   "id": "a727dbc1-2164-4e57-b538-e79c8cda38d0",
   "metadata": {},
   "outputs": [
    {
     "name": "stdout",
     "output_type": "stream",
     "text": [
      "Hello, World!\n"
     ]
    }
   ],
   "source": [
    "let message: string = 'Hello, World!';\n",
    "console.log(message);"
   ]
  },
  {
   "cell_type": "markdown",
   "id": "1aff88ac-1cfc-426e-8295-2c950497bdba",
   "metadata": {},
   "source": [
    "## Magic (cells)"
   ]
  },
  {
   "cell_type": "markdown",
   "id": "00b55127-c3a7-4b65-bf2a-52e3fd6ce0d1",
   "metadata": {},
   "source": [
    "- https://ipython.org/ipython-doc/3/interactive/magics.html"
   ]
  },
  {
   "cell_type": "markdown",
   "id": "a4bc66b8-ecaa-436f-830d-95279a0c3ca1",
   "metadata": {},
   "source": [
    "### Autotime & Timeit"
   ]
  },
  {
   "cell_type": "code",
   "execution_count": 5,
   "id": "7f3f4aaa-774d-48f0-b38b-991ac9cea796",
   "metadata": {},
   "outputs": [
    {
     "name": "stdout",
     "output_type": "stream",
     "text": [
      "time: 183 µs (started: 2024-06-13 16:11:58 +03:00)\n"
     ]
    }
   ],
   "source": [
    "! pip install git+git://github.com/cpcloud/ipython-autotime -q\n",
    "%load_ext autotime"
   ]
  },
  {
   "cell_type": "code",
   "execution_count": 6,
   "id": "79ea26a8-24e4-46f1-9a02-da12230ad5ab",
   "metadata": {},
   "outputs": [
    {
     "name": "stdout",
     "output_type": "stream",
     "text": [
      "time: 1.01 s (started: 2024-06-13 16:11:58 +03:00)\n"
     ]
    }
   ],
   "source": [
    "from time import sleep\n",
    "sleep(1)"
   ]
  },
  {
   "cell_type": "code",
   "execution_count": 7,
   "id": "9a5f70b0-622d-4995-8839-2e1cb5e407bd",
   "metadata": {},
   "outputs": [
    {
     "name": "stdout",
     "output_type": "stream",
     "text": [
      "1 s ± 546 µs per loop (mean ± std. dev. of 7 runs, 1 loop each)\n",
      "time: 8.04 s (started: 2024-06-13 16:11:59 +03:00)\n"
     ]
    }
   ],
   "source": [
    "%timeit sleep(1)"
   ]
  },
  {
   "cell_type": "markdown",
   "id": "4f985556-31b5-4533-bc15-898917877353",
   "metadata": {},
   "source": [
    "### Top 4 magic commands\n",
    "\n",
    "- `%matplotlib`. If you did an online course before, you probably recognize this magic command in combination with the inline parameter. ...\n",
    "- `%load_ext` autoreload. This magic command allows you to load the most important extension: autoreload. ...\n",
    "- `%sql` - with `iron-python` - https://towardsdatascience.com/jupyter-magics-with-sql-921370099589"
   ]
  },
  {
   "cell_type": "code",
   "execution_count": 9,
   "id": "fa5fd616-9f67-486a-8de1-7cdae8af34ba",
   "metadata": {},
   "outputs": [
    {
     "data": {
      "text/plain": [
       "[]"
      ]
     },
     "execution_count": 9,
     "metadata": {},
     "output_type": "execute_result"
    },
    {
     "name": "stdout",
     "output_type": "stream",
     "text": [
      "time: 20.4 ms (started: 2024-06-13 16:12:08 +03:00)\n"
     ]
    }
   ],
   "source": [
    "%system"
   ]
  },
  {
   "cell_type": "code",
   "execution_count": 5,
   "id": "2674e13c-e3eb-452e-ba2b-d61875205507",
   "metadata": {},
   "outputs": [
    {
     "data": {
      "text/plain": [
       "['sleep']"
      ]
     },
     "execution_count": 5,
     "metadata": {},
     "output_type": "execute_result"
    },
    {
     "name": "stdout",
     "output_type": "stream",
     "text": [
      "time: 3.96 ms (started: 2023-11-24 15:22:18 +02:00)\n"
     ]
    }
   ],
   "source": [
    "%who_ls"
   ]
  },
  {
   "cell_type": "markdown",
   "id": "4a9db3d2-6205-4b0f-bf2e-e36b0cd024d7",
   "metadata": {},
   "source": [
    "### IPython's 'magic' functions\n",
    "\n",
    "- `%magic` in cell will show help on magic commands\n",
    "- `%` short lines, `%%` cells.\n",
    "- `%paste` paste (dowsn't work on mac)\n",
    "- `%cpaste`\n",
    "- `%run` runs script.\n",
    "- `%time` time exceution\n",
    "- `%timeit` time exceution\n",
    "- `%prun` profiler run\n",
    "- `%mrun` memory run\n",
    "- `%memit` memory reports.\n",
    "\n"
   ]
  },
  {
   "cell_type": "markdown",
   "id": "1e7893fc-05e8-4253-8764-8caa74898625",
   "metadata": {},
   "source": [
    "```\n",
    "___currentDir___= %pwd\n",
    "!mkdir -p /content/extensions/\n",
    "%cd /content/extensions/\n",
    "\n",
    "!wget -O <<plugin_name>>.py <<plugin_URL>>\n",
    "%load_ext <<plugin_name>>\n",
    "#%reload_ext <<plugin_name>> #usefull for plugin development\n",
    "#%unload_ext <<plugin_name>> #usefull for plugin development\n",
    "\n",
    "%cd {___currentDir___}\n",
    "del ___currentDir___\n",
    "```"
   ]
  },
  {
   "cell_type": "markdown",
   "id": "d361f865-8926-42ba-ac22-3d911c922ac3",
   "metadata": {},
   "source": [
    "## Extensions"
   ]
  },
  {
   "cell_type": "markdown",
   "id": "ae326336-4460-4ba4-aff9-ad83fe469666",
   "metadata": {},
   "source": [
    "```shell\n",
    "(venv) > pip install jupyter jupyter_contrib_nbextensions\n",
    "# autotime extension\n",
    "(venv) > jupyter contrib nbextension install --sys-prefix\n",
    "(venv) > jupyter nbextension enable codefolding/main\n",
    "(venv) > jupyter nbextension disable codefolding/main\n",
    "```\n"
   ]
  },
  {
   "cell_type": "markdown",
   "id": "a742357f-ba09-477a-a56d-81822bae475f",
   "metadata": {},
   "source": [
    "### Some other...\n",
    "\n",
    "\n",
    "-  [Skip cell (True/False)](https://gist.githubusercontent.com/Mr-McGL/661ae7e50a1cfe7dfd5c0b23216bf0c3/raw/skip_ext.py)\n",
    "-  [Push and Pop Directory: This extension allows you to modify the working directory internally to the cell](https://gist.githubusercontent.com/Mr-McGL/661ae7e50a1cfe7dfd5c0b23216bf0c3/raw/pNpDir_ext.py)\n",
    "-  [Use variables within the %%writefile context](https://gist.githubusercontent.com/Mr-McGL/661ae7e50a1cfe7dfd5c0b23216bf0c3/raw/writefileE_ext.py)\n",
    "-  [This magic command allows you to execute a Python script by specifying the script's name or path as part of the command line arguments. It identifies the script, checks if it exists in the system paths, and then runs it. Similar to %run but finds the script in the system path](https://gist.githubusercontent.com/Mr-McGL/661ae7e50a1cfe7dfd5c0b23216bf0c3/raw/sys_run_ext.py)\n",
    "- [This magic command resizes the output cell by specifying height and/or width parameters. It uses argparse to parse the command line arguments, allowing users to control the size of the output cell](https://gist.githubusercontent.com/Mr-McGL/661ae7e50a1cfe7dfd5c0b23216bf0c3/raw/resize_output_ext.py)\n",
    "- [Repo Manager: This extension allows to handle GIT repositories using a using a JSON file stored in Google Drive with access tokens](https://gist.githubusercontent.com/Mr-McGL/661ae7e50a1cfe7dfd5c0b23216bf0c3/raw/repo_ext.py)\n",
    "- [Code Highlighting](https://gist.githubusercontent.com/Mr-McGL/661ae7e50a1cfe7dfd5c0b23216bf0c3/raw/hightlighting_ext.py)\n",
    "\n",
    "```\n",
    "!wget -O skip_ext.py https://gist.githubusercontent.com/Mr-McGL/661ae7e50a1cfe7dfd5c0b23216bf0c3/raw/skip_ext.py\n",
    "!wget -O pNpDir_ext.py  https://gist.githubusercontent.com/Mr-McGL/661ae7e50a1cfe7dfd5c0b23216bf0c3/raw/pNpDir_ext.py \n",
    "!wget -O writefileE_ext.py https://gist.githubusercontent.com/Mr-McGL/661ae7e50a1cfe7dfd5c0b23216bf0c3/raw/writefileE_ext.py\n",
    "!wget -O sys_run_ext.py https://gist.githubusercontent.com/Mr-McGL/661ae7e50a1cfe7dfd5c0b23216bf0c3/raw/sys_run_ext.py\n",
    "!wget -O resize_output_ext.py https://gist.githubusercontent.com/Mr-McGL/661ae7e50a1cfe7dfd5c0b23216bf0c3/raw/resize_output_ext.py\n",
    "!wget -O repo_ext.py https://gist.githubusercontent.com/Mr-McGL/661ae7e50a1cfe7dfd5c0b23216bf0c3/raw/repo_ext.py\n",
    "!wget -O hightlighting_ext.py https://gist.githubusercontent.com/Mr-McGL/661ae7e50a1cfe7dfd5c0b23216bf0c3/raw/hightlighting_ext.py\n",
    "\n",
    "%load_ext skip_ext\n",
    "%load_ext pNpDir_ext\n",
    "%load_ext writefileE_ext\n",
    "%load_ext sys_run_ext\n",
    "%load_ext resize_output_ext\n",
    "%load_ext repo_ext\n",
    "%load_ext hightlighting_ext\n",
    "\n",
    "\n",
    "```"
   ]
  },
  {
   "cell_type": "markdown",
   "id": "367c8f6a-7cca-4338-b9de-9900cd2458ca",
   "metadata": {},
   "source": [
    "## Customizations"
   ]
  },
  {
   "cell_type": "markdown",
   "id": "f84c7b6c-194b-4f13-bbc2-6ec962541353",
   "metadata": {},
   "source": [
    "#### Directory\n",
    "\n",
    "Using custom directory intead `~/.jupyter/`\n",
    "\n",
    "```shell\n",
    "export JUPYTER_CONFIG_DIR=\"/location/of/the/jupyter/home\"\n",
    "```\n"
   ]
  },
  {
   "cell_type": "markdown",
   "id": "3878d39d-1605-4a0b-8c5a-8dbbdfcdb273",
   "metadata": {},
   "source": [
    "#### Styles"
   ]
  },
  {
   "cell_type": "markdown",
   "id": "6fd27c14-2407-4b7e-b8f8-377859b2e100",
   "metadata": {},
   "source": [
    "```css\n",
    "\n",
    "\n",
    "@import url('https://fonts.googleapis.com/css?family=PT+Serif:700');\n",
    "\n",
    "\n",
    "\n",
    "/* Change code font */\n",
    ".CodeMirror pre {\n",
    "    font-family: Mensch, 'Fira Code', Monaco;\n",
    "    font-size: 10pt;\n",
    "}\n",
    "\n",
    "div.output pre{\n",
    "    font-family: Mensch, 'Fira Code', Monaco;\n",
    "    font-size: 10pt;\n",
    "}\n",
    "\n",
    "div.output_html td{\n",
    "    font-family: Mensch, 'Fira Code', Monaco;\n",
    "    font-size: 9pt;\n",
    "}\n",
    "\n",
    "div.prompt{\n",
    "    font-family: Mensch, 'Fira Code', Monaco;\n",
    "    font-size: 9pt;\n",
    "}\n",
    "\n",
    "div.completions select{\n",
    "    font-family: Mensch, 'Fira Code', Monaco;\n",
    "    font-size: 10pt;\n",
    "}\n",
    "\n",
    "div.container pre{\n",
    "    font-family: Mensch, 'Fira Code', Monaco;\n",
    "    font-size: 10pt;\n",
    "}\n",
    "\n",
    "div.tooltiptext pre{\n",
    "    font-family: Mensch, 'Fira Code', Monaco;\n",
    "    font-size: 9pt;\n",
    "}\n",
    "\n",
    "div.input_area {\n",
    "    border-color: rgba(0,0,0,0.10);\n",
    "    background: rbga(0,0,0,0.5);\n",
    "}\n",
    "\n",
    "div.text_cell_render {\n",
    "    font-family: Georgia, serif;\n",
    "    font-size: 12pt;\n",
    "    line-height: 160%;\n",
    "}\n",
    "\n",
    "div.text_cell_render code{\n",
    "    font-family: 'Fira Code', Monaco;\n",
    "    font-size: 80%;\n",
    "}\n",
    "\n",
    "\n",
    "div.text_cell_render h1 { font-size:170%; }\n",
    "div.text_cell_render h2 { font-size:145%; }\n",
    "div.text_cell_render h3 { font-size:125%; }\n",
    "div.text_cell_render h4 { font-size:110%; }\n",
    "div.text_cell_render h5 { font-size:100%; }\n",
    "div.text_cell_render h6 { font-size:90%; }\n",
    "\n",
    "div.text_cell_render h1,\n",
    "div.text_cell_render h2,\n",
    "div.text_cell_render h3,\n",
    "div.text_cell_render h4,\n",
    "div.text_cell_render h5,\n",
    "div.text_cell_render h6 {\n",
    "    font-family: 'PT Serif', serif;\n",
    "    font-weight: 700;\n",
    "    font-style:  normal;\n",
    "}\n",
    "\n",
    "div.text_cell_render > h1:first-child,\n",
    "div.text_cell_render > h2:first-child,\n",
    "div.text_cell_render > h3:first-child,\n",
    "div.text_cell_render > h4:first-child,\n",
    "div.text_cell_render > h5:first-child,\n",
    "div.text_cell_render > h6:first-child {\n",
    "    min-height:24pt;\n",
    "    line-height: 24pt;\n",
    "    margin-top:0;\n",
    "}\n",
    "\n",
    "\n",
    ".rendered_html pre,\n",
    ".rendered_html code {\n",
    "    font-size: medium;\n",
    "}\n",
    "\n",
    ".rendered_html ol, ul {\n",
    "    margin: 1em 2em;\n",
    "}\n",
    "\n",
    ".rendered_html ol ul,\n",
    ".rendered_html ol ol,\n",
    ".rendered_html ul ul,\n",
    ".rendered_html ul ol {\n",
    "    margin: 0 2em;\n",
    "    padding-left:0 !important;\n",
    "}\n",
    "\n",
    "\n",
    ".rendered_html ol {\n",
    "    list-style:decimal;\n",
    "}\n",
    "\n",
    ".prompt.input_prompt {\n",
    "    color: rgba(0,0,0,0.5);\n",
    "}\n",
    "\n",
    ".cell.command_mode.selected {\n",
    "    border-color: rgba(0,0,0,0.1);\n",
    "}\n",
    "\n",
    ".cell.edit_mode.selected {\n",
    "    border-color: rgba(0,0,0,0.15);\n",
    "    box-shadow: 0px 0px 5px #f0f0f0;\n",
    "    -webkit-box-shadow: 0px 0px 5px #f0f0f0;\n",
    "}\n",
    "\n",
    "div.output_scroll {\n",
    "    -webkit-box-shadow: inset 0 2px 8px rgba(0,0,0,0.1);\n",
    "    box-shadow: inset 0 2px 8px rgba(0,0,0,0.1);\n",
    "    border-radius: 2px;\n",
    "}\n",
    "\n",
    "#menubar .navbar-inner {\n",
    "    background: #fff;\n",
    "    -webkit-box-shadow: none;\n",
    "    box-shadow: none;\n",
    "    border-radius: 0;\n",
    "    border: none;\n",
    "    font-family: lato;\n",
    "    font-weight: 400;\n",
    "}\n",
    "\n",
    ".navbar-fixed-top .navbar-inner,\n",
    ".navbar-static-top .navbar-inner {\n",
    "    box-shadow: none;\n",
    "    -webkit-box-shadow: none;\n",
    "    border: none;\n",
    "}\n",
    "\n",
    "div#notebook_panel {\n",
    "    box-shadow: none;\n",
    "    -webkit-box-shadow: none;\n",
    "    border-top: none;\n",
    "}\n",
    "\n",
    "div#notebook {\n",
    "    border-top: 1px solid rgba(0,0,0,0.15);\n",
    "}\n",
    "\n",
    "#menubar .navbar .navbar-inner,\n",
    ".toolbar-inner {\n",
    "    padding-left: 0;\n",
    "    padding-right: 0;\n",
    "}\n",
    "\n",
    "#checkpoint_status,\n",
    "#autosave_status {\n",
    "    color: rgba(0,0,0,0.5);\n",
    "}\n",
    "\n",
    "\n",
    "/*\n",
    "    Markdown\n",
    "*/\n",
    "\n",
    ".text_cell_render.rendered_html pre {\n",
    "    margin:0;\n",
    "    background-color: #f6f8fa;\n",
    "    border-radius: 3px;\n",
    "    font-size: 90%;\n",
    "    line-height: 1.45;\n",
    "    overflow: auto;\n",
    "    padding: 8px 8px;\n",
    "}\n",
    "\n",
    ".text_cell_render.rendered_html p + pre {\n",
    "    margin-top: 16px;\n",
    "}\n",
    "\n",
    ".text_cell_render.rendered_html pre code {\n",
    "    background-color: #f6f8fa;\n",
    "}\n",
    "\n",
    "span.alert {\n",
    "    padding:3px 5px;\n",
    "    font-size:100%;\n",
    "}\n",
    "```"
   ]
  },
  {
   "cell_type": "markdown",
   "id": "69b260bb-1e63-40c9-888d-122b1f76b230",
   "metadata": {},
   "source": [
    "## Software\n",
    "\n",
    "- Using [Jupyter Desktop (Electron App)](https://github.com/jupyterlab/jupyterlab-desktop)\n",
    "- VSCode (as editor)"
   ]
  },
  {
   "cell_type": "markdown",
   "id": "f39e236d-e8c7-48a4-ad2d-55039f5c7723",
   "metadata": {},
   "source": [
    "### VSCode"
   ]
  },
  {
   "cell_type": "markdown",
   "id": "f020a4fe-e947-4242-9523-0fa907802f74",
   "metadata": {},
   "source": [
    "<div class=\"alert alert-info center\">Just in case if you need to open jupyter as json, right click at left sidebar and <b>Open With...</b> <b>Text editor</b></div>"
   ]
  },
  {
   "cell_type": "markdown",
   "id": "e5200e31-5351-4afa-aaa5-34bbbadc7f50",
   "metadata": {},
   "source": [
    "## Fun With Jupyter"
   ]
  },
  {
   "cell_type": "markdown",
   "id": "5e829ead-5fbf-4936-a7f7-4583eab48891",
   "metadata": {},
   "source": [
    "- Turn it into web app with https://github.com/LCL-CAVE/manganite/tree/master"
   ]
  },
  {
   "cell_type": "code",
   "execution_count": null,
   "id": "6da3cdde-d642-4489-ad39-3936b13fcbb7",
   "metadata": {},
   "outputs": [],
   "source": []
  }
 ],
 "metadata": {
  "kernelspec": {
   "display_name": "Python 3 (ipykernel)",
   "language": "python",
   "name": "python3"
  },
  "language_info": {
   "codemirror_mode": {
    "name": "ipython",
    "version": 3
   },
   "file_extension": ".py",
   "mimetype": "text/x-python",
   "name": "python",
   "nbconvert_exporter": "python",
   "pygments_lexer": "ipython3",
   "version": "3.12.3"
  }
 },
 "nbformat": 4,
 "nbformat_minor": 5
}
