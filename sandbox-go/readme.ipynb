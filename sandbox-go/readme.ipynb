{
 "cells": [
  {
   "cell_type": "markdown",
   "id": "5b4a8978",
   "metadata": {},
   "source": [
    "# Go Programming Language"
   ]
  },
  {
   "cell_type": "markdown",
   "id": "c625cff1",
   "metadata": {},
   "source": [
    "## Language"
   ]
  },
  {
   "cell_type": "markdown",
   "id": "1b823ed3",
   "metadata": {},
   "source": [
    "* `general` https://github.com/a8m/golang-cheat-sheet\n",
    "* `general` https://gobyexample.com/\n",
    "* `general` `ukrainian` https://github.com/butuzov/gobyexample\n",
    "* [Go on the run (gotr)](https://github.com/striversity/gotr)\n",
    "* [Go in 5 minutes](https://gist.github.com/prologic/5f6afe9c1b98016ca278f4d507e65510)\n",
    "* `nodejs` https://github.com/miguelmota/golang-for-nodejs-developers\n",
    "* `elixir` https://texlution.com/post/elixir-concepts-for-golang-developers/\n",
    "* `php` https://medium.com/@craigchilds94/53d841cc1478\n",
    "* `python` http://govspy.peterbe.com/\n",
    "* `python` https://medium.com/dev-bits/a-cup-of-gos-concurrent-programming-for-python-developers-a80e621c45ff"
   ]
  },
  {
   "cell_type": "markdown",
   "id": "f6e6ddb1",
   "metadata": {},
   "source": [
    "### Traps\n",
    "\n",
    "* https://github.com/system-pclub/go-concurrency-bugs\n",
    "* https://go-traps.appspot.com/\n",
    "* [50 Shades of Go](http://devs.cloudimmunity.com/gotchas-and-common-mistakes-in-go-golang/)\n",
    "* [50 Shades of Go (russian)](https://habr.com/ru/company/mailru/blog/314804/)"
   ]
  },
  {
   "cell_type": "markdown",
   "id": "abcf8117",
   "metadata": {},
   "source": [
    "## Compiler"
   ]
  },
  {
   "cell_type": "markdown",
   "id": "3de7a8e2",
   "metadata": {},
   "source": []
  },
  {
   "cell_type": "markdown",
   "id": "97398f86",
   "metadata": {},
   "source": [
    "## Project Layout "
   ]
  },
  {
   "cell_type": "markdown",
   "id": "13bfd9e0",
   "metadata": {
    "ExecuteTime": {
     "end_time": "2021-06-14T13:16:40Z",
     "start_time": "2021-06-14T13:16:40.077Z"
    }
   },
   "source": [
    "* [2016: Peter Bourgon's: Repository structure](https://peter.bourgon.org/go-best-practices-2016/#repository-structure)\n",
    "* [2016: Ben Johnson's: Standard Package Layout](https://medium.com/@benbjohnson/standard-package-layout-7cdbc8391fc1)\n",
    "* [2017: William Kennedy's: Design Philosophy On Packaging](https://www.ardanlabs.com/blog/2017/02/design-philosophy-on-packaging.html)\n",
    "* [2017: Jaana Dogan's: Style guideline for Go packages](https://rakyll.org/style-packages/)\n",
    "* [2018: Kat Zien - How Do You Structure Your Go Apps](https://www.youtube.com/watch?v=oL6JBUk6tj0)\n",
    "\n",
    "---\n",
    "\n",
    "* http://jacobkania.com/structuring-your-go-project \n",
    "* https://talks.golang.org/2014/readability.slide\n",
    "* https://talks.golang.org/2013/bestpractices.slide\n",
    "* https://talks.golang.org/2014/names.slide\n",
    "* https://talks.golang.org/2014/organizeio.slide"
   ]
  },
  {
   "cell_type": "markdown",
   "id": "a9e57704",
   "metadata": {},
   "source": [
    "###  Naming Things\n",
    "\n",
    "1. (by [Peter Bourgon](https://twitter.com/peterbourgon/status/1121013346784948224))\n",
    "    * Structs are plain nouns: `API`, `Replica`, `Object`\n",
    "    * Interfaces are active nouns: `Reader`, `Writer`, `JobProceccor`\n",
    "    * Functions are methods are verbs: `Read`, `Process`, `Sync`\n",
    "2. http://blog.golang.org/package-names\n",
    "3. https://talks.golang.org/2014/names.slide#1"
   ]
  },
  {
   "cell_type": "markdown",
   "id": "6b4b2e75",
   "metadata": {},
   "source": [
    "## Tools"
   ]
  },
  {
   "cell_type": "markdown",
   "id": "3f767da5",
   "metadata": {},
   "source": [
    "  * https://jsonformatter.org/json-to-go\n",
    "  * https://mholt.github.io/json-to-go/\n",
    "  * [Cheat.sh/go](https://cheat.sh/go/)\n",
    "  * [`google/gops`](http://github.com/google/gops) - Allows to check what go version was used to build bin."
   ]
  },
  {
   "cell_type": "markdown",
   "id": "a8011e8f",
   "metadata": {},
   "source": [
    "## Unsorted"
   ]
  },
  {
   "cell_type": "markdown",
   "id": "c2e7fb7a",
   "metadata": {
    "ExecuteTime": {
     "end_time": "2021-06-14T14:11:27Z",
     "start_time": "2021-06-14T14:11:27.418Z"
    }
   },
   "source": [
    "- https://twitter.com/Randomazer/status/1370382802408067080\n",
    "- https://twitter.com/felixge/status/1359860018783387655\n",
    "- https://github.com/DataDog/go-profiler-notes/blob/main/pprof.md\n",
    "- [Functional Programming in Go With dcode](https://medium.com/@arschles/functional-programming-in-go-with-dcode-2d28f88bf24c)\n",
    "- [Fuzzing](https://dgraph.io/blog/post/continuous-fuzzing-with-go/)\n",
    "- https://github.com/AlekSi/golang-tip\n",
    "- https://scene-si.org/2016/06/01/golang-tips-and-tricks/"
   ]
  },
  {
   "cell_type": "markdown",
   "id": "7610126d",
   "metadata": {},
   "source": [
    "## Reading\n",
    "\n",
    "* code gen https://habr.com/ru/company/omprussia/blog/558690/"
   ]
  },
  {
   "cell_type": "code",
   "execution_count": null,
   "id": "6ed9573d",
   "metadata": {},
   "outputs": [],
   "source": []
  }
 ],
 "metadata": {
  "hide_input": false,
  "kernelspec": {
   "display_name": "Go",
   "language": "go",
   "name": "gophernotes"
  },
  "language_info": {
   "codemirror_mode": "",
   "file_extension": ".go",
   "mimetype": "",
   "name": "go",
   "nbconvert_exporter": "",
   "pygments_lexer": "",
   "version": "go1.16.4"
  },
  "toc": {
   "base_numbering": 1,
   "nav_menu": {},
   "number_sections": false,
   "sideBar": true,
   "skip_h1_title": true,
   "title_cell": "Table of Contents",
   "title_sidebar": "Contents",
   "toc_cell": false,
   "toc_position": {},
   "toc_section_display": true,
   "toc_window_display": true
  }
 },
 "nbformat": 4,
 "nbformat_minor": 5
}
