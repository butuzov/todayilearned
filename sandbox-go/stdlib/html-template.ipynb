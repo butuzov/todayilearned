{
 "cells": [
  {
   "cell_type": "markdown",
   "id": "pressing-albania",
   "metadata": {},
   "source": [
    "# `html/template`\n",
    "\n",
    "- https://golang.org/pkg/text/template/\n",
    "- https://golang.org/pkg/html/template/"
   ]
  },
  {
   "cell_type": "code",
   "execution_count": 1,
   "id": "selected-outreach",
   "metadata": {
    "ExecuteTime": {
     "end_time": "2021-06-14T14:07:40Z",
     "start_time": "2021-06-14T14:07:40.168Z"
    }
   },
   "outputs": [],
   "source": [
    "import \"log\"\n",
    "import \"os\""
   ]
  },
  {
   "cell_type": "code",
   "execution_count": 2,
   "id": "political-destiny",
   "metadata": {
    "ExecuteTime": {
     "end_time": "2021-06-14T14:07:40Z",
     "start_time": "2021-06-14T14:07:40.170Z"
    }
   },
   "outputs": [],
   "source": [
    "import \"html/template\""
   ]
  },
  {
   "cell_type": "code",
   "execution_count": 3,
   "id": "tropical-montreal",
   "metadata": {
    "ExecuteTime": {
     "end_time": "2021-06-14T14:07:40Z",
     "start_time": "2021-06-14T14:07:40.172Z"
    }
   },
   "outputs": [],
   "source": [
    "var tpl = `\n",
    "Dear {{.Name}},\n",
    "{{if .Attended}}\n",
    "It was a pleasure to see you at the wedding.\n",
    "{{- else}}\n",
    "It is a shame you couldn't make it to the wedding.\n",
    "{{- end}}\n",
    "{{with .Gift -}}\n",
    "Thank you for the lovely {{.}}.\n",
    "{{end}}\n",
    "Best wishes,\n",
    "Josie\n",
    "------------------------------------------------------\n",
    "`"
   ]
  },
  {
   "cell_type": "code",
   "execution_count": 4,
   "id": "contrary-olympus",
   "metadata": {
    "ExecuteTime": {
     "end_time": "2021-06-14T14:07:40Z",
     "start_time": "2021-06-14T14:07:40.173Z"
    }
   },
   "outputs": [],
   "source": [
    "t := template.Must(template.New(\"tpl\").Parse(tpl))"
   ]
  },
  {
   "cell_type": "code",
   "execution_count": 5,
   "id": "korean-brain",
   "metadata": {
    "ExecuteTime": {
     "end_time": "2021-06-14T14:07:40Z",
     "start_time": "2021-06-14T14:07:40.175Z"
    }
   },
   "outputs": [],
   "source": [
    "data := []struct {\n",
    "\tName, Gift string\n",
    "\tAttended   bool\n",
    "}{\n",
    "\t{\"Aunt Mildred\", \"bone china tea set\", true},\n",
    "\t{\"Uncle John\", \"moleskin pants\", false},\n",
    "\t{\"Cousin Rodney\", \"\", false},\n",
    "}"
   ]
  },
  {
   "cell_type": "code",
   "execution_count": 6,
   "id": "atmospheric-prototype",
   "metadata": {
    "ExecuteTime": {
     "end_time": "2021-06-14T14:07:40Z",
     "start_time": "2021-06-14T14:07:40.177Z"
    }
   },
   "outputs": [
    {
     "name": "stdout",
     "output_type": "stream",
     "text": [
      "\n",
      "Dear Aunt Mildred,\n",
      "\n",
      "It was a pleasure to see you at the wedding.\n",
      "Thank you for the lovely bone china tea set.\n",
      "\n",
      "Best wishes,\n",
      "Josie\n",
      "------------------------------------------------------\n",
      "\n",
      "Dear Uncle John,\n",
      "\n",
      "It is a shame you couldn't make it to the wedding.\n",
      "Thank you for the lovely moleskin pants.\n",
      "\n",
      "Best wishes,\n",
      "Josie\n",
      "------------------------------------------------------\n",
      "\n",
      "Dear Cousin Rodney,\n",
      "\n",
      "It is a shame you couldn't make it to the wedding.\n",
      "\n",
      "Best wishes,\n",
      "Josie\n",
      "------------------------------------------------------\n"
     ]
    }
   ],
   "source": [
    "for _, r := range data {\n",
    "\terr := t.Execute(os.Stdout, r)\n",
    "\tif err != nil {\n",
    "\t\tlog.Println(\"executing template:\", err)\n",
    "\t}\n",
    "tpl}"
   ]
  },
  {
   "cell_type": "markdown",
   "id": "invisible-scope",
   "metadata": {},
   "source": [
    "## Binary comparison operators (defined as functions):"
   ]
  },
  {
   "cell_type": "markdown",
   "id": "imposed-renewal",
   "metadata": {},
   "source": [
    "* `eq` - Returns the boolean truth of `arg1` == `arg2`\n",
    "* `ne` - Returns the boolean truth of `arg1` != `arg2`\n",
    "* `lt` - Returns the boolean truth of `arg1` < `arg2`\n",
    "* `le` - Returns the boolean truth of `arg1` <= `arg2`\n",
    "* `gt` - Returns the boolean truth of `arg1` > `arg2`\n",
    "* `ge` - Returns the boolean truth of `arg1` >= `arg2`"
   ]
  },
  {
   "cell_type": "code",
   "execution_count": 7,
   "id": "regular-livestock",
   "metadata": {
    "ExecuteTime": {
     "end_time": "2021-06-14T14:07:40Z",
     "start_time": "2021-06-14T14:07:40.179Z"
    }
   },
   "outputs": [
    {
     "name": "stdout",
     "output_type": "stream",
     "text": [
      "Good Night"
     ]
    }
   ],
   "source": [
    "tpl  := `{{if or (gt .Hour 21) (le .Hour 7) }}Good Night{{else}}Good Other Time of the 24 hours{{end}}`\n",
    "t := template.Must(template.New(\"tpl\").Parse(tpl))\n",
    "\n",
    "t.Execute(os.Stdout, struct{\n",
    "    Hour    int \n",
    "}{4})"
   ]
  },
  {
   "cell_type": "markdown",
   "id": "southern-feedback",
   "metadata": {},
   "source": [
    "### Descreet Functions \n",
    "\n",
    "* `and` \n",
    "* `not`\n",
    "* `or`"
   ]
  },
  {
   "cell_type": "code",
   "execution_count": 8,
   "id": "million-employer",
   "metadata": {
    "ExecuteTime": {
     "end_time": "2021-06-14T14:07:40Z",
     "start_time": "2021-06-14T14:07:40.182Z"
    }
   },
   "outputs": [
    {
     "name": "stdout",
     "output_type": "stream",
     "text": [
      "Red Ball"
     ]
    }
   ],
   "source": [
    "tpl  := `{{if and .IsRed .IsRound}}{{.Name}}{{end}}`\n",
    "t := template.Must(template.New(\"tpl\").Parse(tpl))\n",
    "\n",
    "t.Execute(os.Stdout, struct{\n",
    "    Name    string \n",
    "    IsRed   bool\n",
    "    IsRound bool\n",
    "}{\"Red Ball\", true, true})"
   ]
  },
  {
   "cell_type": "code",
   "execution_count": 9,
   "id": "accurate-preference",
   "metadata": {
    "ExecuteTime": {
     "end_time": "2021-06-14T14:07:40Z",
     "start_time": "2021-06-14T14:07:40.184Z"
    }
   },
   "outputs": [
    {
     "name": "stdout",
     "output_type": "stream",
     "text": [
      "Blue Ball"
     ]
    }
   ],
   "source": [
    "tpl  := `{{if or .IsRed .IsRound}}{{.Name}}{{end}}`\n",
    "t := template.Must(template.New(\"tpl\").Parse(tpl))\n",
    "\n",
    "t.Execute(os.Stdout, struct{\n",
    "    Name    string \n",
    "    IsRed   bool\n",
    "    IsRound bool\n",
    "}{\"Blue Ball\", false, true})"
   ]
  },
  {
   "cell_type": "markdown",
   "id": "aging-witness",
   "metadata": {},
   "source": [
    "## Other Functions \n",
    "\n",
    "* `call` \n",
    "* `html` \n",
    "* `index` \n",
    "* `slice` \n",
    "* `js` \n",
    "* `len`\n",
    "* `print` \n",
    "* `printf` \n",
    "* `println`\n",
    "* `urlquery` "
   ]
  },
  {
   "cell_type": "markdown",
   "id": "first-discrimination",
   "metadata": {},
   "source": [
    "## Range Over"
   ]
  },
  {
   "cell_type": "code",
   "execution_count": 10,
   "id": "spatial-holiday",
   "metadata": {
    "ExecuteTime": {
     "end_time": "2021-06-14T14:07:40Z",
     "start_time": "2021-06-14T14:07:40.188Z"
    }
   },
   "outputs": [
    {
     "name": "stdout",
     "output_type": "stream",
     "text": [
      " - Pickachu \n",
      " - Ratata \n",
      " - Mr. Mime \n"
     ]
    }
   ],
   "source": [
    "tpl  := `{{range .}} - {{.Name}} \n",
    "{{end}}`\n",
    "t := template.Must(template.New(\"tpl\").Parse(tpl))\n",
    "\n",
    "t.Execute(os.Stdout, []struct{\n",
    "    Name    string\n",
    "}{\n",
    "    {\"Pickachu\"},\n",
    "    {\"Ratata\"},\n",
    "    {\"Mr. Mime\"},\n",
    "})"
   ]
  },
  {
   "cell_type": "markdown",
   "id": "derived-accommodation",
   "metadata": {},
   "source": [
    "## Try "
   ]
  },
  {
   "cell_type": "code",
   "execution_count": 11,
   "id": "ultimate-network",
   "metadata": {
    "ExecuteTime": {
     "end_time": "2021-06-14T14:07:40Z",
     "start_time": "2021-06-14T14:07:40.190Z"
    }
   },
   "outputs": [
    {
     "name": "stdout",
     "output_type": "stream",
     "text": [
      "pickachu"
     ]
    }
   ],
   "source": [
    "tpl  := `{{.Name}}`\n",
    "t := template.Must(template.New(\"tpl\").Parse(tpl))\n",
    "\n",
    "t.Execute(os.Stdout, struct{\n",
    "    Name    string\n",
    "}{ \"pickachu\"})"
   ]
  },
  {
   "cell_type": "code",
   "execution_count": null,
   "id": "small-minimum",
   "metadata": {},
   "outputs": [],
   "source": []
  }
 ],
 "metadata": {
  "hide_input": false,
  "kernelspec": {
   "display_name": "Go",
   "language": "go",
   "name": "gophernotes"
  },
  "language_info": {
   "codemirror_mode": "",
   "file_extension": ".go",
   "mimetype": "",
   "name": "go",
   "nbconvert_exporter": "",
   "pygments_lexer": "",
   "version": "go1.16.4"
  },
  "toc": {
   "base_numbering": 1,
   "nav_menu": {},
   "number_sections": false,
   "sideBar": true,
   "skip_h1_title": true,
   "title_cell": "Table of Contents",
   "title_sidebar": "Contents",
   "toc_cell": false,
   "toc_position": {},
   "toc_section_display": true,
   "toc_window_display": false
  }
 },
 "nbformat": 4,
 "nbformat_minor": 5
}
