{
 "cells": [
  {
   "cell_type": "markdown",
   "metadata": {},
   "source": [
    "`$talks`\n",
    "- [GopherCon 2017: Keith Randall - Generating Better Machine Code with SSA](https://www.softwaretalks.io/v/11883/gophercon-2017-keith-randall-generating-better-machine-code-with-ssa)\n",
    "- [Debug code generation in Go](https://archive.fosdem.org/2020/schedule/event/debugcodegenerationgo/)\n"
   ]
  },
  {
   "cell_type": "markdown",
   "metadata": {},
   "source": [
    "# Go Tools"
   ]
  },
  {
   "cell_type": "markdown",
   "metadata": {},
   "source": [
    "## `go tool`"
   ]
  },
  {
   "cell_type": "markdown",
   "metadata": {},
   "source": [
    "### `go tool compile` "
   ]
  },
  {
   "cell_type": "markdown",
   "metadata": {},
   "source": [
    "https://golang.org/cmd/compile/\n",
    "\n",
    "#####  `$GOOS`\n",
    "The list of valid GOOS values includes android, darwin, dragonfly, freebsd, linux, nacl, netbsd, openbsd, plan9, solaris, windows, and zos. "
   ]
  },
  {
   "cell_type": "markdown",
   "metadata": {},
   "source": [
    "##### `$GOARCH`\n",
    "\n",
    "On the other hand, the list of valid GOARCH values includes 386, amd64, amd64p32, arm, armbe, arm64, arm64be, ppc64, ppc64le, mips, mipsle, mips64, mips64le, mips64p32, mips64p32le, ppc, s390, s390x, sparc, and sparc64.\n",
    "\n",
    "```bash\n",
    "# Print assembly listing to standard output\n",
    "GOOS=darwin GOARCH=amd64 go tool compile -S main.go\n",
    "\n",
    "# Debug parse tree after type checking.\n",
    "go tool compile -W main.go\n",
    "\n",
    "# Compline only package \n",
    "go tool compile package.go && ls -la\n",
    "> package.o\n",
    "```\n"
   ]
  },
  {
   "cell_type": "markdown",
   "metadata": {},
   "source": [
    "### `go tool objdump`"
   ]
  },
  {
   "cell_type": "markdown",
   "metadata": {
    "ExecuteTime": {
     "end_time": "2021-10-25T03:21:26Z",
     "start_time": "2021-10-25T03:21:26.835Z"
    }
   },
   "source": [
    "```shell\n",
    "# dump go-asm\n",
    "go tool objdump ./prj \n",
    "\n",
    "// dump source code of the main.main\n",
    "go tool objdump -S -s main.main ./prj \n",
    "```"
   ]
  },
  {
   "cell_type": "markdown",
   "metadata": {},
   "source": [
    "### `go tool nm` "
   ]
  },
  {
   "cell_type": "markdown",
   "metadata": {
    "ExecuteTime": {
     "end_time": "2021-10-25T03:24:05Z",
     "start_time": "2021-10-25T03:24:05.092Z"
    }
   },
   "source": [
    "Nm lists the symbols defined or used by an object file, archive, or executable."
   ]
  },
  {
   "cell_type": "markdown",
   "metadata": {},
   "source": [
    "Types are:\n",
    "\n",
    "- T\ttext (code) segment symbol\n",
    "- t\tstatic text segment symbol\n",
    "- R\tread-only data segment symbol\n",
    "- r\tstatic read-only data segment symbol\n",
    "- D\tdata segment symbol\n",
    "- d\tstatic data segment symbol\n",
    "- B\tbss segment symbol\n",
    "- b\tstatic bss segment symbol\n",
    "- C\tconstant address\n",
    "- U\treferenced but undefined symbol"
   ]
  },
  {
   "cell_type": "markdown",
   "metadata": {},
   "source": [
    "`go tool nm ./prj | grep smthing` "
   ]
  },
  {
   "cell_type": "code",
   "execution_count": null,
   "metadata": {},
   "outputs": [],
   "source": []
  },
  {
   "cell_type": "markdown",
   "metadata": {},
   "source": [
    "## `go build`\n"
   ]
  },
  {
   "cell_type": "markdown",
   "metadata": {},
   "source": [
    "https://golang.org/cmd/buildid/\n",
    "\n",
    "```bash\n",
    "\n",
    "# show $WORK directory \n",
    "go build --work .\n",
    "\n",
    "# Dry run + -work\n",
    "go build -n .\n",
    "\n",
    "# Explicit output of the build process\n",
    "go build -x .\n",
    "\n",
    "# Escape analysis\n",
    "go build -gcflags=\"-m\"\n",
    "# more info\n",
    "go build -gcflags=\"-m=5\"\n",
    "\n",
    "# go ASM\n",
    "go build -gcflags=\"-S\"\n",
    "\n",
    "# disbale optimizations\n",
    "go build -gcflags=\"-N\" .\n",
    "# disable inlining\n",
    "go build -gcflags=\"-l\" .\n",
    "# disable both\n",
    "go build -gcflags=\"-N -l\" .\n",
    "\n",
    "\n",
    "# bce checks https://go101.org/article/bounds-check-elimination.html\n",
    "go build -gcflags=\"-d=ssa/check_bce/debug=1\"\n",
    "\n",
    "# generate ssa dump\n",
    "GOSSAFUNC=main go build .\n",
    "\n",
    "# Garbage collector liveness bitmap generation.\n",
    "# https://docs.studygolang.com/src/cmd/compile/internal/liveness/plive.go\n",
    "# go build -gcflags=\"-live\" .\n",
    "go build -gcflags=\"-live=2\" .\n",
    "\n",
    "\n",
    "# adding extras\n",
    "go build -gcflags=\"-bench=bench.out\"\n",
    "go build -gcflags=\"-race\" # race detector\n",
    "go build -gcflags=\"-memprofile=profile.out\"\n",
    "go build -gcflags=\"-traceprofile=trace.out\"\n",
    "```"
   ]
  },
  {
   "cell_type": "markdown",
   "metadata": {},
   "source": [
    "- [ ] TODO: https://www.softwaretalks.io/v/11883/gophercon-2017-keith-randall-generating-better-machine-code-with-ssa"
   ]
  },
  {
   "cell_type": "markdown",
   "metadata": {
    "heading_collapsed": true
   },
   "source": [
    "## `go mod` - Go Modules"
   ]
  },
  {
   "cell_type": "markdown",
   "metadata": {
    "hidden": true
   },
   "source": [
    "The commands are:\n",
    "\n",
    "* `download` - download modules to local cache\n",
    "* `edit` - edit go.mod from tools or scripts\n",
    "* `graph`  - print module requirement graph\n",
    "* `init` - initialize new module in current directory\n",
    "* `tidy` - add missing and remove unused modules\n",
    "* `vendor` - make vendored copy of dependencies\n",
    "* `verify` - verify dependencies have expected content\n",
    "* `why` - explain why packages or modules are needed\n",
    "\n",
    "\n",
    "```bash\n",
    "# go mod <command> [arguments]\n",
    "go mod init <name>\n",
    "go get -u ./...\n",
    "\n",
    "# vendore deps\n",
    "go mod vendor\n",
    "\n",
    "# update dependency\n",
    "go get -u <url>\n",
    "go mod vendor\n",
    "\n",
    "# why we have this dependency?\n",
    "go mod why github.com/sirupsen/logrus\n",
    "# or \n",
    "go mod graph | grep logrus\n",
    "\n",
    "# editing\n",
    "# remove from require\n",
    "go mod edit -droprequire github.com/sirupsen/logrus\n",
    "# add to repalce block\n",
    "go mod edit -replace github.com/sirupsen/logrus=./logrus/local\n",
    "```"
   ]
  },
  {
   "cell_type": "markdown",
   "metadata": {
    "heading_collapsed": true
   },
   "source": [
    "## `godoc` - Documentation"
   ]
  },
  {
   "cell_type": "markdown",
   "metadata": {
    "hidden": true
   },
   "source": [
    "Go Documentation + Package Documentation \n",
    "\n",
    "```bash\n",
    "# running local documentation\n",
    "godoc -http :8000\n",
    "```"
   ]
  },
  {
   "cell_type": "markdown",
   "metadata": {
    "heading_collapsed": true
   },
   "source": [
    "## `go doc` \n"
   ]
  },
  {
   "cell_type": "markdown",
   "metadata": {
    "hidden": true
   },
   "source": [
    "Doc prints the documentation comments associated with the item identified by its arguments (a package, const, func, type, var, method, or struct field) followed by a one-line summary of each of the first-level items \"under\" that item (package-level declarations for a package, methods for a type, etc.).\n",
    "\n",
    "\n",
    "```bash\n",
    "# show short info about json package\n",
    "go doc json\n",
    "```"
   ]
  },
  {
   "cell_type": "markdown",
   "metadata": {
    "heading_collapsed": true
   },
   "source": [
    "## `go env`  Environment information "
   ]
  },
  {
   "cell_type": "markdown",
   "metadata": {
    "hidden": true
   },
   "source": [
    "```bash\n",
    "go env\n",
    "go env -json\n",
    "go env -w \"GOPATH=/www/path/\"\n",
    "```"
   ]
  },
  {
   "cell_type": "markdown",
   "metadata": {},
   "source": [
    "## `go list`  - List lists the named packages "
   ]
  },
  {
   "cell_type": "markdown",
   "metadata": {},
   "source": [
    "https://dave.cheney.net/2014/09/14/go-list-your-swiss-army-knife\n",
    "\n",
    "```bash\n",
    "# std\n",
    "go list std\n",
    "\n",
    "# The -json flag tells you everything the go tool knows about a package:\n",
    "# checkout\n",
    "#     go help list\n",
    "# to see info about Package struct\n",
    "go list -json std\n",
    "\n",
    "# Custom formated output\n",
    "go list -f '{{.Doc}}' std\n",
    "\n",
    "# Show Package Files\n",
    "go list -f '{{join .GoFiles \" \"}}' bytes\n",
    "\n",
    "# No Docs\n",
    "go list -f '{{if not .Doc}}{{.ImportPath}}{{end}}' std\n",
    "\n",
    "# Find Packages that depands of golang.org/x/oauth2 package\n",
    "go list -f '{{range .Deps}}{{if eq . \"golang.org/x/oauth2\"}}{{$.ImportPath}}{{end}}{{end}}' all\n",
    "\n",
    "# Broken\n",
    "go list -e -f '{{with .Error}}{{.}}{{end}}' all\n",
    "\n",
    "# go list printing line counts\n",
    "for pkg in $(go list golang.org/x/oauth2/...); do\n",
    "    wc -l $(go list -f '{{range .GoFiles}}{{$.Dir}}/{{.}} {{end}}' $pkg) | \\\n",
    "        tail -1 | awk '{ print $1 \" '$pkg'\" }'\n",
    "done | sort -nr\n",
    "\n",
    "> 617 golang.org/x/oauth2/google\n",
    "> 600 golang.org/x/oauth2\n",
    "> 357 golang.org/x/oauth2/internal\n",
    "> 160 golang.org/x/oauth2/jws\n",
    "> 147 golang.org/x/oauth2/jwt\n",
    "> 112 golang.org/x/oauth2/clientcredentials\n",
    "> 22 golang.org/x/oauth2/paypal\n",
    "> 16 golang.org/x/oauth2/vk\n",
    "> 16 golang.org/x/oauth2/odnoklassniki\n",
    "> 16 golang.org/x/oauth2/linkedin\n",
    "> 16 golang.org/x/oauth2/github\n",
    "> 16 golang.org/x/oauth2/facebook\n",
    "\n",
    "\n",
    "# Dependency Graph\n",
    "(   echo \"digraph G {\"\n",
    "    go list -f '{{range .Imports}}{{printf \"\\t%q -> %q;\\n\" $.ImportPath .}}{{end}}' \\\n",
    "        $(go list -f '{{join .Deps \" \"}}' time) time\n",
    "    echo \"}\"\n",
    ") | dot -Tsvg -o time-deps.svg\n",
    "\n",
    " \n",
    "deps() {\n",
    "        go list -f '{{ join .Deps  \"\\n\"}}' . | grep pkgname\n",
    "}\n",
    "\n",
    "deps\n",
    "\n",
    "# printing paltform specific files\n",
    "env GOOS=darwin go list -f '{{ .GoFiles }}' github.com/pkg/term\n",
    "[term.go term_bsd.go]\n",
    "```\n"
   ]
  },
  {
   "cell_type": "markdown",
   "metadata": {
    "heading_collapsed": true
   },
   "source": [
    "## `go test`\n",
    "[Go testing Package](testing)"
   ]
  },
  {
   "cell_type": "markdown",
   "metadata": {
    "hidden": true
   },
   "source": [
    "```shell\n",
    "# Coverage for local packages except osme of them...\n",
    "\n",
    "export PKGS=$(go list ./... | grep -vE \"(gotests/gotests|.*data|templates)\" | tr -s '\\n' ',' | sed 's/.\\{1\\}$//')\n",
    "go test -v -covermode=count -coverpkg=$PKGS -coverprofile=coverage.cov\n",
    "\n",
    "# Find what tests were skipped\n",
    "go test -v . | grep SKIP\n",
    "\n",
    "# run tests 10 times + verbose output (also cleans cache)\n",
    "go test -v -test.count 10 .\n",
    "\n",
    "# clean cache \n",
    "go clean -testcache\n",
    "\n",
    "# run on 2 cores\n",
    "go test -v -test.count 10 -test.cpu 2 .\n",
    "\n",
    "# run tests (filter by name)\n",
    "go test -v -run S .\n",
    "\n",
    "# run 4 runners tests \n",
    "go test -v -parallel 4 .\n",
    "\n",
    "# run 4 runners tests \n",
    "go test -race .\n",
    "\n",
    "# json \n",
    "go test -v --json .\n",
    "\n",
    "# just compiling test code\n",
    "go test --exec=/bin/true ./...\n",
    "go test -c pkg\n",
    "\n",
    "# Using jq to filter output of json based export.\n",
    "go test -json | jq -s 'map(select(.Test != null)) | sort_by(.Elapsed)'\n",
    "\n",
    "# benchmarks (+ memory)\n",
    "go test -json -benchmem -run=^$ -bench .\n",
    "```"
   ]
  },
  {
   "cell_type": "code",
   "execution_count": null,
   "metadata": {
    "hidden": true
   },
   "outputs": [],
   "source": []
  }
 ],
 "metadata": {
  "hide_input": false,
  "kernelspec": {
   "display_name": "Go",
   "language": "go",
   "name": "gophernotes"
  },
  "language_info": {
   "codemirror_mode": "",
   "file_extension": ".go",
   "mimetype": "",
   "name": "go",
   "nbconvert_exporter": "",
   "pygments_lexer": "",
   "version": "go1.17.1"
  },
  "toc": {
   "base_numbering": 1,
   "nav_menu": {},
   "number_sections": false,
   "sideBar": true,
   "skip_h1_title": true,
   "title_cell": "Table of Contents",
   "title_sidebar": "Contents",
   "toc_cell": false,
   "toc_position": {},
   "toc_section_display": true,
   "toc_window_display": true
  }
 },
 "nbformat": 4,
 "nbformat_minor": 2
}
