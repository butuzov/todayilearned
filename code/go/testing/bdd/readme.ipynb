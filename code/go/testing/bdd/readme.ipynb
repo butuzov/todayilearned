{
 "cells": [
  {
   "cell_type": "markdown",
   "id": "da18f6a9-e424-449a-8ea0-79bc17fe665e",
   "metadata": {},
   "source": [
    "# BDD"
   ]
  },
  {
   "cell_type": "markdown",
   "id": "9ac41df1-b4f9-4033-b7a9-96bdb3d45175",
   "metadata": {},
   "source": [
    "aka `behaviour driven development`"
   ]
  },
  {
   "cell_type": "code",
   "execution_count": null,
   "id": "42c8b2e9-3c93-445f-b9ad-fe6cfcf8a29e",
   "metadata": {},
   "outputs": [],
   "source": []
  }
 ],
 "metadata": {
  "kernelspec": {
   "display_name": "Go",
   "language": "go",
   "name": "golang"
  },
  "language_info": {
   "codemirror_mode": "",
   "file_extension": ".go",
   "mimetype": "",
   "name": "go",
   "nbconvert_exporter": "",
   "pygments_lexer": "",
   "version": "go1.20.5"
  }
 },
 "nbformat": 4,
 "nbformat_minor": 5
}
