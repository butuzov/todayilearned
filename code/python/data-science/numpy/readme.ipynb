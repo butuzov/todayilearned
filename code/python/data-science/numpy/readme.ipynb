{
 "cells": [
  {
   "cell_type": "markdown",
   "metadata": {},
   "source": [
    "# numpy"
   ]
  },
  {
   "cell_type": "markdown",
   "metadata": {
    "hide_input": false
   },
   "source": [
    "![image.png](numpy.png)"
   ]
  },
  {
   "cell_type": "code",
   "execution_count": 1,
   "metadata": {
    "ExecuteTime": {
     "end_time": "2019-04-23T16:41:53.892172Z",
     "start_time": "2019-04-23T16:41:52.829064Z"
    }
   },
   "outputs": [],
   "source": [
    "# main lib\n",
    "import numpy as np\n",
    "\n",
    "# for additional examples\n",
    "import pandas as pd\n",
    "import matplotlib.pyplot as plt"
   ]
  },
  {
   "cell_type": "markdown",
   "metadata": {
    "ExecuteTime": {
     "end_time": "2019-03-04T13:59:44.655951Z",
     "start_time": "2019-03-04T13:59:44.652702Z"
    }
   },
   "source": [
    "## Creating Numpy Arrays\n",
    "\n",
    "* `array` - Convert input data (list, tuple, array, or other sequence type) to an ndarray either by inferring a dtype or explicitly specifying a dtype. Copies the input data by default.\n",
    "* `asarray` - Convert input to ndarray, but do not copy if the input is already an ndarray\n",
    "* `arange` - Like the built-in range but returns an ndarray instead of a list.\n",
    "* `ones`, `ones_like` - Produce an array of all 1’s with the given shape and dtype. ones_like takes another array and produces a ones array of the same shape and dtype.\n",
    "* `zeros`, `zeros_like` - Like ones and ones_like but producing arrays of 0’s instead\n",
    "* `empty`, `empty_like` - Create new arrays by allocating new memory, but do not populate with any values like ones and zeros\n",
    "* `full`, `full_like` - Create new array with predefined value.\n",
    "* `eye`, `identity` - Create a square N x N identity matrix (1’s on the diagonal and 0’s elsewhere)\n",
    "* `triu` and `tril` - Upper/Lower triangle of an array."
   ]
  },
  {
   "cell_type": "code",
   "execution_count": 2,
   "metadata": {
    "ExecuteTime": {
     "end_time": "2019-04-23T16:41:53.906937Z",
     "start_time": "2019-04-23T16:41:53.896778Z"
    }
   },
   "outputs": [
    {
     "data": {
      "text/plain": [
       "array([0.14381165, 0.43957196, 0.64480165, 0.29396112, 0.03620634,\n",
       "       0.324091  , 0.01413331, 0.61707653, 0.55425182, 0.76508725])"
      ]
     },
     "execution_count": 2,
     "metadata": {},
     "output_type": "execute_result"
    }
   ],
   "source": [
    "# random array\n",
    "np.random.random(10)"
   ]
  },
  {
   "cell_type": "code",
   "execution_count": 3,
   "metadata": {
    "ExecuteTime": {
     "end_time": "2019-04-23T16:41:53.921851Z",
     "start_time": "2019-04-23T16:41:53.910828Z"
    }
   },
   "outputs": [
    {
     "data": {
      "text/plain": [
       "array([[0.84814059, 0.49366146, 0.07357296, 0.86473168, 0.90994484,\n",
       "        0.59937738, 0.81070949, 0.95118411, 0.26313043, 0.40428545],\n",
       "       [0.06764683, 0.31008572, 0.48085707, 0.3123668 , 0.99413403,\n",
       "        0.61140935, 0.27311947, 0.46530946, 0.35310464, 0.49019337],\n",
       "       [0.19613178, 0.65399376, 0.77925913, 0.3325733 , 0.0194955 ,\n",
       "        0.58361935, 0.18698444, 0.56680306, 0.40493511, 0.29486893],\n",
       "       [0.17297747, 0.22939305, 0.76750417, 0.67280111, 0.40667287,\n",
       "        0.2769071 , 0.49143694, 0.61032024, 0.27884701, 0.28583778],\n",
       "       [0.34889296, 0.24250182, 0.50627885, 0.13695109, 0.58947309,\n",
       "        0.37040892, 0.05495742, 0.19997462, 0.40929128, 0.09534295],\n",
       "       [0.91114241, 0.43814007, 0.54084854, 0.48690268, 0.79957151,\n",
       "        0.60292787, 0.04642761, 0.19954316, 0.55384688, 0.87143598],\n",
       "       [0.19789552, 0.92630145, 0.7875622 , 0.52719853, 0.35621211,\n",
       "        0.15969174, 0.13203917, 0.86605477, 0.22833789, 0.88161008],\n",
       "       [0.6079528 , 0.02602084, 0.28829024, 0.25180093, 0.93785455,\n",
       "        0.35431702, 0.19532462, 0.63491947, 0.94570596, 0.07221944],\n",
       "       [0.35733435, 0.31192497, 0.62450735, 0.65710509, 0.06752447,\n",
       "        0.4298031 , 0.57751011, 0.62875046, 0.22889312, 0.55232044],\n",
       "       [0.43244427, 0.57533423, 0.51541704, 0.77377705, 0.45161832,\n",
       "        0.47569954, 0.78782687, 0.60993249, 0.57680231, 0.97852437]])"
      ]
     },
     "execution_count": 3,
     "metadata": {},
     "output_type": "execute_result"
    }
   ],
   "source": [
    "np.random.random((10, 10))"
   ]
  },
  {
   "cell_type": "code",
   "execution_count": 4,
   "metadata": {
    "ExecuteTime": {
     "end_time": "2019-04-23T16:41:53.934438Z",
     "start_time": "2019-04-23T16:41:53.926608Z"
    }
   },
   "outputs": [
    {
     "data": {
      "text/plain": [
       "array([[7, 1, 3, 3, 0, 6, 9, 4, 0, 9],\n",
       "       [9, 3, 0, 9, 7, 8, 1, 7, 5, 3],\n",
       "       [9, 9, 0, 1, 9, 2, 5, 8, 5, 0],\n",
       "       [9, 3, 4, 0, 5, 9, 1, 6, 8, 9],\n",
       "       [3, 9, 2, 9, 6, 7, 3, 1, 3, 1],\n",
       "       [3, 8, 9, 7, 5, 4, 2, 1, 1, 4],\n",
       "       [5, 9, 9, 0, 9, 1, 5, 6, 6, 3],\n",
       "       [4, 8, 7, 0, 1, 5, 8, 3, 0, 7],\n",
       "       [5, 8, 3, 2, 2, 9, 2, 2, 6, 4],\n",
       "       [0, 1, 2, 9, 5, 4, 5, 3, 2, 6]])"
      ]
     },
     "execution_count": 4,
     "metadata": {},
     "output_type": "execute_result"
    }
   ],
   "source": [
    "# transformation\n",
    "(np.random.random((10, 10))*10).astype(int)"
   ]
  },
  {
   "cell_type": "code",
   "execution_count": 5,
   "metadata": {
    "ExecuteTime": {
     "end_time": "2019-04-23T16:41:53.946239Z",
     "start_time": "2019-04-23T16:41:53.938619Z"
    }
   },
   "outputs": [
    {
     "data": {
      "text/plain": [
       "array([0.        , 0.55555556, 1.11111111, 1.66666667, 2.22222222,\n",
       "       2.77777778, 3.33333333, 3.88888889, 4.44444444, 5.        ])"
      ]
     },
     "execution_count": 5,
     "metadata": {},
     "output_type": "execute_result"
    }
   ],
   "source": [
    "# 10 elements from 0 to 5\n",
    "np.linspace(0, 5, 10)"
   ]
  },
  {
   "cell_type": "code",
   "execution_count": 6,
   "metadata": {
    "ExecuteTime": {
     "end_time": "2019-04-23T16:41:53.957351Z",
     "start_time": "2019-04-23T16:41:53.950086Z"
    }
   },
   "outputs": [
    {
     "data": {
      "text/plain": [
       "array([1, 2, 3, 4])"
      ]
     },
     "execution_count": 6,
     "metadata": {},
     "output_type": "execute_result"
    }
   ],
   "source": [
    "# Regular python list\n",
    "np.array([1,2,3,4])"
   ]
  },
  {
   "cell_type": "markdown",
   "metadata": {},
   "source": [
    "NumPy offers several functions to create arrays with initial placeholder content\n",
    "Create an array of zeros with desired shape (x,y)\n",
    "* x == number of rows\n",
    "* y == number of columns in array"
   ]
  },
  {
   "cell_type": "code",
   "execution_count": 7,
   "metadata": {
    "ExecuteTime": {
     "end_time": "2019-04-23T16:41:53.966889Z",
     "start_time": "2019-04-23T16:41:53.960424Z"
    }
   },
   "outputs": [
    {
     "data": {
      "text/plain": [
       "array([[0., 0., 0., 0.],\n",
       "       [0., 0., 0., 0.],\n",
       "       [0., 0., 0., 0.]])"
      ]
     },
     "execution_count": 7,
     "metadata": {},
     "output_type": "execute_result"
    }
   ],
   "source": [
    "np.zeros((3,4))"
   ]
  },
  {
   "cell_type": "code",
   "execution_count": 8,
   "metadata": {
    "ExecuteTime": {
     "end_time": "2019-04-23T16:41:53.978866Z",
     "start_time": "2019-04-23T16:41:53.971544Z"
    }
   },
   "outputs": [
    {
     "data": {
      "text/plain": [
       "array([[1., 1., 1., 1.],\n",
       "       [1., 1., 1., 1.],\n",
       "       [1., 1., 1., 1.]])"
      ]
     },
     "execution_count": 8,
     "metadata": {},
     "output_type": "execute_result"
    }
   ],
   "source": [
    "np.ones((3,4))"
   ]
  },
  {
   "cell_type": "code",
   "execution_count": 9,
   "metadata": {
    "ExecuteTime": {
     "end_time": "2019-04-23T16:41:53.991091Z",
     "start_time": "2019-04-23T16:41:53.984104Z"
    }
   },
   "outputs": [
    {
     "data": {
      "text/plain": [
       "array([[1, 1, 1, 1],\n",
       "       [1, 1, 1, 1],\n",
       "       [1, 1, 1, 1]], dtype=int16)"
      ]
     },
     "execution_count": 9,
     "metadata": {},
     "output_type": "execute_result"
    }
   ],
   "source": [
    "# Using dtype in order to specify the data type\n",
    "np.ones((3,4),dtype=np.int16)"
   ]
  },
  {
   "cell_type": "code",
   "execution_count": 10,
   "metadata": {
    "ExecuteTime": {
     "end_time": "2019-04-23T16:41:54.001863Z",
     "start_time": "2019-04-23T16:41:53.994759Z"
    }
   },
   "outputs": [
    {
     "data": {
      "text/plain": [
       "array([[0., 0., 0.],\n",
       "       [0., 0., 0.]])"
      ]
     },
     "execution_count": 10,
     "metadata": {},
     "output_type": "execute_result"
    }
   ],
   "source": [
    "# np.empty() is not the same as np.zeros()\n",
    "np.empty((2,3))  "
   ]
  },
  {
   "cell_type": "code",
   "execution_count": 11,
   "metadata": {
    "ExecuteTime": {
     "end_time": "2019-04-23T16:41:54.013861Z",
     "start_time": "2019-04-23T16:41:54.005441Z"
    }
   },
   "outputs": [
    {
     "data": {
      "text/plain": [
       "array([[4., 4., 4.],\n",
       "       [4., 4., 4.]])"
      ]
     },
     "execution_count": 11,
     "metadata": {},
     "output_type": "execute_result"
    }
   ],
   "source": [
    "# we also can specify type\n",
    "np.full((2,3), 4, dtype=np.double)  "
   ]
  },
  {
   "cell_type": "code",
   "execution_count": 12,
   "metadata": {
    "ExecuteTime": {
     "end_time": "2019-04-23T16:41:54.024495Z",
     "start_time": "2019-04-23T16:41:54.017429Z"
    }
   },
   "outputs": [
    {
     "data": {
      "text/plain": [
       "array([[1., 0., 0.],\n",
       "       [0., 1., 0.],\n",
       "       [0., 0., 1.]])"
      ]
     },
     "execution_count": 12,
     "metadata": {},
     "output_type": "execute_result"
    }
   ],
   "source": [
    "# np.eye() creates an eyedentity matrix\n",
    "np.eye(3)"
   ]
  },
  {
   "cell_type": "code",
   "execution_count": 13,
   "metadata": {
    "ExecuteTime": {
     "end_time": "2019-04-23T16:41:54.036360Z",
     "start_time": "2019-04-23T16:41:54.028213Z"
    }
   },
   "outputs": [
    {
     "data": {
      "text/plain": [
       "array([[nan, nan, nan, nan],\n",
       "       [nan, nan, nan, nan]])"
      ]
     },
     "execution_count": 13,
     "metadata": {},
     "output_type": "execute_result"
    }
   ],
   "source": [
    "# `*_like` will use input array as example of shape\n",
    "\n",
    "np.full_like(np.zeros((2,4)), np.nan)"
   ]
  },
  {
   "cell_type": "markdown",
   "metadata": {},
   "source": [
    "To create sequences of numbers, NumPy provides a function analogous to range that returns arrays instead of lists\n",
    "\n",
    "`arange(start, stop, step, dtype)`"
   ]
  },
  {
   "cell_type": "code",
   "execution_count": 14,
   "metadata": {
    "ExecuteTime": {
     "end_time": "2019-04-23T16:41:54.049661Z",
     "start_time": "2019-04-23T16:41:54.040789Z"
    }
   },
   "outputs": [
    {
     "data": {
      "text/plain": [
       "array([ 2.,  4.,  6.,  8., 10., 12., 14., 16., 18.])"
      ]
     },
     "execution_count": 14,
     "metadata": {},
     "output_type": "execute_result"
    }
   ],
   "source": [
    "np.arange(2, 20, 2, dtype=float)"
   ]
  },
  {
   "cell_type": "code",
   "execution_count": 15,
   "metadata": {
    "ExecuteTime": {
     "end_time": "2019-04-23T16:41:54.061296Z",
     "start_time": "2019-04-23T16:41:54.052651Z"
    }
   },
   "outputs": [
    {
     "data": {
      "text/plain": [
       "array([ 2,  4,  6,  8, 10, 12, 14, 16, 18])"
      ]
     },
     "execution_count": 15,
     "metadata": {},
     "output_type": "execute_result"
    }
   ],
   "source": [
    "np.arange(2, 20, 2)"
   ]
  },
  {
   "cell_type": "code",
   "execution_count": 16,
   "metadata": {
    "ExecuteTime": {
     "end_time": "2019-04-23T16:41:54.073327Z",
     "start_time": "2019-04-23T16:41:54.065429Z"
    }
   },
   "outputs": [
    {
     "data": {
      "text/plain": [
       "array([[2, 4, 6],\n",
       "       [3, 5, 7]])"
      ]
     },
     "execution_count": 16,
     "metadata": {},
     "output_type": "execute_result"
    }
   ],
   "source": [
    "array_2d = np.array([(2,4,6),(3,5,7)]) \n",
    "array_2d"
   ]
  },
  {
   "cell_type": "code",
   "execution_count": 17,
   "metadata": {
    "ExecuteTime": {
     "end_time": "2019-04-23T16:41:54.087926Z",
     "start_time": "2019-04-23T16:41:54.078894Z"
    }
   },
   "outputs": [
    {
     "data": {
      "text/plain": [
       "(2, 3)"
      ]
     },
     "execution_count": 17,
     "metadata": {},
     "output_type": "execute_result"
    }
   ],
   "source": [
    "array_2d.shape"
   ]
  },
  {
   "cell_type": "code",
   "execution_count": 18,
   "metadata": {
    "ExecuteTime": {
     "end_time": "2019-04-23T16:41:54.099861Z",
     "start_time": "2019-04-23T16:41:54.091140Z"
    }
   },
   "outputs": [
    {
     "data": {
      "text/plain": [
       "array([[0, 1],\n",
       "       [2, 3],\n",
       "       [4, 5]])"
      ]
     },
     "execution_count": 18,
     "metadata": {},
     "output_type": "execute_result"
    }
   ],
   "source": [
    "# Using reshape to create n dimensional arrays\n",
    "np.arange(6).reshape(3,2) "
   ]
  },
  {
   "cell_type": "markdown",
   "metadata": {
    "ExecuteTime": {
     "end_time": "2019-03-04T14:03:45.174749Z",
     "start_time": "2019-03-04T14:03:45.167484Z"
    }
   },
   "source": [
    "The reshape will only take arguments that multiply to the number in arange function.\n",
    "For example: for arange(8), the possible combinations for reshape are `(2,4)`, `(4,2)`, `(2,2,2)`"
   ]
  },
  {
   "cell_type": "code",
   "execution_count": 19,
   "metadata": {
    "ExecuteTime": {
     "end_time": "2019-04-23T16:41:54.110410Z",
     "start_time": "2019-04-23T16:41:54.103221Z"
    }
   },
   "outputs": [
    {
     "data": {
      "text/plain": [
       "array([[0],\n",
       "       [1],\n",
       "       [2],\n",
       "       [3],\n",
       "       [4],\n",
       "       [5]])"
      ]
     },
     "execution_count": 19,
     "metadata": {},
     "output_type": "execute_result"
    }
   ],
   "source": [
    "np.arange(6).reshape(6,1) "
   ]
  },
  {
   "cell_type": "code",
   "execution_count": 20,
   "metadata": {
    "ExecuteTime": {
     "end_time": "2019-04-23T16:41:54.122874Z",
     "start_time": "2019-04-23T16:41:54.114512Z"
    }
   },
   "outputs": [
    {
     "data": {
      "text/plain": [
       "array([[0],\n",
       "       [0],\n",
       "       [0],\n",
       "       [0],\n",
       "       [0],\n",
       "       [0]])"
      ]
     },
     "execution_count": 20,
     "metadata": {},
     "output_type": "execute_result"
    }
   ],
   "source": [
    " np.zeros_like(np.arange(6).reshape(6,1))"
   ]
  },
  {
   "cell_type": "code",
   "execution_count": 21,
   "metadata": {
    "ExecuteTime": {
     "end_time": "2019-04-23T16:41:54.135378Z",
     "start_time": "2019-04-23T16:41:54.125994Z"
    }
   },
   "outputs": [
    {
     "data": {
      "text/plain": [
       "array([[1],\n",
       "       [1],\n",
       "       [1],\n",
       "       [1],\n",
       "       [1],\n",
       "       [1]])"
      ]
     },
     "execution_count": 21,
     "metadata": {},
     "output_type": "execute_result"
    }
   ],
   "source": [
    "np.ones_like(np.arange(6).reshape(6,1))"
   ]
  },
  {
   "cell_type": "code",
   "execution_count": 22,
   "metadata": {
    "ExecuteTime": {
     "end_time": "2019-04-23T16:41:54.147337Z",
     "start_time": "2019-04-23T16:41:54.138000Z"
    }
   },
   "outputs": [
    {
     "data": {
      "text/plain": [
       "array([[9, 9, 0, 7, 0],\n",
       "       [0, 5, 6, 1, 3],\n",
       "       [0, 0, 8, 9, 0],\n",
       "       [0, 0, 0, 8, 4],\n",
       "       [0, 0, 0, 0, 0]])"
      ]
     },
     "execution_count": 22,
     "metadata": {},
     "output_type": "execute_result"
    }
   ],
   "source": [
    "np.triu((np.random.random((5, 5))*10).astype(int))"
   ]
  },
  {
   "cell_type": "code",
   "execution_count": 23,
   "metadata": {
    "ExecuteTime": {
     "end_time": "2019-04-23T16:41:54.164748Z",
     "start_time": "2019-04-23T16:41:54.156453Z"
    }
   },
   "outputs": [
    {
     "data": {
      "text/plain": [
       "array([[0, 0, 5, 6, 1],\n",
       "       [0, 0, 1, 9, 0],\n",
       "       [0, 0, 0, 2, 4],\n",
       "       [0, 0, 0, 0, 4],\n",
       "       [0, 0, 0, 0, 0]])"
      ]
     },
     "execution_count": 23,
     "metadata": {},
     "output_type": "execute_result"
    }
   ],
   "source": [
    "np.triu((np.random.random((5, 5))*10).astype(int), 1)"
   ]
  },
  {
   "cell_type": "code",
   "execution_count": 24,
   "metadata": {
    "ExecuteTime": {
     "end_time": "2019-04-23T16:41:54.187040Z",
     "start_time": "2019-04-23T16:41:54.177423Z"
    }
   },
   "outputs": [
    {
     "data": {
      "text/plain": [
       "array([[6, 0, 0, 0, 0],\n",
       "       [4, 0, 0, 0, 0],\n",
       "       [5, 6, 3, 0, 0],\n",
       "       [8, 2, 0, 7, 0],\n",
       "       [2, 0, 1, 5, 7]])"
      ]
     },
     "execution_count": 24,
     "metadata": {},
     "output_type": "execute_result"
    }
   ],
   "source": [
    "np.tril((np.random.random((5, 5))*10).astype(int))"
   ]
  },
  {
   "cell_type": "code",
   "execution_count": 25,
   "metadata": {
    "ExecuteTime": {
     "end_time": "2019-04-23T16:41:54.201480Z",
     "start_time": "2019-04-23T16:41:54.190362Z"
    }
   },
   "outputs": [
    {
     "data": {
      "text/plain": [
       "array([[4, 5, 0, 0, 0],\n",
       "       [5, 6, 4, 0, 0],\n",
       "       [7, 3, 5, 7, 0],\n",
       "       [7, 9, 6, 0, 0],\n",
       "       [0, 6, 4, 0, 0]])"
      ]
     },
     "execution_count": 25,
     "metadata": {},
     "output_type": "execute_result"
    }
   ],
   "source": [
    "np.tril((np.random.random((5, 5))*10).astype(int), 1)"
   ]
  },
  {
   "cell_type": "markdown",
   "metadata": {},
   "source": [
    "## Printitng arrays"
   ]
  },
  {
   "cell_type": "code",
   "execution_count": 26,
   "metadata": {
    "ExecuteTime": {
     "end_time": "2019-04-23T16:41:54.212018Z",
     "start_time": "2019-04-23T16:41:54.204749Z"
    }
   },
   "outputs": [
    {
     "name": "stdout",
     "output_type": "stream",
     "text": [
      "[[   0    1    2 ...   97   98   99]\n",
      " [ 100  101  102 ...  197  198  199]\n",
      " [ 200  201  202 ...  297  298  299]\n",
      " ...\n",
      " [9700 9701 9702 ... 9797 9798 9799]\n",
      " [9800 9801 9802 ... 9897 9898 9899]\n",
      " [9900 9901 9902 ... 9997 9998 9999]]\n"
     ]
    }
   ],
   "source": [
    "print(np.arange(10000).reshape(100,100))"
   ]
  },
  {
   "cell_type": "code",
   "execution_count": 27,
   "metadata": {
    "ExecuteTime": {
     "end_time": "2019-04-23T16:41:54.220962Z",
     "start_time": "2019-04-23T16:41:54.215635Z"
    }
   },
   "outputs": [],
   "source": [
    "np.set_printoptions(threshold = 1000)"
   ]
  },
  {
   "cell_type": "code",
   "execution_count": 28,
   "metadata": {
    "ExecuteTime": {
     "end_time": "2019-04-23T16:41:54.233492Z",
     "start_time": "2019-04-23T16:41:54.224741Z"
    }
   },
   "outputs": [
    {
     "name": "stdout",
     "output_type": "stream",
     "text": [
      "[[   0    1    2 ...   97   98   99]\n",
      " [ 100  101  102 ...  197  198  199]\n",
      " [ 200  201  202 ...  297  298  299]\n",
      " ...\n",
      " [9700 9701 9702 ... 9797 9798 9799]\n",
      " [9800 9801 9802 ... 9897 9898 9899]\n",
      " [9900 9901 9902 ... 9997 9998 9999]]\n"
     ]
    }
   ],
   "source": [
    "print(np.arange(10000).reshape(100,100))"
   ]
  },
  {
   "cell_type": "markdown",
   "metadata": {},
   "source": [
    "## Arithmetic Operations\n",
    "\n",
    "If the dimensions of two arrays are dissimilar, element-to-element operations are not possible. However, operations on arrays of non-similar shapes is still possible in NumPy, because of the broadcasting capability.  "
   ]
  },
  {
   "cell_type": "markdown",
   "metadata": {},
   "source": [
    "### Elementwise operations"
   ]
  },
  {
   "cell_type": "code",
   "execution_count": 29,
   "metadata": {
    "ExecuteTime": {
     "end_time": "2019-04-23T16:41:54.241448Z",
     "start_time": "2019-04-23T16:41:54.236752Z"
    }
   },
   "outputs": [],
   "source": [
    "a = np.array([10,10,10])\n",
    "b = np.array([5,5,5])"
   ]
  },
  {
   "cell_type": "code",
   "execution_count": 30,
   "metadata": {
    "ExecuteTime": {
     "end_time": "2019-04-23T16:41:54.254949Z",
     "start_time": "2019-04-23T16:41:54.245204Z"
    }
   },
   "outputs": [
    {
     "data": {
      "text/plain": [
       "array([15, 15, 15])"
      ]
     },
     "execution_count": 30,
     "metadata": {},
     "output_type": "execute_result"
    }
   ],
   "source": [
    "a + b"
   ]
  },
  {
   "cell_type": "code",
   "execution_count": 31,
   "metadata": {
    "ExecuteTime": {
     "end_time": "2019-04-23T16:41:54.265630Z",
     "start_time": "2019-04-23T16:41:54.258076Z"
    }
   },
   "outputs": [
    {
     "data": {
      "text/plain": [
       "array([5, 5, 5])"
      ]
     },
     "execution_count": 31,
     "metadata": {},
     "output_type": "execute_result"
    }
   ],
   "source": [
    "a - b"
   ]
  },
  {
   "cell_type": "code",
   "execution_count": 32,
   "metadata": {
    "ExecuteTime": {
     "end_time": "2019-04-23T16:41:54.277838Z",
     "start_time": "2019-04-23T16:41:54.270220Z"
    }
   },
   "outputs": [
    {
     "data": {
      "text/plain": [
       "array([50, 50, 50])"
      ]
     },
     "execution_count": 32,
     "metadata": {},
     "output_type": "execute_result"
    }
   ],
   "source": [
    "a * b"
   ]
  },
  {
   "cell_type": "code",
   "execution_count": 33,
   "metadata": {
    "ExecuteTime": {
     "end_time": "2019-04-23T16:41:54.289017Z",
     "start_time": "2019-04-23T16:41:54.282493Z"
    }
   },
   "outputs": [
    {
     "data": {
      "text/plain": [
       "array([2., 2., 2.])"
      ]
     },
     "execution_count": 33,
     "metadata": {},
     "output_type": "execute_result"
    }
   ],
   "source": [
    "a / b"
   ]
  },
  {
   "cell_type": "code",
   "execution_count": 34,
   "metadata": {
    "ExecuteTime": {
     "end_time": "2019-04-23T16:41:54.299901Z",
     "start_time": "2019-04-23T16:41:54.293000Z"
    }
   },
   "outputs": [
    {
     "data": {
      "text/plain": [
       "array([1, 1, 1])"
      ]
     },
     "execution_count": 34,
     "metadata": {},
     "output_type": "execute_result"
    }
   ],
   "source": [
    "a % 3  "
   ]
  },
  {
   "cell_type": "code",
   "execution_count": 35,
   "metadata": {
    "ExecuteTime": {
     "end_time": "2019-04-23T16:41:54.310542Z",
     "start_time": "2019-04-23T16:41:54.302809Z"
    }
   },
   "outputs": [
    {
     "data": {
      "text/plain": [
       "array([ True,  True,  True])"
      ]
     },
     "execution_count": 35,
     "metadata": {},
     "output_type": "execute_result"
    }
   ],
   "source": [
    "a < 35"
   ]
  },
  {
   "cell_type": "code",
   "execution_count": 36,
   "metadata": {
    "ExecuteTime": {
     "end_time": "2019-04-23T16:41:54.324330Z",
     "start_time": "2019-04-23T16:41:54.316207Z"
    }
   },
   "outputs": [
    {
     "data": {
      "text/plain": [
       "array([False, False, False])"
      ]
     },
     "execution_count": 36,
     "metadata": {},
     "output_type": "execute_result"
    }
   ],
   "source": [
    "a > 25"
   ]
  },
  {
   "cell_type": "code",
   "execution_count": 37,
   "metadata": {
    "ExecuteTime": {
     "end_time": "2019-04-23T16:41:54.336482Z",
     "start_time": "2019-04-23T16:41:54.328141Z"
    }
   },
   "outputs": [
    {
     "data": {
      "text/plain": [
       "array([100, 100, 100])"
      ]
     },
     "execution_count": 37,
     "metadata": {},
     "output_type": "execute_result"
    }
   ],
   "source": [
    "a ** 2"
   ]
  },
  {
   "cell_type": "markdown",
   "metadata": {},
   "source": [
    "### dot function or method"
   ]
  },
  {
   "cell_type": "code",
   "execution_count": 38,
   "metadata": {
    "ExecuteTime": {
     "end_time": "2019-04-23T16:41:54.359013Z",
     "start_time": "2019-04-23T16:41:54.340584Z"
    }
   },
   "outputs": [
    {
     "name": "stdout",
     "output_type": "stream",
     "text": [
      "A:\n",
      " [[1 1]\n",
      " [0 1]]\n",
      "B:\n",
      " [[2 1]\n",
      " [3 4]]\n"
     ]
    }
   ],
   "source": [
    "A = np.array( [[1,1], [0,1]] )\n",
    "B = np.array( [[2,1], [3,4]] )\n",
    "\n",
    "print('A:\\n', A)\n",
    "print('B:\\n', B)"
   ]
  },
  {
   "cell_type": "code",
   "execution_count": 39,
   "metadata": {
    "ExecuteTime": {
     "end_time": "2019-04-23T16:41:54.378481Z",
     "start_time": "2019-04-23T16:41:54.368290Z"
    }
   },
   "outputs": [
    {
     "data": {
      "text/plain": [
       "array([[5, 5],\n",
       "       [3, 4]])"
      ]
     },
     "execution_count": 39,
     "metadata": {},
     "output_type": "execute_result"
    }
   ],
   "source": [
    "# This gives the matrix multiplication\n",
    "A.dot(B)"
   ]
  },
  {
   "cell_type": "code",
   "execution_count": 40,
   "metadata": {
    "ExecuteTime": {
     "end_time": "2019-04-23T16:41:54.395375Z",
     "start_time": "2019-04-23T16:41:54.384446Z"
    }
   },
   "outputs": [
    {
     "data": {
      "text/plain": [
       "array([[5, 5],\n",
       "       [3, 4]])"
      ]
     },
     "execution_count": 40,
     "metadata": {},
     "output_type": "execute_result"
    }
   ],
   "source": [
    "np.dot(A,B)"
   ]
  },
  {
   "cell_type": "markdown",
   "metadata": {},
   "source": [
    "### in-place operations"
   ]
  },
  {
   "cell_type": "code",
   "execution_count": 41,
   "metadata": {
    "ExecuteTime": {
     "end_time": "2019-04-23T16:41:54.406484Z",
     "start_time": "2019-04-23T16:41:54.398906Z"
    }
   },
   "outputs": [
    {
     "data": {
      "text/plain": [
       "array([30, 30, 30])"
      ]
     },
     "execution_count": 41,
     "metadata": {},
     "output_type": "execute_result"
    }
   ],
   "source": [
    "# Modifying an existing array rather than create a new one\n",
    "a  *= 3\n",
    "a"
   ]
  },
  {
   "cell_type": "code",
   "execution_count": 42,
   "metadata": {
    "ExecuteTime": {
     "end_time": "2019-04-23T16:41:54.577966Z",
     "start_time": "2019-04-23T16:41:54.408929Z"
    }
   },
   "outputs": [
    {
     "data": {
      "text/plain": [
       "array([35, 35, 35])"
      ]
     },
     "execution_count": 42,
     "metadata": {},
     "output_type": "execute_result"
    }
   ],
   "source": [
    "b += a\n",
    "b"
   ]
  },
  {
   "cell_type": "code",
   "execution_count": 43,
   "metadata": {
    "ExecuteTime": {
     "end_time": "2019-04-23T16:41:54.585506Z",
     "start_time": "2019-04-23T16:41:54.581211Z"
    }
   },
   "outputs": [],
   "source": [
    "### Unary Operators"
   ]
  },
  {
   "cell_type": "code",
   "execution_count": 44,
   "metadata": {
    "ExecuteTime": {
     "end_time": "2019-04-23T16:41:54.595261Z",
     "start_time": "2019-04-23T16:41:54.589856Z"
    }
   },
   "outputs": [],
   "source": [
    "ages = np.array([12,15,18,20])"
   ]
  },
  {
   "cell_type": "code",
   "execution_count": 45,
   "metadata": {
    "ExecuteTime": {
     "end_time": "2019-04-23T16:41:54.687431Z",
     "start_time": "2019-04-23T16:41:54.611973Z"
    }
   },
   "outputs": [
    {
     "data": {
      "text/plain": [
       "65"
      ]
     },
     "execution_count": 45,
     "metadata": {},
     "output_type": "execute_result"
    }
   ],
   "source": [
    "ages.sum()"
   ]
  },
  {
   "cell_type": "code",
   "execution_count": 46,
   "metadata": {
    "ExecuteTime": {
     "end_time": "2019-04-23T16:41:54.760395Z",
     "start_time": "2019-04-23T16:41:54.727357Z"
    }
   },
   "outputs": [
    {
     "data": {
      "text/plain": [
       "12"
      ]
     },
     "execution_count": 46,
     "metadata": {},
     "output_type": "execute_result"
    }
   ],
   "source": [
    "ages.min()"
   ]
  },
  {
   "cell_type": "code",
   "execution_count": 47,
   "metadata": {
    "ExecuteTime": {
     "end_time": "2019-04-23T16:41:54.793520Z",
     "start_time": "2019-04-23T16:41:54.772037Z"
    }
   },
   "outputs": [
    {
     "data": {
      "text/plain": [
       "20"
      ]
     },
     "execution_count": 47,
     "metadata": {},
     "output_type": "execute_result"
    }
   ],
   "source": [
    "ages.max()"
   ]
  },
  {
   "cell_type": "markdown",
   "metadata": {},
   "source": [
    "By default, these operations apply to the array as though it were a list of numbers, regardless of its shape. However, by specifying the axis parameter you can apply an operation along the specified axis of an array"
   ]
  },
  {
   "cell_type": "code",
   "execution_count": 48,
   "metadata": {
    "ExecuteTime": {
     "end_time": "2019-04-23T16:41:54.810501Z",
     "start_time": "2019-04-23T16:41:54.798869Z"
    }
   },
   "outputs": [
    {
     "data": {
      "text/plain": [
       "array([[ 0,  1,  2,  3],\n",
       "       [ 4,  5,  6,  7],\n",
       "       [ 8,  9, 10, 11]])"
      ]
     },
     "execution_count": 48,
     "metadata": {},
     "output_type": "execute_result"
    }
   ],
   "source": [
    "numbers = np.arange(12).reshape(3,4)\n",
    "numbers"
   ]
  },
  {
   "cell_type": "markdown",
   "metadata": {},
   "source": [
    "Row and column operations\n",
    "In a `2D` array axis `#0` represents columns. Axis `#1` refers to rows"
   ]
  },
  {
   "cell_type": "code",
   "execution_count": 49,
   "metadata": {
    "ExecuteTime": {
     "end_time": "2019-04-23T16:41:54.822080Z",
     "start_time": "2019-04-23T16:41:54.814279Z"
    }
   },
   "outputs": [
    {
     "data": {
      "text/plain": [
       "array([12, 15, 18, 21])"
      ]
     },
     "execution_count": 49,
     "metadata": {},
     "output_type": "execute_result"
    }
   ],
   "source": [
    "# Sum up each column\n",
    "numbers.sum(axis=0) "
   ]
  },
  {
   "cell_type": "code",
   "execution_count": 50,
   "metadata": {
    "ExecuteTime": {
     "end_time": "2019-04-23T16:41:54.835397Z",
     "start_time": "2019-04-23T16:41:54.826881Z"
    }
   },
   "outputs": [
    {
     "data": {
      "text/plain": [
       "array([ 6, 22, 38])"
      ]
     },
     "execution_count": 50,
     "metadata": {},
     "output_type": "execute_result"
    }
   ],
   "source": [
    "# Sum up each row\n",
    "numbers.sum(axis=1)"
   ]
  },
  {
   "cell_type": "code",
   "execution_count": 51,
   "metadata": {
    "ExecuteTime": {
     "end_time": "2019-04-23T16:41:54.849224Z",
     "start_time": "2019-04-23T16:41:54.840394Z"
    }
   },
   "outputs": [
    {
     "data": {
      "text/plain": [
       "array([0, 4, 8])"
      ]
     },
     "execution_count": 51,
     "metadata": {},
     "output_type": "execute_result"
    }
   ],
   "source": [
    "# Minimum of each row\n",
    "numbers.min(axis=1) "
   ]
  },
  {
   "cell_type": "markdown",
   "metadata": {},
   "source": [
    "## Input and Output "
   ]
  },
  {
   "cell_type": "markdown",
   "metadata": {},
   "source": [
    "### File System"
   ]
  },
  {
   "cell_type": "code",
   "execution_count": 52,
   "metadata": {
    "ExecuteTime": {
     "end_time": "2019-04-23T16:41:54.873755Z",
     "start_time": "2019-04-23T16:41:54.864152Z"
    }
   },
   "outputs": [],
   "source": [
    "a = np.array(range(10))\n",
    "b = a * 3"
   ]
  },
  {
   "cell_type": "code",
   "execution_count": 53,
   "metadata": {
    "ExecuteTime": {
     "end_time": "2019-04-23T16:41:54.906060Z",
     "start_time": "2019-04-23T16:41:54.877071Z"
    }
   },
   "outputs": [
    {
     "name": "stdout",
     "output_type": "stream",
     "text": [
      "[0. 1. 2. 3. 4. 5. 6. 7. 8. 9.]\n"
     ]
    }
   ],
   "source": [
    "# save array in txt uncompressed\n",
    "np.savetxt(\"np_a.txt\", a)\n",
    "print(np.loadtxt('np_a.txt'))"
   ]
  },
  {
   "cell_type": "code",
   "execution_count": 54,
   "metadata": {
    "ExecuteTime": {
     "end_time": "2019-04-23T16:41:54.923704Z",
     "start_time": "2019-04-23T16:41:54.910182Z"
    }
   },
   "outputs": [
    {
     "name": "stdout",
     "output_type": "stream",
     "text": [
      "[0 1 2 3 4 5 6 7 8 9]\n"
     ]
    }
   ],
   "source": [
    "# save in binary format\n",
    "np.save(\"np_a\", a)\n",
    "print(np.load('np_a.npy'))"
   ]
  },
  {
   "cell_type": "code",
   "execution_count": 55,
   "metadata": {
    "ExecuteTime": {
     "end_time": "2019-04-23T16:41:54.964405Z",
     "start_time": "2019-04-23T16:41:54.929844Z"
    }
   },
   "outputs": [
    {
     "name": "stdout",
     "output_type": "stream",
     "text": [
      "[0 1 2 3 4 5 6 7 8 9]\n"
     ]
    }
   ],
   "source": [
    "# save few arrays\n",
    "np.savez(\"np_ab\", a=a, b=b)\n",
    "# loadign data from uncompressed file\n",
    "data = np.load('np_ab.npz')\n",
    "print(data['a'])"
   ]
  },
  {
   "cell_type": "code",
   "execution_count": 56,
   "metadata": {
    "ExecuteTime": {
     "end_time": "2019-04-23T16:41:54.981962Z",
     "start_time": "2019-04-23T16:41:54.967706Z"
    }
   },
   "outputs": [
    {
     "name": "stdout",
     "output_type": "stream",
     "text": [
      "[0 1 2 3 4 5 6 7 8 9]\n"
     ]
    }
   ],
   "source": [
    "# save few arrays compressed\n",
    "np.savez_compressed(\"np_ab_z\", a=a, b=b)\n",
    "data = np.load('np_ab_z.npz')\n",
    "print(data['a'])"
   ]
  },
  {
   "cell_type": "code",
   "execution_count": 57,
   "metadata": {
    "ExecuteTime": {
     "end_time": "2019-04-23T16:41:55.208958Z",
     "start_time": "2019-04-23T16:41:54.985561Z"
    }
   },
   "outputs": [
    {
     "name": "stdout",
     "output_type": "stream",
     "text": [
      "np_a.npy  np_a.txt  np_ab.npz  np_ab_z.npz\n"
     ]
    }
   ],
   "source": [
    "!ls np*"
   ]
  },
  {
   "cell_type": "code",
   "execution_count": 58,
   "metadata": {
    "ExecuteTime": {
     "end_time": "2019-04-23T16:41:55.801115Z",
     "start_time": "2019-04-23T16:41:55.218078Z"
    }
   },
   "outputs": [],
   "source": [
    "!unlink np_a.npy\n",
    "!unlink np_a.txt\n",
    "!unlink np_ab.npz\n",
    "!unlink np_ab_z.npz"
   ]
  },
  {
   "cell_type": "markdown",
   "metadata": {},
   "source": [
    "### Memory\n",
    "\n",
    "https://docs.scipy.org/doc/numpy/reference/generated/numpy.memmap.html#numpy.memmap"
   ]
  },
  {
   "cell_type": "code",
   "execution_count": 59,
   "metadata": {
    "ExecuteTime": {
     "end_time": "2019-04-23T16:41:55.814263Z",
     "start_time": "2019-04-23T16:41:55.805362Z"
    }
   },
   "outputs": [],
   "source": [
    "from tempfile import mkdtemp\n",
    "import os.path as path\n",
    "filename = path.join(mkdtemp(), 'newfile.dat')"
   ]
  },
  {
   "cell_type": "code",
   "execution_count": 60,
   "metadata": {
    "ExecuteTime": {
     "end_time": "2019-04-23T16:41:55.832197Z",
     "start_time": "2019-04-23T16:41:55.816982Z"
    }
   },
   "outputs": [
    {
     "data": {
      "text/plain": [
       "memmap([[0., 0., 0., 0.],\n",
       "        [0., 0., 0., 0.],\n",
       "        [0., 0., 0., 0.]], dtype=float32)"
      ]
     },
     "execution_count": 60,
     "metadata": {},
     "output_type": "execute_result"
    }
   ],
   "source": [
    "fp = np.memmap(filename, dtype='float32', mode='w+', shape=(3,4))\n",
    "fp"
   ]
  },
  {
   "cell_type": "code",
   "execution_count": 61,
   "metadata": {
    "ExecuteTime": {
     "end_time": "2019-04-23T16:41:55.843861Z",
     "start_time": "2019-04-23T16:41:55.834758Z"
    }
   },
   "outputs": [
    {
     "data": {
      "text/plain": [
       "memmap([[ 0.,  1.,  2.,  3.],\n",
       "        [ 4.,  5.,  6.,  7.],\n",
       "        [ 8.,  9., 10., 11.]], dtype=float32)"
      ]
     },
     "execution_count": 61,
     "metadata": {},
     "output_type": "execute_result"
    }
   ],
   "source": [
    "data = np.arange(12, dtype='float32')\n",
    "data.resize((3,4))\n",
    "fp[:] = data[:]\n",
    "fp"
   ]
  },
  {
   "cell_type": "code",
   "execution_count": 62,
   "metadata": {
    "ExecuteTime": {
     "end_time": "2019-04-23T16:41:55.857323Z",
     "start_time": "2019-04-23T16:41:55.847865Z"
    }
   },
   "outputs": [
    {
     "data": {
      "text/plain": [
       "'/var/folders/7j/8x_gv0vs7f33q1cxc5cyhl3r0000gn/T/tmpllvrg39n/newfile.dat'"
      ]
     },
     "execution_count": 62,
     "metadata": {},
     "output_type": "execute_result"
    }
   ],
   "source": [
    "fp.filename == path.abspath(filename)\n",
    "fp.filename"
   ]
  },
  {
   "cell_type": "code",
   "execution_count": 63,
   "metadata": {
    "ExecuteTime": {
     "end_time": "2019-04-23T16:41:55.866365Z",
     "start_time": "2019-04-23T16:41:55.861452Z"
    }
   },
   "outputs": [],
   "source": [
    "del fp"
   ]
  },
  {
   "cell_type": "markdown",
   "metadata": {},
   "source": [
    "## Universal Functions"
   ]
  },
  {
   "cell_type": "markdown",
   "metadata": {},
   "source": [
    "### Trigonometric Functions"
   ]
  },
  {
   "cell_type": "code",
   "execution_count": 64,
   "metadata": {
    "ExecuteTime": {
     "end_time": "2019-04-23T16:41:55.879252Z",
     "start_time": "2019-04-23T16:41:55.873133Z"
    }
   },
   "outputs": [],
   "source": [
    "angles = np.array([0,30,45,60,90]) "
   ]
  },
  {
   "cell_type": "markdown",
   "metadata": {},
   "source": [
    "Angles need to be converted to radians by multiplying by pi/180 \n",
    "Only then can we appy trigonometric functions to our array."
   ]
  },
  {
   "cell_type": "code",
   "execution_count": 65,
   "metadata": {
    "ExecuteTime": {
     "end_time": "2019-04-23T16:41:55.917950Z",
     "start_time": "2019-04-23T16:41:55.883714Z"
    }
   },
   "outputs": [
    {
     "data": {
      "text/plain": [
       "array([0.        , 0.52359878, 0.78539816, 1.04719755, 1.57079633])"
      ]
     },
     "execution_count": 65,
     "metadata": {},
     "output_type": "execute_result"
    }
   ],
   "source": [
    "angles_radians = angles * np.pi/180\n",
    "angles_radians"
   ]
  },
  {
   "cell_type": "code",
   "execution_count": 66,
   "metadata": {
    "ExecuteTime": {
     "end_time": "2019-04-23T16:41:55.930940Z",
     "start_time": "2019-04-23T16:41:55.923382Z"
    }
   },
   "outputs": [
    {
     "data": {
      "text/plain": [
       "array([0.        , 0.5       , 0.70710678, 0.8660254 , 1.        ])"
      ]
     },
     "execution_count": 66,
     "metadata": {},
     "output_type": "execute_result"
    }
   ],
   "source": [
    "# Sine of angles in the array:\n",
    "np.sin(angles_radians)"
   ]
  },
  {
   "cell_type": "code",
   "execution_count": 67,
   "metadata": {
    "ExecuteTime": {
     "end_time": "2019-04-23T16:41:55.942572Z",
     "start_time": "2019-04-23T16:41:55.934841Z"
    }
   },
   "outputs": [
    {
     "data": {
      "text/plain": [
       "array([0.        , 0.52359878, 0.78539816, 1.04719755, 1.57079633])"
      ]
     },
     "execution_count": 67,
     "metadata": {},
     "output_type": "execute_result"
    }
   ],
   "source": [
    "## Alternatively, use the np.radians() function to convert to radians\n",
    "angles_radians = np.radians(angles)\n",
    "angles_radians"
   ]
  },
  {
   "cell_type": "code",
   "execution_count": 68,
   "metadata": {
    "ExecuteTime": {
     "end_time": "2019-04-23T16:41:55.968425Z",
     "start_time": "2019-04-23T16:41:55.961142Z"
    }
   },
   "outputs": [
    {
     "data": {
      "text/plain": [
       "array([1.00000000e+00, 8.66025404e-01, 7.07106781e-01, 5.00000000e-01,\n",
       "       6.12323400e-17])"
      ]
     },
     "execution_count": 68,
     "metadata": {},
     "output_type": "execute_result"
    }
   ],
   "source": [
    "# Cosine of angles in the array:\n",
    "np.cos(angles_radians)"
   ]
  },
  {
   "cell_type": "code",
   "execution_count": 69,
   "metadata": {
    "ExecuteTime": {
     "end_time": "2019-04-23T16:41:55.987748Z",
     "start_time": "2019-04-23T16:41:55.980049Z"
    }
   },
   "outputs": [
    {
     "data": {
      "text/plain": [
       "array([0.00000000e+00, 5.77350269e-01, 1.00000000e+00, 1.73205081e+00,\n",
       "       1.63312394e+16])"
      ]
     },
     "execution_count": 69,
     "metadata": {},
     "output_type": "execute_result"
    }
   ],
   "source": [
    "# Tangent of angles in the array\n",
    "np.tan(angles_radians)"
   ]
  },
  {
   "cell_type": "markdown",
   "metadata": {},
   "source": [
    "`arcsin`, `arcos`, and `arctan` functions return the trigonometric inverse of sin, cos, and tan of the given angle. The result of these functions can be verified by `numpy.degrees()` function by converting radians to degrees."
   ]
  },
  {
   "cell_type": "code",
   "execution_count": 70,
   "metadata": {
    "ExecuteTime": {
     "end_time": "2019-04-23T16:41:56.070584Z",
     "start_time": "2019-04-23T16:41:55.991542Z"
    }
   },
   "outputs": [
    {
     "data": {
      "text/plain": [
       "array([0.        , 0.52359878, 0.78539816, 1.04719755, 1.57079633])"
      ]
     },
     "execution_count": 70,
     "metadata": {},
     "output_type": "execute_result"
    }
   ],
   "source": [
    "# Compute sine inverse of angles. Returned values are in radians.\n",
    "\n",
    "np.arcsin(np.sin(angles * np.pi/180) ) "
   ]
  },
  {
   "cell_type": "code",
   "execution_count": 71,
   "metadata": {
    "ExecuteTime": {
     "end_time": "2019-04-23T16:41:56.098777Z",
     "start_time": "2019-04-23T16:41:56.076785Z"
    }
   },
   "outputs": [
    {
     "data": {
      "text/plain": [
       "array([ 0., 30., 45., 60., 90.])"
      ]
     },
     "execution_count": 71,
     "metadata": {},
     "output_type": "execute_result"
    }
   ],
   "source": [
    "# np.degrees() converts radians to degrees\n",
    "np.degrees(np.arcsin(np.sin(angles * np.pi/180) ) )"
   ]
  },
  {
   "cell_type": "markdown",
   "metadata": {},
   "source": [
    "### Statistical Functions"
   ]
  },
  {
   "cell_type": "code",
   "execution_count": 72,
   "metadata": {
    "ExecuteTime": {
     "end_time": "2019-04-23T16:41:56.108706Z",
     "start_time": "2019-04-23T16:41:56.101856Z"
    }
   },
   "outputs": [],
   "source": [
    "test_scores = np.array([32.32, 56.98, 21.52, 44.32, \n",
    "                        55.63, 13.75, 43.47, 43.34])"
   ]
  },
  {
   "cell_type": "code",
   "execution_count": 73,
   "metadata": {
    "ExecuteTime": {
     "end_time": "2019-04-23T16:41:56.119178Z",
     "start_time": "2019-04-23T16:41:56.112386Z"
    }
   },
   "outputs": [
    {
     "data": {
      "text/plain": [
       "38.91625"
      ]
     },
     "execution_count": 73,
     "metadata": {},
     "output_type": "execute_result"
    }
   ],
   "source": [
    "# Mean test scores of the students: \n",
    "np.mean(test_scores)"
   ]
  },
  {
   "cell_type": "code",
   "execution_count": 74,
   "metadata": {
    "ExecuteTime": {
     "end_time": "2019-04-23T16:41:56.130399Z",
     "start_time": "2019-04-23T16:41:56.122261Z"
    }
   },
   "outputs": [
    {
     "data": {
      "text/plain": [
       "43.405"
      ]
     },
     "execution_count": 74,
     "metadata": {},
     "output_type": "execute_result"
    }
   ],
   "source": [
    "# Median\n",
    "np.median(test_scores)"
   ]
  },
  {
   "cell_type": "code",
   "execution_count": 75,
   "metadata": {
    "ExecuteTime": {
     "end_time": "2019-04-23T16:41:56.151876Z",
     "start_time": "2019-04-23T16:41:56.133424Z"
    }
   },
   "outputs": [
    {
     "data": {
      "text/plain": [
       "array([60000., 58000., 56967., ..., 54647., 25000., 70000.])"
      ]
     },
     "execution_count": 75,
     "metadata": {},
     "output_type": "execute_result"
    }
   ],
   "source": [
    "# We will now perform basic statistical methods on real \n",
    "# life dataset. We will use salary data of 1147 European developers.\n",
    "\n",
    "url = \"https://gist.githubusercontent.com/butuzov/ed1c7f8f3affe6dd005c1ee40dc3f7f2/raw/9012bdf4a623aa10e5abe3932028f79609337c19/sallary.csv\"\n",
    "salaries = np.genfromtxt(url, delimiter=',')\n",
    "salaries"
   ]
  },
  {
   "cell_type": "code",
   "execution_count": 76,
   "metadata": {
    "ExecuteTime": {
     "end_time": "2019-04-23T16:41:56.162828Z",
     "start_time": "2019-04-23T16:41:56.155030Z"
    }
   },
   "outputs": [
    {
     "data": {
      "text/plain": [
       "(1147,)"
      ]
     },
     "execution_count": 76,
     "metadata": {},
     "output_type": "execute_result"
    }
   ],
   "source": [
    "salaries.shape"
   ]
  },
  {
   "cell_type": "code",
   "execution_count": 77,
   "metadata": {
    "ExecuteTime": {
     "end_time": "2019-04-23T16:41:56.179399Z",
     "start_time": "2019-04-23T16:41:56.165788Z"
    }
   },
   "outputs": [
    {
     "name": "stdout",
     "output_type": "stream",
     "text": [
      "Mean = 55894.53879686138\n",
      "Median = 48000.0\n",
      "Standard Deviation = 55170.37550939316\n",
      "Variance = 3043770333.8474483\n"
     ]
    }
   ],
   "source": [
    "print(f\"Mean = {np.mean(salaries)}\")\n",
    "print(f\"Median = {np.median(salaries)}\")\n",
    "print(f\"Standard Deviation = {np.std(salaries)}\")\n",
    "print(f\"Variance = {np.var(salaries)}\")"
   ]
  },
  {
   "cell_type": "markdown",
   "metadata": {},
   "source": [
    "##  Indexing and Slicing\n",
    "\n",
    "This also follows zero based indexing like python lists"
   ]
  },
  {
   "cell_type": "code",
   "execution_count": 78,
   "metadata": {
    "ExecuteTime": {
     "end_time": "2019-04-23T16:41:56.192633Z",
     "start_time": "2019-04-23T16:41:56.184491Z"
    }
   },
   "outputs": [
    {
     "data": {
      "text/plain": [
       "array([  0,   1,   4,   9,  16,  25,  36,  49,  64,  81, 100])"
      ]
     },
     "execution_count": 78,
     "metadata": {},
     "output_type": "execute_result"
    }
   ],
   "source": [
    "a = np.arange(11)**2\n",
    "a"
   ]
  },
  {
   "cell_type": "code",
   "execution_count": 79,
   "metadata": {
    "ExecuteTime": {
     "end_time": "2019-04-23T16:41:56.214740Z",
     "start_time": "2019-04-23T16:41:56.196173Z"
    }
   },
   "outputs": [
    {
     "data": {
      "text/plain": [
       "4"
      ]
     },
     "execution_count": 79,
     "metadata": {},
     "output_type": "execute_result"
    }
   ],
   "source": [
    "a[2]"
   ]
  },
  {
   "cell_type": "code",
   "execution_count": 80,
   "metadata": {
    "ExecuteTime": {
     "end_time": "2019-04-23T16:41:56.226853Z",
     "start_time": "2019-04-23T16:41:56.217839Z"
    }
   },
   "outputs": [
    {
     "data": {
      "text/plain": [
       "81"
      ]
     },
     "execution_count": 80,
     "metadata": {},
     "output_type": "execute_result"
    }
   ],
   "source": [
    "a[-2]"
   ]
  },
  {
   "cell_type": "code",
   "execution_count": 81,
   "metadata": {
    "ExecuteTime": {
     "end_time": "2019-04-23T16:41:56.240041Z",
     "start_time": "2019-04-23T16:41:56.230344Z"
    }
   },
   "outputs": [
    {
     "data": {
      "text/plain": [
       "array([ 4,  9, 16, 25, 36])"
      ]
     },
     "execution_count": 81,
     "metadata": {},
     "output_type": "execute_result"
    }
   ],
   "source": [
    "a[2:7]"
   ]
  },
  {
   "cell_type": "code",
   "execution_count": 82,
   "metadata": {
    "ExecuteTime": {
     "end_time": "2019-04-23T16:41:56.254192Z",
     "start_time": "2019-04-23T16:41:56.244529Z"
    }
   },
   "outputs": [
    {
     "data": {
      "text/plain": [
       "array([ 4,  9, 16, 25, 36, 49, 64])"
      ]
     },
     "execution_count": 82,
     "metadata": {},
     "output_type": "execute_result"
    }
   ],
   "source": [
    "a[2:-2]"
   ]
  },
  {
   "cell_type": "code",
   "execution_count": 83,
   "metadata": {
    "ExecuteTime": {
     "end_time": "2019-04-23T16:41:56.266395Z",
     "start_time": "2019-04-23T16:41:56.258066Z"
    }
   },
   "outputs": [
    {
     "data": {
      "text/plain": [
       "array([ 0,  1,  4,  9, 16, 25, 36])"
      ]
     },
     "execution_count": 83,
     "metadata": {},
     "output_type": "execute_result"
    }
   ],
   "source": [
    "a[:7]"
   ]
  },
  {
   "cell_type": "code",
   "execution_count": 84,
   "metadata": {
    "ExecuteTime": {
     "end_time": "2019-04-23T16:41:56.285367Z",
     "start_time": "2019-04-23T16:41:56.269718Z"
    }
   },
   "outputs": [
    {
     "data": {
      "text/plain": [
       "array([  0,   4,  16,  36,  64, 100])"
      ]
     },
     "execution_count": 84,
     "metadata": {},
     "output_type": "execute_result"
    }
   ],
   "source": [
    "a[:11:2]"
   ]
  },
  {
   "cell_type": "code",
   "execution_count": 85,
   "metadata": {
    "ExecuteTime": {
     "end_time": "2019-04-23T16:41:56.302162Z",
     "start_time": "2019-04-23T16:41:56.291889Z"
    }
   },
   "outputs": [
    {
     "data": {
      "text/plain": [
       "array([100,  81,  64,  49,  36,  25,  16,   9,   4,   1,   0])"
      ]
     },
     "execution_count": 85,
     "metadata": {},
     "output_type": "execute_result"
    }
   ],
   "source": [
    "a[::-1]"
   ]
  },
  {
   "cell_type": "markdown",
   "metadata": {},
   "source": [
    "### 2D Array indexing\n",
    "\n",
    "Consider an array students, it contains the test scores in two courses of the students against their names"
   ]
  },
  {
   "cell_type": "code",
   "execution_count": 86,
   "metadata": {
    "ExecuteTime": {
     "end_time": "2019-04-23T16:41:56.315081Z",
     "start_time": "2019-04-23T16:41:56.305388Z"
    }
   },
   "outputs": [],
   "source": [
    "students = np.array([['Alice','Beth','Cathy','Dorothy'],\n",
    "                     [65,78,90,81],\n",
    "                     [71,82,79,92]])"
   ]
  },
  {
   "cell_type": "code",
   "execution_count": 87,
   "metadata": {
    "ExecuteTime": {
     "end_time": "2019-04-23T16:41:56.329641Z",
     "start_time": "2019-04-23T16:41:56.317996Z"
    }
   },
   "outputs": [
    {
     "data": {
      "text/plain": [
       "array([['Alice', 'Beth', 'Cathy', 'Dorothy'],\n",
       "       ['65', '78', '90', '81'],\n",
       "       ['71', '82', '79', '92']], dtype='<U21')"
      ]
     },
     "execution_count": 87,
     "metadata": {},
     "output_type": "execute_result"
    }
   ],
   "source": [
    "students"
   ]
  },
  {
   "cell_type": "code",
   "execution_count": 88,
   "metadata": {
    "ExecuteTime": {
     "end_time": "2019-04-23T16:41:56.346204Z",
     "start_time": "2019-04-23T16:41:56.334724Z"
    }
   },
   "outputs": [
    {
     "data": {
      "text/plain": [
       "array(['Alice', 'Beth', 'Cathy', 'Dorothy'], dtype='<U21')"
      ]
     },
     "execution_count": 88,
     "metadata": {},
     "output_type": "execute_result"
    }
   ],
   "source": [
    "students[0]"
   ]
  },
  {
   "cell_type": "code",
   "execution_count": 89,
   "metadata": {
    "ExecuteTime": {
     "end_time": "2019-04-23T16:41:56.361042Z",
     "start_time": "2019-04-23T16:41:56.350752Z"
    }
   },
   "outputs": [
    {
     "data": {
      "text/plain": [
       "array(['65', '78', '90', '81'], dtype='<U21')"
      ]
     },
     "execution_count": 89,
     "metadata": {},
     "output_type": "execute_result"
    }
   ],
   "source": [
    "students[1]"
   ]
  },
  {
   "cell_type": "code",
   "execution_count": 90,
   "metadata": {
    "ExecuteTime": {
     "end_time": "2019-04-23T16:41:56.377862Z",
     "start_time": "2019-04-23T16:41:56.368294Z"
    }
   },
   "outputs": [
    {
     "data": {
      "text/plain": [
       "array(['71', '82', '79', '92'], dtype='<U21')"
      ]
     },
     "execution_count": 90,
     "metadata": {},
     "output_type": "execute_result"
    }
   ],
   "source": [
    "students[2]"
   ]
  },
  {
   "cell_type": "code",
   "execution_count": 91,
   "metadata": {
    "ExecuteTime": {
     "end_time": "2019-04-23T16:41:56.418102Z",
     "start_time": "2019-04-23T16:41:56.381536Z"
    }
   },
   "outputs": [
    {
     "data": {
      "text/plain": [
       "'Beth'"
      ]
     },
     "execution_count": 91,
     "metadata": {},
     "output_type": "execute_result"
    }
   ],
   "source": [
    "students[0,1]"
   ]
  },
  {
   "cell_type": "code",
   "execution_count": 92,
   "metadata": {
    "ExecuteTime": {
     "end_time": "2019-04-23T16:41:56.450052Z",
     "start_time": "2019-04-23T16:41:56.432219Z"
    }
   },
   "outputs": [
    {
     "data": {
      "text/plain": [
       "'Beth'"
      ]
     },
     "execution_count": 92,
     "metadata": {},
     "output_type": "execute_result"
    }
   ],
   "source": [
    "# get data using method\n",
    "students.item((0,1))"
   ]
  },
  {
   "cell_type": "code",
   "execution_count": 93,
   "metadata": {
    "ExecuteTime": {
     "end_time": "2019-04-23T16:41:56.471386Z",
     "start_time": "2019-04-23T16:41:56.453386Z"
    }
   },
   "outputs": [
    {
     "data": {
      "text/plain": [
       "array([['Alice', 'Michel', 'Cathy', 'Dorothy'],\n",
       "       ['65', '78', '90', '81'],\n",
       "       ['71', '82', '79', '92']], dtype='<U21')"
      ]
     },
     "execution_count": 93,
     "metadata": {},
     "output_type": "execute_result"
    }
   ],
   "source": [
    "# set data using method\n",
    "students.itemset((0,1), 'Michel')\n",
    "students"
   ]
  },
  {
   "cell_type": "markdown",
   "metadata": {},
   "source": [
    "### Searching in arrays"
   ]
  },
  {
   "cell_type": "code",
   "execution_count": 94,
   "metadata": {
    "ExecuteTime": {
     "end_time": "2019-04-23T16:41:56.492257Z",
     "start_time": "2019-04-23T16:41:56.476400Z"
    }
   },
   "outputs": [
    {
     "data": {
      "text/plain": [
       "array([[  0,   1,   4,   9],\n",
       "       [ 16,  25,  36,  49],\n",
       "       [ 64,  81, 100, 121],\n",
       "       [144, 169, 196, 225]])"
      ]
     },
     "execution_count": 94,
     "metadata": {},
     "output_type": "execute_result"
    }
   ],
   "source": [
    "a = np.arange(16).reshape(4,4)**2\n",
    "a"
   ]
  },
  {
   "cell_type": "code",
   "execution_count": 95,
   "metadata": {
    "ExecuteTime": {
     "end_time": "2019-04-23T16:41:56.503766Z",
     "start_time": "2019-04-23T16:41:56.495655Z"
    }
   },
   "outputs": [
    {
     "data": {
      "text/plain": [
       "(array([2, 2, 2, 2, 3, 3, 3, 3]), array([0, 1, 2, 3, 0, 1, 2, 3]))"
      ]
     },
     "execution_count": 95,
     "metadata": {},
     "output_type": "execute_result"
    }
   ],
   "source": [
    "np.where(a > 50)"
   ]
  },
  {
   "cell_type": "code",
   "execution_count": 96,
   "metadata": {
    "ExecuteTime": {
     "end_time": "2019-04-23T16:41:56.542904Z",
     "start_time": "2019-04-23T16:41:56.522248Z"
    },
    "scrolled": true
   },
   "outputs": [
    {
     "data": {
      "text/plain": [
       "array([[2, 0],\n",
       "       [2, 1],\n",
       "       [2, 2],\n",
       "       [2, 3],\n",
       "       [3, 0],\n",
       "       [3, 1],\n",
       "       [3, 2],\n",
       "       [3, 3]])"
      ]
     },
     "execution_count": 96,
     "metadata": {},
     "output_type": "execute_result"
    }
   ],
   "source": [
    "np.argwhere(a > 50)"
   ]
  },
  {
   "cell_type": "markdown",
   "metadata": {},
   "source": [
    "### 2D Array slicing\n",
    "\n",
    "This will consider the rows 0 and 1, columns 2 and 3"
   ]
  },
  {
   "cell_type": "code",
   "execution_count": 97,
   "metadata": {
    "ExecuteTime": {
     "end_time": "2019-04-23T16:41:56.562728Z",
     "start_time": "2019-04-23T16:41:56.550141Z"
    }
   },
   "outputs": [
    {
     "data": {
      "text/plain": [
       "array([['Cathy', 'Dorothy'],\n",
       "       ['90', '81']], dtype='<U21')"
      ]
     },
     "execution_count": 97,
     "metadata": {},
     "output_type": "execute_result"
    }
   ],
   "source": [
    "students[0:2,2:4]"
   ]
  },
  {
   "cell_type": "code",
   "execution_count": 98,
   "metadata": {
    "ExecuteTime": {
     "end_time": "2019-04-23T16:41:56.579867Z",
     "start_time": "2019-04-23T16:41:56.566449Z"
    }
   },
   "outputs": [
    {
     "data": {
      "text/plain": [
       "array([['Michel'],\n",
       "       ['78'],\n",
       "       ['82']], dtype='<U21')"
      ]
     },
     "execution_count": 98,
     "metadata": {},
     "output_type": "execute_result"
    }
   ],
   "source": [
    "# all rows and columns 1\n",
    "students[:,1:2]"
   ]
  },
  {
   "cell_type": "code",
   "execution_count": 99,
   "metadata": {
    "ExecuteTime": {
     "end_time": "2019-04-23T16:41:56.592784Z",
     "start_time": "2019-04-23T16:41:56.584008Z"
    }
   },
   "outputs": [
    {
     "data": {
      "text/plain": [
       "array([['Michel', 'Cathy'],\n",
       "       ['78', '90'],\n",
       "       ['82', '79']], dtype='<U21')"
      ]
     },
     "execution_count": 99,
     "metadata": {},
     "output_type": "execute_result"
    }
   ],
   "source": [
    "# all rows and 1,2 columns\n",
    "students[:,1:3]"
   ]
  },
  {
   "cell_type": "code",
   "execution_count": 100,
   "metadata": {
    "ExecuteTime": {
     "end_time": "2019-04-23T16:41:56.607917Z",
     "start_time": "2019-04-23T16:41:56.596337Z"
    }
   },
   "outputs": [
    {
     "data": {
      "text/plain": [
       "array([['Alice', 'Michel', 'Cathy', 'Dorothy'],\n",
       "       ['65', '78', '90', '81']], dtype='<U21')"
      ]
     },
     "execution_count": 100,
     "metadata": {},
     "output_type": "execute_result"
    }
   ],
   "source": [
    "# All columns, rows 0 and 1\n",
    "students[0:2,:]"
   ]
  },
  {
   "cell_type": "code",
   "execution_count": 101,
   "metadata": {
    "ExecuteTime": {
     "end_time": "2019-04-23T16:41:56.633956Z",
     "start_time": "2019-04-23T16:41:56.612098Z"
    }
   },
   "outputs": [
    {
     "data": {
      "text/plain": [
       "array([['Alice', 'Michel', 'Cathy', 'Dorothy'],\n",
       "       ['65', '78', '90', '81'],\n",
       "       ['71', '82', '79', '92']], dtype='<U21')"
      ]
     },
     "execution_count": 101,
     "metadata": {},
     "output_type": "execute_result"
    }
   ],
   "source": [
    "# All rows and columns\n",
    "students[:]"
   ]
  },
  {
   "cell_type": "code",
   "execution_count": 102,
   "metadata": {
    "ExecuteTime": {
     "end_time": "2019-04-23T16:41:56.651525Z",
     "start_time": "2019-04-23T16:41:56.640774Z"
    }
   },
   "outputs": [
    {
     "data": {
      "text/plain": [
       "array(['71', '82', '79', '92'], dtype='<U21')"
      ]
     },
     "execution_count": 102,
     "metadata": {},
     "output_type": "execute_result"
    }
   ],
   "source": [
    "#The last row\n",
    "students[-1,:]"
   ]
  },
  {
   "cell_type": "code",
   "execution_count": 103,
   "metadata": {
    "ExecuteTime": {
     "end_time": "2019-04-23T16:41:56.669405Z",
     "start_time": "2019-04-23T16:41:56.655921Z"
    }
   },
   "outputs": [
    {
     "data": {
      "text/plain": [
       "array([['Cathy', 'Dorothy'],\n",
       "       ['90', '81']], dtype='<U21')"
      ]
     },
     "execution_count": 103,
     "metadata": {},
     "output_type": "execute_result"
    }
   ],
   "source": [
    "#3rd from last to second from last row, last two columns\n",
    "students[-3:-1,-2:]"
   ]
  },
  {
   "cell_type": "markdown",
   "metadata": {
    "ExecuteTime": {
     "end_time": "2019-03-04T15:37:06.710873Z",
     "start_time": "2019-03-04T15:37:06.706932Z"
    }
   },
   "source": [
    "### dots or ellipsis(...)\n",
    "\n",
    "Slicing can also include ellipsis (…) to make a selection tuple of the same length as the dimension of an array. The dots (...) represent as many colons as needed to produce a complete indexing tuple"
   ]
  },
  {
   "cell_type": "code",
   "execution_count": 104,
   "metadata": {
    "ExecuteTime": {
     "end_time": "2019-04-23T16:41:56.694079Z",
     "start_time": "2019-04-23T16:41:56.673955Z"
    }
   },
   "outputs": [
    {
     "data": {
      "text/plain": [
       "array(['Alice', 'Michel', 'Cathy', 'Dorothy'], dtype='<U21')"
      ]
     },
     "execution_count": 104,
     "metadata": {},
     "output_type": "execute_result"
    }
   ],
   "source": [
    "students[0,...] "
   ]
  },
  {
   "cell_type": "code",
   "execution_count": 105,
   "metadata": {
    "ExecuteTime": {
     "end_time": "2019-04-23T16:41:56.708053Z",
     "start_time": "2019-04-23T16:41:56.698700Z"
    }
   },
   "outputs": [
    {
     "data": {
      "text/plain": [
       "array(['Michel', '78', '82'], dtype='<U21')"
      ]
     },
     "execution_count": 105,
     "metadata": {},
     "output_type": "execute_result"
    }
   ],
   "source": [
    "# all rows and column 1\n",
    "students[...,1]"
   ]
  },
  {
   "cell_type": "code",
   "execution_count": 106,
   "metadata": {
    "ExecuteTime": {
     "end_time": "2019-04-23T16:41:56.726794Z",
     "start_time": "2019-04-23T16:41:56.717520Z"
    }
   },
   "outputs": [
    {
     "data": {
      "text/plain": [
       "(3,)"
      ]
     },
     "execution_count": 106,
     "metadata": {},
     "output_type": "execute_result"
    }
   ],
   "source": [
    "students[...,1].shape"
   ]
  },
  {
   "cell_type": "markdown",
   "metadata": {},
   "source": [
    "## Iteratition"
   ]
  },
  {
   "cell_type": "markdown",
   "metadata": {},
   "source": [
    "### 1D Arrays"
   ]
  },
  {
   "cell_type": "code",
   "execution_count": 107,
   "metadata": {
    "ExecuteTime": {
     "end_time": "2019-04-23T16:41:56.748225Z",
     "start_time": "2019-04-23T16:41:56.729974Z"
    }
   },
   "outputs": [
    {
     "data": {
      "text/plain": [
       "array([  0,   1,   4,   9,  16,  25,  36,  49,  64,  81, 100])"
      ]
     },
     "execution_count": 107,
     "metadata": {},
     "output_type": "execute_result"
    }
   ],
   "source": [
    "a = np.arange(11)**2\n",
    "a"
   ]
  },
  {
   "cell_type": "code",
   "execution_count": 108,
   "metadata": {
    "ExecuteTime": {
     "end_time": "2019-04-23T16:41:56.774174Z",
     "start_time": "2019-04-23T16:41:56.758816Z"
    }
   },
   "outputs": [
    {
     "name": "stdout",
     "output_type": "stream",
     "text": [
      "0.0\n",
      "1.0\n",
      "2.0\n",
      "3.0\n",
      "4.0\n",
      "5.0\n",
      "6.0\n",
      "7.0\n",
      "8.0\n",
      "9.0\n",
      "10.0\n"
     ]
    }
   ],
   "source": [
    "for i in a:\n",
    "    print(i**(1/2))"
   ]
  },
  {
   "cell_type": "markdown",
   "metadata": {
    "ExecuteTime": {
     "end_time": "2019-03-04T15:39:43.919036Z",
     "start_time": "2019-03-04T15:39:43.916035Z"
    }
   },
   "source": [
    "### Multi-Dimensional Arrays"
   ]
  },
  {
   "cell_type": "code",
   "execution_count": 109,
   "metadata": {
    "ExecuteTime": {
     "end_time": "2019-04-23T16:41:56.804852Z",
     "start_time": "2019-04-23T16:41:56.790247Z"
    }
   },
   "outputs": [],
   "source": [
    "students = np.array([['Alice','Beth','Cathy','Dorothy'],\n",
    "                     [65,78,90,81],\n",
    "                     [71,82,79,92]])"
   ]
  },
  {
   "cell_type": "code",
   "execution_count": 110,
   "metadata": {
    "ExecuteTime": {
     "end_time": "2019-04-23T16:41:56.823759Z",
     "start_time": "2019-04-23T16:41:56.810323Z"
    }
   },
   "outputs": [
    {
     "name": "stdout",
     "output_type": "stream",
     "text": [
      "i =  ['Alice' 'Beth' 'Cathy' 'Dorothy']\n",
      "i =  ['65' '78' '90' '81']\n",
      "i =  ['71' '82' '79' '92']\n"
     ]
    }
   ],
   "source": [
    "# Each iteration will be over the rows of the array\n",
    "for i in students:\n",
    "    print('i = ', i)"
   ]
  },
  {
   "cell_type": "markdown",
   "metadata": {},
   "source": [
    "**Flatten a multi-dimensional array**"
   ]
  },
  {
   "cell_type": "code",
   "execution_count": 111,
   "metadata": {
    "ExecuteTime": {
     "end_time": "2019-04-23T16:41:56.846498Z",
     "start_time": "2019-04-23T16:41:56.831718Z"
    }
   },
   "outputs": [
    {
     "name": "stdout",
     "output_type": "stream",
     "text": [
      "Alice\n",
      "Beth\n",
      "Cathy\n",
      "Dorothy\n",
      "65\n",
      "78\n",
      "90\n",
      "81\n",
      "71\n",
      "82\n",
      "79\n",
      "92\n"
     ]
    }
   ],
   "source": [
    "# If one wants to perform an operation on each element in the array, \n",
    "# one can use the flatten function which will flatten the array to a \n",
    "# single dimension. 'By default', the flattening will occur `row-wise` \n",
    "# (also knows as C order)\n",
    "\n",
    "for element in students.flatten():\n",
    "    print(element)"
   ]
  },
  {
   "cell_type": "code",
   "execution_count": 112,
   "metadata": {
    "ExecuteTime": {
     "end_time": "2019-04-23T16:41:56.861777Z",
     "start_time": "2019-04-23T16:41:56.849760Z"
    }
   },
   "outputs": [
    {
     "name": "stdout",
     "output_type": "stream",
     "text": [
      "Alice\n",
      "65\n",
      "71\n",
      "Beth\n",
      "78\n",
      "82\n",
      "Cathy\n",
      "90\n",
      "79\n",
      "Dorothy\n",
      "81\n",
      "92\n"
     ]
    }
   ],
   "source": [
    "# To flatten a 2D array column-wise, \n",
    "# use the Fortran order\n",
    "for element in students.flatten(order='F'):\n",
    "    print(element)"
   ]
  },
  {
   "cell_type": "code",
   "execution_count": 113,
   "metadata": {
    "ExecuteTime": {
     "end_time": "2019-04-23T16:41:56.879432Z",
     "start_time": "2019-04-23T16:41:56.867607Z"
    }
   },
   "outputs": [
    {
     "data": {
      "text/plain": [
       "array([[ 0,  1,  2,  3],\n",
       "       [ 4,  5,  6,  7],\n",
       "       [ 8,  9, 10, 11]])"
      ]
     },
     "execution_count": 113,
     "metadata": {},
     "output_type": "execute_result"
    }
   ],
   "source": [
    "# nditer\n",
    "# Efficient multi-dimensional iterator object to iterate over arrays\n",
    "x = np.arange(12).reshape(3,4)\n",
    "x"
   ]
  },
  {
   "cell_type": "code",
   "execution_count": 114,
   "metadata": {
    "ExecuteTime": {
     "end_time": "2019-04-23T16:41:56.896273Z",
     "start_time": "2019-04-23T16:41:56.882622Z"
    }
   },
   "outputs": [
    {
     "name": "stdout",
     "output_type": "stream",
     "text": [
      "0\n",
      "1\n",
      "2\n",
      "3\n",
      "4\n",
      "5\n",
      "6\n",
      "7\n",
      "8\n",
      "9\n",
      "10\n",
      "11\n"
     ]
    }
   ],
   "source": [
    "# This is row-wise iteration, similar to iterating over a C-order flattened array\n",
    "for i in np.nditer(x):\n",
    "    print(i)"
   ]
  },
  {
   "cell_type": "code",
   "execution_count": 115,
   "metadata": {
    "ExecuteTime": {
     "end_time": "2019-04-23T16:41:56.909015Z",
     "start_time": "2019-04-23T16:41:56.900324Z"
    }
   },
   "outputs": [
    {
     "name": "stdout",
     "output_type": "stream",
     "text": [
      "0\n",
      "4\n",
      "8\n",
      "1\n",
      "5\n",
      "9\n",
      "2\n",
      "6\n",
      "10\n",
      "3\n",
      "7\n",
      "11\n"
     ]
    }
   ],
   "source": [
    "# Fortran order\n",
    "# This is like iterating over an array which has been flattened column-wise\n",
    "\n",
    "for i in np.nditer(x, order = 'F'): \n",
    "    print(i)"
   ]
  },
  {
   "cell_type": "code",
   "execution_count": 116,
   "metadata": {
    "ExecuteTime": {
     "end_time": "2019-04-23T16:41:56.925299Z",
     "start_time": "2019-04-23T16:41:56.912170Z"
    }
   },
   "outputs": [
    {
     "name": "stdout",
     "output_type": "stream",
     "text": [
      "[0 4 8]\n",
      "[1 5 9]\n",
      "[ 2  6 10]\n",
      "[ 3  7 11]\n"
     ]
    }
   ],
   "source": [
    "# There are a number of flags which we can pass as a list to nditer. \n",
    "# Many of these involve setting buffering options <br />\n",
    "# If we want iterate over each column, we can use the flag argument with value 'external_loop'\n",
    "\n",
    "for i in np.nditer(x, order = 'F', flags = ['external_loop']): \n",
    "    print(i)"
   ]
  },
  {
   "cell_type": "markdown",
   "metadata": {},
   "source": [
    "### Modifying Array Values\n",
    "\n",
    "By default, the nditer treats the input array as a read-only object. To modify the array elements, you must specify either read-write or write-only mode. This is controlled with per-operand flags."
   ]
  },
  {
   "cell_type": "code",
   "execution_count": 117,
   "metadata": {
    "ExecuteTime": {
     "end_time": "2019-04-23T16:41:56.940335Z",
     "start_time": "2019-04-23T16:41:56.928915Z"
    }
   },
   "outputs": [
    {
     "name": "stdout",
     "output_type": "stream",
     "text": [
      "Error: assignment destination is read-only\n",
      "0\n"
     ]
    }
   ],
   "source": [
    "# will trhoud value error\n",
    "try:\n",
    "    for arr in np.nditer(x):\n",
    "        arr[...] = arr * arr\n",
    "except ValueError as e:\n",
    "    print(\"Error:\", e)\n",
    "finally:\n",
    "    print(arr)"
   ]
  },
  {
   "cell_type": "code",
   "execution_count": 118,
   "metadata": {
    "ExecuteTime": {
     "end_time": "2019-04-23T16:41:56.954902Z",
     "start_time": "2019-04-23T16:41:56.945027Z"
    }
   },
   "outputs": [
    {
     "name": "stdout",
     "output_type": "stream",
     "text": [
      "121\n"
     ]
    }
   ],
   "source": [
    "# We set the ops_flag to make the array read-write\n",
    "try:\n",
    "    for arr in np.nditer(x, op_flags = ['readwrite']):\n",
    "        arr[...] = arr * arr\n",
    "except ValueError as e:\n",
    "    print(\"Error:\", e)\n",
    "finally:\n",
    "    print(arr)"
   ]
  },
  {
   "cell_type": "markdown",
   "metadata": {
    "ExecuteTime": {
     "end_time": "2019-03-04T15:48:40.989159Z",
     "start_time": "2019-03-04T15:48:40.985867Z"
    }
   },
   "source": [
    "## Array Shape Manipulation"
   ]
  },
  {
   "cell_type": "code",
   "execution_count": 119,
   "metadata": {
    "ExecuteTime": {
     "end_time": "2019-04-23T16:41:56.967324Z",
     "start_time": "2019-04-23T16:41:56.959313Z"
    }
   },
   "outputs": [],
   "source": [
    "a = np.array([(\"Germany\",\"France\", \"Hungary\",\"Austria\"),\n",
    "              (\"Berlin\",\"Paris\", \"Budapest\",\"Vienna\" )]) "
   ]
  },
  {
   "cell_type": "code",
   "execution_count": 120,
   "metadata": {
    "ExecuteTime": {
     "end_time": "2019-04-23T16:41:56.979310Z",
     "start_time": "2019-04-23T16:41:56.970085Z"
    }
   },
   "outputs": [
    {
     "data": {
      "text/plain": [
       "array([['Germany', 'France', 'Hungary', 'Austria'],\n",
       "       ['Berlin', 'Paris', 'Budapest', 'Vienna']], dtype='<U8')"
      ]
     },
     "execution_count": 120,
     "metadata": {},
     "output_type": "execute_result"
    }
   ],
   "source": [
    "a"
   ]
  },
  {
   "cell_type": "code",
   "execution_count": 121,
   "metadata": {
    "ExecuteTime": {
     "end_time": "2019-04-23T16:41:56.989815Z",
     "start_time": "2019-04-23T16:41:56.982555Z"
    }
   },
   "outputs": [
    {
     "data": {
      "text/plain": [
       "(2, 4)"
      ]
     },
     "execution_count": 121,
     "metadata": {},
     "output_type": "execute_result"
    }
   ],
   "source": [
    "a.shape"
   ]
  },
  {
   "cell_type": "markdown",
   "metadata": {},
   "source": [
    "The `ravel()` function\n",
    "\n",
    "The primary functional difference is that flatten is a method of an ndarray object and hence can only be called for true numpy arrays. In contrast `ravel()` is a library-level function and hence can be called on any object that can successfully be parsed. For example `ravel()` will work on a list of ndarrays, while flatten will not."
   ]
  },
  {
   "cell_type": "code",
   "execution_count": 122,
   "metadata": {
    "ExecuteTime": {
     "end_time": "2019-04-23T16:41:57.002681Z",
     "start_time": "2019-04-23T16:41:56.994014Z"
    }
   },
   "outputs": [
    {
     "data": {
      "text/plain": [
       "array(['Germany', 'France', 'Hungary', 'Austria', 'Berlin', 'Paris',\n",
       "       'Budapest', 'Vienna'], dtype='<U8')"
      ]
     },
     "execution_count": 122,
     "metadata": {},
     "output_type": "execute_result"
    }
   ],
   "source": [
    "a.ravel()"
   ]
  },
  {
   "cell_type": "code",
   "execution_count": 123,
   "metadata": {
    "ExecuteTime": {
     "end_time": "2019-04-23T16:41:57.016656Z",
     "start_time": "2019-04-23T16:41:57.007903Z"
    }
   },
   "outputs": [
    {
     "data": {
      "text/plain": [
       "array([['Germany', 'Berlin'],\n",
       "       ['France', 'Paris'],\n",
       "       ['Hungary', 'Budapest'],\n",
       "       ['Austria', 'Vienna']], dtype='<U8')"
      ]
     },
     "execution_count": 123,
     "metadata": {},
     "output_type": "execute_result"
    }
   ],
   "source": [
    "# transposing array\n",
    "a.T  "
   ]
  },
  {
   "cell_type": "code",
   "execution_count": 124,
   "metadata": {
    "ExecuteTime": {
     "end_time": "2019-04-23T16:41:57.029558Z",
     "start_time": "2019-04-23T16:41:57.021792Z"
    }
   },
   "outputs": [
    {
     "data": {
      "text/plain": [
       "array(['Germany', 'Berlin', 'France', 'Paris', 'Hungary', 'Budapest',\n",
       "       'Austria', 'Vienna'], dtype='<U8')"
      ]
     },
     "execution_count": 124,
     "metadata": {},
     "output_type": "execute_result"
    }
   ],
   "source": [
    "a.T.ravel()"
   ]
  },
  {
   "cell_type": "markdown",
   "metadata": {},
   "source": [
    "`reshape()` gives a new shape to an array without changing its data."
   ]
  },
  {
   "cell_type": "code",
   "execution_count": 125,
   "metadata": {
    "ExecuteTime": {
     "end_time": "2019-04-23T16:41:57.044461Z",
     "start_time": "2019-04-23T16:41:57.033748Z"
    }
   },
   "outputs": [
    {
     "data": {
      "text/plain": [
       "(2, 4)"
      ]
     },
     "execution_count": 125,
     "metadata": {},
     "output_type": "execute_result"
    }
   ],
   "source": [
    "a.shape"
   ]
  },
  {
   "cell_type": "code",
   "execution_count": 126,
   "metadata": {
    "ExecuteTime": {
     "end_time": "2019-04-23T16:41:57.058456Z",
     "start_time": "2019-04-23T16:41:57.047685Z"
    }
   },
   "outputs": [
    {
     "data": {
      "text/plain": [
       "array([['Germany', 'France'],\n",
       "       ['Hungary', 'Austria'],\n",
       "       ['Berlin', 'Paris'],\n",
       "       ['Budapest', 'Vienna']], dtype='<U8')"
      ]
     },
     "execution_count": 126,
     "metadata": {},
     "output_type": "execute_result"
    }
   ],
   "source": [
    "a.reshape(4,2)"
   ]
  },
  {
   "cell_type": "code",
   "execution_count": 127,
   "metadata": {
    "ExecuteTime": {
     "end_time": "2019-04-23T16:41:57.070068Z",
     "start_time": "2019-04-23T16:41:57.061403Z"
    }
   },
   "outputs": [
    {
     "data": {
      "text/plain": [
       "array([[ 0,  1,  2,  3,  4],\n",
       "       [ 5,  6,  7,  8,  9],\n",
       "       [10, 11, 12, 13, 14]])"
      ]
     },
     "execution_count": 127,
     "metadata": {},
     "output_type": "execute_result"
    }
   ],
   "source": [
    "np.arange(15).reshape(3,5)"
   ]
  },
  {
   "cell_type": "code",
   "execution_count": 128,
   "metadata": {
    "ExecuteTime": {
     "end_time": "2019-04-23T16:41:57.083897Z",
     "start_time": "2019-04-23T16:41:57.073953Z"
    }
   },
   "outputs": [
    {
     "name": "stdout",
     "output_type": "stream",
     "text": [
      "Error: cannot reshape array of size 15 into shape (3,6)\n"
     ]
    }
   ],
   "source": [
    "# Reshaping a 15-element array to an 18-element one will throw an error\n",
    "try:\n",
    "    np.arange(15).reshape(3,6)\n",
    "except ValueError as e:\n",
    "    print(\"Error:\", e)"
   ]
  },
  {
   "cell_type": "code",
   "execution_count": 129,
   "metadata": {
    "ExecuteTime": {
     "end_time": "2019-04-23T16:41:57.090886Z",
     "start_time": "2019-04-23T16:41:57.087273Z"
    }
   },
   "outputs": [],
   "source": [
    "# Specify only one dimension (and infer the others) when reshaping\n",
    "# Another way we can reshape is by metioning only one dimension, and -1. \n",
    "# -1 means that the length in that dimension is inferred"
   ]
  },
  {
   "cell_type": "code",
   "execution_count": 130,
   "metadata": {
    "ExecuteTime": {
     "end_time": "2019-04-23T16:41:57.102109Z",
     "start_time": "2019-04-23T16:41:57.093936Z"
    }
   },
   "outputs": [
    {
     "data": {
      "text/plain": [
       "array(['Germany', 'France', 'Hungary', 'Austria', 'Italy', 'Denmark'],\n",
       "      dtype='<U7')"
      ]
     },
     "execution_count": 130,
     "metadata": {},
     "output_type": "execute_result"
    }
   ],
   "source": [
    "countries = np.array([\"Germany\",\"France\", \"Hungary\",\"Austria\",\"Italy\",\"Denmark\"])\n",
    "countries"
   ]
  },
  {
   "cell_type": "code",
   "execution_count": 131,
   "metadata": {
    "ExecuteTime": {
     "end_time": "2019-04-23T16:41:57.112983Z",
     "start_time": "2019-04-23T16:41:57.105021Z"
    }
   },
   "outputs": [
    {
     "data": {
      "text/plain": [
       "array([['Germany', 'France', 'Hungary'],\n",
       "       ['Austria', 'Italy', 'Denmark']], dtype='<U7')"
      ]
     },
     "execution_count": 131,
     "metadata": {},
     "output_type": "execute_result"
    }
   ],
   "source": [
    "countries.reshape(-1,3) "
   ]
  },
  {
   "cell_type": "code",
   "execution_count": 132,
   "metadata": {
    "ExecuteTime": {
     "end_time": "2019-04-23T16:41:57.122294Z",
     "start_time": "2019-04-23T16:41:57.115603Z"
    }
   },
   "outputs": [
    {
     "data": {
      "text/plain": [
       "array([['Germany', 'France'],\n",
       "       ['Hungary', 'Austria'],\n",
       "       ['Italy', 'Denmark']], dtype='<U7')"
      ]
     },
     "execution_count": 132,
     "metadata": {},
     "output_type": "execute_result"
    }
   ],
   "source": [
    "countries.reshape(3,-1) "
   ]
  },
  {
   "cell_type": "code",
   "execution_count": 133,
   "metadata": {
    "ExecuteTime": {
     "end_time": "2019-04-23T16:41:57.133683Z",
     "start_time": "2019-04-23T16:41:57.124211Z"
    }
   },
   "outputs": [
    {
     "data": {
      "text/plain": [
       "array([['Germany', 'France'],\n",
       "       ['Hungary', 'Austria'],\n",
       "       ['Italy', 'Denmark']], dtype='<U7')"
      ]
     },
     "execution_count": 133,
     "metadata": {},
     "output_type": "execute_result"
    }
   ],
   "source": [
    "countries.reshape(3,2)"
   ]
  },
  {
   "cell_type": "markdown",
   "metadata": {},
   "source": [
    "## Splitting Arrays\n",
    "\n",
    "`split()` an array into multiple sub-arrays. By specifying the number of equally shaped arrays to return, or by specifying the columns after which the division should occur\n",
    "\n",
    "`split(array, indices_or_sections, axis=0)`"
   ]
  },
  {
   "cell_type": "code",
   "execution_count": 134,
   "metadata": {
    "ExecuteTime": {
     "end_time": "2019-04-23T16:41:57.141815Z",
     "start_time": "2019-04-23T16:41:57.137019Z"
    }
   },
   "outputs": [],
   "source": [
    "x = np.arange(9)"
   ]
  },
  {
   "cell_type": "code",
   "execution_count": 135,
   "metadata": {
    "ExecuteTime": {
     "end_time": "2019-04-23T16:41:57.151799Z",
     "start_time": "2019-04-23T16:41:57.145361Z"
    }
   },
   "outputs": [
    {
     "data": {
      "text/plain": [
       "array([0, 1, 2, 3, 4, 5, 6, 7, 8])"
      ]
     },
     "execution_count": 135,
     "metadata": {},
     "output_type": "execute_result"
    }
   ],
   "source": [
    "x"
   ]
  },
  {
   "cell_type": "code",
   "execution_count": 136,
   "metadata": {
    "ExecuteTime": {
     "end_time": "2019-04-23T16:41:57.163674Z",
     "start_time": "2019-04-23T16:41:57.155876Z"
    }
   },
   "outputs": [
    {
     "data": {
      "text/plain": [
       "[array([0, 1, 2]), array([3, 4, 5]), array([6, 7, 8])]"
      ]
     },
     "execution_count": 136,
     "metadata": {},
     "output_type": "execute_result"
    }
   ],
   "source": [
    "# Split the array in 3 equal-sized subarrays:\n",
    "np.split(x, 3)"
   ]
  },
  {
   "cell_type": "code",
   "execution_count": 137,
   "metadata": {
    "ExecuteTime": {
     "end_time": "2019-04-23T16:41:57.178667Z",
     "start_time": "2019-04-23T16:41:57.167060Z"
    }
   },
   "outputs": [
    {
     "name": "stdout",
     "output_type": "stream",
     "text": [
      "Error: array split does not result in an equal division\n"
     ]
    }
   ],
   "source": [
    "# The number of splits must be a divisor of the number of elements\n",
    "# Or Numpy will complain that an even split is not possible\n",
    "\n",
    "try:\n",
    "    np.split(x, 4)\n",
    "except TypeError as e:\n",
    "    print(\"Error:\", e)\n",
    "except ValueError as e:\n",
    "    print(\"Error:\", e)"
   ]
  },
  {
   "cell_type": "code",
   "execution_count": 138,
   "metadata": {
    "ExecuteTime": {
     "end_time": "2019-04-23T16:41:57.191279Z",
     "start_time": "2019-04-23T16:41:57.182202Z"
    }
   },
   "outputs": [
    {
     "data": {
      "text/plain": [
       "[array([0, 1, 2, 3]), array([4, 5, 6]), array([7, 8])]"
      ]
     },
     "execution_count": 138,
     "metadata": {},
     "output_type": "execute_result"
    }
   ],
   "source": [
    "# Split the array at positions indicated in 1-D array:\n",
    "np.split(x,[4,7])"
   ]
  },
  {
   "cell_type": "markdown",
   "metadata": {},
   "source": [
    "`hsplit`. The `numpy.hsplit` is a special case of split() function where axis is 1 indicating a horizontal split regardless of the dimension of the input array. <br />\n",
    "In this example, the split will be performed along a column"
   ]
  },
  {
   "cell_type": "code",
   "execution_count": 139,
   "metadata": {
    "ExecuteTime": {
     "end_time": "2019-04-23T16:41:57.201313Z",
     "start_time": "2019-04-23T16:41:57.195278Z"
    }
   },
   "outputs": [],
   "source": [
    "y = np.array([(\"Germany\",\"France\", \"Hungary\",\"Austria\"),\n",
    "              (\"Berlin\",\"Paris\", \"Budapest\",\"Vienna\" )]) "
   ]
  },
  {
   "cell_type": "code",
   "execution_count": 140,
   "metadata": {
    "ExecuteTime": {
     "end_time": "2019-04-23T16:41:57.211707Z",
     "start_time": "2019-04-23T16:41:57.204196Z"
    }
   },
   "outputs": [
    {
     "data": {
      "text/plain": [
       "array([['Germany', 'France', 'Hungary', 'Austria'],\n",
       "       ['Berlin', 'Paris', 'Budapest', 'Vienna']], dtype='<U8')"
      ]
     },
     "execution_count": 140,
     "metadata": {},
     "output_type": "execute_result"
    }
   ],
   "source": [
    "y"
   ]
  },
  {
   "cell_type": "code",
   "execution_count": 141,
   "metadata": {
    "ExecuteTime": {
     "end_time": "2019-04-23T16:41:57.219365Z",
     "start_time": "2019-04-23T16:41:57.214942Z"
    }
   },
   "outputs": [],
   "source": [
    "p1, p2 = np.hsplit(y, 2)"
   ]
  },
  {
   "cell_type": "code",
   "execution_count": 142,
   "metadata": {
    "ExecuteTime": {
     "end_time": "2019-04-23T16:41:57.229039Z",
     "start_time": "2019-04-23T16:41:57.222591Z"
    }
   },
   "outputs": [
    {
     "data": {
      "text/plain": [
       "array([['Germany', 'France'],\n",
       "       ['Berlin', 'Paris']], dtype='<U8')"
      ]
     },
     "execution_count": 142,
     "metadata": {},
     "output_type": "execute_result"
    }
   ],
   "source": [
    "p1"
   ]
  },
  {
   "cell_type": "code",
   "execution_count": 143,
   "metadata": {
    "ExecuteTime": {
     "end_time": "2019-04-23T16:41:57.240869Z",
     "start_time": "2019-04-23T16:41:57.233283Z"
    }
   },
   "outputs": [
    {
     "data": {
      "text/plain": [
       "array([['Hungary', 'Austria'],\n",
       "       ['Budapest', 'Vienna']], dtype='<U8')"
      ]
     },
     "execution_count": 143,
     "metadata": {},
     "output_type": "execute_result"
    }
   ],
   "source": [
    "p2"
   ]
  },
  {
   "cell_type": "code",
   "execution_count": 144,
   "metadata": {
    "ExecuteTime": {
     "end_time": "2019-04-23T16:41:57.252987Z",
     "start_time": "2019-04-23T16:41:57.243495Z"
    }
   },
   "outputs": [
    {
     "data": {
      "text/plain": [
       "[array([['Germany'],\n",
       "        ['Berlin']], dtype='<U8'),\n",
       " array([['France'],\n",
       "        ['Paris']], dtype='<U8'),\n",
       " array([['Hungary'],\n",
       "        ['Budapest']], dtype='<U8'),\n",
       " array([['Austria'],\n",
       "        ['Vienna']], dtype='<U8')]"
      ]
     },
     "execution_count": 144,
     "metadata": {},
     "output_type": "execute_result"
    }
   ],
   "source": [
    "np.hsplit(y,4)"
   ]
  },
  {
   "cell_type": "code",
   "execution_count": 145,
   "metadata": {
    "ExecuteTime": {
     "end_time": "2019-04-23T16:41:57.265406Z",
     "start_time": "2019-04-23T16:41:57.256722Z"
    }
   },
   "outputs": [
    {
     "name": "stdout",
     "output_type": "stream",
     "text": [
      "Error: array split does not result in an equal division\n"
     ]
    }
   ],
   "source": [
    "try:\n",
    "    np.hsplit(y,3)\n",
    "except TypeError as e:\n",
    "    print(\"Error:\", e)\n",
    "except ValueError as e:\n",
    "    print(\"Error:\", e)"
   ]
  },
  {
   "cell_type": "markdown",
   "metadata": {},
   "source": [
    "`vsplit` splits along the vertical axis"
   ]
  },
  {
   "cell_type": "code",
   "execution_count": 146,
   "metadata": {
    "ExecuteTime": {
     "end_time": "2019-04-23T16:41:57.280325Z",
     "start_time": "2019-04-23T16:41:57.268850Z"
    }
   },
   "outputs": [
    {
     "name": "stdout",
     "output_type": "stream",
     "text": [
      "[['Germany' 'France' 'Hungary' 'Austria']] [['Berlin' 'Paris' 'Budapest' 'Vienna']]\n"
     ]
    }
   ],
   "source": [
    "p_1,p_2 = np.vsplit(y, 2)\n",
    "print(p_1, p_2)"
   ]
  },
  {
   "cell_type": "markdown",
   "metadata": {},
   "source": [
    "An alternative approach is array unpacking. In this example, we unpack the array into two variables. The array unpacks by row i.e Unpacking \"unpacks\" the first dimensions of an array "
   ]
  },
  {
   "cell_type": "code",
   "execution_count": 147,
   "metadata": {
    "ExecuteTime": {
     "end_time": "2019-04-23T16:41:57.293608Z",
     "start_time": "2019-04-23T16:41:57.283659Z"
    }
   },
   "outputs": [
    {
     "name": "stdout",
     "output_type": "stream",
     "text": [
      "Countries:  ['Germany' 'France' 'Hungary' 'Austria']\n",
      "Capitals:  ['Berlin' 'Paris' 'Budapest' 'Vienna']\n"
     ]
    }
   ],
   "source": [
    "countries,capitals = y\n",
    "print('Countries: ', countries)\n",
    "print('Capitals: ' , capitals)"
   ]
  },
  {
   "cell_type": "code",
   "execution_count": null,
   "metadata": {
    "ExecuteTime": {
     "end_time": "2019-03-04T17:31:43.372606Z",
     "start_time": "2019-03-04T17:31:43.362565Z"
    }
   },
   "outputs": [],
   "source": []
  },
  {
   "cell_type": "code",
   "execution_count": 148,
   "metadata": {
    "ExecuteTime": {
     "end_time": "2019-04-23T16:41:57.304352Z",
     "start_time": "2019-04-23T16:41:57.296920Z"
    }
   },
   "outputs": [
    {
     "name": "stdout",
     "output_type": "stream",
     "text": [
      "['Germany' 'Berlin'] ['France' 'Paris'] ['Hungary' 'Budapest'] ['Austria' 'Vienna']\n"
     ]
    }
   ],
   "source": [
    "b1,b2,b3,b4 = y.T\n",
    "print(b1,b2,b3,b4)"
   ]
  },
  {
   "cell_type": "markdown",
   "metadata": {},
   "source": [
    "We can not use the following code, reason being the first dimension of array now contains 4 rows. If we want to split in 2 arrays horizontally we should use `split` or `hsplit`."
   ]
  },
  {
   "cell_type": "code",
   "execution_count": 149,
   "metadata": {
    "ExecuteTime": {
     "end_time": "2019-04-23T16:41:57.317008Z",
     "start_time": "2019-04-23T16:41:57.308004Z"
    }
   },
   "outputs": [
    {
     "name": "stdout",
     "output_type": "stream",
     "text": [
      "Error: too many values to unpack (expected 2)\n"
     ]
    }
   ],
   "source": [
    "try:\n",
    "    z1,z2 = y.T\n",
    "except TypeError as e:\n",
    "    print(\"Error:\", e)\n",
    "except ValueError as e:\n",
    "    print(\"Error:\", e)"
   ]
  },
  {
   "cell_type": "markdown",
   "metadata": {},
   "source": [
    "## View vs Copy\n",
    "\n",
    " - When the contents are physically stored in another location, it is called **Copy.**\n",
    " - On the other hand, a different view of the same memory content is provided, we call it as **View.**\n",
    " - Different array objects can share the same data. NumPy has **ndarray.view()** method which is a new array object that looks at the same data of the original array."
   ]
  },
  {
   "cell_type": "code",
   "execution_count": 150,
   "metadata": {
    "ExecuteTime": {
     "end_time": "2019-04-23T16:41:57.324971Z",
     "start_time": "2019-04-23T16:41:57.319874Z"
    }
   },
   "outputs": [],
   "source": [
    "fruits = np.array([\"Apple\",\"Mango\",\"Grapes\",\"Watermelon\"])"
   ]
  },
  {
   "cell_type": "code",
   "execution_count": 151,
   "metadata": {
    "ExecuteTime": {
     "end_time": "2019-04-23T16:41:57.336293Z",
     "start_time": "2019-04-23T16:41:57.327540Z"
    }
   },
   "outputs": [
    {
     "name": "stdout",
     "output_type": "stream",
     "text": [
      "['Apple' 'Mango' 'Grapes' 'Watermelon']\n",
      "['Apple' 'Mango' 'Grapes' 'Watermelon']\n"
     ]
    }
   ],
   "source": [
    "basket_1 = fruits.view()\n",
    "basket_2 = fruits.view()\n",
    "print(basket_1)\n",
    "print(basket_2)"
   ]
  },
  {
   "cell_type": "code",
   "execution_count": 152,
   "metadata": {
    "ExecuteTime": {
     "end_time": "2019-04-23T16:41:57.346406Z",
     "start_time": "2019-04-23T16:41:57.339403Z"
    }
   },
   "outputs": [
    {
     "name": "stdout",
     "output_type": "stream",
     "text": [
      "ids for the arrays are different.\n",
      "id for fruits is :  5873979664\n",
      "id for baskets is :  5873630160 5874177520\n"
     ]
    }
   ],
   "source": [
    "print(\"ids for the arrays are different.\")\n",
    "print(\"id for fruits is : \", id(fruits))\n",
    "print(\"id for baskets is : \", id(basket_1), id(basket_2))"
   ]
  },
  {
   "cell_type": "code",
   "execution_count": 153,
   "metadata": {
    "ExecuteTime": {
     "end_time": "2019-04-23T16:41:57.357951Z",
     "start_time": "2019-04-23T16:41:57.349665Z"
    }
   },
   "outputs": [
    {
     "data": {
      "text/plain": [
       "False"
      ]
     },
     "execution_count": 153,
     "metadata": {},
     "output_type": "execute_result"
    }
   ],
   "source": [
    "basket_1 is fruits"
   ]
  },
  {
   "cell_type": "code",
   "execution_count": 154,
   "metadata": {
    "ExecuteTime": {
     "end_time": "2019-04-23T16:41:57.367359Z",
     "start_time": "2019-04-23T16:41:57.360915Z"
    }
   },
   "outputs": [
    {
     "data": {
      "text/plain": [
       "True"
      ]
     },
     "execution_count": 154,
     "metadata": {},
     "output_type": "execute_result"
    }
   ],
   "source": [
    "basket_1.base is fruits "
   ]
  },
  {
   "cell_type": "code",
   "execution_count": 155,
   "metadata": {
    "ExecuteTime": {
     "end_time": "2019-04-23T16:41:57.379389Z",
     "start_time": "2019-04-23T16:41:57.370249Z"
    }
   },
   "outputs": [
    {
     "data": {
      "text/plain": [
       "array(['Strawberry', 'Mango', 'Grapes', 'Watermelon'], dtype='<U10')"
      ]
     },
     "execution_count": 155,
     "metadata": {},
     "output_type": "execute_result"
    }
   ],
   "source": [
    "# Change a few elements of basket. It changes the elements of fruits\n",
    "# Here, we assign a new value to the first element of basket_2. You \n",
    "# might be astonished that the list of fruits has been \"automatically\" \n",
    "# changed as well. The explanation is that there has been no new assignment \n",
    "# to basket_2, only to one of its elements.\n",
    "basket_2[0] = \"Strawberry\"\n",
    "basket_2"
   ]
  },
  {
   "cell_type": "code",
   "execution_count": 156,
   "metadata": {
    "ExecuteTime": {
     "end_time": "2019-04-23T16:41:57.389915Z",
     "start_time": "2019-04-23T16:41:57.382589Z"
    }
   },
   "outputs": [
    {
     "data": {
      "text/plain": [
       "array(['Strawberry', 'Mango', 'Grapes', 'Watermelon'], dtype='<U10')"
      ]
     },
     "execution_count": 156,
     "metadata": {},
     "output_type": "execute_result"
    }
   ],
   "source": [
    "fruits"
   ]
  },
  {
   "cell_type": "code",
   "execution_count": 157,
   "metadata": {
    "ExecuteTime": {
     "end_time": "2019-04-23T16:41:57.402161Z",
     "start_time": "2019-04-23T16:41:57.393407Z"
    }
   },
   "outputs": [
    {
     "data": {
      "text/plain": [
       "array(['Strawberry', 'Mango', 'Grapes', 'Watermelon'], dtype='<U10')"
      ]
     },
     "execution_count": 157,
     "metadata": {},
     "output_type": "execute_result"
    }
   ],
   "source": [
    "basket_1"
   ]
  },
  {
   "cell_type": "code",
   "execution_count": 158,
   "metadata": {
    "ExecuteTime": {
     "end_time": "2019-04-23T16:41:57.416097Z",
     "start_time": "2019-04-23T16:41:57.406012Z"
    }
   },
   "outputs": [
    {
     "data": {
      "text/plain": [
       "array(['Peach', 'Pineapple', 'Banana', 'Orange'], dtype='<U9')"
      ]
     },
     "execution_count": 158,
     "metadata": {},
     "output_type": "execute_result"
    }
   ],
   "source": [
    "# Change the entire elements of basket. It does not change fruits\n",
    "basket_1 = np.array([\"Peach\",\"Pineapple\",\"Banana\",\"Orange\"])\n",
    "\n",
    "# new np array\n",
    "basket_1"
   ]
  },
  {
   "cell_type": "code",
   "execution_count": 159,
   "metadata": {
    "ExecuteTime": {
     "end_time": "2019-04-23T16:41:57.426192Z",
     "start_time": "2019-04-23T16:41:57.419234Z"
    }
   },
   "outputs": [
    {
     "data": {
      "text/plain": [
       "array(['Strawberry', 'Mango', 'Grapes', 'Watermelon'], dtype='<U10')"
      ]
     },
     "execution_count": 159,
     "metadata": {},
     "output_type": "execute_result"
    }
   ],
   "source": [
    "fruits"
   ]
  },
  {
   "cell_type": "code",
   "execution_count": 160,
   "metadata": {
    "ExecuteTime": {
     "end_time": "2019-04-23T16:41:57.437813Z",
     "start_time": "2019-04-23T16:41:57.429902Z"
    }
   },
   "outputs": [
    {
     "data": {
      "text/plain": [
       "array([['Strawberry', 'Mango'],\n",
       "       ['Grapes', 'Watermelon']], dtype='<U10')"
      ]
     },
     "execution_count": 160,
     "metadata": {},
     "output_type": "execute_result"
    }
   ],
   "source": [
    "# Change the shape of basket. It does not change the shape of fruits\n",
    "basket_2.shape = 2,2\n",
    "basket_2"
   ]
  },
  {
   "cell_type": "code",
   "execution_count": 161,
   "metadata": {
    "ExecuteTime": {
     "end_time": "2019-04-23T16:41:57.447649Z",
     "start_time": "2019-04-23T16:41:57.440710Z"
    }
   },
   "outputs": [
    {
     "data": {
      "text/plain": [
       "array(['Strawberry', 'Mango', 'Grapes', 'Watermelon'], dtype='<U10')"
      ]
     },
     "execution_count": 161,
     "metadata": {},
     "output_type": "execute_result"
    }
   ],
   "source": [
    "# fruts are unchanged\n",
    "fruits"
   ]
  },
  {
   "cell_type": "code",
   "execution_count": 162,
   "metadata": {
    "ExecuteTime": {
     "end_time": "2019-04-23T16:41:57.458788Z",
     "start_time": "2019-04-23T16:41:57.451272Z"
    }
   },
   "outputs": [
    {
     "data": {
      "text/plain": [
       "array(['Grapes', 'Watermelon'], dtype='<U10')"
      ]
     },
     "execution_count": 162,
     "metadata": {},
     "output_type": "execute_result"
    }
   ],
   "source": [
    "# Slicing an array returns a view of it\n",
    "mini_basket = fruits[2:]\n",
    "mini_basket"
   ]
  },
  {
   "cell_type": "code",
   "execution_count": 163,
   "metadata": {
    "ExecuteTime": {
     "end_time": "2019-04-23T16:41:57.469746Z",
     "start_time": "2019-04-23T16:41:57.462108Z"
    }
   },
   "outputs": [
    {
     "data": {
      "text/plain": [
       "array(['Grapes', 'Peach'], dtype='<U10')"
      ]
     },
     "execution_count": 163,
     "metadata": {},
     "output_type": "execute_result"
    }
   ],
   "source": [
    "fruits[3] = \"Peach\"\n",
    "mini_basket"
   ]
  },
  {
   "cell_type": "markdown",
   "metadata": {},
   "source": [
    "## Deep Copy\n",
    "\n",
    "We now Create a deep copy of fruits "
   ]
  },
  {
   "cell_type": "code",
   "execution_count": 164,
   "metadata": {
    "ExecuteTime": {
     "end_time": "2019-04-23T16:41:57.479659Z",
     "start_time": "2019-04-23T16:41:57.473944Z"
    }
   },
   "outputs": [],
   "source": [
    "fruits = np.array([\"Apple\",\"Mango\",\"Grapes\",\"Watermelon\"])"
   ]
  },
  {
   "cell_type": "code",
   "execution_count": 165,
   "metadata": {
    "ExecuteTime": {
     "end_time": "2019-04-23T16:41:57.487669Z",
     "start_time": "2019-04-23T16:41:57.483429Z"
    }
   },
   "outputs": [],
   "source": [
    "basket = fruits.copy()"
   ]
  },
  {
   "cell_type": "code",
   "execution_count": 166,
   "metadata": {
    "ExecuteTime": {
     "end_time": "2019-04-23T16:41:57.498915Z",
     "start_time": "2019-04-23T16:41:57.490713Z"
    }
   },
   "outputs": [
    {
     "data": {
      "text/plain": [
       "False"
      ]
     },
     "execution_count": 166,
     "metadata": {},
     "output_type": "execute_result"
    }
   ],
   "source": [
    "basket is fruits"
   ]
  },
  {
   "cell_type": "code",
   "execution_count": 167,
   "metadata": {
    "ExecuteTime": {
     "end_time": "2019-04-23T16:41:57.509626Z",
     "start_time": "2019-04-23T16:41:57.502329Z"
    }
   },
   "outputs": [
    {
     "data": {
      "text/plain": [
       "array(['Strawberry', 'Mango', 'Grapes', 'Watermelon'], dtype='<U10')"
      ]
     },
     "execution_count": 167,
     "metadata": {},
     "output_type": "execute_result"
    }
   ],
   "source": [
    "basket [0] = \"Strawberry\"\n",
    "basket"
   ]
  },
  {
   "cell_type": "code",
   "execution_count": 168,
   "metadata": {
    "ExecuteTime": {
     "end_time": "2019-04-23T16:41:57.520708Z",
     "start_time": "2019-04-23T16:41:57.512758Z"
    }
   },
   "outputs": [
    {
     "data": {
      "text/plain": [
       "array(['Apple', 'Mango', 'Grapes', 'Watermelon'], dtype='<U10')"
      ]
     },
     "execution_count": 168,
     "metadata": {},
     "output_type": "execute_result"
    }
   ],
   "source": [
    "fruits"
   ]
  },
  {
   "cell_type": "code",
   "execution_count": 169,
   "metadata": {
    "ExecuteTime": {
     "end_time": "2019-04-23T16:41:57.528075Z",
     "start_time": "2019-04-23T16:41:57.523667Z"
    }
   },
   "outputs": [],
   "source": [
    "basket.shape = 2,2"
   ]
  },
  {
   "cell_type": "code",
   "execution_count": 170,
   "metadata": {
    "ExecuteTime": {
     "end_time": "2019-04-23T16:41:57.542782Z",
     "start_time": "2019-04-23T16:41:57.534628Z"
    }
   },
   "outputs": [
    {
     "data": {
      "text/plain": [
       "array([['Strawberry', 'Mango'],\n",
       "       ['Grapes', 'Watermelon']], dtype='<U10')"
      ]
     },
     "execution_count": 170,
     "metadata": {},
     "output_type": "execute_result"
    }
   ],
   "source": [
    "# Shape of basket: \n",
    "basket"
   ]
  },
  {
   "cell_type": "code",
   "execution_count": 171,
   "metadata": {
    "ExecuteTime": {
     "end_time": "2019-04-23T16:41:57.551853Z",
     "start_time": "2019-04-23T16:41:57.545274Z"
    }
   },
   "outputs": [
    {
     "data": {
      "text/plain": [
       "array(['Apple', 'Mango', 'Grapes', 'Watermelon'], dtype='<U10')"
      ]
     },
     "execution_count": 171,
     "metadata": {},
     "output_type": "execute_result"
    }
   ],
   "source": [
    "# Shape of fruits: \n",
    "fruits"
   ]
  },
  {
   "cell_type": "markdown",
   "metadata": {},
   "source": [
    "## Indexing - Integer Arrays\n",
    "\n",
    "NumPy arrays can be indexed with slices, but also with boolean or integer arrays <b>(masks)</b>. It means passing an array of indices to access multiple array elements at once. This method is called fancy indexing. It creates copies not views."
   ]
  },
  {
   "cell_type": "code",
   "execution_count": 172,
   "metadata": {
    "ExecuteTime": {
     "end_time": "2019-04-23T16:41:57.566700Z",
     "start_time": "2019-04-23T16:41:57.557334Z"
    }
   },
   "outputs": [
    {
     "data": {
      "text/plain": [
       "array([  0,   1,   4,   9,  16,  25,  36,  49,  64,  81, 100, 121])"
      ]
     },
     "execution_count": 172,
     "metadata": {},
     "output_type": "execute_result"
    }
   ],
   "source": [
    "a = np.arange(12)**2\n",
    "a"
   ]
  },
  {
   "cell_type": "markdown",
   "metadata": {},
   "source": [
    "Suppose we want to access three different elements. We could do it like this:"
   ]
  },
  {
   "cell_type": "code",
   "execution_count": 173,
   "metadata": {
    "ExecuteTime": {
     "end_time": "2019-04-23T16:41:57.579415Z",
     "start_time": "2019-04-23T16:41:57.569787Z"
    }
   },
   "outputs": [
    {
     "data": {
      "text/plain": [
       "(4, 36, 64)"
      ]
     },
     "execution_count": 173,
     "metadata": {},
     "output_type": "execute_result"
    }
   ],
   "source": [
    "a[2],a[6],a[8]"
   ]
  },
  {
   "cell_type": "markdown",
   "metadata": {},
   "source": [
    "Alternatively, we can pass a single list or array of indices to obtain the same result:"
   ]
  },
  {
   "cell_type": "code",
   "execution_count": 174,
   "metadata": {
    "ExecuteTime": {
     "end_time": "2019-04-23T16:41:57.592028Z",
     "start_time": "2019-04-23T16:41:57.583898Z"
    }
   },
   "outputs": [
    {
     "data": {
      "text/plain": [
       "array([ 4, 36, 64])"
      ]
     },
     "execution_count": 174,
     "metadata": {},
     "output_type": "execute_result"
    }
   ],
   "source": [
    "indx_1 = [2,6,8]\n",
    "a[indx_1]"
   ]
  },
  {
   "cell_type": "markdown",
   "metadata": {},
   "source": [
    "When using fancy indexing, the shape of the result reflects the shape of the index arrays rather than the shape of the array being indexed"
   ]
  },
  {
   "cell_type": "code",
   "execution_count": 175,
   "metadata": {
    "ExecuteTime": {
     "end_time": "2019-04-23T16:41:57.606252Z",
     "start_time": "2019-04-23T16:41:57.597989Z"
    }
   },
   "outputs": [
    {
     "data": {
      "text/plain": [
       "array([[  4,  16],\n",
       "       [ 64, 100]])"
      ]
     },
     "execution_count": 175,
     "metadata": {},
     "output_type": "execute_result"
    }
   ],
   "source": [
    "indx_2 = np.array([[2,4],[8,10]])\n",
    "a[indx_2]"
   ]
  },
  {
   "cell_type": "code",
   "execution_count": 176,
   "metadata": {
    "ExecuteTime": {
     "end_time": "2019-04-23T16:41:57.617719Z",
     "start_time": "2019-04-23T16:41:57.609467Z"
    }
   },
   "outputs": [],
   "source": [
    "food = np.array([[\"blueberry\",\"strawberry\",\"cherry\",\"blackberry\"],\n",
    "                 [\"pinenut\",\"hazelnuts\",\"cashewnut\",\"coconut\"],\n",
    "                 [\"mustard\",\"paprika\",\"nutmeg\",\"clove\"]])"
   ]
  },
  {
   "cell_type": "code",
   "execution_count": 177,
   "metadata": {
    "ExecuteTime": {
     "end_time": "2019-04-23T16:41:57.628077Z",
     "start_time": "2019-04-23T16:41:57.620998Z"
    }
   },
   "outputs": [
    {
     "data": {
      "text/plain": [
       "array([['blueberry', 'strawberry', 'cherry', 'blackberry'],\n",
       "       ['pinenut', 'hazelnuts', 'cashewnut', 'coconut'],\n",
       "       ['mustard', 'paprika', 'nutmeg', 'clove']], dtype='<U10')"
      ]
     },
     "execution_count": 177,
     "metadata": {},
     "output_type": "execute_result"
    }
   ],
   "source": [
    "food"
   ]
  },
  {
   "cell_type": "code",
   "execution_count": 178,
   "metadata": {
    "ExecuteTime": {
     "end_time": "2019-04-23T16:41:57.640834Z",
     "start_time": "2019-04-23T16:41:57.631393Z"
    }
   },
   "outputs": [
    {
     "data": {
      "text/plain": [
       "array([['blueberry', 'blackberry'],\n",
       "       ['mustard', 'clove']], dtype='<U10')"
      ]
     },
     "execution_count": 178,
     "metadata": {},
     "output_type": "execute_result"
    }
   ],
   "source": [
    "# We will now select the corner elements of this array\n",
    "\n",
    "row = np.array([[0,0],[2,2]])\n",
    "col = np.array([[0,3],[0,3]])\n",
    "\n",
    "food[row,col]"
   ]
  },
  {
   "cell_type": "code",
   "execution_count": 179,
   "metadata": {
    "ExecuteTime": {
     "end_time": "2019-04-23T16:41:57.651069Z",
     "start_time": "2019-04-23T16:41:57.643667Z"
    }
   },
   "outputs": [
    {
     "data": {
      "text/plain": [
       "'mustard'"
      ]
     },
     "execution_count": 179,
     "metadata": {},
     "output_type": "execute_result"
    }
   ],
   "source": [
    "# Notice that the first value in the result is food[0,0], next is food[0,3] , food[2,0] and lastly food[2,3]\n",
    "food[2,0]"
   ]
  },
  {
   "cell_type": "markdown",
   "metadata": {
    "ExecuteTime": {
     "end_time": "2019-03-05T06:24:49.645032Z",
     "start_time": "2019-03-05T06:24:49.641810Z"
    }
   },
   "source": [
    "**Modifying Values with Fancy Indexing**"
   ]
  },
  {
   "cell_type": "code",
   "execution_count": 180,
   "metadata": {
    "ExecuteTime": {
     "end_time": "2019-04-23T16:41:57.663546Z",
     "start_time": "2019-04-23T16:41:57.655554Z"
    }
   },
   "outputs": [
    {
     "data": {
      "text/plain": [
       "array([['000000', 'strawberry', 'cherry', '000000'],\n",
       "       ['pinenut', 'hazelnuts', 'cashewnut', 'coconut'],\n",
       "       ['000000', 'paprika', 'nutmeg', '000000']], dtype='<U10')"
      ]
     },
     "execution_count": 180,
     "metadata": {},
     "output_type": "execute_result"
    }
   ],
   "source": [
    "food[row,col] = \"000000\"\n",
    "food"
   ]
  },
  {
   "cell_type": "code",
   "execution_count": 181,
   "metadata": {
    "ExecuteTime": {
     "end_time": "2019-04-23T16:41:57.680633Z",
     "start_time": "2019-04-23T16:41:57.666972Z"
    }
   },
   "outputs": [
    {
     "data": {
      "text/plain": [
       "array([  0,   1,   4,   9,  16,  25,  36,  49,  64,  81, 100, 121])"
      ]
     },
     "execution_count": 181,
     "metadata": {},
     "output_type": "execute_result"
    }
   ],
   "source": [
    "a"
   ]
  },
  {
   "cell_type": "code",
   "execution_count": 182,
   "metadata": {
    "ExecuteTime": {
     "end_time": "2019-04-23T16:41:57.688567Z",
     "start_time": "2019-04-23T16:41:57.684303Z"
    }
   },
   "outputs": [],
   "source": [
    "a[indx_1] = 999"
   ]
  },
  {
   "cell_type": "code",
   "execution_count": 183,
   "metadata": {
    "ExecuteTime": {
     "end_time": "2019-04-23T16:41:57.707151Z",
     "start_time": "2019-04-23T16:41:57.691802Z"
    }
   },
   "outputs": [
    {
     "data": {
      "text/plain": [
       "array([  0,   1, 999,   9,  16,  25, 999,  49, 999,  81, 100, 121])"
      ]
     },
     "execution_count": 183,
     "metadata": {},
     "output_type": "execute_result"
    }
   ],
   "source": [
    "a"
   ]
  },
  {
   "cell_type": "markdown",
   "metadata": {
    "ExecuteTime": {
     "end_time": "2019-03-05T06:27:25.885513Z",
     "start_time": "2019-03-05T06:27:25.882028Z"
    }
   },
   "source": [
    "### Pandas Example\n",
    "\n",
    "We will load the GDP per capita (in US dollars) data for all the countries in the world for the year 2016 into a variable using pandas. \n",
    "\n",
    "**GDP per capita (current US$)**\n",
    "\n",
    "GDP per capita is gross domestic product divided by midyear population. GDP is the sum of gross value added by all resident producers in the economy plus any product taxes and minus any subsidies not included in the value of the products. It is calculated without making deductions for depreciation of fabricated assets or for depletion and degradation of natural resources. Data are in current U.S. dollars."
   ]
  },
  {
   "cell_type": "code",
   "execution_count": 184,
   "metadata": {
    "ExecuteTime": {
     "end_time": "2019-04-23T16:41:57.745431Z",
     "start_time": "2019-04-23T16:41:57.710157Z"
    }
   },
   "outputs": [],
   "source": [
    "url = \"https://gist.githubusercontent.com/butuzov/ed1c7f8f3affe6dd005c1ee40dc3f7f2/raw/3ecb105e9a42abd7ddd1832d076442f094e7ef99/gdp_pc.csv\"\n",
    "gdp_16 = pd.read_csv(url)[\"2016\"].values"
   ]
  },
  {
   "cell_type": "code",
   "execution_count": 185,
   "metadata": {
    "ExecuteTime": {
     "end_time": "2019-04-23T16:41:57.759526Z",
     "start_time": "2019-04-23T16:41:57.749475Z"
    }
   },
   "outputs": [
    {
     "data": {
      "text/plain": [
       "numpy.ndarray"
      ]
     },
     "execution_count": 185,
     "metadata": {},
     "output_type": "execute_result"
    }
   ],
   "source": [
    "type(gdp_16)"
   ]
  },
  {
   "cell_type": "code",
   "execution_count": 186,
   "metadata": {
    "ExecuteTime": {
     "end_time": "2019-04-23T16:41:57.770129Z",
     "start_time": "2019-04-23T16:41:57.763025Z"
    }
   },
   "outputs": [
    {
     "data": {
      "text/plain": [
       "(264,)"
      ]
     },
     "execution_count": 186,
     "metadata": {},
     "output_type": "execute_result"
    }
   ],
   "source": [
    "gdp_16.shape"
   ]
  },
  {
   "cell_type": "code",
   "execution_count": 187,
   "metadata": {
    "ExecuteTime": {
     "end_time": "2019-04-23T16:41:58.200918Z",
     "start_time": "2019-04-23T16:41:57.777956Z"
    }
   },
   "outputs": [
    {
     "data": {
      "image/png": "[encoded data removed]",
      "text/plain": [
       "<Figure size 640x480 with 1 Axes>"
      ]
     },
     "metadata": {},
     "output_type": "display_data"
    }
   ],
   "source": [
    "plt.plot(gdp_16)\n",
    "plt.show()"
   ]
  },
  {
   "cell_type": "code",
   "execution_count": 188,
   "metadata": {
    "ExecuteTime": {
     "end_time": "2019-04-23T16:41:58.215849Z",
     "start_time": "2019-04-23T16:41:58.205164Z"
    }
   },
   "outputs": [
    {
     "data": {
      "text/plain": [
       "nan"
      ]
     },
     "execution_count": 188,
     "metadata": {},
     "output_type": "execute_result"
    }
   ],
   "source": [
    "np.median(gdp_16)"
   ]
  },
  {
   "cell_type": "code",
   "execution_count": 189,
   "metadata": {
    "ExecuteTime": {
     "end_time": "2019-04-23T16:41:58.230045Z",
     "start_time": "2019-04-23T16:41:58.218834Z"
    }
   },
   "outputs": [
    {
     "data": {
      "text/plain": [
       "array([            nan,   1944.11700491,   6454.13537039,  11540.02556108,\n",
       "                   nan,  16726.72218488,  72399.65347339,  19939.93077479,\n",
       "         8832.76343477,             nan,  22661.48853616,  46012.32845157,\n",
       "        50551.5531752 ,  17256.62697044,    777.75285166,  46428.67142458,\n",
       "         2167.64282343,   1771.01528722,   3579.75679135,  19242.62261574,\n",
       "                   nan,  22516.81648228,  12172.06646607,  18066.3006624 ,\n",
       "         8461.53565294,             nan,   7234.19524335,  15123.85001428,\n",
       "        18064.60442722,  77420.61217204,   8900.76455309,  16956.72477025,\n",
       "          698.70665573,  44819.48360027,  26851.1685408 ,  63888.73238665,\n",
       "                   nan,  23193.97411052,  15529.08410645,   3693.43690912,\n",
       "         3609.37559695,    801.63011974,   5717.29037095,  14153.92792519,\n",
       "         1521.85721808,   6551.31894829,  16609.73935418,  15370.63489842,\n",
       "                   nan,             nan,             nan,  32707.872887  ,\n",
       "        34749.21236327,  48860.52529211,             nan,  10947.71518781,\n",
       "        49029.01483891,  15204.93246446,  15013.29637986,  13839.96863584,\n",
       "         9175.64442097,  17025.39067931,  19516.08298373,  31366.86706838,\n",
       "        11242.04751604,  11128.80247428,  42063.79406454,             nan,\n",
       "        36304.85427275,  29743.33742802,   1734.46407452,  39610.86680734,\n",
       "         4254.34870787,  43378.14602882,   9109.95196333,  41343.29253554,\n",
       "                   nan,   3508.71519196,  18102.86221919,  42656.2166022 ,\n",
       "        10004.5284119 ,   4292.44889992,             nan,   1966.37968826,\n",
       "         1676.86477284,   1608.70437903,  26058.077443  ,  26778.50496589,\n",
       "        14200.00719381,             nan,   7944.69135314,             nan,\n",
       "         7836.3791763 ,  46864.95679091,  58617.97062639,   4736.83914255,\n",
       "         2270.13030428,  23422.41797653,   1783.71512959,  26700.75608264,\n",
       "        12933.94330355,  10588.17884122,   3627.9834637 ,   5201.03397093,\n",
       "        11609.02662172,   2834.05481866,             nan,   6570.61624581,\n",
       "                   nan,  71472.29596487,  19948.81948407,  17348.93653235,\n",
       "        50745.68297711,  37258.22359457,  38380.17241178,   8821.31142953,\n",
       "         9047.7689234 ,  42281.18818958,  25285.94773126,   3155.11426394,\n",
       "         3552.09178948,   3736.96461203,   2108.53722771,  26382.78803193,\n",
       "        36532.47268398,  74263.99862606,  14732.95458354,   6549.66799975,\n",
       "        14308.75112714,    812.67394381,             nan,  12952.72516857,\n",
       "        15210.95079266,   2622.06907623,   1701.37258736,             nan,\n",
       "        12312.94005099,   6801.29184829,  10414.49383242,   2951.02189398,\n",
       "        16689.09756884,  29862.31889041, 102389.43772763,  25587.38808847,\n",
       "       105420.41423718,             nan,   7857.4877165 ,             nan,\n",
       "         5332.28777311,   1506.23832521,  15347.99776172,  19515.40260527,\n",
       "        17274.82307137,   4022.97863242,  11442.8331081 ,  14942.19764347,\n",
       "         2125.71602653,  37928.34126866,   5721.22800363,  13113.97108338,\n",
       "        17633.13298468,  12252.27719639,             nan,   1216.79278744,\n",
       "         3852.52590437,  21102.5589232 ,   1168.82562558,  27682.6079403 ,\n",
       "        56344.96375629,  10624.92711311,             nan,    986.20696062,\n",
       "         5861.08965603,   5539.82671595,  50538.6065696 ,  58790.06140389,\n",
       "         2477.9033451 ,  13966.49778022,  38565.40345261,  41885.92611335,\n",
       "                   nan,  25029.76382064,   5235.47808502,  23008.66536715,\n",
       "        13018.60861238,   7804.16780147,  16305.48534045,   4182.53934131,\n",
       "        27383.254937  ,   3775.07502387,  37740.88825606,             nan,\n",
       "        30658.63199533,   9567.33912818,             nan,   5700.08893902,\n",
       "        44804.46017271,             nan, 127480.48251099,  23027.28926439,\n",
       "        24788.67927912,   1912.90118206,   6062.85581457,  54416.61249319,\n",
       "         4730.46186883,   2566.11917856,  87832.58651422,   2235.3146905 ,\n",
       "         1476.21371969,   8616.81241755,  60932.93003722,             nan,\n",
       "        14514.96055305,   3721.66067336,             nan,   3723.92091102,\n",
       "        22092.44125736,   3237.3925436 ,  14966.7137949 ,  30460.38408107,\n",
       "        32723.07195376,  48904.55437072,   8329.56058149,             nan,\n",
       "        28383.89621333,             nan,             nan,   1990.72665731,\n",
       "        13986.6283938 ,  20172.0612279 ,   1490.53623573,  16913.36607526,\n",
       "         2979.31023902,  16875.9877489 ,  15126.46133663,   2140.35737389,\n",
       "        13214.12254515,   5745.19122926,   6062.85581457,   3723.92091102,\n",
       "        32854.71905846,  11595.51237921,  25247.2017505 ,   3651.02148404,\n",
       "         2786.2722427 ,   1819.43435088,   8269.61463355,  16884.35346567,\n",
       "        21619.60793375,  57638.15908799,   6512.68213067,  11456.78995224,\n",
       "                   nan,             nan,             nan,   6295.59058534,\n",
       "         3080.56575434,  16216.92698557,   6378.25656692,  10063.75847519,\n",
       "         2507.47166249,  13196.81122696,   3933.06646044,   2027.08491653])"
      ]
     },
     "execution_count": 189,
     "metadata": {},
     "output_type": "execute_result"
    }
   ],
   "source": [
    "gdp_16"
   ]
  },
  {
   "cell_type": "code",
   "execution_count": 190,
   "metadata": {
    "ExecuteTime": {
     "end_time": "2019-04-23T16:41:58.237129Z",
     "start_time": "2019-04-23T16:41:58.233067Z"
    }
   },
   "outputs": [],
   "source": [
    "# The complement operator (~) can be used to remove nan elements\n",
    "gdp_16 = gdp_16[~np.isnan(gdp_16)]"
   ]
  },
  {
   "cell_type": "code",
   "execution_count": 191,
   "metadata": {
    "ExecuteTime": {
     "end_time": "2019-04-23T16:41:58.253756Z",
     "start_time": "2019-04-23T16:41:58.240239Z"
    }
   },
   "outputs": [
    {
     "data": {
      "text/plain": [
       "array([  1944.11700491,   6454.13537039,  11540.02556108,  16726.72218488,\n",
       "        72399.65347339,  19939.93077479,   8832.76343477,  22661.48853616,\n",
       "        46012.32845157,  50551.5531752 ,  17256.62697044,    777.75285166,\n",
       "        46428.67142458,   2167.64282343,   1771.01528722,   3579.75679135,\n",
       "        19242.62261574,  22516.81648228,  12172.06646607,  18066.3006624 ,\n",
       "         8461.53565294,   7234.19524335,  15123.85001428,  18064.60442722,\n",
       "        77420.61217204,   8900.76455309,  16956.72477025,    698.70665573,\n",
       "        44819.48360027,  26851.1685408 ,  63888.73238665,  23193.97411052,\n",
       "        15529.08410645,   3693.43690912,   3609.37559695,    801.63011974,\n",
       "         5717.29037095,  14153.92792519,   1521.85721808,   6551.31894829,\n",
       "        16609.73935418,  15370.63489842,  32707.872887  ,  34749.21236327,\n",
       "        48860.52529211,  10947.71518781,  49029.01483891,  15204.93246446,\n",
       "        15013.29637986,  13839.96863584,   9175.64442097,  17025.39067931,\n",
       "        19516.08298373,  31366.86706838,  11242.04751604,  11128.80247428,\n",
       "        42063.79406454,  36304.85427275,  29743.33742802,   1734.46407452,\n",
       "        39610.86680734,   4254.34870787,  43378.14602882,   9109.95196333,\n",
       "        41343.29253554,   3508.71519196,  18102.86221919,  42656.2166022 ,\n",
       "        10004.5284119 ,   4292.44889992,   1966.37968826,   1676.86477284,\n",
       "         1608.70437903,  26058.077443  ,  26778.50496589,  14200.00719381,\n",
       "         7944.69135314,   7836.3791763 ,  46864.95679091,  58617.97062639,\n",
       "         4736.83914255,   2270.13030428,  23422.41797653,   1783.71512959,\n",
       "        26700.75608264,  12933.94330355,  10588.17884122,   3627.9834637 ,\n",
       "         5201.03397093,  11609.02662172,   2834.05481866,   6570.61624581,\n",
       "        71472.29596487,  19948.81948407,  17348.93653235,  50745.68297711,\n",
       "        37258.22359457,  38380.17241178,   8821.31142953,   9047.7689234 ,\n",
       "        42281.18818958,  25285.94773126,   3155.11426394,   3552.09178948,\n",
       "         3736.96461203,   2108.53722771,  26382.78803193,  36532.47268398,\n",
       "        74263.99862606,  14732.95458354,   6549.66799975,  14308.75112714,\n",
       "          812.67394381,  12952.72516857,  15210.95079266,   2622.06907623,\n",
       "         1701.37258736,  12312.94005099,   6801.29184829,  10414.49383242,\n",
       "         2951.02189398,  16689.09756884,  29862.31889041, 102389.43772763,\n",
       "        25587.38808847, 105420.41423718,   7857.4877165 ,   5332.28777311,\n",
       "         1506.23832521,  15347.99776172,  19515.40260527,  17274.82307137,\n",
       "         4022.97863242,  11442.8331081 ,  14942.19764347,   2125.71602653,\n",
       "        37928.34126866,   5721.22800363,  13113.97108338,  17633.13298468,\n",
       "        12252.27719639,   1216.79278744,   3852.52590437,  21102.5589232 ,\n",
       "         1168.82562558,  27682.6079403 ,  56344.96375629,  10624.92711311,\n",
       "          986.20696062,   5861.08965603,   5539.82671595,  50538.6065696 ,\n",
       "        58790.06140389,   2477.9033451 ,  13966.49778022,  38565.40345261,\n",
       "        41885.92611335,  25029.76382064,   5235.47808502,  23008.66536715,\n",
       "        13018.60861238,   7804.16780147,  16305.48534045,   4182.53934131,\n",
       "        27383.254937  ,   3775.07502387,  37740.88825606,  30658.63199533,\n",
       "         9567.33912818,   5700.08893902,  44804.46017271, 127480.48251099,\n",
       "        23027.28926439,  24788.67927912,   1912.90118206,   6062.85581457,\n",
       "        54416.61249319,   4730.46186883,   2566.11917856,  87832.58651422,\n",
       "         2235.3146905 ,   1476.21371969,   8616.81241755,  60932.93003722,\n",
       "        14514.96055305,   3721.66067336,   3723.92091102,  22092.44125736,\n",
       "         3237.3925436 ,  14966.7137949 ,  30460.38408107,  32723.07195376,\n",
       "        48904.55437072,   8329.56058149,  28383.89621333,   1990.72665731,\n",
       "        13986.6283938 ,  20172.0612279 ,   1490.53623573,  16913.36607526,\n",
       "         2979.31023902,  16875.9877489 ,  15126.46133663,   2140.35737389,\n",
       "        13214.12254515,   5745.19122926,   6062.85581457,   3723.92091102,\n",
       "        32854.71905846,  11595.51237921,  25247.2017505 ,   3651.02148404,\n",
       "         2786.2722427 ,   1819.43435088,   8269.61463355,  16884.35346567,\n",
       "        21619.60793375,  57638.15908799,   6512.68213067,  11456.78995224,\n",
       "         6295.59058534,   3080.56575434,  16216.92698557,   6378.25656692,\n",
       "        10063.75847519,   2507.47166249,  13196.81122696,   3933.06646044,\n",
       "         2027.08491653])"
      ]
     },
     "execution_count": 191,
     "metadata": {},
     "output_type": "execute_result"
    }
   ],
   "source": [
    "gdp_16"
   ]
  },
  {
   "cell_type": "code",
   "execution_count": 192,
   "metadata": {
    "ExecuteTime": {
     "end_time": "2019-04-23T16:41:58.264113Z",
     "start_time": "2019-04-23T16:41:58.257592Z"
    }
   },
   "outputs": [
    {
     "data": {
      "text/plain": [
       "(229,)"
      ]
     },
     "execution_count": 192,
     "metadata": {},
     "output_type": "execute_result"
    }
   ],
   "source": [
    "gdp_16.shape"
   ]
  },
  {
   "cell_type": "code",
   "execution_count": 193,
   "metadata": {
    "ExecuteTime": {
     "end_time": "2019-04-23T16:41:58.275744Z",
     "start_time": "2019-04-23T16:41:58.267479Z"
    }
   },
   "outputs": [
    {
     "data": {
      "text/plain": [
       "13113.9710833787"
      ]
     },
     "execution_count": 193,
     "metadata": {},
     "output_type": "execute_result"
    }
   ],
   "source": [
    "np.median(gdp_16)"
   ]
  },
  {
   "cell_type": "code",
   "execution_count": 194,
   "metadata": {
    "ExecuteTime": {
     "end_time": "2019-04-23T16:41:58.286834Z",
     "start_time": "2019-04-23T16:41:58.280194Z"
    }
   },
   "outputs": [
    {
     "data": {
      "text/plain": [
       "19135.51651250454"
      ]
     },
     "execution_count": 194,
     "metadata": {},
     "output_type": "execute_result"
    }
   ],
   "source": [
    "np.mean(gdp_16)"
   ]
  },
  {
   "cell_type": "markdown",
   "metadata": {},
   "source": [
    "The unofficial threshold for a country with a developed economy is a GDP per capita of USD 12,000. Some economists prefer to see a per capita GDP of at least USD 25,000 to be comfortable declaring a country as developed, however. Many highly developed countries, including the United States, have high per capita GDPs of USD 40,000 or above."
   ]
  },
  {
   "cell_type": "code",
   "execution_count": 195,
   "metadata": {
    "ExecuteTime": {
     "end_time": "2019-04-23T16:41:58.297704Z",
     "start_time": "2019-04-23T16:41:58.290085Z"
    }
   },
   "outputs": [
    {
     "data": {
      "text/plain": [
       "32"
      ]
     },
     "execution_count": 195,
     "metadata": {},
     "output_type": "execute_result"
    }
   ],
   "source": [
    "np.count_nonzero(gdp_16[gdp_16 > 40000])"
   ]
  },
  {
   "cell_type": "code",
   "execution_count": 196,
   "metadata": {
    "ExecuteTime": {
     "end_time": "2019-04-23T16:41:58.309556Z",
     "start_time": "2019-04-23T16:41:58.301393Z"
    }
   },
   "outputs": [
    {
     "data": {
      "text/plain": [
       "array([ 698.70665573,  777.75285166,  801.63011974,  812.67394381,\n",
       "        986.20696062, 1168.82562558, 1216.79278744, 1476.21371969,\n",
       "       1490.53623573, 1506.23832521])"
      ]
     },
     "execution_count": 196,
     "metadata": {},
     "output_type": "execute_result"
    }
   ],
   "source": [
    "# 10 Lowest gdp per capita\n",
    "np.sort(gdp_16)[0:10]"
   ]
  },
  {
   "cell_type": "code",
   "execution_count": 197,
   "metadata": {
    "ExecuteTime": {
     "end_time": "2019-04-23T16:41:58.319976Z",
     "start_time": "2019-04-23T16:41:58.313078Z"
    }
   },
   "outputs": [
    {
     "data": {
      "text/plain": [
       "array([ 58790.06140389,  60932.93003722,  63888.73238665,  71472.29596487,\n",
       "        72399.65347339,  74263.99862606,  77420.61217204,  87832.58651422,\n",
       "       102389.43772763, 105420.41423718])"
      ]
     },
     "execution_count": 197,
     "metadata": {},
     "output_type": "execute_result"
    }
   ],
   "source": [
    "# 10 Highest gdp per capita\n",
    "np.sort(gdp_16)[-11:-1]\n",
    "# np.sort(gdp_16)[219:]"
   ]
  },
  {
   "cell_type": "markdown",
   "metadata": {
    "ExecuteTime": {
     "end_time": "2019-03-05T06:34:24.877951Z",
     "start_time": "2019-03-05T06:34:24.870857Z"
    }
   },
   "source": [
    "**How many countries have gdp per capita higher than Ukraine?**"
   ]
  },
  {
   "cell_type": "code",
   "execution_count": 198,
   "metadata": {
    "ExecuteTime": {
     "end_time": "2019-04-23T16:41:58.329249Z",
     "start_time": "2019-04-23T16:41:58.323477Z"
    }
   },
   "outputs": [],
   "source": [
    "ukraine = gdp_16[gdp_16 > 8269.6], gdp_16[gdp_16 <= 8269.6]"
   ]
  },
  {
   "cell_type": "code",
   "execution_count": 199,
   "metadata": {
    "ExecuteTime": {
     "end_time": "2019-04-23T16:41:58.341161Z",
     "start_time": "2019-04-23T16:41:58.333043Z"
    }
   },
   "outputs": [
    {
     "data": {
      "text/plain": [
       "145"
      ]
     },
     "execution_count": 199,
     "metadata": {},
     "output_type": "execute_result"
    }
   ],
   "source": [
    "# Hiegher GDP\n",
    "np.count_nonzero(ukraine[0])"
   ]
  },
  {
   "cell_type": "code",
   "execution_count": 200,
   "metadata": {
    "ExecuteTime": {
     "end_time": "2019-04-23T16:41:58.350822Z",
     "start_time": "2019-04-23T16:41:58.344206Z"
    }
   },
   "outputs": [
    {
     "data": {
      "text/plain": [
       "84"
      ]
     },
     "execution_count": 200,
     "metadata": {},
     "output_type": "execute_result"
    }
   ],
   "source": [
    "# lower gdp\n",
    "np.count_nonzero(ukraine[1])"
   ]
  },
  {
   "cell_type": "code",
   "execution_count": 201,
   "metadata": {
    "ExecuteTime": {
     "end_time": "2019-04-23T16:41:58.362158Z",
     "start_time": "2019-04-23T16:41:58.354130Z"
    }
   },
   "outputs": [
    {
     "data": {
      "text/plain": [
       "65"
      ]
     },
     "execution_count": 201,
     "metadata": {},
     "output_type": "execute_result"
    }
   ],
   "source": [
    "# Countries between Costa Rica and Finland\n",
    "np.count_nonzero((gdp_16 > 16609.7) & (gdp_16 < 43378.1))"
   ]
  },
  {
   "cell_type": "markdown",
   "metadata": {},
   "source": [
    "## Indexing - Boolean Arrays\n",
    "\n",
    "When we index arrays with arrays of (integer) indices we are providing the list of indices to pick. With boolean indices the approach is different; we explicitly choose which items in the array we want and which ones we don’t."
   ]
  },
  {
   "cell_type": "code",
   "execution_count": 202,
   "metadata": {
    "ExecuteTime": {
     "end_time": "2019-04-23T16:41:58.370702Z",
     "start_time": "2019-04-23T16:41:58.365954Z"
    }
   },
   "outputs": [],
   "source": [
    "a = np.arange(16).reshape(4,4)"
   ]
  },
  {
   "cell_type": "code",
   "execution_count": 203,
   "metadata": {
    "ExecuteTime": {
     "end_time": "2019-04-23T16:41:58.418393Z",
     "start_time": "2019-04-23T16:41:58.411369Z"
    }
   },
   "outputs": [
    {
     "data": {
      "text/plain": [
       "array([[ 0,  1,  2,  3],\n",
       "       [ 4,  5,  6,  7],\n",
       "       [ 8,  9, 10, 11],\n",
       "       [12, 13, 14, 15]])"
      ]
     },
     "execution_count": 203,
     "metadata": {},
     "output_type": "execute_result"
    }
   ],
   "source": [
    "a"
   ]
  },
  {
   "cell_type": "code",
   "execution_count": 204,
   "metadata": {
    "ExecuteTime": {
     "end_time": "2019-04-23T16:41:58.433107Z",
     "start_time": "2019-04-23T16:41:58.428748Z"
    }
   },
   "outputs": [],
   "source": [
    "indx_bool = a > 9"
   ]
  },
  {
   "cell_type": "code",
   "execution_count": 205,
   "metadata": {
    "ExecuteTime": {
     "end_time": "2019-04-23T16:41:58.442486Z",
     "start_time": "2019-04-23T16:41:58.436424Z"
    }
   },
   "outputs": [
    {
     "data": {
      "text/plain": [
       "array([[False, False, False, False],\n",
       "       [False, False, False, False],\n",
       "       [False, False,  True,  True],\n",
       "       [ True,  True,  True,  True]])"
      ]
     },
     "execution_count": 205,
     "metadata": {},
     "output_type": "execute_result"
    }
   ],
   "source": [
    "indx_bool"
   ]
  },
  {
   "cell_type": "code",
   "execution_count": 206,
   "metadata": {
    "ExecuteTime": {
     "end_time": "2019-04-23T16:41:58.452561Z",
     "start_time": "2019-04-23T16:41:58.446107Z"
    }
   },
   "outputs": [
    {
     "data": {
      "text/plain": [
       "array([10, 11, 12, 13, 14, 15])"
      ]
     },
     "execution_count": 206,
     "metadata": {},
     "output_type": "execute_result"
    }
   ],
   "source": [
    "a[indx_bool]"
   ]
  },
  {
   "cell_type": "code",
   "execution_count": 207,
   "metadata": {
    "ExecuteTime": {
     "end_time": "2019-04-23T16:41:58.462161Z",
     "start_time": "2019-04-23T16:41:58.455214Z"
    }
   },
   "outputs": [
    {
     "data": {
      "text/plain": [
       "array([10, 11, 12, 13, 14, 15])"
      ]
     },
     "execution_count": 207,
     "metadata": {},
     "output_type": "execute_result"
    }
   ],
   "source": [
    "a[a > 9]"
   ]
  },
  {
   "cell_type": "code",
   "execution_count": 208,
   "metadata": {
    "ExecuteTime": {
     "end_time": "2019-04-23T16:41:58.472605Z",
     "start_time": "2019-04-23T16:41:58.465015Z"
    }
   },
   "outputs": [
    {
     "data": {
      "text/plain": [
       "array([[ 0,  0,  0,  0],\n",
       "       [ 0,  0,  0,  0],\n",
       "       [ 0,  0, 10, 11],\n",
       "       [12, 13, 14, 15]])"
      ]
     },
     "execution_count": 208,
     "metadata": {},
     "output_type": "execute_result"
    }
   ],
   "source": [
    "# filtering\n",
    "a * (a > 9)"
   ]
  },
  {
   "cell_type": "code",
   "execution_count": 209,
   "metadata": {
    "ExecuteTime": {
     "end_time": "2019-04-23T16:41:58.483564Z",
     "start_time": "2019-04-23T16:41:58.475658Z"
    }
   },
   "outputs": [
    {
     "data": {
      "text/plain": [
       "array([[ True,  True,  True,  True],\n",
       "       [ True,  True, False, False],\n",
       "       [False, False, False, False],\n",
       "       [False, False, False, False]])"
      ]
     },
     "execution_count": 209,
     "metadata": {},
     "output_type": "execute_result"
    }
   ],
   "source": [
    "a < 6"
   ]
  },
  {
   "cell_type": "code",
   "execution_count": 210,
   "metadata": {
    "ExecuteTime": {
     "end_time": "2019-04-23T16:41:58.494676Z",
     "start_time": "2019-04-23T16:41:58.486650Z"
    }
   },
   "outputs": [
    {
     "data": {
      "text/plain": [
       "6"
      ]
     },
     "execution_count": 210,
     "metadata": {},
     "output_type": "execute_result"
    }
   ],
   "source": [
    "np.count_nonzero(a < 6)"
   ]
  },
  {
   "cell_type": "code",
   "execution_count": 211,
   "metadata": {
    "ExecuteTime": {
     "end_time": "2019-04-23T16:41:58.504880Z",
     "start_time": "2019-04-23T16:41:58.496999Z"
    }
   },
   "outputs": [
    {
     "data": {
      "text/plain": [
       "6"
      ]
     },
     "execution_count": 211,
     "metadata": {},
     "output_type": "execute_result"
    }
   ],
   "source": [
    "np.sum(a < 6)"
   ]
  },
  {
   "cell_type": "code",
   "execution_count": 212,
   "metadata": {
    "ExecuteTime": {
     "end_time": "2019-04-23T16:41:58.516246Z",
     "start_time": "2019-04-23T16:41:58.508213Z"
    }
   },
   "outputs": [
    {
     "data": {
      "text/plain": [
       "array([4, 2, 0, 0])"
      ]
     },
     "execution_count": 212,
     "metadata": {},
     "output_type": "execute_result"
    }
   ],
   "source": [
    "# How many values less than 6 in each row?\n",
    "np.sum(a < 6, axis=1)"
   ]
  },
  {
   "cell_type": "code",
   "execution_count": 213,
   "metadata": {
    "ExecuteTime": {
     "end_time": "2019-04-23T16:41:58.525431Z",
     "start_time": "2019-04-23T16:41:58.518352Z"
    }
   },
   "outputs": [
    {
     "data": {
      "text/plain": [
       "True"
      ]
     },
     "execution_count": 213,
     "metadata": {},
     "output_type": "execute_result"
    }
   ],
   "source": [
    "# Are there any values greater than 8?\n",
    "np.any(a > 8)"
   ]
  },
  {
   "cell_type": "code",
   "execution_count": 214,
   "metadata": {
    "ExecuteTime": {
     "end_time": "2019-04-23T16:41:58.535977Z",
     "start_time": "2019-04-23T16:41:58.527987Z"
    }
   },
   "outputs": [
    {
     "data": {
      "text/plain": [
       "False"
      ]
     },
     "execution_count": 214,
     "metadata": {},
     "output_type": "execute_result"
    }
   ],
   "source": [
    "# Are all values less than 10?\n",
    "np.all(a < 10)"
   ]
  },
  {
   "cell_type": "code",
   "execution_count": 215,
   "metadata": {
    "ExecuteTime": {
     "end_time": "2019-04-23T16:41:58.546466Z",
     "start_time": "2019-04-23T16:41:58.539110Z"
    }
   },
   "outputs": [
    {
     "data": {
      "text/plain": [
       "True"
      ]
     },
     "execution_count": 215,
     "metadata": {},
     "output_type": "execute_result"
    }
   ],
   "source": [
    "# Are all values less than 100?\n",
    "np.all(a < 100)"
   ]
  },
  {
   "cell_type": "code",
   "execution_count": 216,
   "metadata": {
    "ExecuteTime": {
     "end_time": "2019-04-23T16:41:58.556566Z",
     "start_time": "2019-04-23T16:41:58.549635Z"
    }
   },
   "outputs": [
    {
     "data": {
      "text/plain": [
       "array([ True,  True, False, False])"
      ]
     },
     "execution_count": 216,
     "metadata": {},
     "output_type": "execute_result"
    }
   ],
   "source": [
    "# Are all values in each row less than 9?\n",
    "np.all(a < 9, axis=1)"
   ]
  },
  {
   "cell_type": "markdown",
   "metadata": {},
   "source": [
    "### nan's"
   ]
  },
  {
   "cell_type": "markdown",
   "metadata": {},
   "source": [
    "This trick doesn't really works with float matrixes with `nan` values. You can run into RuntimeError."
   ]
  },
  {
   "cell_type": "markdown",
   "metadata": {},
   "source": [
    "## Structured Arrays"
   ]
  },
  {
   "cell_type": "markdown",
   "metadata": {},
   "source": [
    "**Structured arrays** or **record arrays** are useful when you perform computations, and at the same time you could keep closely related data together. Structured arrays provide efficient storage for compound, heterogeneous data.\n",
    "\n",
    "NumPy also provides powerful capabilities to create arrays of records, as multiple data types live in one NumPy array. However, one principle in NumPy that still needs to be honored is that the data type in each field (think of this as a column in the records) needs to be homogeneous. "
   ]
  },
  {
   "cell_type": "code",
   "execution_count": 217,
   "metadata": {
    "ExecuteTime": {
     "end_time": "2019-04-23T16:41:58.566055Z",
     "start_time": "2019-04-23T16:41:58.559483Z"
    }
   },
   "outputs": [],
   "source": [
    "name  = [\"Alice\",\"Beth\",\"Cathy\",\"Dorothy\"]\n",
    "studentId  = [1,2,3,4]\n",
    "score = [85.4,90.4,87.66,78.9]"
   ]
  },
  {
   "cell_type": "markdown",
   "metadata": {},
   "source": [
    "There's nothing here that tells us that the three arrays are related; it would be more natural if we could use a single structure to store all of this data. \n",
    "\n",
    "**Define the np array with the names of the 'columns' and the data format for each**\n",
    "* U10 represents a 10-character Unicode string\n",
    "* i4 is short for int32 (i for int, 4 for 4 bytes)\n",
    "* f8 is shorthand for float64"
   ]
  },
  {
   "cell_type": "code",
   "execution_count": 218,
   "metadata": {
    "ExecuteTime": {
     "end_time": "2019-04-23T16:41:58.575103Z",
     "start_time": "2019-04-23T16:41:58.569218Z"
    }
   },
   "outputs": [],
   "source": [
    "student_data = np.zeros(4, dtype={'names':('name', 'studentId', 'score'),\n",
    "                          'formats':('U10', 'i4', 'f8')})"
   ]
  },
  {
   "cell_type": "code",
   "execution_count": 219,
   "metadata": {
    "ExecuteTime": {
     "end_time": "2019-04-23T16:41:58.584655Z",
     "start_time": "2019-04-23T16:41:58.577351Z"
    }
   },
   "outputs": [
    {
     "data": {
      "text/plain": [
       "array([('', 0, 0.), ('', 0, 0.), ('', 0, 0.), ('', 0, 0.)],\n",
       "      dtype=[('name', '<U10'), ('studentId', '<i4'), ('score', '<f8')])"
      ]
     },
     "execution_count": 219,
     "metadata": {},
     "output_type": "execute_result"
    }
   ],
   "source": [
    "# np.zeros() for a string sets it to an empty string\n",
    "student_data"
   ]
  },
  {
   "cell_type": "code",
   "execution_count": 220,
   "metadata": {
    "ExecuteTime": {
     "end_time": "2019-04-23T16:41:58.597344Z",
     "start_time": "2019-04-23T16:41:58.588123Z"
    }
   },
   "outputs": [
    {
     "data": {
      "text/plain": [
       "dtype([('name', '<U10'), ('studentId', '<i4'), ('score', '<f8')])"
      ]
     },
     "execution_count": 220,
     "metadata": {},
     "output_type": "execute_result"
    }
   ],
   "source": [
    "student_data.dtype"
   ]
  },
  {
   "cell_type": "markdown",
   "metadata": {},
   "source": [
    "Now that we've created an empty container array, we can fill the array with our lists of values"
   ]
  },
  {
   "cell_type": "code",
   "execution_count": 221,
   "metadata": {
    "ExecuteTime": {
     "end_time": "2019-04-23T16:41:58.609368Z",
     "start_time": "2019-04-23T16:41:58.600755Z"
    }
   },
   "outputs": [
    {
     "data": {
      "text/plain": [
       "array([('Alice', 1, 85.4 ), ('Beth', 2, 90.4 ), ('Cathy', 3, 87.66),\n",
       "       ('Dorothy', 4, 78.9 )],\n",
       "      dtype=[('name', '<U10'), ('studentId', '<i4'), ('score', '<f8')])"
      ]
     },
     "execution_count": 221,
     "metadata": {},
     "output_type": "execute_result"
    }
   ],
   "source": [
    "student_data['name'] = name\n",
    "student_data['studentId'] = studentId\n",
    "student_data['score'] = score\n",
    "student_data"
   ]
  },
  {
   "cell_type": "markdown",
   "metadata": {},
   "source": [
    "The handy thing with structured arrays is that you can now refer to values either by index or by name"
   ]
  },
  {
   "cell_type": "code",
   "execution_count": 222,
   "metadata": {
    "ExecuteTime": {
     "end_time": "2019-04-23T16:41:58.620516Z",
     "start_time": "2019-04-23T16:41:58.611703Z"
    }
   },
   "outputs": [
    {
     "data": {
      "text/plain": [
       "array(['Alice', 'Beth', 'Cathy', 'Dorothy'], dtype='<U10')"
      ]
     },
     "execution_count": 222,
     "metadata": {},
     "output_type": "execute_result"
    }
   ],
   "source": [
    "student_data['name']"
   ]
  },
  {
   "cell_type": "code",
   "execution_count": 223,
   "metadata": {
    "ExecuteTime": {
     "end_time": "2019-04-23T16:41:58.630953Z",
     "start_time": "2019-04-23T16:41:58.623672Z"
    }
   },
   "outputs": [
    {
     "data": {
      "text/plain": [
       "array([1, 2, 3, 4], dtype=int32)"
      ]
     },
     "execution_count": 223,
     "metadata": {},
     "output_type": "execute_result"
    }
   ],
   "source": [
    "student_data['studentId']"
   ]
  },
  {
   "cell_type": "code",
   "execution_count": 224,
   "metadata": {
    "ExecuteTime": {
     "end_time": "2019-04-23T16:41:58.641469Z",
     "start_time": "2019-04-23T16:41:58.633844Z"
    }
   },
   "outputs": [
    {
     "data": {
      "text/plain": [
       "array([85.4 , 90.4 , 87.66, 78.9 ])"
      ]
     },
     "execution_count": 224,
     "metadata": {},
     "output_type": "execute_result"
    }
   ],
   "source": [
    "student_data['score']"
   ]
  },
  {
   "cell_type": "markdown",
   "metadata": {},
   "source": [
    "If you index student_data at position 1 you get a structure:"
   ]
  },
  {
   "cell_type": "code",
   "execution_count": 225,
   "metadata": {
    "ExecuteTime": {
     "end_time": "2019-04-23T16:41:58.651601Z",
     "start_time": "2019-04-23T16:41:58.644395Z"
    }
   },
   "outputs": [
    {
     "data": {
      "text/plain": [
       "('Beth', 2, 90.4)"
      ]
     },
     "execution_count": 225,
     "metadata": {},
     "output_type": "execute_result"
    }
   ],
   "source": [
    "student_data[1]"
   ]
  },
  {
   "cell_type": "code",
   "execution_count": 226,
   "metadata": {
    "ExecuteTime": {
     "end_time": "2019-04-23T16:41:58.660276Z",
     "start_time": "2019-04-23T16:41:58.653924Z"
    }
   },
   "outputs": [
    {
     "data": {
      "text/plain": [
       "'Dorothy'"
      ]
     },
     "execution_count": 226,
     "metadata": {},
     "output_type": "execute_result"
    }
   ],
   "source": [
    "# Get the name attribute from the last row\n",
    "student_data[-1]['name']"
   ]
  },
  {
   "cell_type": "code",
   "execution_count": 227,
   "metadata": {
    "ExecuteTime": {
     "end_time": "2019-04-23T16:41:58.669948Z",
     "start_time": "2019-04-23T16:41:58.662882Z"
    }
   },
   "outputs": [
    {
     "data": {
      "text/plain": [
       "array(['Alice', 'Beth', 'Cathy'], dtype='<U10')"
      ]
     },
     "execution_count": 227,
     "metadata": {},
     "output_type": "execute_result"
    }
   ],
   "source": [
    "# Get names where score is above 85\n",
    "student_data[student_data['score'] > 85]['name']"
   ]
  },
  {
   "cell_type": "markdown",
   "metadata": {},
   "source": [
    "Note that if you'd like to do any operations that are any more complicated than these, you should probably consider the Pandas package with provides a powerful data structure called data frames."
   ]
  },
  {
   "cell_type": "markdown",
   "metadata": {},
   "source": [
    "## Broadcasting"
   ]
  },
  {
   "cell_type": "markdown",
   "metadata": {},
   "source": [
    "* Broadcasting is a powerful mechanism that allows numpy to work with arrays of different shapes when performing arithmetic operations. \n",
    "* Broadcasting solves the problem of arithmetic between arrays of differing shapes by in effect replicating the smaller array along the last mismatched dimension.\n",
    "* NumPy operations are usually done on pairs of arrays on an element-by-element basis. In the simplest case, the two arrays must have exactly the same shape, as in the following example:"
   ]
  },
  {
   "cell_type": "code",
   "execution_count": 228,
   "metadata": {
    "ExecuteTime": {
     "end_time": "2019-04-23T16:41:58.682425Z",
     "start_time": "2019-04-23T16:41:58.673655Z"
    }
   },
   "outputs": [],
   "source": [
    "a = np.array([1,2,3,4,5])\n",
    "b = np.array([10,10,10,10,10])"
   ]
  },
  {
   "cell_type": "code",
   "execution_count": 229,
   "metadata": {
    "ExecuteTime": {
     "end_time": "2019-04-23T16:41:58.692477Z",
     "start_time": "2019-04-23T16:41:58.685854Z"
    }
   },
   "outputs": [
    {
     "data": {
      "text/plain": [
       "array([10, 20, 30, 40, 50])"
      ]
     },
     "execution_count": 229,
     "metadata": {},
     "output_type": "execute_result"
    }
   ],
   "source": [
    "a * b"
   ]
  },
  {
   "cell_type": "markdown",
   "metadata": {},
   "source": [
    "If the dimensions of two arrays are dissimilar, element-to-element operations are not possible. However, operations on arrays of non-similar shapes is still possible in NumPy, because of the <b>broadcasting </b> capability. The smaller array is broadcast to the size of the larger array so that they have compatible shapes."
   ]
  },
  {
   "cell_type": "code",
   "execution_count": 230,
   "metadata": {
    "ExecuteTime": {
     "end_time": "2019-04-23T16:41:58.704003Z",
     "start_time": "2019-04-23T16:41:58.696441Z"
    }
   },
   "outputs": [
    {
     "data": {
      "text/plain": [
       "array([10, 20, 30, 40, 50])"
      ]
     },
     "execution_count": 230,
     "metadata": {},
     "output_type": "execute_result"
    }
   ],
   "source": [
    "a * 10"
   ]
  },
  {
   "cell_type": "code",
   "execution_count": 231,
   "metadata": {
    "ExecuteTime": {
     "end_time": "2019-04-23T16:41:58.715636Z",
     "start_time": "2019-04-23T16:41:58.706668Z"
    }
   },
   "outputs": [
    {
     "data": {
      "text/plain": [
       "array([[10., 10., 10.],\n",
       "       [10., 10., 10.],\n",
       "       [10., 10., 10.],\n",
       "       [10., 10., 10.]])"
      ]
     },
     "execution_count": 231,
     "metadata": {},
     "output_type": "execute_result"
    }
   ],
   "source": [
    "# Scalar and n-Dimensional Array\n",
    "np.ones((4,3)) * 10"
   ]
  },
  {
   "cell_type": "code",
   "execution_count": 232,
   "metadata": {
    "ExecuteTime": {
     "end_time": "2019-04-23T16:41:58.724762Z",
     "start_time": "2019-04-23T16:41:58.718190Z"
    }
   },
   "outputs": [],
   "source": [
    "# One-Dimensional and n-Dimensional Arrays\n",
    "heights  = [165,170,168,183,172,169]\n",
    "weights  = [61,76,56,81,62,60]\n",
    "student_bio = np.array([heights,weights])"
   ]
  },
  {
   "cell_type": "code",
   "execution_count": 233,
   "metadata": {
    "ExecuteTime": {
     "end_time": "2019-04-23T16:41:58.733581Z",
     "start_time": "2019-04-23T16:41:58.727208Z"
    }
   },
   "outputs": [
    {
     "data": {
      "text/plain": [
       "array([[165, 170, 168, 183, 172, 169],\n",
       "       [ 61,  76,  56,  81,  62,  60]])"
      ]
     },
     "execution_count": 233,
     "metadata": {},
     "output_type": "execute_result"
    }
   ],
   "source": [
    "student_bio"
   ]
  },
  {
   "cell_type": "code",
   "execution_count": 234,
   "metadata": {
    "ExecuteTime": {
     "end_time": "2019-04-23T16:41:58.742178Z",
     "start_time": "2019-04-23T16:41:58.737203Z"
    }
   },
   "outputs": [],
   "source": [
    "factor_1 = np.array([0.0328084,2.20462 ])"
   ]
  },
  {
   "cell_type": "code",
   "execution_count": 235,
   "metadata": {
    "ExecuteTime": {
     "end_time": "2019-04-23T16:41:58.753301Z",
     "start_time": "2019-04-23T16:41:58.745150Z"
    }
   },
   "outputs": [
    {
     "data": {
      "text/plain": [
       "(2,)"
      ]
     },
     "execution_count": 235,
     "metadata": {},
     "output_type": "execute_result"
    }
   ],
   "source": [
    "factor_1.shape"
   ]
  },
  {
   "cell_type": "code",
   "execution_count": 236,
   "metadata": {
    "ExecuteTime": {
     "end_time": "2019-04-23T16:41:58.762715Z",
     "start_time": "2019-04-23T16:41:58.756092Z"
    }
   },
   "outputs": [
    {
     "data": {
      "text/plain": [
       "(2, 6)"
      ]
     },
     "execution_count": 236,
     "metadata": {},
     "output_type": "execute_result"
    }
   ],
   "source": [
    "student_bio.shape"
   ]
  },
  {
   "cell_type": "markdown",
   "metadata": {},
   "source": [
    "**General Broadcasting Rules**\n",
    "\n",
    "When operating on two arrays, NumPy compares their shapes element-wise. The dimensions are considered in reverse order, starting with the trailing dimensions, and working its way forward. Two dimensions are compatible when\n",
    "\n",
    "1. they are equal\n",
    "2. one of them is of size 1\n",
    "\n",
    "**Shape mismatch**\n",
    "This fails because there is a mismatch in the trailing dimensions  \n",
    "* student bio:  `2` x `6` \n",
    "* factor_1: `2`\n",
    "\n",
    "The trailing dimensions here are 6 and 2, so there is a mismatch"
   ]
  },
  {
   "cell_type": "code",
   "execution_count": 237,
   "metadata": {
    "ExecuteTime": {
     "end_time": "2019-04-23T16:41:58.771144Z",
     "start_time": "2019-04-23T16:41:58.765017Z"
    }
   },
   "outputs": [
    {
     "name": "stdout",
     "output_type": "stream",
     "text": [
      "Error: operands could not be broadcast together with shapes (2,6) (2,) \n"
     ]
    }
   ],
   "source": [
    "try:\n",
    "    student_bio * factor_1\n",
    "except ValueError as e:\n",
    "    print(\"Error:\", e)"
   ]
  },
  {
   "cell_type": "code",
   "execution_count": 238,
   "metadata": {
    "ExecuteTime": {
     "end_time": "2019-04-23T16:41:58.779567Z",
     "start_time": "2019-04-23T16:41:58.774517Z"
    }
   },
   "outputs": [],
   "source": [
    "factor_2 = np.array([[0.0328084],[2.20462 ]])"
   ]
  },
  {
   "cell_type": "code",
   "execution_count": 239,
   "metadata": {
    "ExecuteTime": {
     "end_time": "2019-04-23T16:41:58.791400Z",
     "start_time": "2019-04-23T16:41:58.782859Z"
    }
   },
   "outputs": [
    {
     "data": {
      "text/plain": [
       "(2, 1)"
      ]
     },
     "execution_count": 239,
     "metadata": {},
     "output_type": "execute_result"
    }
   ],
   "source": [
    "factor_2.shape"
   ]
  },
  {
   "cell_type": "code",
   "execution_count": 240,
   "metadata": {
    "ExecuteTime": {
     "end_time": "2019-04-23T16:41:58.802754Z",
     "start_time": "2019-04-23T16:41:58.795566Z"
    }
   },
   "outputs": [
    {
     "data": {
      "text/plain": [
       "array([[  5.413386 ,   5.577428 ,   5.5118112,   6.0039372,   5.6430448,\n",
       "          5.5446196],\n",
       "       [134.48182  , 167.55112  , 123.45872  , 178.57422  , 136.68644  ,\n",
       "        132.2772   ]])"
      ]
     },
     "execution_count": 240,
     "metadata": {},
     "output_type": "execute_result"
    }
   ],
   "source": [
    "student_bio * factor_2"
   ]
  },
  {
   "cell_type": "markdown",
   "metadata": {},
   "source": [
    "## Automatic Reshaping\n",
    "> If you're specifying 2 out of 3 dimensions, the product of the two dimensions must be a divisor of the total number of elements in the array"
   ]
  },
  {
   "cell_type": "code",
   "execution_count": 241,
   "metadata": {
    "ExecuteTime": {
     "end_time": "2019-04-23T16:41:58.810601Z",
     "start_time": "2019-04-23T16:41:58.805788Z"
    }
   },
   "outputs": [],
   "source": [
    "a = np.arange(30)"
   ]
  },
  {
   "cell_type": "code",
   "execution_count": 242,
   "metadata": {
    "ExecuteTime": {
     "end_time": "2019-04-23T16:41:58.821714Z",
     "start_time": "2019-04-23T16:41:58.814385Z"
    }
   },
   "outputs": [
    {
     "data": {
      "text/plain": [
       "array([ 0,  1,  2,  3,  4,  5,  6,  7,  8,  9, 10, 11, 12, 13, 14, 15, 16,\n",
       "       17, 18, 19, 20, 21, 22, 23, 24, 25, 26, 27, 28, 29])"
      ]
     },
     "execution_count": 242,
     "metadata": {},
     "output_type": "execute_result"
    }
   ],
   "source": [
    "a"
   ]
  },
  {
   "cell_type": "markdown",
   "metadata": {},
   "source": [
    "`-1` means \"whatever is needed\""
   ]
  },
  {
   "cell_type": "code",
   "execution_count": 243,
   "metadata": {
    "ExecuteTime": {
     "end_time": "2019-04-23T16:41:58.833290Z",
     "start_time": "2019-04-23T16:41:58.824332Z"
    },
    "scrolled": true
   },
   "outputs": [
    {
     "data": {
      "text/plain": [
       "array([[[ 0,  1,  2],\n",
       "        [ 3,  4,  5],\n",
       "        [ 6,  7,  8],\n",
       "        [ 9, 10, 11],\n",
       "        [12, 13, 14]],\n",
       "\n",
       "       [[15, 16, 17],\n",
       "        [18, 19, 20],\n",
       "        [21, 22, 23],\n",
       "        [24, 25, 26],\n",
       "        [27, 28, 29]]])"
      ]
     },
     "execution_count": 243,
     "metadata": {},
     "output_type": "execute_result"
    }
   ],
   "source": [
    "a.shape = 2,-1,3  \n",
    "a"
   ]
  },
  {
   "cell_type": "code",
   "execution_count": 244,
   "metadata": {
    "ExecuteTime": {
     "end_time": "2019-04-23T16:41:58.843426Z",
     "start_time": "2019-04-23T16:41:58.837153Z"
    }
   },
   "outputs": [
    {
     "data": {
      "text/plain": [
       "(2, 5, 3)"
      ]
     },
     "execution_count": 244,
     "metadata": {},
     "output_type": "execute_result"
    }
   ],
   "source": [
    "a.shape"
   ]
  },
  {
   "cell_type": "code",
   "execution_count": 245,
   "metadata": {
    "ExecuteTime": {
     "end_time": "2019-04-23T16:41:58.852428Z",
     "start_time": "2019-04-23T16:41:58.845713Z"
    }
   },
   "outputs": [
    {
     "data": {
      "text/plain": [
       "array([[[ 0,  1,  2,  3,  4],\n",
       "        [ 5,  6,  7,  8,  9],\n",
       "        [10, 11, 12, 13, 14]],\n",
       "\n",
       "       [[15, 16, 17, 18, 19],\n",
       "        [20, 21, 22, 23, 24],\n",
       "        [25, 26, 27, 28, 29]]])"
      ]
     },
     "execution_count": 245,
     "metadata": {},
     "output_type": "execute_result"
    }
   ],
   "source": [
    "a.shape = 2,3,-1\n",
    "a"
   ]
  },
  {
   "cell_type": "code",
   "execution_count": 246,
   "metadata": {
    "ExecuteTime": {
     "end_time": "2019-04-23T16:41:58.863282Z",
     "start_time": "2019-04-23T16:41:58.856491Z"
    },
    "scrolled": true
   },
   "outputs": [
    {
     "data": {
      "text/plain": [
       "(2, 3, 5)"
      ]
     },
     "execution_count": 246,
     "metadata": {},
     "output_type": "execute_result"
    }
   ],
   "source": [
    "a.shape"
   ]
  },
  {
   "cell_type": "markdown",
   "metadata": {},
   "source": [
    "## Vector Stacking"
   ]
  },
  {
   "cell_type": "code",
   "execution_count": 247,
   "metadata": {
    "ExecuteTime": {
     "end_time": "2019-04-23T16:41:58.872790Z",
     "start_time": "2019-04-23T16:41:58.866513Z"
    }
   },
   "outputs": [],
   "source": [
    "x = np.array([[\"Germany\",\"France\"],[\"Berlin\",\"Paris\"]])\n",
    "y = np.array([[\"Hungary\",\"Austria\"],[\"Budapest\",\"Vienna\"]])"
   ]
  },
  {
   "cell_type": "code",
   "execution_count": 248,
   "metadata": {
    "ExecuteTime": {
     "end_time": "2019-04-23T16:41:58.886484Z",
     "start_time": "2019-04-23T16:41:58.876478Z"
    }
   },
   "outputs": [
    {
     "data": {
      "text/plain": [
       "(2, 2)"
      ]
     },
     "execution_count": 248,
     "metadata": {},
     "output_type": "execute_result"
    }
   ],
   "source": [
    "x.shape"
   ]
  },
  {
   "cell_type": "code",
   "execution_count": 249,
   "metadata": {
    "ExecuteTime": {
     "end_time": "2019-04-23T16:41:58.897835Z",
     "start_time": "2019-04-23T16:41:58.891577Z"
    }
   },
   "outputs": [
    {
     "data": {
      "text/plain": [
       "(2, 2)"
      ]
     },
     "execution_count": 249,
     "metadata": {},
     "output_type": "execute_result"
    }
   ],
   "source": [
    "y.shape"
   ]
  },
  {
   "cell_type": "code",
   "execution_count": 250,
   "metadata": {
    "ExecuteTime": {
     "end_time": "2019-04-23T16:41:58.907482Z",
     "start_time": "2019-04-23T16:41:58.901219Z"
    }
   },
   "outputs": [
    {
     "data": {
      "text/plain": [
       "array([['Germany', 'France'],\n",
       "       ['Berlin', 'Paris'],\n",
       "       ['Hungary', 'Austria'],\n",
       "       ['Budapest', 'Vienna']], dtype='<U8')"
      ]
     },
     "execution_count": 250,
     "metadata": {},
     "output_type": "execute_result"
    }
   ],
   "source": [
    "# Joining two arrays along axis 0\n",
    "np.concatenate((x,y))"
   ]
  },
  {
   "cell_type": "code",
   "execution_count": 251,
   "metadata": {
    "ExecuteTime": {
     "end_time": "2019-04-23T16:41:58.919353Z",
     "start_time": "2019-04-23T16:41:58.910898Z"
    }
   },
   "outputs": [
    {
     "data": {
      "text/plain": [
       "array([['Germany', 'France', 'Hungary', 'Austria'],\n",
       "       ['Berlin', 'Paris', 'Budapest', 'Vienna']], dtype='<U8')"
      ]
     },
     "execution_count": 251,
     "metadata": {},
     "output_type": "execute_result"
    }
   ],
   "source": [
    "# Joining two arrays along axis 1 - Column-wise\n",
    "np.concatenate((x,y), axis = 1)"
   ]
  },
  {
   "cell_type": "code",
   "execution_count": 252,
   "metadata": {
    "ExecuteTime": {
     "end_time": "2019-04-23T16:41:58.928011Z",
     "start_time": "2019-04-23T16:41:58.923380Z"
    }
   },
   "outputs": [],
   "source": [
    "a = np.array([1, 2, 3])\n",
    "b = np.array([2, 3, 4])"
   ]
  },
  {
   "cell_type": "code",
   "execution_count": 253,
   "metadata": {
    "ExecuteTime": {
     "end_time": "2019-04-23T16:41:58.938744Z",
     "start_time": "2019-04-23T16:41:58.931236Z"
    }
   },
   "outputs": [
    {
     "data": {
      "text/plain": [
       "array([[1, 2, 3],\n",
       "       [2, 3, 4]])"
      ]
     },
     "execution_count": 253,
     "metadata": {},
     "output_type": "execute_result"
    }
   ],
   "source": [
    "np.stack((a, b))"
   ]
  },
  {
   "cell_type": "code",
   "execution_count": 254,
   "metadata": {
    "ExecuteTime": {
     "end_time": "2019-04-23T16:41:58.948447Z",
     "start_time": "2019-04-23T16:41:58.942045Z"
    }
   },
   "outputs": [],
   "source": [
    "studentId = np.array([1,2,3,4])\n",
    "name   = np.array([\"Alice\",\"Beth\",\"Cathy\",\"Dorothy\"])\n",
    "scores  = np.array([65,78,90,81])"
   ]
  },
  {
   "cell_type": "code",
   "execution_count": 255,
   "metadata": {
    "ExecuteTime": {
     "end_time": "2019-04-23T16:41:58.959959Z",
     "start_time": "2019-04-23T16:41:58.952396Z"
    }
   },
   "outputs": [
    {
     "data": {
      "text/plain": [
       "array([['1', '2', '3', '4'],\n",
       "       ['Alice', 'Beth', 'Cathy', 'Dorothy'],\n",
       "       ['65', '78', '90', '81']], dtype='<U21')"
      ]
     },
     "execution_count": 255,
     "metadata": {},
     "output_type": "execute_result"
    }
   ],
   "source": [
    "np.stack((studentId, name, scores))"
   ]
  },
  {
   "cell_type": "code",
   "execution_count": 256,
   "metadata": {
    "ExecuteTime": {
     "end_time": "2019-04-23T16:41:58.971691Z",
     "start_time": "2019-04-23T16:41:58.963586Z"
    }
   },
   "outputs": [
    {
     "data": {
      "text/plain": [
       "(3, 4)"
      ]
     },
     "execution_count": 256,
     "metadata": {},
     "output_type": "execute_result"
    }
   ],
   "source": [
    "np.stack((studentId, name, scores)).shape"
   ]
  },
  {
   "cell_type": "code",
   "execution_count": 257,
   "metadata": {
    "ExecuteTime": {
     "end_time": "2019-04-23T16:41:58.984141Z",
     "start_time": "2019-04-23T16:41:58.975178Z"
    }
   },
   "outputs": [
    {
     "data": {
      "text/plain": [
       "array([['1', 'Alice', '65'],\n",
       "       ['2', 'Beth', '78'],\n",
       "       ['3', 'Cathy', '90'],\n",
       "       ['4', 'Dorothy', '81']], dtype='<U21')"
      ]
     },
     "execution_count": 257,
     "metadata": {},
     "output_type": "execute_result"
    }
   ],
   "source": [
    "np.stack((studentId, name, scores), axis =1)"
   ]
  },
  {
   "cell_type": "code",
   "execution_count": 258,
   "metadata": {
    "ExecuteTime": {
     "end_time": "2019-04-23T16:41:58.995642Z",
     "start_time": "2019-04-23T16:41:58.987590Z"
    }
   },
   "outputs": [
    {
     "data": {
      "text/plain": [
       "(4, 3)"
      ]
     },
     "execution_count": 258,
     "metadata": {},
     "output_type": "execute_result"
    }
   ],
   "source": [
    "np.stack((studentId, name, scores), axis =1).shape"
   ]
  },
  {
   "cell_type": "code",
   "execution_count": 259,
   "metadata": {
    "ExecuteTime": {
     "end_time": "2019-04-23T16:41:59.007043Z",
     "start_time": "2019-04-23T16:41:58.999300Z"
    }
   },
   "outputs": [
    {
     "data": {
      "text/plain": [
       "array([['1', '2', '3', '4'],\n",
       "       ['Alice', 'Beth', 'Cathy', 'Dorothy'],\n",
       "       ['65', '78', '90', '81']], dtype='<U21')"
      ]
     },
     "execution_count": 259,
     "metadata": {},
     "output_type": "execute_result"
    }
   ],
   "source": [
    "# Stacks row wise \n",
    "\n",
    "np.vstack((studentId, name, scores)) "
   ]
  },
  {
   "cell_type": "code",
   "execution_count": 260,
   "metadata": {
    "ExecuteTime": {
     "end_time": "2019-04-23T16:41:59.017754Z",
     "start_time": "2019-04-23T16:41:59.010372Z"
    }
   },
   "outputs": [
    {
     "data": {
      "text/plain": [
       "array(['1', '2', '3', '4', 'Alice', 'Beth', 'Cathy', 'Dorothy', '65',\n",
       "       '78', '90', '81'], dtype='<U21')"
      ]
     },
     "execution_count": 260,
     "metadata": {},
     "output_type": "execute_result"
    }
   ],
   "source": [
    "# Stacks column wise\n",
    "np.hstack((studentId, name, scores)) "
   ]
  },
  {
   "cell_type": "code",
   "execution_count": 261,
   "metadata": {
    "ExecuteTime": {
     "end_time": "2019-04-23T16:41:59.028592Z",
     "start_time": "2019-04-23T16:41:59.021160Z"
    }
   },
   "outputs": [
    {
     "data": {
      "text/plain": [
       "(12,)"
      ]
     },
     "execution_count": 261,
     "metadata": {},
     "output_type": "execute_result"
    }
   ],
   "source": [
    "np.hstack((studentId, name, scores)).shape"
   ]
  },
  {
   "cell_type": "markdown",
   "metadata": {},
   "source": [
    "## Histograms"
   ]
  },
  {
   "cell_type": "code",
   "execution_count": 262,
   "metadata": {
    "ExecuteTime": {
     "end_time": "2019-04-23T16:41:59.041099Z",
     "start_time": "2019-04-23T16:41:59.031818Z"
    }
   },
   "outputs": [
    {
     "data": {
      "text/plain": [
       "(array([0, 2, 1]), array([0, 1, 2, 3]))"
      ]
     },
     "execution_count": 262,
     "metadata": {},
     "output_type": "execute_result"
    }
   ],
   "source": [
    "np.histogram([1, 2, 1] , bins = [0, 1, 2, 3])"
   ]
  },
  {
   "cell_type": "markdown",
   "metadata": {},
   "source": [
    "**normal distribution**\n",
    "\n",
    "Mean = 2  \n",
    "StdDev = 0.5  \n",
    "Num of data points = 1000"
   ]
  },
  {
   "cell_type": "code",
   "execution_count": 263,
   "metadata": {
    "ExecuteTime": {
     "end_time": "2019-04-23T16:41:59.050620Z",
     "start_time": "2019-04-23T16:41:59.044572Z"
    }
   },
   "outputs": [],
   "source": [
    "mu, sigma = 2 , 0.5\n",
    "data = np.random.normal(mu, sigma, 10000)"
   ]
  },
  {
   "cell_type": "code",
   "execution_count": 264,
   "metadata": {
    "ExecuteTime": {
     "end_time": "2019-04-23T16:41:59.061047Z",
     "start_time": "2019-04-23T16:41:59.053749Z"
    }
   },
   "outputs": [
    {
     "data": {
      "text/plain": [
       "array([2.3202593 , 2.57649503, 2.60027418, ..., 1.57583234, 1.92830072,\n",
       "       1.26634083])"
      ]
     },
     "execution_count": 264,
     "metadata": {},
     "output_type": "execute_result"
    }
   ],
   "source": [
    "data"
   ]
  },
  {
   "cell_type": "code",
   "execution_count": 265,
   "metadata": {
    "ExecuteTime": {
     "end_time": "2019-04-23T16:41:59.070407Z",
     "start_time": "2019-04-23T16:41:59.064206Z"
    }
   },
   "outputs": [],
   "source": [
    "(n, bin_edges) = np.histogram( data , bins = 50 )"
   ]
  },
  {
   "cell_type": "markdown",
   "metadata": {},
   "source": [
    "Here, bins is an integer, it defines the number of equal-width bins in the given range (10, by default). \n",
    "\n",
    "Numpy computes the occurrences of input data that fall within each bin, which in turns determines the area (not necessarily the height if the bins aren't of equal width) of each bar.\n",
    "\n",
    "* `n` == number of samples in each bin \n",
    "* `bin_edges` = The right edges of the bins\n",
    "\n",
    "NOTE: The number of bin_edges == len(histogram)+1. This is because bin_edges[0] is the left edge of the first bin, while all other values are the right edges of each bin"
   ]
  },
  {
   "cell_type": "code",
   "execution_count": 266,
   "metadata": {
    "ExecuteTime": {
     "end_time": "2019-04-23T16:41:59.080630Z",
     "start_time": "2019-04-23T16:41:59.073423Z"
    }
   },
   "outputs": [
    {
     "data": {
      "text/plain": [
       "array([  3,   1,   0,   5,   6,   8,  11,  18,  21,  24,  43,  57,  75,\n",
       "        91, 126, 145, 204, 257, 320, 363, 373, 459, 494, 547, 555, 564,\n",
       "       592, 597, 559, 537, 469, 395, 373, 383, 296, 239, 204, 161, 141,\n",
       "        82,  65,  40,  25,  28,  13,  12,  10,   3,   3,   3])"
      ]
     },
     "execution_count": 266,
     "metadata": {},
     "output_type": "execute_result"
    }
   ],
   "source": [
    "n"
   ]
  },
  {
   "cell_type": "code",
   "execution_count": 267,
   "metadata": {
    "ExecuteTime": {
     "end_time": "2019-04-23T16:41:59.091037Z",
     "start_time": "2019-04-23T16:41:59.083791Z"
    }
   },
   "outputs": [
    {
     "data": {
      "text/plain": [
       "array([0.07511042, 0.14816475, 0.22121909, 0.29427342, 0.36732775,\n",
       "       0.44038208, 0.51343641, 0.58649074, 0.65954507, 0.7325994 ,\n",
       "       0.80565374, 0.87870807, 0.9517624 , 1.02481673, 1.09787106,\n",
       "       1.17092539, 1.24397972, 1.31703406, 1.39008839, 1.46314272,\n",
       "       1.53619705, 1.60925138, 1.68230571, 1.75536004, 1.82841438,\n",
       "       1.90146871, 1.97452304, 2.04757737, 2.1206317 , 2.19368603,\n",
       "       2.26674036, 2.3397947 , 2.41284903, 2.48590336, 2.55895769,\n",
       "       2.63201202, 2.70506635, 2.77812068, 2.85117502, 2.92422935,\n",
       "       2.99728368, 3.07033801, 3.14339234, 3.21644667, 3.289501  ,\n",
       "       3.36255534, 3.43560967, 3.508664  , 3.58171833, 3.65477266,\n",
       "       3.72782699])"
      ]
     },
     "execution_count": 267,
     "metadata": {},
     "output_type": "execute_result"
    }
   ],
   "source": [
    "bin_edges"
   ]
  },
  {
   "cell_type": "code",
   "execution_count": 268,
   "metadata": {
    "ExecuteTime": {
     "end_time": "2019-04-23T16:41:59.421668Z",
     "start_time": "2019-04-23T16:41:59.094284Z"
    }
   },
   "outputs": [
    {
     "data": {
      "image/png": "[encoded data removed]",
      "text/plain": [
       "<Figure size 640x480 with 1 Axes>"
      ]
     },
     "metadata": {},
     "output_type": "display_data"
    }
   ],
   "source": [
    "plt.plot(bin_edges[ 1 : ], n)\n",
    "plt.show()"
   ]
  },
  {
   "cell_type": "markdown",
   "metadata": {},
   "source": [
    "`matplotlib` also has a function to build histograms (called hist) that differs from the one in NumPy. \n",
    "\n",
    "The main difference is that `pylab.hist` plots the histogram automatically, while `numpy.histogram` only generates the data."
   ]
  },
  {
   "cell_type": "code",
   "execution_count": 269,
   "metadata": {
    "ExecuteTime": {
     "end_time": "2019-04-23T16:41:59.755990Z",
     "start_time": "2019-04-23T16:41:59.425903Z"
    }
   },
   "outputs": [
    {
     "data": {
      "image/png": "[encoded data removed]",
      "text/plain": [
       "<Figure size 640x480 with 1 Axes>"
      ]
     },
     "metadata": {},
     "output_type": "display_data"
    }
   ],
   "source": [
    "plt.hist([1, 2, 1], bins = [0, 1, 2, 3])\n",
    "plt.show()"
   ]
  },
  {
   "cell_type": "code",
   "execution_count": 270,
   "metadata": {
    "ExecuteTime": {
     "end_time": "2019-04-23T16:42:00.205712Z",
     "start_time": "2019-04-23T16:41:59.759256Z"
    }
   },
   "outputs": [
    {
     "data": {
      "image/png": "[encoded data removed]",
      "text/plain": [
       "<Figure size 640x480 with 1 Axes>"
      ]
     },
     "metadata": {},
     "output_type": "display_data"
    }
   ],
   "source": [
    "plt.hist(data, bins = 50)\n",
    "plt.show()"
   ]
  },
  {
   "cell_type": "code",
   "execution_count": 271,
   "metadata": {
    "ExecuteTime": {
     "end_time": "2019-04-23T16:42:01.261986Z",
     "start_time": "2019-04-23T16:42:00.210768Z"
    }
   },
   "outputs": [
    {
     "data": {
      "image/png": "[encoded data removed]",
      "text/plain": [
       "<Figure size 640x480 with 1 Axes>"
      ]
     },
     "metadata": {},
     "output_type": "display_data"
    }
   ],
   "source": [
    "# Bin selection can be automated\n",
    "plt.hist(data, bins = 'auto')  \n",
    "plt.show()"
   ]
  },
  {
   "cell_type": "markdown",
   "metadata": {},
   "source": [
    "## Functions and Mehtods"
   ]
  },
  {
   "cell_type": "code",
   "execution_count": 272,
   "metadata": {
    "ExecuteTime": {
     "end_time": "2019-04-23T16:42:01.283690Z",
     "start_time": "2019-04-23T16:42:01.266743Z"
    }
   },
   "outputs": [],
   "source": [
    "url = \"https://gist.githubusercontent.com/butuzov/ed1c7f8f3affe6dd005c1ee40dc3f7f2/raw/9012bdf4a623aa10e5abe3932028f79609337c19/sallary.csv\"\n",
    "salaries = np.genfromtxt(url, delimiter=',')"
   ]
  },
  {
   "cell_type": "code",
   "execution_count": 273,
   "metadata": {
    "ExecuteTime": {
     "end_time": "2019-04-23T16:42:01.302531Z",
     "start_time": "2019-04-23T16:42:01.287870Z"
    }
   },
   "outputs": [
    {
     "data": {
      "text/plain": [
       "array([60000., 58000., 56967., ..., 54647., 25000., 70000.])"
      ]
     },
     "execution_count": 273,
     "metadata": {},
     "output_type": "execute_result"
    }
   ],
   "source": [
    "salaries"
   ]
  },
  {
   "cell_type": "code",
   "execution_count": 274,
   "metadata": {
    "ExecuteTime": {
     "end_time": "2019-04-23T16:42:01.321803Z",
     "start_time": "2019-04-23T16:42:01.306097Z"
    }
   },
   "outputs": [
    {
     "data": {
      "text/plain": [
       "850000.0"
      ]
     },
     "execution_count": 274,
     "metadata": {},
     "output_type": "execute_result"
    }
   ],
   "source": [
    "# Returns the indices of the maximum values along an axis.\n",
    "salaries[np.argmax(salaries)]"
   ]
  },
  {
   "cell_type": "code",
   "execution_count": 275,
   "metadata": {
    "ExecuteTime": {
     "end_time": "2019-04-23T16:42:01.342619Z",
     "start_time": "2019-04-23T16:42:01.330039Z"
    }
   },
   "outputs": [
    {
     "data": {
      "text/plain": [
       "11400.0"
      ]
     },
     "execution_count": 275,
     "metadata": {},
     "output_type": "execute_result"
    }
   ],
   "source": [
    "# argmin\n",
    "salaries[np.argmin(salaries)]"
   ]
  },
  {
   "cell_type": "code",
   "execution_count": 276,
   "metadata": {
    "ExecuteTime": {
     "end_time": "2019-04-23T16:42:01.365414Z",
     "start_time": "2019-04-23T16:42:01.346871Z"
    }
   },
   "outputs": [
    {
     "data": {
      "text/plain": [
       "array([282, 969, 606, ..., 829, 389, 246])"
      ]
     },
     "execution_count": 276,
     "metadata": {},
     "output_type": "execute_result"
    }
   ],
   "source": [
    "np.argsort(salaries)"
   ]
  },
  {
   "cell_type": "code",
   "execution_count": 277,
   "metadata": {
    "ExecuteTime": {
     "end_time": "2019-04-23T16:42:01.382734Z",
     "start_time": "2019-04-23T16:42:01.375917Z"
    }
   },
   "outputs": [],
   "source": [
    "s = np.array([4,6,7,82,3,4])\n",
    "s.shape = 2, -1"
   ]
  },
  {
   "cell_type": "code",
   "execution_count": 278,
   "metadata": {
    "ExecuteTime": {
     "end_time": "2019-04-23T16:42:01.394082Z",
     "start_time": "2019-04-23T16:42:01.386220Z"
    }
   },
   "outputs": [
    {
     "data": {
      "text/plain": [
       "array([[ 4,  6,  7],\n",
       "       [82,  3,  4]])"
      ]
     },
     "execution_count": 278,
     "metadata": {},
     "output_type": "execute_result"
    }
   ],
   "source": [
    "s"
   ]
  },
  {
   "cell_type": "code",
   "execution_count": 279,
   "metadata": {
    "ExecuteTime": {
     "end_time": "2019-04-23T16:42:01.410449Z",
     "start_time": "2019-04-23T16:42:01.398754Z"
    }
   },
   "outputs": [
    {
     "data": {
      "text/plain": [
       "array([[0, 1, 2],\n",
       "       [1, 2, 0]])"
      ]
     },
     "execution_count": 279,
     "metadata": {},
     "output_type": "execute_result"
    }
   ],
   "source": [
    "np.argsort(s)"
   ]
  },
  {
   "cell_type": "markdown",
   "metadata": {},
   "source": [
    "**specifying sorting algorithm**"
   ]
  },
  {
   "cell_type": "code",
   "execution_count": 280,
   "metadata": {
    "ExecuteTime": {
     "end_time": "2019-04-23T16:42:01.429304Z",
     "start_time": "2019-04-23T16:42:01.416273Z"
    }
   },
   "outputs": [
    {
     "data": {
      "text/plain": [
       "array([282, 969, 606, ..., 829, 389, 246])"
      ]
     },
     "execution_count": 280,
     "metadata": {},
     "output_type": "execute_result"
    }
   ],
   "source": [
    "np.argsort(salaries,kind='mergesort')"
   ]
  },
  {
   "cell_type": "code",
   "execution_count": 281,
   "metadata": {
    "ExecuteTime": {
     "end_time": "2019-04-23T16:42:01.450494Z",
     "start_time": "2019-04-23T16:42:01.435515Z"
    }
   },
   "outputs": [
    {
     "data": {
      "text/plain": [
       "array([282, 969, 606, ..., 829, 389, 246])"
      ]
     },
     "execution_count": 281,
     "metadata": {},
     "output_type": "execute_result"
    }
   ],
   "source": [
    "np.argsort(salaries,kind='quicksort')"
   ]
  },
  {
   "cell_type": "markdown",
   "metadata": {
    "ExecuteTime": {
     "end_time": "2019-03-05T12:59:53.451081Z",
     "start_time": "2019-03-05T12:59:53.438166Z"
    }
   },
   "source": [
    "The functions `max` , `min` , `sort` gives the respective elements itself instead of indices."
   ]
  },
  {
   "cell_type": "markdown",
   "metadata": {
    "ExecuteTime": {
     "end_time": "2019-03-05T13:01:08.437283Z",
     "start_time": "2019-03-05T13:01:08.431410Z"
    }
   },
   "source": [
    "The `where()` function returns the **indices** of elements in an input array where the given condition is satisfied."
   ]
  },
  {
   "cell_type": "code",
   "execution_count": 282,
   "metadata": {
    "ExecuteTime": {
     "end_time": "2019-04-23T16:42:01.466719Z",
     "start_time": "2019-04-23T16:42:01.456887Z"
    }
   },
   "outputs": [
    {
     "data": {
      "text/plain": [
       "(array([  22,   27,   33,   45,   48,   59,   77,   78,   87,   91,   94,\n",
       "         102,  109,  117,  123,  151,  221,  236,  242,  243,  246,  271,\n",
       "         296,  297,  303,  337,  343,  378,  385,  389,  402,  408,  432,\n",
       "         436,  450,  454,  503,  504,  538,  560,  563,  580,  581,  602,\n",
       "         607,  687,  701,  728,  736,  745,  769,  779,  802,  819,  822,\n",
       "         829,  859,  913,  922,  946,  949,  977,  980,  998, 1019, 1033,\n",
       "        1062, 1065, 1104, 1105, 1112, 1130]),)"
      ]
     },
     "execution_count": 282,
     "metadata": {},
     "output_type": "execute_result"
    }
   ],
   "source": [
    "np.where(salaries > 100000)"
   ]
  },
  {
   "cell_type": "markdown",
   "metadata": {},
   "source": [
    "The `extract()` function returns the elements satisfying any condition"
   ]
  },
  {
   "cell_type": "code",
   "execution_count": 283,
   "metadata": {
    "ExecuteTime": {
     "end_time": "2019-04-23T16:42:01.487793Z",
     "start_time": "2019-04-23T16:42:01.470288Z"
    }
   },
   "outputs": [
    {
     "data": {
      "text/plain": [
       "array([ 60000.,  58000.,  56967.,  70000.,  75000.,  62000.,  56000.,\n",
       "       261546.,  77000., 500000.,  77570.,  60000.,  65000.,  60000.,\n",
       "       120000.,  81000.,  75000.,  75000.,  73000.,  75000., 210000.,\n",
       "        90000., 105227.,  84000.,  98000.,  70000., 115000.,  72000.,\n",
       "        57400.,  70000.,  71796., 130773., 103529.,  57000.,  70000.,\n",
       "        75000.,  57000., 119875.,  60000., 132000., 100000., 141671.,\n",
       "        87500.,  90000.,  65000., 109100.,  98080.,  87689., 550000.,\n",
       "        56697.,  60000., 180000.,  92000.,  63000., 220000.,  66000.,\n",
       "        80000.,  65460.,  65000., 109294.,  70000.,  57758.,  75000.,\n",
       "        75000.,  62662.,  64000.,  90000.,  60000.,  60000.,  70000.,\n",
       "        63000.,  80000.,  70000.,  60000.,  90000., 135380.,  65000.,\n",
       "        70000., 103529.,  64000.,  70000., 120000., 185000.,  70000.,\n",
       "       850000.,  61500.,  60000.,  63000., 181339.,  75665.,  58000.,\n",
       "        57000., 100000.,  65000.,  62662.,  90000.,  70835.,  75000.,\n",
       "       111600., 102000.,  60000.,  65000., 625000., 100000.,  78000.,\n",
       "        75000.,  60000.,  64000.,  63000.,  59656.,  69000.,  80750.,\n",
       "        84703., 110464., 102000.,  56732.,  63000.,  62000.,  60000.,\n",
       "        70151.,  60000.,  56400.,  65000., 140000.,  75000.,  65000.,\n",
       "       120000., 820000.,  80000., 250000.,  58000., 130000.,  85000.,\n",
       "        60000.,  65000.,  71925., 136375.,  90000., 141000.,  90000.,\n",
       "        65000.,  66000.,  72000.,  65000., 142800.,  68000., 116626.,\n",
       "        65000.,  56000.,  57758.,  58000.,  60000.,  60000.,  97000.,\n",
       "        67382.,  90000.,  85000.,  75000.,  57000.,  60000.,  76600.,\n",
       "        60000., 110000., 130000.,  61398.,  60000.,  65000.,  70000.,\n",
       "       100000.,  59000.,  57000.,  60000.,  76000.,  60000.,  88000.,\n",
       "       444000.,  59000.,  70000.,  72000., 100000.,  70000., 116000.,\n",
       "        65000., 110000.,  70000.,  82000.,  56000.,  60000.,  72000.,\n",
       "        60000.,  70000., 113996., 160000.,  60000.,  81733.,  66000.,\n",
       "        80000.,  66000., 150000.,  56000., 108000.,  62031., 100000.,\n",
       "        60000.,  68000.,  60000.,  60000.,  60000.,  90000.,  61700.,\n",
       "        75000.,  77000.,  96000.,  60000.,  86000.,  68000.,  63000.,\n",
       "        65000.,  60000.,  90000.,  90000.,  80000.,  63000.,  80000.,\n",
       "        70915., 120000.,  73500.,  60000.,  60000., 120000.,  56000.,\n",
       "        84396.,  95000.,  94704.,  71000.,  70000.,  60000., 220000.,\n",
       "       117701.,  57758.,  80000.,  65000.,  72000.,  70000., 120000.,\n",
       "        60000.,  60000.,  63500.,  60000.,  59640.,  61027.,  70000.,\n",
       "        61800., 120010.,  83500.,  75000.,  72000.,  84000., 110000.,\n",
       "        60005.,  59500.,  70518.,  66000.,  58000.,  70000.,  99500.,\n",
       "        66858., 103645.,  77000.,  56000.,  62000.,  60000.,  57400.,\n",
       "        92735.,  58000.,  69000., 102000.,  68000., 108977.,  75653.,\n",
       "        68000.,  59938., 680000.,  56967.,  57600.,  75000.,  60000.,\n",
       "        60000.,  58000., 152568.,  98324.,  65000.,  63605.,  82000.,\n",
       "        57000.,  62000.,  85000.,  60000.,  62500.,  68656.,  87280.,\n",
       "        60000.,  57400.,  76000.,  63207.,  59000., 114800.,  60000.,\n",
       "        72000., 150000.,  70000.,  60000.,  57000.,  70000.,  59938.,\n",
       "       111841., 110000.,  63000.,  63207.,  59000.,  64000.,  58000.,\n",
       "        75000.,  75000.,  70500.,  61000.,  60555., 108000.,  60000.,\n",
       "        80000., 102000., 100000.,  64800.,  62000., 134449.,  75000.,\n",
       "        70000.,  65000.,  94000.,  65000.,  60000., 120000.,  80000.,\n",
       "        95000.,  65000., 101349.,  74000.,  70000.,  76289.,  95000.,\n",
       "        78000.,  72000.,  92000.,  65000., 120000.,  72000., 250000.,\n",
       "        68500.,  62000.,  81000.,  70000.,  84000.,  56000.,  87689.,\n",
       "       175000., 261546.,  59000.,  56000., 120000.,  82000.,  70000.,\n",
       "        71380.,  62000., 100000.,  80000., 103000.,  57000.,  76800.,\n",
       "        75000.,  90000.,  70000.])"
      ]
     },
     "execution_count": 283,
     "metadata": {},
     "output_type": "execute_result"
    }
   ],
   "source": [
    "np.extract(salaries > np.mean(salaries), salaries)"
   ]
  },
  {
   "cell_type": "markdown",
   "metadata": {},
   "source": [
    "## Vectorization"
   ]
  },
  {
   "cell_type": "code",
   "execution_count": 284,
   "metadata": {
    "ExecuteTime": {
     "end_time": "2019-04-23T16:42:01.497507Z",
     "start_time": "2019-04-23T16:42:01.490722Z"
    }
   },
   "outputs": [],
   "source": [
    "def addsubtract(a,b):\n",
    "    \"Return a-b if a > b, otherwise return a + b\"\n",
    "    if a > b:\n",
    "        return a - b\n",
    "    else:\n",
    "        return a + b"
   ]
  },
  {
   "cell_type": "code",
   "execution_count": 285,
   "metadata": {
    "ExecuteTime": {
     "end_time": "2019-04-23T16:42:01.508828Z",
     "start_time": "2019-04-23T16:42:01.501025Z"
    }
   },
   "outputs": [
    {
     "data": {
      "text/plain": [
       "12"
      ]
     },
     "execution_count": 285,
     "metadata": {},
     "output_type": "execute_result"
    }
   ],
   "source": [
    "addsubtract(5,7)"
   ]
  },
  {
   "cell_type": "code",
   "execution_count": 286,
   "metadata": {
    "ExecuteTime": {
     "end_time": "2019-04-23T16:42:01.518580Z",
     "start_time": "2019-04-23T16:42:01.511443Z"
    }
   },
   "outputs": [],
   "source": [
    "vec_addsubtract = np.vectorize(addsubtract)"
   ]
  },
  {
   "cell_type": "code",
   "execution_count": 287,
   "metadata": {
    "ExecuteTime": {
     "end_time": "2019-04-23T16:42:01.530471Z",
     "start_time": "2019-04-23T16:42:01.522125Z"
    }
   },
   "outputs": [
    {
     "data": {
      "text/plain": [
       "array([1, 6, 1, 2])"
      ]
     },
     "execution_count": 287,
     "metadata": {},
     "output_type": "execute_result"
    }
   ],
   "source": [
    "vec_addsubtract([0,3,6,9],[1,3,5,7])"
   ]
  },
  {
   "cell_type": "code",
   "execution_count": 288,
   "metadata": {
    "ExecuteTime": {
     "end_time": "2019-04-23T16:42:01.545015Z",
     "start_time": "2019-04-23T16:42:01.535495Z"
    }
   },
   "outputs": [
    {
     "name": "stdout",
     "output_type": "stream",
     "text": [
      "Error: operands could not be broadcast together with shapes (4,) (5,) \n"
     ]
    }
   ],
   "source": [
    "# wrong shape\n",
    "try:\n",
    "    vec_addsubtract([0,3,6,9],[1,3,5,7,8])\n",
    "except ValueError as e:\n",
    "    print(\"Error:\", e)\n"
   ]
  },
  {
   "cell_type": "markdown",
   "metadata": {},
   "source": [
    "## Tips and tricks\n",
    "\n",
    "* https://arogozhnikov.github.io/2015/09/29/NumpyTipsAndTricks1.html\n",
    "* https://arogozhnikov.github.io/2015/09/30/NumpyTipsAndTricks2.html\n",
    "* https://jayrambhia.com/notes/numpy-tricks\n",
    "* http://anie.me/numpy-tricks/"
   ]
  },
  {
   "cell_type": "markdown",
   "metadata": {},
   "source": [
    "### Computing order of elements in array"
   ]
  },
  {
   "cell_type": "code",
   "execution_count": 289,
   "metadata": {
    "ExecuteTime": {
     "end_time": "2019-04-23T16:42:01.559722Z",
     "start_time": "2019-04-23T16:42:01.548233Z"
    }
   },
   "outputs": [
    {
     "data": {
      "text/plain": [
       "array([4, 0, 7, 3, 2, 6, 5, 8, 9, 1])"
      ]
     },
     "execution_count": 289,
     "metadata": {},
     "output_type": "execute_result"
    }
   ],
   "source": [
    "data = np.random.random(10)\n",
    "np.argsort(np.argsort(data))"
   ]
  },
  {
   "cell_type": "code",
   "execution_count": 290,
   "metadata": {},
   "outputs": [
    {
     "name": "stdout",
     "output_type": "stream",
     "text": [
      "Requirement already satisfied: scipy in /Users/butuzov/.venv/lib/python3.11/site-packages (1.11.4)\n",
      "Requirement already satisfied: numpy<1.28.0,>=1.21.6 in /Users/butuzov/.venv/lib/python3.11/site-packages (from scipy) (1.26.1)\n",
      "\n",
      "\u001b[1m[\u001b[0m\u001b[34;49mnotice\u001b[0m\u001b[1;39;49m]\u001b[0m\u001b[39;49m A new release of pip is available: \u001b[0m\u001b[31;49m23.3.1\u001b[0m\u001b[39;49m -> \u001b[0m\u001b[32;49m23.3.2\u001b[0m\n",
      "\u001b[1m[\u001b[0m\u001b[34;49mnotice\u001b[0m\u001b[1;39;49m]\u001b[0m\u001b[39;49m To update, run: \u001b[0m\u001b[32;49mpip install --upgrade pip\u001b[0m\n"
     ]
    }
   ],
   "source": [
    "!pip install scipy"
   ]
  },
  {
   "cell_type": "code",
   "execution_count": 291,
   "metadata": {
    "ExecuteTime": {
     "end_time": "2019-04-23T16:42:02.223067Z",
     "start_time": "2019-04-23T16:42:01.563648Z"
    }
   },
   "outputs": [
    {
     "data": {
      "text/plain": [
       "array([4., 0., 7., 3., 2., 6., 5., 8., 9., 1.])"
      ]
     },
     "execution_count": 291,
     "metadata": {},
     "output_type": "execute_result"
    }
   ],
   "source": [
    "# scipy function which does the same, but it's more general and faster, so prefer using it:\n",
    "from scipy.stats import rankdata\n",
    "rankdata(data) - 1"
   ]
  },
  {
   "cell_type": "markdown",
   "metadata": {},
   "source": [
    "### IronTransform (flattener of distribution)\n",
    "\n",
    "Sometimes you need to write monotonic tranformation, which turns one distribution into uniform.\n",
    "\n",
    "This method is useful to compare distributions or to work with distributions with heavy tails or strange shape."
   ]
  },
  {
   "cell_type": "code",
   "execution_count": 292,
   "metadata": {
    "ExecuteTime": {
     "end_time": "2019-04-23T16:42:03.006999Z",
     "start_time": "2019-04-23T16:42:02.226736Z"
    }
   },
   "outputs": [
    {
     "data": {
      "image/png": "[encoded data removed]",
      "text/plain": [
       "<Figure size 640x480 with 1 Axes>"
      ]
     },
     "metadata": {},
     "output_type": "display_data"
    }
   ],
   "source": [
    "class IronTransform:\n",
    "    def fit(self, data, weights):\n",
    "        weights = weights / weights.sum()\n",
    "        sorter = np.argsort(data)\n",
    "        self.x = data[sorter]\n",
    "        self.y = np.cumsum(weights[sorter])\n",
    "        return self\n",
    "        \n",
    "    def transform(self, data):\n",
    "        return np.interp(data, self.x, self.y)\n",
    "    \n",
    "    \n",
    "sig_pred = np.random.normal(size=10000) + 1\n",
    "bck_pred = np.random.normal(size=10000) - 1 \n",
    "\n",
    "plt.figure()\n",
    "plt.hist(sig_pred, bins=30, alpha=0.5)\n",
    "plt.hist(bck_pred, bins=30, alpha=0.5)\n",
    "plt.show()"
   ]
  },
  {
   "cell_type": "code",
   "execution_count": 293,
   "metadata": {
    "ExecuteTime": {
     "end_time": "2019-04-23T16:42:03.557866Z",
     "start_time": "2019-04-23T16:42:03.010878Z"
    },
    "scrolled": true
   },
   "outputs": [
    {
     "data": {
      "image/png": "[encoded data removed]",
      "text/plain": [
       "<Figure size 640x480 with 1 Axes>"
      ]
     },
     "metadata": {},
     "output_type": "display_data"
    }
   ],
   "source": [
    "iron = IronTransform().fit(sig_pred, weights=np.ones(len(sig_pred)))\n",
    "\n",
    "plt.figure()\n",
    "plt.hist(iron.transform(sig_pred), bins=30, alpha=0.5)\n",
    "plt.hist(iron.transform(bck_pred), bins=30, alpha=0.5)\n",
    "plt.show()"
   ]
  },
  {
   "cell_type": "markdown",
   "metadata": {
    "ExecuteTime": {
     "end_time": "2019-03-05T13:26:03.045739Z",
     "start_time": "2019-03-05T13:26:03.039925Z"
    }
   },
   "source": [
    "**flatnonzero**"
   ]
  },
  {
   "cell_type": "code",
   "execution_count": 294,
   "metadata": {
    "ExecuteTime": {
     "end_time": "2019-04-23T16:42:03.570960Z",
     "start_time": "2019-04-23T16:42:03.562127Z"
    }
   },
   "outputs": [
    {
     "data": {
      "text/plain": [
       "array([1, 2, 3, 4, 5, 6, 7, 8, 9])"
      ]
     },
     "execution_count": 294,
     "metadata": {},
     "output_type": "execute_result"
    }
   ],
   "source": [
    "## flattennonzero\n",
    "np.flatnonzero(np.arange(10).reshape(2,5))"
   ]
  },
  {
   "cell_type": "code",
   "execution_count": 295,
   "metadata": {
    "ExecuteTime": {
     "end_time": "2019-04-23T16:42:03.583855Z",
     "start_time": "2019-04-23T16:42:03.574239Z"
    }
   },
   "outputs": [
    {
     "data": {
      "text/plain": [
       "array([0, 2, 4, 6, 8])"
      ]
     },
     "execution_count": 295,
     "metadata": {},
     "output_type": "execute_result"
    }
   ],
   "source": [
    "np.flatnonzero(np.arange(10) % 2 == 0 )"
   ]
  }
 ],
 "metadata": {
  "hide_input": false,
  "kernelspec": {
   "display_name": "Python 3 (ipykernel)",
   "language": "python",
   "name": "python3"
  },
  "language_info": {
   "codemirror_mode": {
    "name": "ipython",
    "version": 3
   },
   "file_extension": ".py",
   "mimetype": "text/x-python",
   "name": "python",
   "nbconvert_exporter": "python",
   "pygments_lexer": "ipython3",
   "version": "3.11.6"
  },
  "toc": {
   "base_numbering": 1,
   "nav_menu": {},
   "number_sections": false,
   "sideBar": true,
   "skip_h1_title": true,
   "title_cell": "Table of Contents",
   "title_sidebar": "Contents",
   "toc_cell": false,
   "toc_position": {},
   "toc_section_display": true,
   "toc_window_display": true
  }
 },
 "nbformat": 4,
 "nbformat_minor": 4
}
