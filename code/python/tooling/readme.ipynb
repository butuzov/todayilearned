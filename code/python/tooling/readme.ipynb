{
 "cells": [
  {
   "cell_type": "markdown",
   "metadata": {},
   "source": [
    "# Tooling"
   ]
  },
  {
   "cell_type": "markdown",
   "metadata": {},
   "source": [
    "## Package Managers\n",
    "\n",
    "- [`pip`](./pip/readme.md)\n",
    "- [`poetry`](./poetry/readme.md)"
   ]
  },
  {
   "cell_type": "markdown",
   "metadata": {},
   "source": [
    "## Code Quality"
   ]
  },
  {
   "cell_type": "markdown",
   "metadata": {},
   "source": [
    "### `radon`\n",
    "\n",
    "[Radon](https://radon.readthedocs.io/en/latest/) is a Python tool which computes various code metrics. Supported metrics are:\n",
    "\n",
    "- raw metrics: SLOC, comment lines, blank lines, &c.\n",
    "- Cyclomatic Complexity (i.e. McCabe’s Complexity)\n",
    "- Halstead metrics (all of them)\n",
    "- the Maintainability Index (a Visual Studio metric)\n",
    "\n",
    "```bash\n",
    "# miantanability index\n",
    "radon mi file.ry -s\n",
    "radon ss file.py\n",
    "radon hal file.py \n",
    "```"
   ]
  },
  {
   "cell_type": "markdown",
   "metadata": {},
   "source": [
    "### `wily`\n",
    "\n",
    "A command-line application for tracking, reporting on complexity of Python tests and applications.\n",
    "\n",
    "```\n",
    "wily build files.py\n",
    "wili index\n",
    "wily report files.py\n",
    "wily diff files.py\n",
    "wily graph files.py\n",
    "```"
   ]
  },
  {
   "cell_type": "markdown",
   "metadata": {},
   "source": [
    "* https://github.com/tonybaloney/wily\n",
    "* https://radon.readthedocs.io/en/latest/"
   ]
  },
  {
   "cell_type": "code",
   "execution_count": null,
   "metadata": {},
   "outputs": [],
   "source": []
  }
 ],
 "metadata": {
  "hide_input": false,
  "kernelspec": {
   "display_name": "Python 3 (ipykernel)",
   "language": "python",
   "name": "python3"
  },
  "language_info": {
   "codemirror_mode": {
    "name": "ipython",
    "version": 3
   },
   "file_extension": ".py",
   "mimetype": "text/x-python",
   "name": "python",
   "nbconvert_exporter": "python",
   "pygments_lexer": "ipython3",
   "version": "3.11.6"
  },
  "toc": {
   "base_numbering": 1,
   "nav_menu": {},
   "number_sections": false,
   "sideBar": true,
   "skip_h1_title": true,
   "title_cell": "Table of Contents",
   "title_sidebar": "Contents",
   "toc_cell": false,
   "toc_position": {},
   "toc_section_display": true,
   "toc_window_display": false
  }
 },
 "nbformat": 4,
 "nbformat_minor": 4
}
