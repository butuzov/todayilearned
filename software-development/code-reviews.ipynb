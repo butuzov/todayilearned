{
 "cells": [
  {
   "cell_type": "markdown",
   "id": "fe3fad13",
   "metadata": {},
   "source": [
    "# Code Reviews"
   ]
  },
  {
   "cell_type": "markdown",
   "id": "dfbb6520",
   "metadata": {},
   "source": [
    "* `CR` - code review\n",
    "* `CL` - changelist"
   ]
  },
  {
   "cell_type": "markdown",
   "id": "2f28e367",
   "metadata": {},
   "source": [
    "## Reading \n",
    "\n",
    "* https://google.github.io/eng-practices/review/reviewer/\n",
    "* https://google.github.io/eng-practices/review/developer/\n",
    "* https://newrelic.com/blog/best-practices/code-review-guidelines\n",
    "* https://www.michaelagreiler.com/all-posts/"
   ]
  },
  {
   "cell_type": "markdown",
   "id": "80d1fb6d",
   "metadata": {
    "ExecuteTime": {
     "end_time": "2021-06-12T02:16:52.614440Z",
     "start_time": "2021-06-12T02:16:52.597760Z"
    }
   },
   "source": [
    "## Automating `CL`\n",
    "\n",
    "* [ ] tocs/docs (`.gitcommit`)\n",
    "* [ ] linting (only your `feature` branch, skip the rest)\n",
    "* [ ] tests (all your changes in tests, then all cahnges)\n",
    "* [ ] does it build (with tests)?"
   ]
  },
  {
   "cell_type": "markdown",
   "id": "4a3fcaca",
   "metadata": {},
   "source": [
    "## Befoer Code Review"
   ]
  },
  {
   "cell_type": "markdown",
   "id": "49e97569",
   "metadata": {},
   "source": [
    "* Make Expectations Clear (`when` and `what` is going to happen)\n",
    "* Don't Demand Changes, Make Suggestions And Explain \n",
    "* Be Open For Discussions\n",
    "* Eliminate Personal Code Authorship\n",
    "* Reserve Enough Time\n",
    "* Automate The Boring Stuff (`pull` & `run`)"
   ]
  },
  {
   "cell_type": "markdown",
   "id": "5058009f",
   "metadata": {},
   "source": [
    "### What Do Code Reviewers Look For?\n",
    "\n",
    "- [ ] Design: Is the code well-designed and appropriate for your system?\n",
    "- [ ] Functionality: Does the code behave as the author likely intended? Is the way the code behaves good for its users?\n",
    "- [ ] Complexity: Could the code be made simpler? Would another developer be able to easily understand and use this code when they come across it in the future?\n",
    "- [ ] Tests: Does the code have correct and well-designed automated tests?\n",
    "- [ ] Naming: Did the developer choose clear names for variables, classes, methods, etc.?\n",
    "- [ ] Comments: Are the comments clear and useful?\n",
    "- [ ] Style: Does the code follow our style guides?\n",
    "- [ ] Documentation: Did the developer also update relevant documentation?\n",
    "\n",
    "\n",
    "#### TL/DR\n",
    "\n",
    "* The code is well-designed.\n",
    "* The functionality is good for the users of the code.\n",
    "* Any UI changes are sensible and look good.\n",
    "* Any parallel programming is done safely.\n",
    "* The code isn’t more complex than it needs to be.\n",
    "* The developer isn’t implementing things they might need in the future but don’t know they need now.\n",
    "* Code has appropriate unit tests.\n",
    "* Tests are well-designed.\n",
    "* The developer used clear names for everything.\n",
    "* Comments are clear and useful, and mostly explain why instead of what.\n",
    "* Code is appropriately documented (generally in g3doc).\n",
    "* The code conforms to our style guides."
   ]
  },
  {
   "cell_type": "markdown",
   "id": "d08f7936",
   "metadata": {},
   "source": [
    "Coding Practices\n",
    "\n",
    "* [ ] Code is easy to understand, does not repeat itself\n",
    "* [ ] No redundant code, no spelling errors\n",
    "* [ ] Descriptive naming, use enums where applicable\n",
    "* [ ] Functions have been broken up to only do one thing\n",
    "* [ ] Expected errors thrown are either handled or returned in API response\n",
    "* [ ] Errors logged to Sentry are actionable\n",
    "* [ ] Use dependency injection where possible\n",
    "* [ ] Follow Law of Demeter. A class should know only its direct dependencies"
   ]
  },
  {
   "cell_type": "code",
   "execution_count": null,
   "id": "2c084479",
   "metadata": {},
   "outputs": [],
   "source": []
  }
 ],
 "metadata": {
  "hide_input": false,
  "kernelspec": {
   "display_name": "Python 3",
   "language": "python",
   "name": "python3"
  },
  "language_info": {
   "codemirror_mode": {
    "name": "ipython",
    "version": 3
   },
   "file_extension": ".py",
   "mimetype": "text/x-python",
   "name": "python",
   "nbconvert_exporter": "python",
   "pygments_lexer": "ipython3",
   "version": "3.8.8"
  },
  "toc": {
   "base_numbering": 1,
   "nav_menu": {},
   "number_sections": false,
   "sideBar": true,
   "skip_h1_title": true,
   "title_cell": "Table of Contents",
   "title_sidebar": "Contents",
   "toc_cell": false,
   "toc_position": {},
   "toc_section_display": true,
   "toc_window_display": false
  }
 },
 "nbformat": 4,
 "nbformat_minor": 5
}
