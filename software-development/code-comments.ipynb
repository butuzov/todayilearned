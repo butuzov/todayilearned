{
 "cells": [
  {
   "cell_type": "markdown",
   "id": "c36c8b66",
   "metadata": {},
   "source": [
    "# Code Comments"
   ]
  },
  {
   "cell_type": "markdown",
   "id": "9e93d7ee",
   "metadata": {},
   "source": [
    "## Different types of code comments"
   ]
  },
  {
   "cell_type": "markdown",
   "id": "21989ec2",
   "metadata": {},
   "source": [
    "1. Documentation comments - defining propose of file or component. `doc.go`, `phpdoc` for the file, etc.\n",
    "2. Function comments - comments on public method, most probably going to be genrated into some standalone doc.\n",
    "3. Logic comments - decribes logic."
   ]
  },
  {
   "cell_type": "markdown",
   "id": "db913b46",
   "metadata": {},
   "source": [
    "## \"Best\" Practices"
   ]
  },
  {
   "cell_type": "markdown",
   "id": "b151932f",
   "metadata": {
    "ExecuteTime": {
     "end_time": "2021-06-18T09:24:38.784643Z",
     "start_time": "2021-06-18T09:24:38.771109Z"
    }
   },
   "source": [
    "This list is result of reading article [The Engineer’s Guide to Writing Meaningful Code Comments](https://dzone.com/articles/the-engineers-guide-to-writing-meaningful-code-com). I am not agree with everything written there on 100%. \n",
    "\n",
    "1. Make Use of Code Annotations or Tags (phpdoc, javadoc, pyhon annotations)\n",
    "2. Write Down Why You Are Doing Something. Not **What** but **Why**\n",
    "3. Don’t Refer to Other Documents or Comments (unless its jira ticket, or github issue).\n",
    "4. Write Comments ~~While~~ Before Writing Code - it clears your mind. If you can't explain it, its bad idea. "
   ]
  },
  {
   "cell_type": "markdown",
   "id": "392045cd",
   "metadata": {},
   "source": [
    "## 3. Why?\n",
    "\n",
    "> Unfortunately, many comments are not particularly helpful. The most common reason is that comments repeat the code: all of the information in the comment can easily be deduced from the code next to the comment.\n",
    "\n",
    "John Ousterhout’s [A Philosophy of Software Design](https://www.abebooks.com/9781732102200/Philosophy-Software-Design-Ousterhout-John-1732102201/plp)."
   ]
  },
  {
   "cell_type": "markdown",
   "id": "cf8fb082",
   "metadata": {},
   "source": [
    "### Architecture Desicion Log\n",
    "\n",
    "- I am an idiot, I don't understant this at all. It must be correct.\n",
    "- Context, When, Why\n",
    "\n",
    "\n",
    "`adr`"
   ]
  },
  {
   "cell_type": "markdown",
   "id": "971bed69",
   "metadata": {},
   "source": [
    "https://adr.github.io/"
   ]
  },
  {
   "cell_type": "code",
   "execution_count": null,
   "id": "a4437cd2",
   "metadata": {},
   "outputs": [],
   "source": []
  }
 ],
 "metadata": {
  "hide_input": false,
  "kernelspec": {
   "display_name": "Python 3 (ipykernel)",
   "language": "python",
   "name": "python3"
  },
  "language_info": {
   "codemirror_mode": {
    "name": "ipython",
    "version": 3
   },
   "file_extension": ".py",
   "mimetype": "text/x-python",
   "name": "python",
   "nbconvert_exporter": "python",
   "pygments_lexer": "ipython3",
   "version": "3.8.8"
  },
  "toc": {
   "base_numbering": 1,
   "nav_menu": {},
   "number_sections": false,
   "sideBar": true,
   "skip_h1_title": true,
   "title_cell": "Table of Contents",
   "title_sidebar": "Contents",
   "toc_cell": false,
   "toc_position": {},
   "toc_section_display": true,
   "toc_window_display": false
  }
 },
 "nbformat": 4,
 "nbformat_minor": 5
}
