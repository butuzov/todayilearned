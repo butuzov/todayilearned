{
 "cells": [
  {
   "cell_type": "markdown",
   "id": "danish-bhutan",
   "metadata": {},
   "source": [
    "- [Codebase Refactoring (with help from Go)](https://talks.golang.org/2016/refactor.article) by Russ Cox [`hn`](https://news.ycombinator.com/item?id=13091634)\n",
    "- [Refactoring Go Code](https://matt.aimonetti.net/posts/2014-04-refactoring-go-code/)\n",
    "- [Refactoring With Go Fmt](https://spf13.com/post/go-fmt/)\n",
    "- [Go code refactoring : the 23x performance hunt](https://medium.com/@val_deleplace/go-code-refactoring-the-23x-performance-hunt-156746b522f7)\n",
    "- [gorename: easy refactoring tool for Golang](https://texlution.com/post/gorename/)"
   ]
  },
  {
   "cell_type": "markdown",
   "id": "martial-upgrade",
   "metadata": {},
   "source": [
    "# Refactoring Techniques [refactoring.guru](https://refactoring.guru/refactoring/techniques)"
   ]
  },
  {
   "cell_type": "markdown",
   "id": "consistent-mobile",
   "metadata": {},
   "source": [
    "- Add Parameter\n",
    "- Bidirectional \n",
    "- Change Bidirectional Association to  Unidirectional\n",
    "- Change Reference to Value\n",
    "- Change Unidirectional Association to Bidirectional\n",
    "- Change Value to Reference\n",
    "- Clauses\n",
    "- Collapse Hierarchy\n",
    "- Consolidate Conditional Expression\n",
    "- Consolidate Duplicate Conditional Fragments\n",
    "- Constant\n",
    "- Decompose Conditional\n",
    "- Duplicate Observed Data\n",
    "- Dynamic Method Definition\n",
    "- Eagerly Initialized Attribute\n",
    "- Encapsulate Collection\n",
    "- Encapsulate Downcast\n",
    "- Encapsulate Field\n",
    "- Extract Class\n",
    "- Extract Interface\n",
    "- Extract Method\n",
    "- Extract Module\n",
    "- Extract Subclass\n",
    "- Extract Superclass\n",
    "- Extract Surrounding Method\n",
    "- Extract Variable\n",
    "- Form Template Method\n",
    "- Hide Delegate\n",
    "- Hide Method\n",
    "- Inline Class\n",
    "- Inline Method\n",
    "- Inline Module\n",
    "- ~~Inline Temp~~\n",
    "- Introduce Assertion\n",
    "- Introduce Class Annotation\n",
    "- Introduce Expression Builder\n",
    "- Introduce Foreign Method\n",
    "- Introduce Gateway\n",
    "- Introduce Local Extension\n",
    "- Introduce Named Parameter\n",
    "- Introduce Null Object\n",
    "- Introduce Parameter Object\n",
    "- Isolate Dynamic Receptor\n",
    "- Lazily Initialized Attribute\n",
    "- Method Definition\n",
    "- Move Eval from Runtime to Parse Time\n",
    "- Move Field\n",
    "- Move Method\n",
    "- Parametize Method\n",
    "- Preserve Whole Object\n",
    "- Pull Down Field\n",
    "- Pull Down Method\n",
    "- Pull Up Constructor Body\n",
    "- Pull Up Field\n",
    "- Pull Up Method\n",
    "- Recompose Conditional\n",
    "- Remove Assignments to Parameters\n",
    "- Remove Assignments to Parameters\n",
    "- Remove Control Flag\n",
    "- Remove Middle Man\n",
    "- Remove Named Parameter Remove Parameter\n",
    "- Remove Setting Method\n",
    "- Remove Unused Default Parameter\n",
    "- ~~Rename Method~~\n",
    "- Replace Abstract Superclass with Module\n",
    "- Replace Array with Object\n",
    "- Replace Conditional with Polymorphism\n",
    "- Replace Constructor with Factory Method\n",
    "- Replace Data Value with Object\n",
    "- Replace Delegation With Hierarchy\n",
    "- Replace Delegation With Inheritance\n",
    "- Replace Dynamic Receptor with Dynamic\n",
    "- Replace Error Code with Exception\n",
    "- Replace Exception with Test\n",
    "- Replace Hash with Object\n",
    "- Replace Inheritance With Delegation\n",
    "- Replace Loop with Collection Closure Method\n",
    "- Replace Magic Number with Symbolic\n",
    "- Replace Method With Method Object\n",
    "- Replace Nested Conditional with Guard\n",
    "- Replace Parameter with Explicit Methods\n",
    "- Replace Parameter with Method\n",
    "- Replace Record with Data Class\n",
    "- Replace Subclass with Fields\n",
    "- Replace Temp with Chain\n",
    "- Replace Temp with Query\n",
    "- Replace Type Code with Class\n",
    "- Replace Type Code with Module Extention\n",
    "- Replace Type Code with Polymorphism\n",
    "- Replace Type Code with State/Strategy\n",
    "- Replace Type Code with Subclasses\n",
    "- Self Encapsulate Field\n",
    "- Separate Query from Modifier\n",
    "- Split Temporary Variable\n",
    "- Substitute Algorithm"
   ]
  },
  {
   "cell_type": "markdown",
   "id": "practical-missile",
   "metadata": {
    "ExecuteTime": {
     "end_time": "2021-02-19T09:48:59Z",
     "start_time": "2021-02-19T09:48:59.122Z"
    }
   },
   "source": [
    "## Change Value to Reference\n",
    "\n",
    "todo\n"
   ]
  },
  {
   "cell_type": "markdown",
   "id": "material-asthma",
   "metadata": {},
   "source": [
    "## Inline Temp\n",
    "\n",
    "```go\n",
    "# Before \n",
    "func HasDicount(order Order) bool {\n",
    "    int basePrice = order.BasePrice()\n",
    "    return basePrice > 1000\n",
    "}\n",
    "\n",
    "# After \n",
    "func HasDicount(order Order) bool { \n",
    "    return order.BasePrice() > 1000\n",
    "}\n",
    "```"
   ]
  },
  {
   "cell_type": "markdown",
   "id": "athletic-ranking",
   "metadata": {},
   "source": [
    "## Rename Method\n",
    "\n",
    "```go\n",
    "# Before \n",
    "func (t *this) rmdir(location string) error {\n",
    "    os.RemoveAll(location)\n",
    "}\n",
    "\n",
    "# After\n",
    "func (t *this) removeDirectory(location strin) error {\n",
    "   os.RemoveAll(location)\n",
    "}\n",
    "```"
   ]
  },
  {
   "cell_type": "code",
   "execution_count": null,
   "id": "featured-tennis",
   "metadata": {},
   "outputs": [],
   "source": [
    "https://refactoring.fm/archive"
   ]
  },
  {
   "cell_type": "code",
   "execution_count": null,
   "id": "55d31ec2",
   "metadata": {},
   "outputs": [],
   "source": []
  }
 ],
 "metadata": {
  "hide_input": false,
  "kernelspec": {
   "display_name": "Go",
   "language": "go",
   "name": "gophernotes"
  },
  "language_info": {
   "codemirror_mode": "",
   "file_extension": ".go",
   "mimetype": "",
   "name": "go",
   "nbconvert_exporter": "",
   "pygments_lexer": "",
   "version": "go1.15.8"
  },
  "toc": {
   "base_numbering": 1,
   "nav_menu": {},
   "number_sections": false,
   "sideBar": true,
   "skip_h1_title": true,
   "title_cell": "Table of Contents",
   "title_sidebar": "Contents",
   "toc_cell": false,
   "toc_position": {},
   "toc_section_display": true,
   "toc_window_display": false
  }
 },
 "nbformat": 4,
 "nbformat_minor": 5
}
