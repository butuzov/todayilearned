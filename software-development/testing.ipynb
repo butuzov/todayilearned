{
 "cells": [
  {
   "cell_type": "markdown",
   "id": "9d98743f",
   "metadata": {},
   "source": [
    "## `Test doubles`\n",
    "\n",
    "* `Dummy` is only for parameter filling, so we can pass test (`initialize` - `exercise` - `verify`).\n",
    "* `Fake` working implementation, not suitable for prod, good for tests (`initialize` - `exercise` - `verify`). \n",
    "* `Stub` dependecy that hide predefined inputs and behaviour (`initialize` - `exercise` - `verify`). \n",
    "* `Mock` is stub, where you need to define your expectations (`initialize` - `set expectations` - `exercise` - `verify`).\n",
    "* `Spy` interseptor with recorder (`initialize` - `exercise` - `verify`)\n",
    "\n",
    "\n",
    "#### Reading \n",
    "\n",
    "* https://martinfowler.com/articles/mocksArentStubs.html\n",
    "* https://stackoverflow.com/questions/3459287/whats-the-difference-between-a-mock-stub"
   ]
  },
  {
   "cell_type": "markdown",
   "id": "03a1be1a",
   "metadata": {},
   "source": [
    "##  `Given` – `When` – `Then`\n",
    "\n",
    "\n",
    "The Given-When-Then formula is a template intended to guide the writing of acceptance tests for a User Story:\n",
    "\n",
    "- (Given) some context\n",
    "- (When) some action is carried out\n",
    "- (Then) a particular set of observable consequences should obtain\n",
    "\n",
    "An example:\n",
    "\n",
    "- Given my bank account is in credit, and I made no withdrawals recently,\n",
    "- When I attempt to withdraw an amount less than my card’s limit,\n",
    "- Then the withdrawal should complete without errors or warnings\n"
   ]
  },
  {
   "cell_type": "markdown",
   "id": "52ccd99c",
   "metadata": {},
   "source": [
    "## `!test`\n",
    "\n",
    "A test is not a unit test if:\n",
    "\n",
    " * It talks to the database\n",
    " * It communicates across the network\n",
    " * It touches the file system\n",
    " * It can't run at the same time as any of your other unit tests\n",
    " * You have to do special things to your environment to run it."
   ]
  },
  {
   "cell_type": "code",
   "execution_count": null,
   "id": "04cbe3eb",
   "metadata": {},
   "outputs": [],
   "source": []
  }
 ],
 "metadata": {
  "hide_input": false,
  "kernelspec": {
   "display_name": "Python 3",
   "language": "python",
   "name": "python3"
  },
  "language_info": {
   "codemirror_mode": {
    "name": "ipython",
    "version": 3
   },
   "file_extension": ".py",
   "mimetype": "text/x-python",
   "name": "python",
   "nbconvert_exporter": "python",
   "pygments_lexer": "ipython3",
   "version": "3.8.8"
  },
  "toc": {
   "base_numbering": 1,
   "nav_menu": {},
   "number_sections": false,
   "sideBar": true,
   "skip_h1_title": true,
   "title_cell": "Table of Contents",
   "title_sidebar": "Contents",
   "toc_cell": false,
   "toc_position": {},
   "toc_section_display": true,
   "toc_window_display": false
  }
 },
 "nbformat": 4,
 "nbformat_minor": 5
}
