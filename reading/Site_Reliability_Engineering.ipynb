{
 "cells": [
  {
   "cell_type": "markdown",
   "id": "5ca4b7c4",
   "metadata": {},
   "source": [
    "# Site Reliability Engineering"
   ]
  },
  {
   "cell_type": "markdown",
   "id": "85298686",
   "metadata": {},
   "source": [
    "## Introduction "
   ]
  },
  {
   "cell_type": "markdown",
   "id": "19d902f3",
   "metadata": {},
   "source": [
    "## The Production Environment at Google, from the Viewpoint of an SRE. "
   ]
  },
  {
   "cell_type": "markdown",
   "id": "27e8efdf",
   "metadata": {},
   "source": [
    "## Embracing Risk"
   ]
  },
  {
   "cell_type": "markdown",
   "id": "ac3363e5",
   "metadata": {},
   "source": [
    "## Service Level Objectives."
   ]
  },
  {
   "cell_type": "markdown",
   "id": "3c3c94cf",
   "metadata": {},
   "source": [
    "## Eliminating Toil."
   ]
  },
  {
   "cell_type": "markdown",
   "id": "92e9363b",
   "metadata": {},
   "source": [
    "## Monitoring Distributed Systems."
   ]
  },
  {
   "cell_type": "markdown",
   "id": "b0214a08",
   "metadata": {},
   "source": [
    "## The Evolution of Automation at Google.|"
   ]
  },
  {
   "cell_type": "markdown",
   "id": "c9991c5b",
   "metadata": {},
   "source": [
    "## Release Engineering."
   ]
  },
  {
   "cell_type": "markdown",
   "id": "4541d78c",
   "metadata": {},
   "source": [
    "## Simplicity. "
   ]
  },
  {
   "cell_type": "markdown",
   "id": "b3887ac2",
   "metadata": {},
   "source": [
    "## Practical Alerting from Time-Series Data."
   ]
  },
  {
   "cell_type": "markdown",
   "id": "ae2ea568",
   "metadata": {},
   "source": [
    "## Being On-Call. "
   ]
  },
  {
   "cell_type": "markdown",
   "id": "28034a9b",
   "metadata": {},
   "source": [
    "## Effective Troubleshooting. "
   ]
  },
  {
   "cell_type": "markdown",
   "id": "16199fce",
   "metadata": {},
   "source": [
    "## Emergency Response. \n"
   ]
  },
  {
   "cell_type": "markdown",
   "id": "a8c040b9",
   "metadata": {},
   "source": [
    "## Managing Incidents.  \n"
   ]
  },
  {
   "cell_type": "markdown",
   "id": "9eec2401",
   "metadata": {},
   "source": [
    "## Postmortem Culture: Learning from Failure. \n"
   ]
  },
  {
   "cell_type": "markdown",
   "id": "b2f5638f",
   "metadata": {},
   "source": [
    "## Tracking Outages.  \n"
   ]
  },
  {
   "cell_type": "markdown",
   "id": "5a07cacb",
   "metadata": {},
   "source": [
    "## Testing for Reliability.  \n"
   ]
  },
  {
   "cell_type": "markdown",
   "id": "37de9b1d",
   "metadata": {},
   "source": [
    "## Software Engineering in SRE.  \n"
   ]
  },
  {
   "cell_type": "markdown",
   "id": "9ce13472",
   "metadata": {},
   "source": [
    "## Load Balancing at the Frontend.  \n"
   ]
  },
  {
   "cell_type": "markdown",
   "id": "ef2c91b5",
   "metadata": {},
   "source": [
    "## Load Balancing in the Datacenter.  \n"
   ]
  },
  {
   "cell_type": "markdown",
   "id": "06fa5d0e",
   "metadata": {},
   "source": [
    "## Handling Overload.  \n"
   ]
  },
  {
   "cell_type": "markdown",
   "id": "a57408f8",
   "metadata": {},
   "source": [
    "## Addressing Cascading Failures. \n"
   ]
  },
  {
   "cell_type": "markdown",
   "id": "13926072",
   "metadata": {},
   "source": [
    "## Managing Critical State: Distributed Consensus for Reliability.  \n"
   ]
  },
  {
   "cell_type": "markdown",
   "id": "37e80a6b",
   "metadata": {},
   "source": [
    "## Distributed Periodic Scheduling with Cron.  \n"
   ]
  },
  {
   "cell_type": "markdown",
   "id": "2ef8af33",
   "metadata": {},
   "source": [
    "## Data Processing Pipelines.  \n"
   ]
  },
  {
   "cell_type": "markdown",
   "id": "500b68e6",
   "metadata": {},
   "source": [
    "## Data Integrity: What You Read Is What You Wrote. \n"
   ]
  },
  {
   "cell_type": "markdown",
   "id": "c0a5bdeb",
   "metadata": {},
   "source": [
    "## Reliable Product Launches at Scale.  \n"
   ]
  },
  {
   "cell_type": "markdown",
   "id": "27b9a74e",
   "metadata": {},
   "source": [
    "## Accelerating SREs to On-Call and Beyond.  \n"
   ]
  },
  {
   "cell_type": "markdown",
   "id": "cf8dfd64",
   "metadata": {},
   "source": [
    "## Dealing with Interrupts.  \n"
   ]
  },
  {
   "cell_type": "markdown",
   "id": "a23cef93",
   "metadata": {},
   "source": [
    "## Embedding an SRE to Recover from Operational Overload. \n"
   ]
  },
  {
   "cell_type": "markdown",
   "id": "caa6e09a",
   "metadata": {},
   "source": [
    "## Communication and Collaboration in SRE.  \n"
   ]
  },
  {
   "cell_type": "markdown",
   "id": "baa90414",
   "metadata": {},
   "source": [
    "## The Evolving SRE Engagement Model.  "
   ]
  },
  {
   "cell_type": "markdown",
   "id": "a77505be",
   "metadata": {},
   "source": [
    "## Lessons Learned from Other Industries.   "
   ]
  },
  {
   "cell_type": "markdown",
   "id": "f1deb50a",
   "metadata": {},
   "source": [
    "## Conclusion. "
   ]
  }
 ],
 "metadata": {
  "hide_input": false,
  "kernelspec": {
   "display_name": "Python 3 (ipykernel)",
   "language": "python",
   "name": "python3"
  },
  "language_info": {
   "codemirror_mode": {
    "name": "ipython",
    "version": 3
   },
   "file_extension": ".py",
   "mimetype": "text/x-python",
   "name": "python",
   "nbconvert_exporter": "python",
   "pygments_lexer": "ipython3",
   "version": "3.8.8"
  },
  "toc": {
   "base_numbering": 1,
   "nav_menu": {},
   "number_sections": true,
   "sideBar": true,
   "skip_h1_title": true,
   "title_cell": "Table of Contents",
   "title_sidebar": "Contents",
   "toc_cell": false,
   "toc_position": {},
   "toc_section_display": true,
   "toc_window_display": true
  }
 },
 "nbformat": 4,
 "nbformat_minor": 5
}
