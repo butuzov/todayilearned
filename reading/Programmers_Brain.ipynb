{
 "cells": [
  {
   "cell_type": "markdown",
   "id": "1395401b",
   "metadata": {},
   "source": [
    "# Programmer's Brain"
   ]
  },
  {
   "cell_type": "markdown",
   "id": "d6a1e48b",
   "metadata": {},
   "source": [
    "## READING CODE BETTER"
   ]
  },
  {
   "cell_type": "markdown",
   "id": "4a276eb0",
   "metadata": {},
   "source": [
    "### Decoding Your Confusion While Coding"
   ]
  },
  {
   "cell_type": "markdown",
   "id": "d0a289bc",
   "metadata": {
    "ExecuteTime": {
     "end_time": "2021-09-05T12:01:36.301364Z",
     "start_time": "2021-09-05T12:01:36.291833Z"
    }
   },
   "source": [
    "### Speed Reading For Code"
   ]
  },
  {
   "cell_type": "markdown",
   "id": "bdfdc42e",
   "metadata": {},
   "source": [
    "#### Summary \n",
    "\n",
    "- The STM has a capacity of two to six elements.\n",
    "- To overcome the size limitation, your STM collaborates with your LTM when you remember information.\n",
    "- When you read new information, your brain tries to divide the information into recognizable parts called chunks.\n",
    "- When you lack enough knowledge in your LTM, you have to rely on low-level reading of code, like letters and keywords. When doing that, you will quickly run out of space in your STM.\n",
    "- When your LTM stores enough relevant information, you can remember abstract concepts like “a for-loop in Java” or “selection sort in Python” instead of the code at a lower level, occupying less space in your STM.\n",
    "- When you read code, it is first stored in the iconic memory. Only a bit of the code is subsequently sent to the STM.\n",
    "- Remembering code can be used as a tool for (self) diagnosis of your knowledge of coding. Because you can most easily remember what you already know, the parts of code that you remember can reveal the design patterns, programming constructs, and domain concepts you are most familiar with.\n",
    "- Code can contain characteristics that make it easier to process, such as design patterns, comments, and explicit beacons."
   ]
  },
  {
   "cell_type": "markdown",
   "id": "26c4b951",
   "metadata": {},
   "source": [
    "#### Excersize\n",
    "\n",
    "\n",
    "1. Select Code (max 50 lines)\n",
    "2. Study code (max 2 minutes)\n",
    "3. Reproduce code (retype it)\n",
    "4. Reflect:\n",
    "    - Which parts did you produce correctly with ease?\n",
    "    - Are there any parts of the code that you reproduced partly?\n",
    "    - Are there parts of the code that you missed entirely?\n",
    "    - Do you understand why you missed the lines that you did?\n",
    "    - Do the lines of code that you missed contain programming concepts that are anfamiliar to you?\n",
    "    - Do the lines of code that you missed contain domain concepts that are unfamil- iar to you?\n",
    "5. Compare with someone else (optional)"
   ]
  },
  {
   "cell_type": "markdown",
   "id": "7f62b37f",
   "metadata": {},
   "source": [
    "### How To Learn Programming Syntax More Quickly "
   ]
  },
  {
   "cell_type": "markdown",
   "id": "b1f48c20",
   "metadata": {},
   "source": [
    "#### Excersize (remembering new programming concepts)\n",
    "\n",
    "- What concepts does this new concept make you think of? Write down all the related concepts.\n",
    "- Then, for each of the related concepts you can think of, answer these questions:\n",
    "    * Why does the new concept make me think of this concept that I already\n",
    "know?\n",
    "    * Does it share syntax?\n",
    "    * Is it used in a similar context?\n",
    "    * Is this new concept an alternative to one I already know?\n",
    "- What other ways do you know to write code to achieve the same goal? Try to cre- ate as many variants of this code snippet as you can.\n",
    "- Do other programming languages also have this concept? Can you write down examples of other languages that support similar operations? How do they dif- fer from the concept at hand?\n",
    "- Does this concept fit a certain paradigm, domain, library, or framework?"
   ]
  },
  {
   "cell_type": "markdown",
   "id": "063c4c35",
   "metadata": {},
   "source": [
    "#### Summary"
   ]
  },
  {
   "cell_type": "markdown",
   "id": "80724e26",
   "metadata": {
    "ExecuteTime": {
     "end_time": "2021-09-08T02:48:12.750370Z",
     "start_time": "2021-09-08T02:48:12.716251Z"
    }
   },
   "source": [
    "- It’s important to know quite a bit of syntax by heart because more syntax knowl- edge will ease chunking. Also, looking up syntax can interrupt your work.\n",
    "- You can use flashcards to practice and remember new syntax, with a prompt on one side and code on the other side.\n",
    "- It’s important to practice new information regularly to fight memory decay.\n",
    "- The best kind of practice is retrieval practice, where you try to remember information before looking it up.\n",
    "- To maximize the amount of knowledge you remember, spread your practice\n",
    "over time.\n",
    "- Information in your LTM is stored as a connected network of related facts.\n",
    "- Active elaboration of new information helps strengthen the network of memories the new memory will connect to, easing retrieval."
   ]
  },
  {
   "cell_type": "markdown",
   "id": "ff214b52",
   "metadata": {},
   "source": [
    "### How To Read Complex Code"
   ]
  },
  {
   "cell_type": "markdown",
   "id": "92165500",
   "metadata": {
    "ExecuteTime": {
     "end_time": "2021-09-05T12:01:57.282394Z",
     "start_time": "2021-09-05T12:01:57.278627Z"
    }
   },
   "source": [
    "## THINKING ABOUT CODE"
   ]
  },
  {
   "cell_type": "markdown",
   "id": "5848c0cd",
   "metadata": {},
   "source": [
    "### Reaching A Deeper Understanding Of Code"
   ]
  },
  {
   "cell_type": "markdown",
   "id": "06eb909e",
   "metadata": {
    "ExecuteTime": {
     "end_time": "2021-09-05T12:04:54.401792Z",
     "start_time": "2021-09-05T12:04:54.396985Z"
    }
   },
   "source": [
    "### Getting Better At Solving Programming Problems"
   ]
  },
  {
   "cell_type": "markdown",
   "id": "f73c35db",
   "metadata": {
    "ExecuteTime": {
     "end_time": "2021-09-05T12:04:54.631393Z",
     "start_time": "2021-09-05T12:04:54.624850Z"
    }
   },
   "source": [
    "### Misconceptions: Bugs In Thinking"
   ]
  },
  {
   "cell_type": "markdown",
   "id": "ace02d37",
   "metadata": {},
   "source": [
    "## WRITING CODE BETTER"
   ]
  },
  {
   "cell_type": "markdown",
   "id": "d8a11df2",
   "metadata": {},
   "source": [
    "### How To Get Better At Naming Things "
   ]
  },
  {
   "cell_type": "markdown",
   "id": "6bc63c9f",
   "metadata": {},
   "source": [
    "### Avoiding Bad Code And Cognitive Load: Two Frameworks"
   ]
  },
  {
   "cell_type": "markdown",
   "id": "23a014b8",
   "metadata": {},
   "source": [
    "### Getting Better At Solving Complex Problemsaa"
   ]
  },
  {
   "cell_type": "markdown",
   "id": "abdced22",
   "metadata": {},
   "source": [
    "## COLLABORATING ON CODE"
   ]
  },
  {
   "cell_type": "markdown",
   "id": "d977b262",
   "metadata": {},
   "source": [
    "### The Act Of Writing Code"
   ]
  },
  {
   "cell_type": "markdown",
   "id": "dbc20fc6",
   "metadata": {},
   "source": [
    "### Designing And Improving Larger Systems"
   ]
  },
  {
   "cell_type": "markdown",
   "id": "928feda3",
   "metadata": {},
   "source": [
    "### How To Onboard New Developers"
   ]
  },
  {
   "cell_type": "markdown",
   "id": "6c6aff0b",
   "metadata": {},
   "source": []
  },
  {
   "cell_type": "markdown",
   "id": "5b053487",
   "metadata": {},
   "source": []
  },
  {
   "cell_type": "markdown",
   "id": "9beda4c5",
   "metadata": {},
   "source": []
  }
 ],
 "metadata": {
  "hide_input": false,
  "kernelspec": {
   "display_name": "Python 3 (ipykernel)",
   "language": "python",
   "name": "python3"
  },
  "language_info": {
   "codemirror_mode": {
    "name": "ipython",
    "version": 3
   },
   "file_extension": ".py",
   "mimetype": "text/x-python",
   "name": "python",
   "nbconvert_exporter": "python",
   "pygments_lexer": "ipython3",
   "version": "3.8.8"
  },
  "toc": {
   "base_numbering": 1,
   "nav_menu": {},
   "number_sections": true,
   "sideBar": true,
   "skip_h1_title": true,
   "title_cell": "Table of Contents",
   "title_sidebar": "Contents",
   "toc_cell": false,
   "toc_position": {},
   "toc_section_display": true,
   "toc_window_display": true
  }
 },
 "nbformat": 4,
 "nbformat_minor": 5
}
