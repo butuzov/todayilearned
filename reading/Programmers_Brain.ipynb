{
 "cells": [
  {
   "cell_type": "markdown",
   "id": "1395401b",
   "metadata": {},
   "source": [
    "# Programmer's Brain\n",
    "\n",
    "\n",
    "Notes on https://www.manning.com/books/the-programmers-brain "
   ]
  },
  {
   "cell_type": "markdown",
   "id": "d6a1e48b",
   "metadata": {},
   "source": [
    "## READING CODE BETTER"
   ]
  },
  {
   "cell_type": "markdown",
   "id": "4a276eb0",
   "metadata": {},
   "source": [
    "### Decoding Your Confusion While Coding"
   ]
  },
  {
   "cell_type": "markdown",
   "id": "d21c2574",
   "metadata": {},
   "source": [
    "Confusion\n",
    "\n",
    "It identifies three things. Lack of Knowledge, Lack of Information and Lack of Processing Power.\n",
    "\n",
    "- lack of information - basically, you don’t know enough about the project / code you are looking at\n",
    "- lack of knowledge - you lack knowledge about the thing you are doing, i.e.: some obscure language syntax you are unfamiliar with\n",
    "- lack of processing power - the code chunk you are looking at is too large, or you should break it down\n"
   ]
  },
  {
   "cell_type": "markdown",
   "id": "d0a289bc",
   "metadata": {
    "ExecuteTime": {
     "end_time": "2021-09-05T12:01:36.301364Z",
     "start_time": "2021-09-05T12:01:36.291833Z"
    }
   },
   "source": [
    "### Speed Reading For Code"
   ]
  },
  {
   "cell_type": "markdown",
   "id": "bdfdc42e",
   "metadata": {},
   "source": [
    "#### Summary \n",
    "\n",
    "- The STM has a capacity of two to six elements.\n",
    "- To overcome the size limitation, your STM collaborates with your LTM when you remember information.\n",
    "- When you read new information, your brain tries to divide the information into recognizable parts called chunks.\n",
    "- When you lack enough knowledge in your LTM, you have to rely on low-level reading of code, like letters and keywords. When doing that, you will quickly run out of space in your STM.\n",
    "- When your LTM stores enough relevant information, you can remember abstract concepts like “a for-loop in Java” or “selection sort in Python” instead of the code at a lower level, occupying less space in your STM.\n",
    "- When you read code, it is first stored in the iconic memory. Only a bit of the code is subsequently sent to the STM.\n",
    "- Remembering code can be used as a tool for (self) diagnosis of your knowledge of coding. Because you can most easily remember what you already know, the parts of code that you remember can reveal the design patterns, programming constructs, and domain concepts you are most familiar with.\n",
    "- Code can contain characteristics that make it easier to process, such as design patterns, comments, and explicit beacons."
   ]
  },
  {
   "cell_type": "markdown",
   "id": "26c4b951",
   "metadata": {},
   "source": [
    "#### Excersize\n",
    "\n",
    "\n",
    "1. Select Code (max 50 lines)\n",
    "2. Study code (max 2 minutes)\n",
    "3. Reproduce code (retype it)\n",
    "4. Reflect:\n",
    "    - Which parts did you produce correctly with ease?\n",
    "    - Are there any parts of the code that you reproduced partly?\n",
    "    - Are there parts of the code that you missed entirely?\n",
    "    - Do you understand why you missed the lines that you did?\n",
    "    - Do the lines of code that you missed contain programming concepts that are anfamiliar to you?\n",
    "    - Do the lines of code that you missed contain domain concepts that are unfamil- iar to you?\n",
    "5. Compare with someone else (optional)"
   ]
  },
  {
   "cell_type": "markdown",
   "id": "7f62b37f",
   "metadata": {},
   "source": [
    "### How To Learn Programming Syntax More Quickly "
   ]
  },
  {
   "cell_type": "markdown",
   "id": "b1f48c20",
   "metadata": {},
   "source": [
    "#### Excersize (remembering new programming concepts)\n",
    "\n",
    "- What concepts does this new concept make you think of? Write down all the related concepts.\n",
    "- Then, for each of the related concepts you can think of, answer these questions:\n",
    "    * Why does the new concept make me think of this concept that I already\n",
    "know?\n",
    "    * Does it share syntax?\n",
    "    * Is it used in a similar context?\n",
    "    * Is this new concept an alternative to one I already know?\n",
    "- What other ways do you know to write code to achieve the same goal? Try to cre- ate as many variants of this code snippet as you can.\n",
    "- Do other programming languages also have this concept? Can you write down examples of other languages that support similar operations? How do they dif- fer from the concept at hand?\n",
    "- Does this concept fit a certain paradigm, domain, library, or framework?"
   ]
  },
  {
   "cell_type": "markdown",
   "id": "063c4c35",
   "metadata": {},
   "source": [
    "#### Summary"
   ]
  },
  {
   "cell_type": "markdown",
   "id": "80724e26",
   "metadata": {
    "ExecuteTime": {
     "end_time": "2021-09-08T02:48:12.750370Z",
     "start_time": "2021-09-08T02:48:12.716251Z"
    }
   },
   "source": [
    "- It’s important to know quite a bit of syntax by heart because more syntax knowl- edge will ease chunking. Also, looking up syntax can interrupt your work.\n",
    "- You can use flashcards to practice and remember new syntax, with a prompt on one side and code on the other side.\n",
    "- It’s important to practice new information regularly to fight memory decay.\n",
    "- The best kind of practice is retrieval practice, where you try to remember information before looking it up.\n",
    "- To maximize the amount of knowledge you remember, spread your practice\n",
    "over time.\n",
    "- Information in your LTM is stored as a connected network of related facts.\n",
    "- Active elaboration of new information helps strengthen the network of memories the new memory will connect to, easing retrieval."
   ]
  },
  {
   "cell_type": "markdown",
   "id": "ff214b52",
   "metadata": {},
   "source": [
    "### How To Read Complex Code"
   ]
  },
  {
   "cell_type": "markdown",
   "id": "cec76be3",
   "metadata": {},
   "source": [
    "- Cognitive load represents the limit of what the working memory can process. When you experience too much cognitive load, you cannot properly process code.\n",
    "- There are two types of cognitive load that are relevant in programming: intrinsic cognitive load is created by the inherent complexity of a piece of code, while extraneous cognitive load is added to code either accidentally (by the way it is presented) or because of gaps in the knowledge of the person reading the code.\n",
    "- Refactoring is a way to reduce extraneous cognitive load by transforming code to align better with your prior knowledge.\n",
    "- Creating a __dependency graph__ can help you understand a piece of complex and interconnected code.\n",
    "- Creating a __state table__ containing the intermediate values of variables can aid in reading code that is heavy on calculations."
   ]
  },
  {
   "cell_type": "markdown",
   "id": "92165500",
   "metadata": {
    "ExecuteTime": {
     "end_time": "2021-09-05T12:01:57.282394Z",
     "start_time": "2021-09-05T12:01:57.278627Z"
    }
   },
   "source": [
    "## THINKING ABOUT CODE"
   ]
  },
  {
   "cell_type": "markdown",
   "id": "5848c0cd",
   "metadata": {},
   "source": [
    "### Reaching A Deeper Understanding Of Code"
   ]
  },
  {
   "cell_type": "markdown",
   "id": "2ab81f48",
   "metadata": {},
   "source": [
    "- _`Fixed value`_ — A variable whose value does not change after initialization plays the role of a fixed value. This can be a constant value if the programming lan- guage you are using allows for values to be fixed, or it can be a variable that is initialized once and afterward is not changed. Examples of fixed-value variables include mathematical constants like pi, or data read from a file or database.\n",
    "- _`Stepper`_ — When iterating in a loop, there is always a variable stepping through a list of values. That is the role of the stepper, whose value can be predicted as soon as the succession starts. This can be an integer, like the canonical i iterating in a for- loop, but more complicated steppers are also possible, like size = size / 2 in a binary search, where the size of the array to be searched is cut in half on every iteration.\n",
    "\n",
    "- _`Flag`_ — A variable used to indicate that something has happened or is the case. Typical examples are `is_set`, `is_available`, or `is_error`. Flags are often `Booleans`, but they can be integers or even strings.\n",
    "\n",
    "- _`Walker`_ — A walker traverses a data structure, similar to a stepper. The difference lies in the way the data structure is traversed. A stepper always iterates over a list of values that are known beforehand, like in a for-loop in Python: `for i in range(0, n)`. A walker, on the other hand, is a variable that traverses a data structure in a way that is unknown before the loop starts. Depending on the programming language, walkers can be pointers or integer indices. Walkers can traverse lists, for example in binary search, but more often traverse data struc- tures like a stack or a tree. Examples of a walker are a variable that is traversing a linked list to find the position where a new element should be added or a search index in a binary tree.\n",
    "\n",
    "- _`Most recent holder`_ — A variable that holds the latest value encountered in going through a series of values is a most recent holder. For example, it might store the latest line read from a file (line = file.readline()), or a copy of the array element last referenced by a stepper (element = list[i]).\n",
    "\n",
    "- _`Most wanted holder`_ — Often when you are iterating over a list of values, you are doing that to search for a certain value. The variable that holds that value, or the best value found so far, is what we call a most wanted holder. Canonical examples of a most wanted holder are a variable that stores a minimum value, a maximum value, or the first value meeting a certain condition.\n",
    "\n",
    "- _`Gatherer`_ — A gatherer is a variable that collects data and aggregates it into one value. This can be a variable that starts at zero and collects values while iterating through a loop, like this:\n",
    "\n",
    "  ```python\n",
    "  sum = 0\n",
    "  for i in range(list):\n",
    "      sum += list[i]\n",
    "  ```\n",
    "  Its value can, however, also be calculated directly in functional languages or lan- guages that encompass certain functional aspects:`functional_total=sum(list)`. \n",
    "\n",
    "- _`Container`_ — A container is any data structure that holds multiple elements that can be added and removed. Examples of containers are lists, arrays, stacks, and trees.\n",
    "\n",
    "- _`Follower`_ — Some algorithms require you to keep track of a previous or subse- quent value. A variable in this role is called a follower and is always coupled to another variable. Examples of follower variables are a pointer that points to a previous element in a linked list when traversing the list, or the lower index in a binary search.\n",
    "\n",
    "- _`Organizer`_ — Sometimes a variable has to be transformed in some way for further processing. For example, in some languages, you cannot access individual char- acters in a string without converting the string to a character array first, or you may want to store a sorted version of a given list. These are examples of organiz- ers, which are variables that are only used for rearranging or storing values dif- ferently. Often, they are temporary variables.\n",
    "\n",
    "- _`Temporary`_ — Temporary variables are variables that are used only briefly and are often called temp or t. These variables may be used to swap data or to store the result of a computation that is used multiple times in a method or a fucntion."
   ]
  },
  {
   "cell_type": "markdown",
   "id": "06eb909e",
   "metadata": {
    "ExecuteTime": {
     "end_time": "2021-09-05T12:04:54.401792Z",
     "start_time": "2021-09-05T12:04:54.396985Z"
    }
   },
   "source": [
    "### Getting Better At Solving Programming Problems"
   ]
  },
  {
   "cell_type": "markdown",
   "id": "39b8b8d5",
   "metadata": {},
   "source": [
    "What **mental models** you will use to think about code partly depends on the domain, the programming language, and the architecture of the code. However, some things are generally worth using:\n",
    "- Data structures, such as directed and undirected graphs and different forms of lists \n",
    "- Design patterns, such as the observer pattern\n",
    "- Architectural patterns, such as Model–View–Controller\n",
    "- Diagrams, such as entity relationship diagrams or sequence diagrams\n",
    "- Modeling tools, such as state diagrams or Petri nets\n"
   ]
  },
  {
   "cell_type": "markdown",
   "id": "f73c35db",
   "metadata": {
    "ExecuteTime": {
     "end_time": "2021-09-05T12:04:54.631393Z",
     "start_time": "2021-09-05T12:04:54.624850Z"
    }
   },
   "source": [
    "### Misconceptions: Bugs In Thinking"
   ]
  },
  {
   "cell_type": "markdown",
   "id": "f92300e9",
   "metadata": {},
   "source": [
    "In regular conversation, the word “misconception” is often used as a synonym for a mistake or for being confused, but the formal definition is slightly different. For a belief to be a misconception, it must:\n",
    "- be faulty,\n",
    "- be held consistently, across different situations, and \n",
    "- be held with confidence.\n"
   ]
  },
  {
   "cell_type": "markdown",
   "id": "128674c6",
   "metadata": {},
   "source": [
    "Summary:\n",
    "    \n",
    "- Knowledge you already have stored in your LTM can be transferred to new situ- ations. Sometimes existing knowledge helps you learn faster or perform new tasks better. This is called positive transfer.\n",
    "- Transfer of knowledge from one domain to another can also be negative, which happens when existing knowledge interferes with learning new things or exe- cuting new tasks.\n",
    "- You can use positive transfer to learn new things more effectively by actively searching for related information in your LTM (for example, by elaboration, as covered earlier in the book).\n",
    "- You may hold misconceptions, which occur when you are sure you are right but are actually wrong.\n",
    "- Misconceptions are not always addressed by simply realizing or being told you are wrong. For misconceptions to be fixed, you need a new mental model to replace the old, wrong model.\n",
    "- Even if you have learned a correct model, there is always the risk you will fall back to using the misconception.\n",
    "- Use tests and documentation within a codebase to help prevent misconceptions."
   ]
  },
  {
   "cell_type": "markdown",
   "id": "ace02d37",
   "metadata": {},
   "source": [
    "## WRITING CODE BETTER"
   ]
  },
  {
   "cell_type": "markdown",
   "id": "d8a11df2",
   "metadata": {},
   "source": [
    "### How To Get Better At Naming Things "
   ]
  },
  {
   "cell_type": "markdown",
   "id": "f3082520",
   "metadata": {},
   "source": [
    "https://peter.bourgon.org/blog/2019/04/24/go-naming-tips.html\n",
    "\n",
    "- Structs are plain nouns: API, Replica, Object\n",
    "- Interfaces are active nouns: Reader, Writer, JobProcessor\n",
    "- Functions and methods are verbs: Read, Process, Sync"
   ]
  },
  {
   "cell_type": "markdown",
   "id": "19ca37b5",
   "metadata": {},
   "source": [
    "Feitelson designed a three-step model to help developers choose better names:\n",
    "\n",
    "1. Select the concepts to include in the name.\n",
    "2. Choose the words to represent each concept.\n",
    "3. Construct a name using these words."
   ]
  },
  {
   "cell_type": "markdown",
   "id": "e5a10997",
   "metadata": {},
   "source": [
    "general tips\n",
    "\n",
    "- Make sure you completely understand the domain\n",
    "- Simplify the code\n",
    "- Avoid bad code and cognitive load"
   ]
  },
  {
   "cell_type": "markdown",
   "id": "6bc63c9f",
   "metadata": {},
   "source": [
    "### Avoiding Bad Code And Cognitive Load: Two Frameworks"
   ]
  },
  {
   "cell_type": "markdown",
   "id": "903eac56",
   "metadata": {},
   "source": [
    "Refactorings defiend by Fauler's book (avoid it).\n",
    "\n",
    "#### Method Level\n",
    "- Long Methods\n",
    "- Long Parameter List\n",
    "- Switch statements\n",
    "\n",
    "#### Class Level \n",
    "- Alternative Classes with different Interfaces\n",
    "- Primitive obsession  \n",
    "- Incomplete Library class  \n",
    "- Large Class\n",
    "- Lazy Class \n",
    "- Data Class \n",
    "- Temp fields\n",
    "- Data Clumps\n",
    "\n",
    "#### Codebase level \n",
    "\n",
    "- Divergent Change | Shotgun surgery  \n",
    "- Feature Envy\n",
    "- Inappropriate intimacy  \n",
    "- Duplicate code or code clones\n",
    "- Superflouse comments\n",
    "- Message Chains  \n",
    "- Middle man \n",
    "- Refused bequest  \n",
    "- Speculative generality  "
   ]
  },
  {
   "cell_type": "markdown",
   "id": "90e6c046",
   "metadata": {
    "ExecuteTime": {
     "end_time": "2022-01-17T13:29:14.225405Z",
     "start_time": "2022-01-17T13:29:14.208652Z"
    }
   },
   "source": [
    "- `Structural`: Code is okay, but structured in a way that is difficult to understand and process -> increases cognitive load. \n",
    "- `Linguistic`: Bad / misleading names lead to confusion and bugs."
   ]
  },
  {
   "cell_type": "markdown",
   "id": "33960e71",
   "metadata": {},
   "source": [
    "##### Summary \n",
    "- Code smells, such as long methods, indicate structural issues with code. There are different cognitive reasons why code smells cause a higher cognitive load. Duplicated code, for example, makes it harder to chunk code properly, while long parameter lists are heavy on your working memory.\n",
    "- There are different ways to measure cognitive load, including biometric sensors like measuring blinking rate or skin temperature. If you want to measure your own cognitive load, the Paas Scale typically is a reliable instrument.\n",
    "- Linguistic antipatterns indicate places in a codebase where code does some thing different than names involved suggest, leading to a higher cognitive load. This is likely caused by the fact that your LTM finds wrong facts while trying to support your thinking. Linguistic antipatterns can also lead to wrong chunking because your brain assumes a meaning of code that is not actually implemented."
   ]
  },
  {
   "cell_type": "markdown",
   "id": "23a014b8",
   "metadata": {},
   "source": [
    "### Getting Better At Solving Complex Problems"
   ]
  },
  {
   "cell_type": "markdown",
   "id": "ceb2ca42",
   "metadata": {},
   "source": [
    "> In 1945, Pólya wrote a short and famous book called How to Solve It. His book proposes a “system of thinking” to solve any problem involving three steps: \n",
    "> 1. Understanding the problem \n",
    "> 2. Devising a plan \n",
    "> 3. Carrying out the plan\n",
    ">\n",
    "> **However, despite the popularity of generic approaches, research has consistently shown that problem solving is neither a generic skill nor a cognitive process.**"
   ]
  },
  {
   "cell_type": "markdown",
   "id": "abdced22",
   "metadata": {},
   "source": [
    "## COLLABORATING ON CODE"
   ]
  },
  {
   "cell_type": "markdown",
   "id": "d977b262",
   "metadata": {},
   "source": [
    "### The Act Of Writing Code"
   ]
  },
  {
   "cell_type": "markdown",
   "id": "671fc6e5",
   "metadata": {},
   "source": [
    "Activity        | task: Executing | task: Coding | task: Testing | task: Reading | task: Refactoring | Hard On  |\n",
    "----------------|-----------------|--------------|---------------|---------------|-------------------|---------|\n",
    "Searching       |x| | |x| | Short-term memory\n",
    "Comprehension   |x| |?|x|?| Working memory\n",
    "Transcribing    | |x| | | | Long-term memory\n",
    "Incrementation  |x|x|x|x|?| All three\n",
    "Exploration     |x|x|x|x|?| All three\n"
   ]
  },
  {
   "cell_type": "markdown",
   "id": "51e85f95",
   "metadata": {},
   "source": [
    "* __*Searching*__ - code searching.\n",
    "* __*Comprehension*__ - When you are performing the activity of comprehension, you are reading and executing code to gain an understanding of its functionality\n",
    "* __*Transcription*__ - Transcription is the activity where you are “just coding.”\n",
    "* __*Incrementation*__ - Incrementation is a mix of searching, comprehension, and transcription. When you are incrementing a code base, you are adding a new feature, which is likely to include both searching for the location(s) to add code and comprehending the existing code to understand where to add code and how to do that, followed by the actual transcrib- ing of the idea into syntax.\n",
    "* __*Exploration*__ - When you are performing the activity of exploration, you are in essence sketching with code. You might have a vague idea of where you want to go, but by programming you gain clarity about the domain of the problem and about the programming constructs you will need to use."
   ]
  },
  {
   "cell_type": "markdown",
   "id": "1a9c975a",
   "metadata": {},
   "source": [
    "##### Summary \n",
    "- When you are programming, you perform a combination of different program- ming activities: searching, comprehending, transcription, incrementation, and exploration. Each activity puts pressure on different memory systems. There- fore, each activity should be supported by different techniques.\n",
    "- Interruptions while you are programming are not only annoying; they are detri- mental to productivity because it takes time to rebuild your mental model of the code.\n",
    "- To better deal with interruptions, offload mental models into notes, documen- tation, or comments.\n",
    "- Deliberately support your prospective memory if you cannot complete a task by documenting your plans.\n",
    "- Try to limit interruptions to moments you experience low cognitive load, for example, through automation using a FlowLight or manually by setting your status in Slack.\n"
   ]
  },
  {
   "cell_type": "markdown",
   "id": "dbc20fc6",
   "metadata": {},
   "source": [
    "### Designing And Improving Larger Systems"
   ]
  },
  {
   "cell_type": "markdown",
   "id": "bdb8617f",
   "metadata": {},
   "source": [
    "#### `CDCB` cognitive dimension of codebases"
   ]
  },
  {
   "cell_type": "markdown",
   "id": "e3dde840",
   "metadata": {},
   "source": [
    "- **Error Proneness** This one is mostly about type safety and how easy it is in your code to make errors.\n",
    "\n",
    "- **Consistency** How consistent is your code with itself. Naming, structure, where and why things are where they are. Paradigms, idioms being used…\n",
    "\n",
    "- **Diffuseness** How much space a programming construct takes. How long certain required syntaxes are. Things like for loops, and language structures. How compact or extent the code is.\n",
    "\n",
    "- **Hidden Dependencies** How visible are the code’s dependencies. Are there hidden things the user needs but is not apparent and not documented?\n",
    "\n",
    "- **Provisionality Exploring** ideas can help when writing code. You start writing and that will give you ideas about how to proceed further. Your vague ideas become more concrete. Some language can be used better to do this because they don’t get in your way. Like Python, JavaScript. Go is strictly typed and will scream at you if you make a mistake. That can hinder exploration.\n",
    "\n",
    "- **Viscosity** How resistant is your code to changes.\n",
    "\n",
    "- **Progressive Evaluation Similar to Provisionality, this dimensions defines how hard it is to execute partial code.\n",
    "\n",
    "- **Role expressiveness** How easy it is to see what does what. Like, in Ruby it’s difficult to see if something is a function call or a variable. thing.other. Other might be anything. Meanwhile in other languages it’s easy to see that thing() is a function.\n",
    "\n",
    "- **Closeness of Mapping** How close your program is to the domain / problem that is solved.\n",
    "\n",
    "- **Hard Mental Operations** The code requires hard mental operations, such as, deciphering obscure syntax, or understanding hard idioms like monads and difficult to follow type systems. If your project requires hard mental operations, contributors are less likely to join it.\n",
    "\n",
    "- **Secondary Notation** This one is weird. Second meaning to code, such as comments and named parameters.\n",
    "\n",
    "- **Abstraction** Can users of your system create their own abstractions which are as powerful as built in abstractions. For example functions in a programming language. In Go I would say interfaces provide this abstraction since a user of a Library can create their own Interface over some functionality of a library and use that and pass in the libraries function.\n",
    "\n",
    "- **Visibility** How easy is it to see parts of the system. Is your folder structure following your architecture layers?"
   ]
  },
  {
   "cell_type": "markdown",
   "id": "928feda3",
   "metadata": {},
   "source": [
    "### How To Onboard New Developers"
   ]
  },
  {
   "cell_type": "markdown",
   "id": "f74694ee",
   "metadata": {},
   "source": [
    "- **Don’t overload newcomers**. They need to learn a LOT about your environment, group dynamic, team procedures, issue handling, break routines… and I didn’t even begin talking about code yet…\n",
    "\n",
    "- **Once you master something you forget how difficult it was**. This is a great point we tend to forget. You have a better view of the big picture. You know parts of the code better. Beginners tend to focus on detail more and don’t see the big picture yet. You tend to think that that stuff is “easy”. Since you already forgot how difficult it is/was.\n",
    "\n",
    "- **Noticing patterns**. Even if you don’t immediately have an answer to a problem you’ll be faster in finding it. You can chunk code better, you can read code faster and spot certain patterns more efficiently since you already encountered them a hundred times over.\n",
    "\n",
    "- **Semantic Wave** This one is a really interesting concept. It depicts the ideal learning curve of a newcomer. Coin by Karl Maton. Read about it here."
   ]
  },
  {
   "cell_type": "code",
   "execution_count": null,
   "id": "33acd552",
   "metadata": {},
   "outputs": [],
   "source": []
  }
 ],
 "metadata": {
  "hide_input": false,
  "kernelspec": {
   "display_name": "Python 3 (ipykernel)",
   "language": "python",
   "name": "python3"
  },
  "language_info": {
   "codemirror_mode": {
    "name": "ipython",
    "version": 3
   },
   "file_extension": ".py",
   "mimetype": "text/x-python",
   "name": "python",
   "nbconvert_exporter": "python",
   "pygments_lexer": "ipython3",
   "version": "3.8.8"
  },
  "toc": {
   "base_numbering": 1,
   "nav_menu": {},
   "number_sections": true,
   "sideBar": true,
   "skip_h1_title": true,
   "title_cell": "Table of Contents",
   "title_sidebar": "Contents",
   "toc_cell": false,
   "toc_position": {},
   "toc_section_display": true,
   "toc_window_display": true
  }
 },
 "nbformat": 4,
 "nbformat_minor": 5
}
