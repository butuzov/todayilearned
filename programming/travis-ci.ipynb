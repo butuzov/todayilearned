{
 "cells": [
  {
   "cell_type": "markdown",
   "metadata": {},
   "source": [
    "![](travis-ci.svg)"
   ]
  },
  {
   "cell_type": "markdown",
   "metadata": {},
   "source": [
    "# Travis_CI"
   ]
  },
  {
   "cell_type": "markdown",
   "metadata": {},
   "source": [
    "Free for OpenSource CI/CD platform"
   ]
  },
  {
   "cell_type": "markdown",
   "metadata": {},
   "source": [
    "## Branches\n",
    "\n",
    "Its possible to limit travis ci only for specific branches:\n",
    "\n",
    "```yaml\n",
    "branches:\n",
    "  only:\n",
    "    - 'master'             # Master Branch\n",
    "    - '/^5\\.[0-9]+$/'      # Number based 5.0\n",
    "```"
   ]
  },
  {
   "cell_type": "markdown",
   "metadata": {},
   "source": [
    "## Environment\n",
    "\n",
    "  VARIABLE            | Values\n",
    "----------------------|-------------\n",
    " `TRAVIS_BUILD_NUMBER`| number\n",
    " `TRAVIS_OS_NAME`     | string (os name)\n",
    " `TRAVIS_COMMIT`      | sha hash\n",
    " `TRAVIS_BRANCH`      | string (branch)\n",
    " `TRAVIS_BUILD_DIR`   | string (directory)\n",
    " `TRAVIS_REPO_SLUG`   | string (repo)\n",
    " `TRAVIS_PULL_REQUEST`| string (\"true\" or \"false\")\n"
   ]
  },
  {
   "cell_type": "markdown",
   "metadata": {},
   "source": [
    "## Build Matrixes"
   ]
  },
  {
   "cell_type": "code",
   "execution_count": 3,
   "metadata": {
    "ExecuteTime": {
     "end_time": "2019-04-23T16:26:24.644517Z",
     "start_time": "2019-04-23T16:26:24.640718Z"
    }
   },
   "outputs": [],
   "source": [
    "# todo"
   ]
  },
  {
   "cell_type": "markdown",
   "metadata": {},
   "source": [
    "```yaml\n",
    "matrix:\n",
    "  include:\n",
    "  - os: linux\n",
    "    language: c\n",
    "    dist: trusty\n",
    "    sudo: required\n",
    "  - os: osx\n",
    "    language: objective-c\n",
    "    osx_image: xcode8.3\n",
    "    env:\n",
    "    - SIMULATOR=true\n",
    "\n",
    "```"
   ]
  },
  {
   "cell_type": "markdown",
   "metadata": {},
   "source": [
    "## Jobs and Stages"
   ]
  },
  {
   "cell_type": "code",
   "execution_count": 1,
   "metadata": {
    "ExecuteTime": {
     "end_time": "2019-04-23T16:25:55.671312Z",
     "start_time": "2019-04-23T16:25:55.655527Z"
    }
   },
   "outputs": [],
   "source": [
    "# todo"
   ]
  },
  {
   "cell_type": "markdown",
   "metadata": {},
   "source": [
    "## Continues Deployment"
   ]
  },
  {
   "cell_type": "code",
   "execution_count": 2,
   "metadata": {
    "ExecuteTime": {
     "end_time": "2019-04-23T16:25:59.466251Z",
     "start_time": "2019-04-23T16:25:59.462548Z"
    }
   },
   "outputs": [],
   "source": [
    "# todo"
   ]
  },
  {
   "cell_type": "markdown",
   "metadata": {},
   "source": [
    "## Notifications\n",
    "\n",
    "-  https://docs.travis-ci.com/user/notifications/"
   ]
  },
  {
   "cell_type": "markdown",
   "metadata": {},
   "source": [
    "### Email:\n",
    "\n",
    "Disable Any Email Messages:\n",
    "\n",
    "```yaml\n",
    "notifications:\n",
    "  email: false\n",
    "```\n",
    "\n",
    "Other Possible Settings\n",
    "\n",
    "```yaml\n",
    "notifications:\n",
    "  email:\n",
    "    recipients:\n",
    "    - one@example.com \n",
    "    on_success: change # default: always\n",
    "    on_failure: always # default: always\n",
    "    on_start: change   # default: never\n",
    "    on_cancel: always  # default: always\n",
    "    on_error: always   # default: always\n",
    "```"
   ]
  },
  {
   "cell_type": "markdown",
   "metadata": {},
   "source": [
    "### Telegram\n",
    "\n",
    "* bot: `@travisci_build_bot`\n",
    "\n",
    "```yaml\n",
    "notifications:\n",
    "  webhooks: https://fathomless-fjord-24024.herokuapp.com/notify\n",
    "```"
   ]
  },
  {
   "cell_type": "markdown",
   "metadata": {},
   "source": [
    "### Slack\n",
    "\n",
    "* Formating: https://api.slack.com/docs/message-formatting\n",
    "* Settings: https://docs.travis-ci.com/user/notifications/#configuring-slack-notifications\n",
    "\n",
    "```yaml\n",
    "notifications:\n",
    "  slack:\n",
    "    rooms:\n",
    "      - made-ua:XGUkOpb0PsEuqmm0CvHaNfPk#builds\n",
    "    template:\n",
    "      - '*%{repository_slug}@%{branch}*<%{compare_url}|#%{commit}> (_%{author}_) - <%{build_url}|Travis CI: Build #%{build_number}>'\n",
    "      - '*Title:* %{commit_message}'\n",
    "      - '----------------------------------------------------------------------- '\n",
    "      - '(`%{build_id}` is `%{result}`) _%{message}_ in `%{elapsed_time}`'\n",
    "\n",
    "```"
   ]
  }
 ],
 "metadata": {
  "hide_input": false,
  "kernelspec": {
   "display_name": "Python 3",
   "language": "python",
   "name": "python3"
  },
  "language_info": {
   "codemirror_mode": {
    "name": "ipython",
    "version": 3
   },
   "file_extension": ".py",
   "mimetype": "text/x-python",
   "name": "python",
   "nbconvert_exporter": "python",
   "pygments_lexer": "ipython3",
   "version": "3.7.3"
  },
  "toc": {
   "base_numbering": 1,
   "nav_menu": {},
   "number_sections": true,
   "sideBar": true,
   "skip_h1_title": true,
   "title_cell": "Table of Contents",
   "title_sidebar": "Contents",
   "toc_cell": false,
   "toc_position": {},
   "toc_section_display": true,
   "toc_window_display": true
  }
 },
 "nbformat": 4,
 "nbformat_minor": 2
}
