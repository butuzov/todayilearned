{
 "cells": [
  {
   "cell_type": "markdown",
   "metadata": {},
   "source": [
    "#### Some notes on jupyter notebook"
   ]
  },
  {
   "cell_type": "code",
   "execution_count": 1,
   "metadata": {},
   "outputs": [
    {
     "name": "stdout",
     "output_type": "stream",
     "text": [
      "Requirement already satisfied: youtube-dl in /usr/local/lib/python3.7/site-packages (2018.12.3)\r\n"
     ]
    }
   ],
   "source": [
    "#### 01. Running bash comannds in jupyter notebook\n",
    "\n",
    "# installing pip package\n",
    "!pip3 install youtube-dl\n",
    "\n",
    "# silent runs\n",
    "!pip3 install youtube-dl 2>&1 1>/dev/null\n"
   ]
  },
  {
   "cell_type": "code",
   "execution_count": 2,
   "metadata": {},
   "outputs": [
    {
     "name": "stdout",
     "output_type": "stream",
     "text": [
      "1\n"
     ]
    }
   ],
   "source": [
    "#### 02. Loading content into the cell.\n",
    "\n",
    "# %load test.py\n",
    "def test():\n",
    "    return 1\n",
    "\n",
    "\n",
    "print(\"1\")\n"
   ]
  },
  {
   "cell_type": "code",
   "execution_count": 6,
   "metadata": {},
   "outputs": [
    {
     "data": {
      "text/plain": [
       "3"
      ]
     },
     "execution_count": 6,
     "metadata": {},
     "output_type": "execute_result"
    }
   ],
   "source": [
    "#### 03. Include Code\n",
    "\n",
    "#include code\n",
    "%run test.py\n",
    "\n",
    "# use it\n",
    "test()"
   ]
  },
  {
   "cell_type": "markdown",
   "metadata": {},
   "source": [
    "#### 04. Extensions\n",
    "\n",
    "http://tljh.jupyter.org/en/latest/howto/admin/enable-extensions.html\n",
    "\n",
    "```bash\n",
    "pip install jupyter_contrib_nbextensions\n",
    "jupyter contrib nbextension install --sys-prefix\n",
    "jupyter nbextension enable scratchpad/main --sys-prefix\n",
    "jupyter nbextension list\n",
    "```\n",
    "\n",
    "##### Install extension using pip\n",
    "\n",
    "```bash\n",
    "# example of autotime\n",
    "pip install git+git://github.com/cpcloud/ipython-autotime\n",
    "```\n",
    "\n",
    "##### Usage \n",
    "```jupyter\n",
    "%load_ext autotime\n",
    "```"
   ]
  },
  {
   "cell_type": "code",
   "execution_count": null,
   "metadata": {},
   "outputs": [],
   "source": []
  }
 ],
 "metadata": {
  "kernelspec": {
   "display_name": "Python 3",
   "language": "python",
   "name": "python3"
  },
  "language_info": {
   "codemirror_mode": {
    "name": "ipython",
    "version": 3
   },
   "file_extension": ".py",
   "mimetype": "text/x-python",
   "name": "python",
   "nbconvert_exporter": "python",
   "pygments_lexer": "ipython3",
   "version": "3.7.2"
  }
 },
 "nbformat": 4,
 "nbformat_minor": 2
}
