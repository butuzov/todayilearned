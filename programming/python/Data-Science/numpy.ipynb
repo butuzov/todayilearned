{
 "cells": [
  {
   "cell_type": "markdown",
   "metadata": {},
   "source": [
    "# NumPy"
   ]
  },
  {
   "cell_type": "code",
   "execution_count": 1,
   "metadata": {
    "ExecuteTime": {
     "end_time": "2019-03-05T17:06:59.422133Z",
     "start_time": "2019-03-05T17:06:58.494227Z"
    }
   },
   "outputs": [],
   "source": [
    "# main lib\n",
    "import numpy as np\n",
    "\n",
    "# for additional examples\n",
    "import pandas as pd\n",
    "import matplotlib.pyplot as plt"
   ]
  },
  {
   "cell_type": "markdown",
   "metadata": {
    "ExecuteTime": {
     "end_time": "2019-03-04T13:59:44.655951Z",
     "start_time": "2019-03-04T13:59:44.652702Z"
    },
    "heading_collapsed": true
   },
   "source": [
    "## Creating Numpy Arrays\n",
    "\n",
    "* `array` - Convert input data (list, tuple, array, or other sequence type) to an ndarray either by inferring a dtype or explicitly specifying a dtype. Copies the input data by default.\n",
    "* `asarray` - Convert input to ndarray, but do not copy if the input is already an ndarray\n",
    "* `arange` - Like the built-in range but returns an ndarray instead of a list.\n",
    "* `ones`, `ones_like` - Produce an array of all 1’s with the given shape and dtype. ones_like takes another array and produces a ones array of the same shape and dtype.\n",
    "* `zeros`, `zeros_like` - Like ones and ones_like but producing arrays of 0’s instead\n",
    "* `empty`, `empty_like` - Create new arrays by allocating new memory, but do not populate with any values like ones and zeros\n",
    "\n",
    "* `eye`, `identity` - Create a square N x N identity matrix (1’s on the diagonal and 0’s elsewhere)"
   ]
  },
  {
   "cell_type": "code",
   "execution_count": 2,
   "metadata": {
    "ExecuteTime": {
     "end_time": "2019-03-05T17:06:59.434100Z",
     "start_time": "2019-03-05T17:06:59.425995Z"
    },
    "hidden": true
   },
   "outputs": [
    {
     "data": {
      "text/plain": [
       "array([1, 2, 3, 4])"
      ]
     },
     "execution_count": 2,
     "metadata": {},
     "output_type": "execute_result"
    }
   ],
   "source": [
    "# Regular python list\n",
    "np.array([1,2,3,4])"
   ]
  },
  {
   "cell_type": "markdown",
   "metadata": {
    "hidden": true
   },
   "source": [
    "NumPy offers several functions to create arrays with initial placeholder content\n",
    "Create an array of zeros with desired shape (x,y)\n",
    "* x == number of rows\n",
    "* y == number of columns in array"
   ]
  },
  {
   "cell_type": "code",
   "execution_count": 3,
   "metadata": {
    "ExecuteTime": {
     "end_time": "2019-03-05T17:06:59.446611Z",
     "start_time": "2019-03-05T17:06:59.437479Z"
    },
    "hidden": true
   },
   "outputs": [
    {
     "data": {
      "text/plain": [
       "array([[0., 0., 0., 0.],\n",
       "       [0., 0., 0., 0.],\n",
       "       [0., 0., 0., 0.]])"
      ]
     },
     "execution_count": 3,
     "metadata": {},
     "output_type": "execute_result"
    }
   ],
   "source": [
    "np.zeros((3,4))"
   ]
  },
  {
   "cell_type": "code",
   "execution_count": 4,
   "metadata": {
    "ExecuteTime": {
     "end_time": "2019-03-05T17:06:59.459566Z",
     "start_time": "2019-03-05T17:06:59.451775Z"
    },
    "hidden": true
   },
   "outputs": [
    {
     "data": {
      "text/plain": [
       "array([[1., 1., 1., 1.],\n",
       "       [1., 1., 1., 1.],\n",
       "       [1., 1., 1., 1.]])"
      ]
     },
     "execution_count": 4,
     "metadata": {},
     "output_type": "execute_result"
    }
   ],
   "source": [
    "np.ones((3,4))"
   ]
  },
  {
   "cell_type": "code",
   "execution_count": 5,
   "metadata": {
    "ExecuteTime": {
     "end_time": "2019-03-05T17:06:59.475845Z",
     "start_time": "2019-03-05T17:06:59.466776Z"
    },
    "hidden": true
   },
   "outputs": [
    {
     "data": {
      "text/plain": [
       "array([[1, 1, 1, 1],\n",
       "       [1, 1, 1, 1],\n",
       "       [1, 1, 1, 1]], dtype=int16)"
      ]
     },
     "execution_count": 5,
     "metadata": {},
     "output_type": "execute_result"
    }
   ],
   "source": [
    "# Using dtype in order to specify the data type\n",
    "np.ones((3,4),dtype=np.int16)"
   ]
  },
  {
   "cell_type": "code",
   "execution_count": 6,
   "metadata": {
    "ExecuteTime": {
     "end_time": "2019-03-05T17:06:59.488656Z",
     "start_time": "2019-03-05T17:06:59.479437Z"
    },
    "hidden": true
   },
   "outputs": [
    {
     "data": {
      "text/plain": [
       "array([[0.00000000e+000, 2.21431881e-314, 9.88131292e-324],\n",
       "       [            nan, 0.00000000e+000, 4.17201348e-309]])"
      ]
     },
     "execution_count": 6,
     "metadata": {},
     "output_type": "execute_result"
    }
   ],
   "source": [
    "# np.empty() is not the same as np.zeros()\n",
    "np.empty((2,3))  "
   ]
  },
  {
   "cell_type": "code",
   "execution_count": 7,
   "metadata": {
    "ExecuteTime": {
     "end_time": "2019-03-05T17:06:59.500552Z",
     "start_time": "2019-03-05T17:06:59.491710Z"
    },
    "hidden": true
   },
   "outputs": [
    {
     "data": {
      "text/plain": [
       "array([[1., 0., 0.],\n",
       "       [0., 1., 0.],\n",
       "       [0., 0., 1.]])"
      ]
     },
     "execution_count": 7,
     "metadata": {},
     "output_type": "execute_result"
    }
   ],
   "source": [
    "# np.eye() creates an eyedentity matrix\n",
    "np.eye(3)"
   ]
  },
  {
   "cell_type": "markdown",
   "metadata": {
    "hidden": true
   },
   "source": [
    "To create sequences of numbers, NumPy provides a function analogous to range that returns arrays instead of lists\n",
    "\n",
    "`arange(start, stop, step, dtype)`"
   ]
  },
  {
   "cell_type": "code",
   "execution_count": 8,
   "metadata": {
    "ExecuteTime": {
     "end_time": "2019-03-05T17:06:59.512135Z",
     "start_time": "2019-03-05T17:06:59.503269Z"
    },
    "hidden": true
   },
   "outputs": [
    {
     "data": {
      "text/plain": [
       "array([ 2.,  4.,  6.,  8., 10., 12., 14., 16., 18.])"
      ]
     },
     "execution_count": 8,
     "metadata": {},
     "output_type": "execute_result"
    }
   ],
   "source": [
    "np.arange(2, 20, 2, dtype=np.float)"
   ]
  },
  {
   "cell_type": "code",
   "execution_count": 9,
   "metadata": {
    "ExecuteTime": {
     "end_time": "2019-03-05T17:06:59.524249Z",
     "start_time": "2019-03-05T17:06:59.515334Z"
    },
    "hidden": true
   },
   "outputs": [
    {
     "data": {
      "text/plain": [
       "array([ 2,  4,  6,  8, 10, 12, 14, 16, 18])"
      ]
     },
     "execution_count": 9,
     "metadata": {},
     "output_type": "execute_result"
    }
   ],
   "source": [
    "np.arange(2, 20, 2)"
   ]
  },
  {
   "cell_type": "code",
   "execution_count": 10,
   "metadata": {
    "ExecuteTime": {
     "end_time": "2019-03-05T17:06:59.536131Z",
     "start_time": "2019-03-05T17:06:59.527298Z"
    },
    "hidden": true
   },
   "outputs": [
    {
     "data": {
      "text/plain": [
       "array([[2, 4, 6],\n",
       "       [3, 5, 7]])"
      ]
     },
     "execution_count": 10,
     "metadata": {},
     "output_type": "execute_result"
    }
   ],
   "source": [
    "array_2d = np.array([(2,4,6),(3,5,7)]) \n",
    "array_2d"
   ]
  },
  {
   "cell_type": "code",
   "execution_count": 11,
   "metadata": {
    "ExecuteTime": {
     "end_time": "2019-03-05T17:06:59.547195Z",
     "start_time": "2019-03-05T17:06:59.539284Z"
    },
    "hidden": true
   },
   "outputs": [
    {
     "data": {
      "text/plain": [
       "(2, 3)"
      ]
     },
     "execution_count": 11,
     "metadata": {},
     "output_type": "execute_result"
    }
   ],
   "source": [
    "array_2d.shape"
   ]
  },
  {
   "cell_type": "code",
   "execution_count": 12,
   "metadata": {
    "ExecuteTime": {
     "end_time": "2019-03-05T17:06:59.558901Z",
     "start_time": "2019-03-05T17:06:59.550009Z"
    },
    "hidden": true
   },
   "outputs": [
    {
     "data": {
      "text/plain": [
       "array([[0, 1],\n",
       "       [2, 3],\n",
       "       [4, 5]])"
      ]
     },
     "execution_count": 12,
     "metadata": {},
     "output_type": "execute_result"
    }
   ],
   "source": [
    "# Using reshape to create n dimensional arrays\n",
    "np.arange(6).reshape(3,2) "
   ]
  },
  {
   "cell_type": "markdown",
   "metadata": {
    "ExecuteTime": {
     "end_time": "2019-03-04T14:03:45.174749Z",
     "start_time": "2019-03-04T14:03:45.167484Z"
    },
    "hidden": true
   },
   "source": [
    "The reshape will only take arguments that multiply to the number in arange function.\n",
    "For example: for arange(8), the possible combinations for reshape are `(2,4)`, `(4,2)`, `(2,2,2)`"
   ]
  },
  {
   "cell_type": "code",
   "execution_count": 13,
   "metadata": {
    "ExecuteTime": {
     "end_time": "2019-03-05T17:06:59.572462Z",
     "start_time": "2019-03-05T17:06:59.563530Z"
    },
    "hidden": true
   },
   "outputs": [
    {
     "data": {
      "text/plain": [
       "array([[0],\n",
       "       [1],\n",
       "       [2],\n",
       "       [3],\n",
       "       [4],\n",
       "       [5]])"
      ]
     },
     "execution_count": 13,
     "metadata": {},
     "output_type": "execute_result"
    }
   ],
   "source": [
    "np.arange(6).reshape(6,1) "
   ]
  },
  {
   "cell_type": "code",
   "execution_count": 14,
   "metadata": {
    "ExecuteTime": {
     "end_time": "2019-03-05T17:06:59.587809Z",
     "start_time": "2019-03-05T17:06:59.575487Z"
    },
    "hidden": true
   },
   "outputs": [
    {
     "data": {
      "text/plain": [
       "array([[0],\n",
       "       [0],\n",
       "       [0],\n",
       "       [0],\n",
       "       [0],\n",
       "       [0]])"
      ]
     },
     "execution_count": 14,
     "metadata": {},
     "output_type": "execute_result"
    }
   ],
   "source": [
    " np.zeros_like(np.arange(6).reshape(6,1))"
   ]
  },
  {
   "cell_type": "code",
   "execution_count": 15,
   "metadata": {
    "ExecuteTime": {
     "end_time": "2019-03-05T17:06:59.600311Z",
     "start_time": "2019-03-05T17:06:59.591990Z"
    },
    "hidden": true
   },
   "outputs": [
    {
     "data": {
      "text/plain": [
       "array([[1],\n",
       "       [1],\n",
       "       [1],\n",
       "       [1],\n",
       "       [1],\n",
       "       [1]])"
      ]
     },
     "execution_count": 15,
     "metadata": {},
     "output_type": "execute_result"
    }
   ],
   "source": [
    "np.ones_like(np.arange(6).reshape(6,1))"
   ]
  },
  {
   "cell_type": "markdown",
   "metadata": {},
   "source": [
    "## Printitng arrays"
   ]
  },
  {
   "cell_type": "code",
   "execution_count": 16,
   "metadata": {
    "ExecuteTime": {
     "end_time": "2019-03-05T17:06:59.610449Z",
     "start_time": "2019-03-05T17:06:59.603010Z"
    }
   },
   "outputs": [
    {
     "name": "stdout",
     "output_type": "stream",
     "text": [
      "[[   0    1    2 ...   97   98   99]\n",
      " [ 100  101  102 ...  197  198  199]\n",
      " [ 200  201  202 ...  297  298  299]\n",
      " ...\n",
      " [9700 9701 9702 ... 9797 9798 9799]\n",
      " [9800 9801 9802 ... 9897 9898 9899]\n",
      " [9900 9901 9902 ... 9997 9998 9999]]\n"
     ]
    }
   ],
   "source": [
    "print(np.arange(10000).reshape(100,100))"
   ]
  },
  {
   "cell_type": "code",
   "execution_count": 17,
   "metadata": {
    "ExecuteTime": {
     "end_time": "2019-03-05T17:06:59.618448Z",
     "start_time": "2019-03-05T17:06:59.613457Z"
    }
   },
   "outputs": [],
   "source": [
    "np.set_printoptions(threshold = 1000)"
   ]
  },
  {
   "cell_type": "code",
   "execution_count": 18,
   "metadata": {
    "ExecuteTime": {
     "end_time": "2019-03-05T17:06:59.636794Z",
     "start_time": "2019-03-05T17:06:59.630071Z"
    }
   },
   "outputs": [
    {
     "name": "stdout",
     "output_type": "stream",
     "text": [
      "[[   0    1    2 ...   97   98   99]\n",
      " [ 100  101  102 ...  197  198  199]\n",
      " [ 200  201  202 ...  297  298  299]\n",
      " ...\n",
      " [9700 9701 9702 ... 9797 9798 9799]\n",
      " [9800 9801 9802 ... 9897 9898 9899]\n",
      " [9900 9901 9902 ... 9997 9998 9999]]\n"
     ]
    }
   ],
   "source": [
    "print(np.arange(10000).reshape(100,100))"
   ]
  },
  {
   "cell_type": "markdown",
   "metadata": {},
   "source": [
    "## Arithmetic Operations\n",
    "\n",
    "If the dimensions of two arrays are dissimilar, element-to-element operations are not possible. However, operations on arrays of non-similar shapes is still possible in NumPy, because of the broadcasting capability.  "
   ]
  },
  {
   "cell_type": "markdown",
   "metadata": {},
   "source": [
    "### Elementwise operations"
   ]
  },
  {
   "cell_type": "code",
   "execution_count": 19,
   "metadata": {
    "ExecuteTime": {
     "end_time": "2019-03-05T17:06:59.652071Z",
     "start_time": "2019-03-05T17:06:59.646575Z"
    }
   },
   "outputs": [],
   "source": [
    "a = np.array([10,10,10])\n",
    "b = np.array([5,5,5])"
   ]
  },
  {
   "cell_type": "code",
   "execution_count": 20,
   "metadata": {
    "ExecuteTime": {
     "end_time": "2019-03-05T17:06:59.663085Z",
     "start_time": "2019-03-05T17:06:59.654943Z"
    }
   },
   "outputs": [
    {
     "data": {
      "text/plain": [
       "array([15, 15, 15])"
      ]
     },
     "execution_count": 20,
     "metadata": {},
     "output_type": "execute_result"
    }
   ],
   "source": [
    "a + b"
   ]
  },
  {
   "cell_type": "code",
   "execution_count": 21,
   "metadata": {
    "ExecuteTime": {
     "end_time": "2019-03-05T17:06:59.674637Z",
     "start_time": "2019-03-05T17:06:59.666672Z"
    }
   },
   "outputs": [
    {
     "data": {
      "text/plain": [
       "array([5, 5, 5])"
      ]
     },
     "execution_count": 21,
     "metadata": {},
     "output_type": "execute_result"
    }
   ],
   "source": [
    "a - b"
   ]
  },
  {
   "cell_type": "code",
   "execution_count": 22,
   "metadata": {
    "ExecuteTime": {
     "end_time": "2019-03-05T17:06:59.686166Z",
     "start_time": "2019-03-05T17:06:59.678049Z"
    }
   },
   "outputs": [
    {
     "data": {
      "text/plain": [
       "array([50, 50, 50])"
      ]
     },
     "execution_count": 22,
     "metadata": {},
     "output_type": "execute_result"
    }
   ],
   "source": [
    "a * b"
   ]
  },
  {
   "cell_type": "code",
   "execution_count": 23,
   "metadata": {
    "ExecuteTime": {
     "end_time": "2019-03-05T17:06:59.697959Z",
     "start_time": "2019-03-05T17:06:59.689752Z"
    }
   },
   "outputs": [
    {
     "data": {
      "text/plain": [
       "array([2., 2., 2.])"
      ]
     },
     "execution_count": 23,
     "metadata": {},
     "output_type": "execute_result"
    }
   ],
   "source": [
    "a / b"
   ]
  },
  {
   "cell_type": "code",
   "execution_count": 24,
   "metadata": {
    "ExecuteTime": {
     "end_time": "2019-03-05T17:06:59.709226Z",
     "start_time": "2019-03-05T17:06:59.701483Z"
    }
   },
   "outputs": [
    {
     "data": {
      "text/plain": [
       "array([1, 1, 1])"
      ]
     },
     "execution_count": 24,
     "metadata": {},
     "output_type": "execute_result"
    }
   ],
   "source": [
    "a % 3  "
   ]
  },
  {
   "cell_type": "code",
   "execution_count": 25,
   "metadata": {
    "ExecuteTime": {
     "end_time": "2019-03-05T17:06:59.719806Z",
     "start_time": "2019-03-05T17:06:59.712278Z"
    }
   },
   "outputs": [
    {
     "data": {
      "text/plain": [
       "array([ True,  True,  True])"
      ]
     },
     "execution_count": 25,
     "metadata": {},
     "output_type": "execute_result"
    }
   ],
   "source": [
    "a < 35"
   ]
  },
  {
   "cell_type": "code",
   "execution_count": 26,
   "metadata": {
    "ExecuteTime": {
     "end_time": "2019-03-05T17:06:59.732475Z",
     "start_time": "2019-03-05T17:06:59.724702Z"
    }
   },
   "outputs": [
    {
     "data": {
      "text/plain": [
       "array([False, False, False])"
      ]
     },
     "execution_count": 26,
     "metadata": {},
     "output_type": "execute_result"
    }
   ],
   "source": [
    "a > 25"
   ]
  },
  {
   "cell_type": "code",
   "execution_count": 27,
   "metadata": {
    "ExecuteTime": {
     "end_time": "2019-03-05T17:06:59.743039Z",
     "start_time": "2019-03-05T17:06:59.734995Z"
    }
   },
   "outputs": [
    {
     "data": {
      "text/plain": [
       "array([100, 100, 100])"
      ]
     },
     "execution_count": 27,
     "metadata": {},
     "output_type": "execute_result"
    }
   ],
   "source": [
    "a ** 2"
   ]
  },
  {
   "cell_type": "markdown",
   "metadata": {},
   "source": [
    "### dot function or method"
   ]
  },
  {
   "cell_type": "code",
   "execution_count": 28,
   "metadata": {
    "ExecuteTime": {
     "end_time": "2019-03-05T17:06:59.755478Z",
     "start_time": "2019-03-05T17:06:59.746316Z"
    }
   },
   "outputs": [
    {
     "name": "stdout",
     "output_type": "stream",
     "text": [
      "A:\n",
      " [[1 1]\n",
      " [0 1]]\n",
      "B:\n",
      " [[2 1]\n",
      " [3 4]]\n"
     ]
    }
   ],
   "source": [
    "A = np.array( [[1,1], [0,1]] )\n",
    "B = np.array( [[2,1], [3,4]] )\n",
    "\n",
    "print('A:\\n', A)\n",
    "print('B:\\n', B)"
   ]
  },
  {
   "cell_type": "code",
   "execution_count": 29,
   "metadata": {
    "ExecuteTime": {
     "end_time": "2019-03-05T17:06:59.766536Z",
     "start_time": "2019-03-05T17:06:59.759259Z"
    }
   },
   "outputs": [
    {
     "data": {
      "text/plain": [
       "array([[5, 5],\n",
       "       [3, 4]])"
      ]
     },
     "execution_count": 29,
     "metadata": {},
     "output_type": "execute_result"
    }
   ],
   "source": [
    "# This gives the matrix multiplication\n",
    "A.dot(B)"
   ]
  },
  {
   "cell_type": "code",
   "execution_count": 30,
   "metadata": {
    "ExecuteTime": {
     "end_time": "2019-03-05T17:06:59.777613Z",
     "start_time": "2019-03-05T17:06:59.770040Z"
    }
   },
   "outputs": [
    {
     "data": {
      "text/plain": [
       "array([[5, 5],\n",
       "       [3, 4]])"
      ]
     },
     "execution_count": 30,
     "metadata": {},
     "output_type": "execute_result"
    }
   ],
   "source": [
    "np.dot(A,B)"
   ]
  },
  {
   "cell_type": "markdown",
   "metadata": {},
   "source": [
    "### in-place operations"
   ]
  },
  {
   "cell_type": "code",
   "execution_count": 31,
   "metadata": {
    "ExecuteTime": {
     "end_time": "2019-03-05T17:06:59.789384Z",
     "start_time": "2019-03-05T17:06:59.781470Z"
    }
   },
   "outputs": [
    {
     "data": {
      "text/plain": [
       "array([30, 30, 30])"
      ]
     },
     "execution_count": 31,
     "metadata": {},
     "output_type": "execute_result"
    }
   ],
   "source": [
    "# Modifying an existing array rather than create a new one\n",
    "a  *= 3\n",
    "a"
   ]
  },
  {
   "cell_type": "code",
   "execution_count": 32,
   "metadata": {
    "ExecuteTime": {
     "end_time": "2019-03-05T17:06:59.799721Z",
     "start_time": "2019-03-05T17:06:59.792183Z"
    }
   },
   "outputs": [
    {
     "data": {
      "text/plain": [
       "array([35, 35, 35])"
      ]
     },
     "execution_count": 32,
     "metadata": {},
     "output_type": "execute_result"
    }
   ],
   "source": [
    "b += a\n",
    "b"
   ]
  },
  {
   "cell_type": "code",
   "execution_count": 33,
   "metadata": {
    "ExecuteTime": {
     "end_time": "2019-03-05T17:06:59.808098Z",
     "start_time": "2019-03-05T17:06:59.802658Z"
    }
   },
   "outputs": [],
   "source": [
    "### Unary Operators"
   ]
  },
  {
   "cell_type": "code",
   "execution_count": 34,
   "metadata": {
    "ExecuteTime": {
     "end_time": "2019-03-05T17:06:59.819658Z",
     "start_time": "2019-03-05T17:06:59.812353Z"
    }
   },
   "outputs": [],
   "source": [
    "ages = np.array([12,15,18,20])"
   ]
  },
  {
   "cell_type": "code",
   "execution_count": 35,
   "metadata": {
    "ExecuteTime": {
     "end_time": "2019-03-05T17:06:59.830217Z",
     "start_time": "2019-03-05T17:06:59.821883Z"
    }
   },
   "outputs": [
    {
     "data": {
      "text/plain": [
       "65"
      ]
     },
     "execution_count": 35,
     "metadata": {},
     "output_type": "execute_result"
    }
   ],
   "source": [
    "ages.sum()"
   ]
  },
  {
   "cell_type": "code",
   "execution_count": 36,
   "metadata": {
    "ExecuteTime": {
     "end_time": "2019-03-05T17:06:59.840834Z",
     "start_time": "2019-03-05T17:06:59.832622Z"
    }
   },
   "outputs": [
    {
     "data": {
      "text/plain": [
       "12"
      ]
     },
     "execution_count": 36,
     "metadata": {},
     "output_type": "execute_result"
    }
   ],
   "source": [
    "ages.min()"
   ]
  },
  {
   "cell_type": "code",
   "execution_count": 37,
   "metadata": {
    "ExecuteTime": {
     "end_time": "2019-03-05T17:06:59.852124Z",
     "start_time": "2019-03-05T17:06:59.843637Z"
    }
   },
   "outputs": [
    {
     "data": {
      "text/plain": [
       "20"
      ]
     },
     "execution_count": 37,
     "metadata": {},
     "output_type": "execute_result"
    }
   ],
   "source": [
    "ages.max()"
   ]
  },
  {
   "cell_type": "markdown",
   "metadata": {},
   "source": [
    "By default, these operations apply to the array as though it were a list of numbers, regardless of its shape. However, by specifying the axis parameter you can apply an operation along the specified axis of an array"
   ]
  },
  {
   "cell_type": "code",
   "execution_count": 38,
   "metadata": {
    "ExecuteTime": {
     "end_time": "2019-03-05T17:06:59.864157Z",
     "start_time": "2019-03-05T17:06:59.855600Z"
    }
   },
   "outputs": [
    {
     "data": {
      "text/plain": [
       "array([[ 0,  1,  2,  3],\n",
       "       [ 4,  5,  6,  7],\n",
       "       [ 8,  9, 10, 11]])"
      ]
     },
     "execution_count": 38,
     "metadata": {},
     "output_type": "execute_result"
    }
   ],
   "source": [
    "numbers = np.arange(12).reshape(3,4)\n",
    "numbers"
   ]
  },
  {
   "cell_type": "markdown",
   "metadata": {},
   "source": [
    "Row and column operations\n",
    "In a `2D` array axis `#0` represents columns. Axis `#1` refers to rows"
   ]
  },
  {
   "cell_type": "code",
   "execution_count": 39,
   "metadata": {
    "ExecuteTime": {
     "end_time": "2019-03-05T17:06:59.873988Z",
     "start_time": "2019-03-05T17:06:59.867038Z"
    }
   },
   "outputs": [
    {
     "data": {
      "text/plain": [
       "array([12, 15, 18, 21])"
      ]
     },
     "execution_count": 39,
     "metadata": {},
     "output_type": "execute_result"
    }
   ],
   "source": [
    "# Sum up each column\n",
    "numbers.sum(axis=0) "
   ]
  },
  {
   "cell_type": "code",
   "execution_count": 40,
   "metadata": {
    "ExecuteTime": {
     "end_time": "2019-03-05T17:06:59.886765Z",
     "start_time": "2019-03-05T17:06:59.876705Z"
    }
   },
   "outputs": [
    {
     "data": {
      "text/plain": [
       "array([ 6, 22, 38])"
      ]
     },
     "execution_count": 40,
     "metadata": {},
     "output_type": "execute_result"
    }
   ],
   "source": [
    "# Sum up each row\n",
    "numbers.sum(axis=1)"
   ]
  },
  {
   "cell_type": "code",
   "execution_count": 41,
   "metadata": {
    "ExecuteTime": {
     "end_time": "2019-03-05T17:06:59.896063Z",
     "start_time": "2019-03-05T17:06:59.890181Z"
    }
   },
   "outputs": [
    {
     "data": {
      "text/plain": [
       "array([0, 4, 8])"
      ]
     },
     "execution_count": 41,
     "metadata": {},
     "output_type": "execute_result"
    }
   ],
   "source": [
    "# Minimum of each row\n",
    "numbers.min(axis=1) "
   ]
  },
  {
   "cell_type": "markdown",
   "metadata": {},
   "source": [
    "## Universal Functions"
   ]
  },
  {
   "cell_type": "markdown",
   "metadata": {},
   "source": [
    "### Trigonometric Functions"
   ]
  },
  {
   "cell_type": "code",
   "execution_count": 42,
   "metadata": {
    "ExecuteTime": {
     "end_time": "2019-03-05T17:06:59.904705Z",
     "start_time": "2019-03-05T17:06:59.899458Z"
    }
   },
   "outputs": [],
   "source": [
    "angles = np.array([0,30,45,60,90]) "
   ]
  },
  {
   "cell_type": "markdown",
   "metadata": {},
   "source": [
    "Angles need to be converted to radians by multiplying by pi/180 \n",
    "Only then can we appy trigonometric functions to our array."
   ]
  },
  {
   "cell_type": "code",
   "execution_count": 43,
   "metadata": {
    "ExecuteTime": {
     "end_time": "2019-03-05T17:06:59.914360Z",
     "start_time": "2019-03-05T17:06:59.907622Z"
    }
   },
   "outputs": [
    {
     "data": {
      "text/plain": [
       "array([0.        , 0.52359878, 0.78539816, 1.04719755, 1.57079633])"
      ]
     },
     "execution_count": 43,
     "metadata": {},
     "output_type": "execute_result"
    }
   ],
   "source": [
    "angles_radians = angles * np.pi/180\n",
    "angles_radians"
   ]
  },
  {
   "cell_type": "code",
   "execution_count": 44,
   "metadata": {
    "ExecuteTime": {
     "end_time": "2019-03-05T17:06:59.925763Z",
     "start_time": "2019-03-05T17:06:59.918357Z"
    }
   },
   "outputs": [
    {
     "data": {
      "text/plain": [
       "array([0.        , 0.5       , 0.70710678, 0.8660254 , 1.        ])"
      ]
     },
     "execution_count": 44,
     "metadata": {},
     "output_type": "execute_result"
    }
   ],
   "source": [
    "# Sine of angles in the array:\n",
    "np.sin(angles_radians)"
   ]
  },
  {
   "cell_type": "code",
   "execution_count": 45,
   "metadata": {
    "ExecuteTime": {
     "end_time": "2019-03-05T17:06:59.937136Z",
     "start_time": "2019-03-05T17:06:59.929187Z"
    }
   },
   "outputs": [
    {
     "data": {
      "text/plain": [
       "array([0.        , 0.52359878, 0.78539816, 1.04719755, 1.57079633])"
      ]
     },
     "execution_count": 45,
     "metadata": {},
     "output_type": "execute_result"
    }
   ],
   "source": [
    "## Alternatively, use the np.radians() function to convert to radians\n",
    "angles_radians = np.radians(angles)\n",
    "angles_radians"
   ]
  },
  {
   "cell_type": "code",
   "execution_count": 46,
   "metadata": {
    "ExecuteTime": {
     "end_time": "2019-03-05T17:06:59.948839Z",
     "start_time": "2019-03-05T17:06:59.940276Z"
    }
   },
   "outputs": [
    {
     "data": {
      "text/plain": [
       "array([1.00000000e+00, 8.66025404e-01, 7.07106781e-01, 5.00000000e-01,\n",
       "       6.12323400e-17])"
      ]
     },
     "execution_count": 46,
     "metadata": {},
     "output_type": "execute_result"
    }
   ],
   "source": [
    "# Cosine of angles in the array:\n",
    "np.cos(angles_radians)"
   ]
  },
  {
   "cell_type": "code",
   "execution_count": 47,
   "metadata": {
    "ExecuteTime": {
     "end_time": "2019-03-05T17:06:59.960642Z",
     "start_time": "2019-03-05T17:06:59.952797Z"
    }
   },
   "outputs": [
    {
     "data": {
      "text/plain": [
       "array([0.00000000e+00, 5.77350269e-01, 1.00000000e+00, 1.73205081e+00,\n",
       "       1.63312394e+16])"
      ]
     },
     "execution_count": 47,
     "metadata": {},
     "output_type": "execute_result"
    }
   ],
   "source": [
    "# Tangent of angles in the array\n",
    "np.tan(angles_radians)"
   ]
  },
  {
   "cell_type": "markdown",
   "metadata": {},
   "source": [
    "`arcsin`, `arcos`, and `arctan` functions return the trigonometric inverse of sin, cos, and tan of the given angle. The result of these functions can be verified by `numpy.degrees()` function by converting radians to degrees."
   ]
  },
  {
   "cell_type": "code",
   "execution_count": 48,
   "metadata": {
    "ExecuteTime": {
     "end_time": "2019-03-05T17:06:59.972776Z",
     "start_time": "2019-03-05T17:06:59.964109Z"
    }
   },
   "outputs": [
    {
     "data": {
      "text/plain": [
       "array([0.        , 0.52359878, 0.78539816, 1.04719755, 1.57079633])"
      ]
     },
     "execution_count": 48,
     "metadata": {},
     "output_type": "execute_result"
    }
   ],
   "source": [
    "# Compute sine inverse of angles. Returned values are in radians.\n",
    "\n",
    "np.arcsin(np.sin(angles * np.pi/180) ) "
   ]
  },
  {
   "cell_type": "code",
   "execution_count": 49,
   "metadata": {
    "ExecuteTime": {
     "end_time": "2019-03-05T17:06:59.986235Z",
     "start_time": "2019-03-05T17:06:59.976356Z"
    }
   },
   "outputs": [
    {
     "data": {
      "text/plain": [
       "array([ 0., 30., 45., 60., 90.])"
      ]
     },
     "execution_count": 49,
     "metadata": {},
     "output_type": "execute_result"
    }
   ],
   "source": [
    "# np.degrees() converts radians to degrees\n",
    "np.degrees(np.arcsin(np.sin(angles * np.pi/180) ) )"
   ]
  },
  {
   "cell_type": "markdown",
   "metadata": {},
   "source": [
    "### Statistical Functions"
   ]
  },
  {
   "cell_type": "code",
   "execution_count": 50,
   "metadata": {
    "ExecuteTime": {
     "end_time": "2019-03-05T17:06:59.996403Z",
     "start_time": "2019-03-05T17:06:59.989881Z"
    }
   },
   "outputs": [],
   "source": [
    "test_scores = np.array([32.32, 56.98, 21.52, 44.32, \n",
    "                        55.63, 13.75, 43.47, 43.34])"
   ]
  },
  {
   "cell_type": "code",
   "execution_count": 51,
   "metadata": {
    "ExecuteTime": {
     "end_time": "2019-03-05T17:07:00.008364Z",
     "start_time": "2019-03-05T17:06:59.999474Z"
    }
   },
   "outputs": [
    {
     "data": {
      "text/plain": [
       "38.91625"
      ]
     },
     "execution_count": 51,
     "metadata": {},
     "output_type": "execute_result"
    }
   ],
   "source": [
    "# Mean test scores of the students: \n",
    "np.mean(test_scores)"
   ]
  },
  {
   "cell_type": "code",
   "execution_count": 52,
   "metadata": {
    "ExecuteTime": {
     "end_time": "2019-03-05T17:07:00.020126Z",
     "start_time": "2019-03-05T17:07:00.012365Z"
    }
   },
   "outputs": [
    {
     "data": {
      "text/plain": [
       "43.405"
      ]
     },
     "execution_count": 52,
     "metadata": {},
     "output_type": "execute_result"
    }
   ],
   "source": [
    "# Median\n",
    "np.median(test_scores)"
   ]
  },
  {
   "cell_type": "code",
   "execution_count": 53,
   "metadata": {
    "ExecuteTime": {
     "end_time": "2019-03-05T17:07:00.038685Z",
     "start_time": "2019-03-05T17:07:00.022903Z"
    }
   },
   "outputs": [
    {
     "data": {
      "text/plain": [
       "array([60000., 58000., 56967., ..., 54647., 25000., 70000.])"
      ]
     },
     "execution_count": 53,
     "metadata": {},
     "output_type": "execute_result"
    }
   ],
   "source": [
    "# We will now perform basic statistical methods on real \n",
    "# life dataset. We will use salary data of 1147 European developers.\n",
    "\n",
    "salaries = np.genfromtxt('data/salary.csv', delimiter=',')\n",
    "salaries"
   ]
  },
  {
   "cell_type": "code",
   "execution_count": 54,
   "metadata": {
    "ExecuteTime": {
     "end_time": "2019-03-05T17:07:00.049162Z",
     "start_time": "2019-03-05T17:07:00.042474Z"
    }
   },
   "outputs": [
    {
     "data": {
      "text/plain": [
       "(1147,)"
      ]
     },
     "execution_count": 54,
     "metadata": {},
     "output_type": "execute_result"
    }
   ],
   "source": [
    "salaries.shape"
   ]
  },
  {
   "cell_type": "code",
   "execution_count": 55,
   "metadata": {
    "ExecuteTime": {
     "end_time": "2019-03-05T17:07:00.060911Z",
     "start_time": "2019-03-05T17:07:00.052581Z"
    }
   },
   "outputs": [
    {
     "name": "stdout",
     "output_type": "stream",
     "text": [
      "Mean = 55894.53879686138\n",
      "Median = 48000.0\n",
      "Standard Deviation = 55170.37550939316\n",
      "Variance = 3043770333.8474483\n"
     ]
    }
   ],
   "source": [
    "print(f\"Mean = {np.mean(salaries)}\")\n",
    "print(f\"Median = {np.median(salaries)}\")\n",
    "print(f\"Standard Deviation = {np.std(salaries)}\")\n",
    "print(f\"Variance = {np.var(salaries)}\")"
   ]
  },
  {
   "cell_type": "markdown",
   "metadata": {},
   "source": [
    "##  Indexing and Slicing\n",
    "\n",
    "This also follows zero based indexing like python lists"
   ]
  },
  {
   "cell_type": "code",
   "execution_count": 56,
   "metadata": {
    "ExecuteTime": {
     "end_time": "2019-03-05T17:07:00.071856Z",
     "start_time": "2019-03-05T17:07:00.063698Z"
    }
   },
   "outputs": [
    {
     "data": {
      "text/plain": [
       "array([  0,   1,   4,   9,  16,  25,  36,  49,  64,  81, 100])"
      ]
     },
     "execution_count": 56,
     "metadata": {},
     "output_type": "execute_result"
    }
   ],
   "source": [
    "a = np.arange(11)**2\n",
    "a"
   ]
  },
  {
   "cell_type": "code",
   "execution_count": 57,
   "metadata": {
    "ExecuteTime": {
     "end_time": "2019-03-05T17:07:00.082084Z",
     "start_time": "2019-03-05T17:07:00.074618Z"
    }
   },
   "outputs": [
    {
     "data": {
      "text/plain": [
       "4"
      ]
     },
     "execution_count": 57,
     "metadata": {},
     "output_type": "execute_result"
    }
   ],
   "source": [
    "a[2]"
   ]
  },
  {
   "cell_type": "code",
   "execution_count": 58,
   "metadata": {
    "ExecuteTime": {
     "end_time": "2019-03-05T17:07:00.091934Z",
     "start_time": "2019-03-05T17:07:00.084956Z"
    }
   },
   "outputs": [
    {
     "data": {
      "text/plain": [
       "81"
      ]
     },
     "execution_count": 58,
     "metadata": {},
     "output_type": "execute_result"
    }
   ],
   "source": [
    "a[-2]"
   ]
  },
  {
   "cell_type": "code",
   "execution_count": 59,
   "metadata": {
    "ExecuteTime": {
     "end_time": "2019-03-05T17:07:00.103869Z",
     "start_time": "2019-03-05T17:07:00.095462Z"
    }
   },
   "outputs": [
    {
     "data": {
      "text/plain": [
       "array([ 4,  9, 16, 25, 36])"
      ]
     },
     "execution_count": 59,
     "metadata": {},
     "output_type": "execute_result"
    }
   ],
   "source": [
    "a[2:7]"
   ]
  },
  {
   "cell_type": "code",
   "execution_count": 60,
   "metadata": {
    "ExecuteTime": {
     "end_time": "2019-03-05T17:07:00.115593Z",
     "start_time": "2019-03-05T17:07:00.107490Z"
    }
   },
   "outputs": [
    {
     "data": {
      "text/plain": [
       "array([ 4,  9, 16, 25, 36, 49, 64])"
      ]
     },
     "execution_count": 60,
     "metadata": {},
     "output_type": "execute_result"
    }
   ],
   "source": [
    "a[2:-2]"
   ]
  },
  {
   "cell_type": "code",
   "execution_count": 61,
   "metadata": {
    "ExecuteTime": {
     "end_time": "2019-03-05T17:07:00.125394Z",
     "start_time": "2019-03-05T17:07:00.118754Z"
    }
   },
   "outputs": [
    {
     "data": {
      "text/plain": [
       "array([ 0,  1,  4,  9, 16, 25, 36])"
      ]
     },
     "execution_count": 61,
     "metadata": {},
     "output_type": "execute_result"
    }
   ],
   "source": [
    "a[:7]"
   ]
  },
  {
   "cell_type": "code",
   "execution_count": 62,
   "metadata": {
    "ExecuteTime": {
     "end_time": "2019-03-05T17:07:00.137719Z",
     "start_time": "2019-03-05T17:07:00.129185Z"
    }
   },
   "outputs": [
    {
     "data": {
      "text/plain": [
       "array([  0,   4,  16,  36,  64, 100])"
      ]
     },
     "execution_count": 62,
     "metadata": {},
     "output_type": "execute_result"
    }
   ],
   "source": [
    "a[:11:2]"
   ]
  },
  {
   "cell_type": "code",
   "execution_count": 63,
   "metadata": {
    "ExecuteTime": {
     "end_time": "2019-03-05T17:07:00.152999Z",
     "start_time": "2019-03-05T17:07:00.141097Z"
    }
   },
   "outputs": [
    {
     "data": {
      "text/plain": [
       "array([100,  81,  64,  49,  36,  25,  16,   9,   4,   1,   0])"
      ]
     },
     "execution_count": 63,
     "metadata": {},
     "output_type": "execute_result"
    }
   ],
   "source": [
    "a[::-1]"
   ]
  },
  {
   "cell_type": "markdown",
   "metadata": {},
   "source": [
    "### 2D Array indexing\n",
    "\n",
    "Consider an array students, it contains the test scores in two courses of the students against their names"
   ]
  },
  {
   "cell_type": "code",
   "execution_count": 64,
   "metadata": {
    "ExecuteTime": {
     "end_time": "2019-03-05T17:07:00.162170Z",
     "start_time": "2019-03-05T17:07:00.156078Z"
    }
   },
   "outputs": [],
   "source": [
    "students = np.array([['Alice','Beth','Cathy','Dorothy'],\n",
    "                     [65,78,90,81],\n",
    "                     [71,82,79,92]])"
   ]
  },
  {
   "cell_type": "code",
   "execution_count": 65,
   "metadata": {
    "ExecuteTime": {
     "end_time": "2019-03-05T17:07:00.171408Z",
     "start_time": "2019-03-05T17:07:00.165179Z"
    }
   },
   "outputs": [
    {
     "data": {
      "text/plain": [
       "array([['Alice', 'Beth', 'Cathy', 'Dorothy'],\n",
       "       ['65', '78', '90', '81'],\n",
       "       ['71', '82', '79', '92']], dtype='<U7')"
      ]
     },
     "execution_count": 65,
     "metadata": {},
     "output_type": "execute_result"
    }
   ],
   "source": [
    "students"
   ]
  },
  {
   "cell_type": "code",
   "execution_count": 66,
   "metadata": {
    "ExecuteTime": {
     "end_time": "2019-03-05T17:07:00.180934Z",
     "start_time": "2019-03-05T17:07:00.174235Z"
    }
   },
   "outputs": [
    {
     "data": {
      "text/plain": [
       "array(['Alice', 'Beth', 'Cathy', 'Dorothy'], dtype='<U7')"
      ]
     },
     "execution_count": 66,
     "metadata": {},
     "output_type": "execute_result"
    }
   ],
   "source": [
    "students[0]"
   ]
  },
  {
   "cell_type": "code",
   "execution_count": 67,
   "metadata": {
    "ExecuteTime": {
     "end_time": "2019-03-05T17:07:00.191418Z",
     "start_time": "2019-03-05T17:07:00.182705Z"
    }
   },
   "outputs": [
    {
     "data": {
      "text/plain": [
       "array(['65', '78', '90', '81'], dtype='<U7')"
      ]
     },
     "execution_count": 67,
     "metadata": {},
     "output_type": "execute_result"
    }
   ],
   "source": [
    "students[1]"
   ]
  },
  {
   "cell_type": "code",
   "execution_count": 68,
   "metadata": {
    "ExecuteTime": {
     "end_time": "2019-03-05T17:07:00.202878Z",
     "start_time": "2019-03-05T17:07:00.195261Z"
    }
   },
   "outputs": [
    {
     "data": {
      "text/plain": [
       "array(['71', '82', '79', '92'], dtype='<U7')"
      ]
     },
     "execution_count": 68,
     "metadata": {},
     "output_type": "execute_result"
    }
   ],
   "source": [
    "students[2]"
   ]
  },
  {
   "cell_type": "code",
   "execution_count": 69,
   "metadata": {
    "ExecuteTime": {
     "end_time": "2019-03-05T17:07:00.213581Z",
     "start_time": "2019-03-05T17:07:00.205623Z"
    }
   },
   "outputs": [
    {
     "data": {
      "text/plain": [
       "'Beth'"
      ]
     },
     "execution_count": 69,
     "metadata": {},
     "output_type": "execute_result"
    }
   ],
   "source": [
    "students[0,1]"
   ]
  },
  {
   "cell_type": "markdown",
   "metadata": {},
   "source": [
    "### 2D Array slicing\n",
    "\n",
    "This will consider the rows 0 and 1, columns 2 and 3"
   ]
  },
  {
   "cell_type": "code",
   "execution_count": 70,
   "metadata": {
    "ExecuteTime": {
     "end_time": "2019-03-05T17:07:00.225290Z",
     "start_time": "2019-03-05T17:07:00.216714Z"
    }
   },
   "outputs": [
    {
     "data": {
      "text/plain": [
       "array([['Cathy', 'Dorothy'],\n",
       "       ['90', '81']], dtype='<U7')"
      ]
     },
     "execution_count": 70,
     "metadata": {},
     "output_type": "execute_result"
    }
   ],
   "source": [
    "students[0:2,2:4]"
   ]
  },
  {
   "cell_type": "code",
   "execution_count": 71,
   "metadata": {
    "ExecuteTime": {
     "end_time": "2019-03-05T17:07:00.235644Z",
     "start_time": "2019-03-05T17:07:00.228218Z"
    }
   },
   "outputs": [
    {
     "data": {
      "text/plain": [
       "array([['Beth'],\n",
       "       ['78'],\n",
       "       ['82']], dtype='<U7')"
      ]
     },
     "execution_count": 71,
     "metadata": {},
     "output_type": "execute_result"
    }
   ],
   "source": [
    "# all rows and columns 1\n",
    "students[:,1:2]"
   ]
  },
  {
   "cell_type": "code",
   "execution_count": 72,
   "metadata": {
    "ExecuteTime": {
     "end_time": "2019-03-05T17:07:00.248530Z",
     "start_time": "2019-03-05T17:07:00.239809Z"
    }
   },
   "outputs": [
    {
     "data": {
      "text/plain": [
       "array([['Beth', 'Cathy'],\n",
       "       ['78', '90'],\n",
       "       ['82', '79']], dtype='<U7')"
      ]
     },
     "execution_count": 72,
     "metadata": {},
     "output_type": "execute_result"
    }
   ],
   "source": [
    "# all rows and 1,2 columns\n",
    "students[:,1:3]"
   ]
  },
  {
   "cell_type": "code",
   "execution_count": 73,
   "metadata": {
    "ExecuteTime": {
     "end_time": "2019-03-05T17:07:00.258368Z",
     "start_time": "2019-03-05T17:07:00.251661Z"
    }
   },
   "outputs": [
    {
     "data": {
      "text/plain": [
       "array([['Alice', 'Beth', 'Cathy', 'Dorothy'],\n",
       "       ['65', '78', '90', '81']], dtype='<U7')"
      ]
     },
     "execution_count": 73,
     "metadata": {},
     "output_type": "execute_result"
    }
   ],
   "source": [
    "# All columns, rows 0 and 1\n",
    "students[0:2,:]"
   ]
  },
  {
   "cell_type": "code",
   "execution_count": 74,
   "metadata": {
    "ExecuteTime": {
     "end_time": "2019-03-05T17:07:00.269110Z",
     "start_time": "2019-03-05T17:07:00.261648Z"
    }
   },
   "outputs": [
    {
     "data": {
      "text/plain": [
       "array([['Alice', 'Beth', 'Cathy', 'Dorothy'],\n",
       "       ['65', '78', '90', '81'],\n",
       "       ['71', '82', '79', '92']], dtype='<U7')"
      ]
     },
     "execution_count": 74,
     "metadata": {},
     "output_type": "execute_result"
    }
   ],
   "source": [
    "# All rows and columns\n",
    "students[:]"
   ]
  },
  {
   "cell_type": "code",
   "execution_count": 75,
   "metadata": {
    "ExecuteTime": {
     "end_time": "2019-03-05T17:07:00.279825Z",
     "start_time": "2019-03-05T17:07:00.272166Z"
    }
   },
   "outputs": [
    {
     "data": {
      "text/plain": [
       "array(['71', '82', '79', '92'], dtype='<U7')"
      ]
     },
     "execution_count": 75,
     "metadata": {},
     "output_type": "execute_result"
    }
   ],
   "source": [
    "#The last row\n",
    "students[-1,:]"
   ]
  },
  {
   "cell_type": "code",
   "execution_count": 76,
   "metadata": {
    "ExecuteTime": {
     "end_time": "2019-03-05T17:07:00.291262Z",
     "start_time": "2019-03-05T17:07:00.282319Z"
    }
   },
   "outputs": [
    {
     "data": {
      "text/plain": [
       "array([['Cathy', 'Dorothy'],\n",
       "       ['90', '81']], dtype='<U7')"
      ]
     },
     "execution_count": 76,
     "metadata": {},
     "output_type": "execute_result"
    }
   ],
   "source": [
    "#3rd from last to second from last row, last two columns\n",
    "students[-3:-1,-2:]"
   ]
  },
  {
   "cell_type": "markdown",
   "metadata": {
    "ExecuteTime": {
     "end_time": "2019-03-04T15:37:06.710873Z",
     "start_time": "2019-03-04T15:37:06.706932Z"
    }
   },
   "source": [
    "### dots or ellipsis(...)\n",
    "\n",
    "Slicing can also include ellipsis (…) to make a selection tuple of the same length as the dimension of an array. The dots (...) represent as many colons as needed to produce a complete indexing tuple"
   ]
  },
  {
   "cell_type": "code",
   "execution_count": 77,
   "metadata": {
    "ExecuteTime": {
     "end_time": "2019-03-05T17:07:00.302615Z",
     "start_time": "2019-03-05T17:07:00.294295Z"
    }
   },
   "outputs": [
    {
     "data": {
      "text/plain": [
       "array(['Alice', 'Beth', 'Cathy', 'Dorothy'], dtype='<U7')"
      ]
     },
     "execution_count": 77,
     "metadata": {},
     "output_type": "execute_result"
    }
   ],
   "source": [
    "students[0,...] "
   ]
  },
  {
   "cell_type": "code",
   "execution_count": 78,
   "metadata": {
    "ExecuteTime": {
     "end_time": "2019-03-05T17:07:00.313046Z",
     "start_time": "2019-03-05T17:07:00.305953Z"
    }
   },
   "outputs": [
    {
     "data": {
      "text/plain": [
       "array(['Beth', '78', '82'], dtype='<U7')"
      ]
     },
     "execution_count": 78,
     "metadata": {},
     "output_type": "execute_result"
    }
   ],
   "source": [
    "# all rows and column 1\n",
    "students[...,1]"
   ]
  },
  {
   "cell_type": "code",
   "execution_count": 79,
   "metadata": {
    "ExecuteTime": {
     "end_time": "2019-03-05T17:07:00.326240Z",
     "start_time": "2019-03-05T17:07:00.316366Z"
    }
   },
   "outputs": [
    {
     "data": {
      "text/plain": [
       "(3,)"
      ]
     },
     "execution_count": 79,
     "metadata": {},
     "output_type": "execute_result"
    }
   ],
   "source": [
    "students[...,1].shape"
   ]
  },
  {
   "cell_type": "markdown",
   "metadata": {},
   "source": [
    "## Iteratition"
   ]
  },
  {
   "cell_type": "markdown",
   "metadata": {},
   "source": [
    "### 1D Arrays"
   ]
  },
  {
   "cell_type": "code",
   "execution_count": 80,
   "metadata": {
    "ExecuteTime": {
     "end_time": "2019-03-05T17:07:00.336317Z",
     "start_time": "2019-03-05T17:07:00.329687Z"
    }
   },
   "outputs": [
    {
     "data": {
      "text/plain": [
       "array([  0,   1,   4,   9,  16,  25,  36,  49,  64,  81, 100])"
      ]
     },
     "execution_count": 80,
     "metadata": {},
     "output_type": "execute_result"
    }
   ],
   "source": [
    "a = np.arange(11)**2\n",
    "a"
   ]
  },
  {
   "cell_type": "code",
   "execution_count": 81,
   "metadata": {
    "ExecuteTime": {
     "end_time": "2019-03-05T17:07:00.346341Z",
     "start_time": "2019-03-05T17:07:00.339215Z"
    }
   },
   "outputs": [
    {
     "name": "stdout",
     "output_type": "stream",
     "text": [
      "0.0\n",
      "1.0\n",
      "2.0\n",
      "3.0\n",
      "4.0\n",
      "5.0\n",
      "6.0\n",
      "7.0\n",
      "8.0\n",
      "9.0\n",
      "10.0\n"
     ]
    }
   ],
   "source": [
    "for i in a:\n",
    "    print(i**(1/2))"
   ]
  },
  {
   "cell_type": "markdown",
   "metadata": {
    "ExecuteTime": {
     "end_time": "2019-03-04T15:39:43.919036Z",
     "start_time": "2019-03-04T15:39:43.916035Z"
    }
   },
   "source": [
    "### Multi-Dimensional Arrays"
   ]
  },
  {
   "cell_type": "code",
   "execution_count": 82,
   "metadata": {
    "ExecuteTime": {
     "end_time": "2019-03-05T17:07:00.355858Z",
     "start_time": "2019-03-05T17:07:00.350292Z"
    }
   },
   "outputs": [],
   "source": [
    "students = np.array([['Alice','Beth','Cathy','Dorothy'],\n",
    "                     [65,78,90,81],\n",
    "                     [71,82,79,92]])"
   ]
  },
  {
   "cell_type": "code",
   "execution_count": 83,
   "metadata": {
    "ExecuteTime": {
     "end_time": "2019-03-05T17:07:00.365675Z",
     "start_time": "2019-03-05T17:07:00.358992Z"
    }
   },
   "outputs": [
    {
     "name": "stdout",
     "output_type": "stream",
     "text": [
      "i =  ['Alice' 'Beth' 'Cathy' 'Dorothy']\n",
      "i =  ['65' '78' '90' '81']\n",
      "i =  ['71' '82' '79' '92']\n"
     ]
    }
   ],
   "source": [
    "# Each iteration will be over the rows of the array\n",
    "for i in students:\n",
    "    print('i = ', i)"
   ]
  },
  {
   "cell_type": "markdown",
   "metadata": {},
   "source": [
    "**Flatten a multi-dimensional array**"
   ]
  },
  {
   "cell_type": "code",
   "execution_count": 84,
   "metadata": {
    "ExecuteTime": {
     "end_time": "2019-03-05T17:07:00.375974Z",
     "start_time": "2019-03-05T17:07:00.369530Z"
    }
   },
   "outputs": [
    {
     "name": "stdout",
     "output_type": "stream",
     "text": [
      "Alice\n",
      "Beth\n",
      "Cathy\n",
      "Dorothy\n",
      "65\n",
      "78\n",
      "90\n",
      "81\n",
      "71\n",
      "82\n",
      "79\n",
      "92\n"
     ]
    }
   ],
   "source": [
    "# If one wants to perform an operation on each element in the array, \n",
    "# one can use the flatten function which will flatten the array to a \n",
    "# single dimension. 'By default', the flattening will occur `row-wise` \n",
    "# (also knows as C order)\n",
    "\n",
    "for element in students.flatten():\n",
    "    print(element)"
   ]
  },
  {
   "cell_type": "code",
   "execution_count": 85,
   "metadata": {
    "ExecuteTime": {
     "end_time": "2019-03-05T17:07:00.390396Z",
     "start_time": "2019-03-05T17:07:00.379757Z"
    }
   },
   "outputs": [
    {
     "name": "stdout",
     "output_type": "stream",
     "text": [
      "Alice\n",
      "65\n",
      "71\n",
      "Beth\n",
      "78\n",
      "82\n",
      "Cathy\n",
      "90\n",
      "79\n",
      "Dorothy\n",
      "81\n",
      "92\n"
     ]
    }
   ],
   "source": [
    "# To flatten a 2D array column-wise, \n",
    "# use the Fortran order\n",
    "for element in students.flatten(order='F'):\n",
    "    print(element)"
   ]
  },
  {
   "cell_type": "code",
   "execution_count": 86,
   "metadata": {
    "ExecuteTime": {
     "end_time": "2019-03-05T17:07:00.398076Z",
     "start_time": "2019-03-05T17:07:00.392208Z"
    }
   },
   "outputs": [
    {
     "data": {
      "text/plain": [
       "array([[ 0,  1,  2,  3],\n",
       "       [ 4,  5,  6,  7],\n",
       "       [ 8,  9, 10, 11]])"
      ]
     },
     "execution_count": 86,
     "metadata": {},
     "output_type": "execute_result"
    }
   ],
   "source": [
    "# nditer\n",
    "# Efficient multi-dimensional iterator object to iterate over arrays\n",
    "x = np.arange(12).reshape(3,4)\n",
    "x"
   ]
  },
  {
   "cell_type": "code",
   "execution_count": 87,
   "metadata": {
    "ExecuteTime": {
     "end_time": "2019-03-05T17:07:00.405940Z",
     "start_time": "2019-03-05T17:07:00.399879Z"
    }
   },
   "outputs": [
    {
     "name": "stdout",
     "output_type": "stream",
     "text": [
      "0\n",
      "1\n",
      "2\n",
      "3\n",
      "4\n",
      "5\n",
      "6\n",
      "7\n",
      "8\n",
      "9\n",
      "10\n",
      "11\n"
     ]
    }
   ],
   "source": [
    "# This is row-wise iteration, similar to iterating over a C-order flattened array\n",
    "for i in np.nditer(x):\n",
    "    print(i)"
   ]
  },
  {
   "cell_type": "code",
   "execution_count": 88,
   "metadata": {
    "ExecuteTime": {
     "end_time": "2019-03-05T17:07:00.458543Z",
     "start_time": "2019-03-05T17:07:00.450576Z"
    }
   },
   "outputs": [
    {
     "name": "stdout",
     "output_type": "stream",
     "text": [
      "0\n",
      "4\n",
      "8\n",
      "1\n",
      "5\n",
      "9\n",
      "2\n",
      "6\n",
      "10\n",
      "3\n",
      "7\n",
      "11\n"
     ]
    }
   ],
   "source": [
    "# Fortran order\n",
    "# This is like iterating over an array which has been flattened column-wise\n",
    "\n",
    "for i in np.nditer(x, order = 'F'): \n",
    "    print(i)"
   ]
  },
  {
   "cell_type": "code",
   "execution_count": 89,
   "metadata": {
    "ExecuteTime": {
     "end_time": "2019-03-05T17:07:00.473097Z",
     "start_time": "2019-03-05T17:07:00.464942Z"
    }
   },
   "outputs": [
    {
     "name": "stdout",
     "output_type": "stream",
     "text": [
      "[0 4 8]\n",
      "[1 5 9]\n",
      "[ 2  6 10]\n",
      "[ 3  7 11]\n"
     ]
    }
   ],
   "source": [
    "# There are a number of flags which we can pass as a list to nditer. \n",
    "# Many of these involve setting buffering options <br />\n",
    "# If we want iterate over each column, we can use the flag argument with value 'external_loop'\n",
    "\n",
    "for i in np.nditer(x, order = 'F', flags = ['external_loop']): \n",
    "    print(i)"
   ]
  },
  {
   "cell_type": "markdown",
   "metadata": {},
   "source": [
    "### Modifying Array Values\n",
    "\n",
    "By default, the nditer treats the input array as a read-only object. To modify the array elements, you must specify either read-write or write-only mode. This is controlled with per-operand flags."
   ]
  },
  {
   "cell_type": "code",
   "execution_count": 90,
   "metadata": {
    "ExecuteTime": {
     "end_time": "2019-03-05T17:07:00.486800Z",
     "start_time": "2019-03-05T17:07:00.477795Z"
    }
   },
   "outputs": [
    {
     "name": "stdout",
     "output_type": "stream",
     "text": [
      "Error: assignment destination is read-only\n",
      "0\n"
     ]
    }
   ],
   "source": [
    "# will trhoud value error\n",
    "try:\n",
    "    for arr in np.nditer(x):\n",
    "        arr[...] = arr * arr\n",
    "except ValueError as e:\n",
    "    print(\"Error:\", e)\n",
    "finally:\n",
    "    print(arr)"
   ]
  },
  {
   "cell_type": "code",
   "execution_count": 91,
   "metadata": {
    "ExecuteTime": {
     "end_time": "2019-03-05T17:07:00.501227Z",
     "start_time": "2019-03-05T17:07:00.491207Z"
    }
   },
   "outputs": [
    {
     "name": "stdout",
     "output_type": "stream",
     "text": [
      "121\n"
     ]
    }
   ],
   "source": [
    "# We set the ops_flag to make the array read-write\n",
    "try:\n",
    "    for arr in np.nditer(x, op_flags = ['readwrite']):\n",
    "        arr[...] = arr * arr\n",
    "except ValueError as e:\n",
    "    print(\"Error:\", e)\n",
    "finally:\n",
    "    print(arr)"
   ]
  },
  {
   "cell_type": "markdown",
   "metadata": {
    "ExecuteTime": {
     "end_time": "2019-03-04T15:48:40.989159Z",
     "start_time": "2019-03-04T15:48:40.985867Z"
    }
   },
   "source": [
    "## Array Shape Manipulation"
   ]
  },
  {
   "cell_type": "code",
   "execution_count": 92,
   "metadata": {
    "ExecuteTime": {
     "end_time": "2019-03-05T17:07:00.510067Z",
     "start_time": "2019-03-05T17:07:00.504406Z"
    }
   },
   "outputs": [],
   "source": [
    "a = np.array([(\"Germany\",\"France\", \"Hungary\",\"Austria\"),\n",
    "              (\"Berlin\",\"Paris\", \"Budapest\",\"Vienna\" )]) "
   ]
  },
  {
   "cell_type": "code",
   "execution_count": 93,
   "metadata": {
    "ExecuteTime": {
     "end_time": "2019-03-05T17:07:00.523204Z",
     "start_time": "2019-03-05T17:07:00.514146Z"
    }
   },
   "outputs": [
    {
     "data": {
      "text/plain": [
       "array([['Germany', 'France', 'Hungary', 'Austria'],\n",
       "       ['Berlin', 'Paris', 'Budapest', 'Vienna']], dtype='<U8')"
      ]
     },
     "execution_count": 93,
     "metadata": {},
     "output_type": "execute_result"
    }
   ],
   "source": [
    "a"
   ]
  },
  {
   "cell_type": "code",
   "execution_count": 94,
   "metadata": {
    "ExecuteTime": {
     "end_time": "2019-03-05T17:07:00.534857Z",
     "start_time": "2019-03-05T17:07:00.527588Z"
    }
   },
   "outputs": [
    {
     "data": {
      "text/plain": [
       "(2, 4)"
      ]
     },
     "execution_count": 94,
     "metadata": {},
     "output_type": "execute_result"
    }
   ],
   "source": [
    "a.shape"
   ]
  },
  {
   "cell_type": "markdown",
   "metadata": {},
   "source": [
    "The `ravel()` function\n",
    "\n",
    "The primary functional difference is that flatten is a method of an ndarray object and hence can only be called for true numpy arrays. In contrast `ravel()` is a library-level function and hence can be called on any object that can successfully be parsed. For example `ravel()` will work on a list of ndarrays, while flatten will not."
   ]
  },
  {
   "cell_type": "code",
   "execution_count": 95,
   "metadata": {
    "ExecuteTime": {
     "end_time": "2019-03-05T17:07:00.545357Z",
     "start_time": "2019-03-05T17:07:00.538127Z"
    }
   },
   "outputs": [
    {
     "data": {
      "text/plain": [
       "array(['Germany', 'France', 'Hungary', 'Austria', 'Berlin', 'Paris',\n",
       "       'Budapest', 'Vienna'], dtype='<U8')"
      ]
     },
     "execution_count": 95,
     "metadata": {},
     "output_type": "execute_result"
    }
   ],
   "source": [
    "a.ravel()"
   ]
  },
  {
   "cell_type": "code",
   "execution_count": 96,
   "metadata": {
    "ExecuteTime": {
     "end_time": "2019-03-05T17:07:00.558451Z",
     "start_time": "2019-03-05T17:07:00.549290Z"
    }
   },
   "outputs": [
    {
     "data": {
      "text/plain": [
       "array([['Germany', 'Berlin'],\n",
       "       ['France', 'Paris'],\n",
       "       ['Hungary', 'Budapest'],\n",
       "       ['Austria', 'Vienna']], dtype='<U8')"
      ]
     },
     "execution_count": 96,
     "metadata": {},
     "output_type": "execute_result"
    }
   ],
   "source": [
    "# transposing array\n",
    "a.T  "
   ]
  },
  {
   "cell_type": "code",
   "execution_count": 97,
   "metadata": {
    "ExecuteTime": {
     "end_time": "2019-03-05T17:07:00.569586Z",
     "start_time": "2019-03-05T17:07:00.561918Z"
    }
   },
   "outputs": [
    {
     "data": {
      "text/plain": [
       "array(['Germany', 'Berlin', 'France', 'Paris', 'Hungary', 'Budapest',\n",
       "       'Austria', 'Vienna'], dtype='<U8')"
      ]
     },
     "execution_count": 97,
     "metadata": {},
     "output_type": "execute_result"
    }
   ],
   "source": [
    "a.T.ravel()"
   ]
  },
  {
   "cell_type": "markdown",
   "metadata": {},
   "source": [
    "`reshape()` gives a new shape to an array without changing its data."
   ]
  },
  {
   "cell_type": "code",
   "execution_count": 98,
   "metadata": {
    "ExecuteTime": {
     "end_time": "2019-03-05T17:07:00.579769Z",
     "start_time": "2019-03-05T17:07:00.572727Z"
    }
   },
   "outputs": [
    {
     "data": {
      "text/plain": [
       "(2, 4)"
      ]
     },
     "execution_count": 98,
     "metadata": {},
     "output_type": "execute_result"
    }
   ],
   "source": [
    "a.shape"
   ]
  },
  {
   "cell_type": "code",
   "execution_count": 99,
   "metadata": {
    "ExecuteTime": {
     "end_time": "2019-03-05T17:07:00.590851Z",
     "start_time": "2019-03-05T17:07:00.582941Z"
    }
   },
   "outputs": [
    {
     "data": {
      "text/plain": [
       "array([['Germany', 'France'],\n",
       "       ['Hungary', 'Austria'],\n",
       "       ['Berlin', 'Paris'],\n",
       "       ['Budapest', 'Vienna']], dtype='<U8')"
      ]
     },
     "execution_count": 99,
     "metadata": {},
     "output_type": "execute_result"
    }
   ],
   "source": [
    "a.reshape(4,2)"
   ]
  },
  {
   "cell_type": "code",
   "execution_count": 100,
   "metadata": {
    "ExecuteTime": {
     "end_time": "2019-03-05T17:07:00.600032Z",
     "start_time": "2019-03-05T17:07:00.592871Z"
    }
   },
   "outputs": [
    {
     "data": {
      "text/plain": [
       "array([[ 0,  1,  2,  3,  4],\n",
       "       [ 5,  6,  7,  8,  9],\n",
       "       [10, 11, 12, 13, 14]])"
      ]
     },
     "execution_count": 100,
     "metadata": {},
     "output_type": "execute_result"
    }
   ],
   "source": [
    "np.arange(15).reshape(3,5)"
   ]
  },
  {
   "cell_type": "code",
   "execution_count": 101,
   "metadata": {
    "ExecuteTime": {
     "end_time": "2019-03-05T17:07:00.609997Z",
     "start_time": "2019-03-05T17:07:00.602115Z"
    }
   },
   "outputs": [
    {
     "name": "stdout",
     "output_type": "stream",
     "text": [
      "Error: cannot reshape array of size 15 into shape (3,6)\n"
     ]
    }
   ],
   "source": [
    "# Reshaping a 15-element array to an 18-element one will throw an error\n",
    "try:\n",
    "    np.arange(15).reshape(3,6)\n",
    "except ValueError as e:\n",
    "    print(\"Error:\", e)"
   ]
  },
  {
   "cell_type": "code",
   "execution_count": 102,
   "metadata": {
    "ExecuteTime": {
     "end_time": "2019-03-05T17:07:00.617731Z",
     "start_time": "2019-03-05T17:07:00.613909Z"
    }
   },
   "outputs": [],
   "source": [
    "# Specify only one dimension (and infer the others) when reshaping\n",
    "# Another way we can reshape is by metioning only one dimension, and -1. \n",
    "# -1 means that the length in that dimension is inferred"
   ]
  },
  {
   "cell_type": "code",
   "execution_count": 103,
   "metadata": {
    "ExecuteTime": {
     "end_time": "2019-03-05T17:07:00.629493Z",
     "start_time": "2019-03-05T17:07:00.620361Z"
    }
   },
   "outputs": [
    {
     "data": {
      "text/plain": [
       "array(['Germany', 'France', 'Hungary', 'Austria', 'Italy', 'Denmark'],\n",
       "      dtype='<U7')"
      ]
     },
     "execution_count": 103,
     "metadata": {},
     "output_type": "execute_result"
    }
   ],
   "source": [
    "countries = np.array([\"Germany\",\"France\", \"Hungary\",\"Austria\",\"Italy\",\"Denmark\"])\n",
    "countries"
   ]
  },
  {
   "cell_type": "code",
   "execution_count": 104,
   "metadata": {
    "ExecuteTime": {
     "end_time": "2019-03-05T17:07:00.640387Z",
     "start_time": "2019-03-05T17:07:00.632765Z"
    }
   },
   "outputs": [
    {
     "data": {
      "text/plain": [
       "array([['Germany', 'France', 'Hungary'],\n",
       "       ['Austria', 'Italy', 'Denmark']], dtype='<U7')"
      ]
     },
     "execution_count": 104,
     "metadata": {},
     "output_type": "execute_result"
    }
   ],
   "source": [
    "countries.reshape(-1,3) "
   ]
  },
  {
   "cell_type": "code",
   "execution_count": 105,
   "metadata": {
    "ExecuteTime": {
     "end_time": "2019-03-05T17:07:00.652846Z",
     "start_time": "2019-03-05T17:07:00.643178Z"
    }
   },
   "outputs": [
    {
     "data": {
      "text/plain": [
       "array([['Germany', 'France'],\n",
       "       ['Hungary', 'Austria'],\n",
       "       ['Italy', 'Denmark']], dtype='<U7')"
      ]
     },
     "execution_count": 105,
     "metadata": {},
     "output_type": "execute_result"
    }
   ],
   "source": [
    "countries.reshape(3,-1) "
   ]
  },
  {
   "cell_type": "code",
   "execution_count": 106,
   "metadata": {
    "ExecuteTime": {
     "end_time": "2019-03-05T17:07:00.662672Z",
     "start_time": "2019-03-05T17:07:00.655583Z"
    }
   },
   "outputs": [
    {
     "data": {
      "text/plain": [
       "array([['Germany', 'France'],\n",
       "       ['Hungary', 'Austria'],\n",
       "       ['Italy', 'Denmark']], dtype='<U7')"
      ]
     },
     "execution_count": 106,
     "metadata": {},
     "output_type": "execute_result"
    }
   ],
   "source": [
    "countries.reshape(3,2)"
   ]
  },
  {
   "cell_type": "markdown",
   "metadata": {},
   "source": [
    "## Splitting Arrays\n",
    "\n",
    "`split()` an array into multiple sub-arrays. By specifying the number of equally shaped arrays to return, or by specifying the columns after which the division should occur\n",
    "\n",
    "`split(array, indices_or_sections, axis=0)`"
   ]
  },
  {
   "cell_type": "code",
   "execution_count": 107,
   "metadata": {
    "ExecuteTime": {
     "end_time": "2019-03-05T17:07:00.670584Z",
     "start_time": "2019-03-05T17:07:00.665569Z"
    }
   },
   "outputs": [],
   "source": [
    "x = np.arange(9)"
   ]
  },
  {
   "cell_type": "code",
   "execution_count": 108,
   "metadata": {
    "ExecuteTime": {
     "end_time": "2019-03-05T17:07:00.683801Z",
     "start_time": "2019-03-05T17:07:00.677450Z"
    }
   },
   "outputs": [
    {
     "data": {
      "text/plain": [
       "array([0, 1, 2, 3, 4, 5, 6, 7, 8])"
      ]
     },
     "execution_count": 108,
     "metadata": {},
     "output_type": "execute_result"
    }
   ],
   "source": [
    "x"
   ]
  },
  {
   "cell_type": "code",
   "execution_count": 109,
   "metadata": {
    "ExecuteTime": {
     "end_time": "2019-03-05T17:07:00.696410Z",
     "start_time": "2019-03-05T17:07:00.687390Z"
    }
   },
   "outputs": [
    {
     "data": {
      "text/plain": [
       "[array([0, 1, 2]), array([3, 4, 5]), array([6, 7, 8])]"
      ]
     },
     "execution_count": 109,
     "metadata": {},
     "output_type": "execute_result"
    }
   ],
   "source": [
    "# Split the array in 3 equal-sized subarrays:\n",
    "np.split(x, 3)"
   ]
  },
  {
   "cell_type": "code",
   "execution_count": 110,
   "metadata": {
    "ExecuteTime": {
     "end_time": "2019-03-05T17:07:00.708400Z",
     "start_time": "2019-03-05T17:07:00.699345Z"
    }
   },
   "outputs": [
    {
     "name": "stdout",
     "output_type": "stream",
     "text": [
      "Error: array split does not result in an equal division\n"
     ]
    }
   ],
   "source": [
    "# The number of splits must be a divisor of the number of elements\n",
    "# Or Numpy will complain that an even split is not possible\n",
    "\n",
    "try:\n",
    "    np.split(x, 4)\n",
    "except TypeError as e:\n",
    "    print(\"Error:\", e)\n",
    "except ValueError as e:\n",
    "    print(\"Error:\", e)"
   ]
  },
  {
   "cell_type": "code",
   "execution_count": 111,
   "metadata": {
    "ExecuteTime": {
     "end_time": "2019-03-05T17:07:00.721180Z",
     "start_time": "2019-03-05T17:07:00.711454Z"
    }
   },
   "outputs": [
    {
     "data": {
      "text/plain": [
       "[array([0, 1, 2, 3]), array([4, 5, 6]), array([7, 8])]"
      ]
     },
     "execution_count": 111,
     "metadata": {},
     "output_type": "execute_result"
    }
   ],
   "source": [
    "# Split the array at positions indicated in 1-D array:\n",
    "np.split(x,[4,7])"
   ]
  },
  {
   "cell_type": "markdown",
   "metadata": {},
   "source": [
    "`hsplit`. The `numpy.hsplit` is a special case of split() function where axis is 1 indicating a horizontal split regardless of the dimension of the input array. <br />\n",
    "In this example, the split will be performed along a column"
   ]
  },
  {
   "cell_type": "code",
   "execution_count": 112,
   "metadata": {
    "ExecuteTime": {
     "end_time": "2019-03-05T17:07:00.730216Z",
     "start_time": "2019-03-05T17:07:00.724537Z"
    }
   },
   "outputs": [],
   "source": [
    "y = np.array([(\"Germany\",\"France\", \"Hungary\",\"Austria\"),\n",
    "              (\"Berlin\",\"Paris\", \"Budapest\",\"Vienna\" )]) "
   ]
  },
  {
   "cell_type": "code",
   "execution_count": 113,
   "metadata": {
    "ExecuteTime": {
     "end_time": "2019-03-05T17:07:00.741131Z",
     "start_time": "2019-03-05T17:07:00.733454Z"
    }
   },
   "outputs": [
    {
     "data": {
      "text/plain": [
       "array([['Germany', 'France', 'Hungary', 'Austria'],\n",
       "       ['Berlin', 'Paris', 'Budapest', 'Vienna']], dtype='<U8')"
      ]
     },
     "execution_count": 113,
     "metadata": {},
     "output_type": "execute_result"
    }
   ],
   "source": [
    "y"
   ]
  },
  {
   "cell_type": "code",
   "execution_count": 114,
   "metadata": {
    "ExecuteTime": {
     "end_time": "2019-03-05T17:07:00.751207Z",
     "start_time": "2019-03-05T17:07:00.744187Z"
    }
   },
   "outputs": [],
   "source": [
    "p1, p2 = np.hsplit(y, 2)"
   ]
  },
  {
   "cell_type": "code",
   "execution_count": 115,
   "metadata": {
    "ExecuteTime": {
     "end_time": "2019-03-05T17:07:00.762108Z",
     "start_time": "2019-03-05T17:07:00.753894Z"
    }
   },
   "outputs": [
    {
     "data": {
      "text/plain": [
       "array([['Germany', 'France'],\n",
       "       ['Berlin', 'Paris']], dtype='<U8')"
      ]
     },
     "execution_count": 115,
     "metadata": {},
     "output_type": "execute_result"
    }
   ],
   "source": [
    "p1"
   ]
  },
  {
   "cell_type": "code",
   "execution_count": 116,
   "metadata": {
    "ExecuteTime": {
     "end_time": "2019-03-05T17:07:00.771492Z",
     "start_time": "2019-03-05T17:07:00.763945Z"
    }
   },
   "outputs": [
    {
     "data": {
      "text/plain": [
       "array([['Hungary', 'Austria'],\n",
       "       ['Budapest', 'Vienna']], dtype='<U8')"
      ]
     },
     "execution_count": 116,
     "metadata": {},
     "output_type": "execute_result"
    }
   ],
   "source": [
    "p2"
   ]
  },
  {
   "cell_type": "code",
   "execution_count": 117,
   "metadata": {
    "ExecuteTime": {
     "end_time": "2019-03-05T17:07:00.784064Z",
     "start_time": "2019-03-05T17:07:00.775386Z"
    }
   },
   "outputs": [
    {
     "data": {
      "text/plain": [
       "[array([['Germany'],\n",
       "        ['Berlin']], dtype='<U8'), array([['France'],\n",
       "        ['Paris']], dtype='<U8'), array([['Hungary'],\n",
       "        ['Budapest']], dtype='<U8'), array([['Austria'],\n",
       "        ['Vienna']], dtype='<U8')]"
      ]
     },
     "execution_count": 117,
     "metadata": {},
     "output_type": "execute_result"
    }
   ],
   "source": [
    "np.hsplit(y,4)"
   ]
  },
  {
   "cell_type": "code",
   "execution_count": 118,
   "metadata": {
    "ExecuteTime": {
     "end_time": "2019-03-05T17:07:00.796030Z",
     "start_time": "2019-03-05T17:07:00.788508Z"
    }
   },
   "outputs": [
    {
     "name": "stdout",
     "output_type": "stream",
     "text": [
      "Error: array split does not result in an equal division\n"
     ]
    }
   ],
   "source": [
    "try:\n",
    "    np.hsplit(y,3)\n",
    "except TypeError as e:\n",
    "    print(\"Error:\", e)\n",
    "except ValueError as e:\n",
    "    print(\"Error:\", e)"
   ]
  },
  {
   "cell_type": "markdown",
   "metadata": {},
   "source": [
    "`vsplit` splits along the vertical axis"
   ]
  },
  {
   "cell_type": "code",
   "execution_count": 119,
   "metadata": {
    "ExecuteTime": {
     "end_time": "2019-03-05T17:07:00.806343Z",
     "start_time": "2019-03-05T17:07:00.798944Z"
    }
   },
   "outputs": [
    {
     "name": "stdout",
     "output_type": "stream",
     "text": [
      "[['Germany' 'France' 'Hungary' 'Austria']] [['Berlin' 'Paris' 'Budapest' 'Vienna']]\n"
     ]
    }
   ],
   "source": [
    "p_1,p_2 = np.vsplit(y, 2)\n",
    "print(p_1, p_2)"
   ]
  },
  {
   "cell_type": "markdown",
   "metadata": {},
   "source": [
    "An alternative approach is array unpacking. In this example, we unpack the array into two variables. The array unpacks by row i.e Unpacking \"unpacks\" the first dimensions of an array "
   ]
  },
  {
   "cell_type": "code",
   "execution_count": 120,
   "metadata": {
    "ExecuteTime": {
     "end_time": "2019-03-05T17:07:00.815670Z",
     "start_time": "2019-03-05T17:07:00.809154Z"
    }
   },
   "outputs": [
    {
     "name": "stdout",
     "output_type": "stream",
     "text": [
      "Countries:  ['Germany' 'France' 'Hungary' 'Austria']\n",
      "Capitals:  ['Berlin' 'Paris' 'Budapest' 'Vienna']\n"
     ]
    }
   ],
   "source": [
    "countries,capitals = y\n",
    "print('Countries: ', countries)\n",
    "print('Capitals: ' , capitals)"
   ]
  },
  {
   "cell_type": "code",
   "execution_count": null,
   "metadata": {
    "ExecuteTime": {
     "end_time": "2019-03-04T17:31:43.372606Z",
     "start_time": "2019-03-04T17:31:43.362565Z"
    }
   },
   "outputs": [],
   "source": []
  },
  {
   "cell_type": "code",
   "execution_count": 121,
   "metadata": {
    "ExecuteTime": {
     "end_time": "2019-03-05T17:07:00.829713Z",
     "start_time": "2019-03-05T17:07:00.819452Z"
    }
   },
   "outputs": [
    {
     "name": "stdout",
     "output_type": "stream",
     "text": [
      "['Germany' 'Berlin'] ['France' 'Paris'] ['Hungary' 'Budapest'] ['Austria' 'Vienna']\n"
     ]
    }
   ],
   "source": [
    "b1,b2,b3,b4 = y.T\n",
    "print(b1,b2,b3,b4)"
   ]
  },
  {
   "cell_type": "markdown",
   "metadata": {},
   "source": [
    "We can not use the following code, reason being the first dimension of array now contains 4 rows. If we want to split in 2 arrays horizontally we should use `split` or `hsplit`."
   ]
  },
  {
   "cell_type": "code",
   "execution_count": 122,
   "metadata": {
    "ExecuteTime": {
     "end_time": "2019-03-05T17:07:00.839736Z",
     "start_time": "2019-03-05T17:07:00.832586Z"
    }
   },
   "outputs": [
    {
     "name": "stdout",
     "output_type": "stream",
     "text": [
      "Error: too many values to unpack (expected 2)\n"
     ]
    }
   ],
   "source": [
    "try:\n",
    "    z1,z2 = y.T\n",
    "except TypeError as e:\n",
    "    print(\"Error:\", e)\n",
    "except ValueError as e:\n",
    "    print(\"Error:\", e)"
   ]
  },
  {
   "cell_type": "markdown",
   "metadata": {},
   "source": [
    "## View vs Copy\n",
    "\n",
    " - When the contents are physically stored in another location, it is called **Copy.**\n",
    " - On the other hand, a different view of the same memory content is provided, we call it as **View.**\n",
    " - Different array objects can share the same data. NumPy has **ndarray.view()** method which is a new array object that looks at the same data of the original array."
   ]
  },
  {
   "cell_type": "code",
   "execution_count": 123,
   "metadata": {
    "ExecuteTime": {
     "end_time": "2019-03-05T17:07:00.848215Z",
     "start_time": "2019-03-05T17:07:00.842858Z"
    }
   },
   "outputs": [],
   "source": [
    "fruits = np.array([\"Apple\",\"Mango\",\"Grapes\",\"Watermelon\"])"
   ]
  },
  {
   "cell_type": "code",
   "execution_count": 124,
   "metadata": {
    "ExecuteTime": {
     "end_time": "2019-03-05T17:07:00.859415Z",
     "start_time": "2019-03-05T17:07:00.851773Z"
    }
   },
   "outputs": [
    {
     "name": "stdout",
     "output_type": "stream",
     "text": [
      "['Apple' 'Mango' 'Grapes' 'Watermelon']\n",
      "['Apple' 'Mango' 'Grapes' 'Watermelon']\n"
     ]
    }
   ],
   "source": [
    "basket_1 = fruits.view()\n",
    "basket_2 = fruits.view()\n",
    "print(basket_1)\n",
    "print(basket_2)"
   ]
  },
  {
   "cell_type": "code",
   "execution_count": 125,
   "metadata": {
    "ExecuteTime": {
     "end_time": "2019-03-05T17:07:00.870545Z",
     "start_time": "2019-03-05T17:07:00.862655Z"
    }
   },
   "outputs": [
    {
     "name": "stdout",
     "output_type": "stream",
     "text": [
      "ids for the arrays are different.\n",
      "id for fruits is :  4673935920\n",
      "id for baskets is :  4674188352 4674188272\n"
     ]
    }
   ],
   "source": [
    "print(\"ids for the arrays are different.\")\n",
    "print(\"id for fruits is : \", id(fruits))\n",
    "print(\"id for baskets is : \", id(basket_1), id(basket_2))"
   ]
  },
  {
   "cell_type": "code",
   "execution_count": 126,
   "metadata": {
    "ExecuteTime": {
     "end_time": "2019-03-05T17:07:00.880757Z",
     "start_time": "2019-03-05T17:07:00.874721Z"
    }
   },
   "outputs": [
    {
     "data": {
      "text/plain": [
       "False"
      ]
     },
     "execution_count": 126,
     "metadata": {},
     "output_type": "execute_result"
    }
   ],
   "source": [
    "basket_1 is fruits"
   ]
  },
  {
   "cell_type": "code",
   "execution_count": 127,
   "metadata": {
    "ExecuteTime": {
     "end_time": "2019-03-05T17:07:00.891401Z",
     "start_time": "2019-03-05T17:07:00.883877Z"
    }
   },
   "outputs": [
    {
     "data": {
      "text/plain": [
       "True"
      ]
     },
     "execution_count": 127,
     "metadata": {},
     "output_type": "execute_result"
    }
   ],
   "source": [
    "basket_1.base is fruits "
   ]
  },
  {
   "cell_type": "code",
   "execution_count": 128,
   "metadata": {
    "ExecuteTime": {
     "end_time": "2019-03-05T17:07:00.902436Z",
     "start_time": "2019-03-05T17:07:00.895139Z"
    }
   },
   "outputs": [
    {
     "data": {
      "text/plain": [
       "array(['Strawberry', 'Mango', 'Grapes', 'Watermelon'], dtype='<U10')"
      ]
     },
     "execution_count": 128,
     "metadata": {},
     "output_type": "execute_result"
    }
   ],
   "source": [
    "# Change a few elements of basket. It changes the elements of fruits\n",
    "# Here, we assign a new value to the first element of basket_2. You \n",
    "# might be astonished that the list of fruits has been \"automatically\" \n",
    "# changed as well. The explanation is that there has been no new assignment \n",
    "# to basket_2, only to one of its elements.\n",
    "basket_2[0] = \"Strawberry\"\n",
    "basket_2"
   ]
  },
  {
   "cell_type": "code",
   "execution_count": 129,
   "metadata": {
    "ExecuteTime": {
     "end_time": "2019-03-05T17:07:00.913856Z",
     "start_time": "2019-03-05T17:07:00.906079Z"
    }
   },
   "outputs": [
    {
     "data": {
      "text/plain": [
       "array(['Strawberry', 'Mango', 'Grapes', 'Watermelon'], dtype='<U10')"
      ]
     },
     "execution_count": 129,
     "metadata": {},
     "output_type": "execute_result"
    }
   ],
   "source": [
    "fruits"
   ]
  },
  {
   "cell_type": "code",
   "execution_count": 130,
   "metadata": {
    "ExecuteTime": {
     "end_time": "2019-03-05T17:07:00.923492Z",
     "start_time": "2019-03-05T17:07:00.917209Z"
    }
   },
   "outputs": [
    {
     "data": {
      "text/plain": [
       "array(['Strawberry', 'Mango', 'Grapes', 'Watermelon'], dtype='<U10')"
      ]
     },
     "execution_count": 130,
     "metadata": {},
     "output_type": "execute_result"
    }
   ],
   "source": [
    "basket_1"
   ]
  },
  {
   "cell_type": "code",
   "execution_count": 131,
   "metadata": {
    "ExecuteTime": {
     "end_time": "2019-03-05T17:07:00.936119Z",
     "start_time": "2019-03-05T17:07:00.928168Z"
    }
   },
   "outputs": [
    {
     "data": {
      "text/plain": [
       "array(['Peach', 'Pineapple', 'Banana', 'Orange'], dtype='<U9')"
      ]
     },
     "execution_count": 131,
     "metadata": {},
     "output_type": "execute_result"
    }
   ],
   "source": [
    "# Change the entire elements of basket. It does not change fruits\n",
    "basket_1 = np.array([\"Peach\",\"Pineapple\",\"Banana\",\"Orange\"])\n",
    "\n",
    "# new np array\n",
    "basket_1"
   ]
  },
  {
   "cell_type": "code",
   "execution_count": 132,
   "metadata": {
    "ExecuteTime": {
     "end_time": "2019-03-05T17:07:00.946863Z",
     "start_time": "2019-03-05T17:07:00.939303Z"
    }
   },
   "outputs": [
    {
     "data": {
      "text/plain": [
       "array(['Strawberry', 'Mango', 'Grapes', 'Watermelon'], dtype='<U10')"
      ]
     },
     "execution_count": 132,
     "metadata": {},
     "output_type": "execute_result"
    }
   ],
   "source": [
    "fruits"
   ]
  },
  {
   "cell_type": "code",
   "execution_count": 133,
   "metadata": {
    "ExecuteTime": {
     "end_time": "2019-03-05T17:07:00.958837Z",
     "start_time": "2019-03-05T17:07:00.949972Z"
    }
   },
   "outputs": [
    {
     "data": {
      "text/plain": [
       "array([['Strawberry', 'Mango'],\n",
       "       ['Grapes', 'Watermelon']], dtype='<U10')"
      ]
     },
     "execution_count": 133,
     "metadata": {},
     "output_type": "execute_result"
    }
   ],
   "source": [
    "# Change the shape of basket. It does not change the shape of fruits\n",
    "basket_2.shape = 2,2\n",
    "basket_2"
   ]
  },
  {
   "cell_type": "code",
   "execution_count": 134,
   "metadata": {
    "ExecuteTime": {
     "end_time": "2019-03-05T17:07:00.969032Z",
     "start_time": "2019-03-05T17:07:00.961249Z"
    }
   },
   "outputs": [
    {
     "data": {
      "text/plain": [
       "array(['Strawberry', 'Mango', 'Grapes', 'Watermelon'], dtype='<U10')"
      ]
     },
     "execution_count": 134,
     "metadata": {},
     "output_type": "execute_result"
    }
   ],
   "source": [
    "# fruts are unchanged\n",
    "fruits"
   ]
  },
  {
   "cell_type": "code",
   "execution_count": 135,
   "metadata": {
    "ExecuteTime": {
     "end_time": "2019-03-05T17:07:00.979965Z",
     "start_time": "2019-03-05T17:07:00.972841Z"
    }
   },
   "outputs": [
    {
     "data": {
      "text/plain": [
       "array(['Grapes', 'Watermelon'], dtype='<U10')"
      ]
     },
     "execution_count": 135,
     "metadata": {},
     "output_type": "execute_result"
    }
   ],
   "source": [
    "# Slicing an array returns a view of it\n",
    "mini_basket = fruits[2:]\n",
    "mini_basket"
   ]
  },
  {
   "cell_type": "code",
   "execution_count": 136,
   "metadata": {
    "ExecuteTime": {
     "end_time": "2019-03-05T17:07:00.990798Z",
     "start_time": "2019-03-05T17:07:00.983437Z"
    }
   },
   "outputs": [
    {
     "data": {
      "text/plain": [
       "array(['Grapes', 'Peach'], dtype='<U10')"
      ]
     },
     "execution_count": 136,
     "metadata": {},
     "output_type": "execute_result"
    }
   ],
   "source": [
    "fruits[3] = \"Peach\"\n",
    "mini_basket"
   ]
  },
  {
   "cell_type": "markdown",
   "metadata": {},
   "source": [
    "## Deep Copy\n",
    "\n",
    "We now Create a deep copy of fruits "
   ]
  },
  {
   "cell_type": "code",
   "execution_count": 137,
   "metadata": {
    "ExecuteTime": {
     "end_time": "2019-03-05T17:07:01.000320Z",
     "start_time": "2019-03-05T17:07:00.994398Z"
    }
   },
   "outputs": [],
   "source": [
    "fruits = np.array([\"Apple\",\"Mango\",\"Grapes\",\"Watermelon\"])"
   ]
  },
  {
   "cell_type": "code",
   "execution_count": 138,
   "metadata": {
    "ExecuteTime": {
     "end_time": "2019-03-05T17:07:01.009215Z",
     "start_time": "2019-03-05T17:07:01.003386Z"
    }
   },
   "outputs": [],
   "source": [
    "basket = fruits.copy()"
   ]
  },
  {
   "cell_type": "code",
   "execution_count": 139,
   "metadata": {
    "ExecuteTime": {
     "end_time": "2019-03-05T17:07:01.022192Z",
     "start_time": "2019-03-05T17:07:01.012370Z"
    }
   },
   "outputs": [
    {
     "data": {
      "text/plain": [
       "False"
      ]
     },
     "execution_count": 139,
     "metadata": {},
     "output_type": "execute_result"
    }
   ],
   "source": [
    "basket is fruits"
   ]
  },
  {
   "cell_type": "code",
   "execution_count": 140,
   "metadata": {
    "ExecuteTime": {
     "end_time": "2019-03-05T17:07:01.033179Z",
     "start_time": "2019-03-05T17:07:01.024358Z"
    }
   },
   "outputs": [
    {
     "data": {
      "text/plain": [
       "array(['Strawberry', 'Mango', 'Grapes', 'Watermelon'], dtype='<U10')"
      ]
     },
     "execution_count": 140,
     "metadata": {},
     "output_type": "execute_result"
    }
   ],
   "source": [
    "basket [0] = \"Strawberry\"\n",
    "basket"
   ]
  },
  {
   "cell_type": "code",
   "execution_count": 141,
   "metadata": {
    "ExecuteTime": {
     "end_time": "2019-03-05T17:07:01.046085Z",
     "start_time": "2019-03-05T17:07:01.036773Z"
    }
   },
   "outputs": [
    {
     "data": {
      "text/plain": [
       "array(['Apple', 'Mango', 'Grapes', 'Watermelon'], dtype='<U10')"
      ]
     },
     "execution_count": 141,
     "metadata": {},
     "output_type": "execute_result"
    }
   ],
   "source": [
    "fruits"
   ]
  },
  {
   "cell_type": "code",
   "execution_count": 142,
   "metadata": {
    "ExecuteTime": {
     "end_time": "2019-03-05T17:07:01.058088Z",
     "start_time": "2019-03-05T17:07:01.050437Z"
    }
   },
   "outputs": [],
   "source": [
    "basket.shape = 2,2"
   ]
  },
  {
   "cell_type": "code",
   "execution_count": 143,
   "metadata": {
    "ExecuteTime": {
     "end_time": "2019-03-05T17:07:01.072166Z",
     "start_time": "2019-03-05T17:07:01.062331Z"
    }
   },
   "outputs": [
    {
     "data": {
      "text/plain": [
       "array([['Strawberry', 'Mango'],\n",
       "       ['Grapes', 'Watermelon']], dtype='<U10')"
      ]
     },
     "execution_count": 143,
     "metadata": {},
     "output_type": "execute_result"
    }
   ],
   "source": [
    "# Shape of basket: \n",
    "basket"
   ]
  },
  {
   "cell_type": "code",
   "execution_count": 144,
   "metadata": {
    "ExecuteTime": {
     "end_time": "2019-03-05T17:07:01.086411Z",
     "start_time": "2019-03-05T17:07:01.076449Z"
    }
   },
   "outputs": [
    {
     "data": {
      "text/plain": [
       "array(['Apple', 'Mango', 'Grapes', 'Watermelon'], dtype='<U10')"
      ]
     },
     "execution_count": 144,
     "metadata": {},
     "output_type": "execute_result"
    }
   ],
   "source": [
    "# Shape of fruits: \n",
    "fruits"
   ]
  },
  {
   "cell_type": "markdown",
   "metadata": {},
   "source": [
    "## Indexing - Integer Arrays\n",
    "\n",
    "NumPy arrays can be indexed with slices, but also with boolean or integer arrays <b>(masks)</b>. It means passing an array of indices to access multiple array elements at once. This method is called fancy indexing. It creates copies not views."
   ]
  },
  {
   "cell_type": "code",
   "execution_count": 145,
   "metadata": {
    "ExecuteTime": {
     "end_time": "2019-03-05T17:07:01.100277Z",
     "start_time": "2019-03-05T17:07:01.089906Z"
    }
   },
   "outputs": [
    {
     "data": {
      "text/plain": [
       "array([  0,   1,   4,   9,  16,  25,  36,  49,  64,  81, 100, 121])"
      ]
     },
     "execution_count": 145,
     "metadata": {},
     "output_type": "execute_result"
    }
   ],
   "source": [
    "a = np.arange(12)**2\n",
    "a"
   ]
  },
  {
   "cell_type": "markdown",
   "metadata": {},
   "source": [
    "Suppose we want to access three different elements. We could do it like this:"
   ]
  },
  {
   "cell_type": "code",
   "execution_count": 146,
   "metadata": {
    "ExecuteTime": {
     "end_time": "2019-03-05T17:07:01.115508Z",
     "start_time": "2019-03-05T17:07:01.104335Z"
    }
   },
   "outputs": [
    {
     "data": {
      "text/plain": [
       "(4, 36, 64)"
      ]
     },
     "execution_count": 146,
     "metadata": {},
     "output_type": "execute_result"
    }
   ],
   "source": [
    "a[2],a[6],a[8]"
   ]
  },
  {
   "cell_type": "markdown",
   "metadata": {},
   "source": [
    "Alternatively, we can pass a single list or array of indices to obtain the same result:"
   ]
  },
  {
   "cell_type": "code",
   "execution_count": 147,
   "metadata": {
    "ExecuteTime": {
     "end_time": "2019-03-05T17:07:01.132460Z",
     "start_time": "2019-03-05T17:07:01.120926Z"
    }
   },
   "outputs": [
    {
     "data": {
      "text/plain": [
       "array([ 4, 36, 64])"
      ]
     },
     "execution_count": 147,
     "metadata": {},
     "output_type": "execute_result"
    }
   ],
   "source": [
    "indx_1 = [2,6,8]\n",
    "a[indx_1]"
   ]
  },
  {
   "cell_type": "markdown",
   "metadata": {},
   "source": [
    "When using fancy indexing, the shape of the result reflects the shape of the index arrays rather than the shape of the array being indexed"
   ]
  },
  {
   "cell_type": "code",
   "execution_count": 148,
   "metadata": {
    "ExecuteTime": {
     "end_time": "2019-03-05T17:07:01.147110Z",
     "start_time": "2019-03-05T17:07:01.136633Z"
    }
   },
   "outputs": [
    {
     "data": {
      "text/plain": [
       "array([[  4,  16],\n",
       "       [ 64, 100]])"
      ]
     },
     "execution_count": 148,
     "metadata": {},
     "output_type": "execute_result"
    }
   ],
   "source": [
    "indx_2 = np.array([[2,4],[8,10]])\n",
    "a[indx_2]"
   ]
  },
  {
   "cell_type": "code",
   "execution_count": 149,
   "metadata": {
    "ExecuteTime": {
     "end_time": "2019-03-05T17:07:01.157676Z",
     "start_time": "2019-03-05T17:07:01.150453Z"
    }
   },
   "outputs": [],
   "source": [
    "food = np.array([[\"blueberry\",\"strawberry\",\"cherry\",\"blackberry\"],\n",
    "                 [\"pinenut\",\"hazelnuts\",\"cashewnut\",\"coconut\"],\n",
    "                 [\"mustard\",\"paprika\",\"nutmeg\",\"clove\"]])"
   ]
  },
  {
   "cell_type": "code",
   "execution_count": 150,
   "metadata": {
    "ExecuteTime": {
     "end_time": "2019-03-05T17:07:01.167673Z",
     "start_time": "2019-03-05T17:07:01.160005Z"
    }
   },
   "outputs": [
    {
     "data": {
      "text/plain": [
       "array([['blueberry', 'strawberry', 'cherry', 'blackberry'],\n",
       "       ['pinenut', 'hazelnuts', 'cashewnut', 'coconut'],\n",
       "       ['mustard', 'paprika', 'nutmeg', 'clove']], dtype='<U10')"
      ]
     },
     "execution_count": 150,
     "metadata": {},
     "output_type": "execute_result"
    }
   ],
   "source": [
    "food"
   ]
  },
  {
   "cell_type": "code",
   "execution_count": 151,
   "metadata": {
    "ExecuteTime": {
     "end_time": "2019-03-05T17:07:01.181821Z",
     "start_time": "2019-03-05T17:07:01.171038Z"
    }
   },
   "outputs": [
    {
     "data": {
      "text/plain": [
       "array([['blueberry', 'blackberry'],\n",
       "       ['mustard', 'clove']], dtype='<U10')"
      ]
     },
     "execution_count": 151,
     "metadata": {},
     "output_type": "execute_result"
    }
   ],
   "source": [
    "# We will now select the corner elements of this array\n",
    "\n",
    "row = np.array([[0,0],[2,2]])\n",
    "col = np.array([[0,3],[0,3]])\n",
    "\n",
    "food[row,col]"
   ]
  },
  {
   "cell_type": "code",
   "execution_count": 152,
   "metadata": {
    "ExecuteTime": {
     "end_time": "2019-03-05T17:07:01.191730Z",
     "start_time": "2019-03-05T17:07:01.183809Z"
    }
   },
   "outputs": [
    {
     "data": {
      "text/plain": [
       "'mustard'"
      ]
     },
     "execution_count": 152,
     "metadata": {},
     "output_type": "execute_result"
    }
   ],
   "source": [
    "# Notice that the first value in the result is food[0,0], next is food[0,3] , food[2,0] and lastly food[2,3]\n",
    "food[2,0]"
   ]
  },
  {
   "cell_type": "markdown",
   "metadata": {
    "ExecuteTime": {
     "end_time": "2019-03-05T06:24:49.645032Z",
     "start_time": "2019-03-05T06:24:49.641810Z"
    }
   },
   "source": [
    "**Modifying Values with Fancy Indexing**"
   ]
  },
  {
   "cell_type": "code",
   "execution_count": 153,
   "metadata": {
    "ExecuteTime": {
     "end_time": "2019-03-05T17:07:01.201920Z",
     "start_time": "2019-03-05T17:07:01.194771Z"
    }
   },
   "outputs": [
    {
     "data": {
      "text/plain": [
       "array([['000000', 'strawberry', 'cherry', '000000'],\n",
       "       ['pinenut', 'hazelnuts', 'cashewnut', 'coconut'],\n",
       "       ['000000', 'paprika', 'nutmeg', '000000']], dtype='<U10')"
      ]
     },
     "execution_count": 153,
     "metadata": {},
     "output_type": "execute_result"
    }
   ],
   "source": [
    "food[row,col] = \"000000\"\n",
    "food"
   ]
  },
  {
   "cell_type": "code",
   "execution_count": 154,
   "metadata": {
    "ExecuteTime": {
     "end_time": "2019-03-05T17:07:01.212457Z",
     "start_time": "2019-03-05T17:07:01.204965Z"
    }
   },
   "outputs": [
    {
     "data": {
      "text/plain": [
       "array([  0,   1,   4,   9,  16,  25,  36,  49,  64,  81, 100, 121])"
      ]
     },
     "execution_count": 154,
     "metadata": {},
     "output_type": "execute_result"
    }
   ],
   "source": [
    "a"
   ]
  },
  {
   "cell_type": "code",
   "execution_count": 155,
   "metadata": {
    "ExecuteTime": {
     "end_time": "2019-03-05T17:07:01.220218Z",
     "start_time": "2019-03-05T17:07:01.215297Z"
    }
   },
   "outputs": [],
   "source": [
    "a[indx_1] = 999"
   ]
  },
  {
   "cell_type": "code",
   "execution_count": 156,
   "metadata": {
    "ExecuteTime": {
     "end_time": "2019-03-05T17:07:01.230806Z",
     "start_time": "2019-03-05T17:07:01.224103Z"
    }
   },
   "outputs": [
    {
     "data": {
      "text/plain": [
       "array([  0,   1, 999,   9,  16,  25, 999,  49, 999,  81, 100, 121])"
      ]
     },
     "execution_count": 156,
     "metadata": {},
     "output_type": "execute_result"
    }
   ],
   "source": [
    "a"
   ]
  },
  {
   "cell_type": "markdown",
   "metadata": {
    "ExecuteTime": {
     "end_time": "2019-03-05T06:27:25.885513Z",
     "start_time": "2019-03-05T06:27:25.882028Z"
    }
   },
   "source": [
    "### Pandas Example\n",
    "\n",
    "We will load the GDP per capita (in US dollars) data for all the countries in the world for the year 2016 into a variable using pandas. \n",
    "\n",
    "**GDP per capita (current US$)**\n",
    "\n",
    "GDP per capita is gross domestic product divided by midyear population. GDP is the sum of gross value added by all resident producers in the economy plus any product taxes and minus any subsidies not included in the value of the products. It is calculated without making deductions for depreciation of fabricated assets or for depletion and degradation of natural resources. Data are in current U.S. dollars."
   ]
  },
  {
   "cell_type": "code",
   "execution_count": 157,
   "metadata": {
    "ExecuteTime": {
     "end_time": "2019-03-05T17:07:01.246643Z",
     "start_time": "2019-03-05T17:07:01.234079Z"
    }
   },
   "outputs": [],
   "source": [
    "gdp_16 = pd.read_csv(\"data/gdp_pc.csv\")[\"2016\"].values"
   ]
  },
  {
   "cell_type": "code",
   "execution_count": 158,
   "metadata": {
    "ExecuteTime": {
     "end_time": "2019-03-05T17:07:01.256697Z",
     "start_time": "2019-03-05T17:07:01.250114Z"
    }
   },
   "outputs": [
    {
     "data": {
      "text/plain": [
       "numpy.ndarray"
      ]
     },
     "execution_count": 158,
     "metadata": {},
     "output_type": "execute_result"
    }
   ],
   "source": [
    "type(gdp_16)"
   ]
  },
  {
   "cell_type": "code",
   "execution_count": 159,
   "metadata": {
    "ExecuteTime": {
     "end_time": "2019-03-05T17:07:01.268473Z",
     "start_time": "2019-03-05T17:07:01.259853Z"
    }
   },
   "outputs": [
    {
     "data": {
      "text/plain": [
       "(264,)"
      ]
     },
     "execution_count": 159,
     "metadata": {},
     "output_type": "execute_result"
    }
   ],
   "source": [
    "gdp_16.shape"
   ]
  },
  {
   "cell_type": "code",
   "execution_count": 160,
   "metadata": {
    "ExecuteTime": {
     "end_time": "2019-03-05T17:07:01.562992Z",
     "start_time": "2019-03-05T17:07:01.271714Z"
    }
   },
   "outputs": [
    {
     "data": {
      "image/png": "[encoded data removed]",
      "text/plain": [
       "<Figure size 432x288 with 1 Axes>"
      ]
     },
     "metadata": {
      "needs_background": "light"
     },
     "output_type": "display_data"
    }
   ],
   "source": [
    "plt.plot(gdp_16)\n",
    "plt.show()"
   ]
  },
  {
   "cell_type": "code",
   "execution_count": 161,
   "metadata": {
    "ExecuteTime": {
     "end_time": "2019-03-05T17:07:01.579549Z",
     "start_time": "2019-03-05T17:07:01.566755Z"
    }
   },
   "outputs": [
    {
     "name": "stderr",
     "output_type": "stream",
     "text": [
      "/Users/butuzov/Desktop/Py3.7/lib/python3.7/site-packages/numpy/lib/function_base.py:3405: RuntimeWarning: Invalid value encountered in median\n",
      "  r = func(a, **kwargs)\n"
     ]
    },
    {
     "data": {
      "text/plain": [
       "nan"
      ]
     },
     "execution_count": 161,
     "metadata": {},
     "output_type": "execute_result"
    }
   ],
   "source": [
    "np.median(gdp_16)"
   ]
  },
  {
   "cell_type": "code",
   "execution_count": 162,
   "metadata": {
    "ExecuteTime": {
     "end_time": "2019-03-05T17:07:01.597660Z",
     "start_time": "2019-03-05T17:07:01.583025Z"
    }
   },
   "outputs": [
    {
     "data": {
      "text/plain": [
       "array([            nan,   1944.11700491,   6454.13537039,  11540.02556108,\n",
       "                   nan,  16726.72218488,  72399.65347339,  19939.93077479,\n",
       "         8832.76343477,             nan,  22661.48853616,  46012.32845157,\n",
       "        50551.5531752 ,  17256.62697044,    777.75285166,  46428.67142458,\n",
       "         2167.64282343,   1771.01528722,   3579.75679135,  19242.62261574,\n",
       "                   nan,  22516.81648228,  12172.06646607,  18066.3006624 ,\n",
       "         8461.53565294,             nan,   7234.19524335,  15123.85001428,\n",
       "        18064.60442722,  77420.61217204,   8900.76455309,  16956.72477025,\n",
       "          698.70665573,  44819.48360027,  26851.1685408 ,  63888.73238665,\n",
       "                   nan,  23193.97411052,  15529.08410645,   3693.43690912,\n",
       "         3609.37559695,    801.63011974,   5717.29037095,  14153.92792519,\n",
       "         1521.85721808,   6551.31894829,  16609.73935418,  15370.63489842,\n",
       "                   nan,             nan,             nan,  32707.872887  ,\n",
       "        34749.21236327,  48860.52529211,             nan,  10947.71518781,\n",
       "        49029.01483891,  15204.93246446,  15013.29637986,  13839.96863584,\n",
       "         9175.64442097,  17025.39067931,  19516.08298373,  31366.86706838,\n",
       "        11242.04751604,  11128.80247428,  42063.79406454,             nan,\n",
       "        36304.85427275,  29743.33742802,   1734.46407452,  39610.86680734,\n",
       "         4254.34870787,  43378.14602882,   9109.95196333,  41343.29253554,\n",
       "                   nan,   3508.71519196,  18102.86221919,  42656.2166022 ,\n",
       "        10004.5284119 ,   4292.44889992,             nan,   1966.37968826,\n",
       "         1676.86477284,   1608.70437903,  26058.077443  ,  26778.50496589,\n",
       "        14200.00719381,             nan,   7944.69135314,             nan,\n",
       "         7836.3791763 ,  46864.95679091,  58617.97062639,   4736.83914255,\n",
       "         2270.13030428,  23422.41797653,   1783.71512959,  26700.75608264,\n",
       "        12933.94330355,  10588.17884122,   3627.9834637 ,   5201.03397093,\n",
       "        11609.02662172,   2834.05481866,             nan,   6570.61624581,\n",
       "                   nan,  71472.29596487,  19948.81948407,  17348.93653235,\n",
       "        50745.68297711,  37258.22359457,  38380.17241178,   8821.31142953,\n",
       "         9047.7689234 ,  42281.18818958,  25285.94773126,   3155.11426394,\n",
       "         3552.09178948,   3736.96461203,   2108.53722771,  26382.78803193,\n",
       "        36532.47268398,  74263.99862606,  14732.95458354,   6549.66799975,\n",
       "        14308.75112714,    812.67394381,             nan,  12952.72516857,\n",
       "        15210.95079266,   2622.06907623,   1701.37258736,             nan,\n",
       "        12312.94005099,   6801.29184829,  10414.49383242,   2951.02189398,\n",
       "        16689.09756884,  29862.31889041, 102389.43772763,  25587.38808847,\n",
       "       105420.41423718,             nan,   7857.4877165 ,             nan,\n",
       "         5332.28777311,   1506.23832521,  15347.99776172,  19515.40260527,\n",
       "        17274.82307137,   4022.97863242,  11442.8331081 ,  14942.19764347,\n",
       "         2125.71602653,  37928.34126866,   5721.22800363,  13113.97108338,\n",
       "        17633.13298468,  12252.27719639,             nan,   1216.79278744,\n",
       "         3852.52590437,  21102.5589232 ,   1168.82562558,  27682.6079403 ,\n",
       "        56344.96375629,  10624.92711311,             nan,    986.20696062,\n",
       "         5861.08965603,   5539.82671595,  50538.6065696 ,  58790.06140389,\n",
       "         2477.9033451 ,  13966.49778022,  38565.40345261,  41885.92611335,\n",
       "                   nan,  25029.76382064,   5235.47808502,  23008.66536715,\n",
       "        13018.60861238,   7804.16780147,  16305.48534045,   4182.53934131,\n",
       "        27383.254937  ,   3775.07502387,  37740.88825606,             nan,\n",
       "        30658.63199533,   9567.33912818,             nan,   5700.08893902,\n",
       "        44804.46017271,             nan, 127480.48251099,  23027.28926439,\n",
       "        24788.67927912,   1912.90118206,   6062.85581457,  54416.61249319,\n",
       "         4730.46186883,   2566.11917856,  87832.58651422,   2235.3146905 ,\n",
       "         1476.21371969,   8616.81241755,  60932.93003722,             nan,\n",
       "        14514.96055305,   3721.66067336,             nan,   3723.92091102,\n",
       "        22092.44125736,   3237.3925436 ,  14966.7137949 ,  30460.38408107,\n",
       "        32723.07195376,  48904.55437072,   8329.56058149,             nan,\n",
       "        28383.89621333,             nan,             nan,   1990.72665731,\n",
       "        13986.6283938 ,  20172.0612279 ,   1490.53623573,  16913.36607526,\n",
       "         2979.31023902,  16875.9877489 ,  15126.46133663,   2140.35737389,\n",
       "        13214.12254515,   5745.19122926,   6062.85581457,   3723.92091102,\n",
       "        32854.71905846,  11595.51237921,  25247.2017505 ,   3651.02148404,\n",
       "         2786.2722427 ,   1819.43435088,   8269.61463355,  16884.35346567,\n",
       "        21619.60793375,  57638.15908799,   6512.68213067,  11456.78995224,\n",
       "                   nan,             nan,             nan,   6295.59058534,\n",
       "         3080.56575434,  16216.92698557,   6378.25656692,  10063.75847519,\n",
       "         2507.47166249,  13196.81122696,   3933.06646044,   2027.08491653])"
      ]
     },
     "execution_count": 162,
     "metadata": {},
     "output_type": "execute_result"
    }
   ],
   "source": [
    "gdp_16"
   ]
  },
  {
   "cell_type": "code",
   "execution_count": 163,
   "metadata": {
    "ExecuteTime": {
     "end_time": "2019-03-05T17:07:01.605547Z",
     "start_time": "2019-03-05T17:07:01.601064Z"
    }
   },
   "outputs": [],
   "source": [
    "# The complement operator (~) can be used to remove nan elements\n",
    "gdp_16 = gdp_16[~np.isnan(gdp_16)]"
   ]
  },
  {
   "cell_type": "code",
   "execution_count": 164,
   "metadata": {
    "ExecuteTime": {
     "end_time": "2019-03-05T17:07:01.619674Z",
     "start_time": "2019-03-05T17:07:01.609078Z"
    }
   },
   "outputs": [
    {
     "data": {
      "text/plain": [
       "array([  1944.11700491,   6454.13537039,  11540.02556108,  16726.72218488,\n",
       "        72399.65347339,  19939.93077479,   8832.76343477,  22661.48853616,\n",
       "        46012.32845157,  50551.5531752 ,  17256.62697044,    777.75285166,\n",
       "        46428.67142458,   2167.64282343,   1771.01528722,   3579.75679135,\n",
       "        19242.62261574,  22516.81648228,  12172.06646607,  18066.3006624 ,\n",
       "         8461.53565294,   7234.19524335,  15123.85001428,  18064.60442722,\n",
       "        77420.61217204,   8900.76455309,  16956.72477025,    698.70665573,\n",
       "        44819.48360027,  26851.1685408 ,  63888.73238665,  23193.97411052,\n",
       "        15529.08410645,   3693.43690912,   3609.37559695,    801.63011974,\n",
       "         5717.29037095,  14153.92792519,   1521.85721808,   6551.31894829,\n",
       "        16609.73935418,  15370.63489842,  32707.872887  ,  34749.21236327,\n",
       "        48860.52529211,  10947.71518781,  49029.01483891,  15204.93246446,\n",
       "        15013.29637986,  13839.96863584,   9175.64442097,  17025.39067931,\n",
       "        19516.08298373,  31366.86706838,  11242.04751604,  11128.80247428,\n",
       "        42063.79406454,  36304.85427275,  29743.33742802,   1734.46407452,\n",
       "        39610.86680734,   4254.34870787,  43378.14602882,   9109.95196333,\n",
       "        41343.29253554,   3508.71519196,  18102.86221919,  42656.2166022 ,\n",
       "        10004.5284119 ,   4292.44889992,   1966.37968826,   1676.86477284,\n",
       "         1608.70437903,  26058.077443  ,  26778.50496589,  14200.00719381,\n",
       "         7944.69135314,   7836.3791763 ,  46864.95679091,  58617.97062639,\n",
       "         4736.83914255,   2270.13030428,  23422.41797653,   1783.71512959,\n",
       "        26700.75608264,  12933.94330355,  10588.17884122,   3627.9834637 ,\n",
       "         5201.03397093,  11609.02662172,   2834.05481866,   6570.61624581,\n",
       "        71472.29596487,  19948.81948407,  17348.93653235,  50745.68297711,\n",
       "        37258.22359457,  38380.17241178,   8821.31142953,   9047.7689234 ,\n",
       "        42281.18818958,  25285.94773126,   3155.11426394,   3552.09178948,\n",
       "         3736.96461203,   2108.53722771,  26382.78803193,  36532.47268398,\n",
       "        74263.99862606,  14732.95458354,   6549.66799975,  14308.75112714,\n",
       "          812.67394381,  12952.72516857,  15210.95079266,   2622.06907623,\n",
       "         1701.37258736,  12312.94005099,   6801.29184829,  10414.49383242,\n",
       "         2951.02189398,  16689.09756884,  29862.31889041, 102389.43772763,\n",
       "        25587.38808847, 105420.41423718,   7857.4877165 ,   5332.28777311,\n",
       "         1506.23832521,  15347.99776172,  19515.40260527,  17274.82307137,\n",
       "         4022.97863242,  11442.8331081 ,  14942.19764347,   2125.71602653,\n",
       "        37928.34126866,   5721.22800363,  13113.97108338,  17633.13298468,\n",
       "        12252.27719639,   1216.79278744,   3852.52590437,  21102.5589232 ,\n",
       "         1168.82562558,  27682.6079403 ,  56344.96375629,  10624.92711311,\n",
       "          986.20696062,   5861.08965603,   5539.82671595,  50538.6065696 ,\n",
       "        58790.06140389,   2477.9033451 ,  13966.49778022,  38565.40345261,\n",
       "        41885.92611335,  25029.76382064,   5235.47808502,  23008.66536715,\n",
       "        13018.60861238,   7804.16780147,  16305.48534045,   4182.53934131,\n",
       "        27383.254937  ,   3775.07502387,  37740.88825606,  30658.63199533,\n",
       "         9567.33912818,   5700.08893902,  44804.46017271, 127480.48251099,\n",
       "        23027.28926439,  24788.67927912,   1912.90118206,   6062.85581457,\n",
       "        54416.61249319,   4730.46186883,   2566.11917856,  87832.58651422,\n",
       "         2235.3146905 ,   1476.21371969,   8616.81241755,  60932.93003722,\n",
       "        14514.96055305,   3721.66067336,   3723.92091102,  22092.44125736,\n",
       "         3237.3925436 ,  14966.7137949 ,  30460.38408107,  32723.07195376,\n",
       "        48904.55437072,   8329.56058149,  28383.89621333,   1990.72665731,\n",
       "        13986.6283938 ,  20172.0612279 ,   1490.53623573,  16913.36607526,\n",
       "         2979.31023902,  16875.9877489 ,  15126.46133663,   2140.35737389,\n",
       "        13214.12254515,   5745.19122926,   6062.85581457,   3723.92091102,\n",
       "        32854.71905846,  11595.51237921,  25247.2017505 ,   3651.02148404,\n",
       "         2786.2722427 ,   1819.43435088,   8269.61463355,  16884.35346567,\n",
       "        21619.60793375,  57638.15908799,   6512.68213067,  11456.78995224,\n",
       "         6295.59058534,   3080.56575434,  16216.92698557,   6378.25656692,\n",
       "        10063.75847519,   2507.47166249,  13196.81122696,   3933.06646044,\n",
       "         2027.08491653])"
      ]
     },
     "execution_count": 164,
     "metadata": {},
     "output_type": "execute_result"
    }
   ],
   "source": [
    "gdp_16"
   ]
  },
  {
   "cell_type": "code",
   "execution_count": 165,
   "metadata": {
    "ExecuteTime": {
     "end_time": "2019-03-05T17:07:01.629325Z",
     "start_time": "2019-03-05T17:07:01.622720Z"
    }
   },
   "outputs": [
    {
     "data": {
      "text/plain": [
       "(229,)"
      ]
     },
     "execution_count": 165,
     "metadata": {},
     "output_type": "execute_result"
    }
   ],
   "source": [
    "gdp_16.shape"
   ]
  },
  {
   "cell_type": "code",
   "execution_count": 166,
   "metadata": {
    "ExecuteTime": {
     "end_time": "2019-03-05T17:07:01.641294Z",
     "start_time": "2019-03-05T17:07:01.633651Z"
    }
   },
   "outputs": [
    {
     "data": {
      "text/plain": [
       "13113.971083378701"
      ]
     },
     "execution_count": 166,
     "metadata": {},
     "output_type": "execute_result"
    }
   ],
   "source": [
    "np.median(gdp_16)"
   ]
  },
  {
   "cell_type": "code",
   "execution_count": 167,
   "metadata": {
    "ExecuteTime": {
     "end_time": "2019-03-05T17:07:01.651999Z",
     "start_time": "2019-03-05T17:07:01.644214Z"
    }
   },
   "outputs": [
    {
     "data": {
      "text/plain": [
       "19135.51651250454"
      ]
     },
     "execution_count": 167,
     "metadata": {},
     "output_type": "execute_result"
    }
   ],
   "source": [
    "np.mean(gdp_16)"
   ]
  },
  {
   "cell_type": "markdown",
   "metadata": {},
   "source": [
    "The unofficial threshold for a country with a developed economy is a GDP per capita of USD 12,000. Some economists prefer to see a per capita GDP of at least USD 25,000 to be comfortable declaring a country as developed, however. Many highly developed countries, including the United States, have high per capita GDPs of USD 40,000 or above."
   ]
  },
  {
   "cell_type": "code",
   "execution_count": 168,
   "metadata": {
    "ExecuteTime": {
     "end_time": "2019-03-05T17:07:01.663472Z",
     "start_time": "2019-03-05T17:07:01.655378Z"
    }
   },
   "outputs": [
    {
     "data": {
      "text/plain": [
       "32"
      ]
     },
     "execution_count": 168,
     "metadata": {},
     "output_type": "execute_result"
    }
   ],
   "source": [
    "np.count_nonzero(gdp_16[gdp_16 > 40000])"
   ]
  },
  {
   "cell_type": "code",
   "execution_count": 169,
   "metadata": {
    "ExecuteTime": {
     "end_time": "2019-03-05T17:07:01.676861Z",
     "start_time": "2019-03-05T17:07:01.667775Z"
    }
   },
   "outputs": [
    {
     "data": {
      "text/plain": [
       "array([ 698.70665573,  777.75285166,  801.63011974,  812.67394381,\n",
       "        986.20696062, 1168.82562558, 1216.79278744, 1476.21371969,\n",
       "       1490.53623573, 1506.23832521])"
      ]
     },
     "execution_count": 169,
     "metadata": {},
     "output_type": "execute_result"
    }
   ],
   "source": [
    "# 10 Lowest gdp per capita\n",
    "np.sort(gdp_16)[0:10]"
   ]
  },
  {
   "cell_type": "code",
   "execution_count": 170,
   "metadata": {
    "ExecuteTime": {
     "end_time": "2019-03-05T17:07:01.688807Z",
     "start_time": "2019-03-05T17:07:01.678950Z"
    }
   },
   "outputs": [
    {
     "data": {
      "text/plain": [
       "array([ 58790.06140389,  60932.93003722,  63888.73238665,  71472.29596487,\n",
       "        72399.65347339,  74263.99862606,  77420.61217204,  87832.58651422,\n",
       "       102389.43772763, 105420.41423718])"
      ]
     },
     "execution_count": 170,
     "metadata": {},
     "output_type": "execute_result"
    }
   ],
   "source": [
    "# 10 Highest gdp per capita\n",
    "np.sort(gdp_16)[-11:-1]\n",
    "# np.sort(gdp_16)[219:]"
   ]
  },
  {
   "cell_type": "markdown",
   "metadata": {
    "ExecuteTime": {
     "end_time": "2019-03-05T06:34:24.877951Z",
     "start_time": "2019-03-05T06:34:24.870857Z"
    }
   },
   "source": [
    "**How many countries have gdp per capita higher than Ukraine?**"
   ]
  },
  {
   "cell_type": "code",
   "execution_count": 171,
   "metadata": {
    "ExecuteTime": {
     "end_time": "2019-03-05T17:07:01.698104Z",
     "start_time": "2019-03-05T17:07:01.692110Z"
    }
   },
   "outputs": [],
   "source": [
    "ukraine = gdp_16[gdp_16 > 8269.6], gdp_16[gdp_16 <= 8269.6]"
   ]
  },
  {
   "cell_type": "code",
   "execution_count": 172,
   "metadata": {
    "ExecuteTime": {
     "end_time": "2019-03-05T17:07:01.708820Z",
     "start_time": "2019-03-05T17:07:01.700393Z"
    }
   },
   "outputs": [
    {
     "data": {
      "text/plain": [
       "145"
      ]
     },
     "execution_count": 172,
     "metadata": {},
     "output_type": "execute_result"
    }
   ],
   "source": [
    "# Hiegher GDP\n",
    "np.count_nonzero(ukraine[0])"
   ]
  },
  {
   "cell_type": "code",
   "execution_count": 173,
   "metadata": {
    "ExecuteTime": {
     "end_time": "2019-03-05T17:07:01.719730Z",
     "start_time": "2019-03-05T17:07:01.712118Z"
    }
   },
   "outputs": [
    {
     "data": {
      "text/plain": [
       "84"
      ]
     },
     "execution_count": 173,
     "metadata": {},
     "output_type": "execute_result"
    }
   ],
   "source": [
    "# lower gdp\n",
    "np.count_nonzero(ukraine[1])"
   ]
  },
  {
   "cell_type": "code",
   "execution_count": 174,
   "metadata": {
    "ExecuteTime": {
     "end_time": "2019-03-05T17:07:01.733411Z",
     "start_time": "2019-03-05T17:07:01.722699Z"
    }
   },
   "outputs": [
    {
     "data": {
      "text/plain": [
       "65"
      ]
     },
     "execution_count": 174,
     "metadata": {},
     "output_type": "execute_result"
    }
   ],
   "source": [
    "# Countries between Costa Rica and Finland\n",
    "np.count_nonzero((gdp_16 > 16609.7) & (gdp_16 < 43378.1))"
   ]
  },
  {
   "cell_type": "markdown",
   "metadata": {},
   "source": [
    "## Indexing - Boolean Arrays\n",
    "\n",
    "When we index arrays with arrays of (integer) indices we are providing the list of indices to pick. With boolean indices the approach is different; we explicitly choose which items in the array we want and which ones we don’t."
   ]
  },
  {
   "cell_type": "code",
   "execution_count": 175,
   "metadata": {
    "ExecuteTime": {
     "end_time": "2019-03-05T17:07:01.743211Z",
     "start_time": "2019-03-05T17:07:01.737136Z"
    }
   },
   "outputs": [],
   "source": [
    "a = np.arange(16).reshape(4,4)"
   ]
  },
  {
   "cell_type": "code",
   "execution_count": 176,
   "metadata": {
    "ExecuteTime": {
     "end_time": "2019-03-05T17:07:01.753099Z",
     "start_time": "2019-03-05T17:07:01.746592Z"
    }
   },
   "outputs": [
    {
     "data": {
      "text/plain": [
       "array([[ 0,  1,  2,  3],\n",
       "       [ 4,  5,  6,  7],\n",
       "       [ 8,  9, 10, 11],\n",
       "       [12, 13, 14, 15]])"
      ]
     },
     "execution_count": 176,
     "metadata": {},
     "output_type": "execute_result"
    }
   ],
   "source": [
    "a"
   ]
  },
  {
   "cell_type": "code",
   "execution_count": 177,
   "metadata": {
    "ExecuteTime": {
     "end_time": "2019-03-05T17:07:01.761327Z",
     "start_time": "2019-03-05T17:07:01.756535Z"
    }
   },
   "outputs": [],
   "source": [
    "indx_bool = a > 9"
   ]
  },
  {
   "cell_type": "code",
   "execution_count": 178,
   "metadata": {
    "ExecuteTime": {
     "end_time": "2019-03-05T17:07:01.771503Z",
     "start_time": "2019-03-05T17:07:01.765011Z"
    }
   },
   "outputs": [
    {
     "data": {
      "text/plain": [
       "array([[False, False, False, False],\n",
       "       [False, False, False, False],\n",
       "       [False, False,  True,  True],\n",
       "       [ True,  True,  True,  True]])"
      ]
     },
     "execution_count": 178,
     "metadata": {},
     "output_type": "execute_result"
    }
   ],
   "source": [
    "indx_bool"
   ]
  },
  {
   "cell_type": "code",
   "execution_count": 179,
   "metadata": {
    "ExecuteTime": {
     "end_time": "2019-03-05T17:07:01.781842Z",
     "start_time": "2019-03-05T17:07:01.774301Z"
    }
   },
   "outputs": [
    {
     "data": {
      "text/plain": [
       "array([10, 11, 12, 13, 14, 15])"
      ]
     },
     "execution_count": 179,
     "metadata": {},
     "output_type": "execute_result"
    }
   ],
   "source": [
    "a[indx_bool]"
   ]
  },
  {
   "cell_type": "code",
   "execution_count": 180,
   "metadata": {
    "ExecuteTime": {
     "end_time": "2019-03-05T17:07:01.793846Z",
     "start_time": "2019-03-05T17:07:01.785810Z"
    }
   },
   "outputs": [
    {
     "data": {
      "text/plain": [
       "array([10, 11, 12, 13, 14, 15])"
      ]
     },
     "execution_count": 180,
     "metadata": {},
     "output_type": "execute_result"
    }
   ],
   "source": [
    "a[a > 9]"
   ]
  },
  {
   "cell_type": "code",
   "execution_count": 181,
   "metadata": {
    "ExecuteTime": {
     "end_time": "2019-03-05T17:07:01.804978Z",
     "start_time": "2019-03-05T17:07:01.797353Z"
    }
   },
   "outputs": [
    {
     "data": {
      "text/plain": [
       "array([[ 0,  0,  0,  0],\n",
       "       [ 0,  0,  0,  0],\n",
       "       [ 0,  0, 10, 11],\n",
       "       [12, 13, 14, 15]])"
      ]
     },
     "execution_count": 181,
     "metadata": {},
     "output_type": "execute_result"
    }
   ],
   "source": [
    "# filtering\n",
    "a * (a > 9)"
   ]
  },
  {
   "cell_type": "code",
   "execution_count": 182,
   "metadata": {
    "ExecuteTime": {
     "end_time": "2019-03-05T17:07:01.815173Z",
     "start_time": "2019-03-05T17:07:01.807801Z"
    }
   },
   "outputs": [
    {
     "data": {
      "text/plain": [
       "array([[ True,  True,  True,  True],\n",
       "       [ True,  True, False, False],\n",
       "       [False, False, False, False],\n",
       "       [False, False, False, False]])"
      ]
     },
     "execution_count": 182,
     "metadata": {},
     "output_type": "execute_result"
    }
   ],
   "source": [
    "a < 6"
   ]
  },
  {
   "cell_type": "code",
   "execution_count": 183,
   "metadata": {
    "ExecuteTime": {
     "end_time": "2019-03-05T17:07:01.824998Z",
     "start_time": "2019-03-05T17:07:01.817770Z"
    }
   },
   "outputs": [
    {
     "data": {
      "text/plain": [
       "6"
      ]
     },
     "execution_count": 183,
     "metadata": {},
     "output_type": "execute_result"
    }
   ],
   "source": [
    "np.count_nonzero(a < 6)"
   ]
  },
  {
   "cell_type": "code",
   "execution_count": 184,
   "metadata": {
    "ExecuteTime": {
     "end_time": "2019-03-05T17:07:01.836680Z",
     "start_time": "2019-03-05T17:07:01.828967Z"
    }
   },
   "outputs": [
    {
     "data": {
      "text/plain": [
       "6"
      ]
     },
     "execution_count": 184,
     "metadata": {},
     "output_type": "execute_result"
    }
   ],
   "source": [
    "np.sum(a < 6)"
   ]
  },
  {
   "cell_type": "code",
   "execution_count": 185,
   "metadata": {
    "ExecuteTime": {
     "end_time": "2019-03-05T17:07:01.849131Z",
     "start_time": "2019-03-05T17:07:01.840332Z"
    }
   },
   "outputs": [
    {
     "data": {
      "text/plain": [
       "array([4, 2, 0, 0])"
      ]
     },
     "execution_count": 185,
     "metadata": {},
     "output_type": "execute_result"
    }
   ],
   "source": [
    "# How many values less than 6 in each row?\n",
    "np.sum(a < 6, axis=1)"
   ]
  },
  {
   "cell_type": "code",
   "execution_count": 186,
   "metadata": {
    "ExecuteTime": {
     "end_time": "2019-03-05T17:07:01.858558Z",
     "start_time": "2019-03-05T17:07:01.852033Z"
    }
   },
   "outputs": [
    {
     "data": {
      "text/plain": [
       "True"
      ]
     },
     "execution_count": 186,
     "metadata": {},
     "output_type": "execute_result"
    }
   ],
   "source": [
    "# Are there any values greater than 8?\n",
    "np.any(a > 8)"
   ]
  },
  {
   "cell_type": "code",
   "execution_count": 187,
   "metadata": {
    "ExecuteTime": {
     "end_time": "2019-03-05T17:07:01.868153Z",
     "start_time": "2019-03-05T17:07:01.861714Z"
    }
   },
   "outputs": [
    {
     "data": {
      "text/plain": [
       "False"
      ]
     },
     "execution_count": 187,
     "metadata": {},
     "output_type": "execute_result"
    }
   ],
   "source": [
    "# Are all values less than 10?\n",
    "np.all(a < 10)"
   ]
  },
  {
   "cell_type": "code",
   "execution_count": 188,
   "metadata": {
    "ExecuteTime": {
     "end_time": "2019-03-05T17:07:01.877122Z",
     "start_time": "2019-03-05T17:07:01.870855Z"
    }
   },
   "outputs": [
    {
     "data": {
      "text/plain": [
       "True"
      ]
     },
     "execution_count": 188,
     "metadata": {},
     "output_type": "execute_result"
    }
   ],
   "source": [
    "# Are all values less than 100?\n",
    "np.all(a < 100)"
   ]
  },
  {
   "cell_type": "code",
   "execution_count": 189,
   "metadata": {
    "ExecuteTime": {
     "end_time": "2019-03-05T17:07:01.885814Z",
     "start_time": "2019-03-05T17:07:01.879625Z"
    }
   },
   "outputs": [
    {
     "data": {
      "text/plain": [
       "array([ True,  True, False, False])"
      ]
     },
     "execution_count": 189,
     "metadata": {},
     "output_type": "execute_result"
    }
   ],
   "source": [
    "# Are all values in each row less than 9?\n",
    "np.all(a < 9, axis=1)"
   ]
  },
  {
   "cell_type": "markdown",
   "metadata": {},
   "source": [
    "## Structured Arrays"
   ]
  },
  {
   "cell_type": "markdown",
   "metadata": {},
   "source": [
    "**Structured arrays** or **record arrays** are useful when you perform computations, and at the same time you could keep closely related data together. Structured arrays provide efficient storage for compound, heterogeneous data.\n",
    "\n",
    "NumPy also provides powerful capabilities to create arrays of records, as multiple data types live in one NumPy array. However, one principle in NumPy that still needs to be honored is that the data type in each field (think of this as a column in the records) needs to be homogeneous. "
   ]
  },
  {
   "cell_type": "code",
   "execution_count": 190,
   "metadata": {
    "ExecuteTime": {
     "end_time": "2019-03-05T17:07:01.895522Z",
     "start_time": "2019-03-05T17:07:01.888768Z"
    }
   },
   "outputs": [],
   "source": [
    "name  = [\"Alice\",\"Beth\",\"Cathy\",\"Dorothy\"]\n",
    "studentId  = [1,2,3,4]\n",
    "score = [85.4,90.4,87.66,78.9]"
   ]
  },
  {
   "cell_type": "markdown",
   "metadata": {},
   "source": [
    "There's nothing here that tells us that the three arrays are related; it would be more natural if we could use a single structure to store all of this data. \n",
    "\n",
    "**Define the np array with the names of the 'columns' and the data format for each**\n",
    "* U10 represents a 10-character Unicode string\n",
    "* i4 is short for int32 (i for int, 4 for 4 bytes)\n",
    "* f8 is shorthand for float64"
   ]
  },
  {
   "cell_type": "code",
   "execution_count": 191,
   "metadata": {
    "ExecuteTime": {
     "end_time": "2019-03-05T17:07:01.904254Z",
     "start_time": "2019-03-05T17:07:01.898574Z"
    }
   },
   "outputs": [],
   "source": [
    "student_data = np.zeros(4, dtype={'names':('name', 'studentId', 'score'),\n",
    "                          'formats':('U10', 'i4', 'f8')})"
   ]
  },
  {
   "cell_type": "code",
   "execution_count": 192,
   "metadata": {
    "ExecuteTime": {
     "end_time": "2019-03-05T17:07:01.914165Z",
     "start_time": "2019-03-05T17:07:01.907069Z"
    }
   },
   "outputs": [
    {
     "data": {
      "text/plain": [
       "array([('', 0, 0.), ('', 0, 0.), ('', 0, 0.), ('', 0, 0.)],\n",
       "      dtype=[('name', '<U10'), ('studentId', '<i4'), ('score', '<f8')])"
      ]
     },
     "execution_count": 192,
     "metadata": {},
     "output_type": "execute_result"
    }
   ],
   "source": [
    "# np.zeros() for a string sets it to an empty string\n",
    "student_data"
   ]
  },
  {
   "cell_type": "code",
   "execution_count": 193,
   "metadata": {
    "ExecuteTime": {
     "end_time": "2019-03-05T17:07:01.923003Z",
     "start_time": "2019-03-05T17:07:01.916942Z"
    }
   },
   "outputs": [
    {
     "data": {
      "text/plain": [
       "dtype([('name', '<U10'), ('studentId', '<i4'), ('score', '<f8')])"
      ]
     },
     "execution_count": 193,
     "metadata": {},
     "output_type": "execute_result"
    }
   ],
   "source": [
    "student_data.dtype"
   ]
  },
  {
   "cell_type": "markdown",
   "metadata": {},
   "source": [
    "Now that we've created an empty container array, we can fill the array with our lists of values"
   ]
  },
  {
   "cell_type": "code",
   "execution_count": 194,
   "metadata": {
    "ExecuteTime": {
     "end_time": "2019-03-05T17:07:01.939016Z",
     "start_time": "2019-03-05T17:07:01.928793Z"
    }
   },
   "outputs": [
    {
     "data": {
      "text/plain": [
       "array([('Alice', 1, 85.4 ), ('Beth', 2, 90.4 ), ('Cathy', 3, 87.66),\n",
       "       ('Dorothy', 4, 78.9 )],\n",
       "      dtype=[('name', '<U10'), ('studentId', '<i4'), ('score', '<f8')])"
      ]
     },
     "execution_count": 194,
     "metadata": {},
     "output_type": "execute_result"
    }
   ],
   "source": [
    "student_data['name'] = name\n",
    "student_data['studentId'] = studentId\n",
    "student_data['score'] = score\n",
    "student_data"
   ]
  },
  {
   "cell_type": "markdown",
   "metadata": {},
   "source": [
    "The handy thing with structured arrays is that you can now refer to values either by index or by name"
   ]
  },
  {
   "cell_type": "code",
   "execution_count": 195,
   "metadata": {
    "ExecuteTime": {
     "end_time": "2019-03-05T17:07:01.950888Z",
     "start_time": "2019-03-05T17:07:01.941935Z"
    }
   },
   "outputs": [
    {
     "data": {
      "text/plain": [
       "array(['Alice', 'Beth', 'Cathy', 'Dorothy'], dtype='<U10')"
      ]
     },
     "execution_count": 195,
     "metadata": {},
     "output_type": "execute_result"
    }
   ],
   "source": [
    "student_data['name']"
   ]
  },
  {
   "cell_type": "code",
   "execution_count": 196,
   "metadata": {
    "ExecuteTime": {
     "end_time": "2019-03-05T17:07:01.963418Z",
     "start_time": "2019-03-05T17:07:01.954768Z"
    }
   },
   "outputs": [
    {
     "data": {
      "text/plain": [
       "array([1, 2, 3, 4], dtype=int32)"
      ]
     },
     "execution_count": 196,
     "metadata": {},
     "output_type": "execute_result"
    }
   ],
   "source": [
    "student_data['studentId']"
   ]
  },
  {
   "cell_type": "code",
   "execution_count": 197,
   "metadata": {
    "ExecuteTime": {
     "end_time": "2019-03-05T17:07:01.975024Z",
     "start_time": "2019-03-05T17:07:01.967463Z"
    }
   },
   "outputs": [
    {
     "data": {
      "text/plain": [
       "array([85.4 , 90.4 , 87.66, 78.9 ])"
      ]
     },
     "execution_count": 197,
     "metadata": {},
     "output_type": "execute_result"
    }
   ],
   "source": [
    "student_data['score']"
   ]
  },
  {
   "cell_type": "markdown",
   "metadata": {},
   "source": [
    "If you index student_data at position 1 you get a structure:"
   ]
  },
  {
   "cell_type": "code",
   "execution_count": 198,
   "metadata": {
    "ExecuteTime": {
     "end_time": "2019-03-05T17:07:01.986928Z",
     "start_time": "2019-03-05T17:07:01.978374Z"
    }
   },
   "outputs": [
    {
     "data": {
      "text/plain": [
       "('Beth', 2, 90.4)"
      ]
     },
     "execution_count": 198,
     "metadata": {},
     "output_type": "execute_result"
    }
   ],
   "source": [
    "student_data[1]"
   ]
  },
  {
   "cell_type": "code",
   "execution_count": 199,
   "metadata": {
    "ExecuteTime": {
     "end_time": "2019-03-05T17:07:02.028940Z",
     "start_time": "2019-03-05T17:07:02.019979Z"
    }
   },
   "outputs": [
    {
     "data": {
      "text/plain": [
       "'Dorothy'"
      ]
     },
     "execution_count": 199,
     "metadata": {},
     "output_type": "execute_result"
    }
   ],
   "source": [
    "# Get the name attribute from the last row\n",
    "student_data[-1]['name']"
   ]
  },
  {
   "cell_type": "code",
   "execution_count": 200,
   "metadata": {
    "ExecuteTime": {
     "end_time": "2019-03-05T17:07:02.041420Z",
     "start_time": "2019-03-05T17:07:02.033758Z"
    }
   },
   "outputs": [
    {
     "data": {
      "text/plain": [
       "array(['Alice', 'Beth', 'Cathy'], dtype='<U10')"
      ]
     },
     "execution_count": 200,
     "metadata": {},
     "output_type": "execute_result"
    }
   ],
   "source": [
    "# Get names where score is above 85\n",
    "student_data[student_data['score'] > 85]['name']"
   ]
  },
  {
   "cell_type": "markdown",
   "metadata": {},
   "source": [
    "Note that if you'd like to do any operations that are any more complicated than these, you should probably consider the Pandas package with provides a powerful data structure called data frames."
   ]
  },
  {
   "cell_type": "markdown",
   "metadata": {},
   "source": [
    "## Broadcasting"
   ]
  },
  {
   "cell_type": "markdown",
   "metadata": {},
   "source": [
    "* Broadcasting is a powerful mechanism that allows numpy to work with arrays of different shapes when performing arithmetic operations. \n",
    "* Broadcasting solves the problem of arithmetic between arrays of differing shapes by in effect replicating the smaller array along the last mismatched dimension.\n",
    "* NumPy operations are usually done on pairs of arrays on an element-by-element basis. In the simplest case, the two arrays must have exactly the same shape, as in the following example:"
   ]
  },
  {
   "cell_type": "code",
   "execution_count": 201,
   "metadata": {
    "ExecuteTime": {
     "end_time": "2019-03-05T17:07:02.050135Z",
     "start_time": "2019-03-05T17:07:02.045137Z"
    }
   },
   "outputs": [],
   "source": [
    "a = np.array([1,2,3,4,5])\n",
    "b = np.array([10,10,10,10,10])"
   ]
  },
  {
   "cell_type": "code",
   "execution_count": 202,
   "metadata": {
    "ExecuteTime": {
     "end_time": "2019-03-05T17:07:02.062278Z",
     "start_time": "2019-03-05T17:07:02.053286Z"
    }
   },
   "outputs": [
    {
     "data": {
      "text/plain": [
       "array([10, 20, 30, 40, 50])"
      ]
     },
     "execution_count": 202,
     "metadata": {},
     "output_type": "execute_result"
    }
   ],
   "source": [
    "a * b"
   ]
  },
  {
   "cell_type": "markdown",
   "metadata": {},
   "source": [
    "If the dimensions of two arrays are dissimilar, element-to-element operations are not possible. However, operations on arrays of non-similar shapes is still possible in NumPy, because of the <b>broadcasting </b> capability. The smaller array is broadcast to the size of the larger array so that they have compatible shapes."
   ]
  },
  {
   "cell_type": "code",
   "execution_count": 203,
   "metadata": {
    "ExecuteTime": {
     "end_time": "2019-03-05T17:07:02.075488Z",
     "start_time": "2019-03-05T17:07:02.066274Z"
    }
   },
   "outputs": [
    {
     "data": {
      "text/plain": [
       "array([10, 20, 30, 40, 50])"
      ]
     },
     "execution_count": 203,
     "metadata": {},
     "output_type": "execute_result"
    }
   ],
   "source": [
    "a * 10"
   ]
  },
  {
   "cell_type": "code",
   "execution_count": 204,
   "metadata": {
    "ExecuteTime": {
     "end_time": "2019-03-05T17:07:02.087913Z",
     "start_time": "2019-03-05T17:07:02.079137Z"
    }
   },
   "outputs": [
    {
     "data": {
      "text/plain": [
       "array([[10., 10., 10.],\n",
       "       [10., 10., 10.],\n",
       "       [10., 10., 10.],\n",
       "       [10., 10., 10.]])"
      ]
     },
     "execution_count": 204,
     "metadata": {},
     "output_type": "execute_result"
    }
   ],
   "source": [
    "# Scalar and n-Dimensional Array\n",
    "np.ones((4,3)) * 10"
   ]
  },
  {
   "cell_type": "code",
   "execution_count": 205,
   "metadata": {
    "ExecuteTime": {
     "end_time": "2019-03-05T17:07:02.101406Z",
     "start_time": "2019-03-05T17:07:02.093906Z"
    }
   },
   "outputs": [],
   "source": [
    "# One-Dimensional and n-Dimensional Arrays\n",
    "heights  = [165,170,168,183,172,169]\n",
    "weights  = [61,76,56,81,62,60]\n",
    "student_bio = np.array([heights,weights])"
   ]
  },
  {
   "cell_type": "code",
   "execution_count": 206,
   "metadata": {
    "ExecuteTime": {
     "end_time": "2019-03-05T17:07:02.115708Z",
     "start_time": "2019-03-05T17:07:02.106229Z"
    }
   },
   "outputs": [
    {
     "data": {
      "text/plain": [
       "array([[165, 170, 168, 183, 172, 169],\n",
       "       [ 61,  76,  56,  81,  62,  60]])"
      ]
     },
     "execution_count": 206,
     "metadata": {},
     "output_type": "execute_result"
    }
   ],
   "source": [
    "student_bio"
   ]
  },
  {
   "cell_type": "code",
   "execution_count": 207,
   "metadata": {
    "ExecuteTime": {
     "end_time": "2019-03-05T17:07:02.126532Z",
     "start_time": "2019-03-05T17:07:02.119652Z"
    }
   },
   "outputs": [],
   "source": [
    "factor_1 = np.array([0.0328084,2.20462 ])"
   ]
  },
  {
   "cell_type": "code",
   "execution_count": 208,
   "metadata": {
    "ExecuteTime": {
     "end_time": "2019-03-05T17:07:02.140848Z",
     "start_time": "2019-03-05T17:07:02.132089Z"
    }
   },
   "outputs": [
    {
     "data": {
      "text/plain": [
       "(2,)"
      ]
     },
     "execution_count": 208,
     "metadata": {},
     "output_type": "execute_result"
    }
   ],
   "source": [
    "factor_1.shape"
   ]
  },
  {
   "cell_type": "code",
   "execution_count": 209,
   "metadata": {
    "ExecuteTime": {
     "end_time": "2019-03-05T17:07:02.153745Z",
     "start_time": "2019-03-05T17:07:02.144780Z"
    }
   },
   "outputs": [
    {
     "data": {
      "text/plain": [
       "(2, 6)"
      ]
     },
     "execution_count": 209,
     "metadata": {},
     "output_type": "execute_result"
    }
   ],
   "source": [
    "student_bio.shape"
   ]
  },
  {
   "cell_type": "markdown",
   "metadata": {},
   "source": [
    "**General Broadcasting Rules**\n",
    "\n",
    "When operating on two arrays, NumPy compares their shapes element-wise. The dimensions are considered in reverse order, starting with the trailing dimensions, and working its way forward. Two dimensions are compatible when\n",
    "\n",
    "1. they are equal\n",
    "2. one of them is of size 1\n",
    "\n",
    "**Shape mismatch**\n",
    "This fails because there is a mismatch in the trailing dimensions  \n",
    "* student bio:  `2` x `6` \n",
    "* factor_1: `2`\n",
    "\n",
    "The trailing dimensions here are 6 and 2, so there is a mismatch"
   ]
  },
  {
   "cell_type": "code",
   "execution_count": 210,
   "metadata": {
    "ExecuteTime": {
     "end_time": "2019-03-05T17:07:02.164402Z",
     "start_time": "2019-03-05T17:07:02.156994Z"
    }
   },
   "outputs": [
    {
     "name": "stdout",
     "output_type": "stream",
     "text": [
      "Error: operands could not be broadcast together with shapes (2,6) (2,) \n"
     ]
    }
   ],
   "source": [
    "try:\n",
    "    student_bio * factor_1\n",
    "except ValueError as e:\n",
    "    print(\"Error:\", e)"
   ]
  },
  {
   "cell_type": "code",
   "execution_count": 211,
   "metadata": {
    "ExecuteTime": {
     "end_time": "2019-03-05T17:07:02.174359Z",
     "start_time": "2019-03-05T17:07:02.167999Z"
    }
   },
   "outputs": [],
   "source": [
    "factor_2 = np.array([[0.0328084],[2.20462 ]])"
   ]
  },
  {
   "cell_type": "code",
   "execution_count": 212,
   "metadata": {
    "ExecuteTime": {
     "end_time": "2019-03-05T17:07:02.186003Z",
     "start_time": "2019-03-05T17:07:02.177820Z"
    }
   },
   "outputs": [
    {
     "data": {
      "text/plain": [
       "(2, 1)"
      ]
     },
     "execution_count": 212,
     "metadata": {},
     "output_type": "execute_result"
    }
   ],
   "source": [
    "factor_2.shape"
   ]
  },
  {
   "cell_type": "code",
   "execution_count": 213,
   "metadata": {
    "ExecuteTime": {
     "end_time": "2019-03-05T17:07:02.198404Z",
     "start_time": "2019-03-05T17:07:02.189823Z"
    }
   },
   "outputs": [
    {
     "data": {
      "text/plain": [
       "array([[  5.413386 ,   5.577428 ,   5.5118112,   6.0039372,   5.6430448,\n",
       "          5.5446196],\n",
       "       [134.48182  , 167.55112  , 123.45872  , 178.57422  , 136.68644  ,\n",
       "        132.2772   ]])"
      ]
     },
     "execution_count": 213,
     "metadata": {},
     "output_type": "execute_result"
    }
   ],
   "source": [
    "student_bio * factor_2"
   ]
  },
  {
   "cell_type": "markdown",
   "metadata": {},
   "source": [
    "## Automatic Reshaping\n",
    "> If you're specifying 2 out of 3 dimensions, the product of the two dimensions must be a divisor of the total number of elements in the array"
   ]
  },
  {
   "cell_type": "code",
   "execution_count": 214,
   "metadata": {
    "ExecuteTime": {
     "end_time": "2019-03-05T17:07:02.208137Z",
     "start_time": "2019-03-05T17:07:02.201878Z"
    }
   },
   "outputs": [],
   "source": [
    "a = np.arange(30)"
   ]
  },
  {
   "cell_type": "code",
   "execution_count": 215,
   "metadata": {
    "ExecuteTime": {
     "end_time": "2019-03-05T17:07:02.221854Z",
     "start_time": "2019-03-05T17:07:02.211773Z"
    }
   },
   "outputs": [
    {
     "data": {
      "text/plain": [
       "array([ 0,  1,  2,  3,  4,  5,  6,  7,  8,  9, 10, 11, 12, 13, 14, 15, 16,\n",
       "       17, 18, 19, 20, 21, 22, 23, 24, 25, 26, 27, 28, 29])"
      ]
     },
     "execution_count": 215,
     "metadata": {},
     "output_type": "execute_result"
    }
   ],
   "source": [
    "a"
   ]
  },
  {
   "cell_type": "markdown",
   "metadata": {},
   "source": [
    "`-1` means \"whatever is needed\""
   ]
  },
  {
   "cell_type": "code",
   "execution_count": 216,
   "metadata": {
    "ExecuteTime": {
     "end_time": "2019-03-05T17:07:02.235371Z",
     "start_time": "2019-03-05T17:07:02.225447Z"
    },
    "scrolled": true
   },
   "outputs": [
    {
     "data": {
      "text/plain": [
       "array([[[ 0,  1,  2],\n",
       "        [ 3,  4,  5],\n",
       "        [ 6,  7,  8],\n",
       "        [ 9, 10, 11],\n",
       "        [12, 13, 14]],\n",
       "\n",
       "       [[15, 16, 17],\n",
       "        [18, 19, 20],\n",
       "        [21, 22, 23],\n",
       "        [24, 25, 26],\n",
       "        [27, 28, 29]]])"
      ]
     },
     "execution_count": 216,
     "metadata": {},
     "output_type": "execute_result"
    }
   ],
   "source": [
    "a.shape = 2,-1,3  \n",
    "a"
   ]
  },
  {
   "cell_type": "code",
   "execution_count": 217,
   "metadata": {
    "ExecuteTime": {
     "end_time": "2019-03-05T17:07:02.247539Z",
     "start_time": "2019-03-05T17:07:02.238072Z"
    }
   },
   "outputs": [
    {
     "data": {
      "text/plain": [
       "(2, 5, 3)"
      ]
     },
     "execution_count": 217,
     "metadata": {},
     "output_type": "execute_result"
    }
   ],
   "source": [
    "a.shape"
   ]
  },
  {
   "cell_type": "code",
   "execution_count": 218,
   "metadata": {
    "ExecuteTime": {
     "end_time": "2019-03-05T17:07:02.261015Z",
     "start_time": "2019-03-05T17:07:02.251154Z"
    }
   },
   "outputs": [
    {
     "data": {
      "text/plain": [
       "array([[[ 0,  1,  2,  3,  4],\n",
       "        [ 5,  6,  7,  8,  9],\n",
       "        [10, 11, 12, 13, 14]],\n",
       "\n",
       "       [[15, 16, 17, 18, 19],\n",
       "        [20, 21, 22, 23, 24],\n",
       "        [25, 26, 27, 28, 29]]])"
      ]
     },
     "execution_count": 218,
     "metadata": {},
     "output_type": "execute_result"
    }
   ],
   "source": [
    "a.shape = 2,3,-1\n",
    "a"
   ]
  },
  {
   "cell_type": "code",
   "execution_count": 219,
   "metadata": {
    "ExecuteTime": {
     "end_time": "2019-03-05T17:07:02.271592Z",
     "start_time": "2019-03-05T17:07:02.263527Z"
    },
    "scrolled": true
   },
   "outputs": [
    {
     "data": {
      "text/plain": [
       "(2, 3, 5)"
      ]
     },
     "execution_count": 219,
     "metadata": {},
     "output_type": "execute_result"
    }
   ],
   "source": [
    "a.shape"
   ]
  },
  {
   "cell_type": "markdown",
   "metadata": {},
   "source": [
    "## Vector Stacking"
   ]
  },
  {
   "cell_type": "code",
   "execution_count": 220,
   "metadata": {
    "ExecuteTime": {
     "end_time": "2019-03-05T17:07:02.281255Z",
     "start_time": "2019-03-05T17:07:02.275145Z"
    }
   },
   "outputs": [],
   "source": [
    "x = np.array([[\"Germany\",\"France\"],[\"Berlin\",\"Paris\"]])\n",
    "y = np.array([[\"Hungary\",\"Austria\"],[\"Budapest\",\"Vienna\"]])"
   ]
  },
  {
   "cell_type": "code",
   "execution_count": 221,
   "metadata": {
    "ExecuteTime": {
     "end_time": "2019-03-05T17:07:02.293817Z",
     "start_time": "2019-03-05T17:07:02.284603Z"
    }
   },
   "outputs": [
    {
     "data": {
      "text/plain": [
       "(2, 2)"
      ]
     },
     "execution_count": 221,
     "metadata": {},
     "output_type": "execute_result"
    }
   ],
   "source": [
    "x.shape"
   ]
  },
  {
   "cell_type": "code",
   "execution_count": 222,
   "metadata": {
    "ExecuteTime": {
     "end_time": "2019-03-05T17:07:02.303898Z",
     "start_time": "2019-03-05T17:07:02.296095Z"
    }
   },
   "outputs": [
    {
     "data": {
      "text/plain": [
       "(2, 2)"
      ]
     },
     "execution_count": 222,
     "metadata": {},
     "output_type": "execute_result"
    }
   ],
   "source": [
    "y.shape"
   ]
  },
  {
   "cell_type": "code",
   "execution_count": 223,
   "metadata": {
    "ExecuteTime": {
     "end_time": "2019-03-05T17:07:02.316902Z",
     "start_time": "2019-03-05T17:07:02.307733Z"
    }
   },
   "outputs": [
    {
     "data": {
      "text/plain": [
       "array([['Germany', 'France'],\n",
       "       ['Berlin', 'Paris'],\n",
       "       ['Hungary', 'Austria'],\n",
       "       ['Budapest', 'Vienna']], dtype='<U8')"
      ]
     },
     "execution_count": 223,
     "metadata": {},
     "output_type": "execute_result"
    }
   ],
   "source": [
    "# Joining two arrays along axis 0\n",
    "np.concatenate((x,y))"
   ]
  },
  {
   "cell_type": "code",
   "execution_count": 224,
   "metadata": {
    "ExecuteTime": {
     "end_time": "2019-03-05T17:07:02.330068Z",
     "start_time": "2019-03-05T17:07:02.320051Z"
    }
   },
   "outputs": [
    {
     "data": {
      "text/plain": [
       "array([['Germany', 'France', 'Hungary', 'Austria'],\n",
       "       ['Berlin', 'Paris', 'Budapest', 'Vienna']], dtype='<U8')"
      ]
     },
     "execution_count": 224,
     "metadata": {},
     "output_type": "execute_result"
    }
   ],
   "source": [
    "# Joining two arrays along axis 1 - Column-wise\n",
    "np.concatenate((x,y), axis = 1)"
   ]
  },
  {
   "cell_type": "code",
   "execution_count": 225,
   "metadata": {
    "ExecuteTime": {
     "end_time": "2019-03-05T17:07:02.338722Z",
     "start_time": "2019-03-05T17:07:02.332716Z"
    }
   },
   "outputs": [],
   "source": [
    "a = np.array([1, 2, 3])\n",
    "b = np.array([2, 3, 4])"
   ]
  },
  {
   "cell_type": "code",
   "execution_count": 226,
   "metadata": {
    "ExecuteTime": {
     "end_time": "2019-03-05T17:07:02.350888Z",
     "start_time": "2019-03-05T17:07:02.340876Z"
    }
   },
   "outputs": [
    {
     "data": {
      "text/plain": [
       "array([[1, 2, 3],\n",
       "       [2, 3, 4]])"
      ]
     },
     "execution_count": 226,
     "metadata": {},
     "output_type": "execute_result"
    }
   ],
   "source": [
    "np.stack((a, b))"
   ]
  },
  {
   "cell_type": "code",
   "execution_count": 227,
   "metadata": {
    "ExecuteTime": {
     "end_time": "2019-03-05T17:07:02.360544Z",
     "start_time": "2019-03-05T17:07:02.354088Z"
    }
   },
   "outputs": [],
   "source": [
    "studentId = np.array([1,2,3,4])\n",
    "name   = np.array([\"Alice\",\"Beth\",\"Cathy\",\"Dorothy\"])\n",
    "scores  = np.array([65,78,90,81])"
   ]
  },
  {
   "cell_type": "code",
   "execution_count": 228,
   "metadata": {
    "ExecuteTime": {
     "end_time": "2019-03-05T17:07:02.372109Z",
     "start_time": "2019-03-05T17:07:02.363446Z"
    }
   },
   "outputs": [
    {
     "data": {
      "text/plain": [
       "array([['1', '2', '3', '4'],\n",
       "       ['Alice', 'Beth', 'Cathy', 'Dorothy'],\n",
       "       ['65', '78', '90', '81']], dtype='<U21')"
      ]
     },
     "execution_count": 228,
     "metadata": {},
     "output_type": "execute_result"
    }
   ],
   "source": [
    "np.stack((studentId, name, scores))"
   ]
  },
  {
   "cell_type": "code",
   "execution_count": 229,
   "metadata": {
    "ExecuteTime": {
     "end_time": "2019-03-05T17:07:02.385167Z",
     "start_time": "2019-03-05T17:07:02.375529Z"
    }
   },
   "outputs": [
    {
     "data": {
      "text/plain": [
       "(3, 4)"
      ]
     },
     "execution_count": 229,
     "metadata": {},
     "output_type": "execute_result"
    }
   ],
   "source": [
    "np.stack((studentId, name, scores)).shape"
   ]
  },
  {
   "cell_type": "code",
   "execution_count": 230,
   "metadata": {
    "ExecuteTime": {
     "end_time": "2019-03-05T17:07:02.397887Z",
     "start_time": "2019-03-05T17:07:02.390360Z"
    }
   },
   "outputs": [
    {
     "data": {
      "text/plain": [
       "array([['1', 'Alice', '65'],\n",
       "       ['2', 'Beth', '78'],\n",
       "       ['3', 'Cathy', '90'],\n",
       "       ['4', 'Dorothy', '81']], dtype='<U21')"
      ]
     },
     "execution_count": 230,
     "metadata": {},
     "output_type": "execute_result"
    }
   ],
   "source": [
    "np.stack((studentId, name, scores), axis =1)"
   ]
  },
  {
   "cell_type": "code",
   "execution_count": 231,
   "metadata": {
    "ExecuteTime": {
     "end_time": "2019-03-05T17:07:02.410440Z",
     "start_time": "2019-03-05T17:07:02.401291Z"
    }
   },
   "outputs": [
    {
     "data": {
      "text/plain": [
       "(4, 3)"
      ]
     },
     "execution_count": 231,
     "metadata": {},
     "output_type": "execute_result"
    }
   ],
   "source": [
    "np.stack((studentId, name, scores), axis =1).shape"
   ]
  },
  {
   "cell_type": "code",
   "execution_count": 232,
   "metadata": {
    "ExecuteTime": {
     "end_time": "2019-03-05T17:07:02.421285Z",
     "start_time": "2019-03-05T17:07:02.413102Z"
    }
   },
   "outputs": [
    {
     "data": {
      "text/plain": [
       "array([['1', '2', '3', '4'],\n",
       "       ['Alice', 'Beth', 'Cathy', 'Dorothy'],\n",
       "       ['65', '78', '90', '81']], dtype='<U21')"
      ]
     },
     "execution_count": 232,
     "metadata": {},
     "output_type": "execute_result"
    }
   ],
   "source": [
    "# Stacks row wise \n",
    "\n",
    "np.vstack((studentId, name, scores)) "
   ]
  },
  {
   "cell_type": "code",
   "execution_count": 233,
   "metadata": {
    "ExecuteTime": {
     "end_time": "2019-03-05T17:07:02.433166Z",
     "start_time": "2019-03-05T17:07:02.424175Z"
    }
   },
   "outputs": [
    {
     "data": {
      "text/plain": [
       "array(['1', '2', '3', '4', 'Alice', 'Beth', 'Cathy', 'Dorothy', '65',\n",
       "       '78', '90', '81'], dtype='<U21')"
      ]
     },
     "execution_count": 233,
     "metadata": {},
     "output_type": "execute_result"
    }
   ],
   "source": [
    "# Stacks column wise\n",
    "np.hstack((studentId, name, scores)) "
   ]
  },
  {
   "cell_type": "code",
   "execution_count": 234,
   "metadata": {
    "ExecuteTime": {
     "end_time": "2019-03-05T17:07:02.443756Z",
     "start_time": "2019-03-05T17:07:02.436036Z"
    }
   },
   "outputs": [
    {
     "data": {
      "text/plain": [
       "(12,)"
      ]
     },
     "execution_count": 234,
     "metadata": {},
     "output_type": "execute_result"
    }
   ],
   "source": [
    "np.hstack((studentId, name, scores)).shape"
   ]
  },
  {
   "cell_type": "markdown",
   "metadata": {},
   "source": [
    "## Histograms"
   ]
  },
  {
   "cell_type": "code",
   "execution_count": 235,
   "metadata": {
    "ExecuteTime": {
     "end_time": "2019-03-05T17:07:02.459195Z",
     "start_time": "2019-03-05T17:07:02.447836Z"
    }
   },
   "outputs": [
    {
     "data": {
      "text/plain": [
       "(array([0, 2, 1]), array([0, 1, 2, 3]))"
      ]
     },
     "execution_count": 235,
     "metadata": {},
     "output_type": "execute_result"
    }
   ],
   "source": [
    "np.histogram([1, 2, 1] , bins = [0, 1, 2, 3])"
   ]
  },
  {
   "cell_type": "markdown",
   "metadata": {},
   "source": [
    "**normal distribution**\n",
    "\n",
    "Mean = 2  \n",
    "StdDev = 0.5  \n",
    "Num of data points = 1000"
   ]
  },
  {
   "cell_type": "code",
   "execution_count": 236,
   "metadata": {
    "ExecuteTime": {
     "end_time": "2019-03-05T17:07:02.470150Z",
     "start_time": "2019-03-05T17:07:02.462475Z"
    }
   },
   "outputs": [],
   "source": [
    "mu, sigma = 2 , 0.5\n",
    "data = np.random.normal(mu, sigma, 10000)"
   ]
  },
  {
   "cell_type": "code",
   "execution_count": 237,
   "metadata": {
    "ExecuteTime": {
     "end_time": "2019-03-05T17:07:02.482801Z",
     "start_time": "2019-03-05T17:07:02.473143Z"
    }
   },
   "outputs": [
    {
     "data": {
      "text/plain": [
       "array([2.24633007, 1.67125996, 2.03022544, ..., 2.38991692, 2.72176879,\n",
       "       2.29415257])"
      ]
     },
     "execution_count": 237,
     "metadata": {},
     "output_type": "execute_result"
    }
   ],
   "source": [
    "data"
   ]
  },
  {
   "cell_type": "code",
   "execution_count": 238,
   "metadata": {
    "ExecuteTime": {
     "end_time": "2019-03-05T17:07:02.493961Z",
     "start_time": "2019-03-05T17:07:02.486162Z"
    }
   },
   "outputs": [],
   "source": [
    "(n, bin_edges) = np.histogram( data , bins = 50 )"
   ]
  },
  {
   "cell_type": "markdown",
   "metadata": {},
   "source": [
    "Here, bins is an integer, it defines the number of equal-width bins in the given range (10, by default). \n",
    "\n",
    "Numpy computes the occurrences of input data that fall within each bin, which in turns determines the area (not necessarily the height if the bins aren't of equal width) of each bar.\n",
    "\n",
    "* `n` == number of samples in each bin \n",
    "* `bin_edges` = The right edges of the bins\n",
    "\n",
    "NOTE: The number of bin_edges == len(histogram)+1. This is because bin_edges[0] is the left edge of the first bin, while all other values are the right edges of each bin"
   ]
  },
  {
   "cell_type": "code",
   "execution_count": 239,
   "metadata": {
    "ExecuteTime": {
     "end_time": "2019-03-05T17:07:02.506026Z",
     "start_time": "2019-03-05T17:07:02.497204Z"
    }
   },
   "outputs": [
    {
     "data": {
      "text/plain": [
       "array([  1,   1,   0,   2,   3,  11,   8,  13,  23,  35,  53,  65,  84,\n",
       "       122, 170, 187, 245, 296, 352, 396, 452, 522, 544, 585, 554, 596,\n",
       "       631, 529, 527, 494, 437, 394, 331, 274, 224, 220, 154, 134,  90,\n",
       "        75,  58,  39,  23,  14,  11,   6,   4,   6,   4,   1])"
      ]
     },
     "execution_count": 239,
     "metadata": {},
     "output_type": "execute_result"
    }
   ],
   "source": [
    "n"
   ]
  },
  {
   "cell_type": "code",
   "execution_count": 240,
   "metadata": {
    "ExecuteTime": {
     "end_time": "2019-03-05T17:07:02.518505Z",
     "start_time": "2019-03-05T17:07:02.510125Z"
    }
   },
   "outputs": [
    {
     "data": {
      "text/plain": [
       "array([0.08575369, 0.16073948, 0.23572526, 0.31071105, 0.38569683,\n",
       "       0.46068262, 0.53566841, 0.61065419, 0.68563998, 0.76062576,\n",
       "       0.83561155, 0.91059734, 0.98558312, 1.06056891, 1.13555469,\n",
       "       1.21054048, 1.28552626, 1.36051205, 1.43549784, 1.51048362,\n",
       "       1.58546941, 1.66045519, 1.73544098, 1.81042676, 1.88541255,\n",
       "       1.96039834, 2.03538412, 2.11036991, 2.18535569, 2.26034148,\n",
       "       2.33532726, 2.41031305, 2.48529884, 2.56028462, 2.63527041,\n",
       "       2.71025619, 2.78524198, 2.86022777, 2.93521355, 3.01019934,\n",
       "       3.08518512, 3.16017091, 3.23515669, 3.31014248, 3.38512827,\n",
       "       3.46011405, 3.53509984, 3.61008562, 3.68507141, 3.76005719,\n",
       "       3.83504298])"
      ]
     },
     "execution_count": 240,
     "metadata": {},
     "output_type": "execute_result"
    }
   ],
   "source": [
    "bin_edges"
   ]
  },
  {
   "cell_type": "code",
   "execution_count": 241,
   "metadata": {
    "ExecuteTime": {
     "end_time": "2019-03-05T17:07:02.804506Z",
     "start_time": "2019-03-05T17:07:02.521342Z"
    }
   },
   "outputs": [
    {
     "data": {
      "image/png": "[encoded data removed]",
      "text/plain": [
       "<Figure size 432x288 with 1 Axes>"
      ]
     },
     "metadata": {
      "needs_background": "light"
     },
     "output_type": "display_data"
    }
   ],
   "source": [
    "plt.plot(bin_edges[ 1 : ], n)\n",
    "plt.show()"
   ]
  },
  {
   "cell_type": "markdown",
   "metadata": {},
   "source": [
    "`matplotlib` also has a function to build histograms (called hist) that differs from the one in NumPy. \n",
    "\n",
    "The main difference is that `pylab.hist` plots the histogram automatically, while `numpy.histogram` only generates the data."
   ]
  },
  {
   "cell_type": "code",
   "execution_count": 242,
   "metadata": {
    "ExecuteTime": {
     "end_time": "2019-03-05T17:07:03.074065Z",
     "start_time": "2019-03-05T17:07:02.807992Z"
    }
   },
   "outputs": [
    {
     "data": {
      "image/png": "[encoded data removed]",
      "text/plain": [
       "<Figure size 432x288 with 1 Axes>"
      ]
     },
     "metadata": {
      "needs_background": "light"
     },
     "output_type": "display_data"
    }
   ],
   "source": [
    "plt.hist([1, 2, 1], bins = [0, 1, 2, 3])\n",
    "plt.show()"
   ]
  },
  {
   "cell_type": "code",
   "execution_count": 243,
   "metadata": {
    "ExecuteTime": {
     "end_time": "2019-03-05T17:07:03.469190Z",
     "start_time": "2019-03-05T17:07:03.077532Z"
    }
   },
   "outputs": [
    {
     "data": {
      "image/png": "[encoded data removed]",
      "text/plain": [
       "<Figure size 432x288 with 1 Axes>"
      ]
     },
     "metadata": {
      "needs_background": "light"
     },
     "output_type": "display_data"
    }
   ],
   "source": [
    "plt.hist(data, bins = 50)\n",
    "plt.show()"
   ]
  },
  {
   "cell_type": "code",
   "execution_count": 244,
   "metadata": {
    "ExecuteTime": {
     "end_time": "2019-03-05T17:07:03.910436Z",
     "start_time": "2019-03-05T17:07:03.472269Z"
    }
   },
   "outputs": [
    {
     "data": {
      "image/png": "[encoded data removed]",
      "text/plain": [
       "<Figure size 432x288 with 1 Axes>"
      ]
     },
     "metadata": {
      "needs_background": "light"
     },
     "output_type": "display_data"
    }
   ],
   "source": [
    "# Bin selection can be automated\n",
    "plt.hist(data, bins = 'auto')  \n",
    "plt.show()"
   ]
  },
  {
   "cell_type": "markdown",
   "metadata": {},
   "source": [
    "## Functions and Mehtods"
   ]
  },
  {
   "cell_type": "code",
   "execution_count": 245,
   "metadata": {
    "ExecuteTime": {
     "end_time": "2019-03-05T17:07:03.925065Z",
     "start_time": "2019-03-05T17:07:03.913664Z"
    }
   },
   "outputs": [],
   "source": [
    "salaries = np.genfromtxt('data/salary.csv', delimiter=',')"
   ]
  },
  {
   "cell_type": "code",
   "execution_count": 246,
   "metadata": {
    "ExecuteTime": {
     "end_time": "2019-03-05T17:07:03.934410Z",
     "start_time": "2019-03-05T17:07:03.928246Z"
    }
   },
   "outputs": [
    {
     "data": {
      "text/plain": [
       "array([60000., 58000., 56967., ..., 54647., 25000., 70000.])"
      ]
     },
     "execution_count": 246,
     "metadata": {},
     "output_type": "execute_result"
    }
   ],
   "source": [
    "salaries"
   ]
  },
  {
   "cell_type": "code",
   "execution_count": 247,
   "metadata": {
    "ExecuteTime": {
     "end_time": "2019-03-05T17:07:03.946058Z",
     "start_time": "2019-03-05T17:07:03.938102Z"
    }
   },
   "outputs": [
    {
     "data": {
      "text/plain": [
       "850000.0"
      ]
     },
     "execution_count": 247,
     "metadata": {},
     "output_type": "execute_result"
    }
   ],
   "source": [
    "# Returns the indices of the maximum values along an axis.\n",
    "salaries[np.argmax(salaries)]"
   ]
  },
  {
   "cell_type": "code",
   "execution_count": 248,
   "metadata": {
    "ExecuteTime": {
     "end_time": "2019-03-05T17:07:03.956672Z",
     "start_time": "2019-03-05T17:07:03.949343Z"
    }
   },
   "outputs": [
    {
     "data": {
      "text/plain": [
       "11400.0"
      ]
     },
     "execution_count": 248,
     "metadata": {},
     "output_type": "execute_result"
    }
   ],
   "source": [
    "# argmin\n",
    "salaries[np.argmin(salaries)]"
   ]
  },
  {
   "cell_type": "code",
   "execution_count": 249,
   "metadata": {
    "ExecuteTime": {
     "end_time": "2019-03-05T17:07:03.966046Z",
     "start_time": "2019-03-05T17:07:03.959600Z"
    }
   },
   "outputs": [
    {
     "data": {
      "text/plain": [
       "array([282, 969, 606, ..., 829, 389, 246])"
      ]
     },
     "execution_count": 249,
     "metadata": {},
     "output_type": "execute_result"
    }
   ],
   "source": [
    "np.argsort(salaries)"
   ]
  },
  {
   "cell_type": "code",
   "execution_count": 250,
   "metadata": {
    "ExecuteTime": {
     "end_time": "2019-03-05T17:07:03.975906Z",
     "start_time": "2019-03-05T17:07:03.969404Z"
    }
   },
   "outputs": [],
   "source": [
    "s = np.array([4,6,7,82,3,4])\n",
    "s.shape = 2, -1"
   ]
  },
  {
   "cell_type": "code",
   "execution_count": 251,
   "metadata": {
    "ExecuteTime": {
     "end_time": "2019-03-05T17:07:03.986399Z",
     "start_time": "2019-03-05T17:07:03.979596Z"
    }
   },
   "outputs": [
    {
     "data": {
      "text/plain": [
       "array([[ 4,  6,  7],\n",
       "       [82,  3,  4]])"
      ]
     },
     "execution_count": 251,
     "metadata": {},
     "output_type": "execute_result"
    }
   ],
   "source": [
    "s"
   ]
  },
  {
   "cell_type": "code",
   "execution_count": 252,
   "metadata": {
    "ExecuteTime": {
     "end_time": "2019-03-05T17:07:03.997699Z",
     "start_time": "2019-03-05T17:07:03.991058Z"
    }
   },
   "outputs": [
    {
     "data": {
      "text/plain": [
       "array([[0, 1, 2],\n",
       "       [1, 2, 0]])"
      ]
     },
     "execution_count": 252,
     "metadata": {},
     "output_type": "execute_result"
    }
   ],
   "source": [
    "np.argsort(s)"
   ]
  },
  {
   "cell_type": "markdown",
   "metadata": {},
   "source": [
    "**specifying sorting algorithm**"
   ]
  },
  {
   "cell_type": "code",
   "execution_count": 253,
   "metadata": {
    "ExecuteTime": {
     "end_time": "2019-03-05T17:07:04.009246Z",
     "start_time": "2019-03-05T17:07:04.001037Z"
    }
   },
   "outputs": [
    {
     "data": {
      "text/plain": [
       "array([282, 969, 606, ..., 829, 389, 246])"
      ]
     },
     "execution_count": 253,
     "metadata": {},
     "output_type": "execute_result"
    }
   ],
   "source": [
    "np.argsort(salaries,kind='mergesort')"
   ]
  },
  {
   "cell_type": "code",
   "execution_count": 254,
   "metadata": {
    "ExecuteTime": {
     "end_time": "2019-03-05T17:07:04.020170Z",
     "start_time": "2019-03-05T17:07:04.012255Z"
    }
   },
   "outputs": [
    {
     "data": {
      "text/plain": [
       "array([282, 969, 606, ..., 829, 389, 246])"
      ]
     },
     "execution_count": 254,
     "metadata": {},
     "output_type": "execute_result"
    }
   ],
   "source": [
    "np.argsort(salaries,kind='quicksort')"
   ]
  },
  {
   "cell_type": "markdown",
   "metadata": {
    "ExecuteTime": {
     "end_time": "2019-03-05T12:59:53.451081Z",
     "start_time": "2019-03-05T12:59:53.438166Z"
    }
   },
   "source": [
    "The functions `max` , `min` , `sort` gives the respective elements itself instead of indices."
   ]
  },
  {
   "cell_type": "markdown",
   "metadata": {
    "ExecuteTime": {
     "end_time": "2019-03-05T13:01:08.437283Z",
     "start_time": "2019-03-05T13:01:08.431410Z"
    }
   },
   "source": [
    "The `where()` function returns the **indices** of elements in an input array where the given condition is satisfied."
   ]
  },
  {
   "cell_type": "code",
   "execution_count": 255,
   "metadata": {
    "ExecuteTime": {
     "end_time": "2019-03-05T17:07:04.030071Z",
     "start_time": "2019-03-05T17:07:04.023015Z"
    }
   },
   "outputs": [
    {
     "data": {
      "text/plain": [
       "(array([  22,   27,   33,   45,   48,   59,   77,   78,   87,   91,   94,\n",
       "         102,  109,  117,  123,  151,  221,  236,  242,  243,  246,  271,\n",
       "         296,  297,  303,  337,  343,  378,  385,  389,  402,  408,  432,\n",
       "         436,  450,  454,  503,  504,  538,  560,  563,  580,  581,  602,\n",
       "         607,  687,  701,  728,  736,  745,  769,  779,  802,  819,  822,\n",
       "         829,  859,  913,  922,  946,  949,  977,  980,  998, 1019, 1033,\n",
       "        1062, 1065, 1104, 1105, 1112, 1130]),)"
      ]
     },
     "execution_count": 255,
     "metadata": {},
     "output_type": "execute_result"
    }
   ],
   "source": [
    "np.where(salaries > 100000)"
   ]
  },
  {
   "cell_type": "markdown",
   "metadata": {},
   "source": [
    "The `extract()` function returns the elements satisfying any condition"
   ]
  },
  {
   "cell_type": "code",
   "execution_count": 256,
   "metadata": {
    "ExecuteTime": {
     "end_time": "2019-03-05T17:07:04.045589Z",
     "start_time": "2019-03-05T17:07:04.033531Z"
    }
   },
   "outputs": [
    {
     "data": {
      "text/plain": [
       "array([ 60000.,  58000.,  56967.,  70000.,  75000.,  62000.,  56000.,\n",
       "       261546.,  77000., 500000.,  77570.,  60000.,  65000.,  60000.,\n",
       "       120000.,  81000.,  75000.,  75000.,  73000.,  75000., 210000.,\n",
       "        90000., 105227.,  84000.,  98000.,  70000., 115000.,  72000.,\n",
       "        57400.,  70000.,  71796., 130773., 103529.,  57000.,  70000.,\n",
       "        75000.,  57000., 119875.,  60000., 132000., 100000., 141671.,\n",
       "        87500.,  90000.,  65000., 109100.,  98080.,  87689., 550000.,\n",
       "        56697.,  60000., 180000.,  92000.,  63000., 220000.,  66000.,\n",
       "        80000.,  65460.,  65000., 109294.,  70000.,  57758.,  75000.,\n",
       "        75000.,  62662.,  64000.,  90000.,  60000.,  60000.,  70000.,\n",
       "        63000.,  80000.,  70000.,  60000.,  90000., 135380.,  65000.,\n",
       "        70000., 103529.,  64000.,  70000., 120000., 185000.,  70000.,\n",
       "       850000.,  61500.,  60000.,  63000., 181339.,  75665.,  58000.,\n",
       "        57000., 100000.,  65000.,  62662.,  90000.,  70835.,  75000.,\n",
       "       111600., 102000.,  60000.,  65000., 625000., 100000.,  78000.,\n",
       "        75000.,  60000.,  64000.,  63000.,  59656.,  69000.,  80750.,\n",
       "        84703., 110464., 102000.,  56732.,  63000.,  62000.,  60000.,\n",
       "        70151.,  60000.,  56400.,  65000., 140000.,  75000.,  65000.,\n",
       "       120000., 820000.,  80000., 250000.,  58000., 130000.,  85000.,\n",
       "        60000.,  65000.,  71925., 136375.,  90000., 141000.,  90000.,\n",
       "        65000.,  66000.,  72000.,  65000., 142800.,  68000., 116626.,\n",
       "        65000.,  56000.,  57758.,  58000.,  60000.,  60000.,  97000.,\n",
       "        67382.,  90000.,  85000.,  75000.,  57000.,  60000.,  76600.,\n",
       "        60000., 110000., 130000.,  61398.,  60000.,  65000.,  70000.,\n",
       "       100000.,  59000.,  57000.,  60000.,  76000.,  60000.,  88000.,\n",
       "       444000.,  59000.,  70000.,  72000., 100000.,  70000., 116000.,\n",
       "        65000., 110000.,  70000.,  82000.,  56000.,  60000.,  72000.,\n",
       "        60000.,  70000., 113996., 160000.,  60000.,  81733.,  66000.,\n",
       "        80000.,  66000., 150000.,  56000., 108000.,  62031., 100000.,\n",
       "        60000.,  68000.,  60000.,  60000.,  60000.,  90000.,  61700.,\n",
       "        75000.,  77000.,  96000.,  60000.,  86000.,  68000.,  63000.,\n",
       "        65000.,  60000.,  90000.,  90000.,  80000.,  63000.,  80000.,\n",
       "        70915., 120000.,  73500.,  60000.,  60000., 120000.,  56000.,\n",
       "        84396.,  95000.,  94704.,  71000.,  70000.,  60000., 220000.,\n",
       "       117701.,  57758.,  80000.,  65000.,  72000.,  70000., 120000.,\n",
       "        60000.,  60000.,  63500.,  60000.,  59640.,  61027.,  70000.,\n",
       "        61800., 120010.,  83500.,  75000.,  72000.,  84000., 110000.,\n",
       "        60005.,  59500.,  70518.,  66000.,  58000.,  70000.,  99500.,\n",
       "        66858., 103645.,  77000.,  56000.,  62000.,  60000.,  57400.,\n",
       "        92735.,  58000.,  69000., 102000.,  68000., 108977.,  75653.,\n",
       "        68000.,  59938., 680000.,  56967.,  57600.,  75000.,  60000.,\n",
       "        60000.,  58000., 152568.,  98324.,  65000.,  63605.,  82000.,\n",
       "        57000.,  62000.,  85000.,  60000.,  62500.,  68656.,  87280.,\n",
       "        60000.,  57400.,  76000.,  63207.,  59000., 114800.,  60000.,\n",
       "        72000., 150000.,  70000.,  60000.,  57000.,  70000.,  59938.,\n",
       "       111841., 110000.,  63000.,  63207.,  59000.,  64000.,  58000.,\n",
       "        75000.,  75000.,  70500.,  61000.,  60555., 108000.,  60000.,\n",
       "        80000., 102000., 100000.,  64800.,  62000., 134449.,  75000.,\n",
       "        70000.,  65000.,  94000.,  65000.,  60000., 120000.,  80000.,\n",
       "        95000.,  65000., 101349.,  74000.,  70000.,  76289.,  95000.,\n",
       "        78000.,  72000.,  92000.,  65000., 120000.,  72000., 250000.,\n",
       "        68500.,  62000.,  81000.,  70000.,  84000.,  56000.,  87689.,\n",
       "       175000., 261546.,  59000.,  56000., 120000.,  82000.,  70000.,\n",
       "        71380.,  62000., 100000.,  80000., 103000.,  57000.,  76800.,\n",
       "        75000.,  90000.,  70000.])"
      ]
     },
     "execution_count": 256,
     "metadata": {},
     "output_type": "execute_result"
    }
   ],
   "source": [
    "np.extract(salaries > np.mean(salaries), salaries)"
   ]
  },
  {
   "cell_type": "markdown",
   "metadata": {},
   "source": [
    "## Vectorization"
   ]
  },
  {
   "cell_type": "code",
   "execution_count": 257,
   "metadata": {
    "ExecuteTime": {
     "end_time": "2019-03-05T17:07:04.055521Z",
     "start_time": "2019-03-05T17:07:04.049318Z"
    }
   },
   "outputs": [],
   "source": [
    "def addsubtract(a,b):\n",
    "    \"Return a-b if a > b, otherwise return a + b\"\n",
    "    if a > b:\n",
    "        return a - b\n",
    "    else:\n",
    "        return a + b"
   ]
  },
  {
   "cell_type": "code",
   "execution_count": 258,
   "metadata": {
    "ExecuteTime": {
     "end_time": "2019-03-05T17:07:04.069250Z",
     "start_time": "2019-03-05T17:07:04.059649Z"
    }
   },
   "outputs": [
    {
     "data": {
      "text/plain": [
       "12"
      ]
     },
     "execution_count": 258,
     "metadata": {},
     "output_type": "execute_result"
    }
   ],
   "source": [
    "addsubtract(5,7)"
   ]
  },
  {
   "cell_type": "code",
   "execution_count": 259,
   "metadata": {
    "ExecuteTime": {
     "end_time": "2019-03-05T17:07:04.079154Z",
     "start_time": "2019-03-05T17:07:04.073056Z"
    }
   },
   "outputs": [],
   "source": [
    "vec_addsubtract = np.vectorize(addsubtract)"
   ]
  },
  {
   "cell_type": "code",
   "execution_count": 260,
   "metadata": {
    "ExecuteTime": {
     "end_time": "2019-03-05T17:07:04.092202Z",
     "start_time": "2019-03-05T17:07:04.082743Z"
    }
   },
   "outputs": [
    {
     "data": {
      "text/plain": [
       "array([1, 6, 1, 2])"
      ]
     },
     "execution_count": 260,
     "metadata": {},
     "output_type": "execute_result"
    }
   ],
   "source": [
    "vec_addsubtract([0,3,6,9],[1,3,5,7])"
   ]
  },
  {
   "cell_type": "code",
   "execution_count": 261,
   "metadata": {
    "ExecuteTime": {
     "end_time": "2019-03-05T17:07:04.105339Z",
     "start_time": "2019-03-05T17:07:04.095655Z"
    }
   },
   "outputs": [
    {
     "name": "stdout",
     "output_type": "stream",
     "text": [
      "Error: operands could not be broadcast together with shapes (4,) (5,) \n"
     ]
    }
   ],
   "source": [
    "# wrong shape\n",
    "try:\n",
    "    vec_addsubtract([0,3,6,9],[1,3,5,7,8])\n",
    "except ValueError as e:\n",
    "    print(\"Error:\", e)\n"
   ]
  },
  {
   "cell_type": "markdown",
   "metadata": {},
   "source": [
    "## Tips and tricks\n",
    "\n",
    "* https://arogozhnikov.github.io/2015/09/29/NumpyTipsAndTricks1.html\n",
    "* https://arogozhnikov.github.io/2015/09/30/NumpyTipsAndTricks2.html\n",
    "* https://jayrambhia.com/notes/numpy-tricks\n",
    "* http://anie.me/numpy-tricks/"
   ]
  },
  {
   "cell_type": "markdown",
   "metadata": {},
   "source": [
    "### Computing order of elements in array"
   ]
  },
  {
   "cell_type": "code",
   "execution_count": 262,
   "metadata": {
    "ExecuteTime": {
     "end_time": "2019-03-05T17:07:04.120257Z",
     "start_time": "2019-03-05T17:07:04.111032Z"
    }
   },
   "outputs": [
    {
     "data": {
      "text/plain": [
       "array([4, 6, 7, 5, 3, 2, 8, 0, 1, 9])"
      ]
     },
     "execution_count": 262,
     "metadata": {},
     "output_type": "execute_result"
    }
   ],
   "source": [
    "data = np.random.random(10)\n",
    "np.argsort(np.argsort(data))"
   ]
  },
  {
   "cell_type": "code",
   "execution_count": 263,
   "metadata": {
    "ExecuteTime": {
     "end_time": "2019-03-05T17:07:04.515636Z",
     "start_time": "2019-03-05T17:07:04.129065Z"
    }
   },
   "outputs": [
    {
     "data": {
      "text/plain": [
       "array([4., 6., 7., 5., 3., 2., 8., 0., 1., 9.])"
      ]
     },
     "execution_count": 263,
     "metadata": {},
     "output_type": "execute_result"
    }
   ],
   "source": [
    "# scipy function which does the same, but it's more general and faster, so prefer using it:\n",
    "from scipy.stats import rankdata\n",
    "rankdata(data) - 1"
   ]
  },
  {
   "cell_type": "markdown",
   "metadata": {},
   "source": [
    "### IronTransform (flattener of distribution)\n",
    "\n",
    "Sometimes you need to write monotonic tranformation, which turns one distribution into uniform.\n",
    "\n",
    "This method is useful to compare distributions or to work with distributions with heavy tails or strange shape."
   ]
  },
  {
   "cell_type": "code",
   "execution_count": 264,
   "metadata": {
    "ExecuteTime": {
     "end_time": "2019-03-05T17:07:04.885980Z",
     "start_time": "2019-03-05T17:07:04.518308Z"
    }
   },
   "outputs": [
    {
     "data": {
      "image/png": "[encoded data removed]",
      "text/plain": [
       "<Figure size 432x288 with 1 Axes>"
      ]
     },
     "metadata": {
      "needs_background": "light"
     },
     "output_type": "display_data"
    }
   ],
   "source": [
    "class IronTransform:\n",
    "    def fit(self, data, weights):\n",
    "        weights = weights / weights.sum()\n",
    "        sorter = np.argsort(data)\n",
    "        self.x = data[sorter]\n",
    "        self.y = np.cumsum(weights[sorter])\n",
    "        return self\n",
    "        \n",
    "    def transform(self, data):\n",
    "        return np.interp(data, self.x, self.y)\n",
    "    \n",
    "    \n",
    "sig_pred = np.random.normal(size=10000) + 1\n",
    "bck_pred = np.random.normal(size=10000) - 1 \n",
    "\n",
    "plt.figure()\n",
    "plt.hist(sig_pred, bins=30, alpha=0.5)\n",
    "plt.hist(bck_pred, bins=30, alpha=0.5)\n",
    "plt.show()"
   ]
  },
  {
   "cell_type": "code",
   "execution_count": 265,
   "metadata": {
    "ExecuteTime": {
     "end_time": "2019-03-05T17:07:05.282693Z",
     "start_time": "2019-03-05T17:07:04.889339Z"
    },
    "scrolled": true
   },
   "outputs": [
    {
     "data": {
      "image/png": "[encoded data removed]",
      "text/plain": [
       "<Figure size 432x288 with 1 Axes>"
      ]
     },
     "metadata": {
      "needs_background": "light"
     },
     "output_type": "display_data"
    }
   ],
   "source": [
    "iron = IronTransform().fit(sig_pred, weights=np.ones(len(sig_pred)))\n",
    "\n",
    "plt.figure()\n",
    "plt.hist(iron.transform(sig_pred), bins=30, alpha=0.5)\n",
    "plt.hist(iron.transform(bck_pred), bins=30, alpha=0.5)\n",
    "plt.show()"
   ]
  },
  {
   "cell_type": "markdown",
   "metadata": {
    "ExecuteTime": {
     "end_time": "2019-03-05T13:26:03.045739Z",
     "start_time": "2019-03-05T13:26:03.039925Z"
    }
   },
   "source": [
    "**flatnonzero**"
   ]
  },
  {
   "cell_type": "code",
   "execution_count": 266,
   "metadata": {
    "ExecuteTime": {
     "end_time": "2019-03-05T17:07:05.292315Z",
     "start_time": "2019-03-05T17:07:05.285456Z"
    }
   },
   "outputs": [
    {
     "data": {
      "text/plain": [
       "array([1, 2, 3, 4, 5, 6, 7, 8, 9])"
      ]
     },
     "execution_count": 266,
     "metadata": {},
     "output_type": "execute_result"
    }
   ],
   "source": [
    "## flattennonzero\n",
    "np.flatnonzero(np.arange(10).reshape(2,5))"
   ]
  },
  {
   "cell_type": "code",
   "execution_count": 267,
   "metadata": {
    "ExecuteTime": {
     "end_time": "2019-03-05T17:07:05.305959Z",
     "start_time": "2019-03-05T17:07:05.295980Z"
    }
   },
   "outputs": [
    {
     "data": {
      "text/plain": [
       "array([0, 2, 4, 6, 8])"
      ]
     },
     "execution_count": 267,
     "metadata": {},
     "output_type": "execute_result"
    }
   ],
   "source": [
    "np.flatnonzero(np.arange(10) % 2 == 0 )"
   ]
  }
 ],
 "metadata": {
  "kernelspec": {
   "display_name": "Python 3",
   "language": "python",
   "name": "python3"
  },
  "language_info": {
   "codemirror_mode": {
    "name": "ipython",
    "version": 3
   },
   "file_extension": ".py",
   "mimetype": "text/x-python",
   "name": "python",
   "nbconvert_exporter": "python",
   "pygments_lexer": "ipython3",
   "version": "3.7.2"
  },
  "toc": {
   "base_numbering": 1,
   "nav_menu": {},
   "number_sections": false,
   "sideBar": true,
   "skip_h1_title": true,
   "title_cell": "Table of Contents",
   "title_sidebar": "Contents",
   "toc_cell": false,
   "toc_position": {},
   "toc_section_display": true,
   "toc_window_display": true
  }
 },
 "nbformat": 4,
 "nbformat_minor": 2
}
