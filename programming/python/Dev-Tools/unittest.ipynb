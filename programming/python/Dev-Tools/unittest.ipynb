{
 "cells": [
  {
   "cell_type": "markdown",
   "metadata": {},
   "source": [
    "## Asserts Methods"
   ]
  },
  {
   "cell_type": "markdown",
   "metadata": {},
   "source": [
    "\n",
    "https://docs.python.org/3/library/unittest.html\n",
    "\n",
    "| Method                     | Checks\n",
    "|----------------------------|------------------------------------------------- \n",
    " assertEqual                 | a == b                                           \n",
    " assertNotEqual              | a != b                                           \n",
    " assertTrue                  | bool(x) is True                                  \n",
    " assertFalse                 | bool(x) is False                                 \n",
    " assertIs                    | a is b                                          \n",
    " assertIsNot                 | a is not b                                      \n",
    " assertIsNone                | x is None                                       \n",
    " assertIsNotNone             | x is not None                                   \n",
    " assertIn                    | a in b                                          \n",
    " assertNotIn                 | a not in b                                      \n",
    " assertIsInstance            | is instance(a,b)                                \n",
    " assertNotIsInstance         | not is instance(a,b)                            \n",
    " assertRaises                | fun(*args,**kwds) raises exc                     \n",
    " assertRaisesRegexp          | fun(*args,**kwds) raises exc(regex)             \n",
    " assertAlmostEqual           | round(a-b,7) == 0                               \n",
    " assertNotAlmostEqual        | round(a-b,7) != 0                               \n",
    " assertGreater               | a > b                                           \n",
    " assertGreaterEqual          | a >= b                                          \n",
    " assertLess                  | a < b                                           \n",
    " assertLessEqual             | a <= b                                          \n",
    " assertRegexpMatches         | r.search(s)                                     \n",
    " assertNotRegexpMatches      | not r.search(s)                                 \n",
    " assertItemsEqual            | sorted(a) == sorted(b)                          \n",
    " assertDictContainsSubset    | all the key/value pairs in a exist in b         \n",
    " assertMultiLineEqual        | strings                                         \n",
    " assertSequenceEqual         | sequences                                       \n",
    " assertListEqual             | lists                                           \n",
    " assertTupleEqual            | tuples                                          \n",
    " assertSetEqual              | sets or frozensets                              \n",
    " assertDictEqual             | dicts                                           \n",
    "      "
   ]
  },
  {
   "cell_type": "code",
   "execution_count": null,
   "metadata": {},
   "outputs": [],
   "source": []
  }
 ],
 "metadata": {
  "hide_input": false,
  "kernelspec": {
   "display_name": "Python 3",
   "language": "python",
   "name": "python3"
  },
  "language_info": {
   "codemirror_mode": {
    "name": "ipython",
    "version": 3
   },
   "file_extension": ".py",
   "mimetype": "text/x-python",
   "name": "python",
   "nbconvert_exporter": "python",
   "pygments_lexer": "ipython3",
   "version": "3.7.3"
  },
  "toc": {
   "base_numbering": 1,
   "nav_menu": {},
   "number_sections": false,
   "sideBar": true,
   "skip_h1_title": true,
   "title_cell": "Table of Contents",
   "title_sidebar": "Contents",
   "toc_cell": false,
   "toc_position": {},
   "toc_section_display": true,
   "toc_window_display": true
  }
 },
 "nbformat": 4,
 "nbformat_minor": 2
}
