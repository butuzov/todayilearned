{
 "cells": [
  {
   "cell_type": "code",
   "execution_count": 2,
   "metadata": {
    "ExecuteTime": {
     "end_time": "2019-03-03T13:48:34.120182Z",
     "start_time": "2019-03-03T13:48:34.037496Z"
    },
    "hideCode": true,
    "hidePrompt": true
   },
   "outputs": [],
   "source": [
    "#hide\n",
    "from icecream import ic  \n",
    "import sys, re\n",
    "\n",
    "def jupyter(*args): \n",
    "    print(*[re.sub(r\",\\s{1,}\", \", \", i.replace(\",\\n\", \", \")) for i in args], file=sys.stdout)\n",
    "    \n",
    "ic.configureOutput(prefix='ic> ', outputFunction=jupyter)"
   ]
  },
  {
   "cell_type": "markdown",
   "metadata": {
    "hideCode": true,
    "hidePrompt": true
   },
   "source": [
    "# Python Tooling"
   ]
  },
  {
   "cell_type": "markdown",
   "metadata": {
    "hideCode": true,
    "hidePrompt": true
   },
   "source": [
    "## PEP8 "
   ]
  },
  {
   "cell_type": "markdown",
   "metadata": {
    "hideCode": true,
    "hidePrompt": true
   },
   "source": [
    "**Summary**\n",
    "\n",
    "* Use `space`, no `tab`. Always 4.\n",
    "* Lines should be no more then 79 characters in length or less, if you need to\n",
    "  - make string shorter simplifieing meaningfull variables.\n",
    "  - add `\\` to split code to the new line.\n",
    "  - continuations of long expressions, should be added by one indentation (4 spaces) \n",
    "    of their normal indentation level.\n",
    "* Functions and Classes should be represented by two blank lines.\n",
    "* Class methods should be separated by one blank lines.\n",
    "* don't put spaces around list indexes, function calls, or keyword assignments.\n",
    "* Put one, and only one space before and after variable assignment.\n",
    "* etc... etc...\n",
    "\n",
    "**Readme more**:\n",
    "* https://pep8.org/\n",
    "* https://www.python.org/dev/peps/pep-0008/\n",
    "* http://pep8online.com/\n"
   ]
  },
  {
   "cell_type": "markdown",
   "metadata": {
    "hideCode": true,
    "hidePrompt": true
   },
   "source": [
    "## @pyflackes\n",
    "\n",
    "Code analyzer "
   ]
  },
  {
   "cell_type": "markdown",
   "metadata": {
    "hideCode": true,
    "hidePrompt": true
   },
   "source": [
    "## @pylint\n",
    "\n",
    "Shows us a styling and logical errors"
   ]
  },
  {
   "cell_type": "markdown",
   "metadata": {
    "hideCode": true,
    "hidePrompt": true
   },
   "source": [
    "## @codecov\n",
    "\n",
    "Code coverage"
   ]
  },
  {
   "cell_type": "markdown",
   "metadata": {
    "hideCode": true,
    "hidePrompt": true
   },
   "source": [
    "## @vulture\n",
    "\n",
    "Dead code"
   ]
  },
  {
   "cell_type": "markdown",
   "metadata": {
    "hideCode": true,
    "hidePrompt": true
   },
   "source": [
    "## @`black`"
   ]
  },
  {
   "cell_type": "markdown",
   "metadata": {
    "hideCode": true,
    "hidePrompt": true
   },
   "source": [
    "## `flake8`"
   ]
  },
  {
   "cell_type": "markdown",
   "metadata": {
    "hideCode": true,
    "hidePrompt": true
   },
   "source": [
    "```bash\n",
    "git init\n",
    "git add example.py\n",
    "git commit -m \"first commit\"\n",
    "> ....\n",
    "\n",
    "python -m flake8 --install-hook git\n",
    "git config --bool flake8.strict true\n",
    "\n",
    "echo \"# new comment\" >> example.py\n",
    "git commit -m \"second commit\"\n",
    "> error messages...\n",
    "```"
   ]
  },
  {
   "cell_type": "markdown",
   "metadata": {
    "ExecuteTime": {
     "end_time": "2019-03-03T14:30:27.803281Z",
     "start_time": "2019-03-03T14:30:27.798869Z"
    },
    "hideCode": true,
    "hidePrompt": true
   },
   "source": [
    "## @`tox`"
   ]
  },
  {
   "cell_type": "markdown",
   "metadata": {
    "hideCode": true,
    "hidePrompt": true
   },
   "source": [
    "## `venv` or `virtualenv`"
   ]
  },
  {
   "cell_type": "markdown",
   "metadata": {
    "hideCode": true,
    "hidePrompt": true
   },
   "source": [
    "```bash\n",
    "# Python 2.7 \n",
    "$ sudo python -m pip install virtualenv\n",
    "\n",
    "# Create Virtual Env\n",
    "$ python -m virtualenv Py2.7\n",
    "\n",
    "# Activate Environment\n",
    "$ . Py2.7/bin/activate \n",
    "\n",
    "(Py2.7) $ python -V\n",
    "> Python 2.7.10\n",
    "\n",
    "# Deactivate Environment\n",
    "$ deactivate \n",
    "\n",
    "# Python 3.6 (or any else)\n",
    "$ python3 -m venv Py3.7\n",
    "\n",
    "# Activate Environment\n",
    "$ . Py3.7/bin/activate\n",
    "(Py3.7) $ python -V\n",
    "> Python 3.7.2\n",
    "\n",
    "# Check ${VIRTUAL_ENV}\n",
    "$ echo \"${VIRTUAL_ENV}\"\n",
    "> /Users/butuzov/Desktop/Py3.7\n",
    "\n",
    "# Deactivate Environment\n",
    "$ deactivate \n",
    "```"
   ]
  },
  {
   "cell_type": "code",
   "execution_count": null,
   "metadata": {
    "hideCode": true,
    "hidePrompt": true
   },
   "outputs": [],
   "source": []
  },
  {
   "cell_type": "markdown",
   "metadata": {
    "hideCode": true,
    "hidePrompt": true
   },
   "source": [
    "## Jupyter Notebook"
   ]
  },
  {
   "cell_type": "markdown",
   "metadata": {
    "hideCode": true,
    "hidePrompt": true
   },
   "source": [
    "https://www.dataquest.io/blog/jupyter-notebook-tips-tricks-shortcuts/\n",
    "\n",
    "\n",
    "### Extensions\n",
    "\n",
    "```bash\n",
    "(venv) > pip install install jupyter jupyter_contrib_nbextensions\n",
    "(venv) > pip install git+git://github.com/cpcloud/ipython-autotime\n",
    "(venv) > jupyter contrib nbextension install --sys-prefix\n",
    "(venv) > jupyter nbextension enable codefolding/main\n",
    "(venv) > jupyter nbextension disable codefolding/main\n",
    "```\n",
    "\n",
    "### Nice extensions\n",
    "\n",
    " 1. jupyter nbextension enable execute_time/ExecuteTime\n",
    " 1. jupyter nbextension enable collapsible_headings/main \n",
    " \n",
    "\n",
    "### Loading Extensions into cell\n",
    "\n",
    "```\n",
    "# Loading extension (autotime extensions)\n",
    "# pip install git+git://github.com/cpcloud/ipython-autotime\n",
    "%load_ext autotime\n",
    "```"
   ]
  },
  {
   "cell_type": "markdown",
   "metadata": {
    "ExecuteTime": {
     "end_time": "2019-03-03T15:26:25.140633Z",
     "start_time": "2019-03-03T15:26:25.135588Z"
    }
   },
   "source": [
    "### Running Bash/Pip\n",
    "\n",
    "\"!\" added at the beging is running bash"
   ]
  },
  {
   "cell_type": "code",
   "execution_count": 4,
   "metadata": {
    "ExecuteTime": {
     "end_time": "2019-03-03T15:26:38.964534Z",
     "start_time": "2019-03-03T15:26:38.806665Z"
    }
   },
   "outputs": [
    {
     "name": "stdout",
     "output_type": "stream",
     "text": [
      "total 8\r\n",
      "drwxr-xr-x  4 butuzov staff  128 Mar  3 17:25 .\r\n",
      "drwxr-xr-x 17 butuzov staff  544 Mar  3 17:18 ..\r\n",
      "drwxr-xr-x  3 butuzov staff   96 Mar  3 16:36 .ipynb_checkpoints\r\n",
      "-rw-r--r--  1 butuzov staff 7672 Mar  3 17:25 readme.ipynb\r\n"
     ]
    }
   ],
   "source": [
    "!ls -la"
   ]
  },
  {
   "cell_type": "code",
   "execution_count": 5,
   "metadata": {
    "ExecuteTime": {
     "end_time": "2019-03-03T15:26:56.880916Z",
     "start_time": "2019-03-03T15:26:55.148606Z"
    }
   },
   "outputs": [
    {
     "name": "stdout",
     "output_type": "stream",
     "text": [
      "Requirement already up-to-date: pip in /Users/butuzov/Desktop/Py3.7/lib/python3.7/site-packages (19.0.3)\r\n"
     ]
    }
   ],
   "source": [
    "!pip install --upgrade pip"
   ]
  },
  {
   "cell_type": "code",
   "execution_count": 6,
   "metadata": {
    "ExecuteTime": {
     "end_time": "2019-03-03T15:28:01.407481Z",
     "start_time": "2019-03-03T15:27:59.739566Z"
    }
   },
   "outputs": [],
   "source": [
    "# surrpress output\n",
    "!pip install --upgrade pip 2>&1 1>/dev/null"
   ]
  },
  {
   "cell_type": "markdown",
   "metadata": {},
   "source": [
    "### Getting Help\n",
    "\n",
    "type in code cell function+question sighn e.g. `print?` and press Enter"
   ]
  },
  {
   "cell_type": "code",
   "execution_count": 2,
   "metadata": {
    "ExecuteTime": {
     "end_time": "2019-03-03T15:25:33.425006Z",
     "start_time": "2019-03-03T15:25:33.419931Z"
    }
   },
   "outputs": [],
   "source": [
    "print?"
   ]
  },
  {
   "cell_type": "code",
   "execution_count": null,
   "metadata": {},
   "outputs": [],
   "source": []
  }
 ],
 "metadata": {
  "hide_code_all_hidden": true,
  "kernelspec": {
   "display_name": "Python 3",
   "language": "python",
   "name": "python3"
  },
  "language_info": {
   "codemirror_mode": {
    "name": "ipython",
    "version": 3
   },
   "file_extension": ".py",
   "mimetype": "text/x-python",
   "name": "python",
   "nbconvert_exporter": "python",
   "pygments_lexer": "ipython3",
   "version": "3.7.2"
  },
  "toc": {
   "base_numbering": 1,
   "nav_menu": {},
   "number_sections": true,
   "sideBar": true,
   "skip_h1_title": true,
   "title_cell": "Table of Contents",
   "title_sidebar": "Contents",
   "toc_cell": false,
   "toc_position": {},
   "toc_section_display": true,
   "toc_window_display": true
  }
 },
 "nbformat": 4,
 "nbformat_minor": 2
}
