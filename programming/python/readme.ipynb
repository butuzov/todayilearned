{
 "cells": [
  {
   "cell_type": "code",
   "execution_count": 2,
   "metadata": {
    "ExecuteTime": {
     "end_time": "2019-03-03T13:48:34.120182Z",
     "start_time": "2019-03-03T13:48:34.037496Z"
    },
    "hideCode": true,
    "hidePrompt": true
   },
   "outputs": [],
   "source": [
    "#hide\n",
    "from icecream import ic  \n",
    "import sys, re\n",
    "\n",
    "def jupyter(*args): \n",
    "    print(*[re.sub(r\",\\s{1,}\", \", \", i.replace(\",\\n\", \", \")) for i in args], file=sys.stdout)\n",
    "    \n",
    "ic.configureOutput(prefix='ic> ', outputFunction=jupyter)"
   ]
  },
  {
   "cell_type": "markdown",
   "metadata": {
    "hideCode": true,
    "hidePrompt": true
   },
   "source": [
    "# Python Notes"
   ]
  },
  {
   "cell_type": "markdown",
   "metadata": {
    "hideCode": true,
    "hidePrompt": true
   },
   "source": [
    "## Language"
   ]
  },
  {
   "cell_type": "markdown",
   "metadata": {
    "heading_collapsed": true,
    "hideCode": true,
    "hidePrompt": true
   },
   "source": [
    "### Coveing Your A** With Assertions"
   ]
  },
  {
   "cell_type": "markdown",
   "metadata": {
    "ExecuteTime": {
     "end_time": "2019-03-03T13:55:55.115257Z",
     "start_time": "2019-03-03T13:55:55.109274Z"
    },
    "hidden": true,
    "hideCode": true,
    "hidePrompt": true
   },
   "source": [
    "```python\n",
    "# Don't do\n",
    "# Becouse of tuple its will always will be true\n",
    "assert( 1 == 2, \"It's failing!\") \n",
    "```"
   ]
  },
  {
   "cell_type": "markdown",
   "metadata": {
    "hideCode": true,
    "hidePrompt": true
   },
   "source": [
    "### Complacent Comma Placement"
   ]
  },
  {
   "cell_type": "markdown",
   "metadata": {
    "hideCode": true,
    "hidePrompt": true
   },
   "source": [
    "```python\n",
    "# Having comma at the end of your list is OK.\n",
    "names = [\n",
    "  'John',\n",
    "  'Betty',\n",
    "  'Liza',\n",
    "]\n",
    "\n",
    "#  not having a comma - in strings concatenation.\n",
    "str_var = (\n",
    "  'A long time ago'\n",
    "  'in a galaxy far, far away....'\n",
    ")\n",
    "```"
   ]
  },
  {
   "cell_type": "markdown",
   "metadata": {
    "heading_collapsed": true,
    "hideCode": true,
    "hidePrompt": true
   },
   "source": [
    "### Context Managers and the with Statement"
   ]
  },
  {
   "cell_type": "markdown",
   "metadata": {
    "ExecuteTime": {
     "end_time": "2019-03-03T13:57:11.941558Z",
     "start_time": "2019-03-03T13:57:11.936318Z"
    },
    "hidden": true,
    "hideCode": true,
    "hidePrompt": true
   },
   "source": [
    "```python\n",
    "class ManagedFile:\n",
    "     def __init__(self, name):\n",
    "         self.name = name\n",
    "    def __enter__(self):\n",
    "         self.file = open(self.name, 'w')\n",
    "         return self.file\n",
    "    def __exit__(self, exc_type, exc_val, exc_tb):\n",
    "         if self.file:\n",
    "             self.file.close()\n",
    "\n",
    "# So we can do something like implementing custom write or read\n",
    "# or any other functionality.\n",
    "with ManagedFile(\"list.json\") as f:\n",
    "    f.read()\n",
    "\n",
    "\"\"\" or using @contextmanager \"\"\"  \n",
    "    \n",
    "from contextlib import contextmanager\n",
    "\n",
    "@contextmanager\n",
    "def managed_file(name):\n",
    "  try:\n",
    "    f = open(name, 'w')\n",
    "    yield f\n",
    "  finally:\n",
    "    f.close()\n",
    "\n",
    "with managed_file('hello.txt') as f:\n",
    "    f.write('¡holla!')\n",
    "    f.write('¡adios!')\n",
    "```"
   ]
  },
  {
   "cell_type": "markdown",
   "metadata": {
    "heading_collapsed": true,
    "hideCode": true,
    "hidePrompt": true
   },
   "source": [
    "### (Unpacking) Seaquences "
   ]
  },
  {
   "cell_type": "code",
   "execution_count": 24,
   "metadata": {
    "ExecuteTime": {
     "end_time": "2019-03-03T14:14:32.065656Z",
     "start_time": "2019-03-03T14:14:31.936242Z"
    },
    "hidden": true,
    "hideCode": true,
    "hidePrompt": true
   },
   "outputs": [
    {
     "name": "stdout",
     "output_type": "stream",
     "text": [
      "ic> data: ['ACME', 50, 91.1, (2012, 12, 21)]\n",
      "ic> name: 'ACME'\n",
      "ic> year: 2012\n",
      "ic> year: 2012\n",
      "ic> b: 'e'\n",
      "ic> a: 'h', b: ['e', 'l', 'l'], f: 'o'\n",
      "e:l:l\n",
      "e:l:l\n"
     ]
    }
   ],
   "source": [
    "data = ['ACME', 50, 91.1, (2012, 12, 21)]\n",
    "ic(data)\n",
    "\n",
    "# Simple unpucking\n",
    "name, shares, price, date = data\n",
    "ic(name)\n",
    "\n",
    "# Tuple unpacking\n",
    "name, shares, price, (year, mon, day) = data\n",
    "ic(year)\n",
    "\n",
    "# Nested Unpacking\n",
    "name, *_, (year, *_) = data\n",
    "ic(year)\n",
    "\n",
    "\n",
    "# we can unpack any sequence of same length\n",
    "s = 'hello'\n",
    "a, b, c, d, f = s\n",
    "ic(b)\n",
    "\n",
    "# skiping some of the unpackined values (works in any position start, middle or end)\n",
    "a, *b, f = s\n",
    "ic(a, b, f)\n",
    "\n",
    "# we can unpack into function\n",
    "print(*b, sep=':')\n",
    "\n",
    "# if this is a dictionary, we can unpack named arguments, \n",
    "# alongside with positional.\n",
    "print(*b, **{'sep':':'})"
   ]
  },
  {
   "cell_type": "markdown",
   "metadata": {
    "hideCode": true,
    "hidePrompt": true
   },
   "source": [
    "### `slice`ing lists"
   ]
  },
  {
   "cell_type": "code",
   "execution_count": 25,
   "metadata": {
    "ExecuteTime": {
     "end_time": "2019-03-03T14:14:51.818383Z",
     "start_time": "2019-03-03T14:14:51.645921Z"
    },
    "hideCode": true,
    "hidePrompt": true
   },
   "outputs": [
    {
     "name": "stdout",
     "output_type": "stream",
     "text": [
      "ic> first_ten_numbers: [0, 1, 2, 3, 4, 5, 6, 7, 8, 9]\n",
      "ic> first_ten_numbers[first_two_numbers]: [0, 1]\n",
      "ic> first_ten_numbers[rest_of_numbers]: [2, 3, 4, 5, 6, 7, 8, 9]\n",
      "ic> first_ten_numbers[0:2]: [0, 1]\n",
      "ic> first_ten_numbers[::-1]: [9, 8, 7, 6, 5, 4, 3, 2, 1, 0]\n",
      "ic> q: [1, 2, 3, 4, 5, 6, 7, 8, 9, 0]\n",
      "ic> q[:-1]: [1, 2, 3, 4, 5, 6, 7, 8, 9]\n",
      "ic> q[-1]: 0\n",
      "ic> q[2::4]: [3, 7]\n",
      "ic> q[2::-1]: [3, 2, 1]\n",
      "ic> q[8:3:-1]: [9, 8, 7, 6, 5]\n"
     ]
    },
    {
     "data": {
      "text/plain": [
       "[9, 8, 7, 6, 5]"
      ]
     },
     "execution_count": 25,
     "metadata": {},
     "output_type": "execute_result"
    }
   ],
   "source": [
    "# Slice has simular syntax as range\n",
    "# slice(stop)\n",
    "# slice(start, stop)\n",
    "# slice(start, stop, step)\n",
    "\n",
    "first_ten_numbers = list(range(10))\n",
    "ic(first_ten_numbers)\n",
    "\n",
    "# named slice - slice(stop)\n",
    "first_two_numbers = slice(2)\n",
    "ic(first_ten_numbers[first_two_numbers])\n",
    "\n",
    "# named slice - slice(start, stop)\n",
    "rest_of_numbers = slice(2,len(first_ten_numbers))\n",
    "ic(first_ten_numbers[rest_of_numbers])\n",
    "\n",
    "# simple slicing using indexes\n",
    "ic(first_ten_numbers[0:2])\n",
    "\n",
    "# reverse printing\n",
    "ic(first_ten_numbers[::-1])\n",
    "\n",
    "\n",
    "# using slices as indexes\n",
    "q = [1,2,3,4,5,6,7,8,9,0]\n",
    "ic(q)\n",
    "\n",
    "# all without last element\n",
    "ic(q[:-1])    \n",
    "\n",
    "# last element, start from end.\n",
    "ic(q[-1])     \n",
    "\n",
    "# start from 3rd, till end with step of 2\n",
    "ic(q[2::4])   \n",
    "\n",
    "# start from 3rd... and reverse it!\n",
    "ic(q[2::-1])  \n",
    "\n",
    "# start from 9th .. till 4rd.. and reverse it!\n",
    "ic(q[8:3:-1]) "
   ]
  },
  {
   "cell_type": "code",
   "execution_count": null,
   "metadata": {
    "hideCode": true,
    "hidePrompt": true
   },
   "outputs": [],
   "source": []
  },
  {
   "cell_type": "code",
   "execution_count": null,
   "metadata": {
    "hideCode": true,
    "hidePrompt": true
   },
   "outputs": [],
   "source": []
  },
  {
   "cell_type": "code",
   "execution_count": null,
   "metadata": {
    "hideCode": true,
    "hidePrompt": true
   },
   "outputs": [],
   "source": []
  },
  {
   "cell_type": "code",
   "execution_count": null,
   "metadata": {
    "hideCode": true,
    "hidePrompt": true
   },
   "outputs": [],
   "source": []
  },
  {
   "cell_type": "code",
   "execution_count": null,
   "metadata": {
    "hideCode": true,
    "hidePrompt": true
   },
   "outputs": [],
   "source": []
  },
  {
   "cell_type": "markdown",
   "metadata": {
    "hideCode": true,
    "hidePrompt": true
   },
   "source": [
    "## Tooling and Standards"
   ]
  },
  {
   "cell_type": "markdown",
   "metadata": {
    "heading_collapsed": true,
    "hideCode": true,
    "hidePrompt": true
   },
   "source": [
    "### PEP8 "
   ]
  },
  {
   "cell_type": "markdown",
   "metadata": {
    "hidden": true,
    "hideCode": true,
    "hidePrompt": true
   },
   "source": [
    "**Summary**\n",
    "\n",
    "* Use `space`, no `tab`. Always 4.\n",
    "* Lines should be no more then 79 characters in length or less, if you need to\n",
    "  - make string shorter simplifieing meaningfull variables.\n",
    "  - add `\\` to split code to the new line.\n",
    "  - continuations of long expressions, should be added by one indentation (4 spaces) \n",
    "    of their normal indentation level.\n",
    "* Functions and Classes should be represented by two blank lines.\n",
    "* Class methods should be separated by one blank lines.\n",
    "* don't put spaces around list indexes, function calls, or keyword assignments.\n",
    "* Put one, and only one space before and after variable assignment.\n",
    "* etc... etc...\n",
    "\n",
    "**Readme more**:\n",
    "* https://pep8.org/\n",
    "* https://www.python.org/dev/peps/pep-0008/\n",
    "* http://pep8online.com/\n"
   ]
  },
  {
   "cell_type": "markdown",
   "metadata": {
    "hideCode": true,
    "hidePrompt": true
   },
   "source": [
    "### @pyflackes\n",
    "\n",
    "Code analyzer "
   ]
  },
  {
   "cell_type": "markdown",
   "metadata": {
    "hideCode": true,
    "hidePrompt": true
   },
   "source": [
    "### @pylint\n",
    "\n",
    "Shows us a styling and logical errors"
   ]
  },
  {
   "cell_type": "markdown",
   "metadata": {
    "hideCode": true,
    "hidePrompt": true
   },
   "source": [
    "### @codecov\n",
    "\n",
    "Code coverage"
   ]
  },
  {
   "cell_type": "markdown",
   "metadata": {
    "hideCode": true,
    "hidePrompt": true
   },
   "source": [
    "### @vulture\n",
    "\n",
    "Dead code"
   ]
  },
  {
   "cell_type": "markdown",
   "metadata": {
    "hideCode": true,
    "hidePrompt": true
   },
   "source": [
    "### @`black`"
   ]
  },
  {
   "cell_type": "markdown",
   "metadata": {
    "hideCode": true,
    "hidePrompt": true
   },
   "source": [
    "### `flake8`"
   ]
  },
  {
   "cell_type": "markdown",
   "metadata": {
    "hideCode": true,
    "hidePrompt": true
   },
   "source": [
    "```bash\n",
    "git init\n",
    "git add example.py\n",
    "git commit -m \"first commit\"\n",
    "> ....\n",
    "\n",
    "python -m flake8 --install-hook git\n",
    "git config --bool flake8.strict true\n",
    "\n",
    "echo \"# new comment\" >> example.py\n",
    "git commit -m \"second commit\"\n",
    "> error messages...\n",
    "```"
   ]
  },
  {
   "cell_type": "markdown",
   "metadata": {
    "ExecuteTime": {
     "end_time": "2019-03-03T14:30:27.803281Z",
     "start_time": "2019-03-03T14:30:27.798869Z"
    },
    "hideCode": true,
    "hidePrompt": true
   },
   "source": [
    "### @`tox`"
   ]
  },
  {
   "cell_type": "markdown",
   "metadata": {
    "hideCode": true,
    "hidePrompt": true
   },
   "source": [
    "### `venv` or `virtualenv`"
   ]
  },
  {
   "cell_type": "markdown",
   "metadata": {
    "hideCode": true,
    "hidePrompt": true
   },
   "source": [
    "```bash\n",
    "# Python 2.7 \n",
    "$ sudo python -m pip install virtualenv\n",
    "\n",
    "# Create Virtual Env\n",
    "$ python -m virtualenv Py2.7\n",
    "\n",
    "# Activate Environment\n",
    "$ . Py2.7/bin/activate \n",
    "\n",
    "(Py2.7) $ python -V\n",
    "> Python 2.7.10\n",
    "\n",
    "# Deactivate Environment\n",
    "$ deactivate \n",
    "\n",
    "# Python 3.6 (or any else)\n",
    "$ python3 -m venv Py3.7\n",
    "\n",
    "# Activate Environment\n",
    "$ . Py3.7/bin/activate\n",
    "(Py3.7) $ python -V\n",
    "> Python 3.7.2\n",
    "\n",
    "# Check ${VIRTUAL_ENV}\n",
    "$ echo \"${VIRTUAL_ENV}\"\n",
    "> /Users/butuzov/Desktop/Py3.7\n",
    "\n",
    "# Deactivate Environment\n",
    "$ deactivate \n",
    "```"
   ]
  },
  {
   "cell_type": "code",
   "execution_count": null,
   "metadata": {
    "hideCode": true,
    "hidePrompt": true
   },
   "outputs": [],
   "source": []
  },
  {
   "cell_type": "markdown",
   "metadata": {
    "hideCode": true,
    "hidePrompt": true
   },
   "source": [
    "### Jupyter Notebook"
   ]
  },
  {
   "cell_type": "markdown",
   "metadata": {
    "hideCode": true,
    "hidePrompt": true
   },
   "source": [
    "https://www.dataquest.io/blog/jupyter-notebook-tips-tricks-shortcuts/\n",
    "\n",
    "\n",
    "* Extensions *\n",
    "\n",
    "```bash\n",
    "(venv) > pip install install jupyter jupyter_contrib_nbextensions\n",
    "(venv) > pip install git+git://github.com/cpcloud/ipython-autotime\n",
    "(venv) > jupyter contrib nbextension install --sys-prefix\n",
    "(venv) > jupyter nbextension enable codefolding/main\n",
    "(venv) > jupyter nbextension disable codefolding/main\n",
    "```\n",
    "\n",
    "* Nice extensions *\n",
    "\n",
    " 1. jupyter nbextension enable execute_time/ExecuteTime\n",
    " 1. jupyter nbextension enable collapsible_headings/main \n",
    " \n",
    "\n",
    "* Loading Extensions into cell *\n",
    "```\n",
    "# Loading extension\n",
    "# pip install git+git://github.com/cpcloud/ipython-autotime\n",
    "%load_ext autotime\n",
    "```"
   ]
  },
  {
   "cell_type": "markdown",
   "metadata": {
    "hideCode": true,
    "hidePrompt": true
   },
   "source": [
    "## Data Structures"
   ]
  },
  {
   "cell_type": "markdown",
   "metadata": {
    "ExecuteTime": {
     "end_time": "2019-03-03T14:12:01.097990Z",
     "start_time": "2019-03-03T14:12:01.094567Z"
    },
    "hideCode": true,
    "hidePrompt": true
   },
   "source": [
    "### @ `dict`\n",
    "\n",
    "Dictionary, default Python's hashmap type.\n",
    "\n",
    "**Talks**:\n",
    "* [Modern Python Dictionaries - A confluence of a dozen great ideas (PyCon 2017)](https://www.youtube.com/watch?v=npw4s1QTmPg) by Raymond Hettinger"
   ]
  },
  {
   "cell_type": "markdown",
   "metadata": {
    "heading_collapsed": true,
    "hideCode": true,
    "hidePrompt": true
   },
   "source": [
    "### `collections.OrderedDict`"
   ]
  },
  {
   "cell_type": "code",
   "execution_count": 10,
   "metadata": {
    "ExecuteTime": {
     "end_time": "2019-03-03T14:00:33.208376Z",
     "start_time": "2019-03-03T14:00:33.110636Z"
    },
    "hidden": true,
    "hideCode": true,
    "hidePrompt": true
   },
   "outputs": [
    {
     "name": "stdout",
     "output_type": "stream",
     "text": [
      "ic> a: {'a': 1, 'b': 3, 'c': 2}\n",
      "ic> b: OrderedDict([('a', 1), ('b', 3), ('c', 2)])\n",
      "ic> s1: [('a', 1), ('c', 2), ('b', 3)]\n",
      "ic> s2: [('a', 1), ('b', 3), ('c', 2)]\n",
      "ic> s3: {'a': 1, 'b': 3, 'c': 2}\n"
     ]
    },
    {
     "data": {
      "text/plain": [
       "{'a': 1, 'c': 2, 'b': 3}"
      ]
     },
     "execution_count": 10,
     "metadata": {},
     "output_type": "execute_result"
    }
   ],
   "source": [
    "# Ordered Dict\n",
    "\n",
    "# in python 3.7 order will be preserved, \n",
    "# but it's depends on dict implementation\n",
    "# see Hettinger's video.\n",
    "a = {'a':1, 'b':3, 'c':2}\n",
    "ic(a)\n",
    "\n",
    "# ordered dict helps to keep it really ordered\n",
    "from collections import OrderedDict\n",
    "b = OrderedDict(a)\n",
    "ic(b)\n",
    "\n",
    "# we also can use sorted to sort doctionary by value\n",
    "s1 = sorted(a.items(), key=lambda x: x[1])\n",
    "ic(s1)\n",
    "\n",
    "# or by key\n",
    "s2 = sorted(a.items(), key=lambda x: x[0])\n",
    "ic(s2)\n",
    "\n",
    "#  or usign comprehension\n",
    "s3 = {k:v for k, v in sorted(a.items(), key=lambda x: x[1], reverse=False)}\n",
    "ic(s3)"
   ]
  },
  {
   "cell_type": "markdown",
   "metadata": {
    "hideCode": true,
    "hidePrompt": true
   },
   "source": [
    "###  @`collections.defaultdict`"
   ]
  },
  {
   "cell_type": "markdown",
   "metadata": {
    "hideCode": true,
    "hidePrompt": true
   },
   "source": [
    "### @`collections.ChainMap`"
   ]
  },
  {
   "cell_type": "markdown",
   "metadata": {
    "heading_collapsed": true,
    "hideCode": true,
    "hidePrompt": true
   },
   "source": [
    "### `types.MappingProxyType`\n",
    "\n",
    "* https://www.python.org/dev/peps/pep-0416\n",
    "* https://docs.python.org/3/library/types.html"
   ]
  },
  {
   "cell_type": "code",
   "execution_count": 22,
   "metadata": {
    "ExecuteTime": {
     "end_time": "2019-03-03T14:11:13.997791Z",
     "start_time": "2019-03-03T14:11:13.957947Z"
    },
    "hidden": true,
    "hideCode": true,
    "hidePrompt": true
   },
   "outputs": [
    {
     "name": "stdout",
     "output_type": "stream",
     "text": [
      "ic> Colors: mappingproxy({'red': '#FF0000', 'green': '#008000'})\n",
      "ic> Colors.get('navy'): None\n",
      "ic> error_message: 'Cant Update frozen/proxy value of dictionary'\n"
     ]
    }
   ],
   "source": [
    "from types import MappingProxyType\n",
    "\n",
    "Colors = MappingProxyType({\n",
    "    'red'  : '#FF0000',\n",
    "    'green': '#008000',\n",
    "})\n",
    "\n",
    "# show colors\n",
    "ic(Colors)\n",
    "\n",
    "# unexisting key\n",
    "ic(Colors.get('navy'))\n",
    "\n",
    "# updating keys (shoudl fail)\n",
    "error_message = \"Cant Update frozen/proxy value of dictionary\"\n",
    "try:\n",
    "    Colors.update({'navy':'#000080'})\n",
    "except AttributeError:\n",
    "    ic(error_message)"
   ]
  },
  {
   "cell_type": "markdown",
   "metadata": {
    "heading_collapsed": true,
    "hideCode": true,
    "hidePrompt": true
   },
   "source": [
    "### struct.Struct"
   ]
  },
  {
   "cell_type": "code",
   "execution_count": 35,
   "metadata": {
    "ExecuteTime": {
     "end_time": "2019-03-03T14:26:50.729459Z",
     "start_time": "2019-03-03T14:26:50.695500Z"
    },
    "hidden": true,
    "hideCode": true,
    "hidePrompt": true
   },
   "outputs": [
    {
     "name": "stdout",
     "output_type": "stream",
     "text": [
      "ic> compact_data: b'\\x17\\x00\\x00\\x00\\x00\\x00\\x00\\x00\\x00\\x00(B'\n",
      "ic> MyStruct.unpack(compact_data): (23, False, 42.0)\n"
     ]
    },
    {
     "data": {
      "text/plain": [
       "(23, False, 42.0)"
      ]
     },
     "execution_count": 35,
     "metadata": {},
     "output_type": "execute_result"
    }
   ],
   "source": [
    "# Struct\n",
    "# https://docs.python.org/3/library/struct.html\n",
    "\n",
    "from struct import Struct\n",
    "\n",
    "MyStruct = Struct('i?f')\n",
    "compact_data = MyStruct.pack(23, False, 42.0)\n",
    "ic(compact_data)\n",
    "# and unpacking\n",
    "ic(MyStruct.unpack(compact_data))"
   ]
  },
  {
   "cell_type": "markdown",
   "metadata": {
    "heading_collapsed": true,
    "hideCode": true,
    "hidePrompt": true
   },
   "source": [
    "### `array.array`\n",
    "\n",
    "C-types arrays"
   ]
  },
  {
   "cell_type": "code",
   "execution_count": 26,
   "metadata": {
    "ExecuteTime": {
     "end_time": "2019-03-03T14:15:33.137309Z",
     "start_time": "2019-03-03T14:15:33.068319Z"
    },
    "hidden": true,
    "hideCode": true,
    "hidePrompt": true
   },
   "outputs": [
    {
     "name": "stdout",
     "output_type": "stream",
     "text": [
      "ic> array('u', 'hello \\u2641'): array('u', 'hello ♁')\n",
      "ic> array('l', (1, 2, 3, 4, 5)): array('l', [1, 2, 3, 4, 5])\n",
      "ic> array('d', (1.0, 2.0, 3.14)): array('d', [1.0, 2.0, 3.14])\n",
      "ic> array('f', (1.0, 1.5, 2.0, 2.5)): array('f', [1.0, 1.5, 2.0, 2.5])\n"
     ]
    },
    {
     "data": {
      "text/plain": [
       "array('f', [1.0, 1.5, 2.0, 2.5])"
      ]
     },
     "execution_count": 26,
     "metadata": {},
     "output_type": "execute_result"
    }
   ],
   "source": [
    "# https://docs.python.org/3/library/array.html\n",
    "from array import array \n",
    "\n",
    "# Unicode (Py_UNICODE)\n",
    "ic(array('u', 'hello \\u2641'))\n",
    "\n",
    "# signed long\n",
    "ic(array('l', (1, 2, 3, 4, 5)))\n",
    "\n",
    "# doubles\n",
    "ic(array('d', (1.0, 2.0, 3.14)))\n",
    "\n",
    "# floats \n",
    "ic(array('f', (1.0, 1.5, 2.0, 2.5)))"
   ]
  },
  {
   "cell_type": "markdown",
   "metadata": {
    "heading_collapsed": true,
    "hideCode": true,
    "hidePrompt": true
   },
   "source": [
    "### `bytes`\n",
    "\n",
    "`immutable` sequence of bytes"
   ]
  },
  {
   "cell_type": "code",
   "execution_count": 27,
   "metadata": {
    "ExecuteTime": {
     "end_time": "2019-03-03T14:16:14.593359Z",
     "start_time": "2019-03-03T14:16:14.480656Z"
    },
    "hidden": true,
    "hideCode": true,
    "hidePrompt": true
   },
   "outputs": [
    {
     "name": "stdout",
     "output_type": "stream",
     "text": [
      "ic> b: b'literal'\n",
      "ic> b[1]: 105\n",
      "ic> b[0:3]: b'lit'\n",
      "ic> b'dots over \\xd1\\x96'.decode(): 'dots over і'\n",
      "ic> bytes(10): b'\\x00\\x00\\x00\\x00\\x00\\x00\\x00\\x00\\x00\\x00'\n",
      "ic> bytes(range(97, 97+26)): b'abcdefghijklmnopqrstuvwxyz'\n",
      "ic> bytes(\"dots over і\", 'utf8'): b'dots over \\xd1\\x96'\n"
     ]
    },
    {
     "data": {
      "text/plain": [
       "b'dots over \\xd1\\x96'"
      ]
     },
     "execution_count": 27,
     "metadata": {},
     "output_type": "execute_result"
    }
   ],
   "source": [
    "b = b'literal'\n",
    "# bytes literal - restricted to ascii symbols (except \\ and control codes)\n",
    "ic(b)\n",
    "\n",
    "# int (code at ascii) if indexing \n",
    "ic(b[1])\n",
    "\n",
    "# int (code at ascii) if indexing \n",
    "ic(b[0:3])\n",
    "\n",
    "# bytes to string convertion (with escape characters)\n",
    "ic(b'dots over \\xd1\\x96'.decode())\n",
    "\n",
    "# creating sequence qith zero value\n",
    "ic(bytes(10))\n",
    "\n",
    "# if initializer sequence of integers ...\n",
    "ic(bytes(range(97, 97+26)))\n",
    "\n",
    "# or sequence of utf8 aswell.\n",
    "ic(bytes(\"dots over і\", 'utf8'))"
   ]
  },
  {
   "cell_type": "markdown",
   "metadata": {
    "heading_collapsed": true,
    "hideCode": true,
    "hidePrompt": true
   },
   "source": [
    "### `bytearray`\n",
    "\n",
    "`mutable` byte array (like list)"
   ]
  },
  {
   "cell_type": "code",
   "execution_count": 28,
   "metadata": {
    "ExecuteTime": {
     "end_time": "2019-03-03T14:17:36.660216Z",
     "start_time": "2019-03-03T14:17:36.515059Z"
    },
    "hidden": true,
    "hideCode": true,
    "hidePrompt": true
   },
   "outputs": [
    {
     "name": "stdout",
     "output_type": "stream",
     "text": [
      "ic> bytearray(): bytearray(b'')\n",
      "ic> bytearray(4): bytearray(b'\\x00\\x00\\x00\\x00')\n",
      "ic> bytearray(\"Dots over і.\", 'utf8'): bytearray(b'Dots over \\xd1\\x96.')\n",
      "ic> b: bytearray(b'Dots over \\xd1\\x96.I said put dots over i.')\n",
      "ic> b: bytearray(b'Comas over \\xd1\\x96.I said put dots over i.')\n",
      "ic> words.upper(): b'DONT COMES EASY'\n",
      "ic> words.split(): [b'Dont', b'comes', b'easy']\n",
      "ic> bytearray(b\" \").join(words.split()): bytearray(b'Dont comes easy')\n"
     ]
    },
    {
     "data": {
      "text/plain": [
       "bytearray(b'Dont comes easy')"
      ]
     },
     "execution_count": 28,
     "metadata": {},
     "output_type": "execute_result"
    }
   ],
   "source": [
    "# Same way to initialize it was done with byte\n",
    "ic(bytearray())\n",
    "ic(bytearray(4))\n",
    "ic(bytearray(\"Dots over і.\", 'utf8'))\n",
    "\n",
    "# Mutating array\n",
    "b = bytearray(\"Dots over і.\", 'utf8')\n",
    "b.extend(bytes('I said put dots over i.', 'utf8'))\n",
    "ic(b)\n",
    "\n",
    "b[0:5] = b'Comas '\n",
    "ic(b)\n",
    "\n",
    "# bytes supports strings like opperations\n",
    "words = b\"Dont comes easy\"\n",
    "\n",
    "# text transform\n",
    "ic(words.upper())\n",
    "\n",
    "# text split to list\n",
    "ic(words.split())\n",
    "\n",
    "# and join it back\n",
    "ic(bytearray(b\" \").join(words.split()))"
   ]
  },
  {
   "cell_type": "markdown",
   "metadata": {
    "hideCode": true,
    "hidePrompt": true
   },
   "source": [
    "### @`memoryview`"
   ]
  },
  {
   "cell_type": "markdown",
   "metadata": {
    "hideCode": true,
    "hidePrompt": true
   },
   "source": [
    "### @`str`"
   ]
  },
  {
   "cell_type": "markdown",
   "metadata": {
    "hideCode": true,
    "hidePrompt": true
   },
   "source": [
    "### @`tuple`"
   ]
  },
  {
   "cell_type": "markdown",
   "metadata": {
    "hideCode": true,
    "hidePrompt": true
   },
   "source": [
    "### @`collections.namedtuple`"
   ]
  },
  {
   "cell_type": "markdown",
   "metadata": {
    "heading_collapsed": true,
    "hideCode": true,
    "hidePrompt": true
   },
   "source": [
    "### `set`\n",
    "\n",
    "Well.. a `set` (unique set)"
   ]
  },
  {
   "cell_type": "code",
   "execution_count": 29,
   "metadata": {
    "ExecuteTime": {
     "end_time": "2019-03-03T14:20:28.393668Z",
     "start_time": "2019-03-03T14:20:28.349681Z"
    },
    "hidden": true,
    "hideCode": true,
    "hidePrompt": true
   },
   "outputs": [
    {
     "name": "stdout",
     "output_type": "stream",
     "text": [
      "ic> s: {1, 2, 3}\n",
      "ic> s: {19, 1, 2, 3}\n",
      "ic> s & set([2, 19]): {2, 19}\n"
     ]
    },
    {
     "data": {
      "text/plain": [
       "{2, 19}"
      ]
     },
     "execution_count": 29,
     "metadata": {},
     "output_type": "execute_result"
    }
   ],
   "source": [
    "s = set([1,2,1,2,3,1])\n",
    "ic(s)\n",
    "\n",
    "s.add(19)\n",
    "s.add(19)\n",
    "ic(s)\n",
    "\n",
    "# intersection\n",
    "ic(s & set([2, 19]))"
   ]
  },
  {
   "cell_type": "markdown",
   "metadata": {
    "ExecuteTime": {
     "end_time": "2019-03-03T14:22:56.228287Z",
     "start_time": "2019-03-03T14:22:56.223182Z"
    },
    "hideCode": true,
    "hidePrompt": true
   },
   "source": [
    "### @`frozenset`"
   ]
  },
  {
   "cell_type": "markdown",
   "metadata": {
    "heading_collapsed": true,
    "hideCode": true,
    "hidePrompt": true
   },
   "source": [
    "### `collections.Counter`"
   ]
  },
  {
   "cell_type": "code",
   "execution_count": 30,
   "metadata": {
    "ExecuteTime": {
     "end_time": "2019-03-03T14:21:01.165213Z",
     "start_time": "2019-03-03T14:21:01.064907Z"
    },
    "hidden": true,
    "hideCode": true,
    "hidePrompt": true
   },
   "outputs": [
    {
     "name": "stdout",
     "output_type": "stream",
     "text": [
      "ic> c1.most_common(): [('peaches', 10), ('apples', 3)]\n",
      "ic> c2.most_common(2): [('un', 1), ('dos', 1)]\n",
      "ic> list(c2.elements()): ['un', 'dos', 'tres', 'quatro', 'sinco', 'seis']\n",
      "ic> list(c2): ['un', 'dos', 'tres', 'quatro', 'sinco', 'seis']\n",
      "ic> c3: Counter({'dos': 2, 'tres': 1, 'sinco': 1, 'seis': 1, 'ocho': 0})\n"
     ]
    },
    {
     "data": {
      "text/plain": [
       "Counter({'dos': 2, 'tres': 1, 'sinco': 1, 'seis': 1, 'ocho': 0})"
      ]
     },
     "execution_count": 30,
     "metadata": {},
     "output_type": "execute_result"
    }
   ],
   "source": [
    "# collections.Counter example\n",
    "\n",
    "from collections import Counter\n",
    "\n",
    "c1 = Counter();\n",
    "c1['apples'] += 1\n",
    "c1['apples'] += 2\n",
    "c1['peaches'] += 10\n",
    "\n",
    "# Most Common Elements (sorted by `count`)\n",
    "ic(c1.most_common())\n",
    "\n",
    "# Counter Example\n",
    "c2 = Counter()\n",
    "lipsum = \"Un dos tres quatro sinco seis\"\n",
    "words = [w.strip(\".,\") for w in lipsum.lower().split(' ')]   \n",
    "for word in words:\n",
    "    c2[word]+=1\n",
    "\n",
    "ic(c2.most_common(2))\n",
    "\n",
    "# List\n",
    "ic(list(c2.elements()))\n",
    "\n",
    "# Unique Elements\n",
    "ic(list(c2))\n",
    "\n",
    "# Additoional methods\n",
    "c3 = Counter([\"dos\"])\n",
    "c3.update([\"dos\", \"tres\", \"sinco\", \"seis\", \"ocho\"])\n",
    "c3.subtract([\"ocho\"])\n",
    "ic(c3) "
   ]
  },
  {
   "cell_type": "markdown",
   "metadata": {
    "hideCode": true,
    "hidePrompt": true
   },
   "source": [
    "### `collections.deque`"
   ]
  },
  {
   "cell_type": "code",
   "execution_count": 33,
   "metadata": {
    "ExecuteTime": {
     "end_time": "2019-03-03T14:22:20.105664Z",
     "start_time": "2019-03-03T14:22:19.995274Z"
    },
    "hideCode": true,
    "hidePrompt": true
   },
   "outputs": [
    {
     "name": "stdout",
     "output_type": "stream",
     "text": [
      "ic> d: deque(['one', 'two', 'three'])\n",
      "ic> d: deque(['one', 'two', 'three', 'four'])\n",
      "ic> d: deque(['zero', 'one', 'two', 'three', 'four'])\n",
      "ic> d_poped: 'four'\n",
      "ic> d_popedleft: 'zero'\n",
      "ic> d: deque(['two', 'three', 'one'])\n"
     ]
    },
    {
     "data": {
      "text/plain": [
       "deque(['two', 'three', 'one'])"
      ]
     },
     "execution_count": 33,
     "metadata": {},
     "output_type": "execute_result"
    }
   ],
   "source": [
    "import collections \n",
    "\n",
    "d = collections.deque([\"one\", \"two\", \"three\"])\n",
    "ic(d)\n",
    "\n",
    "d.append(\"four\")\n",
    "ic(d)\n",
    "\n",
    "d.appendleft(\"zero\")\n",
    "ic(d)\n",
    "\n",
    "d_poped = d.pop()\n",
    "ic(d_poped)\n",
    "\n",
    "d_popedleft = d.popleft()\n",
    "ic(d_popedleft)\n",
    "\n",
    "# rotatiob\n",
    "d.rotate(2)\n",
    "ic(d)"
   ]
  },
  {
   "cell_type": "markdown",
   "metadata": {
    "hideCode": true,
    "hidePrompt": true
   },
   "source": [
    "### @`heapq`"
   ]
  },
  {
   "cell_type": "markdown",
   "metadata": {
    "hideCode": true,
    "hidePrompt": true
   },
   "source": [
    "### @`queue.PriorityQueue`"
   ]
  },
  {
   "cell_type": "markdown",
   "metadata": {
    "hideCode": true,
    "hidePrompt": true
   },
   "source": [
    "### @`queue.Queue`"
   ]
  },
  {
   "cell_type": "markdown",
   "metadata": {
    "hideCode": true,
    "hidePrompt": true
   },
   "source": [
    "### @`multiprocessing.Queue`"
   ]
  },
  {
   "cell_type": "code",
   "execution_count": null,
   "metadata": {
    "hideCode": true,
    "hidePrompt": true
   },
   "outputs": [],
   "source": []
  },
  {
   "cell_type": "code",
   "execution_count": null,
   "metadata": {
    "hideCode": true,
    "hidePrompt": true
   },
   "outputs": [],
   "source": []
  },
  {
   "cell_type": "code",
   "execution_count": null,
   "metadata": {
    "hideCode": true,
    "hidePrompt": true
   },
   "outputs": [],
   "source": []
  },
  {
   "cell_type": "code",
   "execution_count": null,
   "metadata": {
    "hideCode": true,
    "hidePrompt": true
   },
   "outputs": [],
   "source": []
  },
  {
   "cell_type": "code",
   "execution_count": null,
   "metadata": {
    "hideCode": true,
    "hidePrompt": true
   },
   "outputs": [],
   "source": []
  },
  {
   "cell_type": "markdown",
   "metadata": {
    "ExecuteTime": {
     "end_time": "2019-03-03T13:48:06.096965Z",
     "start_time": "2019-03-03T13:48:06.085075Z"
    },
    "hideCode": true,
    "hidePrompt": true
   },
   "source": [
    "## Object Oriented Programming"
   ]
  },
  {
   "cell_type": "markdown",
   "metadata": {
    "hideCode": true,
    "hidePrompt": true
   },
   "source": [
    "## Modules Development"
   ]
  },
  {
   "cell_type": "markdown",
   "metadata": {
    "hideCode": true,
    "hidePrompt": true
   },
   "source": [
    "## Testing"
   ]
  },
  {
   "cell_type": "markdown",
   "metadata": {
    "hideCode": true,
    "hidePrompt": true
   },
   "source": [
    "## Debug"
   ]
  },
  {
   "cell_type": "markdown",
   "metadata": {
    "hideCode": true,
    "hidePrompt": true
   },
   "source": [
    "## Parallelism and Concurrency"
   ]
  },
  {
   "cell_type": "markdown",
   "metadata": {
    "hideCode": true,
    "hidePrompt": true
   },
   "source": [
    "## Web Development - Flask"
   ]
  },
  {
   "cell_type": "markdown",
   "metadata": {
    "hideCode": true,
    "hidePrompt": true
   },
   "source": [
    "## Web Development - Django"
   ]
  },
  {
   "cell_type": "code",
   "execution_count": 7,
   "metadata": {
    "ExecuteTime": {
     "end_time": "2019-03-03T13:57:57.872546Z",
     "start_time": "2019-03-03T13:57:57.869684Z"
    },
    "hideCode": true,
    "hidePrompt": true
   },
   "outputs": [],
   "source": []
  },
  {
   "cell_type": "code",
   "execution_count": null,
   "metadata": {
    "hideCode": true,
    "hidePrompt": true
   },
   "outputs": [],
   "source": []
  },
  {
   "cell_type": "code",
   "execution_count": null,
   "metadata": {
    "hideCode": true,
    "hidePrompt": true
   },
   "outputs": [],
   "source": []
  }
 ],
 "metadata": {
  "hide_code_all_hidden": true,
  "kernelspec": {
   "display_name": "Python 3",
   "language": "python",
   "name": "python3"
  },
  "language_info": {
   "codemirror_mode": {
    "name": "ipython",
    "version": 3
   },
   "file_extension": ".py",
   "mimetype": "text/x-python",
   "name": "python",
   "nbconvert_exporter": "python",
   "pygments_lexer": "ipython3",
   "version": "3.7.2"
  },
  "toc": {
   "base_numbering": 1,
   "nav_menu": {},
   "number_sections": true,
   "sideBar": true,
   "skip_h1_title": true,
   "title_cell": "Table of Contents",
   "title_sidebar": "Contents",
   "toc_cell": false,
   "toc_position": {},
   "toc_section_display": true,
   "toc_window_display": true
  }
 },
 "nbformat": 4,
 "nbformat_minor": 2
}
