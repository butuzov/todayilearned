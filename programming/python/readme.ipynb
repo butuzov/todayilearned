{
 "cells": [
  {
   "cell_type": "code",
   "execution_count": 1,
   "metadata": {
    "ExecuteTime": {
     "end_time": "2019-02-20T10:59:31.972217Z",
     "start_time": "2019-02-20T10:59:31.898058Z"
    },
    "code_folding": [],
    "hideCode": false,
    "hidePrompt": false
   },
   "outputs": [],
   "source": [
    "#hide\n",
    "from icecream import ic  \n",
    "import sys, re\n",
    "\n",
    "def jupyter(*args): \n",
    "    print(*[re.sub(r\",\\s{1,}\", \", \", i.replace(\",\\n\", \", \")) for i in args], file=sys.stdout)\n",
    "    \n",
    "ic.configureOutput(prefix='ic> ', outputFunction=jupyter)"
   ]
  },
  {
   "cell_type": "markdown",
   "metadata": {
    "hideCode": false,
    "hidePrompt": false
   },
   "source": [
    "# Programming in Python (notes)\n",
    "\n",
    "<!-- @import \"[TOC]\" {cmd=\"toc\" depthFrom=1 depthTo=6 orderedList=false} -->"
   ]
  },
  {
   "cell_type": "markdown",
   "metadata": {},
   "source": [
    "## Code Quality"
   ]
  },
  {
   "cell_type": "markdown",
   "metadata": {
    "heading_collapsed": true
   },
   "source": [
    "### Code Standards - PEP8"
   ]
  },
  {
   "cell_type": "markdown",
   "metadata": {
    "hidden": true
   },
   "source": [
    "* https://pep8.org/\n",
    "* https://www.python.org/dev/peps/pep-0008/\n",
    "* http://pep8online.com/\n",
    "\n",
    "\n",
    "**Notes**\n",
    "\n",
    "* Use `space`, no `tab`. Always 4.\n",
    "* Lines should be no more then 79 characters in length or less, if you need to\n",
    "  - make string shorter simplifieing meaningfull variables.\n",
    "  - add `\\` to split code to the new line.\n",
    "  - continuations of long expressions, should be added by one indentation (4 spaces) \n",
    "    of their normal indentation level.\n",
    "* Functions and Classes should be represented by two blank lines.\n",
    "* Class methods should be separated by one blank lines.\n",
    "* don't put spaces around list indexes, function calls, or keyword assignments.\n",
    "* Put one, and only one space before and after variable assignment.\n",
    "* etc... etc..."
   ]
  },
  {
   "cell_type": "markdown",
   "metadata": {},
   "source": [
    "### Code Analizers\n",
    "\n",
    "* [ ] `pep8` PEP8\n",
    "* [ ] `pyflackes` code analyzer\n",
    "* [ ] `pylint` shows us a styling and logical errors\n",
    "* [ ] `codecov` code coverage\n",
    "* [ ] `vulture` dead code\n",
    "* [ ] `flake8` all in one\n",
    "* [ ] `black` beutifier and code standards."
   ]
  },
  {
   "cell_type": "markdown",
   "metadata": {},
   "source": [
    "### Flake8"
   ]
  },
  {
   "cell_type": "markdown",
   "metadata": {},
   "source": [
    "```bash\n",
    "git init\n",
    "git add example.py\n",
    "git commit -m \"first commit\"\n",
    "> ....\n",
    "\n",
    "python -m flake8 --install-hook git\n",
    "git config --bool flake8.strict true\n",
    "\n",
    "echo \"# new comment\" >> example.py\n",
    "git commit -m \"second commit\"\n",
    "> error messages...\n",
    "```"
   ]
  },
  {
   "cell_type": "markdown",
   "metadata": {
    "hideCode": false,
    "hidePrompt": false
   },
   "source": [
    "## Data Structures"
   ]
  },
  {
   "cell_type": "markdown",
   "metadata": {
    "hideCode": false,
    "hidePrompt": false
   },
   "source": [
    "### Sequences (Unpacking)"
   ]
  },
  {
   "cell_type": "code",
   "execution_count": 2,
   "metadata": {
    "ExecuteTime": {
     "end_time": "2019-02-20T10:59:32.172963Z",
     "start_time": "2019-02-20T10:59:31.975097Z"
    }
   },
   "outputs": [
    {
     "name": "stdout",
     "output_type": "stream",
     "text": [
      "ic> data: ['ACME', 50, 91.1, (2012, 12, 21)]\n",
      "ic> name: 'ACME'\n",
      "ic> year: 2012\n",
      "ic> year: 2012\n",
      "ic> b: 'e'\n",
      "ic> a: 'h', b: ['e', 'l', 'l'], f: 'o'\n",
      "e:l:l\n",
      "e:l:l\n"
     ]
    }
   ],
   "source": [
    "data = ['ACME', 50, 91.1, (2012, 12, 21)]\n",
    "ic(data)\n",
    "\n",
    "# Simple unpucking\n",
    "name, shares, price, date = data\n",
    "ic(name)\n",
    "\n",
    "# Tuple unpacking\n",
    "name, shares, price, (year, mon, day) = data\n",
    "ic(year)\n",
    "\n",
    "# Nested Unpacking\n",
    "name, *_, (year, *_) = data\n",
    "ic(year)\n",
    "\n",
    "\n",
    "# we can unpack any sequence of same length\n",
    "s = 'hello'\n",
    "a, b, c, d, f = s\n",
    "ic(b)\n",
    "\n",
    "# skiping some of the unpackined values (works in any position start, middle or end)\n",
    "a, *b, f = s\n",
    "ic(a, b, f)\n",
    "\n",
    "# we can unpack into function\n",
    "print(*b, sep=':')\n",
    "\n",
    "# if this is a dictionary, we can unpack named arguments, \n",
    "# alongside with positional.\n",
    "print(*b, **{'sep':':'})"
   ]
  },
  {
   "cell_type": "markdown",
   "metadata": {},
   "source": [
    "### Dictionaries, Maps, and Hashtables\n",
    "\n",
    "[Modern Python Dictionaries - A confluence of a dozen great ideas (PyCon 2017)](https://www.youtube.com/watch?v=npw4s1QTmPg) by Raymond Hettinger\n",
    " \n",
    "* [x] `collections.OrderedDict`\n",
    "* [ ] `collections.defaultdict`\n",
    "* [ ] `collections.ChainMap` - multiple dictionaries combined (for search proposes, for example)\n",
    "* [ ] types .MappingProxyType - read only dict (frozendict)."
   ]
  },
  {
   "cell_type": "code",
   "execution_count": 3,
   "metadata": {
    "ExecuteTime": {
     "end_time": "2019-02-20T10:59:32.263102Z",
     "start_time": "2019-02-20T10:59:32.175573Z"
    }
   },
   "outputs": [
    {
     "name": "stdout",
     "output_type": "stream",
     "text": [
      "ic> a: {'a': 1, 'b': 3, 'c': 2}\n",
      "ic> b: OrderedDict([('a', 1), ('b', 3), ('c', 2)])\n",
      "ic> s1: [('a', 1), ('c', 2), ('b', 3)]\n",
      "ic> s2: [('a', 1), ('b', 3), ('c', 2)]\n",
      "ic> s3: {'a': 1, 'b': 3, 'c': 2}\n"
     ]
    },
    {
     "data": {
      "text/plain": [
       "{'a': 1, 'c': 2, 'b': 3}"
      ]
     },
     "execution_count": 3,
     "metadata": {},
     "output_type": "execute_result"
    }
   ],
   "source": [
    "# Ordered Dict\n",
    "\n",
    "# in python 3.7 order will be preserved, \n",
    "# but it's depends on dict implementation\n",
    "# see Hettinger's video.\n",
    "a = {'a':1, 'b':3, 'c':2}\n",
    "ic(a)\n",
    "\n",
    "# ordered dict helps to keep it really ordered\n",
    "from collections import OrderedDict\n",
    "b = OrderedDict(a)\n",
    "ic(b)\n",
    "\n",
    "# we also can use sorted to sort doctionary by value\n",
    "s1 = sorted(a.items(), key=lambda x: x[1])\n",
    "ic(s1)\n",
    "\n",
    "# or by key\n",
    "s2 = sorted(a.items(), key=lambda x: x[0])\n",
    "ic(s2)\n",
    "\n",
    "#  or usign comprehension\n",
    "s3 = {k:v for k, v in sorted(a.items(), key=lambda x: x[1], reverse=False)}\n",
    "ic(s3)\n",
    "      "
   ]
  },
  {
   "cell_type": "code",
   "execution_count": 4,
   "metadata": {
    "ExecuteTime": {
     "end_time": "2019-02-20T10:59:32.272772Z",
     "start_time": "2019-02-20T10:59:32.268234Z"
    }
   },
   "outputs": [],
   "source": [
    "# default values of dictionary"
   ]
  },
  {
   "cell_type": "markdown",
   "metadata": {},
   "source": [
    "### Array Data Structures"
   ]
  },
  {
   "cell_type": "markdown",
   "metadata": {},
   "source": [
    "* [x] slicing `list`s\n",
    "* [ ] `list`s\n",
    "* [ ] `tuple`s\n",
    "* [x] `array.array` - typed lists\n",
    "* [ ] `str` - immutable strings list (unicode)\n",
    "* [ ] `bytes` - immutable bytes container\n",
    "* [ ] `bytearray` - mutable bytes container"
   ]
  },
  {
   "cell_type": "code",
   "execution_count": 5,
   "metadata": {
    "ExecuteTime": {
     "end_time": "2019-02-20T10:59:32.465666Z",
     "start_time": "2019-02-20T10:59:32.277161Z"
    }
   },
   "outputs": [
    {
     "name": "stdout",
     "output_type": "stream",
     "text": [
      "ic> first_ten_numbers: [0, 1, 2, 3, 4, 5, 6, 7, 8, 9]\n",
      "ic> first_ten_numbers[first_two_numbers]: [0, 1]\n",
      "ic> first_ten_numbers[rest_of_numbers]: [2, 3, 4, 5, 6, 7, 8, 9]\n",
      "ic> first_ten_numbers[0:2]: [0, 1]\n",
      "ic> first_ten_numbers[::-1]: [9, 8, 7, 6, 5, 4, 3, 2, 1, 0]\n",
      "ic> q: [1, 2, 3, 4, 5, 6, 7, 8, 9, 0]\n",
      "ic> q[:-1]: [1, 2, 3, 4, 5, 6, 7, 8, 9]\n",
      "ic> q[-1]: 0\n",
      "ic> q[2::4]: [3, 7]\n",
      "ic> q[2::-1]: [3, 2, 1]\n",
      "ic> q[8:3:-1]: [9, 8, 7, 6, 5]\n"
     ]
    },
    {
     "data": {
      "text/plain": [
       "[9, 8, 7, 6, 5]"
      ]
     },
     "execution_count": 5,
     "metadata": {},
     "output_type": "execute_result"
    }
   ],
   "source": [
    "# Slice has simular syntax as range\n",
    "# slice(stop)\n",
    "# slice(start, stop)\n",
    "# slice(start, stop, step)\n",
    "\n",
    "first_ten_numbers = list(range(10))\n",
    "ic(first_ten_numbers)\n",
    "\n",
    "# named slice - slice(stop)\n",
    "first_two_numbers = slice(2)\n",
    "ic(first_ten_numbers[first_two_numbers])\n",
    "\n",
    "# named slice - slice(start, stop)\n",
    "rest_of_numbers = slice(2,len(first_ten_numbers))\n",
    "ic(first_ten_numbers[rest_of_numbers])\n",
    "\n",
    "# simple slicing using indexes\n",
    "ic(first_ten_numbers[0:2])\n",
    "\n",
    "# reverse printing\n",
    "ic(first_ten_numbers[::-1])\n",
    "\n",
    "\n",
    "# using slices as indexes\n",
    "q = [1,2,3,4,5,6,7,8,9,0]\n",
    "ic(q)\n",
    "\n",
    "# all without last element\n",
    "ic(q[:-1])    \n",
    "\n",
    "# last element, start from end.\n",
    "ic(q[-1])     \n",
    "\n",
    "# start from 3rd, till end with step of 2\n",
    "ic(q[2::4])   \n",
    "\n",
    "# start from 3rd... and reverse it!\n",
    "ic(q[2::-1])  \n",
    "\n",
    "# start from 9th .. till 4rd.. and reverse it!\n",
    "ic(q[8:3:-1]) "
   ]
  },
  {
   "cell_type": "code",
   "execution_count": 6,
   "metadata": {
    "ExecuteTime": {
     "end_time": "2019-02-20T10:59:32.554730Z",
     "start_time": "2019-02-20T10:59:32.468822Z"
    }
   },
   "outputs": [
    {
     "name": "stdout",
     "output_type": "stream",
     "text": [
      "ic> array('u', 'hello \\u2641'): array('u', 'hello ♁')\n",
      "ic> array('l', (1, 2, 3, 4, 5)): array('l', [1, 2, 3, 4, 5])\n",
      "ic> array('d', (1.0, 2.0, 3.14)): array('d', [1.0, 2.0, 3.14])\n",
      "ic> array('f', (1.0, 1.5, 2.0, 2.5)): array('f', [1.0, 1.5, 2.0, 2.5])\n"
     ]
    },
    {
     "data": {
      "text/plain": [
       "array('f', [1.0, 1.5, 2.0, 2.5])"
      ]
     },
     "execution_count": 6,
     "metadata": {},
     "output_type": "execute_result"
    }
   ],
   "source": [
    "# C-types arrays  array.array \n",
    "# https://docs.python.org/3/library/array.html\n",
    "from array import array \n",
    "\n",
    "# Unicode (Py_UNICODE)\n",
    "ic(array('u', 'hello \\u2641'))\n",
    "\n",
    "# signed long\n",
    "ic(array('l', (1, 2, 3, 4, 5)))\n",
    "\n",
    "# doubles\n",
    "ic(array('d', (1.0, 2.0, 3.14)))\n",
    "\n",
    "# floats \n",
    "ic(array('f', (1.0, 1.5, 2.0, 2.5)))"
   ]
  },
  {
   "cell_type": "markdown",
   "metadata": {},
   "source": [
    "### Records, Structs, and Data Transfer Objects"
   ]
  },
  {
   "cell_type": "markdown",
   "metadata": {},
   "source": [
    "  * [ ] `dict`s\n",
    "  * [ ] `tuple`s & `collections.namedtuple`s\n",
    "  * [ ] `typing.NamedTuple` improved named `tuple`'s\n",
    "  * [x] [`struct.Struct`] \n",
    "  * [ ] `types.SimpleNamespace`"
   ]
  },
  {
   "cell_type": "code",
   "execution_count": 7,
   "metadata": {
    "ExecuteTime": {
     "end_time": "2019-02-20T10:59:32.620677Z",
     "start_time": "2019-02-20T10:59:32.563088Z"
    }
   },
   "outputs": [
    {
     "name": "stdout",
     "output_type": "stream",
     "text": [
      "ic> compact_data: b'\\x17\\x00\\x00\\x00\\x00\\x00\\x00\\x00\\x00\\x00(B'\n",
      "ic> MyStruct.unpack(compact_data): (23, False, 42.0)\n"
     ]
    },
    {
     "data": {
      "text/plain": [
       "(23, False, 42.0)"
      ]
     },
     "execution_count": 7,
     "metadata": {},
     "output_type": "execute_result"
    }
   ],
   "source": [
    "# Struct\n",
    "# https://docs.python.org/3/library/struct.html\n",
    "\n",
    "from struct import Struct\n",
    "\n",
    "MyStruct = Struct('i?f')\n",
    "compact_data = MyStruct.pack(23, False, 42.0)\n",
    "ic(compact_data)\n",
    "# and unpacking\n",
    "ic(MyStruct.unpack(compact_data))"
   ]
  },
  {
   "cell_type": "markdown",
   "metadata": {},
   "source": [
    "### Sets\n",
    "  * [ ] `sets` `{1,2,3}`\n",
    "  * [ ] `frozenset` - immutable `set`\n",
    "  * [x] `collections.Counter` - weird set (allow multiple values), but has counter on it."
   ]
  },
  {
   "cell_type": "code",
   "execution_count": 8,
   "metadata": {
    "ExecuteTime": {
     "end_time": "2019-02-20T10:59:32.663941Z",
     "start_time": "2019-02-20T10:59:32.624819Z"
    }
   },
   "outputs": [
    {
     "name": "stdout",
     "output_type": "stream",
     "text": [
      "ic> s: {1, 2, 3}\n"
     ]
    },
    {
     "data": {
      "text/plain": [
       "{1, 2, 3}"
      ]
     },
     "execution_count": 8,
     "metadata": {},
     "output_type": "execute_result"
    }
   ],
   "source": [
    "# Sets\n",
    "s = set([1,2,1,2,3,1])\n",
    "ic(s)"
   ]
  },
  {
   "cell_type": "code",
   "execution_count": 9,
   "metadata": {
    "ExecuteTime": {
     "end_time": "2019-02-20T10:59:32.791179Z",
     "start_time": "2019-02-20T10:59:32.668192Z"
    }
   },
   "outputs": [
    {
     "name": "stdout",
     "output_type": "stream",
     "text": [
      "ic> c1.most_common(): [('peaches', 10), ('apples', 3)]\n",
      "ic> c2.most_common(2): [('un', 1), ('dos', 1)]\n",
      "ic> list(c2.elements()): ['un', 'dos', 'tres', 'quatro', 'sinco', 'seis']\n",
      "ic> list(c2): ['un', 'dos', 'tres', 'quatro', 'sinco', 'seis']\n",
      "ic> c3: Counter({'dos': 2, 'tres': 1, 'sinco': 1, 'seis': 1, 'ocho': 0})\n"
     ]
    },
    {
     "data": {
      "text/plain": [
       "Counter({'dos': 2, 'tres': 1, 'sinco': 1, 'seis': 1, 'ocho': 0})"
      ]
     },
     "execution_count": 9,
     "metadata": {},
     "output_type": "execute_result"
    }
   ],
   "source": [
    "# collections.Counter example\n",
    "\n",
    "from collections import Counter\n",
    "\n",
    "c1 = Counter();\n",
    "c1['apples'] += 1\n",
    "c1['apples'] += 2\n",
    "c1['peaches'] += 10\n",
    "\n",
    "# Most Common Elements (sorted by `count`)\n",
    "ic(c1.most_common())\n",
    "\n",
    "# Counter Example\n",
    "c2 = Counter()\n",
    "lipsum = \"Un dos tres quatro sinco seis\"\n",
    "words = [w.strip(\".,\") for w in lipsum.lower().split(' ')]   \n",
    "for word in words:\n",
    "    c2[word]+=1\n",
    "\n",
    "ic(c2.most_common(2))\n",
    "\n",
    "# List\n",
    "ic(list(c2.elements()))\n",
    "\n",
    "# Unique Elements\n",
    "ic(list(c2))\n",
    "\n",
    "# Additoional methods\n",
    "c3 = Counter([\"dos\"])\n",
    "c3.update([\"dos\", \"tres\", \"sinco\", \"seis\", \"ocho\"])\n",
    "c3.subtract([\"ocho\"])\n",
    "ic(c3) \n"
   ]
  },
  {
   "cell_type": "markdown",
   "metadata": {},
   "source": [
    "### Queues (FIFOs)\n",
    "\n",
    "* [ ] `list` as example of stack\n",
    "* [x] `collections.deque` double linked list.\n",
    "* [ ] `queue.Queue` paralel cumputation blocking.\n",
    "* [ ] `multiprocessing.Queue`"
   ]
  },
  {
   "cell_type": "markdown",
   "metadata": {},
   "source": [
    "### Stacks (LIFOs)\n",
    "\n",
    "* `list` as example of stack\n",
    "* `collections.deque` double linked list.\n",
    "* `queue.Queue` paralel cumputation blocking.\n",
    "* `multiprocessing.Queue`\n",
    "  "
   ]
  },
  {
   "cell_type": "code",
   "execution_count": 10,
   "metadata": {
    "ExecuteTime": {
     "end_time": "2019-02-20T10:59:32.890121Z",
     "start_time": "2019-02-20T10:59:32.794379Z"
    }
   },
   "outputs": [
    {
     "name": "stdout",
     "output_type": "stream",
     "text": [
      "ic> d: deque(['one', 'two', 'three'])\n",
      "ic> d: deque(['one', 'two', 'three', 'four'])\n",
      "ic> d: deque(['zero', 'one', 'two', 'three', 'four'])\n",
      "ic> d_poped: 'four'\n",
      "ic> d_popedleft: 'zero'\n",
      "ic> d: deque(['two', 'three', 'one'])\n"
     ]
    },
    {
     "data": {
      "text/plain": [
       "deque(['two', 'three', 'one'])"
      ]
     },
     "execution_count": 10,
     "metadata": {},
     "output_type": "execute_result"
    }
   ],
   "source": [
    "# Dequeue Small example \n",
    "\n",
    "from collections import deque as Deque\n",
    "\n",
    "d = Deque([\"one\", \"two\", \"three\"])\n",
    "ic(d)\n",
    "\n",
    "d.append(\"four\")\n",
    "ic(d)\n",
    "\n",
    "d.appendleft(\"zero\")\n",
    "ic(d)\n",
    "\n",
    "d_poped = d.pop()\n",
    "ic(d_poped)\n",
    "\n",
    "d_popedleft = d.popleft()\n",
    "ic(d_popedleft)\n",
    "\n",
    "# rotatiob\n",
    "d.rotate(2)\n",
    "ic(d)"
   ]
  },
  {
   "cell_type": "markdown",
   "metadata": {},
   "source": [
    "### PriorityQueues\n",
    "\n",
    "  * `list`, but it depends\n",
    "  * `heapq`\n",
    "  * `queue.PriorityQueue`\n"
   ]
  },
  {
   "cell_type": "markdown",
   "metadata": {
    "heading_collapsed": true,
    "hideCode": false,
    "hidePrompt": false
   },
   "source": [
    "## Environments"
   ]
  },
  {
   "cell_type": "markdown",
   "metadata": {
    "heading_collapsed": true,
    "hidden": true,
    "hideCode": false,
    "hidePrompt": false
   },
   "source": [
    "### Python Packages "
   ]
  },
  {
   "cell_type": "markdown",
   "metadata": {
    "hidden": true,
    "hideCode": false,
    "hidePrompt": false
   },
   "source": [
    "* https://www.pypa.io/en/latest/\n",
    "\n",
    "```bash\n",
    "# Python 2.7 (mac system)\n",
    "\n",
    "# https://stackoverflow.com/questions/17271319\n",
    "sudo easy_install pip\n",
    "\n",
    "# Version and location\n",
    "pip -V\n",
    "```\n",
    "\n",
    "* Activate virtual environment before working with pip\n",
    "* If not use `python -m pip` form instead of `pip` or `pip3`. \n",
    "* default cache location on mac `~/Library/Caches/pip`\n",
    "\n",
    "\n",
    "```bash \n",
    "\n",
    "# Version and location\n",
    "pip -V\n",
    "\n",
    "# reset (alias)\n",
    "pip list | awk 'NR>2 {print $1}' | grep -Ev \"pip|setuptools|wheel\" | xargs -I {} sh -c \"python -m pip uninstall {} -y\"\n",
    "\n",
    "# Using Custom cache directory\n",
    "pip install --download-cache /cache/directory matplotlib\n",
    "\n",
    "# Create Requirments\n",
    "pip freeze > requirments.txt\n",
    "\n",
    "# Install packages from requirments.txt\n",
    "pip install -r requirements.txt\n",
    "\n",
    "# Specific version\n",
    "pip install flask==0.9\n",
    "pip install 'Django>2.0'\n",
    "\n",
    "# Help\n",
    "pip <command> --help\n",
    "\n",
    "# info about installed package\n",
    "pip show tensorflow\n",
    "\n",
    "# list outdated packages\n",
    "pip list -o\n",
    "```"
   ]
  },
  {
   "cell_type": "markdown",
   "metadata": {
    "hidden": true,
    "hideCode": false,
    "hidePrompt": false
   },
   "source": [
    "### Virtual Environment"
   ]
  },
  {
   "cell_type": "markdown",
   "metadata": {
    "hidden": true
   },
   "source": [
    "\n",
    "```bash\n",
    "# Python 2.7 \n",
    "$ sudo python -m pip install virtualenv\n",
    "\n",
    "# Create Virtual Env\n",
    "$ python -m virtualenv Py2.7\n",
    "\n",
    "# Activate Environment\n",
    "$ . Py2.7/bin/activate \n",
    "\n",
    "(Py2.7) $ python -V\n",
    "> Python 2.7.10\n",
    "\n",
    "# Deactivate Environment\n",
    "$ deactivate \n",
    "\n",
    "# Python 3.6 (or any else)\n",
    "$ python3 -m venv Py3.7\n",
    "\n",
    "# Activate Environment\n",
    "$ . Py3.7/bin/activate\n",
    "(Py3.7) $ python -V\n",
    "> Python 3.7.2\n",
    "\n",
    "# Check ${VIRTUAL_ENV}\n",
    "$ echo \"${VIRTUAL_ENV}\"\n",
    "> /Users/butuzov/Desktop/Py3.7\n",
    "\n",
    "# Deactivate Environment\n",
    "$ deactivate \n",
    "```"
   ]
  },
  {
   "cell_type": "markdown",
   "metadata": {
    "heading_collapsed": true,
    "hidden": true
   },
   "source": [
    "### Local Development"
   ]
  },
  {
   "cell_type": "markdown",
   "metadata": {
    "ExecuteTime": {
     "end_time": "2019-02-18T07:41:28.899709Z",
     "start_time": "2019-02-18T07:41:28.892704Z"
    },
    "hidden": true
   },
   "source": [
    "```bash\n",
    "(venv) setup.py develop\n",
    "```\n",
    "\n",
    "##### `setup.py`\n",
    "\n",
    "```python\n",
    "from setuptools import setup, find_packages\n",
    "\n",
    "setup(\n",
    "    name=\"doc.md\",\n",
    "    version=\"0.0.1\",\n",
    "    description=\"Single Page Help Generator\",\n",
    "    license=\"MIT\",\n",
    "    author=\"Oleg Butuzov\",\n",
    "    author_email='butuzov@made.ua',\n",
    "    packages=find_packages(),\n",
    "    install_requires=[],\n",
    "    scripts=['bin/docmd'],\n",
    "    zip_safe=False,\n",
    "    classifiers=[\n",
    "        \"Programming Language :: Python\",\n",
    "        \"Programming Language :: Python :: 3.6\",\n",
    "        \"Programming Language :: Python :: 3.7\",\n",
    "    ]\n",
    ")\n",
    "```"
   ]
  },
  {
   "cell_type": "code",
   "execution_count": null,
   "metadata": {
    "hidden": true
   },
   "outputs": [],
   "source": []
  },
  {
   "cell_type": "code",
   "execution_count": null,
   "metadata": {
    "hidden": true
   },
   "outputs": [],
   "source": []
  },
  {
   "cell_type": "markdown",
   "metadata": {
    "hidden": true,
    "hideCode": false,
    "hidePrompt": false
   },
   "source": [
    "### Jupyter\n"
   ]
  },
  {
   "cell_type": "markdown",
   "metadata": {
    "hidden": true
   },
   "source": [
    "https://www.dataquest.io/blog/jupyter-notebook-tips-tricks-shortcuts/\n",
    "\n",
    "\n",
    "* Extensions *\n",
    "\n",
    "```bash\n",
    "(venv) > pip install install jupyter jupyter_contrib_nbextensions\n",
    "(venv) > pip install git+git://github.com/cpcloud/ipython-autotime\n",
    "(venv) > jupyter contrib nbextension install --sys-prefix\n",
    "(venv) > jupyter nbextension enable codefolding/main\n",
    "(venv) > jupyter nbextension disable codefolding/main\n",
    "```\n",
    "\n",
    "* Nice extensions *\n",
    "\n",
    " 1. jupyter nbextension enable execute_time/ExecuteTime\n",
    " 1. jupyter nbextension enable collapsible_headings/main \n",
    " \n",
    "\n",
    "* Loading Extensions into cell *\n",
    "```\n",
    "# Loading extension\n",
    "# pip install git+git://github.com/cpcloud/ipython-autotime\n",
    "%load_ext autotime\n",
    "```"
   ]
  },
  {
   "cell_type": "code",
   "execution_count": 11,
   "metadata": {
    "ExecuteTime": {
     "end_time": "2019-02-20T10:59:32.897874Z",
     "start_time": "2019-02-20T10:59:32.893206Z"
    },
    "hidden": true,
    "hideCode": false,
    "hidePrompt": false
   },
   "outputs": [],
   "source": [
    "# import sys\n",
    "\n",
    "# sys.getrefcount(1)\n",
    "# sys.getsizeof(1)"
   ]
  },
  {
   "cell_type": "markdown",
   "metadata": {},
   "source": [
    "## Development and Testing"
   ]
  },
  {
   "cell_type": "markdown",
   "metadata": {},
   "source": [
    "### PyTest"
   ]
  },
  {
   "cell_type": "markdown",
   "metadata": {},
   "source": [
    "https://docs.pytest.org/en/latest/index.html\n",
    "\n",
    "```ini\n",
    "[pytest]\n",
    "norecursedirs = .venv .vscode\n",
    "addopts = --verbose\n",
    "testpaths = doctor\n",
    "console_output_style = progress\n",
    "python_files = *_test.py\n",
    "python_classes = Test*\n",
    "python_functions = test_*\n",
    "```\n",
    "\n",
    "#### Hello World - Simple Test\n",
    "\n",
    "```python\n",
    "# filename: cases.py\n",
    "cases = []\n",
    "cases.appen( ( 1, 2, 3 ) )\n",
    "cases.appen( ( 5, 2, 7 ) )\n",
    "```\n",
    "----\n",
    "\n",
    "```python\n",
    "# filename: add_test.py\n",
    "from package.some_cases import cases\n",
    "\n",
    "@pytest.mark.parametrize('a,b', cases)\n",
    "test_add(a,b,c):\n",
    "  assert c == add(a,b)\n",
    "```\n",
    "----\n",
    "```python\n",
    "# filename: add.py\n",
    "def add(a,b):\n",
    "  return a+b\n",
    "```\n"
   ]
  },
  {
   "cell_type": "markdown",
   "metadata": {
    "ExecuteTime": {
     "end_time": "2019-02-18T07:44:05.532600Z",
     "start_time": "2019-02-18T07:44:05.528942Z"
    }
   },
   "source": [
    "## Object Oriented Programming"
   ]
  },
  {
   "cell_type": "code",
   "execution_count": 12,
   "metadata": {
    "ExecuteTime": {
     "end_time": "2019-02-20T11:02:51.459120Z",
     "start_time": "2019-02-20T11:02:51.447703Z"
    }
   },
   "outputs": [
    {
     "name": "stdout",
     "output_type": "stream",
     "text": [
      "1\n"
     ]
    }
   ],
   "source": [
    "ic(\"1\")"
   ]
  },
  {
   "cell_type": "code",
   "execution_count": null,
   "metadata": {},
   "outputs": [],
   "source": []
  },
  {
   "cell_type": "markdown",
   "metadata": {
    "hideCode": false,
    "hidePrompt": false
   },
   "source": [
    "## Resources"
   ]
  },
  {
   "cell_type": "markdown",
   "metadata": {
    "ExecuteTime": {
     "end_time": "2019-02-20T09:50:32.635918Z",
     "start_time": "2019-02-20T09:50:32.632904Z"
    }
   },
   "source": [
    "### Books"
   ]
  },
  {
   "cell_type": "markdown",
   "metadata": {},
   "source": [
    "* [Python Tricks: The Book](https://dbader.org/products/python-tricks-book/)"
   ]
  },
  {
   "cell_type": "markdown",
   "metadata": {},
   "source": [
    "### Podcasts\n",
    "\n",
    "* [Talk Python to me](https://talkpython.fm/) by [Michael Kennedy](https://twitter.com/mkennedy)\n",
    "* [Podcast.__init__('Python')](https://www.podcastinit.com/) by [Tobias Macey](https://twitter.com/TobiasMacey)\n",
    "* [TestAndCode](https://www.podcastinit.com/) by [Brian Okken](https://twitter.com/brianokken)"
   ]
  },
  {
   "cell_type": "markdown",
   "metadata": {},
   "source": [
    "### WebSites\n",
    "\n",
    "  * [PythonistaCafe](www.pythonistacafe.com) - comunity website.\n",
    "  * [/r/Python](https://www.reddit.com/r/Python/) @ Reddit\n",
    "  * [Dan Bader](https://dbader.org/) Dan Bader's website."
   ]
  },
  {
   "cell_type": "code",
   "execution_count": null,
   "metadata": {},
   "outputs": [],
   "source": []
  }
 ],
 "metadata": {
  "hide_code_all_hidden": false,
  "kernelspec": {
   "display_name": "Python 3",
   "language": "python",
   "name": "python3"
  },
  "language_info": {
   "codemirror_mode": {
    "name": "ipython",
    "version": 3
   },
   "file_extension": ".py",
   "mimetype": "text/x-python",
   "name": "python",
   "nbconvert_exporter": "python",
   "pygments_lexer": "ipython3",
   "version": "3.7.2"
  },
  "toc": {
   "base_numbering": "1",
   "nav_menu": {},
   "number_sections": true,
   "sideBar": true,
   "skip_h1_title": true,
   "title_cell": "Table of Contents",
   "title_sidebar": "Contents",
   "toc_cell": false,
   "toc_position": {
    "height": "calc(100% - 180px)",
    "left": "10px",
    "top": "150px",
    "width": "455.594px"
   },
   "toc_section_display": true,
   "toc_window_display": true
  }
 },
 "nbformat": 4,
 "nbformat_minor": 2
}
