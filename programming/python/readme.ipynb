{
 "cells": [
  {
   "cell_type": "code",
   "execution_count": 1,
   "metadata": {
    "ExecuteTime": {
     "end_time": "2019-03-17T07:42:22.411920Z",
     "start_time": "2019-03-17T07:42:22.337053Z"
    },
    "hideCode": false,
    "hidePrompt": false
   },
   "outputs": [],
   "source": [
    "#hide\n",
    "from icecream import ic  \n",
    "import sys, re\n",
    "\n",
    "def jupyter(*args): \n",
    "    print(*[re.sub(r\",\\s{1,}\", \", \", i.replace(\",\\n\", \", \")) for i in args], file=sys.stdout)\n",
    "    \n",
    "ic.configureOutput(prefix='ic> ', outputFunction=jupyter)"
   ]
  },
  {
   "cell_type": "markdown",
   "metadata": {
    "hideCode": false,
    "hidePrompt": false
   },
   "source": [
    "# Python Notes"
   ]
  },
  {
   "cell_type": "markdown",
   "metadata": {
    "hideCode": false,
    "hidePrompt": false
   },
   "source": [
    "## Language"
   ]
  },
  {
   "cell_type": "markdown",
   "metadata": {
    "hideCode": false,
    "hidePrompt": false
   },
   "source": [
    "### Coveing Your A** With Assertions"
   ]
  },
  {
   "cell_type": "markdown",
   "metadata": {
    "ExecuteTime": {
     "end_time": "2019-03-03T13:55:55.115257Z",
     "start_time": "2019-03-03T13:55:55.109274Z"
    },
    "hideCode": false,
    "hidePrompt": false
   },
   "source": [
    "```python\n",
    "# Don't do\n",
    "# Becouse of tuple its will always will be true\n",
    "assert( 1 == 2, \"It's failing!\") \n",
    "```"
   ]
  },
  {
   "cell_type": "markdown",
   "metadata": {
    "hideCode": false,
    "hidePrompt": false
   },
   "source": [
    "### Complacent Comma Placement"
   ]
  },
  {
   "cell_type": "markdown",
   "metadata": {
    "hideCode": false,
    "hidePrompt": false
   },
   "source": [
    "```python\n",
    "# Having comma at the end of your list is OK.\n",
    "names = [\n",
    "  'John',\n",
    "  'Betty',\n",
    "  'Liza',\n",
    "]\n",
    "\n",
    "#  not having a comma - in strings concatenation.\n",
    "str_var = (\n",
    "  'A long time ago'\n",
    "  'in a galaxy far, far away....'\n",
    ")\n",
    "```"
   ]
  },
  {
   "cell_type": "markdown",
   "metadata": {
    "hideCode": false,
    "hidePrompt": false
   },
   "source": [
    "### Context Managers and the with Statement"
   ]
  },
  {
   "cell_type": "markdown",
   "metadata": {
    "ExecuteTime": {
     "end_time": "2019-03-03T13:57:11.941558Z",
     "start_time": "2019-03-03T13:57:11.936318Z"
    },
    "hideCode": false,
    "hidePrompt": false
   },
   "source": [
    "```python\n",
    "class ManagedFile:\n",
    "     def __init__(self, name):\n",
    "         self.name = name\n",
    "    def __enter__(self):\n",
    "         self.file = open(self.name, 'w')\n",
    "         return self.file\n",
    "    def __exit__(self, exc_type, exc_val, exc_tb):\n",
    "         if self.file:\n",
    "             self.file.close()\n",
    "\n",
    "# So we can do something like implementing custom write or read\n",
    "# or any other functionality.\n",
    "with ManagedFile(\"list.json\") as f:\n",
    "    f.read()\n",
    "\n",
    "\"\"\" or using @contextmanager \"\"\"  \n",
    "    \n",
    "from contextlib import contextmanager\n",
    "\n",
    "@contextmanager\n",
    "def managed_file(name):\n",
    "  try:\n",
    "    f = open(name, 'w')\n",
    "    yield f\n",
    "  finally:\n",
    "    f.close()\n",
    "\n",
    "with managed_file('hello.txt') as f:\n",
    "    f.write('¡holla!')\n",
    "    f.write('¡adios!')\n",
    "```"
   ]
  },
  {
   "cell_type": "markdown",
   "metadata": {
    "hideCode": false,
    "hidePrompt": false
   },
   "source": [
    "### (Unpacking) Seaquences "
   ]
  },
  {
   "cell_type": "code",
   "execution_count": 24,
   "metadata": {
    "ExecuteTime": {
     "end_time": "2019-03-03T14:14:32.065656Z",
     "start_time": "2019-03-03T14:14:31.936242Z"
    },
    "hideCode": false,
    "hidePrompt": false
   },
   "outputs": [
    {
     "name": "stdout",
     "output_type": "stream",
     "text": [
      "ic> data: ['ACME', 50, 91.1, (2012, 12, 21)]\n",
      "ic> name: 'ACME'\n",
      "ic> year: 2012\n",
      "ic> year: 2012\n",
      "ic> b: 'e'\n",
      "ic> a: 'h', b: ['e', 'l', 'l'], f: 'o'\n",
      "e:l:l\n",
      "e:l:l\n"
     ]
    }
   ],
   "source": [
    "data = ['ACME', 50, 91.1, (2012, 12, 21)]\n",
    "ic(data)\n",
    "\n",
    "# Simple unpucking\n",
    "name, shares, price, date = data\n",
    "ic(name)\n",
    "\n",
    "# Tuple unpacking\n",
    "name, shares, price, (year, mon, day) = data\n",
    "ic(year)\n",
    "\n",
    "# Nested Unpacking\n",
    "name, *_, (year, *_) = data\n",
    "ic(year)\n",
    "\n",
    "\n",
    "# we can unpack any sequence of same length\n",
    "s = 'hello'\n",
    "a, b, c, d, f = s\n",
    "ic(b)\n",
    "\n",
    "# skiping some of the unpackined values (works in any position start, middle or end)\n",
    "a, *b, f = s\n",
    "ic(a, b, f)\n",
    "\n",
    "# we can unpack into function\n",
    "print(*b, sep=':')\n",
    "\n",
    "# if this is a dictionary, we can unpack named arguments, \n",
    "# alongside with positional.\n",
    "print(*b, **{'sep':':'})"
   ]
  },
  {
   "cell_type": "markdown",
   "metadata": {
    "hideCode": false,
    "hidePrompt": false
   },
   "source": [
    "### `slice`ing lists"
   ]
  },
  {
   "cell_type": "code",
   "execution_count": 25,
   "metadata": {
    "ExecuteTime": {
     "end_time": "2019-03-03T14:14:51.818383Z",
     "start_time": "2019-03-03T14:14:51.645921Z"
    },
    "hideCode": false,
    "hidePrompt": false
   },
   "outputs": [
    {
     "name": "stdout",
     "output_type": "stream",
     "text": [
      "ic> first_ten_numbers: [0, 1, 2, 3, 4, 5, 6, 7, 8, 9]\n",
      "ic> first_ten_numbers[first_two_numbers]: [0, 1]\n",
      "ic> first_ten_numbers[rest_of_numbers]: [2, 3, 4, 5, 6, 7, 8, 9]\n",
      "ic> first_ten_numbers[0:2]: [0, 1]\n",
      "ic> first_ten_numbers[::-1]: [9, 8, 7, 6, 5, 4, 3, 2, 1, 0]\n",
      "ic> q: [1, 2, 3, 4, 5, 6, 7, 8, 9, 0]\n",
      "ic> q[:-1]: [1, 2, 3, 4, 5, 6, 7, 8, 9]\n",
      "ic> q[-1]: 0\n",
      "ic> q[2::4]: [3, 7]\n",
      "ic> q[2::-1]: [3, 2, 1]\n",
      "ic> q[8:3:-1]: [9, 8, 7, 6, 5]\n"
     ]
    },
    {
     "data": {
      "text/plain": [
       "[9, 8, 7, 6, 5]"
      ]
     },
     "execution_count": 25,
     "metadata": {},
     "output_type": "execute_result"
    }
   ],
   "source": [
    "# Slice has simular syntax as range\n",
    "# slice(stop)\n",
    "# slice(start, stop)\n",
    "# slice(start, stop, step)\n",
    "\n",
    "first_ten_numbers = list(range(10))\n",
    "ic(first_ten_numbers)\n",
    "\n",
    "# named slice - slice(stop)\n",
    "first_two_numbers = slice(2)\n",
    "ic(first_ten_numbers[first_two_numbers])\n",
    "\n",
    "# named slice - slice(start, stop)\n",
    "rest_of_numbers = slice(2,len(first_ten_numbers))\n",
    "ic(first_ten_numbers[rest_of_numbers])\n",
    "\n",
    "# simple slicing using indexes\n",
    "ic(first_ten_numbers[0:2])\n",
    "\n",
    "# reverse printing\n",
    "ic(first_ten_numbers[::-1])\n",
    "\n",
    "\n",
    "# using slices as indexes\n",
    "q = [1,2,3,4,5,6,7,8,9,0]\n",
    "ic(q)\n",
    "\n",
    "# all without last element\n",
    "ic(q[:-1])    \n",
    "\n",
    "# last element, start from end.\n",
    "ic(q[-1])     \n",
    "\n",
    "# start from 3rd, till end with step of 2\n",
    "ic(q[2::4])   \n",
    "\n",
    "# start from 3rd... and reverse it!\n",
    "ic(q[2::-1])  \n",
    "\n",
    "# start from 9th .. till 4rd.. and reverse it!\n",
    "ic(q[8:3:-1]) "
   ]
  },
  {
   "cell_type": "markdown",
   "metadata": {
    "hideCode": false,
    "hidePrompt": false
   },
   "source": [
    "## Tooling and Standards"
   ]
  },
  {
   "cell_type": "markdown",
   "metadata": {
    "hideCode": false,
    "hidePrompt": false
   },
   "source": [
    "### PEP8 "
   ]
  },
  {
   "cell_type": "markdown",
   "metadata": {
    "hideCode": false,
    "hidePrompt": false
   },
   "source": [
    "**Summary**\n",
    "\n",
    "* Use `space`, no `tab`. Always 4.\n",
    "* Lines should be no more then 79 characters in length or less, if you need to\n",
    "  - make string shorter simplifieing meaningfull variables.\n",
    "  - add `\\` to split code to the new line.\n",
    "  - continuations of long expressions, should be added by one indentation (4 spaces) \n",
    "    of their normal indentation level.\n",
    "* Functions and Classes should be represented by two blank lines.\n",
    "* Class methods should be separated by one blank lines.\n",
    "* don't put spaces around list indexes, function calls, or keyword assignments.\n",
    "* Put one, and only one space before and after variable assignment.\n",
    "* etc... etc...\n",
    "\n",
    "**Readme more**:\n",
    "* https://pep8.org/\n",
    "* https://www.python.org/dev/peps/pep-0008/\n",
    "* http://pep8online.com/\n"
   ]
  },
  {
   "cell_type": "markdown",
   "metadata": {
    "hideCode": false,
    "hidePrompt": false
   },
   "source": [
    "### @pyflackes\n",
    "\n",
    "Code analyzer "
   ]
  },
  {
   "cell_type": "markdown",
   "metadata": {
    "hideCode": false,
    "hidePrompt": false
   },
   "source": [
    "### @pylint\n",
    "\n",
    "Shows us a styling and logical errors"
   ]
  },
  {
   "cell_type": "markdown",
   "metadata": {
    "hideCode": false,
    "hidePrompt": false
   },
   "source": [
    "### @codecov\n",
    "\n",
    "Code coverage"
   ]
  },
  {
   "cell_type": "markdown",
   "metadata": {
    "hideCode": false,
    "hidePrompt": false
   },
   "source": [
    "### @vulture\n",
    "\n",
    "Dead code"
   ]
  },
  {
   "cell_type": "markdown",
   "metadata": {
    "hideCode": false,
    "hidePrompt": false
   },
   "source": [
    "### @`black`"
   ]
  },
  {
   "cell_type": "markdown",
   "metadata": {
    "hideCode": false,
    "hidePrompt": false
   },
   "source": [
    "### `flake8`"
   ]
  },
  {
   "cell_type": "markdown",
   "metadata": {
    "hideCode": false,
    "hidePrompt": false
   },
   "source": [
    "```bash\n",
    "git init\n",
    "git add example.py\n",
    "git commit -m \"first commit\"\n",
    "> ....\n",
    "\n",
    "python -m flake8 --install-hook git\n",
    "git config --bool flake8.strict true\n",
    "\n",
    "echo \"# new comment\" >> example.py\n",
    "git commit -m \"second commit\"\n",
    "> error messages...\n",
    "```"
   ]
  },
  {
   "cell_type": "markdown",
   "metadata": {
    "ExecuteTime": {
     "end_time": "2019-03-03T14:30:27.803281Z",
     "start_time": "2019-03-03T14:30:27.798869Z"
    },
    "hideCode": false,
    "hidePrompt": false
   },
   "source": [
    "### @`tox`"
   ]
  },
  {
   "cell_type": "markdown",
   "metadata": {
    "hideCode": false,
    "hidePrompt": false
   },
   "source": [
    "### `venv` or `virtualenv`"
   ]
  },
  {
   "cell_type": "markdown",
   "metadata": {
    "hideCode": false,
    "hidePrompt": false
   },
   "source": [
    "```bash\n",
    "# Python 2.7 \n",
    "$ sudo python -m pip install virtualenv\n",
    "\n",
    "# Create Virtual Env\n",
    "$ python -m virtualenv Py2.7\n",
    "\n",
    "# Activate Environment\n",
    "$ . Py2.7/bin/activate \n",
    "\n",
    "(Py2.7) $ python -V\n",
    "> Python 2.7.10\n",
    "\n",
    "# Deactivate Environment\n",
    "$ deactivate \n",
    "\n",
    "# Python 3.6 (or any else)\n",
    "$ python3 -m venv Py3.7\n",
    "\n",
    "# Activate Environment\n",
    "$ . Py3.7/bin/activate\n",
    "(Py3.7) $ python -V\n",
    "> Python 3.7.2\n",
    "\n",
    "# Check ${VIRTUAL_ENV}\n",
    "$ echo \"${VIRTUAL_ENV}\"\n",
    "> /Users/butuzov/Desktop/Py3.7\n",
    "\n",
    "# Deactivate Environment\n",
    "$ deactivate \n",
    "```"
   ]
  },
  {
   "cell_type": "code",
   "execution_count": null,
   "metadata": {
    "hideCode": false,
    "hidePrompt": false
   },
   "outputs": [],
   "source": []
  }
 ],
 "metadata": {
  "hide_code_all_hidden": false,
  "kernelspec": {
   "display_name": "Python 3",
   "language": "python",
   "name": "python3"
  },
  "language_info": {
   "codemirror_mode": {
    "name": "ipython",
    "version": 3
   },
   "file_extension": ".py",
   "mimetype": "text/x-python",
   "name": "python",
   "nbconvert_exporter": "python",
   "pygments_lexer": "ipython3",
   "version": "3.7.2"
  },
  "toc": {
   "base_numbering": 1,
   "nav_menu": {},
   "number_sections": true,
   "sideBar": true,
   "skip_h1_title": true,
   "title_cell": "Table of Contents",
   "title_sidebar": "Contents",
   "toc_cell": false,
   "toc_position": {},
   "toc_section_display": true,
   "toc_window_display": true
  }
 },
 "nbformat": 4,
 "nbformat_minor": 2
}
