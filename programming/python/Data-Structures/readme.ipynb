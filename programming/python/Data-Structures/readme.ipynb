{
 "cells": [
  {
   "cell_type": "code",
   "execution_count": 1,
   "metadata": {
    "ExecuteTime": {
     "end_time": "2019-05-24T08:24:46.564856Z",
     "start_time": "2019-05-24T08:24:46.493676Z"
    },
    "hideCode": false,
    "hidePrompt": false
   },
   "outputs": [],
   "source": [
    "#hide\n",
    "from icecream import ic\n",
    "import sys, re\n",
    "\n",
    "def jupyter(*args): \n",
    "    print(*[re.sub(r\",\\s{1,}\", \", \", i.replace(\",\\n\", \", \")) for i in args], file=sys.stdout)\n",
    "    \n",
    "ic.configureOutput(prefix='ic> ', outputFunction=jupyter)"
   ]
  },
  {
   "cell_type": "markdown",
   "metadata": {
    "hideCode": false,
    "hidePrompt": false
   },
   "source": [
    "# Python Data Structures & Types"
   ]
  },
  {
   "cell_type": "markdown",
   "metadata": {
    "ExecuteTime": {
     "end_time": "2019-03-18T15:00:11.421858Z",
     "start_time": "2019-03-18T15:00:11.418690Z"
    }
   },
   "source": [
    "## Data Types"
   ]
  },
  {
   "cell_type": "markdown",
   "metadata": {
    "ExecuteTime": {
     "end_time": "2019-05-24T08:24:46.570844Z",
     "start_time": "2019-05-24T08:24:46.567854Z"
    }
   },
   "source": [
    "### int\n",
    "\n",
    "Supported Methods:\n",
    "`__abs__`, `__add__`, `__and__`, `__bool__`, `__ceil__`, `__class__`, `__delattr__`, `__dir__`, `__divmod__`, `__doc__`, `__eq__`, `__float__`, `__floor__`, `__floordiv__`, `__format__`, `__ge__`, `__getattribute__`, `__getnewargs__`, `__gt__`, `__hash__`, `__index__`, `__init__`, `__init_subclass__`, `__int__`, `__invert__`, `__le__`, `__lshift__`, `__lt__`, `__mod__`, `__mul__`, `__ne__`, `__neg__`, `__new__`, `__or__`, `__pos__`, `__pow__`, `__radd__`, `__rand__`, `__rdivmod__`, `__reduce__`, `__reduce_ex__`, `__repr__`, `__rfloordiv__`, `__rlshift__`, `__rmod__`, `__rmul__`, `__ror__`, `__round__`, `__rpow__`, `__rrshift__`, `__rshift__`, `__rsub__`, `__rtruediv__`, `__rxor__`, `__setattr__`, `__sizeof__`, `__str__`, `__sub__`, `__subclasshook__`, `__truediv__`, `__trunc__`, `__xor__`, `bit_length`, `conjugate`, `denominator`, `from_bytes`, `imag`, `numerator`, `real`, `to_bytes`"
   ]
  },
  {
   "cell_type": "code",
   "execution_count": 89,
   "metadata": {
    "ExecuteTime": {
     "end_time": "2019-05-24T09:12:54.992906Z",
     "start_time": "2019-05-24T09:12:54.932732Z"
    }
   },
   "outputs": [
    {
     "name": "stdout",
     "output_type": "stream",
     "text": [
      "ic> sys.getsizeof(i): 28\n",
      "ic> i.bit_length(): 1\n",
      "ic> sys.getsizeof(i): 28\n",
      "ic> sys.getsizeof(i): 36\n"
     ]
    },
    {
     "data": {
      "text/plain": [
       "36"
      ]
     },
     "execution_count": 89,
     "metadata": {},
     "output_type": "execute_result"
    }
   ],
   "source": [
    "i: int = 1\n",
    "    \n",
    "ic(sys.getsizeof(i))\n",
    "ic(i.bit_length())\n",
    "\n",
    "# number separation with underscores\n",
    "i: int = 1_000_000\n",
    "    \n",
    "ic(sys.getsizeof(i))\n",
    "\n",
    "# big int\n",
    "i: int = 2**64\n",
    "    \n",
    "ic(sys.getsizeof(i))"
   ]
  },
  {
   "cell_type": "code",
   "execution_count": 3,
   "metadata": {
    "ExecuteTime": {
     "end_time": "2019-05-24T08:24:46.576921Z",
     "start_time": "2019-05-24T08:24:46.573953Z"
    }
   },
   "outputs": [],
   "source": [
    "### float"
   ]
  },
  {
   "cell_type": "code",
   "execution_count": 4,
   "metadata": {
    "ExecuteTime": {
     "end_time": "2019-05-24T08:24:46.582717Z",
     "start_time": "2019-05-24T08:24:46.579974Z"
    }
   },
   "outputs": [],
   "source": [
    "### str"
   ]
  },
  {
   "cell_type": "code",
   "execution_count": 5,
   "metadata": {
    "ExecuteTime": {
     "end_time": "2019-05-24T08:24:46.587579Z",
     "start_time": "2019-05-24T08:24:46.585006Z"
    }
   },
   "outputs": [],
   "source": [
    "### bytes"
   ]
  },
  {
   "cell_type": "markdown",
   "metadata": {},
   "source": [
    "### `struct.Struct`\n",
    "\n",
    "structured data as bytes "
   ]
  },
  {
   "cell_type": "code",
   "execution_count": 6,
   "metadata": {
    "ExecuteTime": {
     "end_time": "2019-05-24T08:24:46.777511Z",
     "start_time": "2019-05-24T08:24:46.589749Z"
    }
   },
   "outputs": [
    {
     "name": "stdout",
     "output_type": "stream",
     "text": [
      "ic> compact_data: b'\\x17\\x00\\x00\\x00\\x00\\x00\\x00\\x00\\x00\\x00(B'\n",
      "ic> MyStruct.unpack(compact_data): (23, False, 42.0)\n"
     ]
    },
    {
     "data": {
      "text/plain": [
       "(23, False, 42.0)"
      ]
     },
     "execution_count": 6,
     "metadata": {},
     "output_type": "execute_result"
    }
   ],
   "source": [
    "# Struct\n",
    "# https://docs.python.org/3/library/struct.html\n",
    "from struct import Struct\n",
    "\n",
    "MyStruct = Struct('i?f')\n",
    "compact_data = MyStruct.pack(23, False, 42.0)\n",
    "ic(compact_data)\n",
    "# and unpacking\n",
    "ic(MyStruct.unpack(compact_data))"
   ]
  },
  {
   "cell_type": "markdown",
   "metadata": {},
   "source": [
    "## Dictionary and Maps"
   ]
  },
  {
   "cell_type": "markdown",
   "metadata": {},
   "source": [
    "### `dict`\n",
    "\n",
    "\n",
    "**Talks**:\n",
    "\n",
    "* [Modern Python Dictionaries - A confluence of a dozen great ideas (PyCon 2017)](https://www.youtube.com/watch?v=npw4s1QTmPg) by Raymond Hettinger"
   ]
  },
  {
   "cell_type": "code",
   "execution_count": 7,
   "metadata": {
    "ExecuteTime": {
     "end_time": "2019-05-24T08:24:46.827123Z",
     "start_time": "2019-05-24T08:24:46.779956Z"
    }
   },
   "outputs": [
    {
     "name": "stdout",
     "output_type": "stream",
     "text": [
      "ic> xs: {'a': 1, 'b': 3, 'c': 2}\n",
      "ic> dict(xs, **ys): {'a': 1, 'b': 3, 'c': 2, 'x': 5, 'y': 1, 'z': 9}\n",
      "ic> {**xs, **ys}: {'a': 1, 'b': 3, 'c': 2, 'x': 5, 'y': 1, 'z': 9}\n"
     ]
    },
    {
     "data": {
      "text/plain": [
       "{'a': 1, 'b': 3, 'c': 2, 'z': 9, 'y': 1, 'x': 5}"
      ]
     },
     "execution_count": 7,
     "metadata": {},
     "output_type": "execute_result"
    }
   ],
   "source": [
    "ys={'z':9, 'y':1, 'x':5}\n",
    "xs={'a':1, 'b':3, 'c':2}\n",
    "ic(xs)\n",
    "\n",
    "# Merging Dictionaries\n",
    "# pre python 3.5\n",
    "ic(dict(xs, **ys))\n",
    "\n",
    "# post python 3.5\n",
    "ic({**xs, **ys})"
   ]
  },
  {
   "cell_type": "markdown",
   "metadata": {},
   "source": [
    "### `collections.OrderedDict`"
   ]
  },
  {
   "cell_type": "code",
   "execution_count": 8,
   "metadata": {
    "ExecuteTime": {
     "end_time": "2019-05-24T08:24:46.911322Z",
     "start_time": "2019-05-24T08:24:46.830868Z"
    }
   },
   "outputs": [
    {
     "name": "stdout",
     "output_type": "stream",
     "text": [
      "ic> a: {'a': 1, 'b': 3, 'c': 2}\n",
      "ic> b: OrderedDict([('a', 1), ('b', 3), ('c', 2)])\n",
      "ic> s1: [('a', 1), ('c', 2), ('b', 3)]\n",
      "ic> s2: [('a', 1), ('b', 3), ('c', 2)]\n",
      "ic> s3: {'a': 1, 'b': 3, 'c': 2}\n"
     ]
    },
    {
     "data": {
      "text/plain": [
       "{'a': 1, 'c': 2, 'b': 3}"
      ]
     },
     "execution_count": 8,
     "metadata": {},
     "output_type": "execute_result"
    }
   ],
   "source": [
    "# Ordered Dict\n",
    "\n",
    "# in python 3.7 order will be preserved, \n",
    "# but it's depends on dict implementation\n",
    "# see Hettinger's video.\n",
    "a = {'a':1, 'b':3, 'c':2}\n",
    "ic(a)\n",
    "\n",
    "# ordered dict helps to keep it really ordered\n",
    "from collections import OrderedDict\n",
    "b = OrderedDict(a)\n",
    "ic(b)\n",
    "\n",
    "# we also can use sorted to sort doctionary by value\n",
    "s1 = sorted(a.items(), key=lambda x: x[1])\n",
    "ic(s1)\n",
    "\n",
    "# or by key\n",
    "s2 = sorted(a.items(), key=lambda x: x[0])\n",
    "ic(s2)\n",
    "\n",
    "#  or usign comprehension\n",
    "s3 = {k:v for k, v in sorted(a.items(), key=lambda x: x[1], reverse=False)}\n",
    "ic(s3)"
   ]
  },
  {
   "cell_type": "markdown",
   "metadata": {},
   "source": [
    "### `collections.ChainMap`"
   ]
  },
  {
   "cell_type": "code",
   "execution_count": 9,
   "metadata": {
    "ExecuteTime": {
     "end_time": "2019-05-24T08:24:46.967401Z",
     "start_time": "2019-05-24T08:24:46.915346Z"
    }
   },
   "outputs": [
    {
     "name": "stdout",
     "output_type": "stream",
     "text": [
      "ic> options_source['option']: 'default_value'\n",
      "ic> options_source['nosuchoptions']: 'default_dictionaly_option_placeholder'\n",
      "ic> {**ChainMap(d1, d2)}: {'a': 1, 'b': 2, 'c': 3, 'd': 4}\n"
     ]
    },
    {
     "data": {
      "text/plain": [
       "{'c': 3, 'd': 4, 'a': 1, 'b': 2}"
      ]
     },
     "execution_count": 9,
     "metadata": {},
     "output_type": "execute_result"
    }
   ],
   "source": [
    "from collections import ChainMap\n",
    "from collections import defaultdict as DefaultDict\n",
    "\n",
    "# default options\n",
    "default_options = dict({\n",
    "    'option':'default_value'\n",
    "})\n",
    "\n",
    "# options from default dict\n",
    "custom_source = DefaultDict(lambda:\"default_dictionaly_option_placeholder\")\n",
    "custom_source['option'] = 'default_dict_option'\n",
    "\n",
    "options_source = ChainMap(default_options, custom_source)\n",
    "\n",
    "ic(options_source['option'])\n",
    "ic(options_source['nosuchoptions'])\n",
    "\n",
    "\n",
    "# merging dictionaries\n",
    "d1 = {'a': 1, 'b': 2}\n",
    "d2 = {'c': 3, 'd': 4}\n",
    " \n",
    "ic({**ChainMap(d1, d2)})"
   ]
  },
  {
   "cell_type": "markdown",
   "metadata": {},
   "source": [
    "### `collections.defaultdict`"
   ]
  },
  {
   "cell_type": "code",
   "execution_count": 10,
   "metadata": {
    "ExecuteTime": {
     "end_time": "2019-05-24T08:24:47.003981Z",
     "start_time": "2019-05-24T08:24:46.969985Z"
    }
   },
   "outputs": [
    {
     "name": "stdout",
     "output_type": "stream",
     "text": [
      "ic> my_dict.get('key_that_not_exists', []): []\n",
      "ic> collections.defaultdict(list)['key_that_not_exists']: []\n"
     ]
    },
    {
     "data": {
      "text/plain": [
       "[]"
      ]
     },
     "execution_count": 10,
     "metadata": {},
     "output_type": "execute_result"
    }
   ],
   "source": [
    "import collections \n",
    "\n",
    "my_dict = {}\n",
    "\n",
    "# default value (for value that not exists) is list\n",
    "ic(my_dict.get('key_that_not_exists', []))\n",
    "\n",
    "# with default dictionary\n",
    "ic(collections.defaultdict(list)['key_that_not_exists'])"
   ]
  },
  {
   "cell_type": "markdown",
   "metadata": {},
   "source": [
    "### `types.MappingProxyType`\n",
    "\n",
    "* https://www.python.org/dev/peps/pep-0416\n",
    "* https://docs.python.org/3/library/types.html"
   ]
  },
  {
   "cell_type": "code",
   "execution_count": 11,
   "metadata": {
    "ExecuteTime": {
     "end_time": "2019-05-24T08:24:47.051618Z",
     "start_time": "2019-05-24T08:24:47.006489Z"
    }
   },
   "outputs": [
    {
     "name": "stdout",
     "output_type": "stream",
     "text": [
      "ic> Colors: mappingproxy({'red': '#FF0000', 'green': '#008000'})\n",
      "ic> Colors.get('navy'): None\n",
      "ic> error_message: 'Cant Update frozen/proxy value of dictionary'\n"
     ]
    }
   ],
   "source": [
    "from types import MappingProxyType\n",
    "\n",
    "Colors = MappingProxyType({\n",
    "    'red'  : '#FF0000',\n",
    "    'green': '#008000',\n",
    "})\n",
    "\n",
    "# show colors\n",
    "ic(Colors)\n",
    "\n",
    "# unexisting key\n",
    "ic(Colors.get('navy'))\n",
    "\n",
    "# updating keys (shoudl fail)\n",
    "error_message = \"Cant Update frozen/proxy value of dictionary\"\n",
    "try:\n",
    "    Colors.update({'navy':'#000080'})\n",
    "except AttributeError:\n",
    "    ic(error_message)"
   ]
  },
  {
   "cell_type": "markdown",
   "metadata": {},
   "source": [
    "## Lists and Arrays"
   ]
  },
  {
   "cell_type": "markdown",
   "metadata": {},
   "source": [
    "### `list`"
   ]
  },
  {
   "cell_type": "markdown",
   "metadata": {},
   "source": [
    "### `bytes`\n",
    "\n",
    "`immutable` bytes sequence"
   ]
  },
  {
   "cell_type": "code",
   "execution_count": 12,
   "metadata": {
    "ExecuteTime": {
     "end_time": "2019-05-24T08:24:47.156991Z",
     "start_time": "2019-05-24T08:24:47.054289Z"
    }
   },
   "outputs": [
    {
     "name": "stdout",
     "output_type": "stream",
     "text": [
      "ic> b: b'literal'\n",
      "ic> b[1]: 105\n",
      "ic> b[0:3]: b'lit'\n",
      "ic> b'dots over \\xd1\\x96'.decode(): 'dots over і'\n",
      "ic> bytes(10): b'\\x00\\x00\\x00\\x00\\x00\\x00\\x00\\x00\\x00\\x00'\n",
      "ic> bytes(range(97, 97+26)): b'abcdefghijklmnopqrstuvwxyz'\n",
      "ic> bytes(\"dots over і\", 'utf8'): b'dots over \\xd1\\x96'\n"
     ]
    },
    {
     "data": {
      "text/plain": [
       "b'dots over \\xd1\\x96'"
      ]
     },
     "execution_count": 12,
     "metadata": {},
     "output_type": "execute_result"
    }
   ],
   "source": [
    "b = b'literal'\n",
    "# bytes literal - restricted to ascii symbols (except \\ and control codes)\n",
    "ic(b)\n",
    "\n",
    "# int (code at ascii) if indexing \n",
    "ic(b[1])\n",
    "\n",
    "# int (code at ascii) if indexing \n",
    "ic(b[0:3])\n",
    "\n",
    "# bytes to string convertion (with escape characters)\n",
    "ic(b'dots over \\xd1\\x96'.decode())\n",
    "\n",
    "# creating sequence qith zero value\n",
    "ic(bytes(10))\n",
    "\n",
    "# if initializer sequence of integers ...\n",
    "ic(bytes(range(97, 97+26)))\n",
    "\n",
    "# or sequence of utf8 aswell.\n",
    "ic(bytes(\"dots over і\", 'utf8'))"
   ]
  },
  {
   "cell_type": "markdown",
   "metadata": {},
   "source": [
    "### `array.array`\n",
    "\n",
    "`C`- types arrays"
   ]
  },
  {
   "cell_type": "code",
   "execution_count": 13,
   "metadata": {
    "ExecuteTime": {
     "end_time": "2019-05-24T08:24:47.224957Z",
     "start_time": "2019-05-24T08:24:47.159520Z"
    }
   },
   "outputs": [
    {
     "name": "stdout",
     "output_type": "stream",
     "text": [
      "ic> array('u', 'hello \\u2641'): array('u', 'hello ♁')\n",
      "ic> array('l', (1, 2, 3, 4, 5)): array('l', [1, 2, 3, 4, 5])\n",
      "ic> array('d', (1.0, 2.0, 3.14)): array('d', [1.0, 2.0, 3.14])\n",
      "ic> array('f', (1.0, 1.5, 2.0, 2.5)): array('f', [1.0, 1.5, 2.0, 2.5])\n"
     ]
    },
    {
     "data": {
      "text/plain": [
       "array('f', [1.0, 1.5, 2.0, 2.5])"
      ]
     },
     "execution_count": 13,
     "metadata": {},
     "output_type": "execute_result"
    }
   ],
   "source": [
    "# https://docs.python.org/3/library/array.html\n",
    "from array import array \n",
    "\n",
    "# Unicode (Py_UNICODE)\n",
    "ic(array('u', 'hello \\u2641'))\n",
    "\n",
    "# signed long\n",
    "ic(array('l', (1, 2, 3, 4, 5)))\n",
    "\n",
    "# doubles\n",
    "ic(array('d', (1.0, 2.0, 3.14)))\n",
    "\n",
    "# floats \n",
    "ic(array('f', (1.0, 1.5, 2.0, 2.5)))"
   ]
  },
  {
   "cell_type": "markdown",
   "metadata": {},
   "source": [
    "### `bytearray`\n",
    "\n",
    "`mutable` bytes seqence"
   ]
  },
  {
   "cell_type": "code",
   "execution_count": 14,
   "metadata": {
    "ExecuteTime": {
     "end_time": "2019-05-24T08:24:47.353125Z",
     "start_time": "2019-05-24T08:24:47.227692Z"
    }
   },
   "outputs": [
    {
     "name": "stdout",
     "output_type": "stream",
     "text": [
      "ic> bytearray(): bytearray(b'')\n",
      "ic> bytearray(4): bytearray(b'\\x00\\x00\\x00\\x00')\n",
      "ic> bytearray(\"Dots over і.\", 'utf8'): bytearray(b'Dots over \\xd1\\x96.')\n",
      "ic> b: bytearray(b'Dots over \\xd1\\x96.I said put dots over i.')\n",
      "ic> b: bytearray(b'Comas over \\xd1\\x96.I said put dots over i.')\n",
      "ic> words.upper(): b'DONT COMES EASY'\n",
      "ic> words.split(): [b'Dont', b'comes', b'easy']\n",
      "ic> bytearray(b\" \").join(words.split()): bytearray(b'Dont comes easy')\n"
     ]
    },
    {
     "data": {
      "text/plain": [
       "bytearray(b'Dont comes easy')"
      ]
     },
     "execution_count": 14,
     "metadata": {},
     "output_type": "execute_result"
    }
   ],
   "source": [
    "# Same way to initialize it was done with byte\n",
    "ic(bytearray())\n",
    "ic(bytearray(4))\n",
    "ic(bytearray(\"Dots over і.\", 'utf8'))\n",
    "\n",
    "# Mutating array\n",
    "b = bytearray(\"Dots over і.\", 'utf8')\n",
    "b.extend(bytes('I said put dots over i.', 'utf8'))\n",
    "ic(b)\n",
    "\n",
    "b[0:5] = b'Comas '\n",
    "ic(b)\n",
    "\n",
    "# bytes supports strings like opperations\n",
    "words = b\"Dont comes easy\"\n",
    "\n",
    "# text transform\n",
    "ic(words.upper())\n",
    "\n",
    "# text split to list\n",
    "ic(words.split())\n",
    "\n",
    "# and join it back\n",
    "ic(bytearray(b\" \").join(words.split()))"
   ]
  },
  {
   "cell_type": "markdown",
   "metadata": {},
   "source": [
    "## Linked Lists, Heaps and Queues"
   ]
  },
  {
   "cell_type": "markdown",
   "metadata": {},
   "source": [
    "### `heapq`"
   ]
  },
  {
   "cell_type": "code",
   "execution_count": 15,
   "metadata": {
    "ExecuteTime": {
     "end_time": "2019-05-24T08:24:47.396217Z",
     "start_time": "2019-05-24T08:24:47.355656Z"
    }
   },
   "outputs": [
    {
     "name": "stdout",
     "output_type": "stream",
     "text": [
      "ic> pq.pop(): 'world'\n",
      "ic> pq.pop(): 'hello'\n"
     ]
    },
    {
     "data": {
      "text/plain": [
       "'hello'"
      ]
     },
     "execution_count": 15,
     "metadata": {},
     "output_type": "execute_result"
    }
   ],
   "source": [
    "import heapq\n",
    "\n",
    "# priority queue realization using heapqueue\n",
    "class PriorityQueue(object):\n",
    "    def __init__(self):\n",
    "        self._q = []\n",
    "\n",
    "    def add(self, value, priority=0):\n",
    "        heapq.heappush(self._q, (priority, value))\n",
    "\n",
    "    def pop(self):\n",
    "        return heapq.heappop(self._q)[-1]\n",
    "    \n",
    "pq = PriorityQueue()\n",
    "pq.add(\"hello\", priority=2)\n",
    "pq.add(\"world\", priority=1)\n",
    "ic(pq.pop())\n",
    "ic(pq.pop())"
   ]
  },
  {
   "cell_type": "code",
   "execution_count": 16,
   "metadata": {
    "ExecuteTime": {
     "end_time": "2019-05-24T08:24:47.401666Z",
     "start_time": "2019-05-24T08:24:47.398781Z"
    }
   },
   "outputs": [],
   "source": [
    "### `queue.PriorityQueue`"
   ]
  },
  {
   "cell_type": "markdown",
   "metadata": {},
   "source": [
    "### `queue.deque`"
   ]
  },
  {
   "cell_type": "code",
   "execution_count": 17,
   "metadata": {
    "ExecuteTime": {
     "end_time": "2019-05-24T08:24:47.575541Z",
     "start_time": "2019-05-24T08:24:47.404346Z"
    }
   },
   "outputs": [
    {
     "name": "stdout",
     "output_type": "stream",
     "text": [
      "ic> d: deque(['one', 'two', 'three'])\n",
      "ic> d: deque(['one', 'two', 'three', 'four'])\n",
      "ic> d.remove(\"three\"): None\n",
      "ic> d: deque(['one', 'two', 'four'])\n",
      "ic> d: deque(['one', 'two', 'four', 'dva', 'try', 'chotyry'])\n",
      "ic> d: deque(['si', 'san', 'ni', 'iti', 'one', 'two', 'four', 'dva', 'try', 'chotyry'])\n",
      "ic> d: deque(['zero', 'si', 'san', 'ni', 'iti', 'one', 'two', 'four', 'dva', 'try', 'chotyry'])\n",
      "ic> d_poped: 'chotyry'\n",
      "ic> d_popedleft: 'zero'\n",
      "ic> d: deque(['si', 'san', 'ni', 'iti', 'one', 'two', 'four', 'dva', 'try'])\n",
      "ic> d: deque(['dva', 'try', 'si', 'san', 'ni', 'iti', 'one', 'two', 'four'])\n"
     ]
    },
    {
     "data": {
      "text/plain": [
       "deque(['dva', 'try', 'si', 'san', 'ni', 'iti', 'one', 'two', 'four'])"
      ]
     },
     "execution_count": 17,
     "metadata": {},
     "output_type": "execute_result"
    }
   ],
   "source": [
    "import collections \n",
    "\n",
    "d = collections.deque([\"one\", \"two\", \"three\"])\n",
    "ic(d)\n",
    " \n",
    "d.append(\"four\")\n",
    "ic(d)\n",
    "\n",
    "ic(d.remove(\"three\"))\n",
    "ic(d)\n",
    "\n",
    "d.extend([\"dva\", \"try\", \"chotyry\"])\n",
    "ic(d)\n",
    "\n",
    "d.extendleft([\"iti\", \"ni\", \"san\", \"si\"])\n",
    "ic(d)\n",
    "\n",
    "\n",
    "d.appendleft(\"zero\")\n",
    "ic(d)\n",
    "\n",
    "d_poped = d.pop()\n",
    "ic(d_poped)\n",
    "\n",
    "d_popedleft = d.popleft()\n",
    "ic(d_popedleft)\n",
    "\n",
    "# rotatiob\n",
    "ic(d)\n",
    "d.rotate(2)\n",
    "ic(d)"
   ]
  },
  {
   "cell_type": "code",
   "execution_count": null,
   "metadata": {},
   "outputs": [],
   "source": []
  },
  {
   "cell_type": "markdown",
   "metadata": {},
   "source": [
    "## Sets"
   ]
  },
  {
   "cell_type": "markdown",
   "metadata": {},
   "source": [
    "### `set`"
   ]
  },
  {
   "cell_type": "code",
   "execution_count": 18,
   "metadata": {
    "ExecuteTime": {
     "end_time": "2019-05-24T08:24:47.625552Z",
     "start_time": "2019-05-24T08:24:47.577916Z"
    }
   },
   "outputs": [
    {
     "name": "stdout",
     "output_type": "stream",
     "text": [
      "ic> s: {1, 2, 3}\n",
      "ic> s: {19, 1, 2, 3}\n",
      "ic> s & set([2, 19]): {2, 19}\n"
     ]
    },
    {
     "data": {
      "text/plain": [
       "{2, 19}"
      ]
     },
     "execution_count": 18,
     "metadata": {},
     "output_type": "execute_result"
    }
   ],
   "source": [
    "s = set([1,2,1,2,3,1])\n",
    "ic(s)\n",
    "\n",
    "s.add(19)\n",
    "s.add(19)\n",
    "ic(s)\n",
    "\n",
    "# intersection\n",
    "ic(s & set([2, 19]))"
   ]
  },
  {
   "cell_type": "code",
   "execution_count": 19,
   "metadata": {
    "ExecuteTime": {
     "end_time": "2019-05-24T08:24:47.631074Z",
     "start_time": "2019-05-24T08:24:47.628093Z"
    }
   },
   "outputs": [],
   "source": [
    "### `frozenset`"
   ]
  },
  {
   "cell_type": "markdown",
   "metadata": {},
   "source": [
    "### `collections.Counter`"
   ]
  },
  {
   "cell_type": "code",
   "execution_count": 20,
   "metadata": {
    "ExecuteTime": {
     "end_time": "2019-05-24T08:24:47.881800Z",
     "start_time": "2019-05-24T08:24:47.633622Z"
    }
   },
   "outputs": [
    {
     "name": "stdout",
     "output_type": "stream",
     "text": [
      "ic> c0: Counter({'dos': 2, 'uno': 1})\n",
      "ic> c1: Counter({'uno': 1})\n",
      "ic> c2.most_common(): [('peaches', 10), ('apples', 3)]\n",
      "ic> c3.most_common(2): [('un', 1), ('dos', 1)]\n",
      "ic> list(c3.elements()): ['un', 'dos', 'tres', 'quatro', 'cinco', 'seis', 'siete']\n",
      "ic> list(c3): ['un', 'dos', 'tres', 'quatro', 'cinco', 'seis', 'siete']\n",
      "ic> c4: Counter({'dos': 2, 'tres': 1, 'cinco': 1, 'seis': 1, 'ocho': 0})\n",
      "ic> c4.elements(): <itertools.chain object at 0x10954bda0>\n",
      "ic> c4+c3: Counter({'dos': 3, 'tres': 2, 'cinco': 2, 'seis': 2, 'un': 1, 'quatro': 1, 'siete': 1})\n",
      "ic> c4: Counter({'dos': 2, 'tres': 1, 'cinco': 1, 'seis': 1, 'ocho': 0})\n",
      "ic> c3: Counter({'un': 1, 'dos': 1, 'tres': 1, 'quatro': 1, 'cinco': 1, 'seis': 1, 'siete': 1})\n",
      "ic> c4-c3: Counter({'dos': 1})\n",
      "ic> c3-c4: Counter({'un': 1, 'quatro': 1, 'siete': 1})\n",
      "ic> c3|c4: Counter({'dos': 2, 'un': 1, 'tres': 1, 'quatro': 1, 'cinco': 1, 'seis': 1, 'siete': 1})\n",
      "ic> c3&c4: Counter({'dos': 1, 'tres': 1, 'cinco': 1, 'seis': 1})\n"
     ]
    },
    {
     "data": {
      "text/plain": [
       "Counter({'dos': 1, 'tres': 1, 'cinco': 1, 'seis': 1})"
      ]
     },
     "execution_count": 20,
     "metadata": {},
     "output_type": "execute_result"
    }
   ],
   "source": [
    "# collections.Counter example\n",
    "\n",
    "from collections import Counter\n",
    "\n",
    "c0 = Counter({'uno':1, 'dos':2});\n",
    "ic(c0)\n",
    "\n",
    "c1 = Counter(uno=1)\n",
    "ic(c1)\n",
    "\n",
    "c2 = Counter();\n",
    "c2['apples'] += 1\n",
    "c2['apples'] += 2\n",
    "c2['peaches'] += 10\n",
    "\n",
    "# Most Common Elements (sorted by `count`)\n",
    "ic(c2.most_common())\n",
    "\n",
    "# Counter Example\n",
    "c3 = Counter()\n",
    "lipsum = \"Un dos tres quatro cinco seis siete\"\n",
    "words = [w.strip(\".,\") for w in lipsum.lower().split(' ')]   \n",
    "for word in words:\n",
    "    c3[word]+=1\n",
    "\n",
    "ic(c3.most_common(2))\n",
    "\n",
    "# List\n",
    "ic(list(c3.elements()))\n",
    "\n",
    "# Unique Elements\n",
    "ic(list(c3))\n",
    "\n",
    "# Additoional methods\n",
    "c4 = Counter([\"dos\"])\n",
    "c4.update([\"dos\", \"tres\", \"cinco\", \"seis\", \"ocho\"])\n",
    "c4.subtract([\"ocho\"])\n",
    "ic(c4) \n",
    "\n",
    "# background implementation - itertools chain\n",
    "ic(c4.elements())\n",
    "\n",
    "# adding counters\n",
    "ic(c4+c3)\n",
    "\n",
    "\n",
    "ic(c4)\n",
    "ic(c3)\n",
    "# subtraction\n",
    "ic(c4-c3)\n",
    "ic(c3-c4)\n",
    "\n",
    "# maximum value (union)\n",
    "ic(c3|c4)\n",
    "\n",
    "# minimum value (intersection)\n",
    "ic(c3&c4)"
   ]
  },
  {
   "cell_type": "markdown",
   "metadata": {},
   "source": [
    "## Tuples"
   ]
  },
  {
   "cell_type": "markdown",
   "metadata": {},
   "source": [
    "### tuple\n",
    "\n",
    "`immutable` sequence (except if it contains `list`)"
   ]
  },
  {
   "cell_type": "code",
   "execution_count": 21,
   "metadata": {
    "ExecuteTime": {
     "end_time": "2019-05-24T08:24:47.890120Z",
     "start_time": "2019-05-24T08:24:47.884246Z"
    }
   },
   "outputs": [
    {
     "name": "stderr",
     "output_type": "stream",
     "text": [
      "Error:  'tuple' object does not support item assignment\n"
     ]
    }
   ],
   "source": [
    "one = \"uno\"\n",
    "dos = \"two\"\n",
    "t = (one, dos)\n",
    "\n",
    "try:\n",
    "    t[1] = \"dva\"\n",
    "except TypeError as e:\n",
    "    print(\"Error: \", e, file=sys.stderr)"
   ]
  },
  {
   "cell_type": "markdown",
   "metadata": {},
   "source": [
    "### `collections.namedtuple`"
   ]
  },
  {
   "cell_type": "code",
   "execution_count": 22,
   "metadata": {
    "ExecuteTime": {
     "end_time": "2019-05-24T08:24:47.989099Z",
     "start_time": "2019-05-24T08:24:47.892570Z"
    }
   },
   "outputs": [
    {
     "name": "stdout",
     "output_type": "stream",
     "text": [
      "ic> Car._fields: ('color', 'engine')\n",
      "ic> redSubaru: Auto(color='red', engine='3.6Turbo')\n",
      "ic> json.dumps(redSubaru._asdict()): '{\"color\": \"red\", \"engine\": \"3.6Turbo\"}'\n",
      "ic> red_turbo_car: Auto(color='red', engine='turbo')\n",
      "ic> tuple(red_turbo_car): ('red', 'turbo')\n",
      "ic> red_turbo_car._asdict(): OrderedDict([('color', 'red'), ('engine', 'turbo')])\n"
     ]
    },
    {
     "data": {
      "text/plain": [
       "OrderedDict([('color', 'red'), ('engine', 'turbo')])"
      ]
     },
     "execution_count": 22,
     "metadata": {},
     "output_type": "execute_result"
    }
   ],
   "source": [
    "import collections, json \n",
    "\n",
    "Car = collections.namedtuple('Auto' , 'color engine')\n",
    "# Is Creates class Auto with a fields 'color' and 'engine' and\n",
    "# instanciate it to Car variable\n",
    "redSubaru = Car(\"red\", \"3.6Turbo\")\n",
    "ic(Car._fields)\n",
    "\n",
    "\n",
    "# And you can instantiate class with wraper implementing custom methods\n",
    "class CarMethods(Car):\n",
    "    def hex(self):\n",
    "        return ('#000', \"#f00\")[self.color != \"red\"]\n",
    "\n",
    "# replace value\n",
    "redSubaru._replace(color=\"#000\")\n",
    "ic(redSubaru)\n",
    "\n",
    "# show tuple as dictionary\n",
    "ic(json.dumps(redSubaru._asdict()))\n",
    "\n",
    "# and finaly - factory\n",
    "red_turbo_car = Car._make((\"red\", \"turbo\"))\n",
    "ic(red_turbo_car)\n",
    "\n",
    "# Conversions\n",
    "ic(tuple(red_turbo_car))\n",
    "ic(red_turbo_car._asdict())"
   ]
  },
  {
   "cell_type": "markdown",
   "metadata": {},
   "source": [
    "## enum.Enum"
   ]
  },
  {
   "cell_type": "markdown",
   "metadata": {},
   "source": [
    "### `enum.IntEnum`\n",
    "\n",
    "* https://docs.python.org/3/library/enum.html"
   ]
  },
  {
   "cell_type": "code",
   "execution_count": 70,
   "metadata": {
    "ExecuteTime": {
     "end_time": "2019-05-24T08:56:52.210714Z",
     "start_time": "2019-05-24T08:56:52.014167Z"
    }
   },
   "outputs": [
    {
     "name": "stdout",
     "output_type": "stream",
     "text": [
      "ic> request: <Requests.POST: 1>\n",
      "ic> isinstance(request, Requests): True\n",
      "ic> request.name: 'POST'\n",
      "ic> Requests(2): <Requests.GET: 2>\n",
      "ic> \", \".join(types): 'POST, GET, HEAD, OPTIONS, DELETE, PUSH'\n",
      "type object 'HTTPErrorCodes' has no attribute '__members__'\n",
      "ic> \", \".join(codes): 'Bad_Request, Unauthorized, Payment_Required, Forbiden'\n",
      "ic> \", \".join(codes): '400, 401, 402, 403'\n",
      "ic> \", \".join(directions): 'NORTH, SOUTH, EAST, WEST'\n",
      "ic> \", \".join(animals): 'ANT, BEE, CAT, DOG'\n",
      "ic> \", \".join(planets): \"('EARTH', 9.802652743337129), ('MARS', 3.7126290961053403)\"\n"
     ]
    },
    {
     "data": {
      "text/plain": [
       "\"('EARTH', 9.802652743337129), ('MARS', 3.7126290961053403)\""
      ]
     },
     "execution_count": 70,
     "metadata": {},
     "output_type": "execute_result"
    }
   ],
   "source": [
    "import enum\n",
    "\n",
    "class Requests(enum.Enum):\n",
    "    POST    = 1\n",
    "    GET     = 2\n",
    "    HEAD    = 3\n",
    "    OPTIONS = 4\n",
    "    DELETE  = 5\n",
    "    PUSH    = 6\n",
    "\n",
    "request = Requests.POST\n",
    "ic(request)\n",
    "ic(isinstance(request, Requests))\n",
    "ic(request.name) \n",
    "\n",
    "# Programmatic access to enumeration members and their attributes\n",
    "ic(Requests(2))\n",
    "\n",
    "types = [str(request_type.name) for request_type in Requests]\n",
    "ic(\", \".join(types))\n",
    "\n",
    "\n",
    "# ensuring unique values\n",
    "try:\n",
    "    @enum.unique\n",
    "    class HTTPErrorCodes:\n",
    "        NotFound = 404\n",
    "        Forbiden = 404\n",
    "except AttributeError  as e:  \n",
    "    print(e)\n",
    "    \n",
    "\n",
    "# iota / automatic values\n",
    "# \n",
    "class HTTPErrorCodes(enum.Enum):\n",
    "    Bad_Request      = 400\n",
    "    Unauthorized     = enum.auto()\n",
    "    Payment_Required = enum.auto()\n",
    "    Forbiden         = enum.auto()\n",
    "\n",
    "codes = [str(codes.name) for codes in HTTPErrorCodes]\n",
    "ic(\", \".join(codes))\n",
    "\n",
    "values = [str(codes.value) for codes in HTTPErrorCodes]\n",
    "ic(\", \".join(values))\n",
    "\n",
    "# custumizing enum\n",
    "class AutoName(enum.Enum):\n",
    "    def _generate_next_value_(name, start, count, last_values):\n",
    "        return name\n",
    "\n",
    "class Ordinal(AutoName):\n",
    "    NORTH = enum.auto()\n",
    "    SOUTH = enum.auto()\n",
    "    EAST = enum.auto()\n",
    "    WEST = enum.auto()\n",
    "\n",
    "directions = [str(direction.value) for direction in Ordinal]\n",
    "ic(\", \".join(directions))\n",
    "\n",
    "\n",
    "# Using API\n",
    "Animals = enum.Enum('Animal', 'ANT BEE CAT DOG')\n",
    "animals = [str(animal.name) for animal in Animals]\n",
    "ic(\", \".join(animals))\n",
    "\n",
    "\n",
    "# using additional property\n",
    "class Planets(enum.Enum):\n",
    "    EARTH   = (5.976e+24, 6.37814e6)\n",
    "    MARS    = (6.421e+23, 3.3972e6)\n",
    "    def __init__(self, mass, radius):\n",
    "        self.mass = mass       # in kilograms\n",
    "        self.radius = radius   # in meters\n",
    "        \n",
    "    @property\n",
    "    def gravity(self):\n",
    "        # universal gravitational constant  (m3 kg-1 s-2)\n",
    "        G = 6.67300E-11\n",
    "        return G * self.mass / (self.radius * self.radius)\n",
    "    \n",
    "planets = [str((planet.name, planet.gravity)) for planet in Planets]\n",
    "ic(\", \".join(planets))"
   ]
  },
  {
   "cell_type": "markdown",
   "metadata": {
    "ExecuteTime": {
     "end_time": "2019-05-24T08:44:09.273817Z",
     "start_time": "2019-05-24T08:44:09.270770Z"
    }
   },
   "source": [
    "### `enum.IntFlag`"
   ]
  },
  {
   "cell_type": "code",
   "execution_count": 62,
   "metadata": {
    "ExecuteTime": {
     "end_time": "2019-05-24T08:47:20.437913Z",
     "start_time": "2019-05-24T08:47:20.343486Z"
    }
   },
   "outputs": [
    {
     "name": "stdout",
     "output_type": "stream",
     "text": [
      "ic> Perm.R | Perm.W: <Perm.R|W: 6>\n",
      "ic> Perm.R + Perm.W: 6\n",
      "ic> bool(Perm.R & Perm.R): True\n",
      "ic> bool(Perm.R & Perm.W): False\n",
      "ic> bool(Perm.R & (Perm.W | Perm.R)): True\n",
      "ic> Perm.R in (Perm.W | Perm.R): True\n"
     ]
    },
    {
     "data": {
      "text/plain": [
       "True"
      ]
     },
     "execution_count": 62,
     "metadata": {},
     "output_type": "execute_result"
    }
   ],
   "source": [
    "class Perm(enum.IntFlag):\n",
    "    R = 4\n",
    "    W = 2\n",
    "    X = 1\n",
    "    \n",
    "ic(Perm.R | Perm.W)\n",
    "ic(Perm.R + Perm.W)\n",
    "\n",
    "ic(bool(Perm.R & Perm.R))\n",
    "ic(bool(Perm.R & Perm.W))\n",
    "ic(bool(Perm.R & (Perm.W | Perm.R)))\n",
    "ic(Perm.R in (Perm.W | Perm.R))\n"
   ]
  },
  {
   "cell_type": "markdown",
   "metadata": {},
   "source": [
    "### `enum.Flag`"
   ]
  },
  {
   "cell_type": "code",
   "execution_count": 66,
   "metadata": {
    "ExecuteTime": {
     "end_time": "2019-05-24T08:49:58.476853Z",
     "start_time": "2019-05-24T08:49:58.438840Z"
    }
   },
   "outputs": [
    {
     "name": "stdout",
     "output_type": "stream",
     "text": [
      "ic> \", \".join(colors_names): 'RED, BLUE, GREEN, WHITE'\n",
      "ic> \", \".join(color_values): '1, 2, 4, 7'\n"
     ]
    },
    {
     "data": {
      "text/plain": [
       "'1, 2, 4, 7'"
      ]
     },
     "execution_count": 66,
     "metadata": {},
     "output_type": "execute_result"
    }
   ],
   "source": [
    "class Colors(enum.Flag):\n",
    "    RED = enum.auto()\n",
    "    BLUE = enum.auto()\n",
    "    GREEN = enum.auto()\n",
    "    WHITE = RED | BLUE | GREEN\n",
    "    \n",
    "colors_names = [str(color.name) for color in Colors]\n",
    "ic(\", \".join(colors_names))\n",
    "\n",
    "color_values = [str(color.value) for color in Colors]\n",
    "ic(\", \".join(color_values))"
   ]
  },
  {
   "cell_type": "markdown",
   "metadata": {
    "ExecuteTime": {
     "end_time": "2019-03-03T15:34:17.363427Z",
     "start_time": "2019-03-03T15:34:17.356220Z"
    },
    "hideCode": false,
    "hidePrompt": false
   },
   "source": [
    "## `dataclasses.dataclass` \n",
    "\n",
    "* [Dataclasses: The code generator to end all code generators - PyCon 2018](https://www.youtube.com/watch?v=T-TwcmT6Rcw) by Raymond Hettinger [slides](https://www.dropbox.com/s/te4q0xf46zkuu21/hettinger_dataclasses_pycon_2018.zip), [pdf](https://www.dropbox.com/s/m8pwkkz43qz5pgt/HettingerPycon2018.pdf)"
   ]
  },
  {
   "cell_type": "code",
   "execution_count": 24,
   "metadata": {
    "ExecuteTime": {
     "end_time": "2019-05-24T08:24:48.247604Z",
     "start_time": "2019-05-24T08:24:48.059811Z"
    },
    "hideCode": false,
    "hidePrompt": false
   },
   "outputs": [
    {
     "name": "stdout",
     "output_type": "stream",
     "text": [
      "ic> Person: <class '__main__.Person'>\n",
      "ic> Person: <class '__main__.Person'>\n",
      "ic> type(Person): <class 'type'>\n",
      "ic> p1: Person(given_name='Persona', family_name='Aname', birth_date=None, email_address=None)\n",
      "ic> p2: Person(given_name='Personica', family_name='Bname', birth_date=None, email_address='bname@gmail.com')\n",
      "ic> 'p1 == p2 ... %s' % (p1 == p2): 'p1 == p2 ... False'\n",
      "ic> 'p1 != p2 ... %s' % (p1 != p2): 'p1 != p2 ... True'\n",
      "ic> 'p1 < p2 .... %s' % (p1 < p2): 'p1 < p2 .... True'\n",
      "ic> 'p1 <= p2 ... %s' % (p1 <= p2): 'p1 <= p2 ... True'\n",
      "ic> 'p1 > p2 .... %s' % (p1 > p2): 'p1 > p2 .... False'\n",
      "ic> 'p1 >= p2 ... %s' % (p1 >= p2): 'p1 >= p2 ... False'\n"
     ]
    },
    {
     "data": {
      "text/plain": [
       "'p1 >= p2 ... False'"
      ]
     },
     "execution_count": 24,
     "metadata": {},
     "output_type": "execute_result"
    }
   ],
   "source": [
    "import dataclasses\n",
    "\n",
    "@dataclasses.dataclass(order=True)\n",
    "class Person:\n",
    "    \"\"\"\n",
    "A *very* basic representation of a person, created as a dataclass\n",
    "\"\"\"\n",
    "    given_name: str\n",
    "    family_name: str\n",
    "    birth_date: str = None\n",
    "    email_address: str = None\n",
    "        \n",
    "ic(Person)\n",
    "\n",
    "\n",
    "# - Classes defined as dataclasses are still classes...\n",
    "ic(Person)\n",
    "# - They still appear as normal \"type\" types\n",
    "ic(type(Person))\n",
    "# - They have additional members\n",
    "# ic('__annotations__ ........ %s' % Person.__annotations__)\n",
    "# ic('__dataclass_fields__ ... %s' % Person.__dataclass_fields__)\n",
    "# ic('__dataclass_params__ ... %s' % Person.__dataclass_params__)\n",
    "\n",
    "# - And have some that have default implementations provided:\n",
    "p1 = Person('Persona', 'Aname')\n",
    "ic(p1)\n",
    "\n",
    "p2 = Person('Personica', 'Bname', None, 'bname@gmail.com')\n",
    "ic(p2)\n",
    "\n",
    "# - order=True has to be passed as an argument to the \n",
    "#   dataclass decorator for these to work:\n",
    "ic('p1 == p2 ... %s' % (p1 == p2))\n",
    "ic('p1 != p2 ... %s' % (p1 != p2))\n",
    "ic('p1 < p2 .... %s' % (p1 < p2))\n",
    "ic('p1 <= p2 ... %s' % (p1 <= p2))\n",
    "ic('p1 > p2 .... %s' % (p1 > p2))\n",
    "ic('p1 >= p2 ... %s' % (p1 >= p2))\n",
    " "
   ]
  },
  {
   "cell_type": "markdown",
   "metadata": {},
   "source": [
    "## Comparison\n",
    "\n",
    " Dataclass                        | NamedTuple\n",
    "----------------------------------|-------------\n",
    "`replace()` function\t          | `_replace()` method\n",
    "`asdict()` function\t              | `_asdict()` method\n",
    "converts to regular `dict`        | converted to OrderedDict\n",
    "`astuple()` function              | `tuple()` function\n",
    "Mutable                           | Frozen\n",
    "Unhashable                        | Hashable\n",
    "Non-iterable                      | Iterable and unpackable\n",
    "No comparison methods             | Sortable\n",
    "Underlying store: instance `dict` | Underlying store: tuple\n",
    "168 bytes                         | 72 bytes\n",
    "33 ns access                      | 61 ns access"
   ]
  },
  {
   "cell_type": "markdown",
   "metadata": {
    "heading_collapsed": true,
    "hideCode": false,
    "hidePrompt": false
   },
   "source": [
    "## `@memoryview`"
   ]
  }
 ],
 "metadata": {
  "hide_code_all_hidden": false,
  "hide_input": false,
  "kernelspec": {
   "display_name": "Python 3",
   "language": "python",
   "name": "python3"
  },
  "language_info": {
   "codemirror_mode": {
    "name": "ipython",
    "version": 3
   },
   "file_extension": ".py",
   "mimetype": "text/x-python",
   "name": "python",
   "nbconvert_exporter": "python",
   "pygments_lexer": "ipython3",
   "version": "3.7.3"
  },
  "toc": {
   "base_numbering": 1,
   "nav_menu": {},
   "number_sections": false,
   "sideBar": true,
   "skip_h1_title": true,
   "title_cell": "Table of Contents",
   "title_sidebar": "Contents",
   "toc_cell": false,
   "toc_position": {
    "height": "calc(100% - 180px)",
    "left": "10px",
    "top": "150px",
    "width": "286px"
   },
   "toc_section_display": true,
   "toc_window_display": true
  }
 },
 "nbformat": 4,
 "nbformat_minor": 2
}
