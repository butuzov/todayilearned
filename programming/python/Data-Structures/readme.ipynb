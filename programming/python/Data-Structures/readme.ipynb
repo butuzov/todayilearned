{
 "cells": [
  {
   "cell_type": "code",
   "execution_count": 2,
   "metadata": {
    "ExecuteTime": {
     "end_time": "2019-05-10T12:03:57.048996Z",
     "start_time": "2019-05-10T12:03:56.973908Z"
    },
    "hideCode": false,
    "hidePrompt": false
   },
   "outputs": [],
   "source": [
    "#hide\n",
    "from icecream import ic\n",
    "import sys, re\n",
    "\n",
    "def jupyter(*args): \n",
    "    print(*[re.sub(r\",\\s{1,}\", \", \", i.replace(\",\\n\", \", \")) for i in args], file=sys.stdout)\n",
    "    \n",
    "ic.configureOutput(prefix='ic> ', outputFunction=jupyter)"
   ]
  },
  {
   "cell_type": "markdown",
   "metadata": {
    "hideCode": false,
    "hidePrompt": false
   },
   "source": [
    "# Python Data Structures & Types"
   ]
  },
  {
   "cell_type": "markdown",
   "metadata": {
    "ExecuteTime": {
     "end_time": "2019-03-18T15:00:11.421858Z",
     "start_time": "2019-03-18T15:00:11.418690Z"
    }
   },
   "source": [
    "## Data Types"
   ]
  },
  {
   "cell_type": "code",
   "execution_count": null,
   "metadata": {},
   "outputs": [],
   "source": [
    "### int"
   ]
  },
  {
   "cell_type": "code",
   "execution_count": null,
   "metadata": {},
   "outputs": [],
   "source": [
    "### float"
   ]
  },
  {
   "cell_type": "code",
   "execution_count": null,
   "metadata": {},
   "outputs": [],
   "source": [
    "### str"
   ]
  },
  {
   "cell_type": "code",
   "execution_count": 38,
   "metadata": {
    "ExecuteTime": {
     "end_time": "2019-03-18T15:00:21.925893Z",
     "start_time": "2019-03-18T15:00:21.923044Z"
    }
   },
   "outputs": [],
   "source": [
    "### bytes"
   ]
  },
  {
   "cell_type": "markdown",
   "metadata": {},
   "source": [
    "### `struct.Struct`\n",
    "\n",
    "structured data as bytes "
   ]
  },
  {
   "cell_type": "code",
   "execution_count": 36,
   "metadata": {
    "ExecuteTime": {
     "end_time": "2019-03-18T14:58:25.432132Z",
     "start_time": "2019-03-18T14:58:25.402909Z"
    }
   },
   "outputs": [
    {
     "name": "stdout",
     "output_type": "stream",
     "text": [
      "ic> compact_data: b'\\x17\\x00\\x00\\x00\\x00\\x00\\x00\\x00\\x00\\x00(B'\n",
      "ic> MyStruct.unpack(compact_data): (23, False, 42.0)\n"
     ]
    },
    {
     "data": {
      "text/plain": [
       "(23, False, 42.0)"
      ]
     },
     "execution_count": 36,
     "metadata": {},
     "output_type": "execute_result"
    }
   ],
   "source": [
    "# Struct\n",
    "# https://docs.python.org/3/library/struct.html\n",
    "from struct import Struct\n",
    "\n",
    "MyStruct = Struct('i?f')\n",
    "compact_data = MyStruct.pack(23, False, 42.0)\n",
    "ic(compact_data)\n",
    "# and unpacking\n",
    "ic(MyStruct.unpack(compact_data))"
   ]
  },
  {
   "cell_type": "markdown",
   "metadata": {},
   "source": [
    "## Dictionary and Maps"
   ]
  },
  {
   "cell_type": "markdown",
   "metadata": {},
   "source": [
    "### `dict`\n",
    "\n",
    "\n",
    "**Talks**:\n",
    "\n",
    "* [Modern Python Dictionaries - A confluence of a dozen great ideas (PyCon 2017)](https://www.youtube.com/watch?v=npw4s1QTmPg) by Raymond Hettinger"
   ]
  },
  {
   "cell_type": "code",
   "execution_count": 25,
   "metadata": {
    "ExecuteTime": {
     "end_time": "2019-03-18T14:46:05.974112Z",
     "start_time": "2019-03-18T14:46:05.931145Z"
    }
   },
   "outputs": [
    {
     "name": "stdout",
     "output_type": "stream",
     "text": [
      "ic> xs: {'a': 1, 'b': 3, 'c': 2}\n",
      "ic> dict(xs, **ys): {'a': 1, 'b': 3, 'c': 2, 'x': 5, 'y': 1, 'z': 9}\n",
      "ic> {**xs, **ys}: {'a': 1, 'b': 3, 'c': 2, 'x': 5, 'y': 1, 'z': 9}\n"
     ]
    },
    {
     "data": {
      "text/plain": [
       "{'a': 1, 'b': 3, 'c': 2, 'z': 9, 'y': 1, 'x': 5}"
      ]
     },
     "execution_count": 25,
     "metadata": {},
     "output_type": "execute_result"
    }
   ],
   "source": [
    "ys={'z':9, 'y':1, 'x':5}\n",
    "xs={'a':1, 'b':3, 'c':2}\n",
    "ic(xs)\n",
    "\n",
    "# Merging Dictionaries\n",
    "# pre python 3.5\n",
    "ic(dict(xs, **ys))\n",
    "\n",
    "# post python 3.5\n",
    "ic({**xs, **ys})"
   ]
  },
  {
   "cell_type": "markdown",
   "metadata": {},
   "source": [
    "### `collections.OrderedDict`"
   ]
  },
  {
   "cell_type": "code",
   "execution_count": 30,
   "metadata": {
    "ExecuteTime": {
     "end_time": "2019-03-18T14:51:01.587491Z",
     "start_time": "2019-03-18T14:51:01.505085Z"
    }
   },
   "outputs": [
    {
     "name": "stdout",
     "output_type": "stream",
     "text": [
      "ic> a: {'a': 1, 'b': 3, 'c': 2}\n",
      "ic> b: OrderedDict([('a', 1), ('b', 3), ('c', 2)])\n",
      "ic> s1: [('a', 1), ('c', 2), ('b', 3)]\n",
      "ic> s2: [('a', 1), ('b', 3), ('c', 2)]\n",
      "ic> s3: {'a': 1, 'b': 3, 'c': 2}\n"
     ]
    },
    {
     "data": {
      "text/plain": [
       "{'a': 1, 'c': 2, 'b': 3}"
      ]
     },
     "execution_count": 30,
     "metadata": {},
     "output_type": "execute_result"
    }
   ],
   "source": [
    "# Ordered Dict\n",
    "\n",
    "# in python 3.7 order will be preserved, \n",
    "# but it's depends on dict implementation\n",
    "# see Hettinger's video.\n",
    "a = {'a':1, 'b':3, 'c':2}\n",
    "ic(a)\n",
    "\n",
    "# ordered dict helps to keep it really ordered\n",
    "from collections import OrderedDict\n",
    "b = OrderedDict(a)\n",
    "ic(b)\n",
    "\n",
    "# we also can use sorted to sort doctionary by value\n",
    "s1 = sorted(a.items(), key=lambda x: x[1])\n",
    "ic(s1)\n",
    "\n",
    "# or by key\n",
    "s2 = sorted(a.items(), key=lambda x: x[0])\n",
    "ic(s2)\n",
    "\n",
    "#  or usign comprehension\n",
    "s3 = {k:v for k, v in sorted(a.items(), key=lambda x: x[1], reverse=False)}\n",
    "ic(s3)"
   ]
  },
  {
   "cell_type": "markdown",
   "metadata": {},
   "source": [
    "### `collections.ChainMap`"
   ]
  },
  {
   "cell_type": "code",
   "execution_count": 32,
   "metadata": {
    "ExecuteTime": {
     "end_time": "2019-03-18T14:52:24.602551Z",
     "start_time": "2019-03-18T14:52:24.536686Z"
    }
   },
   "outputs": [
    {
     "name": "stdout",
     "output_type": "stream",
     "text": [
      "ic> options_source['option']: 'default_value'\n",
      "ic> options_source['nosuchoptions']: 'default_dictionaly_option_placeholder'\n",
      "ic> {**ChainMap(d1, d2)}: {'a': 1, 'b': 2, 'c': 3, 'd': 4}\n"
     ]
    },
    {
     "data": {
      "text/plain": [
       "{'c': 3, 'd': 4, 'a': 1, 'b': 2}"
      ]
     },
     "execution_count": 32,
     "metadata": {},
     "output_type": "execute_result"
    }
   ],
   "source": [
    "from collections import ChainMap\n",
    "from collections import defaultdict as DefaultDict\n",
    "\n",
    "# default options\n",
    "default_options = dict({\n",
    "    'option':'default_value'\n",
    "})\n",
    "\n",
    "# options from default dict\n",
    "custom_source = DefaultDict(lambda:\"default_dictionaly_option_placeholder\")\n",
    "custom_source['option'] = 'default_dict_option'\n",
    "\n",
    "options_source = ChainMap(default_options, custom_source)\n",
    "\n",
    "ic(options_source['option'])\n",
    "ic(options_source['nosuchoptions'])\n",
    "\n",
    "\n",
    "# merging dictionaries\n",
    "d1 = {'a': 1, 'b': 2}\n",
    "d2 = {'c': 3, 'd': 4}\n",
    " \n",
    "ic({**ChainMap(d1, d2)})"
   ]
  },
  {
   "cell_type": "markdown",
   "metadata": {},
   "source": [
    "### `collections.defaultdict`"
   ]
  },
  {
   "cell_type": "code",
   "execution_count": 28,
   "metadata": {
    "ExecuteTime": {
     "end_time": "2019-03-18T14:49:13.907600Z",
     "start_time": "2019-03-18T14:49:13.872378Z"
    }
   },
   "outputs": [
    {
     "name": "stdout",
     "output_type": "stream",
     "text": [
      "ic> my_dict.get('key_that_not_exists', []): []\n",
      "ic> collections.defaultdict(list)['key_that_not_exists']: []\n"
     ]
    },
    {
     "data": {
      "text/plain": [
       "[]"
      ]
     },
     "execution_count": 28,
     "metadata": {},
     "output_type": "execute_result"
    }
   ],
   "source": [
    "import collections \n",
    "\n",
    "my_dict = {}\n",
    "\n",
    "# default value (for value that not exists) is list\n",
    "ic(my_dict.get('key_that_not_exists', []))\n",
    "\n",
    "# with default dictionary\n",
    "ic(collections.defaultdict(list)['key_that_not_exists'])"
   ]
  },
  {
   "cell_type": "markdown",
   "metadata": {},
   "source": [
    "### `types.MappingProxyType`\n",
    "\n",
    "* https://www.python.org/dev/peps/pep-0416\n",
    "* https://docs.python.org/3/library/types.html"
   ]
  },
  {
   "cell_type": "code",
   "execution_count": 42,
   "metadata": {
    "ExecuteTime": {
     "end_time": "2019-03-18T15:07:59.622621Z",
     "start_time": "2019-03-18T15:07:59.576396Z"
    }
   },
   "outputs": [
    {
     "name": "stdout",
     "output_type": "stream",
     "text": [
      "ic> Colors: mappingproxy({'red': '#FF0000', 'green': '#008000'})\n",
      "ic> Colors.get('navy'): None\n",
      "ic> error_message: 'Cant Update frozen/proxy value of dictionary'\n"
     ]
    }
   ],
   "source": [
    "from types import MappingProxyType\n",
    "\n",
    "Colors = MappingProxyType({\n",
    "    'red'  : '#FF0000',\n",
    "    'green': '#008000',\n",
    "})\n",
    "\n",
    "# show colors\n",
    "ic(Colors)\n",
    "\n",
    "# unexisting key\n",
    "ic(Colors.get('navy'))\n",
    "\n",
    "# updating keys (shoudl fail)\n",
    "error_message = \"Cant Update frozen/proxy value of dictionary\"\n",
    "try:\n",
    "    Colors.update({'navy':'#000080'})\n",
    "except AttributeError:\n",
    "    ic(error_message)"
   ]
  },
  {
   "cell_type": "markdown",
   "metadata": {},
   "source": [
    "## Lists and Arrays"
   ]
  },
  {
   "cell_type": "markdown",
   "metadata": {},
   "source": [
    "### `list`"
   ]
  },
  {
   "cell_type": "markdown",
   "metadata": {
    "heading_collapsed": true
   },
   "source": [
    "### `bytes`\n",
    "\n",
    "`immutable` bytes sequence"
   ]
  },
  {
   "cell_type": "code",
   "execution_count": 41,
   "metadata": {
    "ExecuteTime": {
     "end_time": "2019-03-18T15:04:45.432001Z",
     "start_time": "2019-03-18T15:04:45.273907Z"
    },
    "hidden": true
   },
   "outputs": [
    {
     "name": "stdout",
     "output_type": "stream",
     "text": [
      "ic> b: b'literal'\n",
      "ic> b[1]: 105\n",
      "ic> b[0:3]: b'lit'\n",
      "ic> b'dots over \\xd1\\x96'.decode(): 'dots over і'\n",
      "ic> bytes(10): b'\\x00\\x00\\x00\\x00\\x00\\x00\\x00\\x00\\x00\\x00'\n",
      "ic> bytes(range(97, 97+26)): b'abcdefghijklmnopqrstuvwxyz'\n",
      "ic> bytes(\"dots over і\", 'utf8'): b'dots over \\xd1\\x96'\n"
     ]
    },
    {
     "data": {
      "text/plain": [
       "b'dots over \\xd1\\x96'"
      ]
     },
     "execution_count": 41,
     "metadata": {},
     "output_type": "execute_result"
    }
   ],
   "source": [
    "b = b'literal'\n",
    "# bytes literal - restricted to ascii symbols (except \\ and control codes)\n",
    "ic(b)\n",
    "\n",
    "# int (code at ascii) if indexing \n",
    "ic(b[1])\n",
    "\n",
    "# int (code at ascii) if indexing \n",
    "ic(b[0:3])\n",
    "\n",
    "# bytes to string convertion (with escape characters)\n",
    "ic(b'dots over \\xd1\\x96'.decode())\n",
    "\n",
    "# creating sequence qith zero value\n",
    "ic(bytes(10))\n",
    "\n",
    "# if initializer sequence of integers ...\n",
    "ic(bytes(range(97, 97+26)))\n",
    "\n",
    "# or sequence of utf8 aswell.\n",
    "ic(bytes(\"dots over і\", 'utf8'))"
   ]
  },
  {
   "cell_type": "markdown",
   "metadata": {
    "heading_collapsed": true
   },
   "source": [
    "### `bytearray`\n",
    "\n",
    "`mutable` bytes seqence"
   ]
  },
  {
   "cell_type": "code",
   "execution_count": null,
   "metadata": {
    "hidden": true
   },
   "outputs": [],
   "source": [
    "# Same way to initialize it was done with byte\n",
    "ic(bytearray())\n",
    "ic(bytearray(4))\n",
    "ic(bytearray(\"Dots over і.\", 'utf8'))\n",
    "\n",
    "# Mutating array\n",
    "b = bytearray(\"Dots over і.\", 'utf8')\n",
    "b.extend(bytes('I said put dots over i.', 'utf8'))\n",
    "ic(b)\n",
    "\n",
    "b[0:5] = b'Comas '\n",
    "ic(b)\n",
    "\n",
    "# bytes supports strings like opperations\n",
    "words = b\"Dont comes easy\"\n",
    "\n",
    "# text transform\n",
    "ic(words.upper())\n",
    "\n",
    "# text split to list\n",
    "ic(words.split())\n",
    "\n",
    "# and join it back\n",
    "ic(bytearray(b\" \").join(words.split()))"
   ]
  },
  {
   "cell_type": "markdown",
   "metadata": {
    "heading_collapsed": true
   },
   "source": [
    "### `array.array`\n",
    "\n",
    "`C`- types arrays"
   ]
  },
  {
   "cell_type": "code",
   "execution_count": 40,
   "metadata": {
    "ExecuteTime": {
     "end_time": "2019-03-18T15:03:18.372113Z",
     "start_time": "2019-03-18T15:03:18.285996Z"
    },
    "hidden": true
   },
   "outputs": [
    {
     "name": "stdout",
     "output_type": "stream",
     "text": [
      "ic> array('u', 'hello \\u2641'): array('u', 'hello ♁')\n",
      "ic> array('l', (1, 2, 3, 4, 5)): array('l', [1, 2, 3, 4, 5])\n",
      "ic> array('d', (1.0, 2.0, 3.14)): array('d', [1.0, 2.0, 3.14])\n",
      "ic> array('f', (1.0, 1.5, 2.0, 2.5)): array('f', [1.0, 1.5, 2.0, 2.5])\n"
     ]
    },
    {
     "data": {
      "text/plain": [
       "array('f', [1.0, 1.5, 2.0, 2.5])"
      ]
     },
     "execution_count": 40,
     "metadata": {},
     "output_type": "execute_result"
    }
   ],
   "source": [
    "# https://docs.python.org/3/library/array.html\n",
    "from array import array \n",
    "\n",
    "# Unicode (Py_UNICODE)\n",
    "ic(array('u', 'hello \\u2641'))\n",
    "\n",
    "# signed long\n",
    "ic(array('l', (1, 2, 3, 4, 5)))\n",
    "\n",
    "# doubles\n",
    "ic(array('d', (1.0, 2.0, 3.14)))\n",
    "\n",
    "# floats \n",
    "ic(array('f', (1.0, 1.5, 2.0, 2.5)))"
   ]
  },
  {
   "cell_type": "markdown",
   "metadata": {},
   "source": [
    "## Linked Lists, Heaps and Queues"
   ]
  },
  {
   "cell_type": "markdown",
   "metadata": {
    "heading_collapsed": true
   },
   "source": [
    "### `heapq`"
   ]
  },
  {
   "cell_type": "code",
   "execution_count": 24,
   "metadata": {
    "ExecuteTime": {
     "end_time": "2019-03-18T14:45:37.364498Z",
     "start_time": "2019-03-18T14:45:37.330219Z"
    },
    "hidden": true
   },
   "outputs": [
    {
     "name": "stdout",
     "output_type": "stream",
     "text": [
      "ic> pq.pop(): 'world'\n",
      "ic> pq.pop(): 'hello'\n"
     ]
    },
    {
     "data": {
      "text/plain": [
       "'hello'"
      ]
     },
     "execution_count": 24,
     "metadata": {},
     "output_type": "execute_result"
    }
   ],
   "source": [
    "import heapq\n",
    "\n",
    "# priority queue realization using heapqueue\n",
    "class PriorityQueue(object):\n",
    "    def __init__(self):\n",
    "        self._q = []\n",
    "\n",
    "    def add(self, value, priority=0):\n",
    "        heapq.heappush(self._q, (priority, value))\n",
    "\n",
    "    def pop(self):\n",
    "        return heapq.heappop(self._q)[-1]\n",
    "    \n",
    "pq = PriorityQueue()\n",
    "pq.add(\"hello\", priority=2)\n",
    "pq.add(\"world\", priority=1)\n",
    "ic(pq.pop())\n",
    "ic(pq.pop())"
   ]
  },
  {
   "cell_type": "code",
   "execution_count": null,
   "metadata": {
    "hidden": true
   },
   "outputs": [],
   "source": [
    "### `queue.PriorityQueue`"
   ]
  },
  {
   "cell_type": "markdown",
   "metadata": {
    "heading_collapsed": true
   },
   "source": [
    "### `queue.deque`"
   ]
  },
  {
   "cell_type": "code",
   "execution_count": 34,
   "metadata": {
    "ExecuteTime": {
     "end_time": "2019-03-18T14:54:06.203152Z",
     "start_time": "2019-03-18T14:54:05.989990Z"
    },
    "hidden": true
   },
   "outputs": [
    {
     "name": "stdout",
     "output_type": "stream",
     "text": [
      "ic> d: deque(['one', 'two', 'three'])\n",
      "ic> d: deque(['one', 'two', 'three', 'four'])\n",
      "ic> d.remove(\"three\"): None\n",
      "ic> d: deque(['one', 'two', 'four'])\n",
      "ic> d: deque(['one', 'two', 'four', 'dva', 'try', 'chotyry'])\n",
      "ic> d: deque(['si', 'san', 'ni', 'iti', 'one', 'two', 'four', 'dva', 'try', 'chotyry'])\n",
      "ic> d: deque(['zero', 'si', 'san', 'ni', 'iti', 'one', 'two', 'four', 'dva', 'try', 'chotyry'])\n",
      "ic> d_poped: 'chotyry'\n",
      "ic> d_popedleft: 'zero'\n",
      "ic> d: deque(['si', 'san', 'ni', 'iti', 'one', 'two', 'four', 'dva', 'try'])\n",
      "ic> d: deque(['dva', 'try', 'si', 'san', 'ni', 'iti', 'one', 'two', 'four'])\n"
     ]
    },
    {
     "data": {
      "text/plain": [
       "deque(['dva', 'try', 'si', 'san', 'ni', 'iti', 'one', 'two', 'four'])"
      ]
     },
     "execution_count": 34,
     "metadata": {},
     "output_type": "execute_result"
    }
   ],
   "source": [
    "import collections \n",
    "\n",
    "d = collections.deque([\"one\", \"two\", \"three\"])\n",
    "ic(d)\n",
    " \n",
    "d.append(\"four\")\n",
    "ic(d)\n",
    "\n",
    "ic(d.remove(\"three\"))\n",
    "ic(d)\n",
    "\n",
    "d.extend([\"dva\", \"try\", \"chotyry\"])\n",
    "ic(d)\n",
    "\n",
    "d.extendleft([\"iti\", \"ni\", \"san\", \"si\"])\n",
    "ic(d)\n",
    "\n",
    "\n",
    "d.appendleft(\"zero\")\n",
    "ic(d)\n",
    "\n",
    "d_poped = d.pop()\n",
    "ic(d_poped)\n",
    "\n",
    "d_popedleft = d.popleft()\n",
    "ic(d_popedleft)\n",
    "\n",
    "# rotatiob\n",
    "ic(d)\n",
    "d.rotate(2)\n",
    "ic(d)"
   ]
  },
  {
   "cell_type": "code",
   "execution_count": null,
   "metadata": {
    "hidden": true
   },
   "outputs": [],
   "source": []
  },
  {
   "cell_type": "markdown",
   "metadata": {},
   "source": [
    "## Sets"
   ]
  },
  {
   "cell_type": "markdown",
   "metadata": {
    "heading_collapsed": true
   },
   "source": [
    "### `set`"
   ]
  },
  {
   "cell_type": "code",
   "execution_count": 39,
   "metadata": {
    "ExecuteTime": {
     "end_time": "2019-03-18T15:00:38.508465Z",
     "start_time": "2019-03-18T15:00:38.467810Z"
    },
    "hidden": true
   },
   "outputs": [
    {
     "name": "stdout",
     "output_type": "stream",
     "text": [
      "ic> s: {1, 2, 3}\n",
      "ic> s: {19, 1, 2, 3}\n",
      "ic> s & set([2, 19]): {2, 19}\n"
     ]
    },
    {
     "data": {
      "text/plain": [
       "{2, 19}"
      ]
     },
     "execution_count": 39,
     "metadata": {},
     "output_type": "execute_result"
    }
   ],
   "source": [
    "s = set([1,2,1,2,3,1])\n",
    "ic(s)\n",
    "\n",
    "s.add(19)\n",
    "s.add(19)\n",
    "ic(s)\n",
    "\n",
    "# intersection\n",
    "ic(s & set([2, 19]))"
   ]
  },
  {
   "cell_type": "code",
   "execution_count": null,
   "metadata": {
    "hidden": true
   },
   "outputs": [],
   "source": [
    "### `frozenset`"
   ]
  },
  {
   "cell_type": "markdown",
   "metadata": {},
   "source": [
    "### `collections.Counter`"
   ]
  },
  {
   "cell_type": "code",
   "execution_count": 3,
   "metadata": {
    "ExecuteTime": {
     "end_time": "2019-05-10T12:04:04.219710Z",
     "start_time": "2019-05-10T12:04:03.972584Z"
    }
   },
   "outputs": [
    {
     "name": "stdout",
     "output_type": "stream",
     "text": [
      "ic> c0: Counter({'dos': 2, 'uno': 1})\n",
      "ic> c1: Counter({'uno': 1})\n",
      "ic> c2.most_common(): [('peaches', 10), ('apples', 3)]\n",
      "ic> c3.most_common(2): [('un', 1), ('dos', 1)]\n",
      "ic> list(c3.elements()): ['un', 'dos', 'tres', 'quatro', 'cinco', 'seis', 'siete']\n",
      "ic> list(c3): ['un', 'dos', 'tres', 'quatro', 'cinco', 'seis', 'siete']\n",
      "ic> c4: Counter({'dos': 2, 'tres': 1, 'cinco': 1, 'seis': 1, 'ocho': 0})\n",
      "ic> c4.elements(): <itertools.chain object at 0x103b8b6a0>\n",
      "ic> c4+c3: Counter({'dos': 3, 'tres': 2, 'cinco': 2, 'seis': 2, 'un': 1, 'quatro': 1, 'siete': 1})\n",
      "ic> c4: Counter({'dos': 2, 'tres': 1, 'cinco': 1, 'seis': 1, 'ocho': 0})\n",
      "ic> c3: Counter({'un': 1, 'dos': 1, 'tres': 1, 'quatro': 1, 'cinco': 1, 'seis': 1, 'siete': 1})\n",
      "ic> c4-c3: Counter({'dos': 1})\n",
      "ic> c3-c4: Counter({'un': 1, 'quatro': 1, 'siete': 1})\n",
      "ic> c3|c4: Counter({'dos': 2, 'un': 1, 'tres': 1, 'quatro': 1, 'cinco': 1, 'seis': 1, 'siete': 1})\n",
      "ic> c3&c4: Counter({'dos': 1, 'tres': 1, 'cinco': 1, 'seis': 1})\n"
     ]
    },
    {
     "data": {
      "text/plain": [
       "Counter({'dos': 1, 'tres': 1, 'cinco': 1, 'seis': 1})"
      ]
     },
     "execution_count": 3,
     "metadata": {},
     "output_type": "execute_result"
    }
   ],
   "source": [
    "# collections.Counter example\n",
    "\n",
    "from collections import Counter\n",
    "\n",
    "c0 = Counter({'uno':1, 'dos':2});\n",
    "ic(c0)\n",
    "\n",
    "c1 = Counter(uno=1)\n",
    "ic(c1)\n",
    "\n",
    "c2 = Counter();\n",
    "c2['apples'] += 1\n",
    "c2['apples'] += 2\n",
    "c2['peaches'] += 10\n",
    "\n",
    "# Most Common Elements (sorted by `count`)\n",
    "ic(c2.most_common())\n",
    "\n",
    "# Counter Example\n",
    "c3 = Counter()\n",
    "lipsum = \"Un dos tres quatro cinco seis siete\"\n",
    "words = [w.strip(\".,\") for w in lipsum.lower().split(' ')]   \n",
    "for word in words:\n",
    "    c3[word]+=1\n",
    "\n",
    "ic(c3.most_common(2))\n",
    "\n",
    "# List\n",
    "ic(list(c3.elements()))\n",
    "\n",
    "# Unique Elements\n",
    "ic(list(c3))\n",
    "\n",
    "# Additoional methods\n",
    "c4 = Counter([\"dos\"])\n",
    "c4.update([\"dos\", \"tres\", \"cinco\", \"seis\", \"ocho\"])\n",
    "c4.subtract([\"ocho\"])\n",
    "ic(c4) \n",
    "\n",
    "# background implementation - itertools chain\n",
    "ic(c4.elements())\n",
    "\n",
    "# adding counters\n",
    "ic(c4+c3)\n",
    "\n",
    "\n",
    "ic(c4)\n",
    "ic(c3)\n",
    "# subtraction\n",
    "ic(c4-c3)\n",
    "ic(c3-c4)\n",
    "\n",
    "# maximum value (union)\n",
    "ic(c3|c4)\n",
    "\n",
    "# minimum value (intersection)\n",
    "ic(c3&c4)"
   ]
  },
  {
   "cell_type": "markdown",
   "metadata": {},
   "source": [
    "## Tuples"
   ]
  },
  {
   "cell_type": "markdown",
   "metadata": {
    "heading_collapsed": true
   },
   "source": [
    "### tuple\n",
    "\n",
    "`immutable` sequence (except if it contains `list`)"
   ]
  },
  {
   "cell_type": "code",
   "execution_count": 26,
   "metadata": {
    "ExecuteTime": {
     "end_time": "2019-03-18T14:47:29.481977Z",
     "start_time": "2019-03-18T14:47:29.476062Z"
    },
    "hidden": true
   },
   "outputs": [
    {
     "name": "stderr",
     "output_type": "stream",
     "text": [
      "Error:  'tuple' object does not support item assignment\n"
     ]
    }
   ],
   "source": [
    "one = \"uno\"\n",
    "dos = \"two\"\n",
    "t = (one, dos)\n",
    "\n",
    "try:\n",
    "    t[1] = \"dva\"\n",
    "except TypeError as e:\n",
    "    print(\"Error: \", e, file=sys.stderr)"
   ]
  },
  {
   "cell_type": "markdown",
   "metadata": {
    "heading_collapsed": true
   },
   "source": [
    "### `collections.namedtuple`"
   ]
  },
  {
   "cell_type": "code",
   "execution_count": 27,
   "metadata": {
    "ExecuteTime": {
     "end_time": "2019-03-18T14:48:42.559472Z",
     "start_time": "2019-03-18T14:48:42.505441Z"
    },
    "hidden": true
   },
   "outputs": [
    {
     "name": "stdout",
     "output_type": "stream",
     "text": [
      "ic> Car._fields: ('color', 'engine')\n",
      "ic> redSubaru: Auto(color='red', engine='3.6Turbo')\n",
      "ic> json.dumps(redSubaru._asdict()): '{\"color\": \"red\", \"engine\": \"3.6Turbo\"}'\n",
      "ic> Car._make((\"red\", \"turbo\")): Auto(color='red', engine='turbo')\n"
     ]
    },
    {
     "data": {
      "text/plain": [
       "Auto(color='red', engine='turbo')"
      ]
     },
     "execution_count": 27,
     "metadata": {},
     "output_type": "execute_result"
    }
   ],
   "source": [
    "import collections, json \n",
    "\n",
    "Car = collections.namedtuple('Auto' , 'color engine')\n",
    "# Is Creates class Auto with a fields 'color' and 'engine' and\n",
    "# instanciate it to Car variable\n",
    "redSubaru = Car(\"red\", \"3.6Turbo\")\n",
    "ic(Car._fields)\n",
    "\n",
    "\n",
    "# And you can instantiate class with wraper implementing custom methods\n",
    "class CarMethods(Car):\n",
    "    def hex(self):\n",
    "        return ('#000', \"#f00\")[self.color != \"red\"]\n",
    "\n",
    "# replace value\n",
    "redSubaru._replace(color=\"#000\")\n",
    "ic(redSubaru)\n",
    "\n",
    "# show tuple as dictionary\n",
    "ic(json.dumps(redSubaru._asdict()))\n",
    "\n",
    "# and finaly - factory\n",
    "ic(Car._make((\"red\", \"turbo\")))\n"
   ]
  },
  {
   "cell_type": "markdown",
   "metadata": {},
   "source": [
    "## Enum"
   ]
  },
  {
   "cell_type": "markdown",
   "metadata": {
    "heading_collapsed": true
   },
   "source": [
    "### `enum.IntEnum`"
   ]
  },
  {
   "cell_type": "code",
   "execution_count": 23,
   "metadata": {
    "ExecuteTime": {
     "end_time": "2019-03-18T14:44:19.080078Z",
     "start_time": "2019-03-18T14:44:19.058932Z"
    },
    "hidden": true
   },
   "outputs": [
    {
     "name": "stdout",
     "output_type": "stream",
     "text": [
      "ic> RequestType.POST: <RequestType.POST: 1>\n"
     ]
    },
    {
     "data": {
      "text/plain": [
       "<RequestType.POST: 1>"
      ]
     },
     "execution_count": 23,
     "metadata": {},
     "output_type": "execute_result"
    }
   ],
   "source": [
    "from enum import IntEnum\n",
    "\n",
    "class RequestType(IntEnum):\n",
    "    POST = 1\n",
    "    GET = 2\n",
    "\n",
    "request_type = RequestType.POST\n",
    "ic(RequestType.POST)"
   ]
  },
  {
   "cell_type": "code",
   "execution_count": null,
   "metadata": {
    "hidden": true
   },
   "outputs": [],
   "source": []
  },
  {
   "cell_type": "code",
   "execution_count": null,
   "metadata": {
    "hidden": true
   },
   "outputs": [],
   "source": []
  },
  {
   "cell_type": "markdown",
   "metadata": {
    "hidden": true
   },
   "source": [
    "-------"
   ]
  },
  {
   "cell_type": "markdown",
   "metadata": {
    "ExecuteTime": {
     "end_time": "2019-03-18T14:50:03.932608Z",
     "start_time": "2019-03-18T14:50:03.929374Z"
    }
   },
   "source": [
    "## rework"
   ]
  },
  {
   "cell_type": "markdown",
   "metadata": {},
   "source": [
    "-----"
   ]
  },
  {
   "cell_type": "markdown",
   "metadata": {
    "ExecuteTime": {
     "end_time": "2019-03-03T15:34:17.363427Z",
     "start_time": "2019-03-03T15:34:17.356220Z"
    },
    "hideCode": false,
    "hidePrompt": false
   },
   "source": [
    "## `dataclasses.dataclass` \n",
    "\n",
    "* [Dataclasses: The code generator to end all code generators - PyCon 2018](https://www.youtube.com/watch?v=T-TwcmT6Rcw) by Raymond Hettinger [slides](https://www.dropbox.com/s/te4q0xf46zkuu21/hettinger_dataclasses_pycon_2018.zip), [pdf](https://www.dropbox.com/s/m8pwkkz43qz5pgt/HettingerPycon2018.pdf)"
   ]
  },
  {
   "cell_type": "code",
   "execution_count": 5,
   "metadata": {
    "ExecuteTime": {
     "end_time": "2019-03-17T09:09:19.050111Z",
     "start_time": "2019-03-17T09:09:18.877508Z"
    },
    "hideCode": false,
    "hidePrompt": false
   },
   "outputs": [
    {
     "name": "stdout",
     "output_type": "stream",
     "text": [
      "ic> Person: <class '__main__.Person'>\n",
      "ic> Person: <class '__main__.Person'>\n",
      "ic> type(Person): <class 'type'>\n",
      "ic> p1: Person(given_name='Persona', family_name='Aname', birth_date=None, email_address=None)\n",
      "ic> p2: Person(given_name='Personica', family_name='Bname', birth_date=None, email_address='bname@gmail.com')\n",
      "ic> 'p1 == p2 ... %s' % (p1 == p2): 'p1 == p2 ... False'\n",
      "ic> 'p1 != p2 ... %s' % (p1 != p2): 'p1 != p2 ... True'\n",
      "ic> 'p1 < p2 .... %s' % (p1 < p2): 'p1 < p2 .... True'\n",
      "ic> 'p1 <= p2 ... %s' % (p1 <= p2): 'p1 <= p2 ... True'\n",
      "ic> 'p1 > p2 .... %s' % (p1 > p2): 'p1 > p2 .... False'\n",
      "ic> 'p1 >= p2 ... %s' % (p1 >= p2): 'p1 >= p2 ... False'\n"
     ]
    },
    {
     "data": {
      "text/plain": [
       "'p1 >= p2 ... False'"
      ]
     },
     "execution_count": 5,
     "metadata": {},
     "output_type": "execute_result"
    }
   ],
   "source": [
    "import dataclasses\n",
    "\n",
    "@dataclasses.dataclass(order=True)\n",
    "class Person:\n",
    "    \"\"\"\n",
    "A *very* basic representation of a person, created as a dataclass\n",
    "\"\"\"\n",
    "    given_name: str\n",
    "    family_name: str\n",
    "    birth_date: str = None\n",
    "    email_address: str = None\n",
    "        \n",
    "ic(Person)\n",
    "\n",
    "\n",
    "# - Classes defined as dataclasses are still classes...\n",
    "ic(Person)\n",
    "# - They still appear as normal \"type\" types\n",
    "ic(type(Person))\n",
    "# - They have additional members\n",
    "# ic('__annotations__ ........ %s' % Person.__annotations__)\n",
    "# ic('__dataclass_fields__ ... %s' % Person.__dataclass_fields__)\n",
    "# ic('__dataclass_params__ ... %s' % Person.__dataclass_params__)\n",
    "\n",
    "# - And have some that have default implementations provided:\n",
    "p1 = Person('Persona', 'Aname')\n",
    "ic(p1)\n",
    "\n",
    "p2 = Person('Personica', 'Bname', None, 'bname@gmail.com')\n",
    "ic(p2)\n",
    "\n",
    "# - order=True has to be passed as an argument to the \n",
    "#   dataclass decorator for these to work:\n",
    "ic('p1 == p2 ... %s' % (p1 == p2))\n",
    "ic('p1 != p2 ... %s' % (p1 != p2))\n",
    "ic('p1 < p2 .... %s' % (p1 < p2))\n",
    "ic('p1 <= p2 ... %s' % (p1 <= p2))\n",
    "ic('p1 > p2 .... %s' % (p1 > p2))\n",
    "ic('p1 >= p2 ... %s' % (p1 >= p2))\n",
    " "
   ]
  },
  {
   "attachments": {
    "image.png": {
     "image/png": "[encoded data removed]"
    }
   },
   "cell_type": "markdown",
   "metadata": {
    "ExecuteTime": {
     "end_time": "2019-03-10T14:41:45.811417Z",
     "start_time": "2019-03-10T14:41:45.801503Z"
    }
   },
   "source": [
    "![image.png](attachment:image.png)"
   ]
  },
  {
   "cell_type": "markdown",
   "metadata": {
    "hideCode": false,
    "hidePrompt": false
   },
   "source": [
    "## `@memoryview`"
   ]
  }
 ],
 "metadata": {
  "hide_code_all_hidden": false,
  "hide_input": false,
  "kernelspec": {
   "display_name": "Python 3",
   "language": "python",
   "name": "python3"
  },
  "language_info": {
   "codemirror_mode": {
    "name": "ipython",
    "version": 3
   },
   "file_extension": ".py",
   "mimetype": "text/x-python",
   "name": "python",
   "nbconvert_exporter": "python",
   "pygments_lexer": "ipython3",
   "version": "3.7.3"
  },
  "toc": {
   "base_numbering": 1,
   "nav_menu": {},
   "number_sections": false,
   "sideBar": true,
   "skip_h1_title": true,
   "title_cell": "Table of Contents",
   "title_sidebar": "Contents",
   "toc_cell": false,
   "toc_position": {
    "height": "calc(100% - 180px)",
    "left": "10px",
    "top": "150px",
    "width": "286px"
   },
   "toc_section_display": true,
   "toc_window_display": true
  }
 },
 "nbformat": 4,
 "nbformat_minor": 2
}
