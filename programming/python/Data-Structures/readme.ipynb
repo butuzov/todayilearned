{
 "cells": [
  {
   "cell_type": "code",
   "execution_count": 1,
   "metadata": {
    "ExecuteTime": {
     "end_time": "2019-03-03T15:18:22.922297Z",
     "start_time": "2019-03-03T15:18:22.849276Z"
    },
    "hideCode": false,
    "hidePrompt": false
   },
   "outputs": [],
   "source": [
    "#hide\n",
    "from icecream import ic  \n",
    "import sys, re\n",
    "\n",
    "def jupyter(*args): \n",
    "    print(*[re.sub(r\",\\s{1,}\", \", \", i.replace(\",\\n\", \", \")) for i in args], file=sys.stdout)\n",
    "    \n",
    "ic.configureOutput(prefix='ic> ', outputFunction=jupyter)"
   ]
  },
  {
   "cell_type": "markdown",
   "metadata": {
    "hideCode": false,
    "hidePrompt": false
   },
   "source": [
    "# Python Data Structures & Types"
   ]
  },
  {
   "cell_type": "code",
   "execution_count": null,
   "metadata": {
    "hideCode": false,
    "hidePrompt": false
   },
   "outputs": [],
   "source": []
  },
  {
   "cell_type": "markdown",
   "metadata": {
    "hideCode": false,
    "hidePrompt": false
   },
   "source": [
    "## Dicts"
   ]
  },
  {
   "cell_type": "markdown",
   "metadata": {
    "ExecuteTime": {
     "end_time": "2019-03-03T14:12:01.097990Z",
     "start_time": "2019-03-03T14:12:01.094567Z"
    },
    "hideCode": false,
    "hidePrompt": false
   },
   "source": [
    "### @ `dict`\n",
    "\n",
    "Dictionary, default Python's hashmap type.\n",
    "\n",
    "**Talks**:\n",
    "* [Modern Python Dictionaries - A confluence of a dozen great ideas (PyCon 2017)](https://www.youtube.com/watch?v=npw4s1QTmPg) by Raymond Hettinger"
   ]
  },
  {
   "cell_type": "code",
   "execution_count": 2,
   "metadata": {
    "ExecuteTime": {
     "end_time": "2019-03-03T15:18:23.197559Z",
     "start_time": "2019-03-03T15:18:22.926062Z"
    }
   },
   "outputs": [
    {
     "name": "stdout",
     "output_type": "stream",
     "text": [
      "ic> xs: {'a': 1, 'b': 3, 'c': 2}\n",
      "ic> dict(xs, **ys): {'a': 1, 'b': 3, 'c': 2, 'x': 5, 'y': 1, 'z': 9}\n",
      "ic> {**xs, **ys}: {'a': 1, 'b': 3, 'c': 2, 'x': 5, 'y': 1, 'z': 9}\n"
     ]
    },
    {
     "data": {
      "text/plain": [
       "{'a': 1, 'b': 3, 'c': 2, 'z': 9, 'y': 1, 'x': 5}"
      ]
     },
     "execution_count": 2,
     "metadata": {},
     "output_type": "execute_result"
    }
   ],
   "source": [
    "ys={'z':9, 'y':1, 'x':5}\n",
    "xs={'a':1, 'b':3, 'c':2}\n",
    "ic(xs)\n",
    "\n",
    "# Merging Dictionaries\n",
    "# pre python 3.5\n",
    "ic(dict(xs, **ys))\n",
    "\n",
    "# post python 3.5\n",
    "ic({**xs, **ys})"
   ]
  },
  {
   "cell_type": "markdown",
   "metadata": {
    "ExecuteTime": {
     "end_time": "2019-03-03T15:34:17.363427Z",
     "start_time": "2019-03-03T15:34:17.356220Z"
    }
   },
   "source": [
    "## `dataclasses.dataclass`"
   ]
  },
  {
   "cell_type": "code",
   "execution_count": 23,
   "metadata": {
    "ExecuteTime": {
     "end_time": "2019-03-03T15:47:29.026682Z",
     "start_time": "2019-03-03T15:47:28.870508Z"
    }
   },
   "outputs": [
    {
     "name": "stdout",
     "output_type": "stream",
     "text": [
      "ic> Person: <class '__main__.Person'>\n",
      "ic> Person: <class '__main__.Person'>\n",
      "ic> type(Person): <class 'type'>\n",
      "ic> p1: Person(given_name='Persona', family_name='Aname', birth_date=None, email_address=None)\n",
      "ic> p2: Person(given_name='Personica', family_name='Bname', birth_date=None, email_address='bname@gmail.com')\n",
      "ic> 'p1 == p2 ... %s' % (p1 == p2): 'p1 == p2 ... False'\n",
      "ic> 'p1 != p2 ... %s' % (p1 != p2): 'p1 != p2 ... True'\n",
      "ic> 'p1 < p2 .... %s' % (p1 < p2): 'p1 < p2 .... True'\n",
      "ic> 'p1 <= p2 ... %s' % (p1 <= p2): 'p1 <= p2 ... True'\n",
      "ic> 'p1 > p2 .... %s' % (p1 > p2): 'p1 > p2 .... False'\n",
      "ic> 'p1 >= p2 ... %s' % (p1 >= p2): 'p1 >= p2 ... False'\n"
     ]
    },
    {
     "data": {
      "text/plain": [
       "'p1 >= p2 ... False'"
      ]
     },
     "execution_count": 23,
     "metadata": {},
     "output_type": "execute_result"
    }
   ],
   "source": [
    "import dataclasses\n",
    "\n",
    "@dataclasses.dataclass(order=True)\n",
    "class Person:\n",
    "    \"\"\"\n",
    "A *very* basic representation of a person, created as a dataclass\n",
    "\"\"\"\n",
    "    given_name: str\n",
    "    family_name: str\n",
    "    birth_date: str = None\n",
    "    email_address: str = None\n",
    "        \n",
    "ic(Person)\n",
    "\n",
    "\n",
    "# - Classes defined as dataclasses are still classes...\n",
    "ic(Person)\n",
    "# - They still appear as normal \"type\" types\n",
    "ic(type(Person))\n",
    "# - They have additional members\n",
    "# ic('__annotations__ ........ %s' % Person.__annotations__)\n",
    "# ic('__dataclass_fields__ ... %s' % Person.__dataclass_fields__)\n",
    "# ic('__dataclass_params__ ... %s' % Person.__dataclass_params__)\n",
    "\n",
    "# - And have some that have default implementations provided:\n",
    "p1 = Person('Persona', 'Aname')\n",
    "ic(p1)\n",
    "\n",
    "p2 = Person('Personica', 'Bname', None, 'bname@gmail.com')\n",
    "ic(p2)\n",
    "\n",
    "# - order=True has to be passed as an argument to the \n",
    "#   dataclass decorator for these to work:\n",
    "ic('p1 == p2 ... %s' % (p1 == p2))\n",
    "ic('p1 != p2 ... %s' % (p1 != p2))\n",
    "ic('p1 < p2 .... %s' % (p1 < p2))\n",
    "ic('p1 <= p2 ... %s' % (p1 <= p2))\n",
    "ic('p1 > p2 .... %s' % (p1 > p2))\n",
    "ic('p1 >= p2 ... %s' % (p1 >= p2))\n",
    " "
   ]
  },
  {
   "cell_type": "markdown",
   "metadata": {
    "hideCode": false,
    "hidePrompt": false
   },
   "source": [
    "### `collections.OrderedDict`"
   ]
  },
  {
   "cell_type": "code",
   "execution_count": 3,
   "metadata": {
    "ExecuteTime": {
     "end_time": "2019-03-03T15:18:23.297875Z",
     "start_time": "2019-03-03T15:18:23.201466Z"
    },
    "hideCode": false,
    "hidePrompt": false
   },
   "outputs": [
    {
     "name": "stdout",
     "output_type": "stream",
     "text": [
      "ic> a: {'a': 1, 'b': 3, 'c': 2}\n",
      "ic> b: OrderedDict([('a', 1), ('b', 3), ('c', 2)])\n",
      "ic> s1: [('a', 1), ('c', 2), ('b', 3)]\n",
      "ic> s2: [('a', 1), ('b', 3), ('c', 2)]\n",
      "ic> s3: {'a': 1, 'b': 3, 'c': 2}\n"
     ]
    },
    {
     "data": {
      "text/plain": [
       "{'a': 1, 'c': 2, 'b': 3}"
      ]
     },
     "execution_count": 3,
     "metadata": {},
     "output_type": "execute_result"
    }
   ],
   "source": [
    "# Ordered Dict\n",
    "\n",
    "# in python 3.7 order will be preserved, \n",
    "# but it's depends on dict implementation\n",
    "# see Hettinger's video.\n",
    "a = {'a':1, 'b':3, 'c':2}\n",
    "ic(a)\n",
    "\n",
    "# ordered dict helps to keep it really ordered\n",
    "from collections import OrderedDict\n",
    "b = OrderedDict(a)\n",
    "ic(b)\n",
    "\n",
    "# we also can use sorted to sort doctionary by value\n",
    "s1 = sorted(a.items(), key=lambda x: x[1])\n",
    "ic(s1)\n",
    "\n",
    "# or by key\n",
    "s2 = sorted(a.items(), key=lambda x: x[0])\n",
    "ic(s2)\n",
    "\n",
    "#  or usign comprehension\n",
    "s3 = {k:v for k, v in sorted(a.items(), key=lambda x: x[1], reverse=False)}\n",
    "ic(s3)"
   ]
  },
  {
   "cell_type": "markdown",
   "metadata": {
    "hideCode": false,
    "hidePrompt": false
   },
   "source": [
    "###  `collections.defaultdict`"
   ]
  },
  {
   "cell_type": "code",
   "execution_count": 4,
   "metadata": {
    "ExecuteTime": {
     "end_time": "2019-03-03T15:18:23.347126Z",
     "start_time": "2019-03-03T15:18:23.302755Z"
    }
   },
   "outputs": [
    {
     "name": "stdout",
     "output_type": "stream",
     "text": [
      "ic> my_dict.get('key_that_not_exists', []): []\n",
      "ic> collections.defaultdict(list)['key_that_not_exists']: []\n"
     ]
    },
    {
     "data": {
      "text/plain": [
       "[]"
      ]
     },
     "execution_count": 4,
     "metadata": {},
     "output_type": "execute_result"
    }
   ],
   "source": [
    "import collections \n",
    "\n",
    "my_dict = {}\n",
    "\n",
    "# default value (for value that not exists) is list\n",
    "ic(my_dict.get('key_that_not_exists', []))\n",
    "\n",
    "# with default dictionary\n",
    "ic(collections.defaultdict(list)['key_that_not_exists'])"
   ]
  },
  {
   "cell_type": "markdown",
   "metadata": {
    "heading_collapsed": true,
    "hideCode": false,
    "hidePrompt": false
   },
   "source": [
    "### @`collections.ChainMap`"
   ]
  },
  {
   "cell_type": "markdown",
   "metadata": {
    "heading_collapsed": true,
    "hideCode": false,
    "hidePrompt": false
   },
   "source": [
    "### `types.MappingProxyType`\n",
    "\n",
    "* https://www.python.org/dev/peps/pep-0416\n",
    "* https://docs.python.org/3/library/types.html"
   ]
  },
  {
   "cell_type": "code",
   "execution_count": 5,
   "metadata": {
    "ExecuteTime": {
     "end_time": "2019-03-03T15:18:23.429166Z",
     "start_time": "2019-03-03T15:18:23.352406Z"
    },
    "hidden": true,
    "hideCode": false,
    "hidePrompt": false
   },
   "outputs": [
    {
     "name": "stdout",
     "output_type": "stream",
     "text": [
      "ic> Colors: mappingproxy({'red': '#FF0000', 'green': '#008000'})\n",
      "ic> Colors.get('navy'): None\n",
      "ic> error_message: 'Cant Update frozen/proxy value of dictionary'\n"
     ]
    }
   ],
   "source": [
    "from types import MappingProxyType\n",
    "\n",
    "Colors = MappingProxyType({\n",
    "    'red'  : '#FF0000',\n",
    "    'green': '#008000',\n",
    "})\n",
    "\n",
    "# show colors\n",
    "ic(Colors)\n",
    "\n",
    "# unexisting key\n",
    "ic(Colors.get('navy'))\n",
    "\n",
    "# updating keys (shoudl fail)\n",
    "error_message = \"Cant Update frozen/proxy value of dictionary\"\n",
    "try:\n",
    "    Colors.update({'navy':'#000080'})\n",
    "except AttributeError:\n",
    "    ic(error_message)"
   ]
  },
  {
   "cell_type": "markdown",
   "metadata": {
    "heading_collapsed": true,
    "hideCode": false,
    "hidePrompt": false
   },
   "source": [
    "### struct.Struct"
   ]
  },
  {
   "cell_type": "code",
   "execution_count": 6,
   "metadata": {
    "ExecuteTime": {
     "end_time": "2019-03-03T15:18:23.475062Z",
     "start_time": "2019-03-03T15:18:23.434364Z"
    },
    "hidden": true,
    "hideCode": false,
    "hidePrompt": false
   },
   "outputs": [
    {
     "name": "stdout",
     "output_type": "stream",
     "text": [
      "ic> compact_data: b'\\x17\\x00\\x00\\x00\\x00\\x00\\x00\\x00\\x00\\x00(B'\n",
      "ic> MyStruct.unpack(compact_data): (23, False, 42.0)\n"
     ]
    },
    {
     "data": {
      "text/plain": [
       "(23, False, 42.0)"
      ]
     },
     "execution_count": 6,
     "metadata": {},
     "output_type": "execute_result"
    }
   ],
   "source": [
    "# Struct\n",
    "# https://docs.python.org/3/library/struct.html\n",
    "\n",
    "from struct import Struct\n",
    "\n",
    "MyStruct = Struct('i?f')\n",
    "compact_data = MyStruct.pack(23, False, 42.0)\n",
    "ic(compact_data)\n",
    "# and unpacking\n",
    "ic(MyStruct.unpack(compact_data))"
   ]
  },
  {
   "cell_type": "markdown",
   "metadata": {
    "heading_collapsed": true,
    "hideCode": false,
    "hidePrompt": false
   },
   "source": [
    "### `array.array`\n",
    "\n",
    "C-types arrays"
   ]
  },
  {
   "cell_type": "code",
   "execution_count": 7,
   "metadata": {
    "ExecuteTime": {
     "end_time": "2019-03-03T15:18:23.555167Z",
     "start_time": "2019-03-03T15:18:23.479737Z"
    },
    "hidden": true,
    "hideCode": false,
    "hidePrompt": false
   },
   "outputs": [
    {
     "name": "stdout",
     "output_type": "stream",
     "text": [
      "ic> array('u', 'hello \\u2641'): array('u', 'hello ♁')\n",
      "ic> array('l', (1, 2, 3, 4, 5)): array('l', [1, 2, 3, 4, 5])\n",
      "ic> array('d', (1.0, 2.0, 3.14)): array('d', [1.0, 2.0, 3.14])\n",
      "ic> array('f', (1.0, 1.5, 2.0, 2.5)): array('f', [1.0, 1.5, 2.0, 2.5])\n"
     ]
    },
    {
     "data": {
      "text/plain": [
       "array('f', [1.0, 1.5, 2.0, 2.5])"
      ]
     },
     "execution_count": 7,
     "metadata": {},
     "output_type": "execute_result"
    }
   ],
   "source": [
    "# https://docs.python.org/3/library/array.html\n",
    "from array import array \n",
    "\n",
    "# Unicode (Py_UNICODE)\n",
    "ic(array('u', 'hello \\u2641'))\n",
    "\n",
    "# signed long\n",
    "ic(array('l', (1, 2, 3, 4, 5)))\n",
    "\n",
    "# doubles\n",
    "ic(array('d', (1.0, 2.0, 3.14)))\n",
    "\n",
    "# floats \n",
    "ic(array('f', (1.0, 1.5, 2.0, 2.5)))"
   ]
  },
  {
   "cell_type": "markdown",
   "metadata": {
    "heading_collapsed": true,
    "hideCode": false,
    "hidePrompt": false
   },
   "source": [
    "### `bytes`\n",
    "\n",
    "`immutable` sequence of bytes"
   ]
  },
  {
   "cell_type": "code",
   "execution_count": 8,
   "metadata": {
    "ExecuteTime": {
     "end_time": "2019-03-03T15:18:23.695042Z",
     "start_time": "2019-03-03T15:18:23.564769Z"
    },
    "hidden": true,
    "hideCode": false,
    "hidePrompt": false
   },
   "outputs": [
    {
     "name": "stdout",
     "output_type": "stream",
     "text": [
      "ic> b: b'literal'\n",
      "ic> b[1]: 105\n",
      "ic> b[0:3]: b'lit'\n",
      "ic> b'dots over \\xd1\\x96'.decode(): 'dots over і'\n",
      "ic> bytes(10): b'\\x00\\x00\\x00\\x00\\x00\\x00\\x00\\x00\\x00\\x00'\n",
      "ic> bytes(range(97, 97+26)): b'abcdefghijklmnopqrstuvwxyz'\n",
      "ic> bytes(\"dots over і\", 'utf8'): b'dots over \\xd1\\x96'\n"
     ]
    },
    {
     "data": {
      "text/plain": [
       "b'dots over \\xd1\\x96'"
      ]
     },
     "execution_count": 8,
     "metadata": {},
     "output_type": "execute_result"
    }
   ],
   "source": [
    "b = b'literal'\n",
    "# bytes literal - restricted to ascii symbols (except \\ and control codes)\n",
    "ic(b)\n",
    "\n",
    "# int (code at ascii) if indexing \n",
    "ic(b[1])\n",
    "\n",
    "# int (code at ascii) if indexing \n",
    "ic(b[0:3])\n",
    "\n",
    "# bytes to string convertion (with escape characters)\n",
    "ic(b'dots over \\xd1\\x96'.decode())\n",
    "\n",
    "# creating sequence qith zero value\n",
    "ic(bytes(10))\n",
    "\n",
    "# if initializer sequence of integers ...\n",
    "ic(bytes(range(97, 97+26)))\n",
    "\n",
    "# or sequence of utf8 aswell.\n",
    "ic(bytes(\"dots over і\", 'utf8'))"
   ]
  },
  {
   "cell_type": "markdown",
   "metadata": {
    "heading_collapsed": true,
    "hideCode": false,
    "hidePrompt": false
   },
   "source": [
    "### `bytearray`\n",
    "\n",
    "`mutable` byte array (like list)"
   ]
  },
  {
   "cell_type": "code",
   "execution_count": 9,
   "metadata": {
    "ExecuteTime": {
     "end_time": "2019-03-03T15:18:23.833118Z",
     "start_time": "2019-03-03T15:18:23.699852Z"
    },
    "hidden": true,
    "hideCode": false,
    "hidePrompt": false
   },
   "outputs": [
    {
     "name": "stdout",
     "output_type": "stream",
     "text": [
      "ic> bytearray(): bytearray(b'')\n",
      "ic> bytearray(4): bytearray(b'\\x00\\x00\\x00\\x00')\n",
      "ic> bytearray(\"Dots over і.\", 'utf8'): bytearray(b'Dots over \\xd1\\x96.')\n",
      "ic> b: bytearray(b'Dots over \\xd1\\x96.I said put dots over i.')\n",
      "ic> b: bytearray(b'Comas over \\xd1\\x96.I said put dots over i.')\n",
      "ic> words.upper(): b'DONT COMES EASY'\n",
      "ic> words.split(): [b'Dont', b'comes', b'easy']\n",
      "ic> bytearray(b\" \").join(words.split()): bytearray(b'Dont comes easy')\n"
     ]
    },
    {
     "data": {
      "text/plain": [
       "bytearray(b'Dont comes easy')"
      ]
     },
     "execution_count": 9,
     "metadata": {},
     "output_type": "execute_result"
    }
   ],
   "source": [
    "# Same way to initialize it was done with byte\n",
    "ic(bytearray())\n",
    "ic(bytearray(4))\n",
    "ic(bytearray(\"Dots over і.\", 'utf8'))\n",
    "\n",
    "# Mutating array\n",
    "b = bytearray(\"Dots over і.\", 'utf8')\n",
    "b.extend(bytes('I said put dots over i.', 'utf8'))\n",
    "ic(b)\n",
    "\n",
    "b[0:5] = b'Comas '\n",
    "ic(b)\n",
    "\n",
    "# bytes supports strings like opperations\n",
    "words = b\"Dont comes easy\"\n",
    "\n",
    "# text transform\n",
    "ic(words.upper())\n",
    "\n",
    "# text split to list\n",
    "ic(words.split())\n",
    "\n",
    "# and join it back\n",
    "ic(bytearray(b\" \").join(words.split()))"
   ]
  },
  {
   "cell_type": "markdown",
   "metadata": {
    "hideCode": false,
    "hidePrompt": false
   },
   "source": [
    "### @`memoryview`"
   ]
  },
  {
   "cell_type": "markdown",
   "metadata": {
    "hideCode": false,
    "hidePrompt": false
   },
   "source": [
    "### @`str`"
   ]
  },
  {
   "cell_type": "markdown",
   "metadata": {
    "hideCode": false,
    "hidePrompt": false
   },
   "source": [
    "### @`tuple`"
   ]
  },
  {
   "cell_type": "markdown",
   "metadata": {
    "hideCode": false,
    "hidePrompt": false
   },
   "source": [
    "### `collections.namedtuple`"
   ]
  },
  {
   "cell_type": "code",
   "execution_count": 10,
   "metadata": {
    "ExecuteTime": {
     "end_time": "2019-03-03T15:18:23.903960Z",
     "start_time": "2019-03-03T15:18:23.835856Z"
    },
    "hideCode": false,
    "hidePrompt": false
   },
   "outputs": [
    {
     "name": "stdout",
     "output_type": "stream",
     "text": [
      "ic> Car._fields: ('color', 'engine')\n",
      "ic> redSubaru: Auto(color='red', engine='3.6Turbo')\n",
      "ic> json.dumps(redSubaru._asdict()): '{\"color\": \"red\", \"engine\": \"3.6Turbo\"}'\n",
      "ic> Car._make((\"red\", \"turbo\")): Auto(color='red', engine='turbo')\n"
     ]
    },
    {
     "data": {
      "text/plain": [
       "Auto(color='red', engine='turbo')"
      ]
     },
     "execution_count": 10,
     "metadata": {},
     "output_type": "execute_result"
    }
   ],
   "source": [
    "import collections, json \n",
    "\n",
    "Car = collections.namedtuple('Auto' , 'color engine')\n",
    "# Is Creates class Auto with a fields 'color' and 'engine' and\n",
    "# instanciate it to Car variable\n",
    "redSubaru = Car(\"red\", \"3.6Turbo\")\n",
    "ic(Car._fields)\n",
    "\n",
    "\n",
    "# And you can instantiate class with wraper implementing custom methods\n",
    "class CarMethods(Car):\n",
    "    def hex(self):\n",
    "        return ('#000', \"#f00\")[self.color != \"red\"]\n",
    "\n",
    "# replace value\n",
    "redSubaru._replace(color=\"#000\")\n",
    "ic(redSubaru)\n",
    "\n",
    "# show tuple as dictionary\n",
    "ic(json.dumps(redSubaru._asdict()))\n",
    "\n",
    "# and finaly - factory\n",
    "ic(Car._make((\"red\", \"turbo\")))\n"
   ]
  },
  {
   "cell_type": "markdown",
   "metadata": {
    "heading_collapsed": true,
    "hideCode": false,
    "hidePrompt": false
   },
   "source": [
    "### `set`\n",
    "\n",
    "Well.. a `set` (unique set)"
   ]
  },
  {
   "cell_type": "code",
   "execution_count": 11,
   "metadata": {
    "ExecuteTime": {
     "end_time": "2019-03-03T15:18:23.967782Z",
     "start_time": "2019-03-03T15:18:23.906624Z"
    },
    "hidden": true,
    "hideCode": false,
    "hidePrompt": false
   },
   "outputs": [
    {
     "name": "stdout",
     "output_type": "stream",
     "text": [
      "ic> s: {1, 2, 3}\n",
      "ic> s: {19, 1, 2, 3}\n",
      "ic> s & set([2, 19]): {2, 19}\n"
     ]
    },
    {
     "data": {
      "text/plain": [
       "{2, 19}"
      ]
     },
     "execution_count": 11,
     "metadata": {},
     "output_type": "execute_result"
    }
   ],
   "source": [
    "s = set([1,2,1,2,3,1])\n",
    "ic(s)\n",
    "\n",
    "s.add(19)\n",
    "s.add(19)\n",
    "ic(s)\n",
    "\n",
    "# intersection\n",
    "ic(s & set([2, 19]))"
   ]
  },
  {
   "cell_type": "markdown",
   "metadata": {
    "ExecuteTime": {
     "end_time": "2019-03-03T14:22:56.228287Z",
     "start_time": "2019-03-03T14:22:56.223182Z"
    },
    "hideCode": false,
    "hidePrompt": false
   },
   "source": [
    "### @`frozenset`"
   ]
  },
  {
   "cell_type": "markdown",
   "metadata": {
    "heading_collapsed": true,
    "hideCode": false,
    "hidePrompt": false
   },
   "source": [
    "### `collections.Counter`"
   ]
  },
  {
   "cell_type": "code",
   "execution_count": 12,
   "metadata": {
    "ExecuteTime": {
     "end_time": "2019-03-03T15:18:24.046383Z",
     "start_time": "2019-03-03T15:18:23.971067Z"
    },
    "hidden": true,
    "hideCode": false,
    "hidePrompt": false
   },
   "outputs": [
    {
     "name": "stdout",
     "output_type": "stream",
     "text": [
      "ic> c1.most_common(): [('peaches', 10), ('apples', 3)]\n",
      "ic> c2.most_common(2): [('un', 1), ('dos', 1)]\n",
      "ic> list(c2.elements()): ['un', 'dos', 'tres', 'quatro', 'sinco', 'seis']\n",
      "ic> list(c2): ['un', 'dos', 'tres', 'quatro', 'sinco', 'seis']\n",
      "ic> c3: Counter({'dos': 2, 'tres': 1, 'sinco': 1, 'seis': 1, 'ocho': 0})\n"
     ]
    },
    {
     "data": {
      "text/plain": [
       "Counter({'dos': 2, 'tres': 1, 'sinco': 1, 'seis': 1, 'ocho': 0})"
      ]
     },
     "execution_count": 12,
     "metadata": {},
     "output_type": "execute_result"
    }
   ],
   "source": [
    "# collections.Counter example\n",
    "\n",
    "from collections import Counter\n",
    "\n",
    "c1 = Counter();\n",
    "c1['apples'] += 1\n",
    "c1['apples'] += 2\n",
    "c1['peaches'] += 10\n",
    "\n",
    "# Most Common Elements (sorted by `count`)\n",
    "ic(c1.most_common())\n",
    "\n",
    "# Counter Example\n",
    "c2 = Counter()\n",
    "lipsum = \"Un dos tres quatro sinco seis\"\n",
    "words = [w.strip(\".,\") for w in lipsum.lower().split(' ')]   \n",
    "for word in words:\n",
    "    c2[word]+=1\n",
    "\n",
    "ic(c2.most_common(2))\n",
    "\n",
    "# List\n",
    "ic(list(c2.elements()))\n",
    "\n",
    "# Unique Elements\n",
    "ic(list(c2))\n",
    "\n",
    "# Additoional methods\n",
    "c3 = Counter([\"dos\"])\n",
    "c3.update([\"dos\", \"tres\", \"sinco\", \"seis\", \"ocho\"])\n",
    "c3.subtract([\"ocho\"])\n",
    "ic(c3) "
   ]
  },
  {
   "cell_type": "markdown",
   "metadata": {
    "heading_collapsed": true,
    "hideCode": false,
    "hidePrompt": false
   },
   "source": [
    "### `collections.deque`"
   ]
  },
  {
   "cell_type": "code",
   "execution_count": 13,
   "metadata": {
    "ExecuteTime": {
     "end_time": "2019-03-03T15:18:24.136579Z",
     "start_time": "2019-03-03T15:18:24.049108Z"
    },
    "hidden": true,
    "hideCode": false,
    "hidePrompt": false
   },
   "outputs": [
    {
     "name": "stdout",
     "output_type": "stream",
     "text": [
      "ic> d: deque(['one', 'two', 'three'])\n",
      "ic> d: deque(['one', 'two', 'three', 'four'])\n",
      "ic> d: deque(['zero', 'one', 'two', 'three', 'four'])\n",
      "ic> d_poped: 'four'\n",
      "ic> d_popedleft: 'zero'\n",
      "ic> d: deque(['two', 'three', 'one'])\n"
     ]
    },
    {
     "data": {
      "text/plain": [
       "deque(['two', 'three', 'one'])"
      ]
     },
     "execution_count": 13,
     "metadata": {},
     "output_type": "execute_result"
    }
   ],
   "source": [
    "import collections \n",
    "\n",
    "d = collections.deque([\"one\", \"two\", \"three\"])\n",
    "ic(d)\n",
    "\n",
    "d.append(\"four\")\n",
    "ic(d)\n",
    "\n",
    "d.appendleft(\"zero\")\n",
    "ic(d)\n",
    "\n",
    "d_poped = d.pop()\n",
    "ic(d_poped)\n",
    "\n",
    "d_popedleft = d.popleft()\n",
    "ic(d_popedleft)\n",
    "\n",
    "# rotatiob\n",
    "d.rotate(2)\n",
    "ic(d)"
   ]
  },
  {
   "cell_type": "markdown",
   "metadata": {
    "hideCode": false,
    "hidePrompt": false
   },
   "source": [
    "### @`heapq`"
   ]
  },
  {
   "cell_type": "markdown",
   "metadata": {
    "hideCode": false,
    "hidePrompt": false
   },
   "source": [
    "### @`queue.PriorityQueue`"
   ]
  },
  {
   "cell_type": "markdown",
   "metadata": {
    "hideCode": false,
    "hidePrompt": false
   },
   "source": [
    "### @`queue.Queue`"
   ]
  },
  {
   "cell_type": "markdown",
   "metadata": {
    "hideCode": false,
    "hidePrompt": false
   },
   "source": [
    "### @`multiprocessing.Queue`"
   ]
  },
  {
   "cell_type": "code",
   "execution_count": null,
   "metadata": {
    "hideCode": false,
    "hidePrompt": false
   },
   "outputs": [],
   "source": []
  }
 ],
 "metadata": {
  "hide_code_all_hidden": false,
  "kernelspec": {
   "display_name": "Python 3",
   "language": "python",
   "name": "python3"
  },
  "language_info": {
   "codemirror_mode": {
    "name": "ipython",
    "version": 3
   },
   "file_extension": ".py",
   "mimetype": "text/x-python",
   "name": "python",
   "nbconvert_exporter": "python",
   "pygments_lexer": "ipython3",
   "version": "3.7.2"
  },
  "toc": {
   "base_numbering": 1,
   "nav_menu": {},
   "number_sections": true,
   "sideBar": true,
   "skip_h1_title": true,
   "title_cell": "Table of Contents",
   "title_sidebar": "Contents",
   "toc_cell": false,
   "toc_position": {},
   "toc_section_display": true,
   "toc_window_display": true
  }
 },
 "nbformat": 4,
 "nbformat_minor": 2
}
