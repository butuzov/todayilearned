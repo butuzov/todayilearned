{
 "cells": [
  {
   "cell_type": "markdown",
   "id": "16732761",
   "metadata": {},
   "source": [
    "# Reader Digest"
   ]
  },
  {
   "cell_type": "markdown",
   "id": "2e839588",
   "metadata": {},
   "source": [
    "### Resources"
   ]
  },
  {
   "cell_type": "markdown",
   "id": "76c6d6e9",
   "metadata": {},
   "source": [
    "### Books Reviews \n",
    "\n",
    "* https://bizikov.ru/tag/books/\n",
    "* https://www.samuelthomasdavies.com/book-summaries/alphabetical-order/"
   ]
  },
  {
   "cell_type": "markdown",
   "id": "a7e97d97",
   "metadata": {
    "ExecuteTime": {
     "end_time": "2021-06-04T02:54:04.238743Z",
     "start_time": "2021-06-04T02:54:04.227002Z"
    }
   },
   "source": [
    "## Reading List (recommended)\n",
    "\n",
    "* [ ] Designing Data-Intensive Applications [`site`](https://dataintensive.net/)\n",
    "* [ ] Managing Humans (planned)\n",
    "* [ ] Visual Studio Distilled (planned)\n",
    "* [ ] Distributed Services with Go (planed) [`pragprog`](https://pragprog.com/titles/tjgo/distributed-services-with-go/)\n",
    "* [ ] The Field Guide to Understanding 'Human Error' ([audio](https://www.audible.com/pd/The-Field-Guide-to-Understanding-Human-Error-Audiobook/B07CY7NN16))\n",
    "* [ ] Momory Craft ([audio](https://www.audible.com/pd/Memory-Craft-Audiobook/1528877411)) `memory` (recommeded via twitter by Damien Gurtsky)\n",
    "* [ ] [Punished by Rewards](https://www.alfiekohn.org/punished-rewards/) `motivation`, `productivity` (recomended via \"HOWTO: Be more productive\", by Aaron Swartz)"
   ]
  },
  {
   "cell_type": "markdown",
   "id": "d1adf5ce",
   "metadata": {},
   "source": [
    "## Currently Reading\n",
    "\n",
    "* `done` `unfinished` [Srart with why](https://www.amazon.com/Start-with-Why-Simon-Sinek-audiobook/dp/B074VF6ZLM)\n",
    "* `done` [The Mediocre Programmer](http://themediocreprogrammer.com/)"
   ]
  },
  {
   "cell_type": "markdown",
   "id": "6a0408fc",
   "metadata": {},
   "source": [
    "# TODO (Write Notes)"
   ]
  },
  {
   "cell_type": "markdown",
   "id": "fe0fbffe",
   "metadata": {},
   "source": [
    "### `The Mediocre Programmer`"
   ]
  },
  {
   "cell_type": "code",
   "execution_count": null,
   "id": "f03346e5",
   "metadata": {},
   "outputs": [],
   "source": []
  }
 ],
 "metadata": {
  "hide_input": false,
  "kernelspec": {
   "display_name": "Python 3",
   "language": "python",
   "name": "python3"
  },
  "language_info": {
   "codemirror_mode": {
    "name": "ipython",
    "version": 3
   },
   "file_extension": ".py",
   "mimetype": "text/x-python",
   "name": "python",
   "nbconvert_exporter": "python",
   "pygments_lexer": "ipython3",
   "version": "3.8.8"
  },
  "toc": {
   "base_numbering": 1,
   "nav_menu": {},
   "number_sections": false,
   "sideBar": true,
   "skip_h1_title": true,
   "title_cell": "Table of Contents",
   "title_sidebar": "Contents",
   "toc_cell": false,
   "toc_position": {},
   "toc_section_display": true,
   "toc_window_display": false
  }
 },
 "nbformat": 4,
 "nbformat_minor": 5
}
