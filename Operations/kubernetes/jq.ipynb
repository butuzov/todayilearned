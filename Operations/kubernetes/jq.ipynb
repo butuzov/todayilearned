{
 "cells": [
  {
   "cell_type": "markdown",
   "metadata": {},
   "source": [
    "# `jq`"
   ]
  },
  {
   "cell_type": "markdown",
   "metadata": {
    "ExecuteTime": {
     "end_time": "2019-11-05T10:09:02.042994Z",
     "start_time": "2019-11-05T10:09:02.036003Z"
    }
   },
   "source": [
    "* [Working with JSON in bash using `jq`](https://medium.com/cameron-nokes/working-with-json-in-bash-using-jq-13d76d307c4)\n",
    "* [Custom Functions](https://medium.com/google-cloud/kubernetes-engine-master-node-versions-b5ecd9ed0b35)"
   ]
  },
  {
   "cell_type": "markdown",
   "metadata": {},
   "source": [
    "### Functions"
   ]
  },
  {
   "cell_type": "markdown",
   "metadata": {},
   "source": [
    "```bash\n",
    "# get keys of the passed json, a, and b\n",
    "echo '{ \"a\": 1, \"b\": 2 }' | jq 'keys | .[]'\n",
    "\n",
    "# length of the object (3)\n",
    "echo '[1,2,3]' | jq 'length'\n",
    "```"
   ]
  },
  {
   "cell_type": "markdown",
   "metadata": {},
   "source": [
    "## General \n",
    "\n",
    "```\n",
    "# Grabbing Chack Noris Joke \n",
    "curl -LO http://api.icndb.com/jokes/random\n",
    "cp random randjoke.json\n",
    "\n",
    "# getting joke\n",
    "cat randjoke.json  | jq '.value.joke'\n",
    "\n",
    "# or reading file (not quoted)\n",
    "jq '.value.joke' -r randjoke.json\n",
    "```"
   ]
  },
  {
   "cell_type": "markdown",
   "metadata": {},
   "source": [
    "## General (kubernetes examples)\n",
    "\n",
    "```bash\n",
    "# initial\n",
    "k create deployment nginx --image=nginx --dry-run -o yaml | k create -f -\n",
    "k scale deployment nginx --replicas=4\n",
    "k get pods\n",
    "\n",
    "# k get pods -o json\n",
    "\n",
    "# how many pods do i have?\n",
    "k get pods -o json | jq '.items[]' | jq 'length'\n",
    "\n",
    "# output names\n",
    "k get pods -o json | jq '.items[].metadata.name'\n",
    "# output names as json list\n",
    "k get pods -o json | jq '[.items[].metadata.name]'\n",
    "# how many pods do i have?\n",
    "k get pods -o json | jq '[.items[].metadata.name]' | jq 'length'\n",
    "# less piping plese\n",
    "k get pods -o json | jq '[.items[].metadata.name] | length'\n",
    "\n",
    "# new json creation\n",
    "k get pods -o json | jq '{items:[{name:.items[].metadata.name, termination: .items[].spec.terminationGracePeriodSeconds}]}'\n",
    "\n",
    "# pre filtered\n",
    "k get pods -o json | jq '.items[] | {name:.metadata.name, termination: .spec.terminationGracePeriodSeconds}'\n",
    "# more filters (greater or equal then 30)\n",
    "k get pods -o json | jq '.items[] | {name:.metadata.name, termination: .spec.terminationGracePeriodSeconds} | select(.termination|tonumber >= 30)'\n",
    "# more filters (not null)\n",
    "k get pods -o json | jq '.items[] | {name:.metadata.name, termination: .spec.terminationGracePeriodSeconds} | select(.termination != null)'\n",
    "\n",
    "```"
   ]
  },
  {
   "cell_type": "markdown",
   "metadata": {},
   "source": [
    "### Accessing elements"
   ]
  },
  {
   "cell_type": "markdown",
   "metadata": {},
   "source": [
    "```bash\n",
    "# get the data\n",
    "curl 'http://stash.compciv.org/congress-twitter/json/nancy-pelosi.json' > test.json\n",
    "\n",
    "# all of that\n",
    "cat test.json | jq '.'\n",
    "cat test.json | jq '.name'\n",
    "cat test.json | jq '.name.last'\n",
    "\n",
    "# access to array data\n",
    "cat test.json | jq '.terms[].'\n",
    "cat test.json | jq '.terms[].state'\n",
    "#first.\n",
    "cat test.json | jq '.terms[0].state'\n",
    "# secodn from the end\n",
    "cat test.json | jq '.terms[-2].state'\n",
    "# last el\n",
    "cat test.json | jq '.terms[14].state'\n",
    "# null\n",
    "cat test.json | jq '.terms[19].state'\n",
    "```"
   ]
  },
  {
   "cell_type": "markdown",
   "metadata": {},
   "source": [
    "# output \n",
    "\n",
    "```\n",
    "cat test.json | jq --raw-output '.terms[14].state'\n",
    "```"
   ]
  },
  {
   "cell_type": "markdown",
   "metadata": {},
   "source": [
    "# unprocessed\n",
    "https://medium.com/free-code-camp/how-to-transform-json-to-csv-using-jq-in-the-command-line-4fa7939558bf"
   ]
  },
  {
   "cell_type": "code",
   "execution_count": null,
   "metadata": {},
   "outputs": [],
   "source": [
    "jq -r '(map(keys) | add | unique) as $cols | map(. as $row | $cols | map($row[.])) as $rows | $cols, $rows[] | @csv'"
   ]
  },
  {
   "cell_type": "code",
   "execution_count": 2,
   "metadata": {
    "ExecuteTime": {
     "end_time": "2019-11-05T10:53:34.374101Z",
     "start_time": "2019-11-05T10:53:34.368663Z"
    }
   },
   "outputs": [
    {
     "ename": "SyntaxError",
     "evalue": "invalid syntax (<ipython-input-2-4be1047b68ec>, line 1)",
     "output_type": "error",
     "traceback": [
      "\u001b[0;36m  File \u001b[0;32m\"<ipython-input-2-4be1047b68ec>\"\u001b[0;36m, line \u001b[0;32m1\u001b[0m\n\u001b[0;31m    jq -r '(map(keys) | add | unique) as $cols | map(. as $row | $cols | map($row[.])) as $rows | $cols, $rows[] | @csv'\u001b[0m\n\u001b[0m                                                                                                                       ^\u001b[0m\n\u001b[0;31mSyntaxError\u001b[0m\u001b[0;31m:\u001b[0m invalid syntax\n"
     ]
    }
   ],
   "source": [
    "jq -r '(map(keys) | add | unique) as $cols | map(. as $row | $cols | map($row[.])) as $rows | $cols, $rows[] | @csv'"
   ]
  },
  {
   "cell_type": "markdown",
   "metadata": {},
   "source": [
    "* https://stedolan.github.io/jq/\n",
    "* https://stedolan.github.io/jq/tutorial/"
   ]
  }
 ],
 "metadata": {
  "hide_input": false,
  "kernelspec": {
   "display_name": "Python 3",
   "language": "python",
   "name": "python3"
  },
  "language_info": {
   "codemirror_mode": {
    "name": "ipython",
    "version": 3
   },
   "file_extension": ".py",
   "mimetype": "text/x-python",
   "name": "python",
   "nbconvert_exporter": "python",
   "pygments_lexer": "ipython3",
   "version": "3.6.8"
  },
  "toc": {
   "base_numbering": 1,
   "nav_menu": {},
   "number_sections": false,
   "sideBar": true,
   "skip_h1_title": true,
   "title_cell": "Table of Contents",
   "title_sidebar": "Contents",
   "toc_cell": false,
   "toc_position": {},
   "toc_section_display": true,
   "toc_window_display": false
  }
 },
 "nbformat": 4,
 "nbformat_minor": 2
}
