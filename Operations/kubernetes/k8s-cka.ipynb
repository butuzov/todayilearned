{
 "cells": [
  {
   "cell_type": "markdown",
   "metadata": {},
   "source": [
    "# CKA Notes"
   ]
  },
  {
   "cell_type": "markdown",
   "metadata": {},
   "source": [
    "## Exam Experience"
   ]
  },
  {
   "cell_type": "markdown",
   "metadata": {},
   "source": [
    "* https://habr.com/ru/company/flant/blog/425683/\n",
    "* https://blog.heptio.com/93d20af32557"
   ]
  },
  {
   "cell_type": "markdown",
   "metadata": {},
   "source": [
    "## Resources"
   ]
  },
  {
   "cell_type": "markdown",
   "metadata": {},
   "source": [
    "* https://github.com/krzko/awesome-cka\n",
    "* Exam Overview + References: [walidshaari/Kubernetes-Certified-Administrator](https://github.com/walidshaari/Kubernetes-Certified-Administrator)\n",
    "* https://unofficial-kubernetes.readthedocs.io/en/latest\n",
    "* https://kubernetes.io/docs/reference/generated/kubectl/kubectl-commands\n",
    "* https://kubernetes.io/docs/reference/kubectl/cheatsheet/\n",
    "* (good) https://unofficialism.info/posts/unofficial-tips-for-cka-and-ckad-exams/"
   ]
  },
  {
   "cell_type": "markdown",
   "metadata": {},
   "source": [
    "## Practice Excercies"
   ]
  },
  {
   "cell_type": "markdown",
   "metadata": {},
   "source": [
    "* (vagrant) https://github.com/jecnua/certified-kubernetes-administrator-cka-kata\n",
    "* (good-1) https://github.com/stretchcloud/cka-lab-practice\n",
    "* (good-2) https://github.com/wonkarthik/k8s-questions\n",
    "* (good-3) https://github.com/dgkanatsios/CKAD-exercises\n",
    "\n",
    "* https://github.com/arush-sal/cka-practice-environment \n",
    "    * https://github.com/kubernauts/cka-practice-environment (`docker-compose`)\n",
    "    "
   ]
  },
  {
   "cell_type": "markdown",
   "metadata": {},
   "source": [
    "## Tips and Tricks"
   ]
  },
  {
   "cell_type": "markdown",
   "metadata": {},
   "source": [
    "* `k explain <pod>.<spec>`\n",
    "* Read - *Kubernetes the Hard Way*\n",
    "* `alias k=kubectl`\n",
    "* `complete -F __start_kubectl k`\n",
    "* Watch and track **time**\n",
    "* Watch and track **questions**\n",
    "* No Copy/Paste, **TYPE**"
   ]
  },
  {
   "cell_type": "markdown",
   "metadata": {},
   "source": [
    "### Getting Help\n",
    "\n",
    "* https://kubernetes.io/docs/\n",
    "* https://kubernetes.io/docs/reference/kubectl/cheatsheet/\n",
    "* or ask kubectl itself `kubectl explain <resource>.<key>`"
   ]
  },
  {
   "cell_type": "markdown",
   "metadata": {},
   "source": [
    "### Exam Topic - Core Concepts (Config) - `19%`"
   ]
  },
  {
   "cell_type": "markdown",
   "metadata": {},
   "source": [
    "```bash\n",
    "kubectl config view --minify\n",
    "```"
   ]
  },
  {
   "cell_type": "markdown",
   "metadata": {},
   "source": [
    "### Exam Topics - Installation, Configuration and Validation `12%`"
   ]
  },
  {
   "cell_type": "markdown",
   "metadata": {},
   "source": [
    "### Exam Topics - Security `12%`"
   ]
  },
  {
   "cell_type": "markdown",
   "metadata": {
    "ExecuteTime": {
     "end_time": "2019-12-05T21:06:32.076702Z",
     "start_time": "2019-12-05T21:06:32.072131Z"
    }
   },
   "source": [
    "```bash\n",
    "k get secret(s)\n",
    "k describe secrets default-token-59rrj\n",
    "k get secrets default-token-59rrj -o json | jq --row-output '.data\"ca.crt\"'\n",
    "```"
   ]
  },
  {
   "cell_type": "markdown",
   "metadata": {},
   "source": [
    "### Exam Topics - Networking `11%`"
   ]
  },
  {
   "cell_type": "markdown",
   "metadata": {},
   "source": [
    "* [CIRD change](https://capstonec.com/help-i-need-to-change-the-pod-cidr-in-my-kubernetes-cluster/)"
   ]
  },
  {
   "cell_type": "markdown",
   "metadata": {
    "ExecuteTime": {
     "end_time": "2019-11-12T13:38:17.724071Z",
     "start_time": "2019-11-12T13:38:17.718054Z"
    }
   },
   "source": [
    "```bash\n",
    "# route to pod\n",
    "k port-forward <pod> port\n",
    "curl localhost:port\n",
    "```"
   ]
  },
  {
   "cell_type": "markdown",
   "metadata": {},
   "source": [
    "### Exam Topics - Cluster Maintenance `11%`"
   ]
  },
  {
   "cell_type": "markdown",
   "metadata": {},
   "source": [
    "### Exam Topics - Troubleshooting `10%`"
   ]
  },
  {
   "cell_type": "markdown",
   "metadata": {},
   "source": [
    "### Exam Topics - Storage `7%`"
   ]
  },
  {
   "cell_type": "markdown",
   "metadata": {
    "ExecuteTime": {
     "end_time": "2019-11-05T18:52:21.264845Z",
     "start_time": "2019-11-05T18:52:21.260682Z"
    }
   },
   "source": [
    "### Exam Topics - Application Lifecycle Management `8%`"
   ]
  },
  {
   "cell_type": "markdown",
   "metadata": {
    "ExecuteTime": {
     "end_time": "2019-11-06T09:55:18.884561Z",
     "start_time": "2019-11-06T09:55:18.878056Z"
    }
   },
   "source": [
    "<div class=\"alert alert-warning\"><center>Practice Auto Scaling (vagrant)</center></div>\n",
    "\n",
    "https://kubernetes.io/docs/concepts/workloads/controllers/deployment/#scaling-a-deployment\n",
    "\n",
    "```bash\n",
    "# show the revisions history\n",
    "k rollout history deployment <deploymentName>  \n",
    "# show pod tempalte from the revision 2\n",
    "k rollout history deployment <deploymentName> --revision=2\n",
    "# check thee status\n",
    "k rollout status deployment <deploymentName>\n",
    "# undo previous deployment - will change only pod, not deployment stategy\n",
    "k rollout undo deployment <deploymentName>\n",
    "# undo to revision #2\n",
    "k rollout undo deployment <deploymentName> --to-revision=2\n",
    "```"
   ]
  },
  {
   "cell_type": "markdown",
   "metadata": {},
   "source": [
    "### Exam Topics - Scheduling `5%`"
   ]
  },
  {
   "cell_type": "markdown",
   "metadata": {},
   "source": [
    "### Exam Topics - Monitoring and Logging - `5%`"
   ]
  },
  {
   "cell_type": "markdown",
   "metadata": {},
   "source": [
    "```bash\n",
    "# after monitor resources deployed\n",
    "k top nodes\n",
    "k top pods\n",
    "\n",
    "# check logs\n",
    "k logs <pod>\n",
    "\n",
    "# container in pod \n",
    "k logs <pod> <container>\n",
    "k logs -f -c <container> <pod>\n",
    "k logs deployment/<deployment> -c <container>\n",
    "```"
   ]
  },
  {
   "cell_type": "markdown",
   "metadata": {},
   "source": [
    "## Exam"
   ]
  },
  {
   "cell_type": "markdown",
   "metadata": {},
   "source": [
    "* `kubeadm`\n",
    "* `systemd`"
   ]
  },
  {
   "cell_type": "markdown",
   "metadata": {},
   "source": [
    "### Real Exam Questions: Set 1\n",
    "\n",
    "https://docs.google.com/document/d/1AMVwvVabPoYt-o1k8Uo7UlmlfsjQKVHDhDyKP3QqbOM/edit"
   ]
  },
  {
   "cell_type": "markdown",
   "metadata": {},
   "source": [
    "\n",
    "1. Create a node that has a SSD and label it as such. \n",
    "  * Create a pod that is only scheduled on SSD nodes.\n",
    "1. Create 2 pod definitions: \n",
    "  * the second pod should be scheduled to run anywhere the first pod is running \n",
    "  * 2nd pod runs alongside the first pod\n",
    "  \n",
    "1. Create a deployment running nginx version 1.12.2 that will run in 2 pods\n",
    "  * Scale this to 4 pods.\n",
    "  * Scale it back to 2 pods.\n",
    "  * Upgrade this to 1.13.8\n",
    "  * Check the status of the upgrade\n",
    "  * How do you do this in a way that you can see history of what happened?\n",
    "  * Undo the upgrade\n",
    "1. Create a service that uses a scratch disk.\n",
    "  * Change the service to mount a disk from the host.\n",
    "  * Change the service to mount a persistent volume.\n",
    "1. Create a pod that has a liveness check\n",
    "1. Create a service that manually requires endpoint creation - and create that too\n",
    "1. Create a daemon set\n",
    "   * Change the update strategy to do a rolling update but delaying 30 seconds between pod updates\n",
    "1. Create a static pod\n",
    "1. Create a busybox container without a manifest. Then edit the manifest.\n",
    "1. Create a pod that uses secrets\n",
    "\ta. Pull secrets from environment variables\n",
    "\tb. Pull secrets from a volume\n",
    "\tc. Dump the secrets out via kubectl to show it worked\n",
    "1. Create a job that runs every 3 minutes and prints out the current time.\n",
    "1. Create a job that runs 20 times, 5 containers at a time, and prints \"Hello parallel world\"\n",
    "1. Create a service that uses an external load balancer and points to a 3 pod cluster running nginx.\n",
    "1. Create a horizontal autoscaling group that starts with 2 pods and scales when CPU usage is over 50%.\n",
    "1. Create a custom resource definition\n",
    "\ta. Display it in the API with curl\n",
    "1. Create a networking policy such that only pods with the label access=granted can talk to it.\n",
    "  * Create an nginx pod and attach this policy to it. \n",
    "  * Create a busybox pod and attempt to talk to nginx - should be blocked\n",
    "  * Attach the label to busybox and try again - should be allowed\n",
    "1. Create a service that references an externalname.\n",
    "  * Test that this works from another pod\n",
    "1. Create a pod that runs all processes as user 1000.\n",
    "1. Create a namespace\n",
    "  * Run a pod in the new namespace\n",
    "  * Put memory limits on the namespace\n",
    "  * Limit pods to 2 persistent volumes in this namespace\n",
    "1. Write an ingress rule that redirects calls to /foo to one service and to /bar to another\n",
    "1. Write a service that exposes nginx on a nodeport\n",
    "\t* Change it to use a cluster port\n",
    "\t* Scale the service\n",
    "\t* Change it to use an external IP\n",
    "\t* Change it to use a load balancer\n",
    "1. Deploy nginx with 3 replicas and then expose a port\n",
    "\ta. Use port forwarding to talk to a specific port\n",
    "    \n",
    "1. Make an API call using CURL and proper certs\n",
    "1. Upgrade a cluster with kubeadm\n",
    "1. Get logs for a pod\n",
    "1. Deploy a pod with the wrong image name (like --image=nginy) and find the error message.\n",
    "1. Get logs for kubectl\n",
    "1. Get logs for the scheduler\n",
    "1. Restart kubelet\n",
    "   ```bash\n",
    "   systemctl stop kubelet.service\n",
    "   systemctl start kubelet.service\n",
    "   # or   \n",
    "   systemctl restart kubelet.service\n",
    "   ```\n",
    "\n",
    "**Non-K8S**\n",
    "1. Convert a CRT to a PEM\n",
    "\ta. Convert it back\n",
    "1. Backup an etcd cluster\n",
    "1. List the members of an etcd cluster\n",
    "1. Find the health of etcd\n"
   ]
  },
  {
   "cell_type": "markdown",
   "metadata": {},
   "source": [
    "### Questions (3) - Set of 3 Questions"
   ]
  },
  {
   "cell_type": "markdown",
   "metadata": {},
   "source": [
    "1. сертификаты протухли вчера\n",
    "2. сделать снапшот etcd и откатится до него на 3ъ машинах\n",
    "3. есть кластер из 3ъ машин, 2 умерли, привезли 2 новых - восстановить кластер до 3х машин"
   ]
  },
  {
   "cell_type": "markdown",
   "metadata": {},
   "source": [
    "# Problems Already"
   ]
  },
  {
   "cell_type": "markdown",
   "metadata": {},
   "source": [
    "* metrics-server deployment - `CreateContainerConfigError` [link](https://stackoverflow.com/questions/50424754/pod-status-as-createcontainerconfigerror-in-minikube-cluster) + `Error: container has runAsNonRoot and image will run as root`"
   ]
  },
  {
   "cell_type": "code",
   "execution_count": null,
   "metadata": {},
   "outputs": [],
   "source": []
  },
  {
   "cell_type": "code",
   "execution_count": null,
   "metadata": {},
   "outputs": [],
   "source": []
  }
 ],
 "metadata": {
  "hide_input": false,
  "kernelspec": {
   "display_name": "Python 3",
   "language": "python",
   "name": "python3"
  },
  "language_info": {
   "codemirror_mode": {
    "name": "ipython",
    "version": 3
   },
   "file_extension": ".py",
   "mimetype": "text/x-python",
   "name": "python",
   "nbconvert_exporter": "python",
   "pygments_lexer": "ipython3",
   "version": "3.7.5"
  },
  "toc": {
   "base_numbering": 1,
   "nav_menu": {},
   "number_sections": false,
   "sideBar": true,
   "skip_h1_title": true,
   "title_cell": "Table of Contents",
   "title_sidebar": "Contents",
   "toc_cell": false,
   "toc_position": {},
   "toc_section_display": true,
   "toc_window_display": false
  }
 },
 "nbformat": 4,
 "nbformat_minor": 2
}
